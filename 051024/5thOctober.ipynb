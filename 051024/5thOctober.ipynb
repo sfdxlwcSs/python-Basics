{
 "cells": [
  {
   "cell_type": "markdown",
   "id": "67d51985-ea3b-46a1-9dd9-12d102a60886",
   "metadata": {},
   "source": [
    "Todays code"
   ]
  },
  {
   "cell_type": "raw",
   "id": "1e6b2831-8550-41bc-bed1-7365ad8ab184",
   "metadata": {},
   "source": [
    "print(a) #RAW Example"
   ]
  },
  {
   "cell_type": "code",
   "execution_count": 1,
   "id": "6d90d637-0b7b-4e3b-8cd0-c673a184b07f",
   "metadata": {},
   "outputs": [
    {
     "name": "stdout",
     "output_type": "stream",
     "text": [
      "<class 'int'>\n"
     ]
    }
   ],
   "source": [
    "a=6\n",
    "print(type(a))"
   ]
  },
  {
   "cell_type": "code",
   "execution_count": 2,
   "id": "378f529c-6eac-448d-a709-598c51deb76b",
   "metadata": {},
   "outputs": [
    {
     "data": {
      "text/plain": [
       "1"
      ]
     },
     "execution_count": 2,
     "metadata": {},
     "output_type": "execute_result"
    }
   ],
   "source": [
    "x=1\n",
    "x"
   ]
  },
  {
   "cell_type": "code",
   "execution_count": 3,
   "id": "7f36a66d-500a-469e-b3ec-22e8d2e9b65a",
   "metadata": {},
   "outputs": [
    {
     "data": {
      "text/plain": [
       "int"
      ]
     },
     "execution_count": 3,
     "metadata": {},
     "output_type": "execute_result"
    }
   ],
   "source": [
    "type(x\n",
    "    )"
   ]
  },
  {
   "cell_type": "code",
   "execution_count": 5,
   "id": "1053e86e-71ff-4646-aa1e-649ca973b334",
   "metadata": {},
   "outputs": [
    {
     "data": {
      "text/plain": [
       "str"
      ]
     },
     "execution_count": 5,
     "metadata": {},
     "output_type": "execute_result"
    }
   ],
   "source": [
    "x=str(x)\n",
    "type(x)"
   ]
  },
  {
   "cell_type": "code",
   "execution_count": 6,
   "id": "014b7445-f483-4a71-ae22-6c284f34d520",
   "metadata": {},
   "outputs": [
    {
     "data": {
      "text/plain": [
       "'1'"
      ]
     },
     "execution_count": 6,
     "metadata": {},
     "output_type": "execute_result"
    }
   ],
   "source": [
    "x"
   ]
  },
  {
   "cell_type": "code",
   "execution_count": 7,
   "id": "f0f6256f-5817-443f-9e40-ae862b42a5eb",
   "metadata": {},
   "outputs": [
    {
     "name": "stdout",
     "output_type": "stream",
     "text": [
      "<class 'float'>\n"
     ]
    }
   ],
   "source": [
    "b=5.5\n",
    "c=a+b\n",
    "print(type(c))"
   ]
  },
  {
   "cell_type": "code",
   "execution_count": 8,
   "id": "b025bdff-f8ca-427e-88ee-2015d5e9260e",
   "metadata": {},
   "outputs": [
    {
     "ename": "TypeError",
     "evalue": "unsupported operand type(s) for +: 'float' and 'str'",
     "output_type": "error",
     "traceback": [
      "\u001b[1;31m---------------------------------------------------------------------------\u001b[0m",
      "\u001b[1;31mTypeError\u001b[0m                                 Traceback (most recent call last)",
      "Cell \u001b[1;32mIn[8], line 1\u001b[0m\n\u001b[1;32m----> 1\u001b[0m c\u001b[38;5;241m+\u001b[39mx\n",
      "\u001b[1;31mTypeError\u001b[0m: unsupported operand type(s) for +: 'float' and 'str'"
     ]
    }
   ],
   "source": [
    "c+x"
   ]
  },
  {
   "cell_type": "code",
   "execution_count": 9,
   "id": "fa6a135c-d103-4a78-a1d0-983c164ab4dc",
   "metadata": {},
   "outputs": [
    {
     "data": {
      "text/plain": [
       "12.5"
      ]
     },
     "execution_count": 9,
     "metadata": {},
     "output_type": "execute_result"
    }
   ],
   "source": [
    "c+int(x)"
   ]
  },
  {
   "cell_type": "code",
   "execution_count": 10,
   "id": "1e0d3269-ea91-40d3-b785-f1fecfa5aed8",
   "metadata": {},
   "outputs": [
    {
     "data": {
      "text/plain": [
       "float"
      ]
     },
     "execution_count": 10,
     "metadata": {},
     "output_type": "execute_result"
    }
   ],
   "source": [
    "type(c+int(x)\n",
    "    )"
   ]
  },
  {
   "cell_type": "code",
   "execution_count": 11,
   "id": "451398c2-80ee-4429-b8ba-a927a62662f7",
   "metadata": {},
   "outputs": [
    {
     "data": {
      "text/plain": [
       "16.5"
      ]
     },
     "execution_count": 11,
     "metadata": {},
     "output_type": "execute_result"
    }
   ],
   "source": [
    "x=5 #it always calls the latest value\n",
    "c+x"
   ]
  },
  {
   "cell_type": "code",
   "execution_count": 12,
   "id": "38ef766d-a530-4db2-a70f-89e71791542b",
   "metadata": {},
   "outputs": [
    {
     "data": {
      "text/plain": [
       "16"
      ]
     },
     "execution_count": 12,
     "metadata": {},
     "output_type": "execute_result"
    }
   ],
   "source": [
    "int(c+x)"
   ]
  },
  {
   "cell_type": "markdown",
   "id": "ad4973f1-3829-4385-85b0-0f08fe6b440a",
   "metadata": {},
   "source": [
    "⬆so it trims anything after .  "
   ]
  },
  {
   "cell_type": "code",
   "execution_count": 13,
   "id": "897bcc76-4c8d-4816-8740-9a95a7d221e6",
   "metadata": {},
   "outputs": [
    {
     "ename": "ValueError",
     "evalue": "invalid literal for int() with base 10: '10.5'",
     "output_type": "error",
     "traceback": [
      "\u001b[1;31m---------------------------------------------------------------------------\u001b[0m",
      "\u001b[1;31mValueError\u001b[0m                                Traceback (most recent call last)",
      "Cell \u001b[1;32mIn[13], line 2\u001b[0m\n\u001b[0;32m      1\u001b[0m y\u001b[38;5;241m=\u001b[39m\u001b[38;5;124m'\u001b[39m\u001b[38;5;124m10.5\u001b[39m\u001b[38;5;124m'\u001b[39m\n\u001b[1;32m----> 2\u001b[0m \u001b[38;5;28mint\u001b[39m(y)\n",
      "\u001b[1;31mValueError\u001b[0m: invalid literal for int() with base 10: '10.5'"
     ]
    }
   ],
   "source": [
    "y='10.5'\n",
    "int(y)"
   ]
  },
  {
   "cell_type": "code",
   "execution_count": 14,
   "id": "0d459357-887f-469a-8558-2be05a2a5838",
   "metadata": {},
   "outputs": [
    {
     "name": "stdout",
     "output_type": "stream",
     "text": [
      "6 5.5 11.5 5 10.5\n"
     ]
    }
   ],
   "source": [
    "print(a,b,c,x,y)"
   ]
  },
  {
   "cell_type": "code",
   "execution_count": 16,
   "id": "e72dc084-4fca-494f-97f3-a1c8149079a0",
   "metadata": {},
   "outputs": [
    {
     "name": "stdout",
     "output_type": "stream",
     "text": [
      "A 6 B 5.5 11.5 5 10.5\n"
     ]
    }
   ],
   "source": [
    "print('A',a,'B',b,c,x,y)"
   ]
  },
  {
   "cell_type": "code",
   "execution_count": 18,
   "id": "d165b67c-555f-42b2-858d-5347846e55c1",
   "metadata": {},
   "outputs": [
    {
     "name": "stdout",
     "output_type": "stream",
     "text": [
      " Hi how do you\n",
      "do .I am doing fine\n",
      "ok\n",
      "\n"
     ]
    }
   ],
   "source": [
    "p1=\"\"\" Hi how do you\n",
    "do .I am doing fine\n",
    "ok\n",
    "\"\"\"\n",
    "print(p1)"
   ]
  },
  {
   "cell_type": "code",
   "execution_count": null,
   "id": "2f411ddc-2c36-4d55-b09a-f331c749e414",
   "metadata": {},
   "outputs": [],
   "source": [
    "p1=\"nSE\"\n",
    "\"\"\" Hi how do you\n",
    "do .I am doing fine\n",
    "ok\n",
    "\"\"\"\n",
    "print(p1)"
   ]
  },
  {
   "cell_type": "code",
   "execution_count": 19,
   "id": "aa1c7e04-2593-430b-a832-5280cc35057f",
   "metadata": {},
   "outputs": [
    {
     "name": "stdin",
     "output_type": "stream",
     "text": [
      " Somnath\n"
     ]
    },
    {
     "name": "stdout",
     "output_type": "stream",
     "text": [
      "my nameSomnath\n"
     ]
    }
   ],
   "source": [
    "print('my name'+input())"
   ]
  },
  {
   "cell_type": "code",
   "execution_count": 20,
   "id": "9524a365-c309-4fc0-963d-f1059a521f38",
   "metadata": {},
   "outputs": [
    {
     "name": "stdin",
     "output_type": "stream",
     "text": [
      " Somnath\n"
     ]
    },
    {
     "name": "stdout",
     "output_type": "stream",
     "text": [
      "my name Somnath\n"
     ]
    }
   ],
   "source": [
    "print('my name',\n",
    "      input()) #observe the space as a result of comma"
   ]
  },
  {
   "cell_type": "code",
   "execution_count": 22,
   "id": "1cf7196e-40d7-4d38-b457-d7f27b9fd7e9",
   "metadata": {},
   "outputs": [
    {
     "name": "stdout",
     "output_type": "stream",
     "text": [
      "My var is 6 and other is 5.5\n"
     ]
    }
   ],
   "source": [
    "print('My var is {} and other is {}'.format(a,b))"
   ]
  },
  {
   "cell_type": "code",
   "execution_count": 23,
   "id": "6307031c-65f6-4786-9f9f-83aa90b78063",
   "metadata": {},
   "outputs": [
    {
     "name": "stdout",
     "output_type": "stream",
     "text": [
      "My var is 5.5 and other is 6\n"
     ]
    }
   ],
   "source": [
    "#sequence matters\n",
    "print('My var is {} and other is {}'.format(b,a\n",
    "                                           ))"
   ]
  },
  {
   "cell_type": "code",
   "execution_count": 24,
   "id": "86c5d33d-97eb-4841-ae9e-fdb46a77bd38",
   "metadata": {},
   "outputs": [
    {
     "name": "stdout",
     "output_type": "stream",
     "text": [
      "My var is 5.5 and other is 6\n"
     ]
    }
   ],
   "source": [
    "print('My var is {1} and other is {0}'.format(a,b\n",
    "                                           )) #observe the difference as a result of indices"
   ]
  },
  {
   "cell_type": "code",
   "execution_count": 26,
   "id": "df026f51-f0a4-4f9e-a4f5-870b60d5a0ff",
   "metadata": {},
   "outputs": [
    {
     "name": "stdout",
     "output_type": "stream",
     "text": [
      "My var is \n",
      "11.5 \n"
     ]
    }
   ],
   "source": [
    "print('My var is \\n{} '.format(a+b)) #to print the output on the next line in Python,"
   ]
  },
  {
   "cell_type": "code",
   "execution_count": 27,
   "id": "56a836b2-0519-4d45-9cf8-813c0f509359",
   "metadata": {},
   "outputs": [
    {
     "name": "stdout",
     "output_type": "stream",
     "text": [
      "6#5.5#11.5\n"
     ]
    }
   ],
   "source": [
    "print(a,b,c,sep='#')"
   ]
  },
  {
   "cell_type": "raw",
   "id": "4c6bdb19-c05e-4512-a134-cbae190a5044",
   "metadata": {},
   "source": [
    "Operators in Python"
   ]
  },
  {
   "cell_type": "code",
   "execution_count": 28,
   "id": "66729ddf-e56b-4d63-9e85-2121c47eeb45",
   "metadata": {},
   "outputs": [
    {
     "data": {
      "text/plain": [
       "19047.232239881992"
      ]
     },
     "execution_count": 28,
     "metadata": {},
     "output_type": "execute_result"
    }
   ],
   "source": [
    "a**b #a to the power of b "
   ]
  },
  {
   "cell_type": "code",
   "execution_count": 29,
   "id": "a5947112-f3a8-4ab9-a8de-5c256bc48ac0",
   "metadata": {},
   "outputs": [
    {
     "data": {
      "text/plain": [
       "1.0"
      ]
     },
     "execution_count": 29,
     "metadata": {},
     "output_type": "execute_result"
    }
   ],
   "source": [
    "a//b"
   ]
  },
  {
   "cell_type": "code",
   "execution_count": 30,
   "id": "a30d7785-fb36-4db8-afc0-30e14f58cfd2",
   "metadata": {},
   "outputs": [
    {
     "data": {
      "text/plain": [
       "1.0909090909090908"
      ]
     },
     "execution_count": 30,
     "metadata": {},
     "output_type": "execute_result"
    }
   ],
   "source": [
    "a/b"
   ]
  },
  {
   "cell_type": "code",
   "execution_count": 31,
   "id": "eb3028fa-7dc9-4579-ba13-2f1ffae4209d",
   "metadata": {},
   "outputs": [
    {
     "data": {
      "text/plain": [
       "(6, 5.5)"
      ]
     },
     "execution_count": 31,
     "metadata": {},
     "output_type": "execute_result"
    }
   ],
   "source": [
    "a,b"
   ]
  },
  {
   "cell_type": "code",
   "execution_count": 32,
   "id": "cd2bc1f0-0862-4d93-a370-512a5dedd986",
   "metadata": {},
   "outputs": [
    {
     "data": {
      "text/plain": [
       "0"
      ]
     },
     "execution_count": 32,
     "metadata": {},
     "output_type": "execute_result"
    }
   ],
   "source": [
    "6%2"
   ]
  },
  {
   "cell_type": "code",
   "execution_count": 33,
   "id": "d7017d16-a6ff-461e-868b-6c193f8a1e38",
   "metadata": {},
   "outputs": [
    {
     "data": {
      "text/plain": [
       "25"
      ]
     },
     "execution_count": 33,
     "metadata": {},
     "output_type": "execute_result"
    }
   ],
   "source": [
    "5**2\n"
   ]
  },
  {
   "cell_type": "code",
   "execution_count": 35,
   "id": "eaaf429b-4e97-498a-bf67-8b2f47519d8c",
   "metadata": {},
   "outputs": [
    {
     "name": "stdin",
     "output_type": "stream",
     "text": [
      "enter a value 2\n"
     ]
    }
   ],
   "source": [
    "q=int(input('enter a value'))\n",
    "w=q**2"
   ]
  },
  {
   "cell_type": "code",
   "execution_count": 36,
   "id": "198f5cb0-38b6-4a17-84f0-0677aae11580",
   "metadata": {},
   "outputs": [
    {
     "data": {
      "text/plain": [
       "4"
      ]
     },
     "execution_count": 36,
     "metadata": {},
     "output_type": "execute_result"
    }
   ],
   "source": [
    "w"
   ]
  },
  {
   "cell_type": "code",
   "execution_count": 38,
   "id": "4ffe8a79-b70d-4616-b507-5dcfe2722025",
   "metadata": {},
   "outputs": [
    {
     "data": {
      "text/plain": [
       "100.68"
      ]
     },
     "execution_count": 38,
     "metadata": {},
     "output_type": "execute_result"
    }
   ],
   "source": [
    "a=100.6789\n",
    "round(a,2)"
   ]
  },
  {
   "cell_type": "raw",
   "id": "9c832462-d784-4f8e-9cc4-ddcd82515ba7",
   "metadata": {},
   "source": [
    "Memebership operators"
   ]
  },
  {
   "cell_type": "code",
   "execution_count": 40,
   "id": "35a74743-7eb5-41d1-86fe-935289b317cd",
   "metadata": {},
   "outputs": [
    {
     "name": "stdout",
     "output_type": "stream",
     "text": [
      "2 is present in the tuple.\n"
     ]
    }
   ],
   "source": [
    "a_tuple=(1,2,3,4)\n",
    "value_to_check = 2\n",
    "\n",
    "if value_to_check in a_tuple:\n",
    "    print(f\"{value_to_check} is present in the tuple.\")\n",
    "else:\n",
    "    print(f\"{value_to_check} is not present in the tuple.\")\n"
   ]
  },
  {
   "cell_type": "code",
   "execution_count": 45,
   "id": "fa740cae-ea4f-4885-bd62-8f2775269717",
   "metadata": {},
   "outputs": [
    {
     "name": "stdout",
     "output_type": "stream",
     "text": [
      "True\n",
      "True\n",
      "False\n"
     ]
    }
   ],
   "source": [
    "s='OM Sai'\n",
    "s2='O'\n",
    "print('OM' in s)\n",
    "print(s2 in s)\n",
    "print('Om' in s)# case sensitive"
   ]
  },
  {
   "cell_type": "code",
   "execution_count": 46,
   "id": "2fd66acd-6009-4db6-9d1b-11e5d265c6aa",
   "metadata": {},
   "outputs": [],
   "source": [
    "#bitwise operator\n",
    "a1=7\n",
    "b2=4"
   ]
  },
  {
   "cell_type": "code",
   "execution_count": 47,
   "id": "ade4d748-3483-4f23-9c74-6e32391ddfff",
   "metadata": {},
   "outputs": [
    {
     "data": {
      "text/plain": [
       "4"
      ]
     },
     "execution_count": 47,
     "metadata": {},
     "output_type": "execute_result"
    }
   ],
   "source": [
    "a1&b2"
   ]
  },
  {
   "cell_type": "code",
   "execution_count": 48,
   "id": "57d00311-613d-4545-b4d8-ee178257797e",
   "metadata": {},
   "outputs": [
    {
     "data": {
      "text/plain": [
       "7"
      ]
     },
     "execution_count": 48,
     "metadata": {},
     "output_type": "execute_result"
    }
   ],
   "source": [
    "a1|b2"
   ]
  },
  {
   "cell_type": "code",
   "execution_count": 49,
   "id": "b0b2348d-9117-4340-83fb-5a39cf309cc8",
   "metadata": {},
   "outputs": [
    {
     "data": {
      "text/plain": [
       "'S'"
      ]
     },
     "execution_count": 49,
     "metadata": {},
     "output_type": "execute_result"
    }
   ],
   "source": [
    "a2='Somnath Sharma'\n",
    "a2[0]"
   ]
  },
  {
   "cell_type": "code",
   "execution_count": 51,
   "id": "29a45ed5-87d6-4f0d-9e9c-6123022b4538",
   "metadata": {},
   "outputs": [],
   "source": [
    "#Operator Precendence BODMAS  (*/,+-) LHS to RHS\n",
    "\n"
   ]
  },
  {
   "cell_type": "code",
   "execution_count": 53,
   "id": "13d86688-f492-4baf-8f25-7cf005d0eef3",
   "metadata": {},
   "outputs": [
    {
     "data": {
      "text/plain": [
       "True"
      ]
     },
     "execution_count": 53,
     "metadata": {},
     "output_type": "execute_result"
    }
   ],
   "source": [
    "x1=True\n",
    "y1=True\n",
    "x1 and y1"
   ]
  },
  {
   "cell_type": "code",
   "execution_count": 54,
   "id": "6f9caad0-3914-4cc6-8a72-76a65042abb7",
   "metadata": {},
   "outputs": [
    {
     "data": {
      "text/plain": [
       "False"
      ]
     },
     "execution_count": 54,
     "metadata": {},
     "output_type": "execute_result"
    }
   ],
   "source": [
    "g=10\n",
    "h=5\n",
    "(g>h) and (g<h)"
   ]
  },
  {
   "cell_type": "code",
   "execution_count": 55,
   "id": "2e7d9973-2547-42f3-82b8-40e06d98fb31",
   "metadata": {},
   "outputs": [
    {
     "data": {
      "text/plain": [
       "True"
      ]
     },
     "execution_count": 55,
     "metadata": {},
     "output_type": "execute_result"
    }
   ],
   "source": [
    "(g>h) and not(g<h)"
   ]
  },
  {
   "cell_type": "code",
   "execution_count": 65,
   "id": "c4c8deac-aa0d-403b-b5a8-7d6ae3ff6186",
   "metadata": {},
   "outputs": [],
   "source": [
    "text='****Hi *Somnath**' #The strip() method in Python is used to remove leading and trailing characters from a string.\n",
    "text=text.strip('*')"
   ]
  },
  {
   "cell_type": "code",
   "execution_count": 66,
   "id": "8f4c11dd-21cc-458e-be7c-dc7c77a91cc7",
   "metadata": {},
   "outputs": [
    {
     "data": {
      "text/plain": [
       "'Hi *Somnath'"
      ]
     },
     "execution_count": 66,
     "metadata": {},
     "output_type": "execute_result"
    }
   ],
   "source": [
    "text"
   ]
  },
  {
   "cell_type": "code",
   "execution_count": 63,
   "id": "d874ec0a-77c3-401d-a47c-a50c1b77bf19",
   "metadata": {},
   "outputs": [],
   "source": [
    "n=text.split()"
   ]
  },
  {
   "cell_type": "code",
   "execution_count": 62,
   "id": "7d7584e8-da0d-422d-bd23-329cf2ce081c",
   "metadata": {},
   "outputs": [
    {
     "data": {
      "text/plain": [
       "'H*i* *S*o*m*n*a*t*h'"
      ]
     },
     "execution_count": 62,
     "metadata": {},
     "output_type": "execute_result"
    }
   ],
   "source": [
    "'*'.join(text)"
   ]
  },
  {
   "cell_type": "code",
   "execution_count": 67,
   "id": "98fbff5e-dce7-4b9d-b34c-a680b9d1f7e2",
   "metadata": {},
   "outputs": [
    {
     "data": {
      "text/plain": [
       "'Hi*Somnath'"
      ]
     },
     "execution_count": 67,
     "metadata": {},
     "output_type": "execute_result"
    }
   ],
   "source": [
    "'*'.join(n)"
   ]
  },
  {
   "cell_type": "code",
   "execution_count": 68,
   "id": "4fc6ed10-5425-454b-8a42-bee0ce1ba555",
   "metadata": {},
   "outputs": [
    {
     "data": {
      "text/plain": [
       "11"
      ]
     },
     "execution_count": 68,
     "metadata": {},
     "output_type": "execute_result"
    }
   ],
   "source": [
    "len(text)"
   ]
  },
  {
   "cell_type": "code",
   "execution_count": 69,
   "id": "b2c6157a-f7ab-4a93-986b-52ac09726326",
   "metadata": {},
   "outputs": [
    {
     "data": {
      "text/plain": [
       "'*Somnath'"
      ]
     },
     "execution_count": 69,
     "metadata": {},
     "output_type": "execute_result"
    }
   ],
   "source": [
    "text[3:]"
   ]
  },
  {
   "cell_type": "code",
   "execution_count": 71,
   "id": "96877745-67e9-4a06-8119-bdb58d873c88",
   "metadata": {},
   "outputs": [
    {
     "data": {
      "text/plain": [
       "'*o'"
      ]
     },
     "execution_count": 71,
     "metadata": {},
     "output_type": "execute_result"
    }
   ],
   "source": [
    "text[3:7:2]"
   ]
  },
  {
   "cell_type": "code",
   "execution_count": 72,
   "id": "53e7bc1e-2f62-4af2-977c-fc6ccbf6089f",
   "metadata": {},
   "outputs": [
    {
     "data": {
      "text/plain": [
       "'*Som'"
      ]
     },
     "execution_count": 72,
     "metadata": {},
     "output_type": "execute_result"
    }
   ],
   "source": [
    "text[3:7]"
   ]
  },
  {
   "cell_type": "code",
   "execution_count": 73,
   "id": "dc0d763d-9fcc-493b-aed1-029fd5ab6e6e",
   "metadata": {},
   "outputs": [
    {
     "data": {
      "text/plain": [
       "'Hi *Somnath'"
      ]
     },
     "execution_count": 73,
     "metadata": {},
     "output_type": "execute_result"
    }
   ],
   "source": [
    "text[:\n",
    "]"
   ]
  },
  {
   "cell_type": "code",
   "execution_count": 75,
   "id": "fa8f0780-437e-4cc3-8797-c3706156165b",
   "metadata": {},
   "outputs": [
    {
     "data": {
      "text/plain": [
       "'htanmoS* iH'"
      ]
     },
     "execution_count": 75,
     "metadata": {},
     "output_type": "execute_result"
    }
   ],
   "source": [
    "text[::-1] ##reverse"
   ]
  },
  {
   "cell_type": "code",
   "execution_count": 76,
   "id": "cd13c1cb-acaf-43b8-b00b-65af71675ee4",
   "metadata": {},
   "outputs": [
    {
     "data": {
      "text/plain": [
       "'H Smah'"
      ]
     },
     "execution_count": 76,
     "metadata": {},
     "output_type": "execute_result"
    }
   ],
   "source": [
    "text[::2\n",
    "]"
   ]
  },
  {
   "cell_type": "code",
   "execution_count": 79,
   "id": "21442952-5db6-4ed0-a0f2-7f4e490807db",
   "metadata": {},
   "outputs": [
    {
     "data": {
      "text/plain": [
       "''"
      ]
     },
     "execution_count": 79,
     "metadata": {},
     "output_type": "execute_result"
    }
   ],
   "source": [
    "text[-1:-5] #Since -1 is greater than -5, and the default step is 1, the slice will not include any characters, resulting in an empty string."
   ]
  },
  {
   "cell_type": "code",
   "execution_count": 80,
   "id": "b96d9636-276b-45e7-8e32-726980ac3ba1",
   "metadata": {},
   "outputs": [
    {
     "data": {
      "text/plain": [
       "'htan'"
      ]
     },
     "execution_count": 80,
     "metadata": {},
     "output_type": "execute_result"
    }
   ],
   "source": [
    "text[-1:-5:-1]"
   ]
  },
  {
   "cell_type": "code",
   "execution_count": 81,
   "id": "989396f6-d0db-4e2d-ae6e-34d63c0e9aa1",
   "metadata": {},
   "outputs": [
    {
     "data": {
      "text/plain": [
       "'tan'"
      ]
     },
     "execution_count": 81,
     "metadata": {},
     "output_type": "execute_result"
    }
   ],
   "source": [
    "text[-1:-5:-1][1:5]"
   ]
  },
  {
   "cell_type": "code",
   "execution_count": null,
   "id": "a3b724b8-5710-4f2b-8daa-24c2f220bac5",
   "metadata": {},
   "outputs": [],
   "source": []
  },
  {
   "cell_type": "code",
   "execution_count": null,
   "id": "48993dee-e471-4c74-bbd4-67661684e729",
   "metadata": {},
   "outputs": [],
   "source": []
  },
  {
   "cell_type": "code",
   "execution_count": null,
   "id": "cee29168-ab7c-458b-b1bc-73498d36ce14",
   "metadata": {},
   "outputs": [],
   "source": []
  },
  {
   "cell_type": "code",
   "execution_count": null,
   "id": "85eb86d7-df72-4a25-8675-91abce4a61ac",
   "metadata": {},
   "outputs": [],
   "source": []
  },
  {
   "cell_type": "code",
   "execution_count": null,
   "id": "095dbb5f-3903-4c4d-8826-ab92594ae7ed",
   "metadata": {},
   "outputs": [],
   "source": []
  },
  {
   "cell_type": "code",
   "execution_count": null,
   "id": "27ff0a73-6957-42d2-8b47-8d0cdbc521b0",
   "metadata": {},
   "outputs": [],
   "source": []
  },
  {
   "cell_type": "code",
   "execution_count": null,
   "id": "334145d6-c1fa-42d9-8eb1-15c039eeafea",
   "metadata": {},
   "outputs": [],
   "source": []
  },
  {
   "cell_type": "code",
   "execution_count": null,
   "id": "238a5471-7815-4701-8689-60f3f14a0951",
   "metadata": {},
   "outputs": [],
   "source": []
  },
  {
   "cell_type": "code",
   "execution_count": null,
   "id": "a1911893-0aa1-46fd-a1a1-6bfdbe038a51",
   "metadata": {},
   "outputs": [],
   "source": []
  },
  {
   "cell_type": "code",
   "execution_count": null,
   "id": "f8748239-94f6-4f30-895e-38fd54d8afbb",
   "metadata": {},
   "outputs": [],
   "source": []
  },
  {
   "cell_type": "code",
   "execution_count": null,
   "id": "02a7738e-eb45-44c9-a26b-fa6011bcb15d",
   "metadata": {},
   "outputs": [],
   "source": []
  },
  {
   "cell_type": "code",
   "execution_count": null,
   "id": "d2733dd9-626f-4e86-b268-1c441ee30867",
   "metadata": {},
   "outputs": [],
   "source": []
  },
  {
   "cell_type": "code",
   "execution_count": null,
   "id": "ceaa5543-4529-4406-9815-9c6f4a20bfe6",
   "metadata": {},
   "outputs": [],
   "source": []
  },
  {
   "cell_type": "code",
   "execution_count": null,
   "id": "4d4ac948-696f-4e6c-a73e-c86b174957e5",
   "metadata": {},
   "outputs": [],
   "source": []
  },
  {
   "cell_type": "code",
   "execution_count": null,
   "id": "1ac67afb-3d48-4e51-add5-2ba64fe0717d",
   "metadata": {},
   "outputs": [],
   "source": []
  },
  {
   "cell_type": "code",
   "execution_count": null,
   "id": "b62811b0-5a31-4dc6-a3bd-7e24d1c85e71",
   "metadata": {},
   "outputs": [],
   "source": []
  },
  {
   "cell_type": "code",
   "execution_count": null,
   "id": "83825c83-3090-4400-b638-bd76cef0a5c1",
   "metadata": {},
   "outputs": [],
   "source": []
  }
 ],
 "metadata": {
  "kernelspec": {
   "display_name": "Python 3 (ipykernel)",
   "language": "python",
   "name": "python3"
  },
  "language_info": {
   "codemirror_mode": {
    "name": "ipython",
    "version": 3
   },
   "file_extension": ".py",
   "mimetype": "text/x-python",
   "name": "python",
   "nbconvert_exporter": "python",
   "pygments_lexer": "ipython3",
   "version": "3.12.4"
  }
 },
 "nbformat": 4,
 "nbformat_minor": 5
}
