{
 "cells": [
  {
   "cell_type": "markdown",
   "metadata": {
    "colab_type": "text",
    "id": "iJX3vb0VlOV4"
   },
   "source": [
    "<table align=\"left\" width=100%>\n",
    "    <tr>\n",
    "        <td width=\"20%\">\n",
    "            <img src=\"faculty.png\">\n",
    "        </td>\n",
    "        <td>\n",
    "            <div align=\"center\">\n",
    "                <font color=\"#21618C\" size=8px>\n",
    "                  <b> Faculty Notebook <br> (Session 1) </b>\n",
    "                </font>\n",
    "            </div>\n",
    "        </td>\n",
    "    </tr>\n",
    "</table>"
   ]
  },
  {
   "cell_type": "markdown",
   "metadata": {
    "colab_type": "text",
    "id": "j9NBI0JNWwN3"
   },
   "source": [
    "## Table of Content\n",
    "\n",
    "1. **[Python Variables](#variables)**\n",
    "2. **[Data Types](#type)**\n",
    "    - 2.1 - [Numbers](#num)\n",
    "    - 2.2 - [Strings](#str)\n",
    "    - 2.3 - [Boolean](#bool)\n",
    "3. **[Type Conversion](#typecon)**\n",
    "4. **[Python print()](#print)**\n",
    "5. **[User Input](#uinput)**\n",
    "6. **[Python Operators](#oper)**\n",
    "    - 6.1 - [Arithmetic Operator](#arith)\n",
    "    - 6.2 - [Comparison Operator](#comp)\n",
    "    - 6.3 - [Assignment Operator](#assign)\n",
    "    - 6.4 - [Logical Operator](#logic)\n",
    "    - 6.5 - [Membership Operator](#member)\n",
    "    - 6.6 - [Bitwise Operator](#bitwise)\n",
    "7. **[Python Flow Control](#pfc)**\n",
    "    - 7.1 - [if - statement](#condition)\n",
    "    - 7.2 - [while- loop](#while)\n",
    "    - 7.3 - [for- loop](#for)\n",
    "8. **[Pseudocode](#pseudo)**\n",
    "9. **[Introduction to List](#list)**\n",
    "10. **[Introduction to Tuple](#tuple)**\n",
    "11. **[Introduction to Dictionary](#dictionary)**\n",
    "12. **[Introduction to Sets](#sets)**\n"
   ]
  },
  {
   "cell_type": "markdown",
   "metadata": {
    "colab_type": "text",
    "id": "ftCxC4m1WwN4"
   },
   "source": [
    "<a id=\"variables\"> </a>\n",
    "## 1. Python Variables"
   ]
  },
  {
   "cell_type": "markdown",
   "metadata": {
    "colab_type": "text",
    "id": "rasbaLIbWwN5"
   },
   "source": [
    "<table align=\"left\">\n",
    "    <tr>\n",
    "        <td width=\"15%\">\n",
    "            <img src=\"note.png\">\n",
    "        </td>\n",
    "        <td>\n",
    "            <div align=\"left\", style=\"font-size:120%\">\n",
    "                <font color=\"#21618C\">\n",
    "                    <b>Variables are nothing but reserved memory locations to store values. This implies that when you create a variable, you hold some space in the memory.<br>\n",
    "                        <br>Based on the data type of a variable, the interpreter allocates memory and decides what can be stored in the reserved memory. Therefore, by assigning different data types to variables, you can store integers, decimals or characters in these variables.\n",
    "                    </b>\n",
    "                </font>\n",
    "            </div>\n",
    "        </td>\n",
    "    </tr>\n",
    "</table>"
   ]
  },
  {
   "cell_type": "markdown",
   "metadata": {
    "colab_type": "text",
    "id": "loqrEgAPWwN6"
   },
   "source": [
    "#### Declaring and assigning a value to a variable\n",
    "We use the assignment operator  '='  to assign a value to a variable."
   ]
  },
  {
   "cell_type": "code",
   "execution_count": 1,
   "metadata": {
    "colab": {},
    "colab_type": "code",
    "id": "EEiXyGNbWwN7"
   },
   "outputs": [],
   "source": [
    "num = 30"
   ]
  },
  {
   "cell_type": "markdown",
   "metadata": {
    "colab_type": "text",
    "id": "Rge6hHBdWwN9"
   },
   "source": [
    "The operand to the left of the = operator is the name of the variable and the operand to the right of the = operator is the value stored in the variable. Here, we have created a variabe named 'num' and we have assigned value 30 to 'num' variable."
   ]
  },
  {
   "cell_type": "markdown",
   "metadata": {
    "colab_type": "text",
    "id": "PKGTWcsRWwN-"
   },
   "source": [
    "#### Multiple assignments\n",
    "Python allows you to assign a single value to several variables simultaneously. For example −"
   ]
  },
  {
   "cell_type": "code",
   "execution_count": 2,
   "metadata": {
    "colab": {},
    "colab_type": "code",
    "id": "PRlyM9DOWwN_"
   },
   "outputs": [],
   "source": [
    "# Here, an integer object is created with the value 5, and all three variables are assigned to the same memory location\n",
    "x = y = z = 5"
   ]
  },
  {
   "cell_type": "markdown",
   "metadata": {
    "colab_type": "text",
    "id": "65HAH67RWwOB"
   },
   "source": [
    "You can also assign multiple objects to multiple variables"
   ]
  },
  {
   "cell_type": "code",
   "execution_count": 3,
   "metadata": {
    "colab": {},
    "colab_type": "code",
    "id": "rOUYRr38WwOB"
   },
   "outputs": [],
   "source": [
    "a,b,c = 5,10.1,\"Great Lakes\""
   ]
  },
  {
   "cell_type": "markdown",
   "metadata": {
    "colab_type": "text",
    "id": "XcpVNMYeF9Qp"
   },
   "source": [
    "#### Re-assigning a variable"
   ]
  },
  {
   "cell_type": "code",
   "execution_count": 4,
   "metadata": {
    "colab": {},
    "colab_type": "code",
    "id": "i9okOotLF9Qq",
    "outputId": "beddbce5-a6ac-441b-dd89-b57347a82a37"
   },
   "outputs": [
    {
     "data": {
      "text/plain": [
       "25"
      ]
     },
     "execution_count": 4,
     "metadata": {},
     "output_type": "execute_result"
    }
   ],
   "source": [
    "var1 = 25\n",
    "var2 = \"Arthur\"\n",
    "var2 = var1\n",
    "var2"
   ]
  },
  {
   "cell_type": "markdown",
   "metadata": {
    "colab_type": "text",
    "id": "-itifEJ3WwOD"
   },
   "source": [
    "### Rules and Naming Conventions\n",
    "<em>\n",
    "<table align=\"left\">\n",
    "    <tr>\n",
    "        <td>\n",
    "            <div align=\"left\", style=\"font-size:125%\">\n",
    "                <font color=\"#21618C\">\n",
    "                    <b>1. Constant and variable names should have a combination of letters in lowercase (a to z) or uppercase (A to Z) or digits (0 to 9) or an underscore(_). For example: <br>\n",
    "                       <br> &emsp; variable_name<br>\n",
    "                        &emsp; VARIABLE_NAME<br>\n",
    "                        &emsp; varName<br>\n",
    "                        &emsp; VariableName<br>\n",
    "                    </b>\n",
    "                    <b><br>2. Create a name that makes sense. For example, variable makes more sense than v  <br>               \n",
    "                    </b>\n",
    "                    <b><br>3. If you want to create a variable name having two words, use underscore to separate them<br>\n",
    "                    </b>\n",
    "                    <b><br>4. Never use special symbols like !, @, #, $, %, etc.<br>\n",
    "                    </b>\n",
    "                    <b><br>5. Do not start a variable name with a digit<br>\n",
    "                    </b>\n",
    "                    <b><br>6. Reserved words (built-in keywords) cannot be used as variable names.<br>\n",
    "                    </b>\n",
    "                </font>\n",
    "            </div>\n",
    "        </td>\n",
    "    </tr>\n",
    "</table>\n",
    "\n",
    "</em>\n"
   ]
  },
  {
   "cell_type": "markdown",
   "metadata": {
    "colab_type": "text",
    "id": "5vs6q06hWwOE"
   },
   "source": [
    "\n"
   ]
  },
  {
   "cell_type": "markdown",
   "metadata": {
    "colab_type": "text",
    "id": "ilx9djl-WwOE"
   },
   "source": [
    "<a id = \"type\"></a>\n",
    "## 2. Data Types\n",
    "\n",
    "<table align=\"left\">\n",
    "    <tr>\n",
    "        <td width=\"15%\">\n",
    "            <img src=\"note.png\">\n",
    "        </td>\n",
    "        <td>\n",
    "            <div align=\"left\", style=\"font-size:120%\">\n",
    "                <font color=\"#21618C\">\n",
    "                    <b>A data type is an attribute of data which tells the compiler or interpreter how the programmer intends to use the data. Python supports the following Python data types:<br><br>\n",
    "                        1. Numbers<br>\n",
    "                        2. Strings<br>\n",
    "                        3. Boolean<br>\n",
    "                        4. Lists<br>\n",
    "                        5. Tuples<br>\n",
    "                        6. Dictionaries <br>\n",
    "                        7. Sets\n",
    "                    </b>\n",
    "                </font>\n",
    "            </div>\n",
    "        </td>\n",
    "    </tr>\n",
    "</table>\n",
    "\n",
    "\n"
   ]
  },
  {
   "cell_type": "markdown",
   "metadata": {
    "colab_type": "text",
    "id": "IZJAzajfWwOF"
   },
   "source": [
    "<a id=\"num\"> </a>\n",
    "### 2.1. Python Numbers\n",
    "There are four numeric Python data type:<br>\n",
    "a. int (signed integers)<br>\n",
    "b. float (floating point real values)<br>\n",
    "c. long (long integers, they can also be represented in octal and hexadecimal)<br>\n",
    "d. complex (complex numbers)\n",
    "\n",
    "<table>\n",
    "  <tr>\n",
    "  <th>int</th>\n",
    "  <th>float</th>\n",
    "  <th>long</th>\n",
    "  <th>complex</th>\n",
    "  </tr>\n",
    "  <tr>\n",
    "  <td>10</td>\n",
    "  <td>54.4</td>\n",
    "  <td>012345L</td>\n",
    "  <td>2+5j</td>  \n",
    "  </tr>\n",
    "  <tr>\n",
    "  <td>70</td>\n",
    "  <td>0.01</td>\n",
    "  <td>-987652L</td>\n",
    "  <td>1.18j</td>\n",
    "  </tr>\n",
    "  <tr>\n",
    "  <td>-150</td>\n",
    "  <td>1.626e16</td>\n",
    "  <td>10000000000000000</td>\n",
    "  <td>-10j</td>\n",
    "  </tr>\n",
    "  <tr>\n",
    "  <td>0x69</td>\n",
    "  <td>74.15</td>\n",
    "  <td>-4335685298777L</td>\n",
    "  <td>45j</td>\n",
    "  </tr>\n",
    "  <tr>\n",
    "  <td>-0x260</td>\n",
    "  <td>89.33</td>\n",
    "  <td>0348L\t</td>\n",
    "  <td>3e+26J</td>\n",
    "  </tr>\n",
    "</table>"
   ]
  },
  {
   "cell_type": "markdown",
   "metadata": {
    "colab_type": "text",
    "id": "U6hFAQM8WwOF"
   },
   "source": [
    "#### int\n",
    "'int' stands for integer. This Python Data Type holds signed integers. We can use the type() function to find which class it belongs to."
   ]
  },
  {
   "cell_type": "code",
   "execution_count": 5,
   "metadata": {
    "colab": {},
    "colab_type": "code",
    "id": "gD08tb_oWwOG",
    "outputId": "ade96d08-412f-400e-89b3-d4d231b486ed"
   },
   "outputs": [
    {
     "data": {
      "text/plain": [
       "int"
      ]
     },
     "execution_count": 5,
     "metadata": {},
     "output_type": "execute_result"
    }
   ],
   "source": [
    "a = -5\n",
    "type(a)"
   ]
  },
  {
   "cell_type": "code",
   "execution_count": 6,
   "metadata": {
    "colab": {},
    "colab_type": "code",
    "id": "9TEUZuKzWwOJ",
    "outputId": "fd522156-ecc7-4cee-c867-f35772d79445"
   },
   "outputs": [
    {
     "data": {
      "text/plain": [
       "int"
      ]
     },
     "execution_count": 6,
     "metadata": {},
     "output_type": "execute_result"
    }
   ],
   "source": [
    "x = 1000\n",
    "type(a)"
   ]
  },
  {
   "cell_type": "markdown",
   "metadata": {
    "colab_type": "text",
    "id": "kcwZsEBnWwOL"
   },
   "source": [
    "#### float"
   ]
  },
  {
   "cell_type": "code",
   "execution_count": 7,
   "metadata": {
    "colab": {},
    "colab_type": "code",
    "id": "gzRxX7LwWwOL",
    "outputId": "50a2e85f-9b5b-41ff-a7a2-1cd437b0217a"
   },
   "outputs": [
    {
     "data": {
      "text/plain": [
       "float"
      ]
     },
     "execution_count": 7,
     "metadata": {},
     "output_type": "execute_result"
    }
   ],
   "source": [
    "a = 1.1\n",
    "type(a)"
   ]
  },
  {
   "cell_type": "code",
   "execution_count": 8,
   "metadata": {
    "colab": {},
    "colab_type": "code",
    "id": "kxQhtfexWwON",
    "outputId": "2aa0c5e2-ce26-4c35-e3cd-cab2d57a8fbb"
   },
   "outputs": [
    {
     "data": {
      "text/plain": [
       "float"
      ]
     },
     "execution_count": 8,
     "metadata": {},
     "output_type": "execute_result"
    }
   ],
   "source": [
    "x = -3.14\n",
    "type(x)"
   ]
  },
  {
   "cell_type": "code",
   "execution_count": 9,
   "metadata": {
    "colab": {},
    "colab_type": "code",
    "id": "yvZHGCMZWwOP",
    "outputId": "954f8d05-cd55-4536-c2ec-9b8b9a134008"
   },
   "outputs": [
    {
     "data": {
      "text/plain": [
       "float"
      ]
     },
     "execution_count": 9,
     "metadata": {},
     "output_type": "execute_result"
    }
   ],
   "source": [
    "y = 1.626e16\n",
    "type(y)"
   ]
  },
  {
   "cell_type": "markdown",
   "metadata": {
    "colab_type": "text",
    "id": "FSSMkUsYWwOQ"
   },
   "source": [
    "#### long"
   ]
  },
  {
   "cell_type": "code",
   "execution_count": 10,
   "metadata": {
    "colab": {},
    "colab_type": "code",
    "id": "D4mAkQ29WwOR",
    "outputId": "b4318e62-cceb-4420-a580-b6c120792829"
   },
   "outputs": [
    {
     "data": {
      "text/plain": [
       "int"
      ]
     },
     "execution_count": 10,
     "metadata": {},
     "output_type": "execute_result"
    }
   ],
   "source": [
    "x =999999999999999999999999999999999999999999999\n",
    "type(x)"
   ]
  },
  {
   "cell_type": "markdown",
   "metadata": {
    "colab_type": "text",
    "id": "KUu1KWCuWwOT"
   },
   "source": [
    "<table align=\"left\">\n",
    "    <tr>\n",
    "        <td width=\"7%\">\n",
    "            <img src=\"caution.png\">\n",
    "        </td>\n",
    "        <td>\n",
    "            <div align=\"left\", style=\"font-size:120%\">\n",
    "                <font color=\"#21618C\">\n",
    "                    <b>This construct does not exist in Python 3.x.\n",
    "                    </b>\n",
    "                </font>\n",
    "            </div>\n",
    "        </td>\n",
    "    </tr>\n",
    "</table>"
   ]
  },
  {
   "cell_type": "markdown",
   "metadata": {
    "colab_type": "text",
    "id": "apmbFzZHWwOT"
   },
   "source": [
    "#### complex"
   ]
  },
  {
   "cell_type": "code",
   "execution_count": 11,
   "metadata": {
    "colab": {},
    "colab_type": "code",
    "id": "gp5-Bm5MWwOU",
    "outputId": "ceaa2e45-cc0a-455e-99f5-ea5b01fd0095"
   },
   "outputs": [
    {
     "data": {
      "text/plain": [
       "complex"
      ]
     },
     "execution_count": 11,
     "metadata": {},
     "output_type": "execute_result"
    }
   ],
   "source": [
    "x = 3+4j\n",
    "type(x)"
   ]
  },
  {
   "cell_type": "code",
   "execution_count": 12,
   "metadata": {
    "colab": {},
    "colab_type": "code",
    "id": "tgyMwLLCWwOW",
    "outputId": "06b79a2a-6831-4bf1-cf6e-eaa3ca7d73d7"
   },
   "outputs": [
    {
     "data": {
      "text/plain": [
       "complex"
      ]
     },
     "execution_count": 12,
     "metadata": {},
     "output_type": "execute_result"
    }
   ],
   "source": [
    "y = 3e+4j\n",
    "type(y)"
   ]
  },
  {
   "cell_type": "markdown",
   "metadata": {
    "colab_type": "text",
    "id": "T41pYrW8WwOX"
   },
   "source": [
    "<a id=\"str\"> </a>\n",
    "### 2.2. Python Strings"
   ]
  },
  {
   "cell_type": "markdown",
   "metadata": {
    "colab_type": "text",
    "id": "RSA1gdoeWwOY"
   },
   "source": [
    "A string is a sequence of characters. Python does not have a <em>char</em> data type, unlike C++ or Java. You can delimit a string using single quotes('string') or double-quotes(\"string\")."
   ]
  },
  {
   "cell_type": "code",
   "execution_count": 13,
   "metadata": {
    "colab": {},
    "colab_type": "code",
    "id": "XrVRb1yqWwOY",
    "outputId": "fc090ff7-5951-4de8-ee1b-47101d33c0a8"
   },
   "outputs": [
    {
     "data": {
      "text/plain": [
       "'Introduction to Python'"
      ]
     },
     "execution_count": 13,
     "metadata": {},
     "output_type": "execute_result"
    }
   ],
   "source": [
    "string = \"Introduction to Python\"\n",
    "string"
   ]
  },
  {
   "cell_type": "markdown",
   "metadata": {
    "colab_type": "text",
    "id": "xX5bTc8aWwOa"
   },
   "source": [
    "The plus (+) sign is the string concatenation operator and the asterisk (*) is the repetition operator."
   ]
  },
  {
   "cell_type": "code",
   "execution_count": 14,
   "metadata": {
    "colab": {},
    "colab_type": "code",
    "id": "I7T09aV_WwOb",
    "outputId": "3b91dc6d-6051-4777-c46c-4443bb855690"
   },
   "outputs": [
    {
     "data": {
      "text/plain": [
       "'GreatLearning'"
      ]
     },
     "execution_count": 14,
     "metadata": {},
     "output_type": "execute_result"
    }
   ],
   "source": [
    "str1 = \"Great\"\n",
    "str2 = \"Learning\"\n",
    "str3 = str1+str2\n",
    "str3                      # Prints concatenated string"
   ]
  },
  {
   "cell_type": "code",
   "execution_count": 15,
   "metadata": {
    "colab": {},
    "colab_type": "code",
    "id": "YgJ_RdB_WwOd",
    "outputId": "d3efea17-5441-467e-de0b-7f445af4afe5"
   },
   "outputs": [
    {
     "data": {
      "text/plain": [
       "'GreatLearningGreatLearningGreatLearning'"
      ]
     },
     "execution_count": 15,
     "metadata": {},
     "output_type": "execute_result"
    }
   ],
   "source": [
    "str3*3                    # Prints string three times"
   ]
  },
  {
   "cell_type": "markdown",
   "metadata": {
    "colab_type": "text",
    "id": "EffJINZpWwOf"
   },
   "source": [
    "<table align=\"left\">\n",
    "    <tr>\n",
    "        <td width=\"7%\">\n",
    "            <img src=\"caution.png\">\n",
    "        </td>\n",
    "        <td>\n",
    "            <div align=\"left\", style=\"font-size:120%\">\n",
    "                <font color=\"#21618C\">\n",
    "                    <b>You cannot use the minus(-) operator and the division(/) operator on strings.\n",
    "                    </b>\n",
    "                </font>\n",
    "            </div>\n",
    "        </td>\n",
    "    </tr>\n",
    "</table>"
   ]
  },
  {
   "cell_type": "markdown",
   "metadata": {
    "colab_type": "text",
    "id": "D3D5pz2TWwOf"
   },
   "source": [
    "Subsets of strings can be taken using the slice operator ([ ]). You can display a character from a string using its index in the string. Remember, indexing starts with 0."
   ]
  },
  {
   "cell_type": "code",
   "execution_count": 16,
   "metadata": {
    "colab": {},
    "colab_type": "code",
    "id": "FcOZ-f9SWwOh",
    "outputId": "e20d366c-6b65-46b2-a525-b8cb31bf27ee"
   },
   "outputs": [
    {
     "data": {
      "text/plain": [
       "'d'"
      ]
     },
     "execution_count": 16,
     "metadata": {},
     "output_type": "execute_result"
    }
   ],
   "source": [
    "string[5]                 # Prints sixth character of the string"
   ]
  },
  {
   "cell_type": "markdown",
   "metadata": {
    "colab_type": "text",
    "id": "rmacECWIWwOj"
   },
   "source": [
    "You can also display a burst of characters in a string using the slicing operator with indexes starting at 0 in the beginning of the string and working their way from -1 at the end."
   ]
  },
  {
   "cell_type": "code",
   "execution_count": 17,
   "metadata": {
    "colab": {},
    "colab_type": "code",
    "id": "JDHvadR_WwOj",
    "outputId": "0534a17e-8ff8-4aa7-d99b-700577d292e0"
   },
   "outputs": [
    {
     "data": {
      "text/plain": [
       "'to Python'"
      ]
     },
     "execution_count": 17,
     "metadata": {},
     "output_type": "execute_result"
    }
   ],
   "source": [
    "string[13:22]             # Prints characters starting from 14th to 21st character"
   ]
  },
  {
   "cell_type": "markdown",
   "metadata": {
    "colab_type": "text",
    "id": "lqGsgw_6WwOl"
   },
   "source": [
    "Strings are <em>immutable</em>. The following line of code will generate an error"
   ]
  },
  {
   "cell_type": "code",
   "execution_count": 18,
   "metadata": {
    "colab": {},
    "colab_type": "code",
    "id": "SGqCKsZBWwOl",
    "outputId": "09e4b162-a296-4c68-8e8a-f6a6f703a231"
   },
   "outputs": [
    {
     "ename": "TypeError",
     "evalue": "'str' object does not support item assignment",
     "output_type": "error",
     "traceback": [
      "\u001b[0;31m---------------------------------------------------------------------------\u001b[0m",
      "\u001b[0;31mTypeError\u001b[0m                                 Traceback (most recent call last)",
      "Cell \u001b[0;32mIn[18], line 1\u001b[0m\n\u001b[0;32m----> 1\u001b[0m \u001b[43mstring\u001b[49m\u001b[43m[\u001b[49m\u001b[38;5;241;43m0\u001b[39;49m\u001b[43m]\u001b[49m \u001b[38;5;241m=\u001b[39m \u001b[38;5;124m'\u001b[39m\u001b[38;5;124mP\u001b[39m\u001b[38;5;124m'\u001b[39m\n",
      "\u001b[0;31mTypeError\u001b[0m: 'str' object does not support item assignment"
     ]
    }
   ],
   "source": [
    "string[0] = 'P'"
   ]
  },
  {
   "cell_type": "markdown",
   "metadata": {
    "colab_type": "text",
    "id": "pfuknDsgF9Rn"
   },
   "source": [
    "<a id=\"bool\"> </a>\n",
    "### 2.3. Python Boolean\n",
    "In Python programming language, the Boolean datatype is a primitive datatype having one of two values: **True** or **False**. It is often a result of some conditions"
   ]
  },
  {
   "cell_type": "code",
   "execution_count": 19,
   "metadata": {
    "colab": {},
    "colab_type": "code",
    "id": "MZWZ-vhsF9Ro",
    "outputId": "0bdb7701-cbab-4cd5-b406-b53fdb925c61"
   },
   "outputs": [
    {
     "data": {
      "text/plain": [
       "bool"
      ]
     },
     "execution_count": 19,
     "metadata": {},
     "output_type": "execute_result"
    }
   ],
   "source": [
    "var = True\n",
    "type(var)"
   ]
  },
  {
   "cell_type": "code",
   "execution_count": 20,
   "metadata": {
    "colab": {},
    "colab_type": "code",
    "id": "-tO6lz15F9Rs",
    "outputId": "1ddfb75b-2e42-4453-dd86-1c082efe98c4"
   },
   "outputs": [
    {
     "name": "stdout",
     "output_type": "stream",
     "text": [
      "True\n"
     ]
    }
   ],
   "source": [
    "print(10 > 9)"
   ]
  },
  {
   "cell_type": "code",
   "execution_count": 21,
   "metadata": {
    "colab": {},
    "colab_type": "code",
    "id": "uY2vZtqyF9Ru",
    "outputId": "d1c03e29-5873-4587-b192-09b38d0c68fe"
   },
   "outputs": [
    {
     "name": "stdout",
     "output_type": "stream",
     "text": [
      "False\n"
     ]
    }
   ],
   "source": [
    "print(10 == 9)"
   ]
  },
  {
   "cell_type": "code",
   "execution_count": 22,
   "metadata": {
    "colab": {},
    "colab_type": "code",
    "id": "jGgdNUGJF9Rw",
    "outputId": "27b9aa82-0b3c-4b65-b67a-445d7027492a"
   },
   "outputs": [
    {
     "name": "stdout",
     "output_type": "stream",
     "text": [
      "False\n"
     ]
    }
   ],
   "source": [
    "print(10 < 9)"
   ]
  },
  {
   "cell_type": "markdown",
   "metadata": {
    "colab_type": "text",
    "id": "EVRWwplyWwPK"
   },
   "source": [
    "<a id=\"typecon\"> </a>\n",
    "## 3. Type Conversion\n",
    "Since Python is dynamically-typed, you may want to convert a value into another type. Python supports different type conversion functions like int(), float(), str() etc."
   ]
  },
  {
   "cell_type": "markdown",
   "metadata": {
    "colab_type": "text",
    "id": "boCcUiw1WwPK"
   },
   "source": [
    "#### float()\n",
    "It converts the passed value into a float."
   ]
  },
  {
   "cell_type": "code",
   "execution_count": 23,
   "metadata": {
    "colab": {},
    "colab_type": "code",
    "id": "rs0NOMBhWwPK",
    "outputId": "52da70b0-090c-4e56-9935-e14b68b2a703"
   },
   "outputs": [
    {
     "data": {
      "text/plain": [
       "11.0"
      ]
     },
     "execution_count": 23,
     "metadata": {},
     "output_type": "execute_result"
    }
   ],
   "source": [
    "float(11)"
   ]
  },
  {
   "cell_type": "markdown",
   "metadata": {
    "colab_type": "text",
    "id": "hz5JQDNDWwPM"
   },
   "source": [
    "You can turn a Boolean into an float."
   ]
  },
  {
   "cell_type": "code",
   "execution_count": 24,
   "metadata": {
    "colab": {},
    "colab_type": "code",
    "id": "f7ha7y1HWwPM",
    "outputId": "0624d15b-8351-493b-9c1d-d000714b64da"
   },
   "outputs": [
    {
     "data": {
      "text/plain": [
       "1.0"
      ]
     },
     "execution_count": 24,
     "metadata": {},
     "output_type": "execute_result"
    }
   ],
   "source": [
    "float (True)"
   ]
  },
  {
   "cell_type": "code",
   "execution_count": 25,
   "metadata": {
    "colab": {},
    "colab_type": "code",
    "id": "yGg2az2cWwPN",
    "outputId": "44c3a792-a3d8-4a5b-baa3-98c2cc6cb807"
   },
   "outputs": [
    {
     "data": {
      "text/plain": [
       "0.0"
      ]
     },
     "execution_count": 25,
     "metadata": {},
     "output_type": "execute_result"
    }
   ],
   "source": [
    "float(False)"
   ]
  },
  {
   "cell_type": "markdown",
   "metadata": {
    "colab_type": "text",
    "id": "0-kWsn3OWwPP"
   },
   "source": [
    "You cannot turn a string into an float. It throws an error. However, if the string has only numbers, then you can."
   ]
  },
  {
   "cell_type": "code",
   "execution_count": 26,
   "metadata": {
    "colab": {},
    "colab_type": "code",
    "id": "VXcZNILHWwPP",
    "outputId": "5dd4ae2b-f9e0-4369-aaa5-1f49049554d8"
   },
   "outputs": [
    {
     "ename": "ValueError",
     "evalue": "could not convert string to float: 'abc'",
     "output_type": "error",
     "traceback": [
      "\u001b[0;31m---------------------------------------------------------------------------\u001b[0m",
      "\u001b[0;31mValueError\u001b[0m                                Traceback (most recent call last)",
      "Cell \u001b[0;32mIn[26], line 1\u001b[0m\n\u001b[0;32m----> 1\u001b[0m \u001b[38;5;28;43mfloat\u001b[39;49m\u001b[43m(\u001b[49m\u001b[38;5;124;43m\"\u001b[39;49m\u001b[38;5;124;43mabc\u001b[39;49m\u001b[38;5;124;43m\"\u001b[39;49m\u001b[43m)\u001b[49m\n",
      "\u001b[0;31mValueError\u001b[0m: could not convert string to float: 'abc'"
     ]
    }
   ],
   "source": [
    "float(\"abc\")"
   ]
  },
  {
   "cell_type": "code",
   "execution_count": 63,
   "metadata": {
    "colab": {},
    "colab_type": "code",
    "id": "RobCesd6WwPQ",
    "outputId": "02611a62-8a68-4042-a519-76a3b981976f"
   },
   "outputs": [
    {
     "data": {
      "text/plain": [
       "11.0"
      ]
     },
     "execution_count": 63,
     "metadata": {},
     "output_type": "execute_result"
    }
   ],
   "source": [
    "float(\"11\")"
   ]
  },
  {
   "cell_type": "code",
   "execution_count": 64,
   "metadata": {
    "colab": {},
    "colab_type": "code",
    "id": "YAl_VbkJWwPR",
    "outputId": "8ff813ee-0f8f-497a-8230-5a1d4749ba49"
   },
   "outputs": [
    {
     "data": {
      "text/plain": [
       "0.0224"
      ]
     },
     "execution_count": 64,
     "metadata": {},
     "output_type": "execute_result"
    }
   ],
   "source": [
    "#You can also use ‘e’ to denote an exponential number\n",
    "\n",
    "float(\"2.24e-2\")           #this number works even without the float() function"
   ]
  },
  {
   "cell_type": "markdown",
   "metadata": {
    "colab_type": "text",
    "id": "ECm0OUL8WwPS"
   },
   "source": [
    "#### int"
   ]
  },
  {
   "cell_type": "markdown",
   "metadata": {
    "colab_type": "text",
    "id": "PkU5JhzOWwPT"
   },
   "source": [
    "Conversion from float to int will round-off the value (make it closer to zero)."
   ]
  },
  {
   "cell_type": "code",
   "execution_count": 65,
   "metadata": {
    "colab": {},
    "colab_type": "code",
    "id": "D4zY6JVOWwPT",
    "outputId": "02024a67-3579-46ab-df41-000026f1439e"
   },
   "outputs": [
    {
     "data": {
      "text/plain": [
       "11"
      ]
     },
     "execution_count": 65,
     "metadata": {},
     "output_type": "execute_result"
    }
   ],
   "source": [
    "int(11.7)"
   ]
  },
  {
   "cell_type": "code",
   "execution_count": 66,
   "metadata": {
    "colab": {},
    "colab_type": "code",
    "id": "8jyuaJh6WwPU",
    "outputId": "c84a8406-e8fe-4a2e-b38e-d398c1051b5b"
   },
   "outputs": [
    {
     "data": {
      "text/plain": [
       "-11"
      ]
     },
     "execution_count": 66,
     "metadata": {},
     "output_type": "execute_result"
    }
   ],
   "source": [
    "int(-11.7)"
   ]
  },
  {
   "cell_type": "markdown",
   "metadata": {
    "colab_type": "text",
    "id": "fhMAZgkhWwPV"
   },
   "source": [
    " You can also turn a Boolean into an int."
   ]
  },
  {
   "cell_type": "code",
   "execution_count": 67,
   "metadata": {
    "colab": {},
    "colab_type": "code",
    "id": "kMzj0ZoKWwPV",
    "outputId": "f0eec7ac-8f1b-45d9-8e96-d558420e94db"
   },
   "outputs": [
    {
     "data": {
      "text/plain": [
       "1"
      ]
     },
     "execution_count": 67,
     "metadata": {},
     "output_type": "execute_result"
    }
   ],
   "source": [
    "int(True)"
   ]
  },
  {
   "cell_type": "code",
   "execution_count": 68,
   "metadata": {
    "colab": {},
    "colab_type": "code",
    "id": "kNhtLwoLWwPW",
    "outputId": "ec1cfb8e-4380-4743-afa4-e3db7a743a5d"
   },
   "outputs": [
    {
     "data": {
      "text/plain": [
       "0"
      ]
     },
     "execution_count": 68,
     "metadata": {},
     "output_type": "execute_result"
    }
   ],
   "source": [
    "int(False)"
   ]
  },
  {
   "cell_type": "markdown",
   "metadata": {
    "colab_type": "text",
    "id": "fFIzQUxDWwPb"
   },
   "source": [
    "You cannot turn a string into an int. It throws an error. However, if the string has only numbers, then you can."
   ]
  },
  {
   "cell_type": "code",
   "execution_count": 69,
   "metadata": {
    "colab": {},
    "colab_type": "code",
    "id": "a1_NU2oRWwPb",
    "outputId": "9f98b2ec-fcca-4b0e-8cc0-7fbc0d3749a8"
   },
   "outputs": [
    {
     "ename": "ValueError",
     "evalue": "invalid literal for int() with base 10: 'GL'",
     "output_type": "error",
     "traceback": [
      "\u001b[0;31m---------------------------------------------------------------------------\u001b[0m",
      "\u001b[0;31mValueError\u001b[0m                                Traceback (most recent call last)",
      "Cell \u001b[0;32mIn[69], line 1\u001b[0m\n\u001b[0;32m----> 1\u001b[0m \u001b[38;5;28;43mint\u001b[39;49m\u001b[43m(\u001b[49m\u001b[38;5;124;43m\"\u001b[39;49m\u001b[38;5;124;43mGL\u001b[39;49m\u001b[38;5;124;43m\"\u001b[39;49m\u001b[43m)\u001b[49m\n",
      "\u001b[0;31mValueError\u001b[0m: invalid literal for int() with base 10: 'GL'"
     ]
    }
   ],
   "source": [
    "int(\"GL\")"
   ]
  },
  {
   "cell_type": "code",
   "execution_count": 109,
   "metadata": {
    "colab": {},
    "colab_type": "code",
    "id": "NxvVDVzDWwPd",
    "outputId": "d1b13bba-82de-4ded-dfe5-33ab9d2a85e2"
   },
   "outputs": [
    {
     "data": {
      "text/plain": [
       "11"
      ]
     },
     "execution_count": 109,
     "metadata": {},
     "output_type": "execute_result"
    }
   ],
   "source": [
    "int(\"11\")"
   ]
  },
  {
   "cell_type": "markdown",
   "metadata": {
    "colab_type": "text",
    "id": "AxKlwSvEWwPe"
   },
   "source": [
    "#### str()\n",
    "<em>str()</em> converts the value into a string."
   ]
  },
  {
   "cell_type": "code",
   "execution_count": 110,
   "metadata": {
    "colab": {},
    "colab_type": "code",
    "id": "msQLpozMWwPi",
    "outputId": "9660292a-0797-40fd-d86e-b1ca9ff0061b"
   },
   "outputs": [
    {
     "data": {
      "text/plain": [
       "'2.24'"
      ]
     },
     "execution_count": 110,
     "metadata": {},
     "output_type": "execute_result"
    }
   ],
   "source": [
    "str(2.24)"
   ]
  },
  {
   "cell_type": "code",
   "execution_count": 111,
   "metadata": {
    "colab": {},
    "colab_type": "code",
    "id": "e2YVfksDWwPj",
    "outputId": "2af0a4bd-9d42-4c8c-c0fb-71cf92609a0a"
   },
   "outputs": [
    {
     "data": {
      "text/plain": [
       "'True'"
      ]
     },
     "execution_count": 111,
     "metadata": {},
     "output_type": "execute_result"
    }
   ],
   "source": [
    "str(True)"
   ]
  },
  {
   "cell_type": "code",
   "execution_count": 112,
   "metadata": {
    "colab": {},
    "colab_type": "code",
    "id": "RgXqM5RxWwPk",
    "outputId": "f78179c0-6e6f-4b50-e857-5bc837bfa320"
   },
   "outputs": [
    {
     "data": {
      "text/plain": [
       "'False'"
      ]
     },
     "execution_count": 112,
     "metadata": {},
     "output_type": "execute_result"
    }
   ],
   "source": [
    "str(False)"
   ]
  },
  {
   "cell_type": "code",
   "execution_count": 113,
   "metadata": {
    "colab": {},
    "colab_type": "code",
    "id": "owVkbQJDWwPm",
    "outputId": "b2bdddec-fcca-4b2b-f8ae-d79887f65502"
   },
   "outputs": [
    {
     "data": {
      "text/plain": [
       "'10'"
      ]
     },
     "execution_count": 113,
     "metadata": {},
     "output_type": "execute_result"
    }
   ],
   "source": [
    "str(10)"
   ]
  },
  {
   "cell_type": "markdown",
   "metadata": {
    "colab_type": "text",
    "id": "NeztNGtGWwP5"
   },
   "source": [
    "<a id=\"print\"> </a>\n",
    "## 4. Python print()"
   ]
  },
  {
   "cell_type": "markdown",
   "metadata": {
    "colab_type": "text",
    "id": "qqrDXHxnWwP5"
   },
   "source": [
    "<table align=\"left\">\n",
    "    <tr>\n",
    "        <td width=\"15%\">\n",
    "            <img src=\"note.png\">\n",
    "        </td>\n",
    "        <td>\n",
    "            <div align=\"left\", style=\"font-size:120%\">\n",
    "                <font color=\"#21618C\">\n",
    "                    <b>Syntax:<br>\n",
    "                        <br><em> print(*objects, sep=' ', end='\\n', file=sys.stdout, flush=False)</em>\n",
    "                    </b>\n",
    "                    <b><br><br><br><br>print() Parameters:<br>\n",
    "                    <br>*objects - object to be printed. * indicates that there may be more than one object<br>\n",
    "<br>sep - objects are separated by sep. Default value: ' '<br>\n",
    "<br>end - end is printed at last<br>\n",
    "<br>file - must be an object with write(string) method. If omitted it, sys.stdout will be used which prints objects on the screen.<br>\n",
    "<br>flush - If True, the stream is forcibly flushed. Default value: False<br><br>\n",
    "                    </b>\n",
    "                </font>\n",
    "            </div>\n",
    "        </td>\n",
    "    </tr>\n",
    "</table>\n"
   ]
  },
  {
   "cell_type": "code",
   "execution_count": 114,
   "metadata": {
    "colab": {},
    "colab_type": "code",
    "id": "_V7qmGSkWwP6",
    "outputId": "0ade5162-a529-4a8f-d6aa-7bff2d1fd70c"
   },
   "outputs": [
    {
     "name": "stdout",
     "output_type": "stream",
     "text": [
      "Hello World\n"
     ]
    }
   ],
   "source": [
    "print(\"Hello World\")"
   ]
  },
  {
   "cell_type": "code",
   "execution_count": 115,
   "metadata": {
    "colab": {},
    "colab_type": "code",
    "id": "mNLpxl-4WwP9",
    "outputId": "a500dadd-2a25-47e4-cfc1-c16908e1fe94"
   },
   "outputs": [
    {
     "name": "stdout",
     "output_type": "stream",
     "text": [
      "x = 2\n"
     ]
    }
   ],
   "source": [
    "# initialize a variable\n",
    "x = 2\n",
    "print(\"x =\", x)              # Here we pass two objects"
   ]
  },
  {
   "cell_type": "markdown",
   "metadata": {
    "colab_type": "text",
    "id": "6CUwLRcBWwP-"
   },
   "source": [
    "Only object parameter is passed in the above print() function."
   ]
  },
  {
   "cell_type": "markdown",
   "metadata": {
    "colab_type": "text",
    "id": "XAcxCb-sWwP-"
   },
   "source": [
    "#### print() with separator and end parameters\n",
    "By default, python's print() function ends with a newline. This function comes with a parameter called 'end.' The default value of this parameter is '\\n,' i.e., the new line character. You can end a print statement with any character or string using this parameter.<br>\n",
    "Sometimes you need to print one blank line in your Python program."
   ]
  },
  {
   "cell_type": "code",
   "execution_count": 116,
   "metadata": {
    "colab": {},
    "colab_type": "code",
    "id": "4QU2h8bsWwP_",
    "outputId": "1196e832-6208-465b-ef42-ef4255e0c939"
   },
   "outputs": [
    {
     "name": "stdout",
     "output_type": "stream",
     "text": [
      "x = 2\n",
      "\n",
      "\n",
      "a = 8j"
     ]
    }
   ],
   "source": [
    "x = 2\n",
    "a = 8\n",
    "print(\"x =\", x, end='\\n\\n\\n')\n",
    "print(\"a =\", 8, end = 'j')"
   ]
  },
  {
   "cell_type": "markdown",
   "metadata": {
    "colab_type": "text",
    "id": "hoZ-xQxJWwQA"
   },
   "source": [
    "Objects will be separated with what the <em>sep</em> parameter is set to."
   ]
  },
  {
   "cell_type": "code",
   "execution_count": 117,
   "metadata": {
    "colab": {},
    "colab_type": "code",
    "id": "qqCg0AU6WwQA",
    "outputId": "623855bc-a387-4968-e4e5-3aa3ef8def5c"
   },
   "outputs": [
    {
     "name": "stdout",
     "output_type": "stream",
     "text": [
      "x =$$2\n",
      "a =j8\n"
     ]
    }
   ],
   "source": [
    "x = 2\n",
    "a = 8\n",
    "print(\"x =\", x, sep='$$')\n",
    "print(\"a =\", 8, sep = 'j')"
   ]
  },
  {
   "cell_type": "markdown",
   "metadata": {
    "colab_type": "text",
    "id": "MnsdtyNjWwQB"
   },
   "source": [
    "<a id=\"uinput\"> </a>\n",
    "## 5. User Input\n",
    "\n",
    "\n",
    "<table align=\"left\">\n",
    "    <tr>\n",
    "        <td width=\"15%\">\n",
    "            <img src=\"note.png\">\n",
    "        </td>\n",
    "        <td>\n",
    "            <div align=\"left\", style=\"font-size:120%\">\n",
    "                <font color=\"#21618C\">\n",
    "                    <b>\n",
    "                        <br>Most programs today use a dialog box as a way of asking the user to provide some type of input.<br>\n",
    "                        <br>There are two functions in Python that you can use to read data from the user:\n",
    "                        <br>1.raw_input()\n",
    "                        <br>2.input() <br>\n",
    "                        <br>You can store the results from them into a variable.\n",
    "                    </b>\n",
    "                </font>\n",
    "            </div>\n",
    "        </td>\n",
    "    </tr>\n",
    "</table>\n"
   ]
  },
  {
   "cell_type": "markdown",
   "metadata": {
    "colab_type": "text",
    "id": "U39sPjniWwQD"
   },
   "source": [
    "<table align=\"left\">\n",
    "    <tr>\n",
    "        <td width=\"7%\">\n",
    "            <img src=\"caution.png\">\n",
    "        </td>\n",
    "        <td>\n",
    "            <div align=\"left\", style=\"font-size:120%\">\n",
    "                <font color=\"#21618C\">\n",
    "                    <b>raw_input() is deprecated in Python 3. Here we will discuss about the <em>input()</em> function.\n",
    "                    </b>\n",
    "                </font>\n",
    "            </div>\n",
    "        </td>\n",
    "    </tr>\n",
    "</table>"
   ]
  },
  {
   "cell_type": "markdown",
   "metadata": {
    "colab_type": "text",
    "id": "N4He5BZIWwQE"
   },
   "source": [
    "The Python input() function is used to read data from a standard input such as a keyboard and treats the received data as string. Basically, when we enter digit value, input() in python 3 stores it as string value. So to convert string value to integer value, we will use int() function just as shown below."
   ]
  },
  {
   "cell_type": "code",
   "execution_count": 118,
   "metadata": {
    "colab": {},
    "colab_type": "code",
    "id": "WIai9bzpWwQE",
    "outputId": "27c26d04-beff-436c-c622-e39189d6b35d"
   },
   "outputs": [
    {
     "name": "stdin",
     "output_type": "stream",
     "text": [
      "Please enter your age:  25\n"
     ]
    },
    {
     "name": "stdout",
     "output_type": "stream",
     "text": [
      "25\n"
     ]
    },
    {
     "data": {
      "text/plain": [
       "int"
      ]
     },
     "execution_count": 118,
     "metadata": {},
     "output_type": "execute_result"
    }
   ],
   "source": [
    "age = int(input(\"Please enter your age: \"))\n",
    "print(age)\n",
    "type(age)"
   ]
  },
  {
   "cell_type": "code",
   "execution_count": 119,
   "metadata": {
    "colab": {},
    "colab_type": "code",
    "id": "DHy3Eo3KWwQF",
    "outputId": "47766786-31fd-4870-d598-4db5cabde973"
   },
   "outputs": [
    {
     "name": "stdin",
     "output_type": "stream",
     "text": [
      "Please enter your name:  mkt\n"
     ]
    },
    {
     "name": "stdout",
     "output_type": "stream",
     "text": [
      "mkt\n"
     ]
    },
    {
     "data": {
      "text/plain": [
       "str"
      ]
     },
     "execution_count": 119,
     "metadata": {},
     "output_type": "execute_result"
    }
   ],
   "source": [
    "name = input(\"Please enter your name: \")\n",
    "print(name)\n",
    "type(name)"
   ]
  },
  {
   "cell_type": "markdown",
   "metadata": {
    "colab_type": "text",
    "id": "Wev9Kx6-WwQH"
   },
   "source": [
    "When <em>input()</em> function executes program flow will be stopped until the user has given an input. The message displayed on the output screen to ask a user to enter input value is optional i.e. the prompt, will be printed on the screen is optional.\n",
    "Whatever you enter as input, input function convert it into a string. If you enter an integer value still input() function convert it into a string. You need to explicitly convert it into an integer in your code using typecasting."
   ]
  },
  {
   "cell_type": "markdown",
   "metadata": {
    "colab_type": "text",
    "id": "TgPxKm5oWwQH"
   },
   "source": [
    "<a id=\"oper\"> </a>\n",
    "## 6. Python Operators\n",
    "\n",
    "\n",
    "<table align=\"left\">\n",
    "    <tr>\n",
    "        <td width=\"15%\">\n",
    "            <img src=\"note.png\">\n",
    "        </td>\n",
    "        <td>\n",
    "            <div align=\"left\", style=\"font-size:120%\">\n",
    "                <font color=\"#21618C\">\n",
    "                    <b>\n",
    "                        <br>Operators are special symbols in Python that carry out arithmetic or logical computation. The value that the operator operates on is called the operand.<br>\n",
    "                        <br>Python Operator falls into following categories:\n",
    "                        <br>1. Arithmetic Operator\n",
    "                        <br>2. Comparison Operator\n",
    "                        <br>3. Assignment Operator\n",
    "                        <br>4. Logical Operator\n",
    "                        <br>5. Membership Operator\n",
    "                        <br>6. Bitwise Operator\n",
    "                    </b>\n",
    "                </font>\n",
    "            </div>\n",
    "        </td>\n",
    "    </tr>\n",
    "</table>"
   ]
  },
  {
   "cell_type": "markdown",
   "metadata": {
    "colab_type": "text",
    "id": "-Ta6RTyDWwQI"
   },
   "source": [
    "<a id=\"arith\"> </a>\n",
    "### 6.1. Arithmetic Operator\n",
    "Arithmetic operators are used to perform mathematical operations like addition, subtraction, multiplication etc."
   ]
  },
  {
   "cell_type": "code",
   "execution_count": 120,
   "metadata": {
    "colab": {},
    "colab_type": "code",
    "id": "Q-pEFy-BWwQI",
    "outputId": "7115131f-0b80-4e07-ad31-4a338867dc69"
   },
   "outputs": [
    {
     "name": "stdout",
     "output_type": "stream",
     "text": [
      "a + b = 14\n",
      "a - b = 10\n",
      "a * b = 24\n",
      "a % b = 0\n",
      "a / b = 6.0\n",
      "a // b = 6\n",
      "a ** b = 144\n"
     ]
    }
   ],
   "source": [
    "a = 12\n",
    "b = 2\n",
    "# '+' Operator\n",
    "print('a + b =',a+b)                  # Prints addition of a and b\n",
    "\n",
    "# '-' Operator\n",
    "print('a - b =',a-b)                  # Prints subtraction of  a and b\n",
    "\n",
    "# '*' Operator\n",
    "print('a * b =',a*b)                  # Prints multiplication of  a and b\n",
    "\n",
    "# '%' Operator\n",
    "print('a % b =',a%b)                  # Prints remainder of division between a and b\n",
    "\n",
    "# '/' Operator\n",
    "print('a / b =',a/b)                  # Prints division of  a and b\n",
    "\n",
    "# '//' Operator\n",
    "print('a // b =',a//b)                # Prints the interger value of the division between a and b \n",
    "\n",
    "# '**' Operator\n",
    "print('a ** b =',a**b)                # Prints the result of a to the power b\n"
   ]
  },
  {
   "cell_type": "markdown",
   "metadata": {
    "colab_type": "text",
    "id": "5E-kgOQyWwQJ"
   },
   "source": [
    "<a id=\"comp\"> </a>\n",
    "### 6.2. Comparison Operator\n",
    "Comparison Operator carries out the comparison between operands. They tell us whether an operand is greater than the other, lesser, equal, or a combination of those. It either returns <em>True</em> or <em>False</em> according to the condition."
   ]
  },
  {
   "cell_type": "code",
   "execution_count": 121,
   "metadata": {
    "colab": {},
    "colab_type": "code",
    "id": "ei8_yWjXWwQJ",
    "outputId": "6b6a8d5f-79f2-4004-f746-d12e8e0d3296"
   },
   "outputs": [
    {
     "name": "stdout",
     "output_type": "stream",
     "text": [
      "a > b  is False\n",
      "a < b  is True\n",
      "a == b  is False\n",
      "a != b  is True\n",
      "a >= b  is False\n",
      "a <= b  is True\n"
     ]
    }
   ],
   "source": [
    "a = 10\n",
    "b = 20\n",
    "\n",
    "# '>' Operator\n",
    "print('a > b  is',a>b)                 # Prints False since a is smaller than b\n",
    "\n",
    "# '<' Operator\n",
    "print('a < b  is',a<b)                 # Prints True since a is smaller than b\n",
    "\n",
    "# '==' Operator\n",
    "print('a == b  is',a==b)                 # Prints False since a and b are not equal\n",
    "\n",
    "# '!=' Operator\n",
    "print('a != b  is',a!=b)                 # Prints True since a is not equal to b\n",
    "\n",
    "# '>=' Operator\n",
    "print('a >= b  is',a>=b)                 # Prints False since a is not smaller nor equal to b\n",
    "\n",
    "# '<= y' Operator\n",
    "print('a <= b  is',a<=b)                 # Prints True since a is smaller than b"
   ]
  },
  {
   "cell_type": "markdown",
   "metadata": {
    "colab_type": "text",
    "id": "DHAWZfnRWwQL"
   },
   "source": [
    "<a id=\"assign\"> </a>\n",
    "### 6.3. Assignment Operator\n",
    "An assignment operator assigns a value to a variable. It may manipulate the value by a factor before assigning it."
   ]
  },
  {
   "cell_type": "code",
   "execution_count": 122,
   "metadata": {
    "colab": {},
    "colab_type": "code",
    "id": "7WeHVcSIWwQL",
    "outputId": "caf34cf1-cc91-4622-e511-214f4a26d833"
   },
   "outputs": [
    {
     "name": "stdout",
     "output_type": "stream",
     "text": [
      "x =  5\n",
      "Updated value of x after (x += 5) is 10\n",
      "Updated value of x after (x -=2) is 8\n",
      "Updated value of x after (x *= 2) is 16\n",
      "Updated value of x after (x /= 2) is 4.0\n"
     ]
    }
   ],
   "source": [
    "# '=' Operator\n",
    "x = 5                                 # Assigns the value to the variable on the left\n",
    "print(\"x = \", x)\n",
    "\n",
    "# '+=' Operator                 \n",
    "x += 5 \n",
    "print(\"Updated value of x after (x += 5) is\", x)     # Adds the values on either side and assigns it to the expression on the left. x+=5 is the same as x=x+5.\n",
    "\n",
    "# '-=' Operator\n",
    "x -=2\n",
    "print(\"Updated value of x after (x -=2) is\", x)     # Subtracts 2 from the latest value of x and assigns it to x(which is 10).\n",
    "\n",
    "# '*=' Operator\n",
    "x *= 2\n",
    "print(\"Updated value of x after (x *= 2) is\", x)     # Multiplies the current value of x with 2 and assigns the result to the same variable\n",
    "\n",
    "# '/=' Operator\n",
    "x /= 4 \n",
    "print('Updated value of x after (x /= 2) is', x)     # Divides the current value of x with 4 and assigns the result to the same variable\n"
   ]
  },
  {
   "cell_type": "markdown",
   "metadata": {
    "colab_type": "text",
    "id": "KhOFmuWmWwQM"
   },
   "source": [
    "<em>i+=1 is the same as i=i+1, whereas i=+1 just means i=(+1)</em>"
   ]
  },
  {
   "cell_type": "markdown",
   "metadata": {
    "colab_type": "text",
    "id": "OeuiSmbLWwQM"
   },
   "source": [
    "<a id=\"logic\"> </a>\n",
    "### 6.4. Logical Operators\n",
    "Logical operators are like conjunctions that you can use to combine more than one condition. We have three Python logical operator – **<em>and</em>**, **<em>or</em>**, and **<em>not</em>** that come under python operators."
   ]
  },
  {
   "cell_type": "markdown",
   "metadata": {
    "colab_type": "text",
    "id": "_8T3z6drWwQM"
   },
   "source": [
    "#### 'and' Operator\n",
    "If the conditions on both the sides of the operator are true, then the expression as a whole is true."
   ]
  },
  {
   "cell_type": "code",
   "execution_count": 123,
   "metadata": {
    "colab": {},
    "colab_type": "code",
    "id": "vvanF5POWwQM",
    "outputId": "b14d031c-1c4a-4373-9279-40ab376eead0"
   },
   "outputs": [
    {
     "name": "stdout",
     "output_type": "stream",
     "text": [
      "True\n"
     ]
    }
   ],
   "source": [
    "x = 11\n",
    "a = x>10 and x<20\n",
    "print(a)"
   ]
  },
  {
   "cell_type": "markdown",
   "metadata": {
    "colab_type": "text",
    "id": "moUtA-A7WwQN"
   },
   "source": [
    "Here both the conditions are satisfied. Therefore we have True as the output."
   ]
  },
  {
   "cell_type": "code",
   "execution_count": 124,
   "metadata": {
    "colab": {},
    "colab_type": "code",
    "id": "vCxHTtWpWwQN",
    "outputId": "5d3d2265-93ca-47f0-f89b-8c4004d6d8c9"
   },
   "outputs": [
    {
     "name": "stdout",
     "output_type": "stream",
     "text": [
      "False\n"
     ]
    }
   ],
   "source": [
    "x = 11\n",
    "a = x>10 and x==12\n",
    "print(a)"
   ]
  },
  {
   "cell_type": "markdown",
   "metadata": {
    "colab_type": "text",
    "id": "_JFu5BW1WwQO"
   },
   "source": [
    "Here one of the condition is not satisfied. Therefore we have False as the output."
   ]
  },
  {
   "cell_type": "markdown",
   "metadata": {
    "colab_type": "text",
    "id": "ZJaxiiqkWwQO"
   },
   "source": [
    "#### 'or' Operator\n",
    "The expression is false only if both the statements around the operator are false. Otherwise, it is true."
   ]
  },
  {
   "cell_type": "code",
   "execution_count": 125,
   "metadata": {
    "colab": {},
    "colab_type": "code",
    "id": "96UjEwpGWwQO",
    "outputId": "03265f67-9be8-4aad-ff98-c0a1677596c0"
   },
   "outputs": [
    {
     "name": "stdout",
     "output_type": "stream",
     "text": [
      "True\n"
     ]
    }
   ],
   "source": [
    "x = 11\n",
    "a = x>10 or x==20\n",
    "print(a)"
   ]
  },
  {
   "cell_type": "markdown",
   "metadata": {
    "colab_type": "text",
    "id": "8veZvQOoWwQP"
   },
   "source": [
    "Here one of the condition is satisfied. Therefore we have True as the output."
   ]
  },
  {
   "cell_type": "code",
   "execution_count": 126,
   "metadata": {
    "colab": {},
    "colab_type": "code",
    "id": "uVnlov7rWwQP",
    "outputId": "ec5230e5-8cb8-4cf5-a872-ddd653404b01"
   },
   "outputs": [
    {
     "name": "stdout",
     "output_type": "stream",
     "text": [
      "False\n"
     ]
    }
   ],
   "source": [
    "x = 11\n",
    "a = x>12 or x==20\n",
    "print(a)"
   ]
  },
  {
   "cell_type": "markdown",
   "metadata": {
    "colab_type": "text",
    "id": "WZFPqv9AWwQQ"
   },
   "source": [
    "None of the above condition is True. Therefore we have False as the output"
   ]
  },
  {
   "cell_type": "markdown",
   "metadata": {
    "colab_type": "text",
    "id": "3XszFP-sWwQQ"
   },
   "source": [
    "#### 'not' Operator\n",
    "It converts True to False, and False to True. So, basically, <em>not</em> inverts the Boolean value of an expression"
   ]
  },
  {
   "cell_type": "code",
   "execution_count": 127,
   "metadata": {
    "colab": {},
    "colab_type": "code",
    "id": "Nw2WijmEWwQQ",
    "outputId": "02a7270f-6adb-42cf-b149-57a339f9c079"
   },
   "outputs": [
    {
     "name": "stdout",
     "output_type": "stream",
     "text": [
      "True\n"
     ]
    }
   ],
   "source": [
    "x = 11\n",
    "a = x>12 or x==20\n",
    "print(not a)"
   ]
  },
  {
   "cell_type": "markdown",
   "metadata": {
    "colab_type": "text",
    "id": "HbmsYtCQWwQR"
   },
   "source": [
    "Since both the conditions are false in the above code, False is stored in <em>a</em> and finally the not operator inverts False to True"
   ]
  },
  {
   "cell_type": "markdown",
   "metadata": {
    "colab_type": "text",
    "id": "xPwAxYR1WwQR"
   },
   "source": [
    "<a id=\"member\"> </a>\n",
    "### 6.5. Membership Operator"
   ]
  },
  {
   "cell_type": "markdown",
   "metadata": {
    "colab_type": "text",
    "id": "KmsV_DHtWwQR"
   },
   "source": [
    "Membership operators tests whether a value is a member of a sequence. The sequence may be a list, a string, a tuple, or a dictionary. <br>\n",
    "<br><em>in</em> and <em>not in</em> are the membership operators in Python. The output is in terms of True or False."
   ]
  },
  {
   "cell_type": "code",
   "execution_count": 128,
   "metadata": {
    "colab": {},
    "colab_type": "code",
    "id": "W3E1ifs3WwQS",
    "outputId": "6636443b-f68d-4db9-b912-905c77ed8ce5"
   },
   "outputs": [
    {
     "name": "stdout",
     "output_type": "stream",
     "text": [
      "True\n",
      "False\n"
     ]
    }
   ],
   "source": [
    "# String\n",
    "a = 'Great Learning'\n",
    "\n",
    "# Output: True\n",
    "print('L' in a)\n",
    "\n",
    "# Output: False\n",
    "print('O' in a)"
   ]
  },
  {
   "cell_type": "markdown",
   "metadata": {
    "colab_type": "text",
    "id": "Asg3lpSKWwQU"
   },
   "source": [
    "<a id=\"bitwise\"> </a>\n",
    "### 6.6. Bitwise Operator"
   ]
  },
  {
   "cell_type": "markdown",
   "metadata": {
    "colab_type": "text",
    "id": "_WB6s9nCWwQV"
   },
   "source": [
    "These operators perform bit by bit operations on the operands. "
   ]
  },
  {
   "cell_type": "code",
   "execution_count": 129,
   "metadata": {
    "colab": {},
    "colab_type": "code",
    "id": "yGIWyis5WwQV",
    "outputId": "fda6505f-ef76-43cb-d8a6-c57b907e6784"
   },
   "outputs": [
    {
     "name": "stdout",
     "output_type": "stream",
     "text": [
      "2\n",
      "15\n",
      "13\n",
      "-11\n",
      "40\n",
      "2\n"
     ]
    }
   ],
   "source": [
    "a = 10\n",
    "b = 7\n",
    "\n",
    "# Bitwise and(&) operator\n",
    "print(a & b)              # binary for 10 is 1010 and binary for 7 is 111. If we & each bit we get 0010. which is 2\n",
    "\n",
    "# Bitwise or(|) operator\n",
    "print(a | b)              # binary for 10 is 1010 and binary for 7 is 111. If we | each bit we get 1111, which is 15\n",
    "\n",
    "# Bitwise xor(^) operator\n",
    "print(a^b)                # binary for 10 is 1010 and binary for 7 is 111. If we ~ each bit we get 1101, which is 13\n",
    "\n",
    "# Bitwise One’s Complement(~) operator. Python One's complement of a number ‘A’ is equal to -(A+1)\n",
    "print(~a)                 # binary for 10 is 1010. One's complement for 1010 is -(1010+1) --> -(1011), which is -11\n",
    "\n",
    "# Bitwise left shift(<<) operator \n",
    "print(a<<2)               # binary for 10 is 1010 and <<2 will convert 1010 to 101000 which is 40\n",
    "\n",
    "# Bitwise left shift(<<) operator \n",
    "print(a>>2)               # binary for 10 is 1010 and >>2 will convert 1010 to 10 which is 2"
   ]
  },
  {
   "cell_type": "markdown",
   "metadata": {},
   "source": [
    "## String Functions"
   ]
  },
  {
   "cell_type": "markdown",
   "metadata": {},
   "source": [
    "<font color=\"blue\">1. Split :</font> <br>The split() method splits a string into a list.\n",
    "It splits the <font color=\"red\">string into substrings </font>if it finds instances of the separator"
   ]
  },
  {
   "cell_type": "code",
   "execution_count": 130,
   "metadata": {},
   "outputs": [
    {
     "name": "stdout",
     "output_type": "stream",
     "text": [
      "['w', 'ld_health-org']\n",
      "<class 'list'>\n"
     ]
    }
   ],
   "source": [
    "ms = 'world_health-org'\n",
    "x = ms.split(sep='or',maxsplit=1)\n",
    "print(x)\n",
    "print(type(x))"
   ]
  },
  {
   "cell_type": "code",
   "execution_count": null,
   "metadata": {},
   "outputs": [],
   "source": []
  },
  {
   "cell_type": "markdown",
   "metadata": {},
   "source": [
    "<font color=\"blue\"> 2. Replace:</font><br>The replace() method replaces a string with another string:"
   ]
  },
  {
   "cell_type": "code",
   "execution_count": 131,
   "metadata": {},
   "outputs": [
    {
     "data": {
      "text/plain": [
       "'gr*at l*arning'"
      ]
     },
     "execution_count": 131,
     "metadata": {},
     "output_type": "execute_result"
    }
   ],
   "source": [
    "a='great learning'\n",
    "a.replace('e','*')"
   ]
  },
  {
   "cell_type": "markdown",
   "metadata": {},
   "source": [
    "\n",
    "<font color=\"blue\"> 3. Join:\n",
    "    \n",
    "The join() function takes all items in an iterable and joins them into one string. We have to specify a  string as the separator."
   ]
  },
  {
   "cell_type": "code",
   "execution_count": 132,
   "metadata": {},
   "outputs": [
    {
     "data": {
      "text/plain": [
       "'great*learning*bangalore'"
      ]
     },
     "execution_count": 132,
     "metadata": {},
     "output_type": "execute_result"
    }
   ],
   "source": [
    "s=['great','learning','bangalore']\n",
    "'*'.join(s)"
   ]
  },
  {
   "cell_type": "code",
   "execution_count": null,
   "metadata": {},
   "outputs": [],
   "source": []
  },
  {
   "cell_type": "markdown",
   "metadata": {},
   "source": [
    "\n",
    "<font color=\"blue\"> 4. find:\n",
    "    \n",
    "The find() function finds the first occurrence of the specified value.  It returns -1 if the value is not found in that string.\n",
    "\n",
    "The find() function is almost the same as the index() function, but the only difference is that the index() function raises an exception if the value is not found."
   ]
  },
  {
   "cell_type": "code",
   "execution_count": 133,
   "metadata": {},
   "outputs": [
    {
     "data": {
      "text/plain": [
       "13"
      ]
     },
     "execution_count": 133,
     "metadata": {},
     "output_type": "execute_result"
    }
   ],
   "source": [
    "s=\"python programming\"\n",
    "s.find('m')"
   ]
  },
  {
   "cell_type": "markdown",
   "metadata": {},
   "source": [
    "\n",
    "<font color=\"blue\"> 5.count( )\n",
    "    \n",
    "The count() function finds the number of times a specified value(given by the user) appears in the given string."
   ]
  },
  {
   "cell_type": "code",
   "execution_count": 134,
   "metadata": {},
   "outputs": [
    {
     "data": {
      "text/plain": [
       "2"
      ]
     },
     "execution_count": 134,
     "metadata": {},
     "output_type": "execute_result"
    }
   ],
   "source": [
    "s.count('m')"
   ]
  },
  {
   "cell_type": "code",
   "execution_count": 135,
   "metadata": {
    "colab": {},
    "colab_type": "code",
    "id": "xBAmpcmGKJzE"
   },
   "outputs": [],
   "source": [
    "###############################################################################################################################"
   ]
  },
  {
   "cell_type": "code",
   "execution_count": null,
   "metadata": {},
   "outputs": [],
   "source": []
  },
  {
   "cell_type": "code",
   "execution_count": null,
   "metadata": {},
   "outputs": [],
   "source": []
  },
  {
   "cell_type": "markdown",
   "metadata": {
    "colab_type": "text",
    "id": "EYKC4PTRWwQW"
   },
   "source": [
    "<a id=\"pfc\"> </a>\n",
    "## 7. Python flow control\n",
    "<table align=\"left\">\n",
    "    <tr>\n",
    "        <td width=\"15%\">\n",
    "            <img src=\"note.png\">\n",
    "        </td>\n",
    "        <td>\n",
    "            <div align=\"left\", style=\"font-size:120%\">\n",
    "                <font color=\"#21618C\">\n",
    "                    <b>\n",
    "                        <br>A program’s control flow is the order in which the program’s code executes. The control flow of a Python program is regulated by: <br>\n",
    "                        <br>1. Conditional Statements\n",
    "                        <br>2. Loops, and \n",
    "                        <br>3. Function Calls\n",
    "                    </b>\n",
    "                </font>\n",
    "            </div>\n",
    "        </td>\n",
    "    </tr>\n",
    "</table>"
   ]
  },
  {
   "cell_type": "markdown",
   "metadata": {
    "colab_type": "text",
    "id": "M7-agtVYWwQW"
   },
   "source": [
    "<td width=\"15%\">\n",
    "            <img src=\"control.png\">\n",
    "</td>"
   ]
  },
  {
   "cell_type": "markdown",
   "metadata": {
    "colab_type": "text",
    "id": "V1YcJ963WwQW"
   },
   "source": [
    "The **selection** structure tests a condition, then executes one sequence of statements instead of another, depending on whether the condition is true or false. A condition is any variable or expression that returns a BOOLEAN value (TRUE or FALSE).<br><br>\n",
    "The **iteration** structure executes a sequence of statements repeatedly as long as a condition holds true.<br><br>\n",
    "The **sequence** structure simply executes a sequence of statements in the order in which they occur.<br><br>"
   ]
  },
  {
   "cell_type": "markdown",
   "metadata": {
    "colab_type": "text",
    "id": "Khr9cLynWwQX"
   },
   "source": [
    "<a id=\"condition\"> </a>\n",
    "### 7.1. The if- statement\n",
    "You might want to execute some statements only if some condition holds, or choose statements to execute depending on several mutually exclusive conditions. The Python compound statement if, which uses if, elif, and else clauses, lets you conditionally execute blocks of statements."
   ]
  },
  {
   "cell_type": "markdown",
   "metadata": {
    "colab_type": "text",
    "id": "o9FIHv6iWwQX"
   },
   "source": [
    "#### Syntax:\n",
    "<em>if test_expression1:\n",
    "<br> &emsp;&emsp;statement(s)</br>\n",
    "<br>elif test_expression2:\n",
    "<br>&emsp;&emsp;    statement(s)\n",
    "<br>elif test_expression3:\n",
    "<br>&emsp;&emsp;    statement(s)\n",
    "<br>.\n",
    "<br>.\n",
    "<br>.\n",
    "<br>else:\n",
    " <br>&emsp;&emsp;   statement(s)"
   ]
  },
  {
   "cell_type": "code",
   "execution_count": 136,
   "metadata": {
    "colab": {},
    "colab_type": "code",
    "id": "7LwvSrRKWwQX",
    "outputId": "1621129d-c727-4ceb-c3cf-cc77e3e8f5f9"
   },
   "outputs": [
    {
     "name": "stdout",
     "output_type": "stream",
     "text": [
      "x is positive and odd\n"
     ]
    }
   ],
   "source": [
    "x = 5\n",
    "if x < 0: \n",
    "    print (\"x is negative\")\n",
    "elif x % 2: \n",
    "    print (\"x is positive and odd\")\n",
    "else: \n",
    "    print (\"x is even and non-negative\")"
   ]
  },
  {
   "cell_type": "markdown",
   "metadata": {
    "colab_type": "text",
    "id": "WtJSHeZQWwQZ"
   },
   "source": [
    "<a id=\"while\"> </a>\n",
    "### 7.2. The while- Loop\n",
    "A while loop is a control flow statement that allows code to be executed repeatedly based on a given Boolean condition. The while loop can be thought of as a repeating if statement."
   ]
  },
  {
   "cell_type": "markdown",
   "metadata": {
    "colab_type": "text",
    "id": "84MGRyPAWwQZ"
   },
   "source": [
    "#### Syntax:\n",
    "<em>while test_expression:\n",
    "<br> &emsp;&emsp;statement(s)\n",
    "</em>\n",
    "<br><br>First, test_expression, which is known as the loop condition, is evaluated. If the condition is false, the while statement ends. If the loop condition is satisfied, the statement or statements that comprise the loop body are executed. When the loop body finishes executing, the loop condition is evaluated again, to see if another iteration should be performed. This process continues until the loop condition is false, at which point the while statement ends."
   ]
  },
  {
   "cell_type": "code",
   "execution_count": 137,
   "metadata": {
    "colab": {},
    "colab_type": "code",
    "id": "kHHgfi0oWwQa",
    "outputId": "8fd74e6e-abce-4de2-fc69-039b89677a3f"
   },
   "outputs": [
    {
     "name": "stdout",
     "output_type": "stream",
     "text": [
      "The sum is 55\n"
     ]
    }
   ],
   "source": [
    "n = 10\n",
    "\n",
    "# initialize sum and counter\n",
    "sum = 0\n",
    "i = 1\n",
    "\n",
    "while i <= n:\n",
    "    sum = sum + i\n",
    "    i = i+1    # update counter\n",
    "\n",
    "# print the sum\n",
    "print(\"The sum is\", sum)"
   ]
  },
  {
   "cell_type": "markdown",
   "metadata": {
    "colab_type": "text",
    "id": "g5CO95wpWwQb"
   },
   "source": [
    "<a id=\"for\"> </a>\n",
    "### 7.3. The for- Loop\n",
    "The for loop in Python is used to iterate over a sequence (list, tuple, string) or other iterable objects. Iterating over a sequence is called traversal."
   ]
  },
  {
   "cell_type": "markdown",
   "metadata": {
    "colab_type": "text",
    "id": "H3aE0oCpWwQc"
   },
   "source": [
    "#### Syntax:\n",
    "<em>for iterator in sequence:\n",
    "<br> &emsp;&emsp;statement(s)\n",
    "</em>"
   ]
  },
  {
   "cell_type": "code",
   "execution_count": 138,
   "metadata": {
    "colab": {},
    "colab_type": "code",
    "id": "1OtL6cydWwQc",
    "outputId": "b6a9c654-1afe-467f-f909-697d6cf06213"
   },
   "outputs": [
    {
     "name": "stdout",
     "output_type": "stream",
     "text": [
      "I\n",
      " \n",
      "l\n",
      "o\n",
      "v\n",
      "e\n",
      " \n",
      "P\n",
      "y\n",
      "t\n",
      "h\n",
      "o\n",
      "n\n",
      " \n"
     ]
    }
   ],
   "source": [
    "string = \"I love Python \"\n",
    "for i in string:\n",
    "    print(i)"
   ]
  },
  {
   "cell_type": "markdown",
   "metadata": {
    "colab_type": "text",
    "id": "hW5w1qTGWwQd"
   },
   "source": [
    "#### The range() function"
   ]
  },
  {
   "cell_type": "markdown",
   "metadata": {
    "colab_type": "text",
    "id": "Yjf8GMD_WwQd"
   },
   "source": [
    "We can generate a sequence of numbers using <em>range()</em> function. <em>range(10)</em> will generate numbers from 0 to 9 (10 numbers). We can also define the start, stop and step size as range(start,stop,step size). step size defaults to 1 if not provided. \n",
    "<br><br>\n",
    "This function does not store all the values in memory, it would be inefficient. So it remembers the start, stop, step size and generates the next number on the go.<br>\n",
    "\n"
   ]
  },
  {
   "cell_type": "code",
   "execution_count": 139,
   "metadata": {
    "colab": {},
    "colab_type": "code",
    "id": "XOLjZY1KWwQd",
    "outputId": "f566f3df-22c7-4108-ca93-62cb854712eb"
   },
   "outputs": [
    {
     "data": {
      "text/plain": [
       "range(0, 10)"
      ]
     },
     "execution_count": 139,
     "metadata": {},
     "output_type": "execute_result"
    }
   ],
   "source": [
    "range(0, 10)"
   ]
  },
  {
   "cell_type": "markdown",
   "metadata": {
    "colab_type": "text",
    "id": "oEFq8qddWwQe"
   },
   "source": [
    "We can use the <em>range()</em> function in for loops to iterate through a sequence of numbers. It can be combined with the <em>len()</em> function to iterate though a sequence using indexing."
   ]
  },
  {
   "cell_type": "code",
   "execution_count": 140,
   "metadata": {
    "colab": {},
    "colab_type": "code",
    "id": "J38Qn6eVWwQe",
    "outputId": "5bbb124c-0e88-4367-f05c-881891bfc740",
    "scrolled": true
   },
   "outputs": [
    {
     "name": "stdout",
     "output_type": "stream",
     "text": [
      "0\n",
      "1\n",
      "2\n",
      "3\n",
      "4\n",
      "5\n",
      "6\n",
      "7\n",
      "8\n",
      "9\n"
     ]
    }
   ],
   "source": [
    "for i in range(10):\n",
    "    print(i)"
   ]
  },
  {
   "cell_type": "code",
   "execution_count": 141,
   "metadata": {
    "colab": {},
    "colab_type": "code",
    "id": "jFRZDbMVWwQf",
    "outputId": "2943a716-4534-4d24-d452-7e94ce2875ed"
   },
   "outputs": [
    {
     "name": "stdout",
     "output_type": "stream",
     "text": [
      "P\n",
      "y\n",
      "t\n",
      "h\n",
      "o\n",
      "n\n",
      " \n",
      "P\n",
      "r\n",
      "o\n",
      "g\n",
      "r\n",
      "a\n",
      "m\n",
      "m\n",
      "i\n",
      "n\n",
      "g\n"
     ]
    }
   ],
   "source": [
    "string = \"Python Programming\"\n",
    "\n",
    "# iterate over the string using index\n",
    "for i in range(len(string)):\n",
    "    print(string[i])"
   ]
  },
  {
   "cell_type": "markdown",
   "metadata": {
    "colab_type": "text",
    "id": "mgffaWTOWwQh"
   },
   "source": [
    "<a id=\"pseudo\"> </a>\n",
    "## 8. Pseudocode\n",
    "<table align=\"left\">\n",
    "    <tr>\n",
    "        <td width=\"15%\">\n",
    "            <img src=\"note.png\">\n",
    "        </td>\n",
    "        <td>\n",
    "            <div align=\"left\", style=\"font-size:120%\">\n",
    "                <font color=\"#21618C\">\n",
    "                    <b>\n",
    "                        <br>Before you write a piece of computer code, you have to know what the program is supposed to do. It is a good idea to write it in a simple way first to ensure you have included everything you need. The best way to set this up is by using pseudocode. <br>\n",
    "                    <br><br>Pseudocode is a simple way of writing programming code in English. It is not actual programming language. It uses short phrases to write code for programs before you actually create it in a specific language. Once you know what the program is about and how it will function, then you can use pseudocode to create statements to achieve the required results for your program.<br>\n",
    "                        \n",
    "                    </b>\n",
    "                </font>\n",
    "            </div>\n",
    "        </td>\n",
    "    </tr>\n",
    "</table>"
   ]
  },
  {
   "cell_type": "markdown",
   "metadata": {
    "colab_type": "text",
    "id": "rH1PPKXmWwQh"
   },
   "source": [
    "**Pseudocode to create a program to add 2 numbers together and display the result.<br>**\n",
    "<em>\n",
    "<br>Read two numbers, A, B from user \n",
    "<br>Add the numbers in variable A and B\n",
    "<br>Print Sum<br>\n",
    "</em>"
   ]
  },
  {
   "cell_type": "markdown",
   "metadata": {
    "colab_type": "text",
    "id": "2mch_wF3WwQi"
   },
   "source": [
    "Pseudocode can be written how you want. But some companies use specific pseudocode rules to keep everyone in the company on the same page. "
   ]
  },
  {
   "cell_type": "markdown",
   "metadata": {
    "colab_type": "text",
    "id": "acdtIzq9WwQi"
   },
   "source": [
    "**Pseudocode to create a program to check if a student has cleared the exam or not.<br>**\n",
    "<em>\n",
    "<br>Take students grade from the user \n",
    "<br>If student's grade is greater than or equal to 60, print \"pass\"\n",
    "<br>Otherwise print \"fail\"<br>\n",
    "</em>"
   ]
  },
  {
   "cell_type": "markdown",
   "metadata": {
    "colab_type": "text",
    "id": "bWByFaT6WwQi"
   },
   "source": [
    "**Pseudocode to create a program to print the average marks of ten students**\n",
    "\n",
    "<em>\n",
    "<br>Set total to zero \n",
    "<br>Set grade counter to one\n",
    "<br>While grade counter is less than or equal to ten\n",
    "<br>&emsp;&emsp;Input the next grade\n",
    "<br>&emsp;&emsp;Add the grade into the total\n",
    "<br>Set the class average to the total divided by ten\n",
    "<br>Print the class average.\n",
    "\n",
    "\n",
    "</em>"
   ]
  },
  {
   "cell_type": "markdown",
   "metadata": {
    "colab_type": "text",
    "id": "k7MAFVg0lOV9"
   },
   "source": [
    "<a id=\"list\"> </a>\n",
    "## 9. Introduction to List\n",
    "<table align=\"left\">\n",
    "    <tr>\n",
    "        <td width=\"15%\">\n",
    "            <img src=\"note.png\">\n",
    "        </td>\n",
    "        <td>\n",
    "            <div align=\"left\", style=\"font-size:120%\">\n",
    "                <font color=\"#21618C\">\n",
    "                    <b>The list is a type which holds some other objects, in a given order.<br>\n",
    "                    The list type implements the sequence protocol, and also allows you to add and remove elements from the sequence.<br>\n",
    "                    The list is nothing but a set of values, we can use the index in square bracket [ ] to identify an value belonging to the list.<br>\n",
    "                    </b>\n",
    "                </font>\n",
    "            </div>\n",
    "        </td>\n",
    "    </tr>\n",
    "</table>"
   ]
  },
  {
   "cell_type": "markdown",
   "metadata": {
    "colab_type": "text",
    "id": "ouaWeg1HlOV-"
   },
   "source": [
    "### Constructing Lists\n",
    "\n",
    "To create a list, use square brackets [] and separate items in the list with commas.\n",
    "A list can be empty or contain any number of items with different data types (integers, float, strings, etc.)"
   ]
  },
  {
   "cell_type": "code",
   "execution_count": 142,
   "metadata": {
    "colab": {},
    "colab_type": "code",
    "id": "l7yc0bRClOV_",
    "outputId": "1f8199fb-6ee1-4ede-ee16-5e93d4a32efc"
   },
   "outputs": [
    {
     "data": {
      "text/plain": [
       "[]"
      ]
     },
     "execution_count": 142,
     "metadata": {},
     "output_type": "execute_result"
    }
   ],
   "source": [
    "# create a empty list\n",
    "empty_list = []\n",
    "empty_list"
   ]
  },
  {
   "cell_type": "markdown",
   "metadata": {
    "colab_type": "text",
    "id": "J1b3zg1FlOWE"
   },
   "source": [
    "You can also use the built-in list type object to create lists"
   ]
  },
  {
   "cell_type": "code",
   "execution_count": 143,
   "metadata": {
    "colab": {},
    "colab_type": "code",
    "id": "IzJUweQulOWG"
   },
   "outputs": [
    {
     "data": {
      "text/plain": [
       "[]"
      ]
     },
     "execution_count": 143,
     "metadata": {},
     "output_type": "execute_result"
    }
   ],
   "source": [
    "# empty list\n",
    "empty_list = list()\n",
    "empty_list"
   ]
  },
  {
   "cell_type": "markdown",
   "metadata": {
    "colab_type": "text",
    "id": "bqMaBAxmlOWL"
   },
   "source": [
    "<table align=\"left\">\n",
    "    <tr>\n",
    "        <td width=\"7%\">\n",
    "            <img src=\"caution.png\">\n",
    "        </td>\n",
    "        <td>\n",
    "            <div align=\"left\", style=\"font-size:120%\">\n",
    "                <font color=\"#21618C\">\n",
    "                    <b>Note that python creates a single new list every time you execute the [] expression\n",
    "                    </b>\n",
    "                </font>\n",
    "            </div>\n",
    "        </td>\n",
    "    </tr>\n",
    "</table>"
   ]
  },
  {
   "cell_type": "code",
   "execution_count": 144,
   "metadata": {
    "colab": {},
    "colab_type": "code",
    "id": "8FczrbhJlOWM"
   },
   "outputs": [],
   "source": [
    "list_1 = list_2 = [] # both names will point to the same list\n",
    "\n",
    "list_1 = []\n",
    "list_1 = list_2 # both names will point to the same list\n",
    "\n",
    "list_1 = []; list_2 = [] # independent lists"
   ]
  },
  {
   "cell_type": "markdown",
   "metadata": {
    "colab_type": "text",
    "id": "7Ze-AE-ilOWQ"
   },
   "source": [
    "**Note : A list can also hold another list as an item, these are called nested lists**"
   ]
  },
  {
   "cell_type": "code",
   "execution_count": 145,
   "metadata": {
    "colab": {},
    "colab_type": "code",
    "id": "7p-pXl5AlOWR"
   },
   "outputs": [
    {
     "data": {
      "text/plain": [
       "[['Data Science', 'Machine Learning'], [135, 232, 321]]"
      ]
     },
     "execution_count": 145,
     "metadata": {},
     "output_type": "execute_result"
    }
   ],
   "source": [
    "# nested list\n",
    "my_list = [['Data Science','Machine Learning'],[135,232,321]]\n",
    "my_list"
   ]
  },
  {
   "cell_type": "markdown",
   "metadata": {
    "colab_type": "text",
    "id": "N2pazdrtlOWV"
   },
   "source": [
    "### Acessing Elements in a List\n",
    "You can access the list items by referring to the index number"
   ]
  },
  {
   "cell_type": "markdown",
   "metadata": {
    "colab_type": "text",
    "id": "-91L66MKlOWW"
   },
   "source": [
    "**Indexing:**<br>\n",
    "We use the index operator [ ]. Each item in a list has an assigned index value. Note that the index starts from 0 in python and must be an integer"
   ]
  },
  {
   "cell_type": "markdown",
   "metadata": {
    "colab_type": "text",
    "id": "vblehRuPlOWW"
   },
   "source": [
    "Print the second item of the list"
   ]
  },
  {
   "cell_type": "code",
   "execution_count": 146,
   "metadata": {
    "colab": {},
    "colab_type": "code",
    "id": "i3sF9oAZlOWX",
    "outputId": "b981a906-36ed-441e-d88c-5f1de66d2100"
   },
   "outputs": [
    {
     "name": "stdout",
     "output_type": "stream",
     "text": [
      "machine learning\n"
     ]
    }
   ],
   "source": [
    "# define a list\n",
    "course = ['data science', 'machine learning', 'python', 'html', 'big data' ]\n",
    "\n",
    "# access the second item of a list at index 1\n",
    "print(course[1])"
   ]
  },
  {
   "cell_type": "markdown",
   "metadata": {
    "colab_type": "text",
    "id": "OaoqcVFflOWb"
   },
   "source": [
    "**Negative Indexing**:<br>\n",
    "Negative indexing means beginning from the end, -1 refers to the last item, -2 refers to the second last item"
   ]
  },
  {
   "cell_type": "markdown",
   "metadata": {
    "colab_type": "text",
    "id": "051ayn53lOWd"
   },
   "source": [
    "Print the second last item of the list"
   ]
  },
  {
   "cell_type": "code",
   "execution_count": 147,
   "metadata": {
    "colab": {},
    "colab_type": "code",
    "id": "YrbU3bDKlOWe",
    "outputId": "28b7f8b4-271d-4fd7-abd6-33ab627d80f3"
   },
   "outputs": [
    {
     "name": "stdout",
     "output_type": "stream",
     "text": [
      "html\n"
     ]
    }
   ],
   "source": [
    "# define a list\n",
    "course = ['data science', 'machine learning', 'python', 'html', 'big data' ]\n",
    "\n",
    "# access the second item of a list at index -2\n",
    "print(course[-2])"
   ]
  },
  {
   "cell_type": "markdown",
   "metadata": {
    "colab_type": "text",
    "id": "-cRJ8KcDlOWi"
   },
   "source": [
    "**Length of List:**<br>\n",
    "len() function help us in returning the total number of elements in a list"
   ]
  },
  {
   "cell_type": "code",
   "execution_count": 148,
   "metadata": {
    "colab": {},
    "colab_type": "code",
    "id": "kgWYZOH4lOWi",
    "outputId": "e83df651-3854-4165-8295-b35c4d55d930"
   },
   "outputs": [
    {
     "data": {
      "text/plain": [
       "5"
      ]
     },
     "execution_count": 148,
     "metadata": {},
     "output_type": "execute_result"
    }
   ],
   "source": [
    "# define a list\n",
    "course = ['data science', 'machine learning', 'python', 'html', 'big data' ]\n",
    "\n",
    "# print the length of the list\n",
    "len(course)"
   ]
  },
  {
   "cell_type": "markdown",
   "metadata": {
    "colab_type": "text",
    "id": "qA7QIiCalOWl"
   },
   "source": [
    "### Slicing of a List\n",
    "List uses the slicing operator : (colon) to extract part of the sequence"
   ]
  },
  {
   "cell_type": "markdown",
   "metadata": {
    "colab_type": "text",
    "id": "kU4HEvHOlOWm"
   },
   "source": [
    "Return first three elements from the list"
   ]
  },
  {
   "cell_type": "code",
   "execution_count": 149,
   "metadata": {
    "colab": {},
    "colab_type": "code",
    "id": "rSpOoiAelOWn",
    "outputId": "e16628d3-4368-4f5d-f3e3-840353626290"
   },
   "outputs": [
    {
     "data": {
      "text/plain": [
       "['data science', 'machine learning', 'python']"
      ]
     },
     "execution_count": 149,
     "metadata": {},
     "output_type": "execute_result"
    }
   ],
   "source": [
    "# define a list\n",
    "course = ['data science', 'machine learning', 'python', 'html', 'big data' ]\n",
    "\n",
    "# print first three element from the list\n",
    "course[:3]"
   ]
  },
  {
   "cell_type": "markdown",
   "metadata": {
    "colab_type": "text",
    "id": "eRh8Pa76lOWs"
   },
   "source": [
    "Return last three elements from the list"
   ]
  },
  {
   "cell_type": "code",
   "execution_count": 150,
   "metadata": {
    "colab": {},
    "colab_type": "code",
    "id": "DH7aGi4LlOWt",
    "outputId": "de7d49a9-aeb5-4a43-b7af-54b43234e131"
   },
   "outputs": [
    {
     "data": {
      "text/plain": [
       "['python', 'html', 'big data']"
      ]
     },
     "execution_count": 150,
     "metadata": {},
     "output_type": "execute_result"
    }
   ],
   "source": [
    "# define a list\n",
    "course = ['data science', 'machine learning', 'python', 'html', 'big data' ]\n",
    "\n",
    "# print last three element from the list\n",
    "course[2:]"
   ]
  },
  {
   "cell_type": "markdown",
   "metadata": {
    "colab_type": "text",
    "id": "qgZlo-wjlOW0"
   },
   "source": [
    "Select elements from beginning to end"
   ]
  },
  {
   "cell_type": "code",
   "execution_count": 151,
   "metadata": {
    "colab": {},
    "colab_type": "code",
    "id": "tm7L5EmNlOW2",
    "outputId": "629cd6c9-a28e-47f1-f1ad-11d51a2ba383"
   },
   "outputs": [
    {
     "data": {
      "text/plain": [
       "['data science', 'machine learning', 'python', 'html', 'big data']"
      ]
     },
     "execution_count": 151,
     "metadata": {},
     "output_type": "execute_result"
    }
   ],
   "source": [
    "# define a list\n",
    "course = ['data science', 'machine learning', 'python', 'html', 'big data' ]\n",
    "\n",
    "# print the all elements\n",
    "course[:]"
   ]
  },
  {
   "cell_type": "markdown",
   "metadata": {
    "colab_type": "text",
    "id": "J1hVPLMGlOW6"
   },
   "source": [
    "Select first four elements"
   ]
  },
  {
   "cell_type": "code",
   "execution_count": 152,
   "metadata": {
    "colab": {},
    "colab_type": "code",
    "id": "oK3K2g2AlOW8",
    "outputId": "2d403055-bcd8-433c-9e77-86848a230f86"
   },
   "outputs": [
    {
     "data": {
      "text/plain": [
       "['data science', 'machine learning', 'python', 'html']"
      ]
     },
     "execution_count": 152,
     "metadata": {},
     "output_type": "execute_result"
    }
   ],
   "source": [
    "# define a list\n",
    "course = ['data science', 'machine learning', 'python', 'html', 'big data' ]\n",
    "\n",
    "# print first four elements\n",
    "course[0:4]"
   ]
  },
  {
   "cell_type": "markdown",
   "metadata": {
    "colab_type": "text",
    "id": "amRcxXWJlOW_"
   },
   "source": [
    "If all three start , stop, and step are provided, it generates portion of sequence after index start till stop with increment of index step"
   ]
  },
  {
   "cell_type": "code",
   "execution_count": 153,
   "metadata": {
    "colab": {},
    "colab_type": "code",
    "id": "JaBWRA5HlOW_",
    "outputId": "e0500730-fc8b-4fde-b65b-4465a8dc1815"
   },
   "outputs": [
    {
     "name": "stdout",
     "output_type": "stream",
     "text": [
      "[3, 5, 7]\n"
     ]
    }
   ],
   "source": [
    "a = [1,2,3,4,5,6,7,8,9,10]\n",
    "print(a[2:7:2])"
   ]
  },
  {
   "cell_type": "code",
   "execution_count": 154,
   "metadata": {
    "colab": {},
    "colab_type": "code",
    "id": "FOptGXXclOXC",
    "outputId": "e43349ff-31de-4e31-9b18-123cae8ef064"
   },
   "outputs": [
    {
     "name": "stdout",
     "output_type": "stream",
     "text": [
      "[8, 6, 4, 2]\n"
     ]
    }
   ],
   "source": [
    "a = [1,2,3,4,5,6,7,8,9,10]\n",
    "print(a[7:0:-2])"
   ]
  },
  {
   "cell_type": "markdown",
   "metadata": {
    "colab_type": "text",
    "id": "ScxQDKSTlOXG"
   },
   "source": [
    "### Change Item Value\n",
    "Refer the index number to change the value of a specific item"
   ]
  },
  {
   "cell_type": "code",
   "execution_count": 155,
   "metadata": {
    "colab": {},
    "colab_type": "code",
    "id": "RpNZcyX7lOXG",
    "outputId": "1bfbc3e9-5247-4f46-c402-6b46ff22c8b1"
   },
   "outputs": [
    {
     "data": {
      "text/plain": [
       "['data science', 'machine learning', 'python', 'statistics', 'big data']"
      ]
     },
     "execution_count": 155,
     "metadata": {},
     "output_type": "execute_result"
    }
   ],
   "source": [
    "# define a list\n",
    "course = ['data science', 'machine learning', 'python', 'html', 'big data' ]\n",
    "\n",
    "# change the third item\n",
    "course[3] = 'statistics'\n",
    "\n",
    "course"
   ]
  },
  {
   "cell_type": "markdown",
   "metadata": {
    "colab_type": "text",
    "id": "I6UyOdBPlOXK"
   },
   "source": [
    "### List Methods\n",
    "Python has a set of built-in methods that you can use on lists and arrays"
   ]
  },
  {
   "cell_type": "markdown",
   "metadata": {
    "colab_type": "text",
    "id": "F_T4hJ2glOXK"
   },
   "source": [
    "<table align=\"left\">\n",
    "    <tr>\n",
    "        <td width=\"7%\">\n",
    "            <img src=\"caution.png\">\n",
    "        </td>\n",
    "        <td>\n",
    "            <div align=\"left\", style=\"font-size:120%\">\n",
    "                <font color=\"#21618C\">\n",
    "                    <b>Python does not have built-in support for arrays, but python lists can be used rather than arrays\n",
    "                    </b>\n",
    "                </font>\n",
    "            </div>\n",
    "        </td>\n",
    "    </tr>\n",
    "</table>"
   ]
  },
  {
   "cell_type": "markdown",
   "metadata": {
    "colab_type": "text",
    "id": "1XHl45_ulOXL"
   },
   "source": [
    "Python has built-in methods that you can use on list:<br>\n",
    "append()<br>\n",
    "insert()<br>\n",
    "extend()<br>\n",
    "del <br>\n",
    "remove()<br>\n",
    "pop()<br>\n",
    "reverse()<br>"
   ]
  },
  {
   "cell_type": "markdown",
   "metadata": {
    "colab_type": "text",
    "id": "HwSX55nIlOXM"
   },
   "source": [
    "**list.append(item)**<br>\n",
    "The method list.append(item) will add the element at the end of a list"
   ]
  },
  {
   "cell_type": "code",
   "execution_count": 156,
   "metadata": {
    "colab": {},
    "colab_type": "code",
    "id": "EAVUVeK9lOXN",
    "outputId": "106709b6-bbbc-43a7-bdfc-0e22d68811e8"
   },
   "outputs": [
    {
     "data": {
      "text/plain": [
       "['data science',\n",
       " 'machine learning',\n",
       " 'python',\n",
       " 'html',\n",
       " 'big data',\n",
       " ['statistics']]"
      ]
     },
     "execution_count": 156,
     "metadata": {},
     "output_type": "execute_result"
    }
   ],
   "source": [
    "# define a list\n",
    "course1 = ['data science', 'machine learning', 'python', 'html', 'big data' ]\n",
    "\n",
    "course2 = ['statistics']\n",
    "\n",
    "# add element to the list\n",
    "course1.append(course2)\n",
    "course1"
   ]
  },
  {
   "cell_type": "markdown",
   "metadata": {
    "colab_type": "text",
    "id": "SrDNR12vlOXR"
   },
   "source": [
    "**list.insert(i, item)**<br>\n",
    "This method will insert an element at the ith index in a list"
   ]
  },
  {
   "cell_type": "code",
   "execution_count": 157,
   "metadata": {
    "colab": {},
    "colab_type": "code",
    "id": "_cYC5DTUlOXS",
    "outputId": "fca53bd3-a652-465d-dd3d-751e82c145df"
   },
   "outputs": [
    {
     "data": {
      "text/plain": [
       "['data science',\n",
       " 'machine learning',\n",
       " 'statistics',\n",
       " 'python',\n",
       " 'html',\n",
       " 'big data']"
      ]
     },
     "execution_count": 157,
     "metadata": {},
     "output_type": "execute_result"
    }
   ],
   "source": [
    "# define a list\n",
    "course = ['data science', 'machine learning', 'python', 'html', 'big data' ]\n",
    "\n",
    "# insert element at 2nd index in a list\n",
    "course.insert(2, 'statistics')\n",
    "course"
   ]
  },
  {
   "cell_type": "markdown",
   "metadata": {
    "colab_type": "text",
    "id": "Yp6n82H9lOXV"
   },
   "source": [
    "**list.extend(items)**<br>\n",
    "The extend method concatenates lists"
   ]
  },
  {
   "cell_type": "code",
   "execution_count": 158,
   "metadata": {
    "colab": {},
    "colab_type": "code",
    "id": "mlvM1P5UlOXV",
    "outputId": "863cffa1-11b2-49a5-84b0-94a53e5b87a4"
   },
   "outputs": [
    {
     "data": {
      "text/plain": [
       "['data science',\n",
       " 'machine learning',\n",
       " 'python',\n",
       " 'html',\n",
       " 'big data',\n",
       " 'artificial intelligence']"
      ]
     },
     "execution_count": 158,
     "metadata": {},
     "output_type": "execute_result"
    }
   ],
   "source": [
    "# define a first list\n",
    "course1 = ['data science', 'machine learning', 'python', 'html', 'big data']\n",
    "\n",
    "# define a second list\n",
    "course2 = ['artificial intelligence']\n",
    "\n",
    "# concatenate the list\n",
    "course1.extend(course2)\n",
    "\n",
    "course1"
   ]
  },
  {
   "cell_type": "markdown",
   "metadata": {
    "colab_type": "text",
    "id": "F3-UUY-VlOXY"
   },
   "source": [
    "**Deleting List Elements**<br>\n",
    "Use the del keywords to delete an item at specific index"
   ]
  },
  {
   "cell_type": "code",
   "execution_count": 159,
   "metadata": {
    "colab": {},
    "colab_type": "code",
    "id": "KbXD1ZeKlOXY",
    "outputId": "958aa201-8280-4262-c223-6725d2113ddd"
   },
   "outputs": [
    {
     "data": {
      "text/plain": [
       "['data science', 'machine learning', 'html', 'big data']"
      ]
     },
     "execution_count": 159,
     "metadata": {},
     "output_type": "execute_result"
    }
   ],
   "source": [
    "# define a first list\n",
    "course = ['data science', 'machine learning', 'python', 'html', 'big data' ]\n",
    "\n",
    "# delete the third element from the list\n",
    "del course[2]\n",
    "\n",
    "# print the output\n",
    "course"
   ]
  },
  {
   "cell_type": "code",
   "execution_count": 160,
   "metadata": {
    "colab": {},
    "colab_type": "code",
    "id": "N4M4NElolOXb",
    "outputId": "91507cb5-31c9-44a3-d587-4ce264b77999"
   },
   "outputs": [
    {
     "data": {
      "text/plain": [
       "['python', 'html', 'big data']"
      ]
     },
     "execution_count": 160,
     "metadata": {},
     "output_type": "execute_result"
    }
   ],
   "source": [
    "# define a first list\n",
    "course = ['data science', 'machine learning', 'python', 'html', 'big data' ]\n",
    "\n",
    "# delete multiple items from the list\n",
    "del course[0:2]\n",
    "\n",
    "# print the output\n",
    "course"
   ]
  },
  {
   "cell_type": "markdown",
   "metadata": {
    "colab_type": "text",
    "id": "6dtvUtC4lOXe"
   },
   "source": [
    "**list.remove(item)**<br>\n",
    "It will search and remove only the first occurrence of an item"
   ]
  },
  {
   "cell_type": "code",
   "execution_count": 161,
   "metadata": {
    "colab": {},
    "colab_type": "code",
    "id": "lD4nEd3XlOXf",
    "outputId": "d339e49d-5d58-4532-c941-95db5548a9a4"
   },
   "outputs": [
    {
     "data": {
      "text/plain": [
       "['data science', 'machine learning', 'python', 'big data', 'html']"
      ]
     },
     "execution_count": 161,
     "metadata": {},
     "output_type": "execute_result"
    }
   ],
   "source": [
    "# define a first list\n",
    "course = ['data science', 'machine learning', 'python', 'html', 'big data', 'html' ]\n",
    "\n",
    "course.remove('html')\n",
    "\n",
    "course"
   ]
  },
  {
   "cell_type": "markdown",
   "metadata": {
    "colab_type": "text",
    "id": "kh7StOWwlOXj"
   },
   "source": [
    "**list.pop()**<br>\n",
    "Removes and returns the last item of a list"
   ]
  },
  {
   "cell_type": "code",
   "execution_count": 162,
   "metadata": {
    "colab": {},
    "colab_type": "code",
    "id": "-foykz1elOXj",
    "outputId": "d3ede577-211f-42b4-b52a-2370be686867"
   },
   "outputs": [
    {
     "data": {
      "text/plain": [
       "'html'"
      ]
     },
     "execution_count": 162,
     "metadata": {},
     "output_type": "execute_result"
    }
   ],
   "source": [
    "# define a first list\n",
    "course = ['data science', 'machine learning', 'python', 'html', 'big data', 'html' ]\n",
    "\n",
    "course.pop()"
   ]
  },
  {
   "cell_type": "markdown",
   "metadata": {
    "colab_type": "text",
    "id": "-TIiityflOXm"
   },
   "source": [
    "**list.reverse()**<br>\n",
    "The reverse() method reverses the sorting order of the elements"
   ]
  },
  {
   "cell_type": "code",
   "execution_count": 163,
   "metadata": {
    "colab": {},
    "colab_type": "code",
    "id": "7BOJ0w3mlOXn",
    "outputId": "bcfae3cc-8754-48d8-c85a-a6c94c9ff5eb"
   },
   "outputs": [
    {
     "data": {
      "text/plain": [
       "['html', 'big data', 'html', 'python', 'machine learning', 'data science']"
      ]
     },
     "execution_count": 163,
     "metadata": {},
     "output_type": "execute_result"
    }
   ],
   "source": [
    "# define a first list\n",
    "course = ['data science', 'machine learning', 'python', 'html', 'big data', 'html' ]\n",
    "\n",
    "course.reverse()\n",
    "\n",
    "course"
   ]
  },
  {
   "cell_type": "markdown",
   "metadata": {
    "colab_type": "text",
    "id": "pnr_MevIlOXr"
   },
   "source": [
    "### Common List Operations"
   ]
  },
  {
   "cell_type": "markdown",
   "metadata": {
    "colab_type": "text",
    "id": "1CQCse0PlOXs"
   },
   "source": [
    "**Concatenation(+)**<br>\n",
    "Concatenation uses the + Operator. It combines lists"
   ]
  },
  {
   "cell_type": "code",
   "execution_count": 164,
   "metadata": {
    "colab": {},
    "colab_type": "code",
    "id": "zQWYDPdvlOXu",
    "outputId": "092f2c91-7b33-4ead-9911-0e700bfa41e7"
   },
   "outputs": [
    {
     "data": {
      "text/plain": [
       "['data science',\n",
       " 'machine learning',\n",
       " 'python',\n",
       " 'html',\n",
       " 'big data',\n",
       " 'artificial intelligence']"
      ]
     },
     "execution_count": 164,
     "metadata": {},
     "output_type": "execute_result"
    }
   ],
   "source": [
    "# define a first list\n",
    "course1 = ['data science', 'machine learning', 'python', 'html', 'big data' ]\n",
    "\n",
    "# define a second list\n",
    "course2 = ['artificial intelligence']\n",
    "\n",
    "# concatenate the list\n",
    "course1 + course2"
   ]
  },
  {
   "cell_type": "markdown",
   "metadata": {
    "colab_type": "text",
    "id": "QqAALWm7lOX1"
   },
   "source": [
    "**Repetition(*)**<br>\n",
    "Uses the * Operator. Concatenates a list a repeated number of times"
   ]
  },
  {
   "cell_type": "code",
   "execution_count": 165,
   "metadata": {
    "colab": {},
    "colab_type": "code",
    "id": "7B06K8WTlOX2",
    "outputId": "e5afb210-47f6-4063-defe-52adee03fc2d"
   },
   "outputs": [
    {
     "data": {
      "text/plain": [
       "['data science',\n",
       " 'machine learning',\n",
       " 'python',\n",
       " 'html',\n",
       " 'big data',\n",
       " 'data science',\n",
       " 'machine learning',\n",
       " 'python',\n",
       " 'html',\n",
       " 'big data']"
      ]
     },
     "execution_count": 165,
     "metadata": {},
     "output_type": "execute_result"
    }
   ],
   "source": [
    "# define a first list\n",
    "course1 = ['data science', 'machine learning', 'python', 'html', 'big data' ]\n",
    "\n",
    "course1*2"
   ]
  },
  {
   "cell_type": "markdown",
   "metadata": {
    "colab_type": "text",
    "id": "3A-Y1nmtlOX5"
   },
   "source": [
    "<a id=\"tuple\"> </a>\n",
    "## 10. Introduction to Tuple\n",
    "<table align=\"left\">\n",
    "    <tr>\n",
    "        <td width=\"15%\">\n",
    "            <img src=\"note.png\">\n",
    "        </td>\n",
    "        <td>\n",
    "            <div align=\"left\", style=\"font-size:120%\">\n",
    "                <font color=\"#21618C\">\n",
    "                    <b>A tuple is a collection which is ordered and unchangeable.<br>\n",
    "                    In python tuples are written with round brackets.<br>\n",
    "                    Iterating over the elements of a tuple is faster compared to iterating over a list.<br>\n",
    "                    </b>\n",
    "                </font>\n",
    "            </div>\n",
    "        </td>\n",
    "    </tr>\n",
    "</table>"
   ]
  },
  {
   "cell_type": "markdown",
   "metadata": {
    "colab_type": "text",
    "id": "ScJ3ixydlOX6"
   },
   "source": [
    "### Creating Tuple\n",
    "Here, we are creating few tuples. We can have tuple of same type of data items as well as mixed type of data items "
   ]
  },
  {
   "cell_type": "code",
   "execution_count": 166,
   "metadata": {
    "colab": {},
    "colab_type": "code",
    "id": "NQBE7t2ulOX7",
    "outputId": "1832e3e5-20e0-4dc4-f61a-8965d7c24287"
   },
   "outputs": [
    {
     "name": "stdout",
     "output_type": "stream",
     "text": [
      "('hello', 'python', 'hello', 'world')\n"
     ]
    }
   ],
   "source": [
    "# tuple of strings\n",
    "my_tuple = (\"hello\", \"python\", \"hello\", \"world\")\n",
    "print(my_tuple)"
   ]
  },
  {
   "cell_type": "code",
   "execution_count": 167,
   "metadata": {
    "colab": {},
    "colab_type": "code",
    "id": "PnRZK1dxlOX-",
    "outputId": "f21b4406-2c37-4c96-8d6e-86713bc2c65a"
   },
   "outputs": [
    {
     "name": "stdout",
     "output_type": "stream",
     "text": [
      "(123, 2.228, 'hello python')\n"
     ]
    }
   ],
   "source": [
    "# tuple of int, float, string\n",
    "my_tuple = (123, 2.228, \"hello python\")\n",
    "print(my_tuple)"
   ]
  },
  {
   "cell_type": "code",
   "execution_count": 168,
   "metadata": {
    "colab": {},
    "colab_type": "code",
    "id": "exXhLO--lOYB",
    "outputId": "e87e7f04-07fb-4803-a3e7-6a9cdc4fc3b1"
   },
   "outputs": [
    {
     "name": "stdout",
     "output_type": "stream",
     "text": [
      "('python', [12, 12, 31])\n"
     ]
    }
   ],
   "source": [
    "# tuple of string and list\n",
    "my_tuple = (\"python\", [12, 12, 31])\n",
    "print(my_tuple)"
   ]
  },
  {
   "cell_type": "code",
   "execution_count": 169,
   "metadata": {
    "colab": {},
    "colab_type": "code",
    "id": "hcWQtL9WlOYD",
    "outputId": "e4d0e614-3a8a-45cd-823f-1fc432240d28"
   },
   "outputs": [
    {
     "name": "stdout",
     "output_type": "stream",
     "text": [
      "((2546, 332, 421), ('python', 63.1, 'hi'))\n"
     ]
    }
   ],
   "source": [
    "# tuples inside another tuple\n",
    "# nested tuple\n",
    "my_tuple = ((2546, 332, 421), (\"python\", 63.1, \"hi\"))\n",
    "print(my_tuple)"
   ]
  },
  {
   "cell_type": "markdown",
   "metadata": {
    "colab_type": "text",
    "id": "vUTi1nAmlOYF"
   },
   "source": [
    "### Access Tuple Elements\n",
    "We use indexes to access the elements of a tuple"
   ]
  },
  {
   "cell_type": "code",
   "execution_count": 170,
   "metadata": {
    "colab": {},
    "colab_type": "code",
    "id": "huvQyj5elOYG",
    "outputId": "8e5613df-14e0-4a87-c1d3-d98b896060fb"
   },
   "outputs": [
    {
     "data": {
      "text/plain": [
       "'yellow'"
      ]
     },
     "execution_count": 170,
     "metadata": {},
     "output_type": "execute_result"
    }
   ],
   "source": [
    "# tuple of strings\n",
    "my_tuple = (\"mango\", \"yellow\", \"green\", \"blue\")\n",
    "\n",
    "# access the second element from the list\n",
    "my_tuple[1]"
   ]
  },
  {
   "cell_type": "markdown",
   "metadata": {
    "colab_type": "text",
    "id": "XynjAWjDlOYJ"
   },
   "source": [
    "**Negetive Indexing**<br>\n",
    "Negative indexing means beginning from the end, -1 refers to the last item, -2 refers to the second last item of the tuple"
   ]
  },
  {
   "cell_type": "code",
   "execution_count": 171,
   "metadata": {
    "colab": {},
    "colab_type": "code",
    "id": "xVxncDFZlOYK",
    "outputId": "20ac8a7c-5044-4994-9c72-654cbfbc83be"
   },
   "outputs": [
    {
     "data": {
      "text/plain": [
       "'blue'"
      ]
     },
     "execution_count": 171,
     "metadata": {},
     "output_type": "execute_result"
    }
   ],
   "source": [
    "# tuple of strings\n",
    "my_tuple = (\"mango\", \"yellow\", \"green\", \"blue\")\n",
    "\n",
    "# print last item of the tuple\n",
    "my_tuple[-1]"
   ]
  },
  {
   "cell_type": "markdown",
   "metadata": {
    "colab_type": "text",
    "id": "4PjS3fBClOYP"
   },
   "source": [
    "**Range of Indexes**<br>\n",
    "You can specify a range of indexes by specifying where to start and where to end the range.\n",
    "When specifying a range, the return value will be a new tuple with the specified items"
   ]
  },
  {
   "cell_type": "code",
   "execution_count": 172,
   "metadata": {
    "colab": {},
    "colab_type": "code",
    "id": "pUrKJfi3lOYS",
    "outputId": "8320475c-4c02-49ab-fc23-87d3761d68fb"
   },
   "outputs": [
    {
     "data": {
      "text/plain": [
       "('blue', 353)"
      ]
     },
     "execution_count": 172,
     "metadata": {},
     "output_type": "execute_result"
    }
   ],
   "source": [
    "# define the tuple\n",
    "my_tuple = (\"mango\", \"yellow\", \"green\", \"blue\", 353, 363.2, 'w')\n",
    "\n",
    "# return fourth and fifth element from the list\n",
    "my_tuple[3:5]"
   ]
  },
  {
   "cell_type": "markdown",
   "metadata": {
    "colab_type": "text",
    "id": "3Wd3grS1lOYU"
   },
   "source": [
    "**Range of Negative Indexes**<br>\n",
    "Specify negative indexes if you want to start the search from the end of the tuple"
   ]
  },
  {
   "cell_type": "code",
   "execution_count": 173,
   "metadata": {
    "colab": {},
    "colab_type": "code",
    "id": "Uo6BsGbWlOYV",
    "outputId": "6b44fdf4-39bc-4869-e156-ca0618d6cd4b"
   },
   "outputs": [
    {
     "data": {
      "text/plain": [
       "(353, 363.2)"
      ]
     },
     "execution_count": 173,
     "metadata": {},
     "output_type": "execute_result"
    }
   ],
   "source": [
    "# define the tuple\n",
    "my_tuple = (\"mango\", \"yellow\", \"green\", \"blue\", 353, 363.2, 'w')\n",
    "\n",
    "# return the items from index -3 (included) to index -1 (excluded)\n",
    "my_tuple[-3:-1]"
   ]
  },
  {
   "cell_type": "markdown",
   "metadata": {
    "colab_type": "text",
    "id": "k4z6R6-elOYZ"
   },
   "source": [
    "### Change Tuple Values\n",
    "We cannot change the elements of a tuple because elements of tuple are immutable. However we can change the elements of nested items that are mutable"
   ]
  },
  {
   "cell_type": "code",
   "execution_count": 174,
   "metadata": {
    "colab": {},
    "colab_type": "code",
    "id": "rP7KiPKFlOYZ",
    "outputId": "1ad42726-1e3f-4e7b-a62d-e562f6f21760"
   },
   "outputs": [
    {
     "name": "stdout",
     "output_type": "stream",
     "text": [
      "(123, ['s', 'a', 'v'], 'World')\n",
      "(123, ['s', 'a', 99], 'World')\n"
     ]
    }
   ],
   "source": [
    "my_tuple = (123, ['s', 'a', 'v'], \"World\")\n",
    "print(my_tuple)\n",
    "\n",
    "# changing the element of the list \n",
    "# this is valid because list is mutable\n",
    "my_tuple[1][2] = 99\n",
    "print(my_tuple)"
   ]
  },
  {
   "cell_type": "code",
   "execution_count": 175,
   "metadata": {
    "colab": {},
    "colab_type": "code",
    "id": "j88od3xTlOYe",
    "outputId": "ea8acfa7-13d5-496d-c513-b8e681c8b60c"
   },
   "outputs": [
    {
     "ename": "TypeError",
     "evalue": "'tuple' object does not support item assignment",
     "output_type": "error",
     "traceback": [
      "\u001b[0;31m---------------------------------------------------------------------------\u001b[0m",
      "\u001b[0;31mTypeError\u001b[0m                                 Traceback (most recent call last)",
      "Cell \u001b[0;32mIn[175], line 6\u001b[0m\n\u001b[1;32m      2\u001b[0m my_tuple \u001b[38;5;241m=\u001b[39m (\u001b[38;5;124m\"\u001b[39m\u001b[38;5;124mmango\u001b[39m\u001b[38;5;124m\"\u001b[39m, \u001b[38;5;124m\"\u001b[39m\u001b[38;5;124myellow\u001b[39m\u001b[38;5;124m\"\u001b[39m, \u001b[38;5;124m\"\u001b[39m\u001b[38;5;124mgreen\u001b[39m\u001b[38;5;124m\"\u001b[39m, \u001b[38;5;124m\"\u001b[39m\u001b[38;5;124mblue\u001b[39m\u001b[38;5;124m\"\u001b[39m, \u001b[38;5;241m353\u001b[39m, \u001b[38;5;241m363.2\u001b[39m, \u001b[38;5;124m'\u001b[39m\u001b[38;5;124mw\u001b[39m\u001b[38;5;124m'\u001b[39m)\n\u001b[1;32m      4\u001b[0m \u001b[38;5;66;03m# changing the element of tuple\u001b[39;00m\n\u001b[1;32m      5\u001b[0m \u001b[38;5;66;03m# This is not valid since tuple elements are immutable\u001b[39;00m\n\u001b[0;32m----> 6\u001b[0m \u001b[43mmy_tuple\u001b[49m\u001b[43m[\u001b[49m\u001b[38;5;241;43m0\u001b[39;49m\u001b[43m]\u001b[49m \u001b[38;5;241m=\u001b[39m \u001b[38;5;124m'\u001b[39m\u001b[38;5;124morange\u001b[39m\u001b[38;5;124m'\u001b[39m\n",
      "\u001b[0;31mTypeError\u001b[0m: 'tuple' object does not support item assignment"
     ]
    }
   ],
   "source": [
    "# define the tuple\n",
    "my_tuple = (\"mango\", \"yellow\", \"green\", \"blue\", 353, 363.2, 'w')\n",
    "\n",
    "# changing the element of tuple\n",
    "# This is not valid since tuple elements are immutable\n",
    "my_tuple[0] = 'orange'"
   ]
  },
  {
   "cell_type": "markdown",
   "metadata": {
    "colab_type": "text",
    "id": "Zky-5Gc7lOYj"
   },
   "source": [
    "### Delete Operation on Tuple\n",
    "We already discussed above that tuple elements are immutable which also means that we cannot delete the elements of a tuple. However deleting entire tuple is possible"
   ]
  },
  {
   "cell_type": "code",
   "execution_count": 176,
   "metadata": {
    "colab": {},
    "colab_type": "code",
    "id": "D7Gty-b1lOYk",
    "outputId": "ac636107-93aa-47b2-b794-2f9de733deab"
   },
   "outputs": [
    {
     "ename": "TypeError",
     "evalue": "'tuple' object doesn't support item deletion",
     "output_type": "error",
     "traceback": [
      "\u001b[0;31m---------------------------------------------------------------------------\u001b[0m",
      "\u001b[0;31mTypeError\u001b[0m                                 Traceback (most recent call last)",
      "Cell \u001b[0;32mIn[176], line 4\u001b[0m\n\u001b[1;32m      1\u001b[0m \u001b[38;5;66;03m# define the tuple\u001b[39;00m\n\u001b[1;32m      2\u001b[0m my_tuple \u001b[38;5;241m=\u001b[39m (\u001b[38;5;124m\"\u001b[39m\u001b[38;5;124mmango\u001b[39m\u001b[38;5;124m\"\u001b[39m, \u001b[38;5;124m\"\u001b[39m\u001b[38;5;124myellow\u001b[39m\u001b[38;5;124m\"\u001b[39m, \u001b[38;5;124m\"\u001b[39m\u001b[38;5;124mgreen\u001b[39m\u001b[38;5;124m\"\u001b[39m, \u001b[38;5;124m\"\u001b[39m\u001b[38;5;124mblue\u001b[39m\u001b[38;5;124m\"\u001b[39m, \u001b[38;5;241m353\u001b[39m, \u001b[38;5;241m363.2\u001b[39m, \u001b[38;5;124m'\u001b[39m\u001b[38;5;124mw\u001b[39m\u001b[38;5;124m'\u001b[39m)\n\u001b[0;32m----> 4\u001b[0m \u001b[38;5;28;01mdel\u001b[39;00m \u001b[43mmy_tuple\u001b[49m\u001b[43m[\u001b[49m\u001b[38;5;241;43m0\u001b[39;49m\u001b[43m]\u001b[49m\n",
      "\u001b[0;31mTypeError\u001b[0m: 'tuple' object doesn't support item deletion"
     ]
    }
   ],
   "source": [
    "# define the tuple\n",
    "my_tuple = (\"mango\", \"yellow\", \"green\", \"blue\", 353, 363.2, 'w')\n",
    "\n",
    "del my_tuple[0]"
   ]
  },
  {
   "cell_type": "code",
   "execution_count": 195,
   "metadata": {
    "colab": {},
    "colab_type": "code",
    "id": "Ds_gIT5TlOYm",
    "outputId": "d0fa7053-2225-4b30-c517-713866d29518"
   },
   "outputs": [
    {
     "ename": "NameError",
     "evalue": "name 'my_tuple' is not defined",
     "output_type": "error",
     "traceback": [
      "\u001b[0;31m---------------------------------------------------------------------------\u001b[0m",
      "\u001b[0;31mNameError\u001b[0m                                 Traceback (most recent call last)",
      "Cell \u001b[0;32mIn[195], line 4\u001b[0m\n\u001b[1;32m      1\u001b[0m \u001b[38;5;66;03m# deleting entire tuple is possible\u001b[39;00m\n\u001b[1;32m      2\u001b[0m \u001b[38;5;28;01mdel\u001b[39;00m my_tuple\n\u001b[0;32m----> 4\u001b[0m \u001b[38;5;28mprint\u001b[39m(\u001b[43mmy_tuple\u001b[49m)\n",
      "\u001b[0;31mNameError\u001b[0m: name 'my_tuple' is not defined"
     ]
    }
   ],
   "source": [
    "# deleting entire tuple is possible\n",
    "del my_tuple\n",
    "\n",
    "print(my_tuple)"
   ]
  },
  {
   "cell_type": "markdown",
   "metadata": {
    "colab_type": "text",
    "id": "2cUgv-1JlOYr"
   },
   "source": [
    "### Tuple Methods"
   ]
  },
  {
   "cell_type": "markdown",
   "metadata": {
    "colab_type": "text",
    "id": "N7ScyalKlOYr"
   },
   "source": [
    "Python has two built-in methods that you can use on tuples:<br>\n",
    "count()<br>\n",
    "index()<br>\n",
    "sorted()"
   ]
  },
  {
   "cell_type": "markdown",
   "metadata": {
    "colab_type": "text",
    "id": "Rm4BU6ArlOYs"
   },
   "source": [
    "**count()**<br>\n",
    "Returns the number of times a specified value occurs in a tuple"
   ]
  },
  {
   "cell_type": "code",
   "execution_count": 215,
   "metadata": {
    "colab": {},
    "colab_type": "code",
    "id": "yWgBHzHrlOYt",
    "outputId": "54fd1431-e415-4ed3-b1d7-3a9fb6cd3322"
   },
   "outputs": [
    {
     "data": {
      "text/plain": [
       "4"
      ]
     },
     "execution_count": 215,
     "metadata": {},
     "output_type": "execute_result"
    }
   ],
   "source": [
    "my_tuple = ('a','p','p','l','e','e','d','e', 'd','e','a','c','w')\n",
    "my_tuple.count('e')"
   ]
  },
  {
   "cell_type": "markdown",
   "metadata": {
    "colab_type": "text",
    "id": "73ncK7nglOYy"
   },
   "source": [
    "**index()**<br>\n",
    "Searches the tuple for a specified value and returns the position of where it was found"
   ]
  },
  {
   "cell_type": "code",
   "execution_count": 216,
   "metadata": {
    "colab": {},
    "colab_type": "code",
    "id": "Ix7s1pC-lOYz",
    "outputId": "02ca41ec-ca1b-49fd-ea72-d184f18b2fe3"
   },
   "outputs": [
    {
     "data": {
      "text/plain": [
       "3"
      ]
     },
     "execution_count": 216,
     "metadata": {},
     "output_type": "execute_result"
    }
   ],
   "source": [
    "my_tuple = ('a','p','p','l','e','e','d','e', 'd','e','a','c','w')\n",
    "my_tuple.index('l')"
   ]
  },
  {
   "cell_type": "markdown",
   "metadata": {
    "colab_type": "text",
    "id": "gwFfKq49lOY3"
   },
   "source": [
    "**sorted()**<br>\n",
    "It sorts a tuple and always returns a list with the elements in a sorted manner"
   ]
  },
  {
   "cell_type": "code",
   "execution_count": 217,
   "metadata": {
    "colab": {},
    "colab_type": "code",
    "id": "Vq_7omfilOY4",
    "outputId": "fa28b4e3-b77e-4d25-f54a-0fd9eb653395"
   },
   "outputs": [
    {
     "data": {
      "text/plain": [
       "[2, 2, 3, 3, 4, 5, 6, 7, 8, 9, 9]"
      ]
     },
     "execution_count": 217,
     "metadata": {},
     "output_type": "execute_result"
    }
   ],
   "source": [
    "my_tuple = (2,3,5,6,4,7,8,9,9,2,3)\n",
    "sorted(my_tuple)"
   ]
  },
  {
   "cell_type": "markdown",
   "metadata": {
    "colab_type": "text",
    "id": "0b6idnNclOY6"
   },
   "source": [
    "<a id=\"dictionary\"> </a>\n",
    "## 11. Introduction to Dictionary\n",
    "<table align=\"left\">\n",
    "    <tr>\n",
    "        <td width=\"15%\">\n",
    "            <img src=\"note.png\">\n",
    "        </td>\n",
    "        <td>\n",
    "            <div align=\"left\", style=\"font-size:120%\">\n",
    "                <font color=\"#21618C\">\n",
    "                    <b>Python dictionary is an unordered collection of items.<br>\n",
    "                    Dictionaries map keys to values and these key-value pairs provide a useful way to store data in python.<br>\n",
    "                    \n",
    "                    \n",
    "                    </b>\n",
    "                </font>\n",
    "            </div>\n",
    "        </td>\n",
    "    </tr>\n",
    "</table>"
   ]
  },
  {
   "cell_type": "markdown",
   "metadata": {
    "colab_type": "text",
    "collapsed": true,
    "id": "cspWPRjklOY7",
    "jupyter": {
     "outputs_hidden": true
    }
   },
   "source": [
    "**Gerneral Syntax of Dictionary:**<br>\n",
    "dictionary_name = {&nbsp;key_1: value_1,<br>\n",
    "&nbsp;&nbsp;&nbsp;&nbsp;&nbsp;&nbsp;&nbsp;&nbsp;&nbsp;&nbsp;&nbsp;&nbsp;&nbsp;&nbsp;&nbsp;&nbsp;&nbsp;&nbsp;&nbsp;&nbsp;&nbsp;&nbsp;&nbsp;&nbsp;&nbsp;&nbsp;&nbsp;&nbsp;&nbsp;&nbsp;&nbsp;&nbsp;                   key_2: value_2,<br>\n",
    "&nbsp;&nbsp;&nbsp;&nbsp;&nbsp;&nbsp;&nbsp;&nbsp;&nbsp;&nbsp;&nbsp;&nbsp;&nbsp;&nbsp;&nbsp;&nbsp;&nbsp;&nbsp;&nbsp;&nbsp;&nbsp;&nbsp;&nbsp;&nbsp;&nbsp;&nbsp;&nbsp;&nbsp;&nbsp;&nbsp;&nbsp;&nbsp;                    key_3: value_3,<br>\n",
    "&nbsp;&nbsp;&nbsp;&nbsp;&nbsp;&nbsp;&nbsp;&nbsp;&nbsp;&nbsp;&nbsp;&nbsp;&nbsp;&nbsp;&nbsp;&nbsp;&nbsp;&nbsp;&nbsp;&nbsp;&nbsp;&nbsp;&nbsp;&nbsp;&nbsp;&nbsp;&nbsp;&nbsp;&nbsp;&nbsp;&nbsp;&nbsp;                    }"
   ]
  },
  {
   "cell_type": "markdown",
   "metadata": {
    "colab_type": "text",
    "collapsed": true,
    "id": "6Uo8vVz5lOY7",
    "jupyter": {
     "outputs_hidden": true
    }
   },
   "source": [
    "### Create Dictionary\n",
    "Separate keys from values with a colon(:), and a pair from another by a comma(,). Put it all in curly braces"
   ]
  },
  {
   "cell_type": "code",
   "execution_count": 218,
   "metadata": {
    "colab": {},
    "colab_type": "code",
    "id": "vET9e8tvlOY8",
    "outputId": "70e0cff6-1d40-4656-edfb-d91b84415638"
   },
   "outputs": [
    {
     "name": "stdout",
     "output_type": "stream",
     "text": [
      "{'Mia': 83847, 'John': 83837, 'Jill': 94766}\n"
     ]
    }
   ],
   "source": [
    "# create dictionary\n",
    "balance = {\n",
    "    \"Mia\" : 83847,\n",
    "    \"John\" : 83837,\n",
    "    \"Jill\" : 94766\n",
    "}\n",
    "print(balance)"
   ]
  },
  {
   "cell_type": "markdown",
   "metadata": {
    "colab_type": "text",
    "id": "CYzZhSMBlOY-"
   },
   "source": [
    "### Accessing Items\n",
    "You can access the items of a dictionary by referring to its key name, inside square brackets"
   ]
  },
  {
   "cell_type": "code",
   "execution_count": 219,
   "metadata": {
    "colab": {},
    "colab_type": "code",
    "id": "FLzl9QCElOY-",
    "outputId": "f37abdef-2933-472d-c3af-cd595995bfea"
   },
   "outputs": [
    {
     "data": {
      "text/plain": [
       "83847"
      ]
     },
     "execution_count": 219,
     "metadata": {},
     "output_type": "execute_result"
    }
   ],
   "source": [
    "# Get the value of \"Mia\" key\n",
    "x = balance[\"Mia\"]\n",
    "x"
   ]
  },
  {
   "cell_type": "markdown",
   "metadata": {
    "colab_type": "text",
    "id": "lMBBc0NClOZA"
   },
   "source": [
    "We can use get method to get the value of \"Mia\" key"
   ]
  },
  {
   "cell_type": "code",
   "execution_count": 220,
   "metadata": {
    "colab": {},
    "colab_type": "code",
    "id": "yzxT-g4_lOZB",
    "outputId": "fe9468d3-01ec-4972-c41d-5676aea42db7"
   },
   "outputs": [
    {
     "data": {
      "text/plain": [
       "83847"
      ]
     },
     "execution_count": 220,
     "metadata": {},
     "output_type": "execute_result"
    }
   ],
   "source": [
    "x = balance.get(\"Mia\")\n",
    "x"
   ]
  },
  {
   "cell_type": "markdown",
   "metadata": {
    "colab_type": "text",
    "id": "Af-GN5FvlOZD"
   },
   "source": [
    "### Change Values\n",
    "You can change the value of a specific element by referring to its key name"
   ]
  },
  {
   "cell_type": "code",
   "execution_count": 221,
   "metadata": {
    "colab": {},
    "colab_type": "code",
    "id": "1TvsmEfUlOZD",
    "outputId": "6e924091-43b3-433d-e5b2-6e6b925002ef"
   },
   "outputs": [
    {
     "data": {
      "text/plain": [
       "{2015: 34500, 2016: 34300, 2017: 40000}"
      ]
     },
     "execution_count": 221,
     "metadata": {},
     "output_type": "execute_result"
    }
   ],
   "source": [
    "# create a dictionary\n",
    "year_sales = {\n",
    "  2015: 34500,\n",
    "  2016: 34300,\n",
    "  2017: 40000\n",
    "}\n",
    "\n",
    "year_sales"
   ]
  },
  {
   "cell_type": "code",
   "execution_count": 222,
   "metadata": {
    "colab": {},
    "colab_type": "code",
    "id": "uKFOaTjYlOZF",
    "outputId": "cf50d4ad-635f-405a-a7eb-0ee7661aeaba"
   },
   "outputs": [
    {
     "data": {
      "text/plain": [
       "{2015: 45000, 2016: 34300, 2017: 40000}"
      ]
     },
     "execution_count": 222,
     "metadata": {},
     "output_type": "execute_result"
    }
   ],
   "source": [
    "# Change the sales figure for 2015\n",
    "year_sales[2015] = 45000\n",
    "\n",
    "year_sales"
   ]
  },
  {
   "cell_type": "markdown",
   "metadata": {
    "colab_type": "text",
    "id": "4ZjshY9olOZH"
   },
   "source": [
    "**Dictionary Length**"
   ]
  },
  {
   "cell_type": "code",
   "execution_count": 223,
   "metadata": {
    "colab": {},
    "colab_type": "code",
    "id": "2cu7C_IMlOZH",
    "outputId": "83f85193-bdaf-42b5-8c08-5e6449042e83"
   },
   "outputs": [
    {
     "name": "stdout",
     "output_type": "stream",
     "text": [
      "3\n"
     ]
    }
   ],
   "source": [
    "# print the length of dictionary\n",
    "print(len(year_sales))"
   ]
  },
  {
   "cell_type": "markdown",
   "metadata": {
    "colab_type": "text",
    "id": "lofKfjzslOZL"
   },
   "source": [
    "**Adding Items**<br>\n",
    "Adding an item to the dictionary is done by using a new index key and assigning a value to it"
   ]
  },
  {
   "cell_type": "code",
   "execution_count": 224,
   "metadata": {
    "colab": {},
    "colab_type": "code",
    "id": "7sOEou6RlOZM",
    "outputId": "2c8290ff-275d-4e3b-a1ae-e4a9a8485afc"
   },
   "outputs": [
    {
     "data": {
      "text/plain": [
       "{2015: 34500, 2016: 34300, 2017: 40000, '2018': 55000}"
      ]
     },
     "execution_count": 224,
     "metadata": {},
     "output_type": "execute_result"
    }
   ],
   "source": [
    "# create a dictionary\n",
    "year_sales = {\n",
    "  2015: 34500,\n",
    "  2016: 34300,\n",
    "  2017: 40000\n",
    "}\n",
    "\n",
    "year_sales['2018'] = 55000\n",
    "\n",
    "year_sales"
   ]
  },
  {
   "cell_type": "markdown",
   "metadata": {
    "colab_type": "text",
    "id": "zuqbxr_klOZO"
   },
   "source": [
    "### Dictionary Method"
   ]
  },
  {
   "cell_type": "markdown",
   "metadata": {
    "colab_type": "text",
    "id": "XPFRl_tklOZP"
   },
   "source": [
    "**Removing Items**<br>\n",
    "There are several methods to remove items from a dictionary:<br>\n",
    "pop() method<br>\n",
    "popitem() method<br>\n",
    "del keywords<br>\n",
    "clear keyword"
   ]
  },
  {
   "cell_type": "markdown",
   "metadata": {
    "colab_type": "text",
    "id": "q_CAbAyhlOZQ"
   },
   "source": [
    "**pop()**<br>\n",
    "The pop() method removes the item with the specified key name"
   ]
  },
  {
   "cell_type": "code",
   "execution_count": 225,
   "metadata": {
    "colab": {},
    "colab_type": "code",
    "id": "OyRv9HDolOZS",
    "outputId": "ef576fcf-f64d-41c1-99ea-b3508ead7a96"
   },
   "outputs": [
    {
     "data": {
      "text/plain": [
       "{2016: 34300, 2017: 40000}"
      ]
     },
     "execution_count": 225,
     "metadata": {},
     "output_type": "execute_result"
    }
   ],
   "source": [
    "# create a dictionary\n",
    "year_sales = {\n",
    "  2015: 34500,\n",
    "  2016: 34300,\n",
    "  2017: 40000\n",
    "}\n",
    "\n",
    "# remove key from dictionary\n",
    "year_sales.pop(2015)\n",
    "\n",
    "year_sales"
   ]
  },
  {
   "cell_type": "markdown",
   "metadata": {
    "colab_type": "text",
    "id": "xUdLEc2flOZV"
   },
   "source": [
    "**popitem()**<br>\n",
    "The popitem() method removes the last inserted item"
   ]
  },
  {
   "cell_type": "code",
   "execution_count": 226,
   "metadata": {
    "colab": {},
    "colab_type": "code",
    "id": "3kqtHtYtlOZV",
    "outputId": "308104cd-7f1c-43d0-d498-624a08462d9e"
   },
   "outputs": [
    {
     "data": {
      "text/plain": [
       "{2015: 34500, 2016: 34300}"
      ]
     },
     "execution_count": 226,
     "metadata": {},
     "output_type": "execute_result"
    }
   ],
   "source": [
    "# create a dictionary\n",
    "year_sales = {\n",
    "  2015: 34500,\n",
    "  2016: 34300,\n",
    "  2017: 40000\n",
    "}\n",
    "\n",
    "# remove last item from the dictionary\n",
    "year_sales.popitem()\n",
    "\n",
    "year_sales"
   ]
  },
  {
   "cell_type": "markdown",
   "metadata": {
    "colab_type": "text",
    "id": "F6xbazp3lOZZ"
   },
   "source": [
    "**del keywords**<br>\n",
    "The del keyword removes the item with the specified key name"
   ]
  },
  {
   "cell_type": "code",
   "execution_count": 227,
   "metadata": {
    "colab": {},
    "colab_type": "code",
    "id": "2bE5xrKklOZa",
    "outputId": "f0ae1f35-41a9-428f-fc9c-4272d4415fed"
   },
   "outputs": [
    {
     "data": {
      "text/plain": [
       "{2016: 34300, 2017: 40000}"
      ]
     },
     "execution_count": 227,
     "metadata": {},
     "output_type": "execute_result"
    }
   ],
   "source": [
    "# create a dictionary\n",
    "year_sales = {\n",
    "  2015: 34500,\n",
    "  2016: 34300,\n",
    "  2017: 40000\n",
    "}\n",
    "\n",
    "# delete item from the dictionary\n",
    "del year_sales[2015]\n",
    "\n",
    "year_sales"
   ]
  },
  {
   "cell_type": "markdown",
   "metadata": {
    "colab_type": "text",
    "id": "o7UcFmEolOZe"
   },
   "source": [
    "**clear()**<br>\n",
    "The clear() keyword empties the dictionary"
   ]
  },
  {
   "cell_type": "code",
   "execution_count": 228,
   "metadata": {
    "colab": {},
    "colab_type": "code",
    "id": "bOlkyUrIlOZe",
    "outputId": "38e3cc10-f027-430e-d712-1a64c7740dea"
   },
   "outputs": [
    {
     "data": {
      "text/plain": [
       "{}"
      ]
     },
     "execution_count": 228,
     "metadata": {},
     "output_type": "execute_result"
    }
   ],
   "source": [
    "# create a dictionary\n",
    "year_sales = {\n",
    "  2015: 34500,\n",
    "  2016: 34300,\n",
    "  2017: 40000\n",
    "}\n",
    "\n",
    "# clear the dictionary\n",
    "year_sales.clear()\n",
    "\n",
    "year_sales"
   ]
  },
  {
   "cell_type": "markdown",
   "metadata": {
    "colab_type": "text",
    "id": "XkFpUgjrlOZg"
   },
   "source": [
    "**Copy()**<br>\n",
    "You cannot copy a dictionary simply by typing dict2 = dict1, because dict2 will only be a reference to dict1, and changes made in dict1 will automatically also be made in dict2<br>\n",
    "You can use copy() method to make copy of dictionary"
   ]
  },
  {
   "cell_type": "code",
   "execution_count": 229,
   "metadata": {
    "colab": {},
    "colab_type": "code",
    "id": "54jp7k9-lOZh"
   },
   "outputs": [],
   "source": [
    "# create a dictionary\n",
    "year_sales1 = {\n",
    "  2015: 34500,\n",
    "  2016: 34300,\n",
    "  2017: 40000\n",
    "}\n",
    "\n",
    "# make a copy of dictionary\n",
    "copy_dict = year_sales.copy()"
   ]
  },
  {
   "cell_type": "markdown",
   "metadata": {
    "colab_type": "text",
    "id": "4yZMb4IzlOZk"
   },
   "source": [
    "**sorted()**<br>\n",
    "Return a new sorted list of keys in the dictionary"
   ]
  },
  {
   "cell_type": "code",
   "execution_count": 230,
   "metadata": {
    "colab": {},
    "colab_type": "code",
    "id": "rdIcvsg9lOZk",
    "outputId": "61af280f-01af-4cda-f9da-1329bbf0e26c"
   },
   "outputs": [
    {
     "data": {
      "text/plain": [
       "[1, 3, 5, 7, 9]"
      ]
     },
     "execution_count": 230,
     "metadata": {},
     "output_type": "execute_result"
    }
   ],
   "source": [
    "Square = {1: 1, 3: 9, 5: 25, 7: 49, 9: 81}\n",
    "sorted(Square)"
   ]
  },
  {
   "cell_type": "markdown",
   "metadata": {
    "colab_type": "text",
    "id": "iR0WHIUZlOZm"
   },
   "source": [
    "**update()**<br>\n",
    "We can also add and modify dictionaries by using the dict.update() method"
   ]
  },
  {
   "cell_type": "code",
   "execution_count": 231,
   "metadata": {
    "colab": {},
    "colab_type": "code",
    "id": "Mmi3nELblOZo",
    "outputId": "151a1201-8aac-4507-d7bc-886c696f4428"
   },
   "outputs": [
    {
     "data": {
      "text/plain": [
       "{2015: 34500, 2016: 34300, 2017: 40000, 2018: 30000}"
      ]
     },
     "execution_count": 231,
     "metadata": {},
     "output_type": "execute_result"
    }
   ],
   "source": [
    "# create a dictionary\n",
    "year_sales = {\n",
    "  2015: 34500,\n",
    "  2016: 34300,\n",
    "  2017: 40000\n",
    "}\n",
    "\n",
    "# update dictionary\n",
    "year_sales.update({2018:30000})\n",
    "\n",
    "year_sales"
   ]
  },
  {
   "cell_type": "markdown",
   "metadata": {
    "colab_type": "text",
    "id": "oPe11YGLlOZq"
   },
   "source": [
    "<a id=\"sets\"> </a>\n",
    "## 12. Introduction to Sets\n",
    "<table align=\"left\">\n",
    "    <tr>\n",
    "        <td width=\"15%\">\n",
    "            <img src=\"note.png\">\n",
    "        </td>\n",
    "        <td>\n",
    "            <div align=\"left\", style=\"font-size:120%\">\n",
    "                <font color=\"#21618C\">\n",
    "                    <b>A set is a collection of unique elements.<br> \n",
    "                    A common use is to eliminate duplicate elements from a list.<br>\n",
    "                    In addition, it supports set operations like union intersection and difference.                    \n",
    "                    </b>\n",
    "                </font>\n",
    "            </div>\n",
    "        </td>\n",
    "    </tr>\n",
    "</table>"
   ]
  },
  {
   "cell_type": "markdown",
   "metadata": {
    "colab_type": "text",
    "id": "jdQjPAfnlOZr"
   },
   "source": [
    "### Creating Set\n",
    "In Python sets are written with curly brackets"
   ]
  },
  {
   "cell_type": "code",
   "execution_count": 232,
   "metadata": {
    "colab": {},
    "colab_type": "code",
    "id": "93kpxJE0lOZs",
    "outputId": "1e180ef9-b23a-46e0-ea00-a3d112379d9d"
   },
   "outputs": [
    {
     "name": "stdout",
     "output_type": "stream",
     "text": [
      "{1, 2, 3, 4}\n"
     ]
    },
    {
     "data": {
      "text/plain": [
       "{1, 2, 3, 4}"
      ]
     },
     "execution_count": 232,
     "metadata": {},
     "output_type": "execute_result"
    }
   ],
   "source": [
    "# create a set\n",
    "s = {1, 2, 3, 3, 4, 3, 3, 2, 2, 2}\n",
    "print (s)\n",
    "\n",
    "# create a set\n",
    "set([1, 2, 3, 4])"
   ]
  },
  {
   "cell_type": "markdown",
   "metadata": {
    "colab_type": "text",
    "id": "wWsRUMg6lOZu"
   },
   "source": [
    "<table align=\"left\">\n",
    "    <tr>\n",
    "        <td width=\"7%\">\n",
    "            <img src=\"caution.png\">\n",
    "        </td>\n",
    "        <td>\n",
    "            <div align=\"left\", style=\"font-size:120%\">\n",
    "                <font color=\"#21618C\">\n",
    "                    <b>Notice that the set contains unique elements only even though we put duplicates into it\n",
    "                    </b>\n",
    "                </font>\n",
    "            </div>\n",
    "        </td>\n",
    "    </tr>\n",
    "</table>"
   ]
  },
  {
   "cell_type": "markdown",
   "metadata": {
    "colab_type": "text",
    "id": "dUe1WpshlOZv"
   },
   "source": [
    "A set need not contain elements of the same type"
   ]
  },
  {
   "cell_type": "code",
   "execution_count": 233,
   "metadata": {
    "colab": {},
    "colab_type": "code",
    "id": "Np3UiHpRlOZw",
    "outputId": "c7db4077-0a51-4a2d-8386-83e89062dd29"
   },
   "outputs": [
    {
     "data": {
      "text/plain": [
       "{12, 4, 'python', 'world'}"
      ]
     },
     "execution_count": 233,
     "metadata": {},
     "output_type": "execute_result"
    }
   ],
   "source": [
    "# create a set\n",
    "my_set = {12, 12, 'python', 4, 'world'}\n",
    "\n",
    "# print\n",
    "my_set"
   ]
  },
  {
   "cell_type": "markdown",
   "metadata": {
    "colab_type": "text",
    "id": "0loLqH1wlOZy"
   },
   "source": [
    "Python has the following methods that you can use on sets:<br>\n",
    "add()<br>\n",
    "update()<br>\n",
    "len()<br>\n",
    "remove()<br>\n",
    "pop()<br>"
   ]
  },
  {
   "cell_type": "markdown",
   "metadata": {
    "colab_type": "text",
    "id": "vVXcp12LlOZy"
   },
   "source": [
    "### Change Items\n",
    "Once a set is created, you cannot change its items, but you can add new items"
   ]
  },
  {
   "cell_type": "markdown",
   "metadata": {
    "colab_type": "text",
    "id": "Kw7xgoaflOZz"
   },
   "source": [
    "**Add Items**<br>\n",
    "Use add() method to add one item to a set<br>\n",
    "Use update() method to add more than one item"
   ]
  },
  {
   "cell_type": "code",
   "execution_count": 234,
   "metadata": {
    "colab": {},
    "colab_type": "code",
    "id": "7AJacUn_lOZ0",
    "outputId": "9830f595-b1f4-4639-8549-aa97f5993591"
   },
   "outputs": [
    {
     "data": {
      "text/plain": [
       "{'hi', 'python', 'world'}"
      ]
     },
     "execution_count": 234,
     "metadata": {},
     "output_type": "execute_result"
    }
   ],
   "source": [
    "# create a set\n",
    "my_set = {'python','world'}\n",
    "\n",
    "# add element\n",
    "my_set.add(\"hi\")\n",
    "\n",
    "my_set"
   ]
  },
  {
   "cell_type": "markdown",
   "metadata": {
    "colab_type": "text",
    "id": "h6Fbsfo5lOZ5"
   },
   "source": [
    "Add multiple items to a set"
   ]
  },
  {
   "cell_type": "code",
   "execution_count": 235,
   "metadata": {
    "colab": {},
    "colab_type": "code",
    "id": "dUZSbtyflOZ6",
    "outputId": "500e9b26-c4e1-4c2b-e0f3-99a8605b0c7c"
   },
   "outputs": [
    {
     "data": {
      "text/plain": [
       "{'data science', 'machine learning', 'python', 'world'}"
      ]
     },
     "execution_count": 235,
     "metadata": {},
     "output_type": "execute_result"
    }
   ],
   "source": [
    "# create a set\n",
    "my_set = {'python','world'}\n",
    "\n",
    "# update the set\n",
    "my_set.update(['data science', 'machine learning'])\n",
    "\n",
    "my_set"
   ]
  },
  {
   "cell_type": "markdown",
   "metadata": {
    "colab_type": "text",
    "id": "txGDTH1GlOZ8"
   },
   "source": [
    "**Length of Set**"
   ]
  },
  {
   "cell_type": "code",
   "execution_count": 236,
   "metadata": {
    "colab": {},
    "colab_type": "code",
    "id": "CFJPiG_vlOZ8",
    "outputId": "96d25c7b-e4d2-41ac-ee09-5e2c3249816c"
   },
   "outputs": [
    {
     "data": {
      "text/plain": [
       "2"
      ]
     },
     "execution_count": 236,
     "metadata": {},
     "output_type": "execute_result"
    }
   ],
   "source": [
    "# create a set\n",
    "my_set = {'python','world'}\n",
    "\n",
    "# print the length of set\n",
    "len(my_set)"
   ]
  },
  {
   "cell_type": "markdown",
   "metadata": {
    "colab_type": "text",
    "id": "KQpomWO4lOZ-"
   },
   "source": [
    "**remove() method**<br>\n",
    "Use remove() or discard() method to remove an item in a set"
   ]
  },
  {
   "cell_type": "code",
   "execution_count": 237,
   "metadata": {
    "colab": {},
    "colab_type": "code",
    "id": "AAxE00QVlOZ-",
    "outputId": "9b934330-4f17-46fe-a57c-452ebe4879d4"
   },
   "outputs": [
    {
     "data": {
      "text/plain": [
       "{'machine learning', 'python', 'world'}"
      ]
     },
     "execution_count": 237,
     "metadata": {},
     "output_type": "execute_result"
    }
   ],
   "source": [
    "# create a set\n",
    "my_set = {'data science', 'machine learning', 'python', 'world'}\n",
    "\n",
    "# remove element from list \n",
    "my_set.remove('data science')\n",
    "\n",
    "my_set"
   ]
  },
  {
   "cell_type": "markdown",
   "metadata": {
    "colab_type": "text",
    "id": "3Gx5_C8XlOaD"
   },
   "source": [
    "**pop() method**<br>\n",
    "This method removes a random element from the set and returns the removed element"
   ]
  },
  {
   "cell_type": "code",
   "execution_count": 238,
   "metadata": {
    "colab": {},
    "colab_type": "code",
    "id": "NE1WaL0olOaD",
    "outputId": "43aba354-e554-4736-bd8e-ba935ece55ed"
   },
   "outputs": [
    {
     "data": {
      "text/plain": [
       "'machine learning'"
      ]
     },
     "execution_count": 238,
     "metadata": {},
     "output_type": "execute_result"
    }
   ],
   "source": [
    "# create a set\n",
    "my_set = {'data science', 'machine learning', 'python', 'world'}\n",
    "\n",
    "# remove random element from set \n",
    "my_set.pop()"
   ]
  },
  {
   "cell_type": "code",
   "execution_count": 239,
   "metadata": {
    "colab": {},
    "colab_type": "code",
    "id": "azYyA9XilOaF",
    "outputId": "c31a5e30-c3cb-4827-d3c1-214007d36c7a"
   },
   "outputs": [
    {
     "data": {
      "text/plain": [
       "1"
      ]
     },
     "execution_count": 239,
     "metadata": {},
     "output_type": "execute_result"
    }
   ],
   "source": [
    "# create a set\n",
    "my_set1 = {1,2,3,\"data\", \"science\"}\n",
    "\n",
    "# remove random element from set\n",
    "my_set1.pop()"
   ]
  },
  {
   "cell_type": "markdown",
   "metadata": {
    "colab_type": "text",
    "id": "wesd8mlZlOaG"
   },
   "source": [
    "### Set Operations"
   ]
  },
  {
   "cell_type": "markdown",
   "metadata": {
    "colab_type": "text",
    "id": "DwEw1KFolOaH"
   },
   "source": [
    "**Disjoint set**<br>\n",
    "A set is disjoint with another set if the two sets have no common elements"
   ]
  },
  {
   "cell_type": "code",
   "execution_count": 240,
   "metadata": {
    "colab": {},
    "colab_type": "code",
    "id": "WRp2MQUYlOaI",
    "outputId": "f9675a26-528e-4725-f744-b89a18fc7dc8"
   },
   "outputs": [
    {
     "name": "stdout",
     "output_type": "stream",
     "text": [
      "False\n"
     ]
    }
   ],
   "source": [
    "print (set([0, 1, 2, 3, 4]).isdisjoint(set([8, 1])))"
   ]
  },
  {
   "cell_type": "markdown",
   "metadata": {
    "colab_type": "text",
    "id": "gb2ZmUjGlOaJ"
   },
   "source": [
    "**Checking for subset**<br>\n",
    "Check whether all elements of a set are contained in another set using the issubset() method"
   ]
  },
  {
   "cell_type": "code",
   "execution_count": 241,
   "metadata": {
    "colab": {},
    "colab_type": "code",
    "id": "dy4mH8z_lOaK",
    "outputId": "bafd31b5-0688-4327-dc1a-6ae82eace383"
   },
   "outputs": [
    {
     "name": "stdout",
     "output_type": "stream",
     "text": [
      "issubset True\n"
     ]
    }
   ],
   "source": [
    "# Determine whether one set is a subset of the other\n",
    "a = set([1, 3, 4, 5])\n",
    "b = set([1, 3, 4, 5])\n",
    "print('issubset', a.issubset(b))"
   ]
  },
  {
   "cell_type": "markdown",
   "metadata": {
    "colab_type": "text",
    "id": "RwgB-2BClOaL"
   },
   "source": [
    "**Set Union**<br>\n",
    "Compute the union of two or more sets using the union() method"
   ]
  },
  {
   "cell_type": "code",
   "execution_count": 242,
   "metadata": {
    "colab": {},
    "colab_type": "code",
    "id": "8CTHUfoLlOaM",
    "outputId": "9b798fd9-2845-4870-f36c-ab708847586b"
   },
   "outputs": [
    {
     "name": "stdout",
     "output_type": "stream",
     "text": [
      "{1, 2, 3, 4, 5, 6}\n"
     ]
    }
   ],
   "source": [
    "a = set([1, 2, 3])\n",
    "b = set([3, 4, 5, 6])\n",
    "print (a.union(b))"
   ]
  },
  {
   "cell_type": "markdown",
   "metadata": {
    "colab_type": "text",
    "id": "QAcMRxFWlOaP"
   },
   "source": [
    "**Set Interaction**<br>\n",
    "Use interaction() method to find the common the elements"
   ]
  },
  {
   "cell_type": "code",
   "execution_count": 243,
   "metadata": {
    "colab": {},
    "colab_type": "code",
    "id": "OvRRLCj2lOaP",
    "outputId": "06fde3d4-8884-4aae-f5a6-228cf82a010b"
   },
   "outputs": [
    {
     "name": "stdout",
     "output_type": "stream",
     "text": [
      "{12, 78}\n",
      "{12, 78}\n"
     ]
    }
   ],
   "source": [
    "a = set([12,34,56,78])\n",
    "b = set([12,45,67,89,78])\n",
    "c = set([12,34,56,78,56])\n",
    "print (a & b)\n",
    "print (a & b & c)"
   ]
  },
  {
   "cell_type": "markdown",
   "metadata": {
    "colab_type": "text",
    "id": "QBWHwZawlOaU"
   },
   "source": [
    "**Set Difference**<br>\n",
    "Set difference returns a new set containing all elements in the argument set that are not in the other sets"
   ]
  }
 ],
 "metadata": {
  "colab": {
   "name": "Faculty_notebook (Day 2) [V1.0 - 030120].ipynb",
   "provenance": []
  },
  "kernelspec": {
   "display_name": "Python 3 (ipykernel)",
   "language": "python",
   "name": "python3"
  },
  "language_info": {
   "codemirror_mode": {
    "name": "ipython",
    "version": 3
   },
   "file_extension": ".py",
   "mimetype": "text/x-python",
   "name": "python",
   "nbconvert_exporter": "python",
   "pygments_lexer": "ipython3",
   "version": "3.11.4"
  }
 },
 "nbformat": 4,
 "nbformat_minor": 4
}
