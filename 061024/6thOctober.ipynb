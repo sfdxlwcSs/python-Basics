{
 "cells": [
  {
   "cell_type": "code",
   "execution_count": 2,
   "id": "acc45212-e3d0-47cf-b1b6-79b2391437b1",
   "metadata": {},
   "outputs": [],
   "source": [
    "python_keyword=['False', 'None', 'True', 'and', 'as', 'assert', 'async', 'await', 'break', 'class', 'continue', 'def', 'del', 'elif', 'else', 'except', 'finally', 'for', 'from', 'global', 'if', 'import', 'in', 'is', 'lambda', 'nonlocal', 'not', 'or', 'pass', 'raise', 'return', 'try', 'while', 'with', 'yield']"
   ]
  },
  {
   "cell_type": "code",
   "execution_count": 3,
   "id": "564f3a28-1f85-401a-ba8c-1cabb9c79b40",
   "metadata": {},
   "outputs": [
    {
     "data": {
      "text/plain": [
       "['False',\n",
       " 'None',\n",
       " 'True',\n",
       " 'and',\n",
       " 'as',\n",
       " 'assert',\n",
       " 'async',\n",
       " 'await',\n",
       " 'break',\n",
       " 'class',\n",
       " 'continue',\n",
       " 'def',\n",
       " 'del',\n",
       " 'elif',\n",
       " 'else',\n",
       " 'except',\n",
       " 'finally',\n",
       " 'for',\n",
       " 'from',\n",
       " 'global',\n",
       " 'if',\n",
       " 'import',\n",
       " 'in',\n",
       " 'is',\n",
       " 'lambda',\n",
       " 'nonlocal',\n",
       " 'not',\n",
       " 'or',\n",
       " 'pass',\n",
       " 'raise',\n",
       " 'return',\n",
       " 'try',\n",
       " 'while',\n",
       " 'with',\n",
       " 'yield']"
      ]
     },
     "execution_count": 3,
     "metadata": {},
     "output_type": "execute_result"
    }
   ],
   "source": [
    "python_keyword"
   ]
  },
  {
   "cell_type": "code",
   "execution_count": 4,
   "id": "5519d94c-608c-49b6-b828-3c6a27888f46",
   "metadata": {},
   "outputs": [],
   "source": [
    "python_keyword.append('1')"
   ]
  },
  {
   "cell_type": "code",
   "execution_count": 5,
   "id": "4c0743ac-26b9-4831-8015-cc2dbdbcfdc7",
   "metadata": {},
   "outputs": [
    {
     "data": {
      "text/plain": [
       "['False',\n",
       " 'None',\n",
       " 'True',\n",
       " 'and',\n",
       " 'as',\n",
       " 'assert',\n",
       " 'async',\n",
       " 'await',\n",
       " 'break',\n",
       " 'class',\n",
       " 'continue',\n",
       " 'def',\n",
       " 'del',\n",
       " 'elif',\n",
       " 'else',\n",
       " 'except',\n",
       " 'finally',\n",
       " 'for',\n",
       " 'from',\n",
       " 'global',\n",
       " 'if',\n",
       " 'import',\n",
       " 'in',\n",
       " 'is',\n",
       " 'lambda',\n",
       " 'nonlocal',\n",
       " 'not',\n",
       " 'or',\n",
       " 'pass',\n",
       " 'raise',\n",
       " 'return',\n",
       " 'try',\n",
       " 'while',\n",
       " 'with',\n",
       " 'yield',\n",
       " '1']"
      ]
     },
     "execution_count": 5,
     "metadata": {},
     "output_type": "execute_result"
    }
   ],
   "source": [
    "python_keyword"
   ]
  },
  {
   "cell_type": "code",
   "execution_count": 6,
   "id": "d070dfe2-075a-48a2-b1f9-6b6d264b9cf9",
   "metadata": {},
   "outputs": [],
   "source": [
    "other_lst=[2,3]\n",
    "python_keyword.extend(other_lst)"
   ]
  },
  {
   "cell_type": "code",
   "execution_count": 7,
   "id": "021f0bd7-4824-41c6-a6c3-bc2e430b1a10",
   "metadata": {},
   "outputs": [
    {
     "data": {
      "text/plain": [
       "['False',\n",
       " 'None',\n",
       " 'True',\n",
       " 'and',\n",
       " 'as',\n",
       " 'assert',\n",
       " 'async',\n",
       " 'await',\n",
       " 'break',\n",
       " 'class',\n",
       " 'continue',\n",
       " 'def',\n",
       " 'del',\n",
       " 'elif',\n",
       " 'else',\n",
       " 'except',\n",
       " 'finally',\n",
       " 'for',\n",
       " 'from',\n",
       " 'global',\n",
       " 'if',\n",
       " 'import',\n",
       " 'in',\n",
       " 'is',\n",
       " 'lambda',\n",
       " 'nonlocal',\n",
       " 'not',\n",
       " 'or',\n",
       " 'pass',\n",
       " 'raise',\n",
       " 'return',\n",
       " 'try',\n",
       " 'while',\n",
       " 'with',\n",
       " 'yield',\n",
       " '1',\n",
       " 2,\n",
       " 3]"
      ]
     },
     "execution_count": 7,
     "metadata": {},
     "output_type": "execute_result"
    }
   ],
   "source": [
    "python_keyword\n"
   ]
  },
  {
   "cell_type": "code",
   "execution_count": 8,
   "id": "dc5570a2-6cb9-4679-b502-879a13cbe132",
   "metadata": {},
   "outputs": [
    {
     "data": {
      "text/plain": [
       "3"
      ]
     },
     "execution_count": 8,
     "metadata": {},
     "output_type": "execute_result"
    }
   ],
   "source": [
    "python_keyword[-1]"
   ]
  },
  {
   "cell_type": "code",
   "execution_count": 9,
   "id": "d500afae-f27a-409a-92ae-91fb43a3c5e3",
   "metadata": {},
   "outputs": [
    {
     "ename": "TypeError",
     "evalue": "'<' not supported between instances of 'int' and 'str'",
     "output_type": "error",
     "traceback": [
      "\u001b[1;31m---------------------------------------------------------------------------\u001b[0m",
      "\u001b[1;31mTypeError\u001b[0m                                 Traceback (most recent call last)",
      "Cell \u001b[1;32mIn[9], line 1\u001b[0m\n\u001b[1;32m----> 1\u001b[0m \u001b[43mpython_keyword\u001b[49m\u001b[38;5;241;43m.\u001b[39;49m\u001b[43msort\u001b[49m\u001b[43m(\u001b[49m\u001b[43m)\u001b[49m\n",
      "\u001b[1;31mTypeError\u001b[0m: '<' not supported between instances of 'int' and 'str'"
     ]
    }
   ],
   "source": [
    "python_keyword.sort()"
   ]
  },
  {
   "cell_type": "code",
   "execution_count": 10,
   "id": "68bfd67e-c1cd-4e8f-97a2-2469e6d5a1bd",
   "metadata": {},
   "outputs": [
    {
     "ename": "TypeError",
     "evalue": "'builtin_function_or_method' object does not support item assignment",
     "output_type": "error",
     "traceback": [
      "\u001b[1;31m---------------------------------------------------------------------------\u001b[0m",
      "\u001b[1;31mTypeError\u001b[0m                                 Traceback (most recent call last)",
      "Cell \u001b[1;32mIn[10], line 1\u001b[0m\n\u001b[1;32m----> 1\u001b[0m \u001b[43mpython_keyword\u001b[49m\u001b[38;5;241;43m.\u001b[39;49m\u001b[43minsert\u001b[49m\u001b[43m[\u001b[49m\u001b[38;5;241;43m-\u001b[39;49m\u001b[38;5;241;43m2\u001b[39;49m\u001b[43m]\u001b[49m\u001b[38;5;241m=\u001b[39m\u001b[38;5;124m'\u001b[39m\u001b[38;5;124minserted\u001b[39m\u001b[38;5;124m'\u001b[39m\n",
      "\u001b[1;31mTypeError\u001b[0m: 'builtin_function_or_method' object does not support item assignment"
     ]
    }
   ],
   "source": [
    "python_keyword.insert[-2]='inserted'"
   ]
  },
  {
   "cell_type": "code",
   "execution_count": 11,
   "id": "972bc3df-b101-4ddc-beba-d93eae2ef6c5",
   "metadata": {},
   "outputs": [],
   "source": [
    "python_keyword.insert(-2,'ok')"
   ]
  },
  {
   "cell_type": "code",
   "execution_count": 24,
   "id": "72fdaf66-7283-4abd-8018-2e62b2d17b7d",
   "metadata": {},
   "outputs": [
    {
     "data": {
      "text/plain": [
       "['1',\n",
       " 'False',\n",
       " 'None',\n",
       " 'True',\n",
       " 'and',\n",
       " 'as',\n",
       " 'assert',\n",
       " 'async',\n",
       " 'await',\n",
       " 'break',\n",
       " 'class',\n",
       " 'continue',\n",
       " 'def',\n",
       " 'del',\n",
       " 'elif',\n",
       " 'else',\n",
       " 'except',\n",
       " 'finally',\n",
       " 'for',\n",
       " 'from',\n",
       " 'global',\n",
       " 'if',\n",
       " 'import',\n",
       " 'in',\n",
       " 'is',\n",
       " 'lambda',\n",
       " 'nonlocal',\n",
       " 'not',\n",
       " 'or',\n",
       " 'pass',\n",
       " 'raise',\n",
       " 'return',\n",
       " 'try',\n",
       " 'while',\n",
       " 'with',\n",
       " 'yield',\n",
       " 'ok',\n",
       " 2,\n",
       " 3]"
      ]
     },
     "execution_count": 24,
     "metadata": {},
     "output_type": "execute_result"
    }
   ],
   "source": [
    "python_keyword"
   ]
  },
  {
   "cell_type": "code",
   "execution_count": 12,
   "id": "87107912-1290-405f-aaec-46c356950c2b",
   "metadata": {},
   "outputs": [
    {
     "data": {
      "text/plain": [
       "[6, 5, 4, 3, 2, 1]"
      ]
     },
     "execution_count": 12,
     "metadata": {},
     "output_type": "execute_result"
    }
   ],
   "source": [
    "l=[6,1,2,3,4,5]\n",
    "sorted(l,reverse=True)"
   ]
  },
  {
   "cell_type": "code",
   "execution_count": 13,
   "id": "bc614578-4524-49df-82f8-85260a376cfb",
   "metadata": {},
   "outputs": [
    {
     "data": {
      "text/plain": [
       "['S', 'o', 'm', 'n', 'a', 't', 'h']"
      ]
     },
     "execution_count": 13,
     "metadata": {},
     "output_type": "execute_result"
    }
   ],
   "source": [
    " query='Somnath'\n",
    "list(query)"
   ]
  },
  {
   "cell_type": "code",
   "execution_count": 36,
   "id": "83764461-a350-44ac-9783-3957fd366382",
   "metadata": {},
   "outputs": [
    {
     "data": {
      "text/plain": [
       "list"
      ]
     },
     "execution_count": 36,
     "metadata": {},
     "output_type": "execute_result"
    }
   ],
   "source": [
    "type(list(query))"
   ]
  },
  {
   "cell_type": "code",
   "execution_count": 14,
   "id": "be6b9d25-d9aa-4fcc-ad44-1019de3c8566",
   "metadata": {},
   "outputs": [
    {
     "data": {
      "text/plain": [
       "37"
      ]
     },
     "execution_count": 14,
     "metadata": {},
     "output_type": "execute_result"
    }
   ],
   "source": [
    "python_keyword.index(2) ## Find the index of the first occurrence of 30"
   ]
  },
  {
   "cell_type": "code",
   "execution_count": 15,
   "id": "22dd1872-a96e-4970-b96c-725e33402271",
   "metadata": {},
   "outputs": [
    {
     "data": {
      "text/plain": [
       "2"
      ]
     },
     "execution_count": 15,
     "metadata": {},
     "output_type": "execute_result"
    }
   ],
   "source": [
    "python_keyword.pop(37)"
   ]
  },
  {
   "cell_type": "code",
   "execution_count": 16,
   "id": "776768be-7ece-4880-8853-e42307a7cf37",
   "metadata": {},
   "outputs": [
    {
     "data": {
      "text/plain": [
       "['1',\n",
       " 'False',\n",
       " 'None',\n",
       " 'True',\n",
       " 'and',\n",
       " 'as',\n",
       " 'assert',\n",
       " 'async',\n",
       " 'await',\n",
       " 'break',\n",
       " 'class',\n",
       " 'continue',\n",
       " 'def',\n",
       " 'del',\n",
       " 'elif',\n",
       " 'else',\n",
       " 'except',\n",
       " 'finally',\n",
       " 'for',\n",
       " 'from',\n",
       " 'global',\n",
       " 'if',\n",
       " 'import',\n",
       " 'in',\n",
       " 'is',\n",
       " 'lambda',\n",
       " 'nonlocal',\n",
       " 'not',\n",
       " 'or',\n",
       " 'pass',\n",
       " 'raise',\n",
       " 'return',\n",
       " 'try',\n",
       " 'while',\n",
       " 'with',\n",
       " 'yield',\n",
       " 'ok',\n",
       " 3]"
      ]
     },
     "execution_count": 16,
     "metadata": {},
     "output_type": "execute_result"
    }
   ],
   "source": [
    "python_keyword"
   ]
  },
  {
   "cell_type": "code",
   "execution_count": 17,
   "id": "3d7cdd12-a34d-4c5d-b6bd-fae25630d3cb",
   "metadata": {},
   "outputs": [
    {
     "data": {
      "text/plain": [
       "38"
      ]
     },
     "execution_count": 17,
     "metadata": {},
     "output_type": "execute_result"
    }
   ],
   "source": [
    "len(python_keyword)# size of a list"
   ]
  },
  {
   "cell_type": "code",
   "execution_count": 18,
   "id": "392988e3-1c69-4302-a5b4-ea6aa4919256",
   "metadata": {},
   "outputs": [],
   "source": [
    "python_keyword.insert(1,'2')"
   ]
  },
  {
   "cell_type": "code",
   "execution_count": 54,
   "id": "cb50d002-0f3d-4441-a46f-b15948ede0e5",
   "metadata": {},
   "outputs": [
    {
     "data": {
      "text/plain": [
       "['1',\n",
       " '2',\n",
       " 'False',\n",
       " 'None',\n",
       " 'True',\n",
       " 'and',\n",
       " 'as',\n",
       " 'assert',\n",
       " 'async',\n",
       " 'await',\n",
       " 'break',\n",
       " 'class',\n",
       " 'continue',\n",
       " 'def',\n",
       " 'del',\n",
       " 'elif',\n",
       " 'else',\n",
       " 'except',\n",
       " 'finally',\n",
       " 'for',\n",
       " 'from',\n",
       " 'global',\n",
       " 'if',\n",
       " 'import',\n",
       " 'in',\n",
       " 'is',\n",
       " 'lambda',\n",
       " 'nonlocal',\n",
       " 'not',\n",
       " 'or',\n",
       " 'pass',\n",
       " 'raise',\n",
       " 'return',\n",
       " 'try',\n",
       " 'while',\n",
       " 'with',\n",
       " 'yield',\n",
       " 'ok',\n",
       " 3]"
      ]
     },
     "execution_count": 54,
     "metadata": {},
     "output_type": "execute_result"
    }
   ],
   "source": [
    "python_keyword"
   ]
  },
  {
   "cell_type": "code",
   "execution_count": 56,
   "id": "84f0bd79-8442-4dba-a70c-3029804433ae",
   "metadata": {},
   "outputs": [],
   "source": [
    "python_keyword.reverse()"
   ]
  },
  {
   "cell_type": "code",
   "execution_count": 58,
   "id": "045764d5-c298-4d34-be9b-f06eb5a49ea5",
   "metadata": {},
   "outputs": [
    {
     "data": {
      "text/plain": [
       "[3,\n",
       " 'ok',\n",
       " 'yield',\n",
       " 'with',\n",
       " 'while',\n",
       " 'try',\n",
       " 'return',\n",
       " 'raise',\n",
       " 'pass',\n",
       " 'or',\n",
       " 'not',\n",
       " 'nonlocal',\n",
       " 'lambda',\n",
       " 'is',\n",
       " 'in',\n",
       " 'import',\n",
       " 'if',\n",
       " 'global',\n",
       " 'from',\n",
       " 'for',\n",
       " 'finally',\n",
       " 'except',\n",
       " 'else',\n",
       " 'elif',\n",
       " 'del',\n",
       " 'def',\n",
       " 'continue',\n",
       " 'class',\n",
       " 'break',\n",
       " 'await',\n",
       " 'async',\n",
       " 'assert',\n",
       " 'as',\n",
       " 'and',\n",
       " 'True',\n",
       " 'None',\n",
       " 'False',\n",
       " '2',\n",
       " '1']"
      ]
     },
     "execution_count": 58,
     "metadata": {},
     "output_type": "execute_result"
    }
   ],
   "source": [
    "python_keyword"
   ]
  },
  {
   "cell_type": "code",
   "execution_count": 19,
   "id": "5838c518-f77f-4d99-b17e-a78ec4bf3739",
   "metadata": {},
   "outputs": [
    {
     "name": "stdout",
     "output_type": "stream",
     "text": [
      "New List\n",
      " [1, 2, 3, 4, 5, 6, 7, 8, 9, 10, 11, 12, 13, 14, 15, 16, 17, 18, 19]\n"
     ]
    }
   ],
   "source": [
    "new_list=[]\n",
    "for i in range(1,20):\n",
    "    new_list.append(i)\n",
    "print('New List\\n',new_list)"
   ]
  },
  {
   "cell_type": "code",
   "execution_count": 20,
   "id": "59dc55a8-73ef-461c-8d3e-c16bf86edf9e",
   "metadata": {},
   "outputs": [],
   "source": [
    "mytuple=(123,\"DataSciences\");"
   ]
  },
  {
   "cell_type": "code",
   "execution_count": 66,
   "id": "5fc84701-7705-44e6-86a5-238e7fa79fcb",
   "metadata": {},
   "outputs": [
    {
     "data": {
      "text/plain": [
       "123"
      ]
     },
     "execution_count": 66,
     "metadata": {},
     "output_type": "execute_result"
    }
   ],
   "source": [
    "mytuple[0]"
   ]
  },
  {
   "cell_type": "code",
   "execution_count": 21,
   "id": "0c66f53c-9f2e-40f2-aac1-9bd64fe2e70f",
   "metadata": {},
   "outputs": [
    {
     "name": "stdout",
     "output_type": "stream",
     "text": [
      "(1, 2, 3, 4, 5, 6)\n"
     ]
    }
   ],
   "source": [
    "tuple1 = (1, 2, 3)\n",
    "tuple2 = (4, 5, 6)\n",
    "\n",
    "# Combine the two tuples\n",
    "combined_tuple = tuple1 + tuple2\n",
    "\n",
    "print(combined_tuple)\n"
   ]
  },
  {
   "cell_type": "code",
   "execution_count": 22,
   "id": "5103f40d-4952-4f16-8adb-bd153a21b85f",
   "metadata": {},
   "outputs": [
    {
     "data": {
      "text/plain": [
       "(1, 2)"
      ]
     },
     "execution_count": 22,
     "metadata": {},
     "output_type": "execute_result"
    }
   ],
   "source": [
    "combined_tuple[0:2]"
   ]
  },
  {
   "cell_type": "code",
   "execution_count": 23,
   "id": "7b74f48d-b424-421a-a95b-21db281f3921",
   "metadata": {},
   "outputs": [
    {
     "data": {
      "text/plain": [
       "(1, 3, 5)"
      ]
     },
     "execution_count": 23,
     "metadata": {},
     "output_type": "execute_result"
    }
   ],
   "source": [
    "combined_tuple[0:6:2]\n"
   ]
  },
  {
   "cell_type": "code",
   "execution_count": 24,
   "id": "54718ca1-8b47-4d2d-8231-2a9edc73cd1a",
   "metadata": {},
   "outputs": [
    {
     "name": "stdout",
     "output_type": "stream",
     "text": [
      "apple 5\n",
      "banana 6\n",
      "cherry 6\n",
      "date 4\n",
      "['banana', 'cherry', 'apple', 'date']\n"
     ]
    }
   ],
   "source": [
    "words = [\"apple\", \"banana\", \"cherry\", \"date\"]\n",
    "for i in words:\n",
    "    print(i,len(i))\n",
    "# Sort by the length of each word\n",
    "words.sort(key=len, reverse=True)\n",
    "print(words)"
   ]
  },
  {
   "cell_type": "code",
   "execution_count": 31,
   "id": "ec885cbb-ca32-457c-a934-e44be6abcc16",
   "metadata": {},
   "outputs": [
    {
     "name": "stdout",
     "output_type": "stream",
     "text": [
      "[1, 3, 5, 7, 8, 6, 9]\n"
     ]
    }
   ],
   "source": [
    "my_list = [1, 2, 3, 4, 5, 6, 7, 8,6, 9]\n",
    "\n",
    "values_to_remove = [2, 4, 6]\n",
    "\n",
    "for value in values_to_remove:\n",
    "        my_list.remove(value) \n",
    "\"\"\" list.remove(x)\n",
    "Remove the first item from the list whose value is equal to x.**/  \"\"\"\n",
    "print(my_list)"
   ]
  },
  {
   "cell_type": "code",
   "execution_count": 28,
   "id": "5d54f7af-fe8a-45ac-9786-10d6e845188d",
   "metadata": {},
   "outputs": [
    {
     "data": {
      "text/plain": [
       "[1, 2, 3, 4, 5, 6, 7, 8, 9, 10, 11, 12, 13, 14, 15, 16, 17, 18, 19]"
      ]
     },
     "execution_count": 28,
     "metadata": {},
     "output_type": "execute_result"
    }
   ],
   "source": [
    "new_list"
   ]
  },
  {
   "cell_type": "code",
   "execution_count": 33,
   "id": "252b545b-e957-4cae-8bca-b574b2a47b0e",
   "metadata": {},
   "outputs": [
    {
     "name": "stdout",
     "output_type": "stream",
     "text": [
      "5\n"
     ]
    }
   ],
   "source": [
    "my_list = [30, 20, 10, 40, 60, 30, 30]\n",
    "\n",
    "# Find the index of 30, but only search between index 2 and index 5\n",
    "index = my_list.index(30, 2, 6)\n",
    "print(index)"
   ]
  },
  {
   "cell_type": "code",
   "execution_count": 100,
   "id": "b8fab838-472c-4982-ac0a-aff1d7c5ee91",
   "metadata": {},
   "outputs": [
    {
     "name": "stdout",
     "output_type": "stream",
     "text": [
      "Element not found\n"
     ]
    }
   ],
   "source": [
    "\"\"\" Handling ValueError\n",
    "If the element is not found, the method raises a ValueError:\"\"\"\n",
    "my_list = [10, 20, 30, 40]\n",
    "\n",
    "# Try to find the index of an element that is not in the list\n",
    "try:\n",
    "    index = my_list.index(50)\n",
    "except ValueError:\n",
    "    print(\"Element not found\")"
   ]
  },
  {
   "cell_type": "code",
   "execution_count": 102,
   "id": "6006842e-d594-4021-a89c-314c05070d6e",
   "metadata": {},
   "outputs": [
    {
     "name": "stdout",
     "output_type": "stream",
     "text": [
      "[1, 3, 5]\n"
     ]
    }
   ],
   "source": [
    "#List comprehensions are a highly interesting and useful Python feature that allow us to create and manipulate lists using a much shorter syntax.\n",
    "#list_comp = [expression for item in iterable if condition]\n",
    "numbers = [1, 2, 3, 4, 5]\n",
    "odd_numbers = [num for num in numbers if num % 2 != 0]\n",
    "\n",
    "print(odd_numbers)"
   ]
  },
  {
   "cell_type": "code",
   "execution_count": 34,
   "id": "37695067-ab15-4563-a983-f981294a715f",
   "metadata": {},
   "outputs": [
    {
     "name": "stdout",
     "output_type": "stream",
     "text": [
      "[1, 3, 5, 7, 8, 9]\n"
     ]
    }
   ],
   "source": [
    "my_list = [1, 2, 3, 4, 5, 6, 7, 8, 9]\n",
    "\n",
    "# Define the values to be removed\n",
    "values_to_remove = [2, 4, 6]\n",
    "\n",
    "# Use list comprehension to filter out the unwanted values\n",
    "my_list = [x for x in my_list if x not in values_to_remove]\n",
    "print(my_list)\n"
   ]
  },
  {
   "cell_type": "code",
   "execution_count": 35,
   "id": "53ce9602-ae39-434f-904e-758e77ad1334",
   "metadata": {},
   "outputs": [
    {
     "data": {
      "text/plain": [
       "'B'"
      ]
     },
     "execution_count": 35,
     "metadata": {},
     "output_type": "execute_result"
    }
   ],
   "source": [
    "#combining 2 lists\n",
    "my_list = ['A',1, 2, 3, 4, 5, 6, 7, 8, 9,['A','B']]\n",
    "my_list[-1][-1]"
   ]
  },
  {
   "cell_type": "code",
   "execution_count": 112,
   "id": "e4ee8f30-2010-4f56-b29e-97a596adeccd",
   "metadata": {},
   "outputs": [
    {
     "data": {
      "text/plain": [
       "1"
      ]
     },
     "execution_count": 112,
     "metadata": {},
     "output_type": "execute_result"
    }
   ],
   "source": [
    "my_list.count('A') #Method 1: Count Only Top-Level Occurrences of 'A'"
   ]
  },
  {
   "cell_type": "code",
   "execution_count": 114,
   "id": "a1f631d3-0945-4fca-8c9f-76e21cb8354f",
   "metadata": {},
   "outputs": [
    {
     "name": "stdout",
     "output_type": "stream",
     "text": [
      "2\n"
     ]
    },
    {
     "data": {
      "text/plain": [
       "\" Recursive Approach:\\n\\nThe function count_A_in_list() iterates over the list and checks if each element is either 'A' or another list. If it finds a list, it recursively calls itself to count occurrences of 'A' within that nested list.\\nThis approach counts 'A' both in the top-level list and in any nested lists.\\nThus, the recursive approach is the most thorough method to count occurrences of an element in a list with nested lists.\""
      ]
     },
     "execution_count": 114,
     "metadata": {},
     "output_type": "execute_result"
    }
   ],
   "source": [
    "#To count occurrences of 'A' at all levels, including inside nested lists, you can use a recursive approach:\n",
    "my_list = ['A', 1, 2, 3, 4, 5, 6, 7, 8, 9, ['A', 'B']]\n",
    "\n",
    "# Function to recursively count 'A' in the list\n",
    "def count_A_in_list(lst):\n",
    "    count = 0\n",
    "    for item in lst:\n",
    "        if item == 'A':\n",
    "            count += 1\n",
    "        elif isinstance(item, list):  # Check if the item is a nested list\n",
    "            count += count_A_in_list(item)  # Recursively count 'A' in nested lists\n",
    "    return count\n",
    "\n",
    "# Count occurrences of 'A'\n",
    "count_A = count_A_in_list(my_list)\n",
    "\n",
    "print(count_A)\n",
    "\"\"\" Recursive Approach:\n",
    "\n",
    "The function count_A_in_list() iterates over the list and checks if each element is either 'A' or another list. If it finds a list, it recursively calls itself to count occurrences of 'A' within that nested list.\n",
    "This approach counts 'A' both in the top-level list and in any nested lists.\n",
    "Thus, the recursive approach is the most thorough method to count occurrences of an element in a list with nested lists.\"\"\"\n"
   ]
  },
  {
   "cell_type": "code",
   "execution_count": 37,
   "id": "837eb34b-8fc7-427c-8b61-683b6a6b8b52",
   "metadata": {},
   "outputs": [],
   "source": [
    "dic_01={'A':20}"
   ]
  },
  {
   "cell_type": "code",
   "execution_count": 39,
   "id": "f4ca314e-8742-4cf9-9ae4-3a6f359115b8",
   "metadata": {},
   "outputs": [
    {
     "data": {
      "text/plain": [
       "{'A': 20}"
      ]
     },
     "execution_count": 39,
     "metadata": {},
     "output_type": "execute_result"
    }
   ],
   "source": [
    "dic_01"
   ]
  },
  {
   "cell_type": "code",
   "execution_count": 120,
   "id": "ca77477a-db8f-45d3-ab04-aeaac2539e89",
   "metadata": {},
   "outputs": [
    {
     "data": {
      "text/plain": [
       "dict"
      ]
     },
     "execution_count": 120,
     "metadata": {},
     "output_type": "execute_result"
    }
   ],
   "source": [
    "type(dic_01)"
   ]
  },
  {
   "cell_type": "code",
   "execution_count": 41,
   "id": "8d3e93dd-f5b9-4316-b06d-4644468ec68b",
   "metadata": {},
   "outputs": [
    {
     "name": "stdout",
     "output_type": "stream",
     "text": [
      "key✔✈🔑 dict_keys(['A'])\n",
      "dict_values([20])\n"
     ]
    }
   ],
   "source": [
    "print('key✔✈🔑',dic_01.keys())\n",
    "print(dic_01.values())"
   ]
  },
  {
   "cell_type": "code",
   "execution_count": 42,
   "id": "a7aa65ba-d149-4a6a-b6c8-804ec5d2335e",
   "metadata": {},
   "outputs": [],
   "source": [
    "dic_02={'A':10,'B':20}"
   ]
  },
  {
   "cell_type": "code",
   "execution_count": 132,
   "id": "dd9ae8b4-d370-49b1-b9a8-d885d38cf069",
   "metadata": {},
   "outputs": [
    {
     "data": {
      "text/plain": [
       "{'A': 10, 'B': 20}"
      ]
     },
     "execution_count": 132,
     "metadata": {},
     "output_type": "execute_result"
    }
   ],
   "source": [
    "dic_02"
   ]
  },
  {
   "cell_type": "code",
   "execution_count": 43,
   "id": "98bb7265-7db7-44ab-bbed-d0038cbe55ad",
   "metadata": {},
   "outputs": [
    {
     "data": {
      "text/plain": [
       "{2: 4, 4: 16, 6: 36}"
      ]
     },
     "execution_count": 43,
     "metadata": {},
     "output_type": "execute_result"
    }
   ],
   "source": [
    "new_obj={x: x**2 for x in (2, 4, 6)} #list comprehensions can be used to create dictionaries from arbitrary key and value expressions:\n",
    "new_obj"
   ]
  },
  {
   "cell_type": "code",
   "execution_count": 44,
   "id": "c857066a-a556-47c4-8099-9ce5005777a3",
   "metadata": {},
   "outputs": [],
   "source": [
    "new_obj2=dict(sape=4139, guido=4127, jack=4098) #When the keys are simple strings, it is sometimes easier to specify pairs using keyword arguments:"
   ]
  },
  {
   "cell_type": "code",
   "execution_count": 45,
   "id": "54dc182f-46b1-4ffb-b841-5a6e13aa59b5",
   "metadata": {},
   "outputs": [
    {
     "data": {
      "text/plain": [
       "{'sape': 4139, 'guido': 4127, 'jack': 4098}"
      ]
     },
     "execution_count": 45,
     "metadata": {},
     "output_type": "execute_result"
    }
   ],
   "source": [
    "new_obj2"
   ]
  },
  {
   "cell_type": "markdown",
   "id": "76dc10d8-9fc2-4c91-a0a3-e1faae5fdde6",
   "metadata": {},
   "source": [
    "When looping through dictionaries, the key and corresponding value can be retrieved at the same time using the items() method."
   ]
  },
  {
   "cell_type": "code",
   "execution_count": 46,
   "id": "5d00938a-dbb7-46a7-a0e9-07d564a87e32",
   "metadata": {},
   "outputs": [
    {
     "name": "stdout",
     "output_type": "stream",
     "text": [
      "gallahad the pure\n",
      "robin the brave\n"
     ]
    }
   ],
   "source": [
    "knights = {'gallahad': 'the pure', 'robin': 'the brave'}\n",
    "for k, v in knights.items():\n",
    "    print(k, v)"
   ]
  },
  {
   "cell_type": "code",
   "execution_count": 48,
   "id": "36c2e3b4-e984-482a-b62c-01112a7d95fd",
   "metadata": {},
   "outputs": [
    {
     "name": "stdout",
     "output_type": "stream",
     "text": [
      "value-- the pure\n",
      "value-- the brave\n"
     ]
    }
   ],
   "source": [
    "for  v in knights.keys():\n",
    "    print('value--',knights[v])"
   ]
  },
  {
   "cell_type": "code",
   "execution_count": 51,
   "id": "0cac5ab2-a582-40b0-a1a1-a78d9a5a5985",
   "metadata": {},
   "outputs": [
    {
     "name": "stdout",
     "output_type": "stream",
     "text": [
      "keys-- gallahad\n",
      "keys-- robin\n"
     ]
    }
   ],
   "source": [
    "for  v in knights.keys():\n",
    "    print('keys--',v)"
   ]
  },
  {
   "cell_type": "code",
   "execution_count": 180,
   "id": "e22f1d88-4eb5-44a9-a418-233e19aa3800",
   "metadata": {},
   "outputs": [
    {
     "name": "stdout",
     "output_type": "stream",
     "text": [
      "c\n",
      "Index of value is:  [0]\n"
     ]
    }
   ],
   "source": [
    "#You can iterate through the dictionary to find the key for a specific value.\n",
    "my_dict = {'a': 1, 'b': 2, 'c': 3, 'd': 4}\n",
    "\n",
    "# Value to find\n",
    "value_to_find = 3\n",
    "\n",
    "# Initialize variable to store the key\n",
    "key_found = None\n",
    "\n",
    "# Loop through the dictionary items\n",
    "for key, value in my_dict.items():\n",
    "    if value == value_to_find:\n",
    "        key_found = key\n",
    "        break  # Stop the loop once we find the key\n",
    "print(key_found)  # Output: 'c'\n",
    "\n",
    "my_dict ={\"Java\":100, \"Python\":112, \"C\":11}\n",
    "print(\"Index of value is: \",\n",
    "      [list(my_dict.values()).index(100)])\n",
    "\n",
    "\n"
   ]
  },
  {
   "cell_type": "code",
   "execution_count": 150,
   "id": "fb71d126-b53e-4693-964d-4cb0364fabab",
   "metadata": {},
   "outputs": [],
   "source": [
    "questions = ['name', 'quest', 'favorite color']\n",
    "answers = ['lancelot', 'the holy grail', 'blue']\n",
    "a=dict(zip(questions,answers))\n",
    "    "
   ]
  },
  {
   "cell_type": "code",
   "execution_count": 152,
   "id": "b4ba8199-8f6a-4cac-a475-0789f23aff8f",
   "metadata": {},
   "outputs": [
    {
     "data": {
      "text/plain": [
       "{'name': 'lancelot', 'quest': 'the holy grail', 'favorite color': 'blue'}"
      ]
     },
     "execution_count": 152,
     "metadata": {},
     "output_type": "execute_result"
    }
   ],
   "source": [
    "a"
   ]
  },
  {
   "cell_type": "code",
   "execution_count": 156,
   "id": "50993515-bf64-4f35-a653-dd6d3f478fc5",
   "metadata": {},
   "outputs": [
    {
     "data": {
      "text/plain": [
       "{'name': 'lancelot', 'quest': 'the holy grail', 'favorite color': 'blue'}"
      ]
     },
     "execution_count": 156,
     "metadata": {},
     "output_type": "execute_result"
    }
   ],
   "source": [
    "questions = ['name', 'quest', 'favorite color']\n",
    "answers = ['lancelot', 'the holy grail', 'blue']\n",
    "new_dic3={}\n",
    "for q, a in zip(questions, answers):\n",
    "    new_dic3[q]=a\n",
    "new_dic3\n",
    "    "
   ]
  },
  {
   "cell_type": "code",
   "execution_count": 172,
   "id": "f1edc2eb-441f-4e0e-be5c-f3c458a11bb6",
   "metadata": {},
   "outputs": [],
   "source": [
    "# creating a new dictionary\n",
    "my_dict ={\"Java\":100, \"Python\":112, \"C\":11}\n",
    "key_list=list(my_dict.keys())\n"
   ]
  },
  {
   "cell_type": "code",
   "execution_count": 164,
   "id": "702ac614-ae08-4efd-ad34-12d53c9bc1c7",
   "metadata": {},
   "outputs": [
    {
     "data": {
      "text/plain": [
       "[100, 112, 11]"
      ]
     },
     "execution_count": 164,
     "metadata": {},
     "output_type": "execute_result"
    }
   ],
   "source": [
    "list(my_dict.values())"
   ]
  },
  {
   "cell_type": "code",
   "execution_count": 166,
   "id": "9031bfd9-814d-40ad-8f75-f4e178ee114a",
   "metadata": {},
   "outputs": [
    {
     "data": {
      "text/plain": [
       "list"
      ]
     },
     "execution_count": 166,
     "metadata": {},
     "output_type": "execute_result"
    }
   ],
   "source": [
    "type(list(my_dict.values()))"
   ]
  },
  {
   "cell_type": "code",
   "execution_count": 174,
   "id": "0c5202f5-2b69-4841-9fef-34d10c06fe9d",
   "metadata": {},
   "outputs": [
    {
     "data": {
      "text/plain": [
       "'Java'"
      ]
     },
     "execution_count": 174,
     "metadata": {},
     "output_type": "execute_result"
    }
   ],
   "source": [
    "val_value_list=list(my_dict.values())\n",
    "#so key out of vaue is\n",
    "key_list[val_value_list.index(100)]\n"
   ]
  },
  {
   "cell_type": "code",
   "execution_count": null,
   "id": "304e7307-a374-4f15-bcd2-3230f9285755",
   "metadata": {},
   "outputs": [],
   "source": []
  },
  {
   "cell_type": "code",
   "execution_count": 170,
   "id": "f8b7ada9-c1a1-43ff-8e10-7246bf9c564e",
   "metadata": {},
   "outputs": [
    {
     "name": "stdout",
     "output_type": "stream",
     "text": [
      "difference {1, 2, 3}\n",
      "difference {8, 6, 7}\n",
      "intersection {4, 5}\n",
      "union {1, 2, 3, 4, 5, 6, 7, 8}\n",
      "symmetric {1, 2, 3, 6, 7, 8}\n"
     ]
    }
   ],
   "source": [
    "#Sets\n",
    "s1={1,2,3,4,5}\n",
    "s2={4,5,6,7,8}\n",
    "print('difference',s1-s2)\n",
    "print('difference',s2-s1)\n",
    "print('intersection',s2&s1)\n",
    "print('union',s2|s1)\n",
    "print('symmetric',s2^s1)"
   ]
  },
  {
   "cell_type": "code",
   "execution_count": 190,
   "id": "16b021bc-63f7-4527-872b-048d5c8f3f4b",
   "metadata": {},
   "outputs": [
    {
     "name": "stdout",
     "output_type": "stream",
     "text": [
      "1\n",
      "2\n",
      "3\n",
      "4\n",
      "5\n",
      "6\n",
      "7\n",
      "8\n",
      "9\n",
      "10\n",
      "[1, 2, 3, 4, 5, 6, 7, 8, 9, 10]\n"
     ]
    }
   ],
   "source": [
    "x=0\n",
    "lst=[]\n",
    "while x<10:\n",
    "    x+=1\n",
    "    print(x)\n",
    "    lst.append(x)\n",
    "print(lst)    "
   ]
  },
  {
   "cell_type": "code",
   "execution_count": 188,
   "id": "c449ddfc-48e3-4be8-93a9-1fd2936dac5f",
   "metadata": {},
   "outputs": [
    {
     "name": "stdout",
     "output_type": "stream",
     "text": [
      "A\n",
      "1\n",
      "2\n",
      "3\n",
      "4\n",
      "5\n",
      "6\n",
      "7\n",
      "8\n",
      "9\n",
      "if block A\n",
      "if block B\n"
     ]
    }
   ],
   "source": [
    "for x in my_list:\n",
    "    if isinstance(x, list):\n",
    "        for y in x:\n",
    "            print('if block',y)\n",
    "    else:\n",
    "          print(x)\n",
    "  \n"
   ]
  },
  {
   "cell_type": "code",
   "execution_count": 219,
   "id": "d1498389-d25f-43b4-a8af-dc93187e34d6",
   "metadata": {},
   "outputs": [
    {
     "name": "stdout",
     "output_type": "stream",
     "text": [
      "0\n",
      "1\n",
      "1\n",
      "2\n",
      "2\n",
      "3\n",
      "3\n",
      "4\n",
      "4\n",
      "5\n",
      "6\n",
      "7\n",
      "7\n",
      "8\n",
      "8\n",
      "9\n",
      "9\n",
      "10\n"
     ]
    }
   ],
   "source": [
    "lst = [0, 1, 2, 3, 4, 5, 6, 7, 8, 9]  # Example list\n",
    "i = 0\n",
    "while i < len(lst):\n",
    "    if i == 5:\n",
    "        i += 1  # Increment i before continuing\n",
    "        continue\n",
    "    \n",
    "    print(i)\n",
    "    i += 1\n",
    "    print(i)\n",
    "\n"
   ]
  },
  {
   "cell_type": "code",
   "execution_count": 225,
   "id": "c46753e0-07a7-4c4a-a51b-a0a11c2f815a",
   "metadata": {},
   "outputs": [
    {
     "name": "stdout",
     "output_type": "stream",
     "text": [
      "5 * 1 = 5\n",
      "5 * 2 = 10\n",
      "5 * 3 = 15\n",
      "5 * 4 = 20\n",
      "5 * 5 = 25\n",
      "5 * 6 = 30\n",
      "5 * 7 = 35\n",
      "5 * 8 = 40\n",
      "5 * 9 = 45\n",
      "5 * 10 = 50\n"
     ]
    }
   ],
   "source": [
    "for i in range(1,11):\n",
    "    print(f'5 * {i} = {5 * i}')"
   ]
  },
  {
   "cell_type": "code",
   "execution_count": 227,
   "id": "d789a672-884a-47f0-b334-c792e06ea33c",
   "metadata": {},
   "outputs": [
    {
     "name": "stdout",
     "output_type": "stream",
     "text": [
      "Enter a number 5\n"
     ]
    }
   ],
   "source": [
    "num=int(input('Enter a number'))"
   ]
  },
  {
   "cell_type": "code",
   "execution_count": 229,
   "id": "bdc43a79-2edd-498e-8437-b2106b2ac580",
   "metadata": {},
   "outputs": [
    {
     "data": {
      "text/plain": [
       "5"
      ]
     },
     "execution_count": 229,
     "metadata": {},
     "output_type": "execute_result"
    }
   ],
   "source": [
    "num"
   ]
  },
  {
   "cell_type": "code",
   "execution_count": 231,
   "id": "f813a091-e7b2-45d7-baf7-e8ec78b872cb",
   "metadata": {},
   "outputs": [
    {
     "name": "stdout",
     "output_type": "stream",
     "text": [
      "5 * 1 = 5\n",
      "5 * 2 = 10\n",
      "5 * 3 = 15\n",
      "5 * 4 = 20\n",
      "5 * 5 = 25\n",
      "5 * 6 = 30\n",
      "5 * 7 = 35\n",
      "5 * 8 = 40\n",
      "5 * 9 = 45\n",
      "5 * 10 = 50\n"
     ]
    }
   ],
   "source": [
    "for i in range(1,11):\n",
    "    print(f'{num} * {i} = {5 * i}')"
   ]
  },
  {
   "cell_type": "code",
   "execution_count": 235,
   "id": "ad208252-b20e-4c90-bde2-69629914a3b4",
   "metadata": {},
   "outputs": [
    {
     "name": "stdout",
     "output_type": "stream",
     "text": [
      "*\n",
      "**\n",
      "***\n",
      "****\n",
      "*****\n"
     ]
    }
   ],
   "source": [
    "n=5 \n",
    "\"\"\"\n",
    "In Python, the * operator can be used for multiplication when applied to numbers. However, when used with strings, it performs string repetition.\n",
    "'*' * i means \"repeat the string '*', i times\". For example:\n",
    "If i = 1, the result is '*'\n",
    "If i = 2, the result is '**'\n",
    "If i = 3, the result is '***'\n",
    "\"\"\"\n",
    "for i in range(1,n+1):\n",
    "    print('*'*i)\n",
    "    "
   ]
  },
  {
   "cell_type": "code",
   "execution_count": 241,
   "id": "7a3a998e-bdbc-4ae4-a4aa-e1bb44e5d63c",
   "metadata": {},
   "outputs": [
    {
     "name": "stdout",
     "output_type": "stream",
     "text": [
      "Sum is 45\n"
     ]
    }
   ],
   "source": [
    "lst = [0, 1, 2, 3, 4, 5, 6, 7, 8, 9]\n",
    "sum=0\n",
    "for i in lst:\n",
    "    sum+=lst[i]\n",
    "print(f'Sum is {sum}')"
   ]
  },
  {
   "cell_type": "code",
   "execution_count": 243,
   "id": "74a415fc-0085-4bce-845f-933acfe0ac0d",
   "metadata": {},
   "outputs": [
    {
     "name": "stdout",
     "output_type": "stream",
     "text": [
      "*****\n",
      "****\n",
      "***\n",
      "**\n",
      "*\n"
     ]
    }
   ],
   "source": [
    "n=5\n",
    "for i in range(1,n+1):\n",
    "    print('*'*n)\n",
    "    n-=1"
   ]
  },
  {
   "cell_type": "code",
   "execution_count": null,
   "id": "3a602223-64b9-4a4d-82ea-6ba0ce4224f2",
   "metadata": {},
   "outputs": [],
   "source": []
  },
  {
   "cell_type": "code",
   "execution_count": null,
   "id": "a356ddd4-451e-4302-9c76-786e7ea77004",
   "metadata": {},
   "outputs": [],
   "source": []
  },
  {
   "cell_type": "code",
   "execution_count": null,
   "id": "eb57955c-ec5b-4fde-ad4d-90070b5a5df8",
   "metadata": {},
   "outputs": [],
   "source": []
  },
  {
   "cell_type": "code",
   "execution_count": null,
   "id": "57028e44-0052-4615-9c7b-b8b8042f46ed",
   "metadata": {},
   "outputs": [],
   "source": []
  },
  {
   "cell_type": "code",
   "execution_count": null,
   "id": "e115e09b-3a18-4ac5-83ca-b7a107dfa82c",
   "metadata": {},
   "outputs": [],
   "source": []
  },
  {
   "cell_type": "code",
   "execution_count": null,
   "id": "f112ae82-965b-4dec-bbe3-dd373c9f0a7c",
   "metadata": {},
   "outputs": [],
   "source": []
  },
  {
   "cell_type": "code",
   "execution_count": null,
   "id": "602dda5f-e3e4-45e9-9bbc-b0b6a84cbbca",
   "metadata": {},
   "outputs": [],
   "source": []
  },
  {
   "cell_type": "code",
   "execution_count": null,
   "id": "ea1d5929-9e3c-47c4-a8c2-765a749e3788",
   "metadata": {},
   "outputs": [],
   "source": []
  },
  {
   "cell_type": "code",
   "execution_count": null,
   "id": "454fd968-4470-4489-8103-678d961f4890",
   "metadata": {},
   "outputs": [],
   "source": []
  },
  {
   "cell_type": "code",
   "execution_count": null,
   "id": "7879c9e9-68b7-4f25-808b-c16b33e73eca",
   "metadata": {},
   "outputs": [],
   "source": []
  },
  {
   "cell_type": "code",
   "execution_count": null,
   "id": "522b4fe4-2c48-4137-ab1f-c119b6675605",
   "metadata": {},
   "outputs": [],
   "source": []
  },
  {
   "cell_type": "code",
   "execution_count": null,
   "id": "95ccb13b-0bbc-4fd3-aab1-862b0492e1a1",
   "metadata": {},
   "outputs": [],
   "source": []
  },
  {
   "cell_type": "code",
   "execution_count": null,
   "id": "1d798a1a-d44a-4cf3-a52d-730cbbb6e451",
   "metadata": {},
   "outputs": [],
   "source": []
  },
  {
   "cell_type": "code",
   "execution_count": null,
   "id": "58817439-6f67-4abc-a84e-950a360328ee",
   "metadata": {},
   "outputs": [],
   "source": []
  },
  {
   "cell_type": "code",
   "execution_count": null,
   "id": "e08edf88-a46f-472b-ba19-c0f221868744",
   "metadata": {},
   "outputs": [],
   "source": []
  },
  {
   "cell_type": "code",
   "execution_count": null,
   "id": "4e672477-db29-41d8-b66d-88db0bb488b7",
   "metadata": {},
   "outputs": [],
   "source": []
  },
  {
   "cell_type": "code",
   "execution_count": null,
   "id": "49246d40-0898-41a5-9814-f716b9b10f5b",
   "metadata": {},
   "outputs": [],
   "source": []
  },
  {
   "cell_type": "code",
   "execution_count": 197,
   "id": "1e24127c-f842-4bcc-a8e7-4d449dbd26b7",
   "metadata": {},
   "outputs": [
    {
     "name": "stdout",
     "output_type": "stream",
     "text": [
      "10\n"
     ]
    }
   ],
   "source": [
    "lst2=[1, 2, 3, 4, 5, 6, 7, 8, 9, 10]\n",
    "print(len(lst2))"
   ]
  },
  {
   "cell_type": "code",
   "execution_count": null,
   "id": "2b8eb332-375a-412d-9536-4a570845c2e2",
   "metadata": {},
   "outputs": [],
   "source": []
  },
  {
   "cell_type": "code",
   "execution_count": null,
   "id": "d9814023-2e94-4d7f-82fe-eddb8c9dbb5a",
   "metadata": {},
   "outputs": [],
   "source": [
    "len(lst2)"
   ]
  },
  {
   "cell_type": "code",
   "execution_count": null,
   "id": "035e9a39-1767-4f6b-83ec-ec711cb98fc9",
   "metadata": {},
   "outputs": [],
   "source": []
  },
  {
   "cell_type": "code",
   "execution_count": null,
   "id": "9c9c4752-f6b2-4aea-abf6-9e8be2751f57",
   "metadata": {},
   "outputs": [],
   "source": []
  },
  {
   "cell_type": "code",
   "execution_count": null,
   "id": "b09ecf4c-405f-4141-92f5-a7182110309d",
   "metadata": {},
   "outputs": [],
   "source": []
  },
  {
   "cell_type": "code",
   "execution_count": null,
   "id": "cd37646b-3147-4306-84b9-39faf61075d2",
   "metadata": {},
   "outputs": [],
   "source": []
  },
  {
   "cell_type": "code",
   "execution_count": null,
   "id": "3e1b1fd7-1d3d-4f4c-b143-9b20a562f5e2",
   "metadata": {},
   "outputs": [],
   "source": []
  },
  {
   "cell_type": "code",
   "execution_count": null,
   "id": "9ed3fefa-2ad8-43c5-8300-45729664b95c",
   "metadata": {},
   "outputs": [],
   "source": []
  },
  {
   "cell_type": "code",
   "execution_count": null,
   "id": "d874f2eb-07cd-48d5-a6a8-7692ca31e0a6",
   "metadata": {},
   "outputs": [],
   "source": []
  },
  {
   "cell_type": "code",
   "execution_count": null,
   "id": "887204d2-b45b-4989-acaf-e44f3dbc1afa",
   "metadata": {},
   "outputs": [],
   "source": []
  },
  {
   "cell_type": "code",
   "execution_count": null,
   "id": "22f3c243-8f2e-4d84-ada0-697838a6fe38",
   "metadata": {},
   "outputs": [],
   "source": []
  },
  {
   "cell_type": "code",
   "execution_count": null,
   "id": "af7e5988-bc97-44b2-b00f-2d4f7657251e",
   "metadata": {},
   "outputs": [],
   "source": []
  },
  {
   "cell_type": "code",
   "execution_count": null,
   "id": "bd6bd970-ec31-4ced-ac75-9677e57c8f01",
   "metadata": {},
   "outputs": [],
   "source": []
  },
  {
   "cell_type": "code",
   "execution_count": null,
   "id": "600cd02d-282e-4e19-b1d9-b25574458c82",
   "metadata": {},
   "outputs": [],
   "source": []
  },
  {
   "cell_type": "code",
   "execution_count": null,
   "id": "90878a99-d59b-49f8-9092-f63e263d8a30",
   "metadata": {},
   "outputs": [],
   "source": []
  },
  {
   "cell_type": "code",
   "execution_count": null,
   "id": "5a761398-8a12-4df8-be5e-dee8d6274c57",
   "metadata": {},
   "outputs": [],
   "source": []
  },
  {
   "cell_type": "code",
   "execution_count": null,
   "id": "46310392-1f99-4f1f-a9f5-de6918d72766",
   "metadata": {},
   "outputs": [],
   "source": []
  },
  {
   "cell_type": "code",
   "execution_count": null,
   "id": "09309a6d-0f51-42c4-93e4-6c17c9e25bb5",
   "metadata": {},
   "outputs": [],
   "source": []
  },
  {
   "cell_type": "code",
   "execution_count": null,
   "id": "e5e57544-cc0a-40e3-ab45-d1cef0963693",
   "metadata": {},
   "outputs": [],
   "source": []
  },
  {
   "cell_type": "code",
   "execution_count": null,
   "id": "7f4e5365-df8d-412c-b698-3711b1bbe916",
   "metadata": {},
   "outputs": [],
   "source": []
  },
  {
   "cell_type": "code",
   "execution_count": null,
   "id": "2856b7bd-43eb-4bfb-80c7-c625537bdb8a",
   "metadata": {},
   "outputs": [],
   "source": []
  },
  {
   "cell_type": "code",
   "execution_count": null,
   "id": "a0768fa6-cda2-4a52-8a8c-9736f33dad77",
   "metadata": {},
   "outputs": [],
   "source": []
  },
  {
   "cell_type": "code",
   "execution_count": null,
   "id": "a99df0c4-059f-4228-a8a3-ecf1dbcd7807",
   "metadata": {},
   "outputs": [],
   "source": []
  },
  {
   "cell_type": "code",
   "execution_count": null,
   "id": "0c382545-8e67-4cab-9cf0-d5de288c99e2",
   "metadata": {},
   "outputs": [],
   "source": []
  },
  {
   "cell_type": "code",
   "execution_count": null,
   "id": "3d3e3e05-2a6a-4067-b639-3a94fb463f2a",
   "metadata": {},
   "outputs": [],
   "source": []
  },
  {
   "cell_type": "code",
   "execution_count": null,
   "id": "35e04a3e-0af1-4fe4-a60c-d36e0cd800e5",
   "metadata": {},
   "outputs": [],
   "source": []
  },
  {
   "cell_type": "code",
   "execution_count": null,
   "id": "a8c899ad-1fba-431d-a4ac-fcc01d1a1198",
   "metadata": {},
   "outputs": [],
   "source": []
  },
  {
   "cell_type": "code",
   "execution_count": null,
   "id": "0f8190b9-4fc7-4034-82e7-31956606c437",
   "metadata": {},
   "outputs": [],
   "source": []
  },
  {
   "cell_type": "code",
   "execution_count": null,
   "id": "2e23e655-3dab-4f94-919f-12ec5c83367c",
   "metadata": {},
   "outputs": [],
   "source": []
  },
  {
   "cell_type": "code",
   "execution_count": null,
   "id": "adf531ad-8ea3-42e1-afb8-30e12e6f9dcd",
   "metadata": {},
   "outputs": [],
   "source": []
  }
 ],
 "metadata": {
  "kernelspec": {
   "display_name": "Python 3",
   "language": "python",
   "name": "python3"
  },
  "language_info": {
   "codemirror_mode": {
    "name": "ipython",
    "version": 3
   },
   "file_extension": ".py",
   "mimetype": "text/x-python",
   "name": "python",
   "nbconvert_exporter": "python",
   "pygments_lexer": "ipython3",
   "version": "3.12.6"
  }
 },
 "nbformat": 4,
 "nbformat_minor": 5
}
