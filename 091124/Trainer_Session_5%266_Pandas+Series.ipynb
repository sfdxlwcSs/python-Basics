{
 "cells": [
  {
   "cell_type": "code",
   "execution_count": 487,
   "id": "e4816439-0897-420d-96c3-cd69c14d8b5a",
   "metadata": {},
   "outputs": [],
   "source": [
    "import pandas as pd"
   ]
  },
  {
   "cell_type": "markdown",
   "id": "108c5d76-dfe8-4b31-ad3f-beafb79be02f",
   "metadata": {},
   "source": [
    "**Different ways to create Series**"
   ]
  },
  {
   "cell_type": "markdown",
   "id": "c130cd5f-e982-4b6a-90eb-2608ec4ed023",
   "metadata": {},
   "source": [
    "**Pandas Series using List**"
   ]
  },
  {
   "cell_type": "code",
   "execution_count": 491,
   "id": "d7aebf53-b43a-4ddd-924f-fcd3b7eaaf78",
   "metadata": {},
   "outputs": [],
   "source": [
    "list1 = [11,22,33,44,55]"
   ]
  },
  {
   "cell_type": "code",
   "execution_count": 493,
   "id": "0a3d3240-f47f-417e-bae1-54e7592ebef3",
   "metadata": {},
   "outputs": [],
   "source": [
    "series1 = pd.Series(list1)"
   ]
  },
  {
   "cell_type": "code",
   "execution_count": 495,
   "id": "da3c670f-3e62-4f33-b3ee-7a09b0a2833e",
   "metadata": {},
   "outputs": [
    {
     "data": {
      "text/plain": [
       "0    11\n",
       "1    22\n",
       "2    33\n",
       "3    44\n",
       "4    55\n",
       "dtype: int64"
      ]
     },
     "execution_count": 495,
     "metadata": {},
     "output_type": "execute_result"
    }
   ],
   "source": [
    "series1"
   ]
  },
  {
   "cell_type": "code",
   "execution_count": 497,
   "id": "78eccbb5-4ca3-4daa-bd34-4dc3db618346",
   "metadata": {},
   "outputs": [
    {
     "data": {
      "text/plain": [
       "pandas.core.series.Series"
      ]
     },
     "execution_count": 497,
     "metadata": {},
     "output_type": "execute_result"
    }
   ],
   "source": [
    "type(series1)"
   ]
  },
  {
   "cell_type": "code",
   "execution_count": 499,
   "id": "034b4d88-ba0e-4021-9062-6c59ed16308f",
   "metadata": {},
   "outputs": [],
   "source": [
    "list1 = [11,\"Good\",33,5.44,55]"
   ]
  },
  {
   "cell_type": "code",
   "execution_count": 501,
   "id": "9edc3c15-2c7d-4f46-86c6-f6c671a4b140",
   "metadata": {},
   "outputs": [],
   "source": [
    "series1 = pd.Series(list1)"
   ]
  },
  {
   "cell_type": "code",
   "execution_count": 503,
   "id": "69762b49-f3a4-403f-a535-31c616d1e39a",
   "metadata": {},
   "outputs": [
    {
     "data": {
      "text/plain": [
       "0      11\n",
       "1    Good\n",
       "2      33\n",
       "3    5.44\n",
       "4      55\n",
       "dtype: object"
      ]
     },
     "execution_count": 503,
     "metadata": {},
     "output_type": "execute_result"
    }
   ],
   "source": [
    "series1"
   ]
  },
  {
   "cell_type": "markdown",
   "id": "b18a3bd6-4bea-4467-be8b-c0d3011c29ff",
   "metadata": {},
   "source": [
    "**Pandas Series using Tuple**"
   ]
  },
  {
   "cell_type": "code",
   "execution_count": 506,
   "id": "b62a845c-a9dd-43d1-a8ed-d3f7cf297d53",
   "metadata": {},
   "outputs": [],
   "source": [
    "tuple1 = (11,22,33,44,55)"
   ]
  },
  {
   "cell_type": "code",
   "execution_count": 508,
   "id": "d6eb74d6-5bf6-424d-8576-ef572c6f946c",
   "metadata": {},
   "outputs": [],
   "source": [
    "series2=pd.Series(tuple1)"
   ]
  },
  {
   "cell_type": "code",
   "execution_count": 510,
   "id": "5cf29140-19a0-4bca-b495-12258dec32a1",
   "metadata": {},
   "outputs": [
    {
     "data": {
      "text/plain": [
       "0      11\n",
       "1    Good\n",
       "2      33\n",
       "3    5.44\n",
       "4      55\n",
       "dtype: object"
      ]
     },
     "execution_count": 510,
     "metadata": {},
     "output_type": "execute_result"
    }
   ],
   "source": [
    "series1"
   ]
  },
  {
   "cell_type": "code",
   "execution_count": 512,
   "id": "abb510e3-81d7-48b9-aad4-c5f7088f8281",
   "metadata": {},
   "outputs": [
    {
     "data": {
      "text/plain": [
       "pandas.core.series.Series"
      ]
     },
     "execution_count": 512,
     "metadata": {},
     "output_type": "execute_result"
    }
   ],
   "source": [
    "type(series2)"
   ]
  },
  {
   "cell_type": "markdown",
   "id": "c29f18bd-4871-4930-9070-f8cb39f55c51",
   "metadata": {},
   "source": [
    "**Pandas Series using Python Dictionary**"
   ]
  },
  {
   "cell_type": "code",
   "execution_count": 515,
   "id": "151ead9f-1f93-49c8-b887-e85cdadf099f",
   "metadata": {},
   "outputs": [],
   "source": [
    "dict={0:11,1:22,2:33,3:44,4:55,5:66}"
   ]
  },
  {
   "cell_type": "code",
   "execution_count": 517,
   "id": "330e12e6-6a1d-4ddb-9cbb-d7e2ff15415c",
   "metadata": {},
   "outputs": [
    {
     "data": {
      "text/plain": [
       "{0: 11, 1: 22, 2: 33, 3: 44, 4: 55, 5: 66}"
      ]
     },
     "execution_count": 517,
     "metadata": {},
     "output_type": "execute_result"
    }
   ],
   "source": [
    "dict"
   ]
  },
  {
   "cell_type": "code",
   "execution_count": 519,
   "id": "af93dc86-150c-42f9-b50e-cbbc7e49b310",
   "metadata": {},
   "outputs": [
    {
     "data": {
      "text/plain": [
       "dict"
      ]
     },
     "execution_count": 519,
     "metadata": {},
     "output_type": "execute_result"
    }
   ],
   "source": [
    "type(dict)"
   ]
  },
  {
   "cell_type": "code",
   "execution_count": 521,
   "id": "bd0f1019-8a8e-4545-aec8-dff513f81ae3",
   "metadata": {},
   "outputs": [],
   "source": [
    "series3 = pd.Series(dict)"
   ]
  },
  {
   "cell_type": "code",
   "execution_count": 523,
   "id": "4bcadc59-c5d0-4b0b-859d-a305f26b421b",
   "metadata": {},
   "outputs": [
    {
     "data": {
      "text/plain": [
       "0    11\n",
       "1    22\n",
       "2    33\n",
       "3    44\n",
       "4    55\n",
       "5    66\n",
       "dtype: int64"
      ]
     },
     "execution_count": 523,
     "metadata": {},
     "output_type": "execute_result"
    }
   ],
   "source": [
    "series3"
   ]
  },
  {
   "cell_type": "code",
   "execution_count": 525,
   "id": "09484ce2-9e59-4b69-bf37-476fd177255e",
   "metadata": {},
   "outputs": [
    {
     "data": {
      "text/plain": [
       "dict"
      ]
     },
     "execution_count": 525,
     "metadata": {},
     "output_type": "execute_result"
    }
   ],
   "source": [
    "type(dict)"
   ]
  },
  {
   "cell_type": "code",
   "execution_count": 527,
   "id": "77d160b7-2311-4629-aec2-107ddb4c2f6f",
   "metadata": {},
   "outputs": [],
   "source": [
    "dict1={'A':11,1:22,'C':33,3:44,4:55,5:66}"
   ]
  },
  {
   "cell_type": "code",
   "execution_count": 529,
   "id": "a3d1455f-bae8-49a6-91d6-e58126c90ba5",
   "metadata": {},
   "outputs": [
    {
     "data": {
      "text/plain": [
       "{'A': 11, 1: 22, 'C': 33, 3: 44, 4: 55, 5: 66}"
      ]
     },
     "execution_count": 529,
     "metadata": {},
     "output_type": "execute_result"
    }
   ],
   "source": [
    "dict1"
   ]
  },
  {
   "cell_type": "code",
   "execution_count": 531,
   "id": "b303431f-dde9-4588-9afa-96ae25e506df",
   "metadata": {},
   "outputs": [
    {
     "data": {
      "text/plain": [
       "dict"
      ]
     },
     "execution_count": 531,
     "metadata": {},
     "output_type": "execute_result"
    }
   ],
   "source": [
    "type(dict1)"
   ]
  },
  {
   "cell_type": "code",
   "execution_count": 533,
   "id": "17ef3ae3-21bf-44d5-8fbc-3ec83d025733",
   "metadata": {},
   "outputs": [],
   "source": [
    "series4 = pd.Series(dict1)"
   ]
  },
  {
   "cell_type": "code",
   "execution_count": 535,
   "id": "feacfc2e-02f6-40c6-8c35-8cf8c14a1354",
   "metadata": {},
   "outputs": [
    {
     "data": {
      "text/plain": [
       "A    11\n",
       "1    22\n",
       "C    33\n",
       "3    44\n",
       "4    55\n",
       "5    66\n",
       "dtype: int64"
      ]
     },
     "execution_count": 535,
     "metadata": {},
     "output_type": "execute_result"
    }
   ],
   "source": [
    "series4"
   ]
  },
  {
   "cell_type": "markdown",
   "id": "cd4db81d-9670-41bb-9b2e-82215b98e602",
   "metadata": {},
   "source": [
    "**Pandas Series using Numpy**"
   ]
  },
  {
   "cell_type": "code",
   "execution_count": 538,
   "id": "f653295f-0b76-41d9-8660-4dea058dcd86",
   "metadata": {},
   "outputs": [],
   "source": [
    "#Need to import numpy in this case\n",
    "import numpy as np"
   ]
  },
  {
   "cell_type": "code",
   "execution_count": 540,
   "id": "8866daeb-7f8a-4b30-b597-54844a6e41b2",
   "metadata": {},
   "outputs": [],
   "source": [
    "num1=np.array([11,22,33,44,55])"
   ]
  },
  {
   "cell_type": "code",
   "execution_count": 542,
   "id": "1043d546-6118-4808-ac5b-28f80ecbd6a9",
   "metadata": {},
   "outputs": [
    {
     "data": {
      "text/plain": [
       "array([11, 22, 33, 44, 55])"
      ]
     },
     "execution_count": 542,
     "metadata": {},
     "output_type": "execute_result"
    }
   ],
   "source": [
    "num1"
   ]
  },
  {
   "cell_type": "code",
   "execution_count": 544,
   "id": "f7f3251e-a8ef-4a9c-9579-736b1235905b",
   "metadata": {},
   "outputs": [
    {
     "data": {
      "text/plain": [
       "numpy.ndarray"
      ]
     },
     "execution_count": 544,
     "metadata": {},
     "output_type": "execute_result"
    }
   ],
   "source": [
    "type(num1)"
   ]
  },
  {
   "cell_type": "code",
   "execution_count": 546,
   "id": "bb9f73f7-9ec6-446f-b6a1-4304c12eb55e",
   "metadata": {},
   "outputs": [],
   "source": [
    "series5=pd.Series(num1)"
   ]
  },
  {
   "cell_type": "code",
   "execution_count": 548,
   "id": "b21c0446-2874-4ef3-9c93-053bd612c5db",
   "metadata": {},
   "outputs": [
    {
     "data": {
      "text/plain": [
       "0    11\n",
       "1    22\n",
       "2    33\n",
       "3    44\n",
       "4    55\n",
       "dtype: int32"
      ]
     },
     "execution_count": 548,
     "metadata": {},
     "output_type": "execute_result"
    }
   ],
   "source": [
    "series5"
   ]
  },
  {
   "cell_type": "markdown",
   "id": "55a30335-59a6-420d-bb3b-55f2623c6678",
   "metadata": {},
   "source": [
    "**Pandas Series using Scalar values**"
   ]
  },
  {
   "cell_type": "code",
   "execution_count": 551,
   "id": "8460862f-d929-46a5-a500-8c9f8d50826d",
   "metadata": {},
   "outputs": [],
   "source": [
    "series6 = pd.Series(11,index=[0,1,2,3,4,5])"
   ]
  },
  {
   "cell_type": "code",
   "execution_count": 553,
   "id": "4de9d739-7c9f-4dd8-8e27-6e22ec154cef",
   "metadata": {},
   "outputs": [
    {
     "data": {
      "text/plain": [
       "0    11\n",
       "1    11\n",
       "2    11\n",
       "3    11\n",
       "4    11\n",
       "5    11\n",
       "dtype: int64"
      ]
     },
     "execution_count": 553,
     "metadata": {},
     "output_type": "execute_result"
    }
   ],
   "source": [
    "series6"
   ]
  },
  {
   "cell_type": "code",
   "execution_count": 555,
   "id": "111f82a7-8384-42f6-835e-2e0a1b67a02b",
   "metadata": {},
   "outputs": [],
   "source": [
    "series7 = pd.Series(11,index=range(0,6))"
   ]
  },
  {
   "cell_type": "code",
   "execution_count": 557,
   "id": "7aee4306-e3a2-4be3-8fa7-428790f36ba8",
   "metadata": {},
   "outputs": [
    {
     "data": {
      "text/plain": [
       "0    11\n",
       "1    11\n",
       "2    11\n",
       "3    11\n",
       "4    11\n",
       "5    11\n",
       "dtype: int64"
      ]
     },
     "execution_count": 557,
     "metadata": {},
     "output_type": "execute_result"
    }
   ],
   "source": [
    "series7"
   ]
  },
  {
   "cell_type": "code",
   "execution_count": 559,
   "id": "55838baa-e73c-4a8b-bee0-34bba071fb7b",
   "metadata": {},
   "outputs": [],
   "source": [
    "series8 = pd.Series(11,index=range(0,12,2))"
   ]
  },
  {
   "cell_type": "code",
   "execution_count": 561,
   "id": "554af402-020f-40d8-b383-567d5b1f91ed",
   "metadata": {},
   "outputs": [
    {
     "data": {
      "text/plain": [
       "0     11\n",
       "2     11\n",
       "4     11\n",
       "6     11\n",
       "8     11\n",
       "10    11\n",
       "dtype: int64"
      ]
     },
     "execution_count": 561,
     "metadata": {},
     "output_type": "execute_result"
    }
   ],
   "source": [
    "series8"
   ]
  },
  {
   "cell_type": "markdown",
   "id": "0079d5ac-18fd-4011-9e2f-f6c13f95a0b1",
   "metadata": {},
   "source": [
    "**Pandas Series using List**"
   ]
  },
  {
   "cell_type": "code",
   "execution_count": 564,
   "id": "1ad7a9f2-f3c5-4bf8-8d47-e8100140e30c",
   "metadata": {},
   "outputs": [
    {
     "data": {
      "text/plain": [
       "0    11\n",
       "1    22\n",
       "2    33\n",
       "3    44\n",
       "4    55\n",
       "dtype: int64"
      ]
     },
     "execution_count": 564,
     "metadata": {},
     "output_type": "execute_result"
    }
   ],
   "source": [
    "series9=pd.Series([11,22,33,44,55])\n",
    "series9"
   ]
  },
  {
   "cell_type": "markdown",
   "id": "8fc88ee6-1f02-4981-b28a-1e912cdd6c9d",
   "metadata": {},
   "source": [
    "**Pandas Series using Tuple**"
   ]
  },
  {
   "cell_type": "code",
   "execution_count": 567,
   "id": "56fc4805-c3f9-4a24-9db5-2e5b47c51d9b",
   "metadata": {},
   "outputs": [
    {
     "data": {
      "text/plain": [
       "0    11\n",
       "1    22\n",
       "2    33\n",
       "3    44\n",
       "4    55\n",
       "dtype: int64"
      ]
     },
     "execution_count": 567,
     "metadata": {},
     "output_type": "execute_result"
    }
   ],
   "source": [
    "series10=pd.Series((11,22,33,44,55))\n",
    "series10"
   ]
  },
  {
   "cell_type": "markdown",
   "id": "cf550090-7664-473c-9957-17cf5506d98d",
   "metadata": {},
   "source": [
    "**Pandas Series using Python Dictionary**"
   ]
  },
  {
   "cell_type": "code",
   "execution_count": 570,
   "id": "33e1d095-06a8-4e8a-bfb8-ecf4e02e4aae",
   "metadata": {},
   "outputs": [
    {
     "data": {
      "text/plain": [
       "1    11\n",
       "2    22\n",
       "3    33\n",
       "4    44\n",
       "5    55\n",
       "dtype: int64"
      ]
     },
     "execution_count": 570,
     "metadata": {},
     "output_type": "execute_result"
    }
   ],
   "source": [
    "series11=pd.Series({1:11,2:22,3:33,4:44,5:55})\n",
    "series11"
   ]
  },
  {
   "cell_type": "code",
   "execution_count": 572,
   "id": "82bdca3f-01c2-4b01-80b2-2a660087256c",
   "metadata": {},
   "outputs": [
    {
     "data": {
      "text/plain": [
       "1        11\n",
       "Age      22\n",
       "3        33\n",
       "Emp    Name\n",
       "5        55\n",
       "dtype: object"
      ]
     },
     "execution_count": 572,
     "metadata": {},
     "output_type": "execute_result"
    }
   ],
   "source": [
    "series12=pd.Series({1:11,'Age':22,3:33,'Emp':'Name',5:55})\n",
    "series12"
   ]
  },
  {
   "cell_type": "markdown",
   "id": "fad5c359-d99d-49c5-9d93-14a2e8bc80db",
   "metadata": {},
   "source": [
    "**Pandas Series using Numpy**"
   ]
  },
  {
   "cell_type": "code",
   "execution_count": 575,
   "id": "0e804189-f0a5-4de7-9e2c-857def12a2c6",
   "metadata": {},
   "outputs": [
    {
     "data": {
      "text/plain": [
       "0    Name\n",
       "1      90\n",
       "2      88\n",
       "3     8.2\n",
       "4      20\n",
       "dtype: object"
      ]
     },
     "execution_count": 575,
     "metadata": {},
     "output_type": "execute_result"
    }
   ],
   "source": [
    "series13=pd.Series(np.array(['Name',90,88,8.2,20]))\n",
    "series13"
   ]
  },
  {
   "cell_type": "markdown",
   "id": "6fa888be-5313-41ce-888d-45623f590e8f",
   "metadata": {},
   "source": [
    "**Pandas Series using Scalar values**"
   ]
  },
  {
   "cell_type": "code",
   "execution_count": 578,
   "id": "a4d0103a-0579-4666-8a55-d2f3274512dd",
   "metadata": {},
   "outputs": [
    {
     "data": {
      "text/plain": [
       "0    50\n",
       "1    50\n",
       "2    50\n",
       "3    50\n",
       "4    50\n",
       "5    50\n",
       "6    50\n",
       "dtype: int64"
      ]
     },
     "execution_count": 578,
     "metadata": {},
     "output_type": "execute_result"
    }
   ],
   "source": [
    "series14=pd.Series(50,index=range(0,7))\n",
    "series14"
   ]
  },
  {
   "cell_type": "markdown",
   "id": "3a110d00-1270-4393-9506-9da71df84ecb",
   "metadata": {},
   "source": [
    "**Pandas Series using list with indexes**"
   ]
  },
  {
   "cell_type": "code",
   "execution_count": 581,
   "id": "0f46c762-8828-41d7-b5b5-7170e625c6e5",
   "metadata": {},
   "outputs": [
    {
     "data": {
      "text/plain": [
       "[11, 22, 33, 44, 55]"
      ]
     },
     "execution_count": 581,
     "metadata": {},
     "output_type": "execute_result"
    }
   ],
   "source": [
    "list1=[11,22,33,44,55]\n",
    "list1"
   ]
  },
  {
   "cell_type": "code",
   "execution_count": 583,
   "id": "549a3e61-9aeb-441c-b429-10646776e46d",
   "metadata": {},
   "outputs": [
    {
     "data": {
      "text/plain": [
       "0    11\n",
       "1    22\n",
       "2    33\n",
       "3    44\n",
       "4    55\n",
       "dtype: int64"
      ]
     },
     "execution_count": 583,
     "metadata": {},
     "output_type": "execute_result"
    }
   ],
   "source": [
    "series15=pd.Series(list1)\n",
    "series15"
   ]
  },
  {
   "cell_type": "code",
   "execution_count": 585,
   "id": "70e9854a-59d0-4dca-a3ac-004d39ae9af0",
   "metadata": {},
   "outputs": [
    {
     "data": {
      "text/plain": [
       "A    11\n",
       "B    22\n",
       "C    33\n",
       "D    44\n",
       "E    55\n",
       "dtype: int64"
      ]
     },
     "execution_count": 585,
     "metadata": {},
     "output_type": "execute_result"
    }
   ],
   "source": [
    "series15=pd.Series(list1,index=['A','B','C','D','E'])\n",
    "series15"
   ]
  },
  {
   "cell_type": "markdown",
   "id": "88f4aee1-0259-4595-8de9-3204c9e30133",
   "metadata": {},
   "source": [
    "**Pandas Series using list with datatype**"
   ]
  },
  {
   "cell_type": "code",
   "execution_count": 588,
   "id": "c85c16ad-4648-40c7-b499-c2ab877870d7",
   "metadata": {},
   "outputs": [
    {
     "data": {
      "text/plain": [
       "A    1.0\n",
       "B    2.0\n",
       "C    3.0\n",
       "D    4.0\n",
       "E    5.0\n",
       "dtype: float64"
      ]
     },
     "execution_count": 588,
     "metadata": {},
     "output_type": "execute_result"
    }
   ],
   "source": [
    "list1=[1,2,3,4,5]\n",
    "series16=pd.Series(list1,index=['A','B','C','D','E'], dtype='float')\n",
    "series16"
   ]
  },
  {
   "cell_type": "markdown",
   "id": "ac4e8c79-f85c-4606-922b-b5861287ff3d",
   "metadata": {},
   "source": [
    "**Accessing Data from Pandas Series**"
   ]
  },
  {
   "cell_type": "code",
   "execution_count": 591,
   "id": "07e265e5-62be-4e76-a5da-5f3cdc478a59",
   "metadata": {},
   "outputs": [
    {
     "data": {
      "text/plain": [
       "0    11\n",
       "1    22\n",
       "2    33\n",
       "3    44\n",
       "4    55\n",
       "dtype: int64"
      ]
     },
     "execution_count": 591,
     "metadata": {},
     "output_type": "execute_result"
    }
   ],
   "source": [
    "series17=pd.Series([11,22,33,44,55])\n",
    "series17"
   ]
  },
  {
   "cell_type": "code",
   "execution_count": 593,
   "id": "e56fc894-81c0-4ab0-8eb9-d67ce7ddc2e9",
   "metadata": {},
   "outputs": [
    {
     "data": {
      "text/plain": [
       "11"
      ]
     },
     "execution_count": 593,
     "metadata": {},
     "output_type": "execute_result"
    }
   ],
   "source": [
    "series1[0]"
   ]
  },
  {
   "cell_type": "code",
   "execution_count": 595,
   "id": "dd320b5f-384c-40fa-8977-1cfb09115fe1",
   "metadata": {},
   "outputs": [
    {
     "data": {
      "text/plain": [
       "0      11\n",
       "1    Good\n",
       "2      33\n",
       "dtype: object"
      ]
     },
     "execution_count": 595,
     "metadata": {},
     "output_type": "execute_result"
    }
   ],
   "source": [
    "series1[0:3]"
   ]
  },
  {
   "cell_type": "code",
   "execution_count": 597,
   "id": "8f108055-330b-4c6f-ab56-eaf167a5a714",
   "metadata": {},
   "outputs": [
    {
     "data": {
      "text/plain": [
       "0    11\n",
       "4    55\n",
       "dtype: object"
      ]
     },
     "execution_count": 597,
     "metadata": {},
     "output_type": "execute_result"
    }
   ],
   "source": [
    "series1[[0,4]]"
   ]
  },
  {
   "cell_type": "markdown",
   "id": "2603cdd9-d546-4baa-a513-6f50367956f5",
   "metadata": {},
   "source": [
    "**Operations on Pandas Series**"
   ]
  },
  {
   "cell_type": "code",
   "execution_count": 600,
   "id": "023646e7-9413-4f56-8630-ef009c7cc005",
   "metadata": {},
   "outputs": [],
   "source": [
    "s1=[1,2,3,4,5]\n",
    "s2=[10,20,30,40,50]"
   ]
  },
  {
   "cell_type": "code",
   "execution_count": 602,
   "id": "ce8d11a7-ea3e-4983-b435-fbf226df4d95",
   "metadata": {},
   "outputs": [
    {
     "data": {
      "text/plain": [
       "[1, 2, 3, 4, 5, 10, 20, 30, 40, 50]"
      ]
     },
     "execution_count": 602,
     "metadata": {},
     "output_type": "execute_result"
    }
   ],
   "source": [
    "s1+s2"
   ]
  },
  {
   "cell_type": "code",
   "execution_count": 604,
   "id": "114666fe-f962-4cc5-8aed-ed19ea7710b7",
   "metadata": {},
   "outputs": [
    {
     "data": {
      "text/plain": [
       "0    1\n",
       "1    2\n",
       "2    3\n",
       "3    4\n",
       "4    5\n",
       "dtype: int64"
      ]
     },
     "execution_count": 604,
     "metadata": {},
     "output_type": "execute_result"
    }
   ],
   "source": [
    "ser1=pd.Series(s1)\n",
    "ser1"
   ]
  },
  {
   "cell_type": "code",
   "execution_count": 606,
   "id": "0d313976-5594-468c-84ea-fd9a545217f1",
   "metadata": {},
   "outputs": [
    {
     "data": {
      "text/plain": [
       "0    10\n",
       "1    20\n",
       "2    30\n",
       "3    40\n",
       "4    50\n",
       "dtype: int64"
      ]
     },
     "execution_count": 606,
     "metadata": {},
     "output_type": "execute_result"
    }
   ],
   "source": [
    "ser2=pd.Series(s2)\n",
    "ser2"
   ]
  },
  {
   "cell_type": "markdown",
   "id": "dc1e3f88-f4e3-474a-bc3c-3f7bc1b3cbf9",
   "metadata": {},
   "source": [
    "**Adding**"
   ]
  },
  {
   "cell_type": "code",
   "execution_count": 609,
   "id": "6a8f5a75-6310-4a1b-b770-366df8833054",
   "metadata": {},
   "outputs": [
    {
     "data": {
      "text/plain": [
       "0    11\n",
       "1    22\n",
       "2    33\n",
       "3    44\n",
       "4    55\n",
       "dtype: int64"
      ]
     },
     "execution_count": 609,
     "metadata": {},
     "output_type": "execute_result"
    }
   ],
   "source": [
    "ser1+ser2"
   ]
  },
  {
   "cell_type": "code",
   "execution_count": 611,
   "id": "99ddf6f8-0487-4b65-afb5-b9a5644da2d4",
   "metadata": {},
   "outputs": [],
   "source": [
    "ser3=pd.Series([1,2,3,4,5])\n",
    "ser4=pd.Series([10,20,30,40])"
   ]
  },
  {
   "cell_type": "code",
   "execution_count": 613,
   "id": "655fdf49-af45-4b48-a641-c0f0c8801865",
   "metadata": {},
   "outputs": [
    {
     "data": {
      "text/plain": [
       "0    11.0\n",
       "1    22.0\n",
       "2    33.0\n",
       "3    44.0\n",
       "4     NaN\n",
       "dtype: float64"
      ]
     },
     "execution_count": 613,
     "metadata": {},
     "output_type": "execute_result"
    }
   ],
   "source": [
    "ser3+ser4"
   ]
  },
  {
   "cell_type": "markdown",
   "id": "2a964565-a4aa-415c-8baf-6c392af7cb75",
   "metadata": {},
   "source": [
    "**Subtracting**"
   ]
  },
  {
   "cell_type": "code",
   "execution_count": 616,
   "id": "ee61d668-0f6b-4a15-9b16-3a6b64b6fc9b",
   "metadata": {},
   "outputs": [
    {
     "data": {
      "text/plain": [
       "0     9\n",
       "1    18\n",
       "2    27\n",
       "3    36\n",
       "4    45\n",
       "dtype: int64"
      ]
     },
     "execution_count": 616,
     "metadata": {},
     "output_type": "execute_result"
    }
   ],
   "source": [
    "ser2-ser1"
   ]
  },
  {
   "cell_type": "markdown",
   "id": "8b6e3c2a-dcc1-4098-b840-01a3986551f0",
   "metadata": {},
   "source": [
    "**Multiplication**"
   ]
  },
  {
   "cell_type": "code",
   "execution_count": 619,
   "id": "febd1123-3de6-478d-859e-4b55cfa3d8b3",
   "metadata": {},
   "outputs": [
    {
     "data": {
      "text/plain": [
       "0     10\n",
       "1     40\n",
       "2     90\n",
       "3    160\n",
       "4    250\n",
       "dtype: int64"
      ]
     },
     "execution_count": 619,
     "metadata": {},
     "output_type": "execute_result"
    }
   ],
   "source": [
    "ser1*ser2"
   ]
  },
  {
   "cell_type": "markdown",
   "id": "4840fda0-ba5f-41ee-93ec-e99c59fbb311",
   "metadata": {},
   "source": [
    "**Division**"
   ]
  },
  {
   "cell_type": "code",
   "execution_count": 622,
   "id": "8f894e28-50e8-46f4-85d5-cc8e62d642a6",
   "metadata": {},
   "outputs": [
    {
     "data": {
      "text/plain": [
       "0    0.1\n",
       "1    0.1\n",
       "2    0.1\n",
       "3    0.1\n",
       "4    0.1\n",
       "dtype: float64"
      ]
     },
     "execution_count": 622,
     "metadata": {},
     "output_type": "execute_result"
    }
   ],
   "source": [
    "ser1/ser2"
   ]
  },
  {
   "cell_type": "code",
   "execution_count": 624,
   "id": "40977ced-d494-46ef-b0b1-9d6c7050cdd6",
   "metadata": {},
   "outputs": [
    {
     "data": {
      "text/plain": [
       "0    0.1\n",
       "1    0.1\n",
       "2    0.1\n",
       "3    0.1\n",
       "4    0.1\n",
       "dtype: float64"
      ]
     },
     "execution_count": 624,
     "metadata": {},
     "output_type": "execute_result"
    }
   ],
   "source": [
    "ser1/ser2"
   ]
  },
  {
   "cell_type": "code",
   "execution_count": 626,
   "id": "620268aa-7df7-4dda-89b9-4dbff05f767d",
   "metadata": {},
   "outputs": [
    {
     "data": {
      "text/plain": [
       "0    0\n",
       "1    0\n",
       "2    0\n",
       "3    0\n",
       "4    0\n",
       "dtype: int64"
      ]
     },
     "execution_count": 626,
     "metadata": {},
     "output_type": "execute_result"
    }
   ],
   "source": [
    "ser1//ser2"
   ]
  },
  {
   "cell_type": "markdown",
   "id": "41a3e3f8-7dc5-4482-bae3-8e93f3e4e7c0",
   "metadata": {},
   "source": [
    "**power of**"
   ]
  },
  {
   "cell_type": "code",
   "execution_count": 629,
   "id": "c28f2f69-bdf5-4fea-8b7d-616870d255b2",
   "metadata": {},
   "outputs": [
    {
     "data": {
      "text/plain": [
       "0     1\n",
       "1     4\n",
       "2     9\n",
       "3    16\n",
       "4    25\n",
       "dtype: int64"
      ]
     },
     "execution_count": 629,
     "metadata": {},
     "output_type": "execute_result"
    }
   ],
   "source": [
    "ser1**2"
   ]
  },
  {
   "cell_type": "markdown",
   "id": "8317acf9-8256-4b81-85c7-d5b083b0b6f6",
   "metadata": {},
   "source": [
    "**Reindexing In Pandas**"
   ]
  },
  {
   "cell_type": "code",
   "execution_count": 632,
   "id": "6400a2e4-0995-4010-9879-a43a07eec5f1",
   "metadata": {},
   "outputs": [],
   "source": [
    "import pandas as pd\n",
    "ser1 = pd.Series([10,20,30,40],index=list('ABCD'))"
   ]
  },
  {
   "cell_type": "code",
   "execution_count": 634,
   "id": "4042ee48-efbc-4214-b284-aba187dfda4b",
   "metadata": {},
   "outputs": [
    {
     "data": {
      "text/plain": [
       "A    10\n",
       "B    20\n",
       "C    30\n",
       "D    40\n",
       "dtype: int64"
      ]
     },
     "execution_count": 634,
     "metadata": {},
     "output_type": "execute_result"
    }
   ],
   "source": [
    "ser1"
   ]
  },
  {
   "cell_type": "code",
   "execution_count": 636,
   "id": "a4950074-9f0f-47d1-90de-c1c096568588",
   "metadata": {},
   "outputs": [
    {
     "data": {
      "text/plain": [
       "A    10.0\n",
       "B    20.0\n",
       "C    30.0\n",
       "D    40.0\n",
       "E     NaN\n",
       "F     NaN\n",
       "G     NaN\n",
       "H     NaN\n",
       "dtype: float64"
      ]
     },
     "execution_count": 636,
     "metadata": {},
     "output_type": "execute_result"
    }
   ],
   "source": [
    "ser1.reindex(list('ABCDEFGH'))"
   ]
  },
  {
   "cell_type": "code",
   "execution_count": 638,
   "id": "6f0f729a-3f18-44a1-8f4d-7ad9f5beab99",
   "metadata": {},
   "outputs": [
    {
     "data": {
      "text/plain": [
       "E    50\n",
       "F    60\n",
       "dtype: int64"
      ]
     },
     "execution_count": 638,
     "metadata": {},
     "output_type": "execute_result"
    }
   ],
   "source": [
    "ser2 = pd.Series([50,60],index=['E','F'])\n",
    "ser2\n"
   ]
  },
  {
   "cell_type": "code",
   "execution_count": 640,
   "id": "a9a43fd6-3f21-4187-ad77-f127bb7194e4",
   "metadata": {},
   "outputs": [
    {
     "data": {
      "text/plain": [
       "1      India\n",
       "5     Bhutan\n",
       "10     Nepal\n",
       "dtype: object"
      ]
     },
     "execution_count": 640,
     "metadata": {},
     "output_type": "execute_result"
    }
   ],
   "source": [
    "s1 = pd.Series(['India','Bhutan','Nepal'],index=[1,5,10])\n",
    "s1"
   ]
  },
  {
   "cell_type": "code",
   "execution_count": 642,
   "id": "f0938bfe-2de1-42dd-b61e-2e266271a8ff",
   "metadata": {},
   "outputs": [
    {
     "data": {
      "text/plain": [
       "0        NaN\n",
       "1      India\n",
       "2        NaN\n",
       "3        NaN\n",
       "4        NaN\n",
       "5     Bhutan\n",
       "6        NaN\n",
       "7        NaN\n",
       "8        NaN\n",
       "9        NaN\n",
       "10     Nepal\n",
       "11       NaN\n",
       "12       NaN\n",
       "13       NaN\n",
       "14       NaN\n",
       "dtype: object"
      ]
     },
     "execution_count": 642,
     "metadata": {},
     "output_type": "execute_result"
    }
   ],
   "source": [
    "s1.reindex(range(15))"
   ]
  },
  {
   "cell_type": "code",
   "execution_count": 644,
   "id": "58e4b042-28ea-4511-8b26-8a184763fdab",
   "metadata": {},
   "outputs": [
    {
     "data": {
      "text/plain": [
       "0      India\n",
       "1      India\n",
       "2      India\n",
       "3      India\n",
       "4      India\n",
       "5     Bhutan\n",
       "6      India\n",
       "7      India\n",
       "8      India\n",
       "9      India\n",
       "10     Nepal\n",
       "11     India\n",
       "12     India\n",
       "13     India\n",
       "14     India\n",
       "dtype: object"
      ]
     },
     "execution_count": 644,
     "metadata": {},
     "output_type": "execute_result"
    }
   ],
   "source": [
    "s1.reindex(range(15),fill_value='India')"
   ]
  },
  {
   "cell_type": "code",
   "execution_count": 646,
   "id": "101809dd-f83d-4d87-b1f5-7c7118e1b0dd",
   "metadata": {},
   "outputs": [
    {
     "data": {
      "text/plain": [
       "0        NaN\n",
       "1      India\n",
       "2      India\n",
       "3      India\n",
       "4      India\n",
       "5     Bhutan\n",
       "6     Bhutan\n",
       "7     Bhutan\n",
       "8     Bhutan\n",
       "9     Bhutan\n",
       "10     Nepal\n",
       "11     Nepal\n",
       "12     Nepal\n",
       "13     Nepal\n",
       "14     Nepal\n",
       "dtype: object"
      ]
     },
     "execution_count": 646,
     "metadata": {},
     "output_type": "execute_result"
    }
   ],
   "source": [
    "s1.reindex(range(15),method='ffill')"
   ]
  },
  {
   "cell_type": "code",
   "execution_count": 648,
   "id": "46cd2d2d-35db-47e0-bac8-e9a409db32ee",
   "metadata": {},
   "outputs": [
    {
     "data": {
      "text/plain": [
       "0      India\n",
       "1      India\n",
       "2     Bhutan\n",
       "3     Bhutan\n",
       "4     Bhutan\n",
       "5     Bhutan\n",
       "6      Nepal\n",
       "7      Nepal\n",
       "8      Nepal\n",
       "9      Nepal\n",
       "10     Nepal\n",
       "11       NaN\n",
       "12       NaN\n",
       "13       NaN\n",
       "14       NaN\n",
       "dtype: object"
      ]
     },
     "execution_count": 648,
     "metadata": {},
     "output_type": "execute_result"
    }
   ],
   "source": [
    "s1.reindex(range(15),method='bfill')"
   ]
  },
  {
   "cell_type": "code",
   "execution_count": 650,
   "id": "30ee8aef-59dd-4631-9a1a-773a8f45b53a",
   "metadata": {},
   "outputs": [],
   "source": [
    "s1 = pd.Series(np.random.randint(1,101,10),index=[1,2,3,4,8,9,10,11,12,13])"
   ]
  },
  {
   "cell_type": "code",
   "execution_count": 652,
   "id": "b35b06aa-c295-4b54-8aa9-e1773e4471ce",
   "metadata": {},
   "outputs": [
    {
     "data": {
      "text/plain": [
       "1     24\n",
       "2     90\n",
       "3     59\n",
       "4     37\n",
       "8     61\n",
       "9     25\n",
       "10    78\n",
       "11    76\n",
       "12    27\n",
       "13    21\n",
       "dtype: int32"
      ]
     },
     "execution_count": 652,
     "metadata": {},
     "output_type": "execute_result"
    }
   ],
   "source": [
    "s1"
   ]
  }
 ],
 "metadata": {
  "kernelspec": {
   "display_name": "Python 3 (ipykernel)",
   "language": "python",
   "name": "python3"
  },
  "language_info": {
   "codemirror_mode": {
    "name": "ipython",
    "version": 3
   },
   "file_extension": ".py",
   "mimetype": "text/x-python",
   "name": "python",
   "nbconvert_exporter": "python",
   "pygments_lexer": "ipython3",
   "version": "3.12.4"
  }
 },
 "nbformat": 4,
 "nbformat_minor": 5
}
