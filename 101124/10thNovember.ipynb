{
 "cells": [
  {
   "cell_type": "code",
   "execution_count": 2,
   "id": "858fd578-82c4-4977-bfb2-9f1f5b354211",
   "metadata": {},
   "outputs": [],
   "source": [
    "import numpy as np\n",
    "import pandas as pd"
   ]
  },
  {
   "cell_type": "code",
   "execution_count": 3,
   "id": "12199f86-168d-4fd1-9fde-822cd2ce0320",
   "metadata": {},
   "outputs": [
    {
     "data": {
      "text/plain": [
       "100    1\n",
       "101    2\n",
       "102    3\n",
       "103    4\n",
       "104    5\n",
       "105    6\n",
       "106    7\n",
       "107    8\n",
       "108    9\n",
       "dtype: int32"
      ]
     },
     "execution_count": 3,
     "metadata": {},
     "output_type": "execute_result"
    }
   ],
   "source": [
    "a=pd.Series(np.arange(1,10),index=np.arange(100,109))\n",
    "a"
   ]
  },
  {
   "cell_type": "code",
   "execution_count": 4,
   "id": "b655fc16-81a9-4bba-bc78-f710e5234081",
   "metadata": {},
   "outputs": [
    {
     "data": {
      "text/plain": [
       "1"
      ]
     },
     "execution_count": 4,
     "metadata": {},
     "output_type": "execute_result"
    }
   ],
   "source": [
    "a[100]"
   ]
  },
  {
   "cell_type": "code",
   "execution_count": 5,
   "id": "305a5946-cc47-40e4-8462-02ac14175566",
   "metadata": {},
   "outputs": [
    {
     "data": {
      "text/plain": [
       "Series([], dtype: int32)"
      ]
     },
     "execution_count": 5,
     "metadata": {},
     "output_type": "execute_result"
    }
   ],
   "source": [
    "a[100:104]"
   ]
  },
  {
   "cell_type": "code",
   "execution_count": 6,
   "id": "18f92b06-e2a1-43b4-8d4a-fcd5bc0535c6",
   "metadata": {},
   "outputs": [
    {
     "data": {
      "text/plain": [
       "100    1\n",
       "101    2\n",
       "dtype: int32"
      ]
     },
     "execution_count": 6,
     "metadata": {},
     "output_type": "execute_result"
    }
   ],
   "source": [
    "a[[100,101]]"
   ]
  },
  {
   "cell_type": "code",
   "execution_count": 7,
   "id": "96a0d3e1-60b6-40c3-bb4a-3c142bfad5e7",
   "metadata": {},
   "outputs": [
    {
     "data": {
      "text/plain": [
       "100    1\n",
       "101    2\n",
       "102    3\n",
       "dtype: int32"
      ]
     },
     "execution_count": 7,
     "metadata": {},
     "output_type": "execute_result"
    }
   ],
   "source": [
    "a[:3]"
   ]
  },
  {
   "cell_type": "code",
   "execution_count": 8,
   "id": "72f464db-29e2-4cd1-b331-6a10656708df",
   "metadata": {},
   "outputs": [
    {
     "data": {
      "text/plain": [
       "100    1\n",
       "102    3\n",
       "104    5\n",
       "106    7\n",
       "108    9\n",
       "dtype: int32"
      ]
     },
     "execution_count": 8,
     "metadata": {},
     "output_type": "execute_result"
    }
   ],
   "source": [
    "a[::2]"
   ]
  },
  {
   "cell_type": "code",
   "execution_count": 9,
   "id": "25be431f-7066-491f-b34e-1119f04df7f9",
   "metadata": {},
   "outputs": [
    {
     "data": {
      "text/plain": [
       "100    False\n",
       "101    False\n",
       "102     True\n",
       "103     True\n",
       "104     True\n",
       "105     True\n",
       "106     True\n",
       "107     True\n",
       "108     True\n",
       "dtype: bool"
      ]
     },
     "execution_count": 9,
     "metadata": {},
     "output_type": "execute_result"
    }
   ],
   "source": [
    "a>2"
   ]
  },
  {
   "cell_type": "code",
   "execution_count": 10,
   "id": "224d9118-e786-4834-98ae-0cc61f2ea52a",
   "metadata": {},
   "outputs": [],
   "source": [
    "a[a > 2]\n",
    "# Replace all values greater than 3 with 99\n",
    "a[a > 3] = 99"
   ]
  },
  {
   "cell_type": "code",
   "execution_count": 11,
   "id": "af8ff2c5-2bbe-430d-9aeb-230d6f69eb4d",
   "metadata": {},
   "outputs": [],
   "source": [
    "a.replace(3, 30, inplace=True) #it goes ahead and replaced values in a else it will not do it in a"
   ]
  },
  {
   "cell_type": "code",
   "execution_count": 12,
   "id": "d67f7210-4cf7-4cc3-85f8-da4ada685327",
   "metadata": {},
   "outputs": [],
   "source": [
    "a\n",
    "a.replace({2: 20, 4: 40}, inplace=True) #You can replace multiple values by passing a dictionary:"
   ]
  },
  {
   "cell_type": "code",
   "execution_count": 13,
   "id": "f77be7a2-9730-4d1e-ba54-020140c91f3d",
   "metadata": {},
   "outputs": [
    {
     "name": "stdout",
     "output_type": "stream",
     "text": [
      "Name    1\n",
      "Age     1\n",
      "City    1\n",
      "dtype: int64\n",
      "********🚀\n",
      "Name    3\n",
      "Age     3\n",
      "City    3\n",
      "dtype: int64\n"
     ]
    }
   ],
   "source": [
    "# fillna(),isnull.sum,notnull.sum\n",
    "\n",
    "# The .isnull().sum() combination in Pandas is used to count the number of missing (null/NaN) values in each column of a DataFrame. Here’s how it works:\n",
    "\n",
    "# isnull(): Checks each element for missing values, returning True for nulls and False for non-nulls.\n",
    "# sum(): Sums up the True values in each column (since True is treated as 1 and False as 0), giving the count of missing values per column.\n",
    "# Sample DataFrame with some missing values\n",
    "df = pd.DataFrame({\n",
    "    'Name': ['Alice', 'Bob', None, 'David'],\n",
    "    'Age': [24, None, 35, 40],\n",
    "    'City': ['New York', None, 'Los Angeles', 'Chicago']\n",
    "})\n",
    "\n",
    "# Count missing values in each column\n",
    "missing_values_count = df.isnull().sum()\n",
    "notnull_values_count = df.notnull().sum()\n",
    "print(missing_values_count)\n",
    "print('********🚀')\n",
    "print(notnull_values_count)"
   ]
  },
  {
   "cell_type": "code",
   "execution_count": 14,
   "id": "210d5f8b-7e99-4f75-9ff0-e2fbad15956f",
   "metadata": {},
   "outputs": [
    {
     "name": "stdout",
     "output_type": "stream",
     "text": [
      "      Name      Age         City\n",
      "0    Alice     24.0     New York\n",
      "1      Bob  Unknown      Unknown\n",
      "2  Unknown     35.0  Los Angeles\n",
      "3    David     40.0      Chicago\n"
     ]
    }
   ],
   "source": [
    "# The .fillna() method in Pandas is used to replace missing (null/NaN) values with a specified value. \n",
    "# This can be useful for handling missing data by filling gaps with meaningful values.\n",
    "# Fill missing values in all columns with a specified value\n",
    "df_filled = df.fillna(\"Unknown\")\n",
    "\n",
    "print(df_filled)"
   ]
  },
  {
   "cell_type": "code",
   "execution_count": 15,
   "id": "58db6a08-8075-41fc-95cf-d375b755e517",
   "metadata": {},
   "outputs": [
    {
     "name": "stdout",
     "output_type": "stream",
     "text": [
      "      Name   Age         City\n",
      "0    Alice  24.0     New York\n",
      "1      Bob  33.0      Unknown\n",
      "2  Unknown  35.0  Los Angeles\n",
      "3    David  40.0      Chicago\n"
     ]
    }
   ],
   "source": [
    "# Fill missing values with different values for each column\n",
    "df_filled = df.fillna({'Name': 'Unknown', 'Age': df['Age'].mean(), 'City': 'Unknown'})\n",
    "\n",
    "print(df_filled)\n"
   ]
  },
  {
   "cell_type": "code",
   "execution_count": 16,
   "id": "a7bd23b0-f670-416a-afbc-7063dbd5a931",
   "metadata": {},
   "outputs": [
    {
     "data": {
      "text/plain": [
       "0    24.0\n",
       "1     NaN\n",
       "2    35.0\n",
       "3    40.0\n",
       "Name: Age, dtype: float64"
      ]
     },
     "execution_count": 16,
     "metadata": {},
     "output_type": "execute_result"
    }
   ],
   "source": [
    "df['Age']"
   ]
  },
  {
   "cell_type": "code",
   "execution_count": 17,
   "id": "b5ae5e7c-7764-42fc-8d5e-858993250f20",
   "metadata": {},
   "outputs": [
    {
     "data": {
      "text/html": [
       "<div>\n",
       "<style scoped>\n",
       "    .dataframe tbody tr th:only-of-type {\n",
       "        vertical-align: middle;\n",
       "    }\n",
       "\n",
       "    .dataframe tbody tr th {\n",
       "        vertical-align: top;\n",
       "    }\n",
       "\n",
       "    .dataframe thead th {\n",
       "        text-align: right;\n",
       "    }\n",
       "</style>\n",
       "<table border=\"1\" class=\"dataframe\">\n",
       "  <thead>\n",
       "    <tr style=\"text-align: right;\">\n",
       "      <th></th>\n",
       "      <th>Name</th>\n",
       "      <th>Age</th>\n",
       "      <th>City</th>\n",
       "    </tr>\n",
       "  </thead>\n",
       "  <tbody>\n",
       "    <tr>\n",
       "      <th>0</th>\n",
       "      <td>Alice</td>\n",
       "      <td>24.0</td>\n",
       "      <td>New York</td>\n",
       "    </tr>\n",
       "    <tr>\n",
       "      <th>1</th>\n",
       "      <td>Bob</td>\n",
       "      <td>NaN</td>\n",
       "      <td>None</td>\n",
       "    </tr>\n",
       "    <tr>\n",
       "      <th>2</th>\n",
       "      <td>None</td>\n",
       "      <td>35.0</td>\n",
       "      <td>Los Angeles</td>\n",
       "    </tr>\n",
       "    <tr>\n",
       "      <th>3</th>\n",
       "      <td>David</td>\n",
       "      <td>40.0</td>\n",
       "      <td>Chicago</td>\n",
       "    </tr>\n",
       "  </tbody>\n",
       "</table>\n",
       "</div>"
      ],
      "text/plain": [
       "    Name   Age         City\n",
       "0  Alice  24.0     New York\n",
       "1    Bob   NaN         None\n",
       "2   None  35.0  Los Angeles\n",
       "3  David  40.0      Chicago"
      ]
     },
     "execution_count": 17,
     "metadata": {},
     "output_type": "execute_result"
    }
   ],
   "source": [
    "df"
   ]
  },
  {
   "cell_type": "code",
   "execution_count": 18,
   "id": "a08cc57e-1c2e-4ecf-b5b6-b62522d05e5e",
   "metadata": {},
   "outputs": [
    {
     "name": "stderr",
     "output_type": "stream",
     "text": [
      "C:\\Users\\SFDCL\\AppData\\Local\\Temp\\ipykernel_12172\\2381213229.py:3: FutureWarning: Setting an item of incompatible dtype is deprecated and will raise an error in a future version of pandas. Value 'NA' has dtype incompatible with float64, please explicitly cast to a compatible dtype first.\n",
      "  df.fillna(\"NA\", inplace=True)\n"
     ]
    }
   ],
   "source": [
    "# In-Place Filling\n",
    "# If you want to modify the DataFrame directly without creating a new one, set inplace=True:\n",
    "df.fillna(\"NA\", inplace=True)"
   ]
  },
  {
   "cell_type": "code",
   "execution_count": 19,
   "id": "9cae450c-792d-4a32-8a73-ad1cee8904b7",
   "metadata": {},
   "outputs": [
    {
     "data": {
      "text/html": [
       "<div>\n",
       "<style scoped>\n",
       "    .dataframe tbody tr th:only-of-type {\n",
       "        vertical-align: middle;\n",
       "    }\n",
       "\n",
       "    .dataframe tbody tr th {\n",
       "        vertical-align: top;\n",
       "    }\n",
       "\n",
       "    .dataframe thead th {\n",
       "        text-align: right;\n",
       "    }\n",
       "</style>\n",
       "<table border=\"1\" class=\"dataframe\">\n",
       "  <thead>\n",
       "    <tr style=\"text-align: right;\">\n",
       "      <th></th>\n",
       "      <th>Name</th>\n",
       "      <th>Age</th>\n",
       "      <th>City</th>\n",
       "    </tr>\n",
       "  </thead>\n",
       "  <tbody>\n",
       "    <tr>\n",
       "      <th>0</th>\n",
       "      <td>Alice</td>\n",
       "      <td>24.0</td>\n",
       "      <td>New York</td>\n",
       "    </tr>\n",
       "    <tr>\n",
       "      <th>1</th>\n",
       "      <td>Bob</td>\n",
       "      <td>NA</td>\n",
       "      <td>NA</td>\n",
       "    </tr>\n",
       "    <tr>\n",
       "      <th>2</th>\n",
       "      <td>NA</td>\n",
       "      <td>35.0</td>\n",
       "      <td>Los Angeles</td>\n",
       "    </tr>\n",
       "    <tr>\n",
       "      <th>3</th>\n",
       "      <td>David</td>\n",
       "      <td>40.0</td>\n",
       "      <td>Chicago</td>\n",
       "    </tr>\n",
       "  </tbody>\n",
       "</table>\n",
       "</div>"
      ],
      "text/plain": [
       "    Name   Age         City\n",
       "0  Alice  24.0     New York\n",
       "1    Bob    NA           NA\n",
       "2     NA  35.0  Los Angeles\n",
       "3  David  40.0      Chicago"
      ]
     },
     "execution_count": 19,
     "metadata": {},
     "output_type": "execute_result"
    }
   ],
   "source": [
    "df"
   ]
  },
  {
   "cell_type": "code",
   "execution_count": 20,
   "id": "c15dc8f6-a458-4bb8-9ba1-271341e3ee79",
   "metadata": {},
   "outputs": [
    {
     "data": {
      "text/plain": [
       "0    11\n",
       "1    12\n",
       "2    13\n",
       "3    14\n",
       "4    15\n",
       "5    16\n",
       "6    17\n",
       "7    18\n",
       "8    19\n",
       "dtype: int32"
      ]
     },
     "execution_count": 20,
     "metadata": {},
     "output_type": "execute_result"
    }
   ],
   "source": [
    "ser1=pd.Series(np.arange(11,20))\n",
    "ser1"
   ]
  },
  {
   "cell_type": "code",
   "execution_count": 21,
   "id": "9aa44ce2-d43f-4a24-9a25-05c77714a709",
   "metadata": {},
   "outputs": [],
   "source": [
    "ser1.rename({1:'A'},inplace=True)"
   ]
  },
  {
   "cell_type": "code",
   "execution_count": 22,
   "id": "f2285a70-532e-490a-8a99-49768a13aecc",
   "metadata": {},
   "outputs": [
    {
     "name": "stdout",
     "output_type": "stream",
     "text": [
      "0    11\n",
      "A    12\n",
      "B    13\n",
      "C    14\n",
      "4    15\n",
      "5    16\n",
      "6    17\n",
      "7    18\n",
      "8    19\n",
      "dtype: int32\n"
     ]
    }
   ],
   "source": [
    "ser1\n",
    "# Renaming all index labels\n",
    "ser1.rename({1: 'A', 2: 'B', 3: 'C'}, inplace=True)\n",
    "\n",
    "print(ser1)"
   ]
  },
  {
   "cell_type": "code",
   "execution_count": 23,
   "id": "7f57a03b-6d56-40ee-ac80-c1e5cdb27223",
   "metadata": {},
   "outputs": [
    {
     "name": "stdout",
     "output_type": "stream",
     "text": [
      "0    11\n",
      "A    12\n",
      "B    13\n",
      "C    14\n",
      "5    16\n",
      "6    17\n",
      "7    18\n",
      "8    19\n",
      "dtype: int32\n"
     ]
    }
   ],
   "source": [
    "ser_reindexed = ser1.reindex([0,'A','B','C',5,6,7,8])\n",
    "\n",
    "print(ser_reindexed)"
   ]
  },
  {
   "cell_type": "code",
   "execution_count": 24,
   "id": "168a9675-0c55-4583-9582-6da4e1b8dbb8",
   "metadata": {},
   "outputs": [],
   "source": [
    "df=pd.DataFrame(np.arange(1,26).reshape(5,5),index=list('ABCDE'),columns=list('UVWXY'),dtype='float')"
   ]
  },
  {
   "cell_type": "code",
   "execution_count": 25,
   "id": "ac1706c6-fac9-4161-b652-f8f6434fe815",
   "metadata": {},
   "outputs": [
    {
     "data": {
      "text/html": [
       "<div>\n",
       "<style scoped>\n",
       "    .dataframe tbody tr th:only-of-type {\n",
       "        vertical-align: middle;\n",
       "    }\n",
       "\n",
       "    .dataframe tbody tr th {\n",
       "        vertical-align: top;\n",
       "    }\n",
       "\n",
       "    .dataframe thead th {\n",
       "        text-align: right;\n",
       "    }\n",
       "</style>\n",
       "<table border=\"1\" class=\"dataframe\">\n",
       "  <thead>\n",
       "    <tr style=\"text-align: right;\">\n",
       "      <th></th>\n",
       "      <th>U</th>\n",
       "      <th>V</th>\n",
       "      <th>W</th>\n",
       "      <th>X</th>\n",
       "      <th>Y</th>\n",
       "    </tr>\n",
       "  </thead>\n",
       "  <tbody>\n",
       "    <tr>\n",
       "      <th>A</th>\n",
       "      <td>1.0</td>\n",
       "      <td>2.0</td>\n",
       "      <td>3.0</td>\n",
       "      <td>4.0</td>\n",
       "      <td>5.0</td>\n",
       "    </tr>\n",
       "    <tr>\n",
       "      <th>B</th>\n",
       "      <td>6.0</td>\n",
       "      <td>7.0</td>\n",
       "      <td>8.0</td>\n",
       "      <td>9.0</td>\n",
       "      <td>10.0</td>\n",
       "    </tr>\n",
       "    <tr>\n",
       "      <th>C</th>\n",
       "      <td>11.0</td>\n",
       "      <td>12.0</td>\n",
       "      <td>13.0</td>\n",
       "      <td>14.0</td>\n",
       "      <td>15.0</td>\n",
       "    </tr>\n",
       "    <tr>\n",
       "      <th>D</th>\n",
       "      <td>16.0</td>\n",
       "      <td>17.0</td>\n",
       "      <td>18.0</td>\n",
       "      <td>19.0</td>\n",
       "      <td>20.0</td>\n",
       "    </tr>\n",
       "    <tr>\n",
       "      <th>E</th>\n",
       "      <td>21.0</td>\n",
       "      <td>22.0</td>\n",
       "      <td>23.0</td>\n",
       "      <td>24.0</td>\n",
       "      <td>25.0</td>\n",
       "    </tr>\n",
       "  </tbody>\n",
       "</table>\n",
       "</div>"
      ],
      "text/plain": [
       "      U     V     W     X     Y\n",
       "A   1.0   2.0   3.0   4.0   5.0\n",
       "B   6.0   7.0   8.0   9.0  10.0\n",
       "C  11.0  12.0  13.0  14.0  15.0\n",
       "D  16.0  17.0  18.0  19.0  20.0\n",
       "E  21.0  22.0  23.0  24.0  25.0"
      ]
     },
     "execution_count": 25,
     "metadata": {},
     "output_type": "execute_result"
    }
   ],
   "source": [
    "df"
   ]
  },
  {
   "cell_type": "code",
   "execution_count": 26,
   "id": "6fc862c2-b2f0-4406-80e9-187cd26258f6",
   "metadata": {},
   "outputs": [
    {
     "data": {
      "text/html": [
       "<div>\n",
       "<style scoped>\n",
       "    .dataframe tbody tr th:only-of-type {\n",
       "        vertical-align: middle;\n",
       "    }\n",
       "\n",
       "    .dataframe tbody tr th {\n",
       "        vertical-align: top;\n",
       "    }\n",
       "\n",
       "    .dataframe thead th {\n",
       "        text-align: right;\n",
       "    }\n",
       "</style>\n",
       "<table border=\"1\" class=\"dataframe\">\n",
       "  <thead>\n",
       "    <tr style=\"text-align: right;\">\n",
       "      <th></th>\n",
       "      <th>U2</th>\n",
       "      <th>V</th>\n",
       "      <th>W</th>\n",
       "      <th>X</th>\n",
       "      <th>Y</th>\n",
       "    </tr>\n",
       "  </thead>\n",
       "  <tbody>\n",
       "    <tr>\n",
       "      <th>India</th>\n",
       "      <td>1.0</td>\n",
       "      <td>2.0</td>\n",
       "      <td>3.0</td>\n",
       "      <td>4.0</td>\n",
       "      <td>5.0</td>\n",
       "    </tr>\n",
       "    <tr>\n",
       "      <th>USA</th>\n",
       "      <td>6.0</td>\n",
       "      <td>7.0</td>\n",
       "      <td>8.0</td>\n",
       "      <td>9.0</td>\n",
       "      <td>10.0</td>\n",
       "    </tr>\n",
       "    <tr>\n",
       "      <th>C</th>\n",
       "      <td>11.0</td>\n",
       "      <td>12.0</td>\n",
       "      <td>13.0</td>\n",
       "      <td>14.0</td>\n",
       "      <td>15.0</td>\n",
       "    </tr>\n",
       "    <tr>\n",
       "      <th>D</th>\n",
       "      <td>16.0</td>\n",
       "      <td>17.0</td>\n",
       "      <td>18.0</td>\n",
       "      <td>19.0</td>\n",
       "      <td>20.0</td>\n",
       "    </tr>\n",
       "    <tr>\n",
       "      <th>E</th>\n",
       "      <td>21.0</td>\n",
       "      <td>22.0</td>\n",
       "      <td>23.0</td>\n",
       "      <td>24.0</td>\n",
       "      <td>25.0</td>\n",
       "    </tr>\n",
       "  </tbody>\n",
       "</table>\n",
       "</div>"
      ],
      "text/plain": [
       "         U2     V     W     X     Y\n",
       "India   1.0   2.0   3.0   4.0   5.0\n",
       "USA     6.0   7.0   8.0   9.0  10.0\n",
       "C      11.0  12.0  13.0  14.0  15.0\n",
       "D      16.0  17.0  18.0  19.0  20.0\n",
       "E      21.0  22.0  23.0  24.0  25.0"
      ]
     },
     "execution_count": 26,
     "metadata": {},
     "output_type": "execute_result"
    }
   ],
   "source": [
    "# Renaming all index labels\n",
    "df.rename({'A': 'India', 'B': 'USA'}, inplace=True)\n",
    "df.rename({'U': 'U2', 'v2': 'V2'}, inplace=True, axis=1)# to change column name\n",
    "df"
   ]
  },
  {
   "cell_type": "code",
   "execution_count": 27,
   "id": "c3b85d20-c8c1-4c22-bc61-6256b953259a",
   "metadata": {},
   "outputs": [
    {
     "name": "stdout",
     "output_type": "stream",
     "text": [
      "          V     W     X     Y\n",
      "India   2.0   3.0   4.0   5.0\n",
      "USA     7.0   8.0   9.0  10.0\n",
      "C      12.0  13.0  14.0  15.0\n",
      "D      17.0  18.0  19.0  20.0\n",
      "E      22.0  23.0  24.0  25.0\n",
      "         U2     V     W     X     Y\n",
      "India   1.0   2.0   3.0   4.0   5.0\n",
      "USA     6.0   7.0   8.0   9.0  10.0\n",
      "C      11.0  12.0  13.0  14.0  15.0\n",
      "D      16.0  17.0  18.0  19.0  20.0\n"
     ]
    }
   ],
   "source": [
    "df_drop=df.drop('U2',axis=1)\n",
    "print(df_drop)\n",
    "df_drop=df.drop('E',axis=0)\n",
    "print(df_drop)"
   ]
  },
  {
   "cell_type": "code",
   "execution_count": 28,
   "id": "7b11f54c-a4e5-475c-ab37-10c5c0fca467",
   "metadata": {},
   "outputs": [
    {
     "name": "stdout",
     "output_type": "stream",
     "text": [
      "         U2     V     W     X     Y\n",
      "India   1.0   2.0   3.0   4.0   5.0\n",
      "USA     6.0   7.0   8.0   9.0  10.0\n",
      "C      11.0  12.0  13.0  14.0  15.0\n"
     ]
    }
   ],
   "source": [
    "df_drop\n",
    "df_drop.drop('D',inplace=True)\n",
    "print(df_drop)"
   ]
  },
  {
   "cell_type": "code",
   "execution_count": 29,
   "id": "b12a23eb-11b1-4e28-9834-fc039d73f430",
   "metadata": {},
   "outputs": [
    {
     "ename": "KeyError",
     "evalue": "\"['V2'] not found in axis\"",
     "output_type": "error",
     "traceback": [
      "\u001b[1;31m---------------------------------------------------------------------------\u001b[0m",
      "\u001b[1;31mKeyError\u001b[0m                                  Traceback (most recent call last)",
      "Cell \u001b[1;32mIn[29], line 1\u001b[0m\n\u001b[1;32m----> 1\u001b[0m \u001b[43mdf_drop\u001b[49m\u001b[38;5;241;43m.\u001b[39;49m\u001b[43mdrop\u001b[49m\u001b[43m(\u001b[49m\u001b[43m[\u001b[49m\u001b[38;5;124;43m'\u001b[39;49m\u001b[38;5;124;43mU2\u001b[39;49m\u001b[38;5;124;43m'\u001b[39;49m\u001b[43m,\u001b[49m\u001b[38;5;124;43m'\u001b[39;49m\u001b[38;5;124;43mV2\u001b[39;49m\u001b[38;5;124;43m'\u001b[39;49m\u001b[43m]\u001b[49m\u001b[43m,\u001b[49m\u001b[43minplace\u001b[49m\u001b[38;5;241;43m=\u001b[39;49m\u001b[38;5;28;43;01mTrue\u001b[39;49;00m\u001b[43m,\u001b[49m\u001b[43maxis\u001b[49m\u001b[38;5;241;43m=\u001b[39;49m\u001b[38;5;241;43m1\u001b[39;49m\u001b[43m)\u001b[49m\n",
      "File \u001b[1;32m~\\anaconda3\\Lib\\site-packages\\pandas\\core\\frame.py:5581\u001b[0m, in \u001b[0;36mDataFrame.drop\u001b[1;34m(self, labels, axis, index, columns, level, inplace, errors)\u001b[0m\n\u001b[0;32m   5433\u001b[0m \u001b[38;5;28;01mdef\u001b[39;00m \u001b[38;5;21mdrop\u001b[39m(\n\u001b[0;32m   5434\u001b[0m     \u001b[38;5;28mself\u001b[39m,\n\u001b[0;32m   5435\u001b[0m     labels: IndexLabel \u001b[38;5;241m|\u001b[39m \u001b[38;5;28;01mNone\u001b[39;00m \u001b[38;5;241m=\u001b[39m \u001b[38;5;28;01mNone\u001b[39;00m,\n\u001b[1;32m   (...)\u001b[0m\n\u001b[0;32m   5442\u001b[0m     errors: IgnoreRaise \u001b[38;5;241m=\u001b[39m \u001b[38;5;124m\"\u001b[39m\u001b[38;5;124mraise\u001b[39m\u001b[38;5;124m\"\u001b[39m,\n\u001b[0;32m   5443\u001b[0m ) \u001b[38;5;241m-\u001b[39m\u001b[38;5;241m>\u001b[39m DataFrame \u001b[38;5;241m|\u001b[39m \u001b[38;5;28;01mNone\u001b[39;00m:\n\u001b[0;32m   5444\u001b[0m \u001b[38;5;250m    \u001b[39m\u001b[38;5;124;03m\"\"\"\u001b[39;00m\n\u001b[0;32m   5445\u001b[0m \u001b[38;5;124;03m    Drop specified labels from rows or columns.\u001b[39;00m\n\u001b[0;32m   5446\u001b[0m \n\u001b[1;32m   (...)\u001b[0m\n\u001b[0;32m   5579\u001b[0m \u001b[38;5;124;03m            weight  1.0     0.8\u001b[39;00m\n\u001b[0;32m   5580\u001b[0m \u001b[38;5;124;03m    \"\"\"\u001b[39;00m\n\u001b[1;32m-> 5581\u001b[0m     \u001b[38;5;28;01mreturn\u001b[39;00m \u001b[38;5;28;43msuper\u001b[39;49m\u001b[43m(\u001b[49m\u001b[43m)\u001b[49m\u001b[38;5;241;43m.\u001b[39;49m\u001b[43mdrop\u001b[49m\u001b[43m(\u001b[49m\n\u001b[0;32m   5582\u001b[0m \u001b[43m        \u001b[49m\u001b[43mlabels\u001b[49m\u001b[38;5;241;43m=\u001b[39;49m\u001b[43mlabels\u001b[49m\u001b[43m,\u001b[49m\n\u001b[0;32m   5583\u001b[0m \u001b[43m        \u001b[49m\u001b[43maxis\u001b[49m\u001b[38;5;241;43m=\u001b[39;49m\u001b[43maxis\u001b[49m\u001b[43m,\u001b[49m\n\u001b[0;32m   5584\u001b[0m \u001b[43m        \u001b[49m\u001b[43mindex\u001b[49m\u001b[38;5;241;43m=\u001b[39;49m\u001b[43mindex\u001b[49m\u001b[43m,\u001b[49m\n\u001b[0;32m   5585\u001b[0m \u001b[43m        \u001b[49m\u001b[43mcolumns\u001b[49m\u001b[38;5;241;43m=\u001b[39;49m\u001b[43mcolumns\u001b[49m\u001b[43m,\u001b[49m\n\u001b[0;32m   5586\u001b[0m \u001b[43m        \u001b[49m\u001b[43mlevel\u001b[49m\u001b[38;5;241;43m=\u001b[39;49m\u001b[43mlevel\u001b[49m\u001b[43m,\u001b[49m\n\u001b[0;32m   5587\u001b[0m \u001b[43m        \u001b[49m\u001b[43minplace\u001b[49m\u001b[38;5;241;43m=\u001b[39;49m\u001b[43minplace\u001b[49m\u001b[43m,\u001b[49m\n\u001b[0;32m   5588\u001b[0m \u001b[43m        \u001b[49m\u001b[43merrors\u001b[49m\u001b[38;5;241;43m=\u001b[39;49m\u001b[43merrors\u001b[49m\u001b[43m,\u001b[49m\n\u001b[0;32m   5589\u001b[0m \u001b[43m    \u001b[49m\u001b[43m)\u001b[49m\n",
      "File \u001b[1;32m~\\anaconda3\\Lib\\site-packages\\pandas\\core\\generic.py:4788\u001b[0m, in \u001b[0;36mNDFrame.drop\u001b[1;34m(self, labels, axis, index, columns, level, inplace, errors)\u001b[0m\n\u001b[0;32m   4786\u001b[0m \u001b[38;5;28;01mfor\u001b[39;00m axis, labels \u001b[38;5;129;01min\u001b[39;00m axes\u001b[38;5;241m.\u001b[39mitems():\n\u001b[0;32m   4787\u001b[0m     \u001b[38;5;28;01mif\u001b[39;00m labels \u001b[38;5;129;01mis\u001b[39;00m \u001b[38;5;129;01mnot\u001b[39;00m \u001b[38;5;28;01mNone\u001b[39;00m:\n\u001b[1;32m-> 4788\u001b[0m         obj \u001b[38;5;241m=\u001b[39m \u001b[43mobj\u001b[49m\u001b[38;5;241;43m.\u001b[39;49m\u001b[43m_drop_axis\u001b[49m\u001b[43m(\u001b[49m\u001b[43mlabels\u001b[49m\u001b[43m,\u001b[49m\u001b[43m \u001b[49m\u001b[43maxis\u001b[49m\u001b[43m,\u001b[49m\u001b[43m \u001b[49m\u001b[43mlevel\u001b[49m\u001b[38;5;241;43m=\u001b[39;49m\u001b[43mlevel\u001b[49m\u001b[43m,\u001b[49m\u001b[43m \u001b[49m\u001b[43merrors\u001b[49m\u001b[38;5;241;43m=\u001b[39;49m\u001b[43merrors\u001b[49m\u001b[43m)\u001b[49m\n\u001b[0;32m   4790\u001b[0m \u001b[38;5;28;01mif\u001b[39;00m inplace:\n\u001b[0;32m   4791\u001b[0m     \u001b[38;5;28mself\u001b[39m\u001b[38;5;241m.\u001b[39m_update_inplace(obj)\n",
      "File \u001b[1;32m~\\anaconda3\\Lib\\site-packages\\pandas\\core\\generic.py:4830\u001b[0m, in \u001b[0;36mNDFrame._drop_axis\u001b[1;34m(self, labels, axis, level, errors, only_slice)\u001b[0m\n\u001b[0;32m   4828\u001b[0m         new_axis \u001b[38;5;241m=\u001b[39m axis\u001b[38;5;241m.\u001b[39mdrop(labels, level\u001b[38;5;241m=\u001b[39mlevel, errors\u001b[38;5;241m=\u001b[39merrors)\n\u001b[0;32m   4829\u001b[0m     \u001b[38;5;28;01melse\u001b[39;00m:\n\u001b[1;32m-> 4830\u001b[0m         new_axis \u001b[38;5;241m=\u001b[39m \u001b[43maxis\u001b[49m\u001b[38;5;241;43m.\u001b[39;49m\u001b[43mdrop\u001b[49m\u001b[43m(\u001b[49m\u001b[43mlabels\u001b[49m\u001b[43m,\u001b[49m\u001b[43m \u001b[49m\u001b[43merrors\u001b[49m\u001b[38;5;241;43m=\u001b[39;49m\u001b[43merrors\u001b[49m\u001b[43m)\u001b[49m\n\u001b[0;32m   4831\u001b[0m     indexer \u001b[38;5;241m=\u001b[39m axis\u001b[38;5;241m.\u001b[39mget_indexer(new_axis)\n\u001b[0;32m   4833\u001b[0m \u001b[38;5;66;03m# Case for non-unique axis\u001b[39;00m\n\u001b[0;32m   4834\u001b[0m \u001b[38;5;28;01melse\u001b[39;00m:\n",
      "File \u001b[1;32m~\\anaconda3\\Lib\\site-packages\\pandas\\core\\indexes\\base.py:7070\u001b[0m, in \u001b[0;36mIndex.drop\u001b[1;34m(self, labels, errors)\u001b[0m\n\u001b[0;32m   7068\u001b[0m \u001b[38;5;28;01mif\u001b[39;00m mask\u001b[38;5;241m.\u001b[39many():\n\u001b[0;32m   7069\u001b[0m     \u001b[38;5;28;01mif\u001b[39;00m errors \u001b[38;5;241m!=\u001b[39m \u001b[38;5;124m\"\u001b[39m\u001b[38;5;124mignore\u001b[39m\u001b[38;5;124m\"\u001b[39m:\n\u001b[1;32m-> 7070\u001b[0m         \u001b[38;5;28;01mraise\u001b[39;00m \u001b[38;5;167;01mKeyError\u001b[39;00m(\u001b[38;5;124mf\u001b[39m\u001b[38;5;124m\"\u001b[39m\u001b[38;5;132;01m{\u001b[39;00mlabels[mask]\u001b[38;5;241m.\u001b[39mtolist()\u001b[38;5;132;01m}\u001b[39;00m\u001b[38;5;124m not found in axis\u001b[39m\u001b[38;5;124m\"\u001b[39m)\n\u001b[0;32m   7071\u001b[0m     indexer \u001b[38;5;241m=\u001b[39m indexer[\u001b[38;5;241m~\u001b[39mmask]\n\u001b[0;32m   7072\u001b[0m \u001b[38;5;28;01mreturn\u001b[39;00m \u001b[38;5;28mself\u001b[39m\u001b[38;5;241m.\u001b[39mdelete(indexer)\n",
      "\u001b[1;31mKeyError\u001b[0m: \"['V2'] not found in axis\""
     ]
    }
   ],
   "source": [
    "df_drop.drop(['U2','V2'],inplace=True,axis=1)\n"
   ]
  },
  {
   "cell_type": "code",
   "execution_count": null,
   "id": "94cca9a9-b476-4d32-b105-45864065f6ba",
   "metadata": {},
   "outputs": [],
   "source": [
    "print(df_drop)"
   ]
  },
  {
   "cell_type": "code",
   "execution_count": null,
   "id": "0f3a5d26-a6bd-4485-a68a-8d8015277e9d",
   "metadata": {},
   "outputs": [],
   "source": [
    "\"\"\"1. .rename()\n",
    "Purpose: Changes index or column labels in a DataFrame or Series. It does not affect the actual data values, only the labels.\n",
    "\n",
    "Usage: Used to rename specific row or column labels by passing a dictionary mapping old labels to new ones.\n",
    "In-place: Can be used with inplace=True to modify the original object.\n",
    "\n",
    "2. .replace()\n",
    "Purpose: Replaces data values within a DataFrame or Series (not the labels). It is used to substitute specific values in the data with new values.\n",
    "\n",
    "Usage: Useful for modifying the contents of cells, not the labels. You provide a dictionary or a scalar to specify which values should be replaced.\n",
    "In-place: Can be used with inplace=True to modify the original object\n",
    "\n",
    "3. .reindex()\n",
    "Purpose: Changes the index of a DataFrame or Series to match a specified list of labels. Any indices in the new\n",
    "list that were not in the original object will be added with NaN values by default. It’s typically used to add or remove rows or columns.\n",
    "Note:no inplace option\n",
    "Usage: Allows you to reorder, add, or remove rows or columns by specifying a new index.\n",
    "In-place: Cannot modify the object in place; .reindex() always returns a new object.\n",
    "\"\"\""
   ]
  },
  {
   "cell_type": "code",
   "execution_count": 115,
   "id": "a0daa696-5241-41f7-a40e-d0bb2b75b68d",
   "metadata": {},
   "outputs": [
    {
     "name": "stdout",
     "output_type": "stream",
     "text": [
      "x    10\n",
      "b    20\n",
      "z    30\n",
      "dtype: int64\n",
      "x     10\n",
      "b    200\n",
      "z     30\n",
      "dtype: int64\n",
      "x    10.0\n",
      "y     NaN\n",
      "z    30.0\n",
      "dtype: float64\n"
     ]
    }
   ],
   "source": [
    "# Sample Series\n",
    "ser = pd.Series([10, 20, 30], index=['a', 'b', 'c'])\n",
    "\n",
    "# Rename index labels 'a' and 'c' to 'x' and 'z' respectively\n",
    "ser.rename({'a': 'x', 'c': 'z'}, inplace=True)\n",
    "\n",
    "print(ser)\n",
    "# Replace value 20 with 200 in the Series\n",
    "ser.replace(20, 200, inplace=True)\n",
    "\n",
    "print(ser)\n",
    "# Reindex the Series to have a new index\n",
    "ser_reindexed = ser.reindex(['x', 'y', 'z'])\n",
    "\n",
    "print(ser_reindexed)\n",
    "\n"
   ]
  },
  {
   "cell_type": "code",
   "execution_count": 117,
   "id": "f5e4a716-5459-48b4-b898-eaf60da5a4b7",
   "metadata": {},
   "outputs": [
    {
     "data": {
      "text/plain": [
       "(5, 5)"
      ]
     },
     "execution_count": 117,
     "metadata": {},
     "output_type": "execute_result"
    }
   ],
   "source": [
    "df.shape"
   ]
  },
  {
   "cell_type": "code",
   "execution_count": 119,
   "id": "db7ab5c3-44ec-4875-a1d3-995a99d73b28",
   "metadata": {},
   "outputs": [
    {
     "name": "stdout",
     "output_type": "stream",
     "text": [
      "<class 'pandas.core.frame.DataFrame'>\n",
      "Index: 5 entries, India to E\n",
      "Data columns (total 5 columns):\n",
      " #   Column  Non-Null Count  Dtype  \n",
      "---  ------  --------------  -----  \n",
      " 0   U2      5 non-null      float64\n",
      " 1   V       5 non-null      float64\n",
      " 2   W       5 non-null      float64\n",
      " 3   X       5 non-null      float64\n",
      " 4   Y       5 non-null      float64\n",
      "dtypes: float64(5)\n",
      "memory usage: 412.0+ bytes\n"
     ]
    }
   ],
   "source": [
    "df.info()"
   ]
  },
  {
   "cell_type": "code",
   "execution_count": 121,
   "id": "791e7f14-a7d0-43ff-807c-3c54724aa1c1",
   "metadata": {},
   "outputs": [
    {
     "data": {
      "text/html": [
       "<div>\n",
       "<style scoped>\n",
       "    .dataframe tbody tr th:only-of-type {\n",
       "        vertical-align: middle;\n",
       "    }\n",
       "\n",
       "    .dataframe tbody tr th {\n",
       "        vertical-align: top;\n",
       "    }\n",
       "\n",
       "    .dataframe thead th {\n",
       "        text-align: right;\n",
       "    }\n",
       "</style>\n",
       "<table border=\"1\" class=\"dataframe\">\n",
       "  <thead>\n",
       "    <tr style=\"text-align: right;\">\n",
       "      <th></th>\n",
       "      <th>U2</th>\n",
       "      <th>V</th>\n",
       "      <th>W</th>\n",
       "      <th>X</th>\n",
       "      <th>Y</th>\n",
       "    </tr>\n",
       "  </thead>\n",
       "  <tbody>\n",
       "    <tr>\n",
       "      <th>count</th>\n",
       "      <td>5.000000</td>\n",
       "      <td>5.000000</td>\n",
       "      <td>5.000000</td>\n",
       "      <td>5.000000</td>\n",
       "      <td>5.000000</td>\n",
       "    </tr>\n",
       "    <tr>\n",
       "      <th>mean</th>\n",
       "      <td>11.000000</td>\n",
       "      <td>12.000000</td>\n",
       "      <td>13.000000</td>\n",
       "      <td>14.000000</td>\n",
       "      <td>15.000000</td>\n",
       "    </tr>\n",
       "    <tr>\n",
       "      <th>std</th>\n",
       "      <td>7.905694</td>\n",
       "      <td>7.905694</td>\n",
       "      <td>7.905694</td>\n",
       "      <td>7.905694</td>\n",
       "      <td>7.905694</td>\n",
       "    </tr>\n",
       "    <tr>\n",
       "      <th>min</th>\n",
       "      <td>1.000000</td>\n",
       "      <td>2.000000</td>\n",
       "      <td>3.000000</td>\n",
       "      <td>4.000000</td>\n",
       "      <td>5.000000</td>\n",
       "    </tr>\n",
       "    <tr>\n",
       "      <th>25%</th>\n",
       "      <td>6.000000</td>\n",
       "      <td>7.000000</td>\n",
       "      <td>8.000000</td>\n",
       "      <td>9.000000</td>\n",
       "      <td>10.000000</td>\n",
       "    </tr>\n",
       "    <tr>\n",
       "      <th>50%</th>\n",
       "      <td>11.000000</td>\n",
       "      <td>12.000000</td>\n",
       "      <td>13.000000</td>\n",
       "      <td>14.000000</td>\n",
       "      <td>15.000000</td>\n",
       "    </tr>\n",
       "    <tr>\n",
       "      <th>75%</th>\n",
       "      <td>16.000000</td>\n",
       "      <td>17.000000</td>\n",
       "      <td>18.000000</td>\n",
       "      <td>19.000000</td>\n",
       "      <td>20.000000</td>\n",
       "    </tr>\n",
       "    <tr>\n",
       "      <th>max</th>\n",
       "      <td>21.000000</td>\n",
       "      <td>22.000000</td>\n",
       "      <td>23.000000</td>\n",
       "      <td>24.000000</td>\n",
       "      <td>25.000000</td>\n",
       "    </tr>\n",
       "  </tbody>\n",
       "</table>\n",
       "</div>"
      ],
      "text/plain": [
       "              U2          V          W          X          Y\n",
       "count   5.000000   5.000000   5.000000   5.000000   5.000000\n",
       "mean   11.000000  12.000000  13.000000  14.000000  15.000000\n",
       "std     7.905694   7.905694   7.905694   7.905694   7.905694\n",
       "min     1.000000   2.000000   3.000000   4.000000   5.000000\n",
       "25%     6.000000   7.000000   8.000000   9.000000  10.000000\n",
       "50%    11.000000  12.000000  13.000000  14.000000  15.000000\n",
       "75%    16.000000  17.000000  18.000000  19.000000  20.000000\n",
       "max    21.000000  22.000000  23.000000  24.000000  25.000000"
      ]
     },
     "execution_count": 121,
     "metadata": {},
     "output_type": "execute_result"
    }
   ],
   "source": [
    "df.describe()"
   ]
  },
  {
   "cell_type": "code",
   "execution_count": null,
   "id": "c9eac230-1a13-41b8-8c38-69d89f92d24b",
   "metadata": {},
   "outputs": [],
   "source": [
    "ser11=pd.Series([101,102,103,104,105])"
   ]
  },
  {
   "cell_type": "code",
   "execution_count": null,
   "id": "950aa7cf-21f0-4281-9dff-9d5d8d975655",
   "metadata": {},
   "outputs": [],
   "source": [
    "ser11"
   ]
  },
  {
   "cell_type": "code",
   "execution_count": null,
   "id": "cbceccae-1e0d-47f8-b3ef-684c87dfe15a",
   "metadata": {},
   "outputs": [],
   "source": [
    "# DataFrame.insert(loc, column, value, allow_duplicates=False)\n"
   ]
  },
  {
   "cell_type": "code",
   "execution_count": null,
   "id": "c5ca6f63-778e-4c6f-8261-64ed39bde5eb",
   "metadata": {},
   "outputs": [],
   "source": [
    "df[:]"
   ]
  },
  {
   "cell_type": "code",
   "execution_count": null,
   "id": "1b93c425-28ad-4a81-abfe-51088987e2dc",
   "metadata": {},
   "outputs": [],
   "source": [
    "# loc[] function selects data by the label of the rows and column\n",
    "# iloc[] function allowsus to retrieve rowsand columns bypositionExample: \n",
    "# Access the value that is at index 0 incolumn ‘Name’\n"
   ]
  },
  {
   "cell_type": "code",
   "execution_count": 123,
   "id": "db2a631a-73da-4021-9a78-a7e8d0fce273",
   "metadata": {},
   "outputs": [],
   "source": [
    "df2=pd.DataFrame( {'Students':['Ram','Laxmam','Mohan','Matthew','Rosy','Abdul','Jasbir','Anil','Ramya','Raju'],\n",
    " 'Marks1':[55,45,37,88,77,66,77,45,98,99],\n",
    " 'Marks2':[45,54,76,85,74,64,74,75,95,98]}\n",
    ",index=list('ABCDEFGHIJ'))"
   ]
  },
  {
   "cell_type": "code",
   "execution_count": 125,
   "id": "a396125c-9585-4fdf-8705-77c3893e1f09",
   "metadata": {},
   "outputs": [
    {
     "data": {
      "text/html": [
       "<div>\n",
       "<style scoped>\n",
       "    .dataframe tbody tr th:only-of-type {\n",
       "        vertical-align: middle;\n",
       "    }\n",
       "\n",
       "    .dataframe tbody tr th {\n",
       "        vertical-align: top;\n",
       "    }\n",
       "\n",
       "    .dataframe thead th {\n",
       "        text-align: right;\n",
       "    }\n",
       "</style>\n",
       "<table border=\"1\" class=\"dataframe\">\n",
       "  <thead>\n",
       "    <tr style=\"text-align: right;\">\n",
       "      <th></th>\n",
       "      <th>Students</th>\n",
       "      <th>Marks1</th>\n",
       "      <th>Marks2</th>\n",
       "    </tr>\n",
       "  </thead>\n",
       "  <tbody>\n",
       "    <tr>\n",
       "      <th>A</th>\n",
       "      <td>Ram</td>\n",
       "      <td>55</td>\n",
       "      <td>45</td>\n",
       "    </tr>\n",
       "    <tr>\n",
       "      <th>B</th>\n",
       "      <td>Laxmam</td>\n",
       "      <td>45</td>\n",
       "      <td>54</td>\n",
       "    </tr>\n",
       "    <tr>\n",
       "      <th>C</th>\n",
       "      <td>Mohan</td>\n",
       "      <td>37</td>\n",
       "      <td>76</td>\n",
       "    </tr>\n",
       "    <tr>\n",
       "      <th>D</th>\n",
       "      <td>Matthew</td>\n",
       "      <td>88</td>\n",
       "      <td>85</td>\n",
       "    </tr>\n",
       "    <tr>\n",
       "      <th>E</th>\n",
       "      <td>Rosy</td>\n",
       "      <td>77</td>\n",
       "      <td>74</td>\n",
       "    </tr>\n",
       "    <tr>\n",
       "      <th>F</th>\n",
       "      <td>Abdul</td>\n",
       "      <td>66</td>\n",
       "      <td>64</td>\n",
       "    </tr>\n",
       "    <tr>\n",
       "      <th>G</th>\n",
       "      <td>Jasbir</td>\n",
       "      <td>77</td>\n",
       "      <td>74</td>\n",
       "    </tr>\n",
       "    <tr>\n",
       "      <th>H</th>\n",
       "      <td>Anil</td>\n",
       "      <td>45</td>\n",
       "      <td>75</td>\n",
       "    </tr>\n",
       "    <tr>\n",
       "      <th>I</th>\n",
       "      <td>Ramya</td>\n",
       "      <td>98</td>\n",
       "      <td>95</td>\n",
       "    </tr>\n",
       "    <tr>\n",
       "      <th>J</th>\n",
       "      <td>Raju</td>\n",
       "      <td>99</td>\n",
       "      <td>98</td>\n",
       "    </tr>\n",
       "  </tbody>\n",
       "</table>\n",
       "</div>"
      ],
      "text/plain": [
       "  Students  Marks1  Marks2\n",
       "A      Ram      55      45\n",
       "B   Laxmam      45      54\n",
       "C    Mohan      37      76\n",
       "D  Matthew      88      85\n",
       "E     Rosy      77      74\n",
       "F    Abdul      66      64\n",
       "G   Jasbir      77      74\n",
       "H     Anil      45      75\n",
       "I    Ramya      98      95\n",
       "J     Raju      99      98"
      ]
     },
     "execution_count": 125,
     "metadata": {},
     "output_type": "execute_result"
    }
   ],
   "source": [
    "df2"
   ]
  },
  {
   "cell_type": "code",
   "execution_count": 127,
   "id": "01639931-86b4-4ca5-9b70-6f6a4e0c2a8f",
   "metadata": {},
   "outputs": [
    {
     "data": {
      "text/html": [
       "<div>\n",
       "<style scoped>\n",
       "    .dataframe tbody tr th:only-of-type {\n",
       "        vertical-align: middle;\n",
       "    }\n",
       "\n",
       "    .dataframe tbody tr th {\n",
       "        vertical-align: top;\n",
       "    }\n",
       "\n",
       "    .dataframe thead th {\n",
       "        text-align: right;\n",
       "    }\n",
       "</style>\n",
       "<table border=\"1\" class=\"dataframe\">\n",
       "  <thead>\n",
       "    <tr style=\"text-align: right;\">\n",
       "      <th></th>\n",
       "      <th>Students</th>\n",
       "      <th>Marks1</th>\n",
       "      <th>Marks2</th>\n",
       "    </tr>\n",
       "  </thead>\n",
       "  <tbody>\n",
       "    <tr>\n",
       "      <th>A</th>\n",
       "      <td>Ram</td>\n",
       "      <td>55</td>\n",
       "      <td>45</td>\n",
       "    </tr>\n",
       "    <tr>\n",
       "      <th>B</th>\n",
       "      <td>Laxmam</td>\n",
       "      <td>45</td>\n",
       "      <td>54</td>\n",
       "    </tr>\n",
       "    <tr>\n",
       "      <th>C</th>\n",
       "      <td>Mohan</td>\n",
       "      <td>37</td>\n",
       "      <td>76</td>\n",
       "    </tr>\n",
       "    <tr>\n",
       "      <th>D</th>\n",
       "      <td>Matthew</td>\n",
       "      <td>88</td>\n",
       "      <td>85</td>\n",
       "    </tr>\n",
       "    <tr>\n",
       "      <th>E</th>\n",
       "      <td>Rosy</td>\n",
       "      <td>77</td>\n",
       "      <td>74</td>\n",
       "    </tr>\n",
       "    <tr>\n",
       "      <th>F</th>\n",
       "      <td>Abdul</td>\n",
       "      <td>66</td>\n",
       "      <td>64</td>\n",
       "    </tr>\n",
       "    <tr>\n",
       "      <th>G</th>\n",
       "      <td>Jasbir</td>\n",
       "      <td>77</td>\n",
       "      <td>74</td>\n",
       "    </tr>\n",
       "    <tr>\n",
       "      <th>H</th>\n",
       "      <td>Anil</td>\n",
       "      <td>45</td>\n",
       "      <td>75</td>\n",
       "    </tr>\n",
       "    <tr>\n",
       "      <th>I</th>\n",
       "      <td>Ramya</td>\n",
       "      <td>98</td>\n",
       "      <td>95</td>\n",
       "    </tr>\n",
       "    <tr>\n",
       "      <th>J</th>\n",
       "      <td>Raju</td>\n",
       "      <td>99</td>\n",
       "      <td>98</td>\n",
       "    </tr>\n",
       "  </tbody>\n",
       "</table>\n",
       "</div>"
      ],
      "text/plain": [
       "  Students  Marks1  Marks2\n",
       "A      Ram      55      45\n",
       "B   Laxmam      45      54\n",
       "C    Mohan      37      76\n",
       "D  Matthew      88      85\n",
       "E     Rosy      77      74\n",
       "F    Abdul      66      64\n",
       "G   Jasbir      77      74\n",
       "H     Anil      45      75\n",
       "I    Ramya      98      95\n",
       "J     Raju      99      98"
      ]
     },
     "execution_count": 127,
     "metadata": {},
     "output_type": "execute_result"
    }
   ],
   "source": [
    "df2[:]"
   ]
  },
  {
   "cell_type": "code",
   "execution_count": 129,
   "id": "3f5440b4-446a-4bde-a966-8c79c4dc5e94",
   "metadata": {},
   "outputs": [
    {
     "data": {
      "text/html": [
       "<div>\n",
       "<style scoped>\n",
       "    .dataframe tbody tr th:only-of-type {\n",
       "        vertical-align: middle;\n",
       "    }\n",
       "\n",
       "    .dataframe tbody tr th {\n",
       "        vertical-align: top;\n",
       "    }\n",
       "\n",
       "    .dataframe thead th {\n",
       "        text-align: right;\n",
       "    }\n",
       "</style>\n",
       "<table border=\"1\" class=\"dataframe\">\n",
       "  <thead>\n",
       "    <tr style=\"text-align: right;\">\n",
       "      <th></th>\n",
       "      <th>Students</th>\n",
       "      <th>Marks1</th>\n",
       "      <th>Marks2</th>\n",
       "    </tr>\n",
       "  </thead>\n",
       "  <tbody>\n",
       "    <tr>\n",
       "      <th>C</th>\n",
       "      <td>Mohan</td>\n",
       "      <td>37</td>\n",
       "      <td>76</td>\n",
       "    </tr>\n",
       "    <tr>\n",
       "      <th>D</th>\n",
       "      <td>Matthew</td>\n",
       "      <td>88</td>\n",
       "      <td>85</td>\n",
       "    </tr>\n",
       "    <tr>\n",
       "      <th>E</th>\n",
       "      <td>Rosy</td>\n",
       "      <td>77</td>\n",
       "      <td>74</td>\n",
       "    </tr>\n",
       "  </tbody>\n",
       "</table>\n",
       "</div>"
      ],
      "text/plain": [
       "  Students  Marks1  Marks2\n",
       "C    Mohan      37      76\n",
       "D  Matthew      88      85\n",
       "E     Rosy      77      74"
      ]
     },
     "execution_count": 129,
     "metadata": {},
     "output_type": "execute_result"
    }
   ],
   "source": [
    "df2[2:5]"
   ]
  },
  {
   "cell_type": "code",
   "execution_count": 130,
   "id": "c04d1d24-74b1-449b-be21-4cf7ea8ee8ea",
   "metadata": {},
   "outputs": [
    {
     "data": {
      "text/html": [
       "<div>\n",
       "<style scoped>\n",
       "    .dataframe tbody tr th:only-of-type {\n",
       "        vertical-align: middle;\n",
       "    }\n",
       "\n",
       "    .dataframe tbody tr th {\n",
       "        vertical-align: top;\n",
       "    }\n",
       "\n",
       "    .dataframe thead th {\n",
       "        text-align: right;\n",
       "    }\n",
       "</style>\n",
       "<table border=\"1\" class=\"dataframe\">\n",
       "  <thead>\n",
       "    <tr style=\"text-align: right;\">\n",
       "      <th></th>\n",
       "      <th>Students</th>\n",
       "      <th>Marks1</th>\n",
       "      <th>Marks2</th>\n",
       "    </tr>\n",
       "  </thead>\n",
       "  <tbody>\n",
       "    <tr>\n",
       "      <th>C</th>\n",
       "      <td>Mohan</td>\n",
       "      <td>37</td>\n",
       "      <td>76</td>\n",
       "    </tr>\n",
       "    <tr>\n",
       "      <th>E</th>\n",
       "      <td>Rosy</td>\n",
       "      <td>77</td>\n",
       "      <td>74</td>\n",
       "    </tr>\n",
       "    <tr>\n",
       "      <th>G</th>\n",
       "      <td>Jasbir</td>\n",
       "      <td>77</td>\n",
       "      <td>74</td>\n",
       "    </tr>\n",
       "  </tbody>\n",
       "</table>\n",
       "</div>"
      ],
      "text/plain": [
       "  Students  Marks1  Marks2\n",
       "C    Mohan      37      76\n",
       "E     Rosy      77      74\n",
       "G   Jasbir      77      74"
      ]
     },
     "execution_count": 130,
     "metadata": {},
     "output_type": "execute_result"
    }
   ],
   "source": [
    "df2[2:8:2]"
   ]
  },
  {
   "cell_type": "code",
   "execution_count": 133,
   "id": "1271e3c1-676c-4558-b60f-73b4c75653ee",
   "metadata": {},
   "outputs": [
    {
     "ename": "KeyError",
     "evalue": "(1, 2)",
     "output_type": "error",
     "traceback": [
      "\u001b[1;31m---------------------------------------------------------------------------\u001b[0m",
      "\u001b[1;31mKeyError\u001b[0m                                  Traceback (most recent call last)",
      "File \u001b[1;32m~\\anaconda3\\Lib\\site-packages\\pandas\\core\\indexes\\base.py:3805\u001b[0m, in \u001b[0;36mIndex.get_loc\u001b[1;34m(self, key)\u001b[0m\n\u001b[0;32m   3804\u001b[0m \u001b[38;5;28;01mtry\u001b[39;00m:\n\u001b[1;32m-> 3805\u001b[0m     \u001b[38;5;28;01mreturn\u001b[39;00m \u001b[38;5;28;43mself\u001b[39;49m\u001b[38;5;241;43m.\u001b[39;49m\u001b[43m_engine\u001b[49m\u001b[38;5;241;43m.\u001b[39;49m\u001b[43mget_loc\u001b[49m\u001b[43m(\u001b[49m\u001b[43mcasted_key\u001b[49m\u001b[43m)\u001b[49m\n\u001b[0;32m   3806\u001b[0m \u001b[38;5;28;01mexcept\u001b[39;00m \u001b[38;5;167;01mKeyError\u001b[39;00m \u001b[38;5;28;01mas\u001b[39;00m err:\n",
      "File \u001b[1;32mindex.pyx:167\u001b[0m, in \u001b[0;36mpandas._libs.index.IndexEngine.get_loc\u001b[1;34m()\u001b[0m\n",
      "File \u001b[1;32mindex.pyx:196\u001b[0m, in \u001b[0;36mpandas._libs.index.IndexEngine.get_loc\u001b[1;34m()\u001b[0m\n",
      "File \u001b[1;32mpandas\\\\_libs\\\\hashtable_class_helper.pxi:7081\u001b[0m, in \u001b[0;36mpandas._libs.hashtable.PyObjectHashTable.get_item\u001b[1;34m()\u001b[0m\n",
      "File \u001b[1;32mpandas\\\\_libs\\\\hashtable_class_helper.pxi:7089\u001b[0m, in \u001b[0;36mpandas._libs.hashtable.PyObjectHashTable.get_item\u001b[1;34m()\u001b[0m\n",
      "\u001b[1;31mKeyError\u001b[0m: (1, 2)",
      "\nThe above exception was the direct cause of the following exception:\n",
      "\u001b[1;31mKeyError\u001b[0m                                  Traceback (most recent call last)",
      "Cell \u001b[1;32mIn[133], line 2\u001b[0m\n\u001b[0;32m      1\u001b[0m \u001b[38;5;66;03m# we will not be able to retrieve if we do this -column\u001b[39;00m\n\u001b[1;32m----> 2\u001b[0m \u001b[43mdf2\u001b[49m\u001b[43m[\u001b[49m\u001b[38;5;241;43m1\u001b[39;49m\u001b[43m,\u001b[49m\u001b[38;5;241;43m2\u001b[39;49m\u001b[43m]\u001b[49m\n",
      "File \u001b[1;32m~\\anaconda3\\Lib\\site-packages\\pandas\\core\\frame.py:4102\u001b[0m, in \u001b[0;36mDataFrame.__getitem__\u001b[1;34m(self, key)\u001b[0m\n\u001b[0;32m   4100\u001b[0m \u001b[38;5;28;01mif\u001b[39;00m \u001b[38;5;28mself\u001b[39m\u001b[38;5;241m.\u001b[39mcolumns\u001b[38;5;241m.\u001b[39mnlevels \u001b[38;5;241m>\u001b[39m \u001b[38;5;241m1\u001b[39m:\n\u001b[0;32m   4101\u001b[0m     \u001b[38;5;28;01mreturn\u001b[39;00m \u001b[38;5;28mself\u001b[39m\u001b[38;5;241m.\u001b[39m_getitem_multilevel(key)\n\u001b[1;32m-> 4102\u001b[0m indexer \u001b[38;5;241m=\u001b[39m \u001b[38;5;28;43mself\u001b[39;49m\u001b[38;5;241;43m.\u001b[39;49m\u001b[43mcolumns\u001b[49m\u001b[38;5;241;43m.\u001b[39;49m\u001b[43mget_loc\u001b[49m\u001b[43m(\u001b[49m\u001b[43mkey\u001b[49m\u001b[43m)\u001b[49m\n\u001b[0;32m   4103\u001b[0m \u001b[38;5;28;01mif\u001b[39;00m is_integer(indexer):\n\u001b[0;32m   4104\u001b[0m     indexer \u001b[38;5;241m=\u001b[39m [indexer]\n",
      "File \u001b[1;32m~\\anaconda3\\Lib\\site-packages\\pandas\\core\\indexes\\base.py:3812\u001b[0m, in \u001b[0;36mIndex.get_loc\u001b[1;34m(self, key)\u001b[0m\n\u001b[0;32m   3807\u001b[0m     \u001b[38;5;28;01mif\u001b[39;00m \u001b[38;5;28misinstance\u001b[39m(casted_key, \u001b[38;5;28mslice\u001b[39m) \u001b[38;5;129;01mor\u001b[39;00m (\n\u001b[0;32m   3808\u001b[0m         \u001b[38;5;28misinstance\u001b[39m(casted_key, abc\u001b[38;5;241m.\u001b[39mIterable)\n\u001b[0;32m   3809\u001b[0m         \u001b[38;5;129;01mand\u001b[39;00m \u001b[38;5;28many\u001b[39m(\u001b[38;5;28misinstance\u001b[39m(x, \u001b[38;5;28mslice\u001b[39m) \u001b[38;5;28;01mfor\u001b[39;00m x \u001b[38;5;129;01min\u001b[39;00m casted_key)\n\u001b[0;32m   3810\u001b[0m     ):\n\u001b[0;32m   3811\u001b[0m         \u001b[38;5;28;01mraise\u001b[39;00m InvalidIndexError(key)\n\u001b[1;32m-> 3812\u001b[0m     \u001b[38;5;28;01mraise\u001b[39;00m \u001b[38;5;167;01mKeyError\u001b[39;00m(key) \u001b[38;5;28;01mfrom\u001b[39;00m \u001b[38;5;21;01merr\u001b[39;00m\n\u001b[0;32m   3813\u001b[0m \u001b[38;5;28;01mexcept\u001b[39;00m \u001b[38;5;167;01mTypeError\u001b[39;00m:\n\u001b[0;32m   3814\u001b[0m     \u001b[38;5;66;03m# If we have a listlike key, _check_indexing_error will raise\u001b[39;00m\n\u001b[0;32m   3815\u001b[0m     \u001b[38;5;66;03m#  InvalidIndexError. Otherwise we fall through and re-raise\u001b[39;00m\n\u001b[0;32m   3816\u001b[0m     \u001b[38;5;66;03m#  the TypeError.\u001b[39;00m\n\u001b[0;32m   3817\u001b[0m     \u001b[38;5;28mself\u001b[39m\u001b[38;5;241m.\u001b[39m_check_indexing_error(key)\n",
      "\u001b[1;31mKeyError\u001b[0m: (1, 2)"
     ]
    }
   ],
   "source": [
    "# we will not be able to retrieve if we do this -column\n",
    "df2[1,2]\n",
    "\"\"\"For DataFrames:\n",
    "\n",
    "Single argument inside []:\n",
    "\n",
    "If you pass a label or list of labels, it is interpreted as a column selection.\n",
    "If you pass a slice (e.g., 2:5), it is interpreted as a row selection by integer position.\"\"\"\n",
    "df2['Marks1']           # Selects the column 'Marks1'\n",
    "df2[['Marks1', 'Marks2']]  # Selects multiple columns\n",
    "df2[2:5]                # Selects rows 2 to 4 by position (integer slicing)\n",
    "\"\"\"\n",
    "Why does df2[2:5] work?\n",
    "\n",
    "When you provide a slice, Pandas assumes you're slicing rows. This is a special case and works because\n",
    "Pandas treats it as shorthand for df2.iloc[2:5].\"\"\"\n",
    "\"\"\"For Series:\n",
    "\n",
    "Single argument inside []:\n",
    "If you provide a label, it selects the value at that label.\n",
    "If you provide a slice, it slices by label if the Series has a labeled index.\n",
    "If the index is numeric, it slices by position.\"\"\"\n",
    "s[2]      # Selects the value at index label 2\n",
    "s[2:5]    # Slices values by index labels (or by position if the index is numeric and consecutive)\n",
    "\n"
   ]
  },
  {
   "cell_type": "code",
   "execution_count": null,
   "id": "2cd875bf-f74f-4cb4-baf6-aa1f6064dcf4",
   "metadata": {},
   "outputs": [],
   "source": [
    "df2[['Students','Marks1']]"
   ]
  },
  {
   "cell_type": "code",
   "execution_count": null,
   "id": "39ff7745-e415-41ff-bc8d-88881ca3db84",
   "metadata": {},
   "outputs": [],
   "source": [
    "df2.loc['A']"
   ]
  },
  {
   "cell_type": "code",
   "execution_count": null,
   "id": "a93a0361-ef80-4e1b-b86e-6413c18d2ff1",
   "metadata": {},
   "outputs": [],
   "source": [
    "df2.loc['A':'C']"
   ]
  },
  {
   "cell_type": "code",
   "execution_count": null,
   "id": "74527ab3-13ce-443b-8a27-d193db7e04a2",
   "metadata": {},
   "outputs": [],
   "source": [
    "df2.loc['A':'C','Marks1']"
   ]
  },
  {
   "cell_type": "code",
   "execution_count": null,
   "id": "3c7cc926-c8be-4453-91f3-67697580f264",
   "metadata": {},
   "outputs": [],
   "source": [
    "df2.loc['A':'C','Students']"
   ]
  },
  {
   "cell_type": "code",
   "execution_count": null,
   "id": "02e17f32-a162-4835-a378-bab62e10bfa1",
   "metadata": {},
   "outputs": [],
   "source": [
    "df2[['A','B','C']]"
   ]
  },
  {
   "cell_type": "code",
   "execution_count": null,
   "id": "3136957f-98c8-48e3-9adb-8b04d9498dd4",
   "metadata": {},
   "outputs": [],
   "source": [
    "df2.loc[['A','B','C']]"
   ]
  },
  {
   "cell_type": "code",
   "execution_count": null,
   "id": "e1d3a20f-7e3d-42c0-a282-51774b78b65d",
   "metadata": {},
   "outputs": [],
   "source": [
    "df2.loc[::3,'Students':'Marks1']"
   ]
  },
  {
   "cell_type": "code",
   "execution_count": null,
   "id": "fd33640c-423a-4e68-a54f-2a3ed6d76312",
   "metadata": {},
   "outputs": [],
   "source": [
    "df2.loc[::3,:'Marks1']"
   ]
  },
  {
   "cell_type": "code",
   "execution_count": null,
   "id": "62e6da00-1c1f-4e39-8505-bef8cebfe905",
   "metadata": {},
   "outputs": [],
   "source": [
    "df2.loc['A'::3]"
   ]
  },
  {
   "cell_type": "code",
   "execution_count": null,
   "id": "a547b6ea-8b09-4a6d-a516-5c554c98e576",
   "metadata": {},
   "outputs": [],
   "source": [
    "df2.iloc[1:5:2,::2]"
   ]
  },
  {
   "cell_type": "code",
   "execution_count": null,
   "id": "f2a20bc0-0bd9-4850-88f5-442361fa5c3a",
   "metadata": {},
   "outputs": [],
   "source": [
    "df2.iloc[::2,::2]"
   ]
  },
  {
   "cell_type": "code",
   "execution_count": null,
   "id": "55df1559-e39e-4da1-b541-5415b89d0c5c",
   "metadata": {},
   "outputs": [],
   "source": [
    "res=pd.Series(list('FFPPPPPPPP'),index=df2.index)\n",
    "print(res)"
   ]
  },
  {
   "cell_type": "code",
   "execution_count": null,
   "id": "37a4586d-f100-44bb-aab7-7bd22b5f0a1e",
   "metadata": {},
   "outputs": [],
   "source": [
    "res"
   ]
  },
  {
   "cell_type": "code",
   "execution_count": null,
   "id": "14bfde28-5c87-41af-86cf-3a0f7b9bae19",
   "metadata": {},
   "outputs": [],
   "source": [
    "df2['New Column']=res\n",
    "print(df2)"
   ]
  },
  {
   "cell_type": "code",
   "execution_count": null,
   "id": "a92adff2-7c36-4c7d-a9c2-b0c7b25707d3",
   "metadata": {},
   "outputs": [],
   "source": [
    "df2[df2['Marks1']>45]"
   ]
  },
  {
   "cell_type": "code",
   "execution_count": null,
   "id": "aa23ec0b-bf78-4847-a7ed-867d17b89b0d",
   "metadata": {},
   "outputs": [],
   "source": [
    "df2[(df2['Marks1']>50) & (df2['Marks2']<80)]"
   ]
  },
  {
   "cell_type": "code",
   "execution_count": null,
   "id": "addc7db5-6d7b-419e-93c1-ef6022501f94",
   "metadata": {},
   "outputs": [],
   "source": [
    "# In the context of Pandas Series (and generally with NumPy arrays), \n",
    "# the & operator is performing a bitwise AND operation,\n",
    "# but it's being used in a logical (element-wise) context when applied to boolean conditions.\n",
    "\n",
    "# How & Works with Pandas Series\n",
    "# In Pandas, the & operator is used for element-wise logical AND between two boolean conditions. \n",
    "# It works in a similar way to how bitwise operators work on binary numbers,\n",
    "# but since we are working with boolean conditions (True or False values), it applies logic like this:\n",
    "\n",
    "# True & True → True\n",
    "# True & False → False\n",
    "# False & True → False\n",
    "# False & False → False\n",
    "# Why Use & Instead of and\n",
    "# In Python, and is used for logical operations on single boolean values (not element-wise operations). \n",
    "# When you're dealing with Series in Pandas, you need an operator that works on each \n",
    "# element of the Series individually. That's why & is used for element-wise logical AND.\n",
    "# Similarly, you would use | for element-wise logical OR.\n",
    "\n",
    "# Creating two boolean Series\n",
    "s1 = pd.Series([True, False, True, False])\n",
    "s2 = pd.Series([False, True, True, False])\n",
    "\n",
    "# Element-wise bitwise AND\n",
    "result = s1 & s2\n",
    "\n",
    "print(result)\n"
   ]
  },
  {
   "cell_type": "code",
   "execution_count": null,
   "id": "82a8a852-56fb-42d2-9093-d22296eb96b6",
   "metadata": {},
   "outputs": [],
   "source": [
    "df2[(df2['Marks1']>50) | (df2['Marks2']<80)]"
   ]
  },
  {
   "cell_type": "code",
   "execution_count": null,
   "id": "f92db216-5f60-45f9-a3f4-e6f0ec5b6166",
   "metadata": {},
   "outputs": [],
   "source": [
    " df2[~(df2['Marks1'] > 80)] #the NOT operation for boolean values is performed using the ~ (tilde) operator in Pandas, \n",
    "# which is used for element-wise negation of boolean values."
   ]
  },
  {
   "cell_type": "code",
   "execution_count": null,
   "id": "db796bc4-12ad-458e-88a1-ce9962a9dbb6",
   "metadata": {},
   "outputs": [],
   "source": [
    "df2[~((df2['Marks1'] > 80) & (df2['Marks2'] < 80))]"
   ]
  },
  {
   "cell_type": "code",
   "execution_count": null,
   "id": "c377abd8-5bc1-4864-8f72-ba16c1fb0250",
   "metadata": {},
   "outputs": [],
   "source": [
    "print(df2)\n",
    "df2['Rank']=df2['Marks1'].rank()\n"
   ]
  },
  {
   "cell_type": "code",
   "execution_count": null,
   "id": "2c80dfd4-1d80-48a8-b673-0d47fd0bbcf8",
   "metadata": {},
   "outputs": [],
   "source": [
    "df2"
   ]
  },
  {
   "cell_type": "code",
   "execution_count": null,
   "id": "1e461d46-0922-48e1-a05a-d2c8b3b58e00",
   "metadata": {},
   "outputs": [],
   "source": [
    "df2['RankAsc']=df2['Marks1'].rank(ascending=False)\n",
    "df2"
   ]
  },
  {
   "cell_type": "code",
   "execution_count": null,
   "id": "fc5e303e-0695-4ab5-8ecb-115b4efba5ad",
   "metadata": {},
   "outputs": [],
   "source": [
    "df_sorted = df2.sort_values(by='RankAsc', ascending=True)\n",
    "\n",
    "print(df_sorted)"
   ]
  },
  {
   "cell_type": "code",
   "execution_count": null,
   "id": "d8d9e9a8-4796-4c5c-b2ed-03f219a7ddb9",
   "metadata": {},
   "outputs": [],
   "source": [
    "df2['RankDense']=df2['Marks1'].rank(method='dense')\n",
    "df2"
   ]
  },
  {
   "cell_type": "code",
   "execution_count": null,
   "id": "757dd09c-c6b8-4dc2-b076-b68bb33fdd99",
   "metadata": {},
   "outputs": [],
   "source": [
    "df2['RankDense']=df2['Marks1'].rank(method='dense')\n",
    "df2"
   ]
  },
  {
   "cell_type": "code",
   "execution_count": null,
   "id": "6686f179-e032-44d7-8b88-7a00b087449f",
   "metadata": {},
   "outputs": [],
   "source": [
    "df2['RankMax']=df2['Marks1'].rank(method='max')\n",
    "df2"
   ]
  },
  {
   "cell_type": "code",
   "execution_count": null,
   "id": "b0b43d00-ddea-4a53-b9ca-581a17882ad1",
   "metadata": {},
   "outputs": [],
   "source": [
    "df"
   ]
  },
  {
   "cell_type": "code",
   "execution_count": null,
   "id": "dae26e9c-05ce-41ad-9de7-e8ba0b8cc822",
   "metadata": {},
   "outputs": [],
   "source": [
    "df_copy=df.copy()\n"
   ]
  },
  {
   "cell_type": "code",
   "execution_count": null,
   "id": "eb68cfdb-d4a6-460b-9e22-593d4aa6fd8b",
   "metadata": {},
   "outputs": [],
   "source": [
    "df_copy"
   ]
  },
  {
   "cell_type": "code",
   "execution_count": null,
   "id": "073d753b-2994-4179-acfa-b1d80d2d7468",
   "metadata": {},
   "outputs": [],
   "source": [
    "df2=df2.drop(['I','J'])\n",
    "df2_copy=df2.copy()\n",
    "#df2_dropped = df2.drop(['Marks1', 'Marks2'], axis=1) along columns"
   ]
  },
  {
   "cell_type": "code",
   "execution_count": null,
   "id": "b7bcc36e-1a6f-4cc6-999c-b5bbb0106295",
   "metadata": {},
   "outputs": [],
   "source": [
    "df2_copy\n"
   ]
  },
  {
   "cell_type": "code",
   "execution_count": null,
   "id": "1a9a8de4-9eed-4cbe-8a4c-b9a312f8262d",
   "metadata": {},
   "outputs": [],
   "source": [
    "pd.concat([df2_copy,df2])\n"
   ]
  },
  {
   "cell_type": "code",
   "execution_count": null,
   "id": "4fd92e9b-6874-4fee-a3ed-27a629b47e06",
   "metadata": {},
   "outputs": [],
   "source": [
    "pd.concat([df2_copy,df2],axis=1) "
   ]
  },
  {
   "cell_type": "code",
   "execution_count": null,
   "id": "cf365b2e-558d-4750-a3e7-614092632b32",
   "metadata": {},
   "outputs": [],
   "source": [
    "pd.concat([df,df2],axis=1) #Note if rows and column don't match it will give NaN"
   ]
  },
  {
   "cell_type": "code",
   "execution_count": null,
   "id": "5b58c674-50ac-4c41-b043-04d118a95a69",
   "metadata": {},
   "outputs": [],
   "source": [
    "pd.concat([df,df2],axis=0).drop(['RankDense', 'RankMax'], axis=1).drop(['C', 'D'], axis=0)  "
   ]
  },
  {
   "cell_type": "code",
   "execution_count": null,
   "id": "0b8ff460-88b7-4afb-9667-3bbc06d5c641",
   "metadata": {},
   "outputs": [],
   "source": [
    "pwd #present working directory"
   ]
  },
  {
   "cell_type": "code",
   "execution_count": null,
   "id": "f6c2febe-0e2b-408b-9e01-910272396453",
   "metadata": {},
   "outputs": [],
   "source": [
    "\"\"\"Here's a list of methods for reading different file formats into a Pandas DataFrame:\n",
    "\n",
    "CSV: pd.read_csv()\n",
    "Excel: pd.read_excel()\n",
    "JSON: pd.read_json()\n",
    "SQL: pd.read_sql()\n",
    "Parquet: pd.read_parquet()\n",
    "HDF5: pd.read_hdf()\n",
    "Feather: pd.read_feather()\n",
    "Stata: pd.read_stata()\n",
    "Google BigQuery: read_gbq() (from pandas-gbq library)\n",
    "Clipboard: pd.read_clipboard()\n",
    "HTML: pd.read_html()\n",
    "Text: pd.read_fwf(), pd.read_table()\"\"\""
   ]
  },
  {
   "cell_type": "code",
   "execution_count": null,
   "id": "004576fe-1168-4e00-ab82-1bf0761a4fe0",
   "metadata": {},
   "outputs": [],
   "source": [
    "# Specify the file path\n",
    "file_path = r'D:\\Repositories\\python-Basics\\101124\\2.+Faculty+Notebook\\2. Faculty Notebook\\example.csv'  # Replace with the actual path to your CSV file\n",
    "\n",
    "# Load the CSV file into a DataFrame\n",
    "df_file = pd.read_csv(file_path)\n",
    "\n",
    "# Display the DataFrame\n",
    "print(df_file)"
   ]
  },
  {
   "cell_type": "code",
   "execution_count": null,
   "id": "f93abca4-0c8e-4442-8a72-e7086764effd",
   "metadata": {},
   "outputs": [],
   "source": [
    "# Load the CSV file into a DataFrame #present working directory\n",
    "df_file2 = pd.read_csv('example.csv')\n",
    "\n",
    "# Display the DataFrame\n",
    "print(df_file2)"
   ]
  },
  {
   "cell_type": "code",
   "execution_count": null,
   "id": "b585ed94-f211-4fbd-8079-566fde0e1521",
   "metadata": {},
   "outputs": [],
   "source": [
    "df_file3 = pd.read_excel('example2.xlsx')\n",
    "\n",
    "# Display the DataFrame\n",
    "print(df_file3)"
   ]
  },
  {
   "cell_type": "code",
   "execution_count": null,
   "id": "fb9f3a69-5a89-4c8d-bc58-d58d16b10e44",
   "metadata": {},
   "outputs": [],
   "source": [
    "df = pd.read_fwf('example.txt')"
   ]
  },
  {
   "cell_type": "code",
   "execution_count": null,
   "id": "57e47ba8-defe-4254-8a66-6e251594c5de",
   "metadata": {},
   "outputs": [],
   "source": [
    "df"
   ]
  },
  {
   "cell_type": "code",
   "execution_count": null,
   "id": "6b27fe15-2c75-4a4f-87f9-809c2a59021d",
   "metadata": {},
   "outputs": [],
   "source": [
    "df = pd.read_excel('example2.xlsx',sheet_name=1)"
   ]
  },
  {
   "cell_type": "code",
   "execution_count": null,
   "id": "ade4617c-5a1d-417c-8e34-fbfbc0724d8e",
   "metadata": {},
   "outputs": [],
   "source": [
    "df\n"
   ]
  },
  {
   "cell_type": "code",
   "execution_count": null,
   "id": "4a846d77-498a-4f4f-b2e8-6b258e691169",
   "metadata": {},
   "outputs": [],
   "source": [
    "df_excel_0 = pd.read_excel('example2.xlsx',sheet_name=0)\n",
    "df_excel_1  = pd.read_excel('example2.xlsx',sheet_name=1)\n",
    "print(df_excel_0)\n",
    "print('🚀🚀🚀🚀🚀🚀')\n",
    "print(df_excel_1)\n",
    "print('🚀🚀🚀🚀🚀🚀Default Join')\n",
    "pd.merge(df_excel_0,df_excel_1,on='Age') #default is inner join"
   ]
  },
  {
   "cell_type": "code",
   "execution_count": null,
   "id": "53c1eaa2-2a25-4e8a-abd6-eb85547e1009",
   "metadata": {},
   "outputs": [],
   "source": [
    "\"\"\"Other Join Types (how argument):\n",
    "inner (default): Only rows with matching values in both DataFrames will be included.\n",
    "left: All rows from the left DataFrame and matching rows from the right DataFrame. \n",
    "Non-matching rows from the right will have NaN values.\n",
    "right: All rows from the right DataFrame and matching rows from the left DataFrame. \n",
    "Non-matching rows from the left will have NaN values.\"\"\""
   ]
  },
  {
   "cell_type": "code",
   "execution_count": null,
   "id": "0aacc768-d7ff-4e07-ad60-a373f0d02ce0",
   "metadata": {},
   "outputs": [],
   "source": [
    "pd.merge(df_excel_0,df_excel_1,on='Age', how='inner')"
   ]
  },
  {
   "cell_type": "code",
   "execution_count": null,
   "id": "dc908206-2d0c-4560-9cd9-f3dea27a8ac7",
   "metadata": {},
   "outputs": [],
   "source": [
    "pd.merge(df_excel_0,df_excel_1,on='Age', how='left')"
   ]
  },
  {
   "cell_type": "code",
   "execution_count": null,
   "id": "b343a1b9-c21d-4a82-a8d4-35f7e59a1309",
   "metadata": {},
   "outputs": [],
   "source": [
    "pd.merge(df_excel_0,df_excel_1,on='Age', how='right')"
   ]
  },
  {
   "cell_type": "code",
   "execution_count": null,
   "id": "f4d054eb-01fc-4b49-9b2b-a31d1ddbaa3a",
   "metadata": {},
   "outputs": [],
   "source": [
    "pd.merge(df_excel_0, df_excel_1, on='Age', how='outer')\n",
    "\"\"\"Outer Join (how='outer'): Returns all rows from both DataFrames, and fills in missing values with NaN\n",
    "where there is no match. This is often used when you want to retain all data from both DataFrames,\n",
    "regardless of whether there is a matching 'Age' in both DataFrames.\"\"\"\n"
   ]
  },
  {
   "cell_type": "code",
   "execution_count": null,
   "id": "0f40dd46-6d2f-429e-94e1-0f209d36511b",
   "metadata": {},
   "outputs": [],
   "source": [
    "header=pd.MultiIndex.from_product([['Karnataka','Andra'],['Jan','Feburary','March']])\n",
    "print(header)"
   ]
  },
  {
   "cell_type": "code",
   "execution_count": null,
   "id": "7aaf7054-8dc0-4157-9d82-e763b3422e93",
   "metadata": {},
   "outputs": [],
   "source": [
    "print('Hi')"
   ]
  },
  {
   "cell_type": "code",
   "execution_count": null,
   "id": "fbcc9f96-ab7c-4c8a-bfcb-c5d5ba3636e4",
   "metadata": {},
   "outputs": [],
   "source": [
    "header2=pd.MultiIndex.from_product([['Sem1','Sem2'],['Phy','Chem','Maths','Bio']])\n",
    "print(header2)"
   ]
  },
  {
   "cell_type": "code",
   "execution_count": null,
   "id": "205e912d-3486-420d-b8d8-8cb53dcca7d1",
   "metadata": {},
   "outputs": [],
   "source": [
    "data=pd.DataFrame([[1,2,3,4,5,6],[11,22,33,44,55,66],[22,33,22,11,22,33]],columns=header,index=['A','B','C',])\n",
    "print(data)"
   ]
  },
  {
   "cell_type": "code",
   "execution_count": null,
   "id": "1c374a54-d50f-432d-aef9-4ae2b7861b26",
   "metadata": {},
   "outputs": [],
   "source": [
    "data2=pd.DataFrame([[1,2,3,4,5,6,7,8],[11,22,33,44,55,66,77,88],[22,33,22,11,22,33,99,101]],columns=header2,index=['A','B','C',])\n",
    "print(data2)"
   ]
  },
  {
   "cell_type": "code",
   "execution_count": null,
   "id": "00d2bfd7-a01e-4488-8771-30eb5b5fc3ab",
   "metadata": {},
   "outputs": [],
   "source": [
    "data2.stack(level=1,future_stack=True)"
   ]
  },
  {
   "cell_type": "code",
   "execution_count": null,
   "id": "8cbc7c1e-ff81-4fc1-a16e-381d7ae3bae6",
   "metadata": {},
   "outputs": [],
   "source": [
    "data2.stack(level=0,future_stack=True)"
   ]
  },
  {
   "cell_type": "code",
   "execution_count": null,
   "id": "86b412ad-6794-41d6-b98e-0bc8eb37a82b",
   "metadata": {},
   "outputs": [],
   "source": [
    "s1=pd.Series(np.arange(1,11))\n",
    "s2=pd.Series(np.arange(21,31))\n",
    "s3=pd.concat([s1,s2],keys=['src1','src2'],names=['Source','Index'])\n",
    "print(s1)\n",
    "print(s2)\n",
    "print('🚀🚀🚀🚀🚀')\n",
    "print(s3)\n",
    "s3.index"
   ]
  },
  {
   "cell_type": "code",
   "execution_count": null,
   "id": "f4dd0474-12b7-439b-8f77-e27b6f4b54bc",
   "metadata": {},
   "outputs": [],
   "source": [
    "s3.index"
   ]
  },
  {
   "cell_type": "code",
   "execution_count": null,
   "id": "5068f3a3-98f0-40e1-80a4-28f28a13ba4b",
   "metadata": {},
   "outputs": [],
   "source": [
    "s3.src1"
   ]
  },
  {
   "cell_type": "code",
   "execution_count": null,
   "id": "5c267ceb-c5f4-4ff7-9523-07d4a6a75bb3",
   "metadata": {},
   "outputs": [],
   "source": [
    "print(s3.loc['src1'])"
   ]
  },
  {
   "cell_type": "code",
   "execution_count": null,
   "id": "0de7b47f-12a9-407f-8c96-518789bc1448",
   "metadata": {},
   "outputs": [],
   "source": []
  }
 ],
 "metadata": {
  "kernelspec": {
   "display_name": "Python 3 (ipykernel)",
   "language": "python",
   "name": "python3"
  },
  "language_info": {
   "codemirror_mode": {
    "name": "ipython",
    "version": 3
   },
   "file_extension": ".py",
   "mimetype": "text/x-python",
   "name": "python",
   "nbconvert_exporter": "python",
   "pygments_lexer": "ipython3",
   "version": "3.12.4"
  }
 },
 "nbformat": 4,
 "nbformat_minor": 5
}
