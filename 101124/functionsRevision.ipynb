{
 "cells": [
  {
   "cell_type": "code",
   "execution_count": 1,
   "id": "18236e64-f59f-4c32-8cdd-70fbd3da5e2e",
   "metadata": {},
   "outputs": [
    {
     "data": {
      "text/plain": [
       "20"
      ]
     },
     "execution_count": 1,
     "metadata": {},
     "output_type": "execute_result"
    }
   ],
   "source": [
    "a=lambda x:x+10\n",
    "a(10)"
   ]
  },
  {
   "cell_type": "code",
   "execution_count": 3,
   "id": "1be62e65-f5d9-4ee2-af96-ed8f5376f6b3",
   "metadata": {},
   "outputs": [
    {
     "data": {
      "text/plain": [
       "100"
      ]
     },
     "execution_count": 3,
     "metadata": {},
     "output_type": "execute_result"
    }
   ],
   "source": [
    "a=lambda x:x*10\n",
    "a(10)"
   ]
  },
  {
   "cell_type": "code",
   "execution_count": 11,
   "id": "167b9ad5-22ab-4d6c-9587-19a005fe2241",
   "metadata": {},
   "outputs": [
    {
     "name": "stdout",
     "output_type": "stream",
     "text": [
      "[3, 4, 5, 6]\n",
      "[1, 4, 9, 16]\n"
     ]
    }
   ],
   "source": [
    "#map\n",
    "l1=[1,2,3,4]\n",
    "l2=(1,2,3,4)\n",
    "op=list(map(lambda x:x+2,l1))\n",
    "print(op)\n",
    "op2=list(map(lambda x,y:x*y,l1,l2))\n",
    "print(op2)"
   ]
  },
  {
   "cell_type": "code",
   "execution_count": 15,
   "id": "2f03e991-b2f2-4885-92d5-0bf8fd47a742",
   "metadata": {},
   "outputs": [
    {
     "data": {
      "text/plain": [
       "[3, 6, 9]"
      ]
     },
     "execution_count": 15,
     "metadata": {},
     "output_type": "execute_result"
    }
   ],
   "source": [
    "l12=[1,2,3,4,5,6,7,8,9]\n",
    "list(filter(lambda x:x%3==0,l12))"
   ]
  },
  {
   "cell_type": "code",
   "execution_count": 19,
   "id": "0266acb6-5dc2-4f96-bc61-8428f5908997",
   "metadata": {},
   "outputs": [],
   "source": [
    "from functools  import reduce\n",
    "l1=[1,2,3,4,5]"
   ]
  },
  {
   "cell_type": "code",
   "execution_count": 21,
   "id": "ba498a0b-8a91-4a27-a54b-0a542a9e30c1",
   "metadata": {},
   "outputs": [
    {
     "data": {
      "text/plain": [
       "15"
      ]
     },
     "execution_count": 21,
     "metadata": {},
     "output_type": "execute_result"
    }
   ],
   "source": [
    "reduce(lambda x,y:x+y,l1)"
   ]
  },
  {
   "cell_type": "code",
   "execution_count": 23,
   "id": "a9aaa981-ac9f-48c5-8e37-40648356e116",
   "metadata": {},
   "outputs": [
    {
     "data": {
      "text/plain": [
       "5"
      ]
     },
     "execution_count": 23,
     "metadata": {},
     "output_type": "execute_result"
    }
   ],
   "source": [
    "l1=[1,2,3,4,5]\n",
    "reduce(lambda x,y:x if x>y else y,l1) #largest in a list"
   ]
  },
  {
   "cell_type": "code",
   "execution_count": 25,
   "id": "85e27f22-9a99-4cbe-8f3d-f5adf01e9c21",
   "metadata": {},
   "outputs": [
    {
     "data": {
      "text/plain": [
       "[1, 3, 6, 10, 15]"
      ]
     },
     "execution_count": 25,
     "metadata": {},
     "output_type": "execute_result"
    }
   ],
   "source": [
    "from itertools import accumulate\n",
    "list(accumulate(l1,lambda x,y:x+y))"
   ]
  },
  {
   "cell_type": "code",
   "execution_count": 29,
   "id": "23d896ff-582a-4982-beac-10a4bd4046b5",
   "metadata": {},
   "outputs": [
    {
     "name": "stdout",
     "output_type": "stream",
     "text": [
      "te 2\n",
      "te 6\n",
      "te 24\n",
      "te 120\n",
      "te 720\n"
     ]
    },
    {
     "data": {
      "text/plain": [
       "720"
      ]
     },
     "execution_count": 29,
     "metadata": {},
     "output_type": "execute_result"
    }
   ],
   "source": [
    "# Recursive fn\n",
    "def f1(n):\n",
    "    if n<=1:\n",
    "        return 1\n",
    "    res =n*f1(n-1)\n",
    "    print('te',res)\n",
    "    return res\n",
    "\n",
    "f1(6)\n",
    "\n",
    "        \n",
    "    \n",
    "\n"
   ]
  },
  {
   "cell_type": "code",
   "execution_count": null,
   "id": "139b4d4b-ae89-421a-8ab6-b3ee0d93eea8",
   "metadata": {},
   "outputs": [],
   "source": []
  }
 ],
 "metadata": {
  "kernelspec": {
   "display_name": "Python 3 (ipykernel)",
   "language": "python",
   "name": "python3"
  },
  "language_info": {
   "codemirror_mode": {
    "name": "ipython",
    "version": 3
   },
   "file_extension": ".py",
   "mimetype": "text/x-python",
   "name": "python",
   "nbconvert_exporter": "python",
   "pygments_lexer": "ipython3",
   "version": "3.12.4"
  }
 },
 "nbformat": 4,
 "nbformat_minor": 5
}
