{
 "cells": [
  {
   "cell_type": "code",
   "execution_count": 1,
   "id": "18236e64-f59f-4c32-8cdd-70fbd3da5e2e",
   "metadata": {},
   "outputs": [
    {
     "data": {
      "text/plain": [
       "20"
      ]
     },
     "execution_count": 1,
     "metadata": {},
     "output_type": "execute_result"
    }
   ],
   "source": [
    "a=lambda x:x+10\n",
    "a(10)"
   ]
  },
  {
   "cell_type": "code",
   "execution_count": 3,
   "id": "1be62e65-f5d9-4ee2-af96-ed8f5376f6b3",
   "metadata": {},
   "outputs": [
    {
     "data": {
      "text/plain": [
       "100"
      ]
     },
     "execution_count": 3,
     "metadata": {},
     "output_type": "execute_result"
    }
   ],
   "source": [
    "a=lambda x:x*10\n",
    "a(10)"
   ]
  },
  {
   "cell_type": "code",
   "execution_count": 11,
   "id": "167b9ad5-22ab-4d6c-9587-19a005fe2241",
   "metadata": {},
   "outputs": [
    {
     "name": "stdout",
     "output_type": "stream",
     "text": [
      "[3, 4, 5, 6]\n",
      "[1, 4, 9, 16]\n"
     ]
    }
   ],
   "source": [
    "#map\n",
    "l1=[1,2,3,4]\n",
    "l2=(1,2,3,4)\n",
    "op=list(map(lambda x:x+2,l1))\n",
    "print(op)\n",
    "op2=list(map(lambda x,y:x*y,l1,l2))\n",
    "print(op2)"
   ]
  },
  {
   "cell_type": "code",
   "execution_count": 15,
   "id": "2f03e991-b2f2-4885-92d5-0bf8fd47a742",
   "metadata": {},
   "outputs": [
    {
     "data": {
      "text/plain": [
       "[3, 6, 9]"
      ]
     },
     "execution_count": 15,
     "metadata": {},
     "output_type": "execute_result"
    }
   ],
   "source": [
    "l12=[1,2,3,4,5,6,7,8,9]\n",
    "list(filter(lambda x:x%3==0,l12))"
   ]
  },
  {
   "cell_type": "code",
   "execution_count": 19,
   "id": "0266acb6-5dc2-4f96-bc61-8428f5908997",
   "metadata": {},
   "outputs": [],
   "source": [
    "from functools  import reduce\n",
    "l1=[1,2,3,4,5]"
   ]
  },
  {
   "cell_type": "code",
   "execution_count": 21,
   "id": "ba498a0b-8a91-4a27-a54b-0a542a9e30c1",
   "metadata": {},
   "outputs": [
    {
     "data": {
      "text/plain": [
       "15"
      ]
     },
     "execution_count": 21,
     "metadata": {},
     "output_type": "execute_result"
    }
   ],
   "source": [
    "reduce(lambda x,y:x+y,l1)"
   ]
  },
  {
   "cell_type": "code",
   "execution_count": 23,
   "id": "a9aaa981-ac9f-48c5-8e37-40648356e116",
   "metadata": {},
   "outputs": [
    {
     "data": {
      "text/plain": [
       "5"
      ]
     },
     "execution_count": 23,
     "metadata": {},
     "output_type": "execute_result"
    }
   ],
   "source": [
    "l1=[1,2,3,4,5]\n",
    "reduce(lambda x,y:x if x>y else y,l1) #largest in a list"
   ]
  },
  {
   "cell_type": "code",
   "execution_count": 25,
   "id": "85e27f22-9a99-4cbe-8f3d-f5adf01e9c21",
   "metadata": {},
   "outputs": [
    {
     "data": {
      "text/plain": [
       "[1, 3, 6, 10, 15]"
      ]
     },
     "execution_count": 25,
     "metadata": {},
     "output_type": "execute_result"
    }
   ],
   "source": [
    "from itertools import accumulate\n",
    "list(accumulate(l1,lambda x,y:x+y))"
   ]
  },
  {
   "cell_type": "code",
   "execution_count": 1,
   "id": "23d896ff-582a-4982-beac-10a4bd4046b5",
   "metadata": {},
   "outputs": [
    {
     "name": "stdout",
     "output_type": "stream",
     "text": [
      "te 2\n",
      "te 6\n",
      "te 24\n",
      "te 120\n",
      "te 720\n"
     ]
    },
    {
     "data": {
      "text/plain": [
       "720"
      ]
     },
     "execution_count": 1,
     "metadata": {},
     "output_type": "execute_result"
    }
   ],
   "source": [
    "# Recursive fn\n",
    "def f1(n):\n",
    "    if n<=1:\n",
    "        return 1\n",
    "    res =n*f1(n-1)\n",
    "    print('te',res)\n",
    "    return res\n",
    "\n",
    "f1(6)\n",
    "\n",
    "        \n",
    "    \n",
    "\n"
   ]
  },
  {
   "cell_type": "code",
   "execution_count": 2,
   "id": "139b4d4b-ae89-421a-8ab6-b3ee0d93eea8",
   "metadata": {},
   "outputs": [
    {
     "name": "stdout",
     "output_type": "stream",
     "text": [
      "The result is 25\n",
      "\n",
      "The result is: 100\n"
     ]
    }
   ],
   "source": [
    "# Python program to illustrate functions \n",
    "# can return another function \n",
    "\n",
    "def create_adder(x): \n",
    "    def adder(y): \n",
    "        return x + y \n",
    "\n",
    "    return adder \n",
    "\n",
    "add_15 = create_adder(15) \n",
    "\n",
    "print(\"The result is\", add_15(10)) \n",
    "\n",
    "# Returning different function\n",
    "def outer(x):\n",
    "    return x * 10\n",
    "\n",
    "def my_func():\n",
    "    \n",
    "    # returning different function\n",
    "    return outer\n",
    "\n",
    "# storing the function in res\n",
    "res = my_func()\n",
    "\n",
    "print(\"\\nThe result is:\", res(10))\n"
   ]
  },
  {
   "cell_type": "code",
   "execution_count": null,
   "id": "fc2cf2e8",
   "metadata": {},
   "outputs": [],
   "source": [
    "# A Python program to return multiple  \n",
    "# values from a method using dictionary \n",
    "  \n",
    "# This function returns a dictionary \n",
    "def fun(): \n",
    "    d = dict();  \n",
    "    d['str'] = \"GeeksforGeeks\"\n",
    "    d['x']   = 20\n",
    "    return d \n",
    "  \n",
    "# Driver code to test above method \n",
    "d = fun()  \n",
    "print(d) \n"
   ]
  },
  {
   "cell_type": "code",
   "execution_count": 3,
   "id": "911017ba",
   "metadata": {},
   "outputs": [
    {
     "name": "stdout",
     "output_type": "stream",
     "text": [
      "['geeksforgeeks', 20]\n"
     ]
    }
   ],
   "source": [
    "# A Python program to return multiple  \n",
    "# values from a method using list \n",
    "  \n",
    "# This function returns a list \n",
    "def fun(): \n",
    "    str = \"geeksforgeeks\"\n",
    "    x = 20   \n",
    "    return [str, x];   \n",
    "  \n",
    "# Driver code to test above method \n",
    "list = fun()  \n",
    "print(list) \n"
   ]
  },
  {
   "cell_type": "code",
   "execution_count": null,
   "id": "63e2d447",
   "metadata": {},
   "outputs": [],
   "source": [
    "# A Python program to return multiple  \n",
    "# values from a method using tuple \n",
    "  \n",
    "# This function returns a tuple \n",
    "def fun(): \n",
    "    str = \"geeksforgeeks\"\n",
    "    x = 20\n",
    "    return str, x;  # Return tuple, we could also \n",
    "                    # write (str, x) \n",
    "  \n",
    "# Driver code to test above method \n",
    "str, x = fun() # Assign returned tuple \n",
    "print(str) \n",
    "print(x) \n"
   ]
  },
  {
   "cell_type": "markdown",
   "id": "1350c4fc",
   "metadata": {},
   "source": [
    " __init__ is a keyword in Python.\n",
    " __init__ is a special method in Python classes known as the constructor. It is automatically called when an object of the class is created.\n",
    "The double underscore prefix (__) makes it a \"dunder\" (double underscore) method, which means it has special meaning in Python.\n",
    "The purpose of __init__ is to initialize the attributes of a newly created object. It's called when you create an instance of a class using parentheses.\n",
    "__init__ always takes at least one parameter, conventionally named self, which refers to the instance being initialized.\n",
    "Here's a basic syntax example:\n",
    "class Person:\n",
    "    def __init__(self, name, age):\n",
    "        self.name = name\n",
    "        self.age = age\n",
    "In summary, while __init__ isn't a keyword in the traditional sense, it's a very important and widely used special method in Python classes for object initialization."
   ]
  },
  {
   "cell_type": "code",
   "execution_count": 5,
   "id": "0abb6f51",
   "metadata": {},
   "outputs": [
    {
     "name": "stdout",
     "output_type": "stream",
     "text": [
      "geeksforgeeks\n",
      "20\n"
     ]
    }
   ],
   "source": [
    "class Test: \n",
    "    def __init__(self): \n",
    "        self.str = \"geeksforgeeks\"\n",
    "        self.x = 20   \n",
    "  \n",
    "# This function returns an object of Test \n",
    "def fun(): \n",
    "    return Test() \n",
    "      \n",
    "# Driver code to test above method \n",
    "t = fun()  \n",
    "print(t.str) \n",
    "print(t.x)"
   ]
  },
  {
   "cell_type": "markdown",
   "id": "df408a1a",
   "metadata": {},
   "source": [
    "The Test class is defined first, containing its constructor (__init__) method.\n",
    "This fun() function is defined outside of the Test class.It's a separate function defined after the Test class definition.\n",
    "\n",
    "This structure allows fun() to create and return instances of the Test class from outside the class itself."
   ]
  },
  {
   "cell_type": "markdown",
   "id": "dec10699",
   "metadata": {},
   "source": [
    "Accessing Instance Variables"
   ]
  },
  {
   "cell_type": "code",
   "execution_count": 7,
   "id": "981c5185",
   "metadata": {},
   "outputs": [
    {
     "name": "stdout",
     "output_type": "stream",
     "text": [
      "geeksforgeeks\n"
     ]
    }
   ],
   "source": [
    "a=getattr(t, 'str')\n",
    "b=getattr(t, 'x')\n",
    "print(a)\n"
   ]
  },
  {
   "cell_type": "code",
   "execution_count": null,
   "id": "dc078ffd",
   "metadata": {},
   "outputs": [
    {
     "name": "stdout",
     "output_type": "stream",
     "text": [
      "value\n"
     ]
    }
   ],
   "source": [
    "hasattr(t, 'str')  # Returns True\n",
    "hasattr(t, 'y')   # Returns False (assuming 'y' doesn't exist)\n",
    "setattr(t, 'new_attr', 'value')\n",
    "print(t.new_attr)\n",
    "delattr(t, 'x')\n"
   ]
  },
  {
   "cell_type": "code",
   "execution_count": null,
   "id": "07e2dfe4",
   "metadata": {},
   "outputs": [
    {
     "name": "stdout",
     "output_type": "stream",
     "text": [
      "{'num': 14}\n",
      "0\n"
     ]
    }
   ],
   "source": [
    "class Animal:\n",
    "    x = {}  # Class variable\n",
    "    y = 0   # Class variable\n",
    "    \n",
    "    def __init__(self):\n",
    "        pass\n",
    "\n",
    "animal1 = Animal()\n",
    "animal2 = Animal()\n",
    "\n",
    "animal1.x['num'] = 14\n",
    "animal1.y = 14\n",
    "\n",
    "print(animal2.x)\n",
    "print(animal2.y)"
   ]
  },
  {
   "cell_type": "markdown",
   "id": "34f03cf6",
   "metadata": {},
   "source": [
    "The pass statement in Python is a placeholder when a statement is required syntactically but no execution of code is necessary. Here's a detailed explanation:\n",
    "\n",
    "What does pass mean?\n",
    "Placeholder:\n",
    "pass serves as a null operation — a way to write programs that intentionally do nothing [0].\n",
    "Syntax Requirement:\n",
    "It's used when you need to include a statement where no execution of code is required [0].\n",
    "For example, in loops, conditionals, functions, or class definitions where a statement is expected.\n",
    "No Execution:\n",
    "When Python encounters pass, it simply moves on to the next statement without executing any code [0].\n",
    "Common Use Cases:\n",
    "In function definitions where no action needs to be performed yet:"
   ]
  },
  {
   "cell_type": "code",
   "execution_count": null,
   "id": "398984b9",
   "metadata": {},
   "outputs": [],
   "source": [
    "class Car:\n",
    "    brand = \"Toyota\"  # Class variable\n",
    "    \n",
    "    def __init__(self, model):\n",
    "        self.model = model  # Instance variable\n",
    "        \n",
    "car1 = Car(\"Corolla\")\n",
    "car2 = Car(\"Camry\")\n",
    "\n",
    "print(Car.brand)  # Output: Toyota\n",
    "print(car1.brand)  # Output: Toyota\n",
    "print(car1.model)  # Output: Corolla\n",
    "print(car2.model)  # Output: Camry"
   ]
  },
  {
   "cell_type": "code",
   "execution_count": 15,
   "id": "39f6c714",
   "metadata": {},
   "outputs": [
    {
     "name": "stdout",
     "output_type": "stream",
     "text": [
      "All animals are Animal\n",
      "Buddy is a Animal. It is None years old.\n",
      "Dogs are considered ✔✈14\n",
      "Whiskers is a Animal. It is None years old.\n",
      "Dog's age: 3\n",
      "Dog's species: Animal\n"
     ]
    }
   ],
   "source": [
    "class Animal:\n",
    "    # Class variables\n",
    "    species = \"Animal\"\n",
    "    \n",
    "    # Class variable dictionary\n",
    "    animal_types = {}\n",
    "    \n",
    "    def __init__(self, name):\n",
    "        self.name = name  # Instance variable\n",
    "        self.age = None   # Instance variable (initialized but not set)\n",
    "        \n",
    "    # Class method to add animal types\n",
    "    @classmethod\n",
    "    def add_animal_type(cls, name, description):\n",
    "        cls.animal_types[name] = description\n",
    "    \n",
    "    # Instance method to set age\n",
    "    def set_age(self, age):\n",
    "        self.age = age\n",
    "    \n",
    "    # Instance method to get animal info\n",
    "    def get_info(self):\n",
    "        return f\"{self.name} is a {self.__class__.__name__}. It is {self.age} years old.\"\n",
    "\n",
    "# Create instances\n",
    "dog = Animal(\"Buddy\")\n",
    "cat = Animal(\"Whiskers\")\n",
    "\n",
    "# Use class variables\n",
    "print(f\"All animals are {Animal.species}\")\n",
    "Animal.animal_types\n",
    "\n",
    "# Use instance variables and methods\n",
    "print(dog.get_info())\n",
    "Animal.add_animal_type(\"cat\", \"a small, furry animal\")\n",
    "Animal.animal_types['dog'] = 14\n",
    "print(f\"Dogs are considered ✔✈{Animal.animal_types['dog']}\")\n",
    "print(cat.get_info())\n",
    "\n",
    "# Modify instance variables\n",
    "dog.set_age(3)\n",
    "print(f\"Dog's age: {dog.age}\")\n",
    "\n",
    "# Try accessing class variable directly on instances (this works but is not recommended)\n",
    "print(f\"Dog's species: {dog.species}\")"
   ]
  }
 ],
 "metadata": {
  "kernelspec": {
   "display_name": "Python 3",
   "language": "python",
   "name": "python3"
  },
  "language_info": {
   "codemirror_mode": {
    "name": "ipython",
    "version": 3
   },
   "file_extension": ".py",
   "mimetype": "text/x-python",
   "name": "python",
   "nbconvert_exporter": "python",
   "pygments_lexer": "ipython3",
   "version": "3.12.6"
  }
 },
 "nbformat": 4,
 "nbformat_minor": 5
}
