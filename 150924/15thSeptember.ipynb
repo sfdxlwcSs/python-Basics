{
 "cells": [
  {
   "cell_type": "code",
   "execution_count": null,
   "id": "4956a6d5-4dca-43ba-a61a-0d37416c251a",
   "metadata": {},
   "outputs": [],
   "source": [
    "print('Hello');"
   ]
  },
  {
   "cell_type": "markdown",
   "id": "9e1c509d-8d5c-4eae-8bbf-8ec2e6a5867f",
   "metadata": {},
   "source": [
    "Test"
   ]
  },
  {
   "cell_type": "markdown",
   "id": "85d6272d-be64-4a8a-a1cd-088e0eafc24c",
   "metadata": {},
   "source": [
    "Python"
   ]
  },
  {
   "cell_type": "code",
   "execution_count": 5,
   "id": "257a2d24-1145-4018-af83-7e8d6ef487e2",
   "metadata": {},
   "outputs": [
    {
     "name": "stdout",
     "output_type": "stream",
     "text": [
      "Hello2\n"
     ]
    }
   ],
   "source": [
    "print('Hello2');"
   ]
  },
  {
   "cell_type": "markdown",
   "id": "ac29d803-12f5-485a-92f2-a93faba2355a",
   "metadata": {},
   "source": [
    "Topic 2"
   ]
  },
  {
   "cell_type": "code",
   "execution_count": 6,
   "id": "f24c9411-a77a-4b67-af8d-dd2050090c57",
   "metadata": {},
   "outputs": [
    {
     "name": "stdout",
     "output_type": "stream",
     "text": [
      "BSE # Mumbai\n"
     ]
    }
   ],
   "source": [
    "print(\"BSE # Mumbai\")"
   ]
  },
  {
   "cell_type": "code",
   "execution_count": 7,
   "id": "545ab681-6b66-4478-af36-788d034a75f7",
   "metadata": {},
   "outputs": [
    {
     "ename": "SyntaxError",
     "evalue": "unterminated string literal (detected at line 1) (2926741998.py, line 1)",
     "output_type": "error",
     "traceback": [
      "\u001b[1;36m  Cell \u001b[1;32mIn[7], line 1\u001b[1;36m\u001b[0m\n\u001b[1;33m    print(\"BSE # Mumbai')\u001b[0m\n\u001b[1;37m          ^\u001b[0m\n\u001b[1;31mSyntaxError\u001b[0m\u001b[1;31m:\u001b[0m unterminated string literal (detected at line 1)\n"
     ]
    }
   ],
   "source": [
    "print(\"BSE # Mumbai')"
   ]
  },
  {
   "cell_type": "code",
   "execution_count": 8,
   "id": "a5149250-f2e5-4f79-9466-d1e37eece223",
   "metadata": {},
   "outputs": [
    {
     "ename": "SyntaxError",
     "evalue": "unexpected character after line continuation character (523295425.py, line 2)",
     "output_type": "error",
     "traceback": [
      "\u001b[1;36m  Cell \u001b[1;32mIn[8], line 2\u001b[1;36m\u001b[0m\n\u001b[1;33m    print(\"BSE # Mumbai\"\\')\u001b[0m\n\u001b[1;37m                         ^\u001b[0m\n\u001b[1;31mSyntaxError\u001b[0m\u001b[1;31m:\u001b[0m unexpected character after line continuation character\n"
     ]
    }
   ],
   "source": [
    "print(\"BSE # Mumbai\")\n",
    "print(\"BSE # Mumbai\"\\')"
   ]
  },
  {
   "cell_type": "code",
   "execution_count": 9,
   "id": "3b0eb1d5-3ea5-44c2-89a7-01e0cee8c7cb",
   "metadata": {},
   "outputs": [
    {
     "name": "stdout",
     "output_type": "stream",
     "text": [
      "BSE # Mumbai\n"
     ]
    }
   ],
   "source": [
    "print(\"BSE # Mumbai\")#single line comment"
   ]
  },
  {
   "cell_type": "code",
   "execution_count": 10,
   "id": "c13f4cbe-1059-48dd-aca2-c52b4f9dcaa7",
   "metadata": {},
   "outputs": [
    {
     "name": "stdout",
     "output_type": "stream",
     "text": [
      "BSE # Mumbai\n",
      "Hello\n"
     ]
    }
   ],
   "source": [
    "print(\"BSE # Mumbai\")\n",
    "#single line comment\n",
    "print('Hello');"
   ]
  },
  {
   "cell_type": "code",
   "execution_count": 16,
   "id": "25a31177-f138-4b03-8e62-ba457a475907",
   "metadata": {},
   "outputs": [],
   "source": [
    "usd='dollar $';inr='ruppe \\u20B9' #statements in single line separated via ;"
   ]
  },
  {
   "cell_type": "code",
   "execution_count": 12,
   "id": "ca8c6933-580e-466b-8102-0148ec71c83b",
   "metadata": {},
   "outputs": [
    {
     "name": "stdout",
     "output_type": "stream",
     "text": [
      "dollar\n"
     ]
    }
   ],
   "source": [
    "print(usd\n",
    "    )"
   ]
  },
  {
   "cell_type": "code",
   "execution_count": 13,
   "id": "c49ee965-fde6-4bf3-8f1f-a7cf9e740d8d",
   "metadata": {},
   "outputs": [
    {
     "name": "stdout",
     "output_type": "stream",
     "text": [
      "dollar ruppe\n"
     ]
    }
   ],
   "source": [
    "print(usd,inr)"
   ]
  },
  {
   "cell_type": "code",
   "execution_count": 13,
   "id": "5fde6a1a-cf16-4f47-bcd5-d55a1a74deed",
   "metadata": {},
   "outputs": [
    {
     "name": "stdout",
     "output_type": "stream",
     "text": [
      "dollar ruppe\n"
     ]
    }
   ],
   "source": [
    "print(usd,inr)"
   ]
  },
  {
   "cell_type": "code",
   "execution_count": 17,
   "id": "25868c93-eb59-4072-b6b2-a775d806b68a",
   "metadata": {},
   "outputs": [
    {
     "name": "stdout",
     "output_type": "stream",
     "text": [
      "dollar $ ruppe ₹\n"
     ]
    }
   ],
   "source": [
    "print(usd,inr)"
   ]
  },
  {
   "cell_type": "code",
   "execution_count": 18,
   "id": "e4d443c0-4870-4569-9036-26c904b12770",
   "metadata": {},
   "outputs": [
    {
     "name": "stdout",
     "output_type": "stream",
     "text": [
      " Hi how do you\n",
      "do .I am doing fine\n",
      "ok\n",
      "\n"
     ]
    }
   ],
   "source": [
    "paragraph=\"\"\" Hi how do you\n",
    "do .I am doing fine\n",
    "ok\n",
    "\"\"\"\n",
    "print(paragraph)"
   ]
  },
  {
   "cell_type": "code",
   "execution_count": 19,
   "id": "f691e341-826e-4dd3-aae8-5abc49260939",
   "metadata": {},
   "outputs": [
    {
     "name": "stdout",
     "output_type": "stream",
     "text": [
      "nSE\n"
     ]
    }
   ],
   "source": [
    "p1=\"nSE\"\n",
    "\"\"\" Hi how do you\n",
    "do .I am doing fine\n",
    "ok\n",
    "\"\"\"\n",
    "print(p1)"
   ]
  },
  {
   "cell_type": "markdown",
   "id": "26c668f9-91c1-4701-9006-bf5264f3e6eb",
   "metadata": {},
   "source": [
    "Block comment across multiple Line ⬆⬆⬆⬆⬆⬆⬆"
   ]
  },
  {
   "cell_type": "markdown",
   "id": "b175515f-4a88-4328-81ff-ca1d314b80c7",
   "metadata": {},
   "source": [
    "Variable names are case sensitive⬇⬇⬇⬇⬇"
   ]
  },
  {
   "cell_type": "code",
   "execution_count": 20,
   "id": "f905bde8-4852-46d3-bbe9-37bbbb78803c",
   "metadata": {},
   "outputs": [
    {
     "name": "stdout",
     "output_type": "stream",
     "text": [
      "Yes No\n"
     ]
    }
   ],
   "source": [
    "stock='Yes';Stock='No';print(stock,Stock)"
   ]
  },
  {
   "cell_type": "code",
   "execution_count": 21,
   "id": "91145a8e-e318-495c-b4c2-a3aa01a6c135",
   "metadata": {},
   "outputs": [
    {
     "ename": "SyntaxError",
     "evalue": "invalid syntax (2843404282.py, line 1)",
     "output_type": "error",
     "traceback": [
      "\u001b[1;36m  Cell \u001b[1;32mIn[21], line 1\u001b[1;36m\u001b[0m\n\u001b[1;33m    if='Tets'\u001b[0m\n\u001b[1;37m      ^\u001b[0m\n\u001b[1;31mSyntaxError\u001b[0m\u001b[1;31m:\u001b[0m invalid syntax\n"
     ]
    }
   ],
   "source": [
    "if='Tets'"
   ]
  },
  {
   "cell_type": "code",
   "execution_count": 22,
   "id": "04eb0935-c7e6-4d98-b2bd-3febc987889c",
   "metadata": {},
   "outputs": [
    {
     "ename": "NameError",
     "evalue": "name 'keyword' is not defined",
     "output_type": "error",
     "traceback": [
      "\u001b[1;31m---------------------------------------------------------------------------\u001b[0m",
      "\u001b[1;31mNameError\u001b[0m                                 Traceback (most recent call last)",
      "Cell \u001b[1;32mIn[22], line 1\u001b[0m\n\u001b[1;32m----> 1\u001b[0m \u001b[38;5;28mprint\u001b[39m(keyword\u001b[38;5;241m.\u001b[39mkeylist)\n",
      "\u001b[1;31mNameError\u001b[0m: name 'keyword' is not defined"
     ]
    }
   ],
   "source": [
    "print(keyword.keylist)"
   ]
  },
  {
   "cell_type": "code",
   "execution_count": 24,
   "id": "05723585-a77f-46ba-8b9e-5f469ed8a4b4",
   "metadata": {},
   "outputs": [
    {
     "ename": "AttributeError",
     "evalue": "module 'keyword' has no attribute 'keylist'",
     "output_type": "error",
     "traceback": [
      "\u001b[1;31m---------------------------------------------------------------------------\u001b[0m",
      "\u001b[1;31mAttributeError\u001b[0m                            Traceback (most recent call last)",
      "Cell \u001b[1;32mIn[24], line 1\u001b[0m\n\u001b[1;32m----> 1\u001b[0m \u001b[38;5;28mprint\u001b[39m(keyword\u001b[38;5;241m.\u001b[39mkeylist)\n",
      "\u001b[1;31mAttributeError\u001b[0m: module 'keyword' has no attribute 'keylist'"
     ]
    }
   ],
   "source": [
    "print(keyword.keylist)"
   ]
  },
  {
   "cell_type": "code",
   "execution_count": 23,
   "id": "e709ef23-e530-433e-a49a-bd6d74afb599",
   "metadata": {},
   "outputs": [],
   "source": [
    "import keyword"
   ]
  },
  {
   "cell_type": "code",
   "execution_count": 25,
   "id": "190e0ef9-458e-494f-940b-2e4f9a1db446",
   "metadata": {},
   "outputs": [
    {
     "ename": "AttributeError",
     "evalue": "module 'keyword' has no attribute 'keylist'",
     "output_type": "error",
     "traceback": [
      "\u001b[1;31m---------------------------------------------------------------------------\u001b[0m",
      "\u001b[1;31mAttributeError\u001b[0m                            Traceback (most recent call last)",
      "Cell \u001b[1;32mIn[25], line 1\u001b[0m\n\u001b[1;32m----> 1\u001b[0m \u001b[38;5;28mprint\u001b[39m(keyword\u001b[38;5;241m.\u001b[39mkeylist)\n",
      "\u001b[1;31mAttributeError\u001b[0m: module 'keyword' has no attribute 'keylist'"
     ]
    }
   ],
   "source": [
    "print(keyword.keylist)"
   ]
  },
  {
   "cell_type": "code",
   "execution_count": 26,
   "id": "e371eb6a-72c7-48d7-9f66-116b204164e4",
   "metadata": {},
   "outputs": [
    {
     "name": "stdout",
     "output_type": "stream",
     "text": [
      "['False', 'None', 'True', 'and', 'as', 'assert', 'async', 'await', 'break', 'class', 'continue', 'def', 'del', 'elif', 'else', 'except', 'finally', 'for', 'from', 'global', 'if', 'import', 'in', 'is', 'lambda', 'nonlocal', 'not', 'or', 'pass', 'raise', 'return', 'try', 'while', 'with', 'yield']\n"
     ]
    }
   ],
   "source": [
    "print(keyword.kwlist)"
   ]
  },
  {
   "cell_type": "code",
   "execution_count": 27,
   "id": "1b63b293-9625-45ae-8195-906d6655d32a",
   "metadata": {},
   "outputs": [
    {
     "ename": "ModuleNotFoundError",
     "evalue": "No module named 'match'",
     "output_type": "error",
     "traceback": [
      "\u001b[1;31m---------------------------------------------------------------------------\u001b[0m",
      "\u001b[1;31mModuleNotFoundError\u001b[0m                       Traceback (most recent call last)",
      "Cell \u001b[1;32mIn[27], line 1\u001b[0m\n\u001b[1;32m----> 1\u001b[0m \u001b[38;5;28;01mimport\u001b[39;00m \u001b[38;5;21;01mmatch\u001b[39;00m\n\u001b[0;32m      2\u001b[0m \u001b[38;5;28mprint\u001b[39m(math\u001b[38;5;241m.\u001b[39mfactorial(\u001b[38;5;241m5\u001b[39m))\n",
      "\u001b[1;31mModuleNotFoundError\u001b[0m: No module named 'match'"
     ]
    }
   ],
   "source": [
    "import match\n",
    "print(math.factorial(5))"
   ]
  },
  {
   "cell_type": "code",
   "execution_count": 28,
   "id": "3553f902-5d4b-48df-95b5-a650359de946",
   "metadata": {},
   "outputs": [
    {
     "name": "stdout",
     "output_type": "stream",
     "text": [
      "120\n"
     ]
    }
   ],
   "source": [
    "import math\n",
    "print(math.factorial(5))"
   ]
  },
  {
   "cell_type": "markdown",
   "id": "29ee0b36-2cba-457b-a8c2-2f2e1d5afad1",
   "metadata": {},
   "source": [
    "Indentation \n",
    "Error Exception"
   ]
  },
  {
   "cell_type": "code",
   "execution_count": 29,
   "id": "ee0abb0a-3876-47be-8316-d89923a1fc83",
   "metadata": {},
   "outputs": [
    {
     "name": "stdout",
     "output_type": "stream",
     "text": [
      "On\n",
      "off\n",
      "1\n"
     ]
    }
   ],
   "source": [
    "sensor=1\n",
    "if sensor==1:\n",
    "    print('On')\n",
    "    print('off')\n",
    "else:\n",
    "    print('off')\n",
    "    print('On')\n",
    "print(sensor)"
   ]
  },
  {
   "cell_type": "code",
   "execution_count": 30,
   "id": "2ce2e32a-7b3f-4da6-ba7b-5d1a58d75577",
   "metadata": {},
   "outputs": [
    {
     "ename": "IndentationError",
     "evalue": "expected an indented block after 'if' statement on line 2 (3974864028.py, line 3)",
     "output_type": "error",
     "traceback": [
      "\u001b[1;36m  Cell \u001b[1;32mIn[30], line 3\u001b[1;36m\u001b[0m\n\u001b[1;33m    print('On')\u001b[0m\n\u001b[1;37m    ^\u001b[0m\n\u001b[1;31mIndentationError\u001b[0m\u001b[1;31m:\u001b[0m expected an indented block after 'if' statement on line 2\n"
     ]
    }
   ],
   "source": [
    "sensor=1\n",
    "if sensor==1:\n",
    "print('On')\n",
    "    print('off')\n",
    "else:\n",
    "    print('off')\n",
    "    print('On')\n",
    "print(sensor)"
   ]
  },
  {
   "cell_type": "code",
   "execution_count": 33,
   "id": "6a22aac0-80e0-4504-8549-5d6adc821fbe",
   "metadata": {},
   "outputs": [
    {
     "name": "stdout",
     "output_type": "stream",
     "text": [
      "error resolved\n",
      "On\n",
      "1\n"
     ]
    }
   ],
   "source": [
    "sensor=1\n",
    "if sensor == 2:\n",
    "    print('On')\n",
    "    print('off')\n",
    "else:\n",
    "    print('error resolved')\n",
    "    print('On')\n",
    "print(sensor)"
   ]
  },
  {
   "cell_type": "code",
   "execution_count": 34,
   "id": "251f00c7-72f8-4c20-b29f-e25ed99de0db",
   "metadata": {},
   "outputs": [
    {
     "ename": "SyntaxError",
     "evalue": "expected ':' (690625339.py, line 2)",
     "output_type": "error",
     "traceback": [
      "\u001b[1;36m  Cell \u001b[1;32mIn[34], line 2\u001b[1;36m\u001b[0m\n\u001b[1;33m    if sensor == 2\u001b[0m\n\u001b[1;37m                  ^\u001b[0m\n\u001b[1;31mSyntaxError\u001b[0m\u001b[1;31m:\u001b[0m expected ':'\n"
     ]
    }
   ],
   "source": [
    "sensor=1\n",
    "if sensor == 2\n",
    " print('On')\n",
    "    print('off')\n",
    "else:\n",
    "    print('error resolved')\n",
    "    print('On')\n",
    "print(sensor)"
   ]
  },
  {
   "cell_type": "code",
   "execution_count": 35,
   "id": "c96cf84b-f4be-4cf4-b443-9f239c19ff86",
   "metadata": {},
   "outputs": [
    {
     "ename": "SyntaxError",
     "evalue": "invalid syntax. Perhaps you forgot a comma? (4575937.py, line 3)",
     "output_type": "error",
     "traceback": [
      "\u001b[1;36m  Cell \u001b[1;32mIn[35], line 3\u001b[1;36m\u001b[0m\n\u001b[1;33m    print('On')\u001b[0m\n\u001b[1;37m    ^\u001b[0m\n\u001b[1;31mSyntaxError\u001b[0m\u001b[1;31m:\u001b[0m invalid syntax. Perhaps you forgot a comma?\n"
     ]
    }
   ],
   "source": [
    "sensor=1\n",
    "if sensor == 2{\n",
    " print('On')\n",
    "    print('off')}\n",
    "else:\n",
    "    print('error resolved')\n",
    "    print('On')\n",
    "print(sensor)"
   ]
  },
  {
   "cell_type": "code",
   "execution_count": 36,
   "id": "a0fef9ee-9828-4506-9663-2b2ecb5b8f9c",
   "metadata": {},
   "outputs": [
    {
     "name": "stdout",
     "output_type": "stream",
     "text": [
      "55 55 55\n"
     ]
    }
   ],
   "source": [
    "a=b=c=55\n",
    "c"
   ]
  },
  {
   "cell_type": "code",
   "execution_count": 37,
   "id": "ee5cc30e-137d-4d7e-a292-c45c3779cd63",
   "metadata": {},
   "outputs": [
    {
     "name": "stdout",
     "output_type": "stream",
     "text": [
      "1 2 3\n"
     ]
    }
   ],
   "source": [
    "a,b,c=1,2,3\n",
    "print(a,b,c)"
   ]
  },
  {
   "cell_type": "code",
   "execution_count": 39,
   "id": "8d805b89-b4bb-4bde-b7b5-0d78be257504",
   "metadata": {},
   "outputs": [
    {
     "name": "stdout",
     "output_type": "stream",
     "text": [
      "1 2 yy\n"
     ]
    }
   ],
   "source": [
    "a,b,c=1,2,'yy'\n",
    "print(a,b,c)"
   ]
  },
  {
   "cell_type": "markdown",
   "id": "61c5e39d-66b0-48b8-bc4b-77389cba0c84",
   "metadata": {},
   "source": [
    "positional mapping"
   ]
  },
  {
   "cell_type": "markdown",
   "id": "ad93bc14-4cee-4771-9f66-8216a770ed9f",
   "metadata": {},
   "source": [
    "data type is realized dynamically⬆⬆⬆⬆⬆⬆"
   ]
  },
  {
   "cell_type": "code",
   "execution_count": 40,
   "id": "0bddd11d-cdc4-46aa-a0e8-28c88049fc31",
   "metadata": {},
   "outputs": [
    {
     "name": "stdout",
     "output_type": "stream",
     "text": [
      "<class 'int'>\n"
     ]
    }
   ],
   "source": [
    "print(type(a))"
   ]
  },
  {
   "cell_type": "code",
   "execution_count": 41,
   "id": "28267be2-5b59-486d-b9a8-db5a1c349053",
   "metadata": {},
   "outputs": [
    {
     "name": "stdout",
     "output_type": "stream",
     "text": [
      "140727859034552\n"
     ]
    }
   ],
   "source": [
    "print(id(a))"
   ]
  },
  {
   "cell_type": "markdown",
   "id": "7d921194-68e7-4076-8afd-bd1812b5d0e4",
   "metadata": {},
   "source": [
    "no contract between variable and memory"
   ]
  },
  {
   "cell_type": "markdown",
   "id": "7b0fd5ab-0240-4f79-9957-bc3f54952cc5",
   "metadata": {},
   "source": [
    "try using max local variables in python not global"
   ]
  },
  {
   "cell_type": "markdown",
   "id": "7480beaf-c105-4e5a-a0ca-b75f3fa9114f",
   "metadata": {},
   "source": [
    "A tuple in Python is an ordered, immutable collection of items. Tuples are similar to lists, but unlike lists, the elements of a tuple cannot be changed after the tuple is created. Tuples are often used to store heterogeneous data (data of different types) and can also be used as keys in dictionaries,\n"
   ]
  },
  {
   "cell_type": "code",
   "execution_count": 42,
   "id": "0613e73c-f872-46ec-969f-4e76d719bc58",
   "metadata": {},
   "outputs": [
    {
     "ename": "NameError",
     "evalue": "name 'mytuple' is not defined",
     "output_type": "error",
     "traceback": [
      "\u001b[1;31m---------------------------------------------------------------------------\u001b[0m",
      "\u001b[1;31mNameError\u001b[0m                                 Traceback (most recent call last)",
      "Cell \u001b[1;32mIn[42], line 1\u001b[0m\n\u001b[1;32m----> 1\u001b[0m mytuple(\u001b[38;5;241m123\u001b[39m,\u001b[38;5;124m\"\u001b[39m\u001b[38;5;124mDataSciences\u001b[39m\u001b[38;5;124m\"\u001b[39m); myList[\u001b[38;5;241m1\u001b[39m,\u001b[38;5;124m\"\u001b[39m\u001b[38;5;124m2\u001b[39m\u001b[38;5;124m\"\u001b[39m,\u001b[38;5;241m6\u001b[39m]\n\u001b[0;32m      2\u001b[0m \u001b[38;5;28mprint\u001b[39m(mylist)\n",
      "\u001b[1;31mNameError\u001b[0m: name 'mytuple' is not defined"
     ]
    }
   ],
   "source": [
    "mytuple(123,\"DataSciences\"); myList[1,\"2\",6]\n",
    "print(mylist)"
   ]
  },
  {
   "cell_type": "code",
   "execution_count": 43,
   "id": "ea7090fd-5fd7-4ec3-a313-28fbc99e4e64",
   "metadata": {},
   "outputs": [
    {
     "ename": "NameError",
     "evalue": "name 'mylist' is not defined",
     "output_type": "error",
     "traceback": [
      "\u001b[1;31m---------------------------------------------------------------------------\u001b[0m",
      "\u001b[1;31mNameError\u001b[0m                                 Traceback (most recent call last)",
      "Cell \u001b[1;32mIn[43], line 2\u001b[0m\n\u001b[0;32m      1\u001b[0m mytuple\u001b[38;5;241m=\u001b[39m(\u001b[38;5;241m123\u001b[39m,\u001b[38;5;124m\"\u001b[39m\u001b[38;5;124mDataSciences\u001b[39m\u001b[38;5;124m\"\u001b[39m); myList\u001b[38;5;241m=\u001b[39m[\u001b[38;5;241m1\u001b[39m,\u001b[38;5;124m\"\u001b[39m\u001b[38;5;124m2\u001b[39m\u001b[38;5;124m\"\u001b[39m,\u001b[38;5;241m6\u001b[39m]\n\u001b[1;32m----> 2\u001b[0m \u001b[38;5;28mprint\u001b[39m(mylist)\n",
      "\u001b[1;31mNameError\u001b[0m: name 'mylist' is not defined"
     ]
    }
   ],
   "source": [
    "mytuple=(123,\"DataSciences\"); myList=[1,\"2\",6]\n",
    "print(mylist)"
   ]
  },
  {
   "cell_type": "code",
   "execution_count": 44,
   "id": "fe09cef9-b75f-4626-afbc-3ab51afffd8c",
   "metadata": {},
   "outputs": [
    {
     "name": "stdout",
     "output_type": "stream",
     "text": [
      "[1, '2', 6]\n"
     ]
    }
   ],
   "source": [
    "mytuple=(123,\"DataSciences\"); myList=[1,\"2\",6]\n",
    "print(myList)"
   ]
  },
  {
   "cell_type": "code",
   "execution_count": 45,
   "id": "f0550ed6-8c36-42c0-b888-9ce4245da4e4",
   "metadata": {},
   "outputs": [
    {
     "name": "stdout",
     "output_type": "stream",
     "text": [
      "[1, 25, 6]\n"
     ]
    }
   ],
   "source": [
    "myList[1] = 25\n",
    "print(myList)"
   ]
  },
  {
   "cell_type": "markdown",
   "id": "95bfa6bf-32cd-48b9-a066-444de9f662ae",
   "metadata": {},
   "source": [
    " lists are mutable, meaning you can modify their contents (add, remove, or change elements)"
   ]
  },
  {
   "cell_type": "code",
   "execution_count": 47,
   "id": "2693ccd6-4b20-41f7-b8e4-090e0e207b22",
   "metadata": {},
   "outputs": [
    {
     "name": "stdout",
     "output_type": "stream",
     "text": [
      "123\n"
     ]
    }
   ],
   "source": [
    "print(mytuple[0])"
   ]
  },
  {
   "cell_type": "code",
   "execution_count": 49,
   "id": "ae18736c-bede-45c3-8605-f0df39022afd",
   "metadata": {},
   "outputs": [
    {
     "name": "stdout",
     "output_type": "stream",
     "text": [
      "1 1 2\n",
      "None\n"
     ]
    }
   ],
   "source": [
    "def myFunctionOne(param0,param1):\n",
    "    output=param0+param1\n",
    "    print(param0,param1,output)\n",
    "\n",
    "print(myFunctionOne(1,1));"
   ]
  },
  {
   "cell_type": "code",
   "execution_count": 2,
   "id": "bda41f27-2067-4f52-b527-eb1ddffa6eeb",
   "metadata": {},
   "outputs": [
    {
     "name": "stdout",
     "output_type": "stream",
     "text": [
      "7 10\n"
     ]
    }
   ],
   "source": [
    "def myFunctionOne(param0,param1):\n",
    "    output=param0+param1\n",
    "    output0=param0*param1\n",
    "    return output,output0\n",
    "\n",
    "s1,d1=myFunctionOne(2,5);print(s1,d1)\n"
   ]
  },
  {
   "cell_type": "code",
   "execution_count": 5,
   "id": "304883db-5348-4f95-a794-11c77f1a5d98",
   "metadata": {},
   "outputs": [
    {
     "name": "stdout",
     "output_type": "stream",
     "text": [
      "0.4 10\n"
     ]
    }
   ],
   "source": [
    "def myFunctionOne(param0,param1):\n",
    "    output=param0/param1\n",
    "    output0=param0*param1\n",
    "    return output,output0\n",
    "\n",
    "s1,d1=myFunctionOne(2,5);print(s1,d1)\n"
   ]
  },
  {
   "cell_type": "code",
   "execution_count": 6,
   "id": "aa6047f0-e571-48a4-8314-ca0a9390d887",
   "metadata": {},
   "outputs": [
    {
     "name": "stdout",
     "output_type": "stream",
     "text": [
      "{1, 2, 4, 5, 6}\n",
      "{1, 2, 3, 4, 5}\n"
     ]
    }
   ],
   "source": [
    "# Example of a set\n",
    "my_set = {1, 2, 3, 4, 5}\n",
    "\n",
    "# Adding an element to the set\n",
    "my_set.add(6)\n",
    "\n",
    "# Removing an element from the set\n",
    "my_set.remove(3)\n",
    "\n",
    "print(my_set)  # Output: {1, 2, 4, 5, 6}\n",
    "\n",
    "# Creating a set from a list to remove duplicates\n",
    "list_with_duplicates = [1, 2, 2, 3, 4, 4, 5]\n",
    "unique_set = set(list_with_duplicates)\n",
    "\n",
    "print(unique_set)  # Output: {1, 2, 3, 4, 5}\n"
   ]
  },
  {
   "cell_type": "code",
   "execution_count": 7,
   "id": "a5c2f4e4-3127-46ac-958d-e8a51f416093",
   "metadata": {},
   "outputs": [
    {
     "name": "stdout",
     "output_type": "stream",
     "text": [
      "Alice\n",
      "{'name': 'Alice', 'age': 30, 'city': 'New York', 'profession': 'Engineer'}\n"
     ]
    }
   ],
   "source": [
    "# Example of a dictionary\n",
    "person = {\n",
    "    \"name\": \"Alice\",\n",
    "    \"age\": 30,\n",
    "    \"city\": \"New York\"\n",
    "}\n",
    "\n",
    "# Accessing a value by key\n",
    "print(person[\"name\"])  # Output: Alice\n",
    "\n",
    "# Adding a new key-value pair\n",
    "person[\"profession\"] = \"Engineer\"\n",
    "\n",
    "print(person)\n",
    "# Output: {'name': 'Alice', 'age': 30, 'city': 'New York', 'profession': 'Engineer'}\n"
   ]
  },
  {
   "cell_type": "code",
   "execution_count": 24,
   "id": "98c59283-405d-4072-aa7c-921ab64ffc31",
   "metadata": {},
   "outputs": [
    {
     "name": "stdout",
     "output_type": "stream",
     "text": [
      "[{'name': 'Alice', 'age': 30, 'city': 'New York', 'profession': 'Engineer'}, {'name': '0', 'age': 1, 'city': '0', 'profession': 'Engg0'}, {'name': '1', 'age': 2, 'city': '2', 'profession': 'Engg1'}, {'name': '2', 'age': 3, 'city': '4', 'profession': 'Engg2'}, {'name': '3', 'age': 4, 'city': '6', 'profession': 'Engg3'}, {'name': '4', 'age': 5, 'city': '8', 'profession': 'Engg4'}]\n"
     ]
    }
   ],
   "source": [
    "person={'name': 'Alice', 'age': 30, 'city': 'New York', 'profession': 'Engineer'}\n",
    "person_list=[];\n",
    "person_list.append(person)\n",
    "for i in range(5):\n",
    "    \n",
    "    people = {\n",
    "        \"name\": str(i),\n",
    "        \"age\": i+1,\n",
    "        \"city\": str(i+i),\n",
    "        \"profession\": 'Engg'+str(i)\n",
    "    }\n",
    "    person_list.append(people) \n",
    "print(person_list)"
   ]
  },
  {
   "cell_type": "code",
   "execution_count": 25,
   "id": "6ea52900-a407-4177-8c3c-33cd7bb0ecae",
   "metadata": {},
   "outputs": [
    {
     "data": {
      "text/plain": [
       "[{'name': 'Alice', 'age': 30, 'city': 'New York', 'profession': 'Engineer'},\n",
       " {'name': '0', 'age': 1, 'city': '0', 'profession': 'Engg0'},\n",
       " {'name': '1', 'age': 2, 'city': '2', 'profession': 'Engg1'},\n",
       " {'name': '2', 'age': 3, 'city': '4', 'profession': 'Engg2'},\n",
       " {'name': '3', 'age': 4, 'city': '6', 'profession': 'Engg3'},\n",
       " {'name': '4', 'age': 5, 'city': '8', 'profession': 'Engg4'}]"
      ]
     },
     "execution_count": 25,
     "metadata": {},
     "output_type": "execute_result"
    }
   ],
   "source": [
    "person_list\n"
   ]
  },
  {
   "cell_type": "code",
   "execution_count": null,
   "id": "5982e10c-087c-4261-9025-7c7622a7719f",
   "metadata": {},
   "outputs": [],
   "source": []
  },
  {
   "cell_type": "code",
   "execution_count": null,
   "id": "93f19ee3-0d0f-4eff-806a-bc58608c6c95",
   "metadata": {},
   "outputs": [],
   "source": []
  },
  {
   "cell_type": "code",
   "execution_count": null,
   "id": "72147d22-16a2-43fb-9de6-07496d7989b5",
   "metadata": {},
   "outputs": [],
   "source": []
  },
  {
   "cell_type": "code",
   "execution_count": null,
   "id": "b1840a02-dd22-45de-a453-aaec02de9bdc",
   "metadata": {},
   "outputs": [],
   "source": []
  },
  {
   "cell_type": "code",
   "execution_count": null,
   "id": "463dd83c-2972-4793-ab6c-1a2276791805",
   "metadata": {},
   "outputs": [],
   "source": []
  },
  {
   "cell_type": "code",
   "execution_count": null,
   "id": "9f212850-d837-459d-98c6-a29a7eaae15a",
   "metadata": {},
   "outputs": [],
   "source": []
  },
  {
   "cell_type": "code",
   "execution_count": null,
   "id": "b649231d-5739-46e0-874d-e70caf81035b",
   "metadata": {},
   "outputs": [],
   "source": []
  },
  {
   "cell_type": "code",
   "execution_count": 10,
   "id": "d1ab4289-c77d-4c07-ac98-c36708d44935",
   "metadata": {},
   "outputs": [
    {
     "data": {
      "text/plain": [
       "{'name': 'Alice', 'age': 30, 'city': 'New York', 'profession': 'Engineer'}"
      ]
     },
     "execution_count": 10,
     "metadata": {},
     "output_type": "execute_result"
    }
   ],
   "source": [
    "person"
   ]
  },
  {
   "cell_type": "code",
   "execution_count": 11,
   "id": "7166b131-3a09-4820-b246-36073f86079d",
   "metadata": {},
   "outputs": [
    {
     "name": "stdout",
     "output_type": "stream",
     "text": [
      "{'name': 'Alice', 'age': 30, 'city': 'New York', 'profession': 'Engineer'}\n"
     ]
    }
   ],
   "source": [
    "print(person)"
   ]
  },
  {
   "cell_type": "code",
   "execution_count": null,
   "id": "86a6aaa4-5d59-4f33-9690-5debc6fa5f21",
   "metadata": {},
   "outputs": [],
   "source": []
  },
  {
   "cell_type": "code",
   "execution_count": null,
   "id": "21a34cf9-d00e-4e91-b6d3-45dad514c34a",
   "metadata": {},
   "outputs": [],
   "source": []
  }
 ],
 "metadata": {
  "kernelspec": {
   "display_name": "Python 3 (ipykernel)",
   "language": "python",
   "name": "python3"
  },
  "language_info": {
   "codemirror_mode": {
    "name": "ipython",
    "version": 3
   },
   "file_extension": ".py",
   "mimetype": "text/x-python",
   "name": "python",
   "nbconvert_exporter": "python",
   "pygments_lexer": "ipython3",
   "version": "3.12.4"
  }
 },
 "nbformat": 4,
 "nbformat_minor": 5
}
