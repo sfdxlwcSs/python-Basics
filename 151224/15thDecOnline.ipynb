{
 "cells": [
  {
   "cell_type": "code",
   "execution_count": 73,
   "id": "72524774-52ad-4e73-b896-82b64e225126",
   "metadata": {},
   "outputs": [
    {
     "name": "stdout",
     "output_type": "stream",
     "text": [
      "(100, 202, 306, 412, 520, 630, 742, 856, 972, 1090, 1210, 1332, 1456, 1582, 1710, 1840, 1972, 2106, 2242, 2380, 2520, 2662, 2806, 2952, 3100, 3250, 3402, 3556, 3712, 3870, 4030, 4192, 4356, 4522, 4690, 4860, 5032, 5206, 5382, 5560, 5740, 5922, 6106, 6292, 6480, 6670, 6862, 7056, 7252, 7450, 7650, 7852, 8056, 8262, 8470, 8680, 8892, 9106, 9322, 9540, 9760, 9982, 10206, 10432, 10660, 10890, 11122, 11356, 11592, 11830, 12070, 12312, 12556, 12802, 13050, 13300, 13552, 13806, 14062, 14320, 14580, 14842, 15106, 15372, 15640, 15910, 16182, 16456, 16732, 17010, 17290, 17572, 17856, 18142, 18430, 18720, 19012, 19306, 19602, 19900, 20200, 20502, 20806, 21112, 21420, 21730, 22042, 22356, 22672, 22990, 23310, 23632, 23956, 24282, 24610, 24940, 25272, 25606, 25942, 26280, 26620, 26962, 27306, 27652, 28000, 28350, 28702, 29056, 29412, 29770, 30130, 30492, 30856, 31222, 31590, 31960, 32332, 32706, 33082, 33460, 33840, 34222, 34606, 34992, 35380, 35770, 36162, 36556, 36952, 37350, 37750)\n",
      "🚀🚀🚀🚀🚀🚀🚀\n",
      "(100, 102, 104, 106, 108, 110, 112, 114, 116, 118, 120, 122, 124, 126, 128, 130, 132, 134, 136, 138, 140, 142, 144, 146, 148, 150, 152, 154, 156, 158, 160, 162, 164, 166, 168, 170, 172, 174, 176, 178, 180, 182, 184, 186, 188, 190, 192, 194, 196, 198, 200, 202, 204, 206, 208, 210, 212, 214, 216, 218, 220, 222, 224, 226, 228, 230, 232, 234, 236, 238, 240, 242, 244, 246, 248, 250, 252, 254, 256, 258, 260, 262, 264, 266, 268, 270, 272, 274, 276, 278, 280, 282, 284, 286, 288, 290, 292, 294, 296, 298, 300, 302, 304, 306, 308, 310, 312, 314, 316, 318, 320, 322, 324, 326, 328, 330, 332, 334, 336, 338, 340, 342, 344, 346, 348, 350, 352, 354, 356, 358, 360, 362, 364, 366, 368, 370, 372, 374, 376, 378, 380, 382, 384, 386, 388, 390, 392, 394, 396, 398, 400)\n"
     ]
    }
   ],
   "source": [
    "from itertools import accumulate\n",
    "\n",
    "# Filter the range for even numbers and compute cumulative sums\n",
    "out = tuple(accumulate(filter(lambda x: x % 2 == 0, range(100, 401))))\n",
    "print(out)\n",
    "print('🚀🚀🚀🚀🚀🚀🚀')\n",
    "out2 = tuple(filter(lambda x: x % 2 == 0, range(100, 401)))\n",
    "print(out2) #even no in range"
   ]
  },
  {
   "cell_type": "code",
   "execution_count": 13,
   "id": "4756e0fa-a2cb-4a70-ae86-8a7b9027b805",
   "metadata": {},
   "outputs": [
    {
     "ename": "ValueError",
     "evalue": "substring not found",
     "output_type": "error",
     "traceback": [
      "\u001b[1;31m---------------------------------------------------------------------------\u001b[0m",
      "\u001b[1;31mValueError\u001b[0m                                Traceback (most recent call last)",
      "Cell \u001b[1;32mIn[13], line 2\u001b[0m\n\u001b[0;32m      1\u001b[0m s\u001b[38;5;241m=\u001b[39m\u001b[38;5;124m'\u001b[39m\u001b[38;5;124mtexte\u001b[39m\u001b[38;5;124m'\u001b[39m\n\u001b[1;32m----> 2\u001b[0m \u001b[43ms\u001b[49m\u001b[38;5;241;43m.\u001b[39;49m\u001b[43mindex\u001b[49m\u001b[43m(\u001b[49m\u001b[38;5;124;43m'\u001b[39;49m\u001b[38;5;124;43ml\u001b[39;49m\u001b[38;5;124;43m'\u001b[39;49m\u001b[43m)\u001b[49m \u001b[38;5;66;03m#if not found will give an error\u001b[39;00m\n",
      "\u001b[1;31mValueError\u001b[0m: substring not found"
     ]
    }
   ],
   "source": [
    "s='texte'\n",
    "s.index('l') #if not found will give an error\n"
   ]
  },
  {
   "cell_type": "code",
   "execution_count": 5,
   "id": "e5236e3a-f019-4064-8abb-347c55b35668",
   "metadata": {},
   "outputs": [
    {
     "data": {
      "text/plain": [
       "-1"
      ]
     },
     "execution_count": 5,
     "metadata": {},
     "output_type": "execute_result"
    }
   ],
   "source": [
    "s.find('l')"
   ]
  },
  {
   "cell_type": "code",
   "execution_count": 11,
   "id": "902f3a0c-3e3d-493b-8e40-ef4de39915dc",
   "metadata": {},
   "outputs": [
    {
     "data": {
      "text/plain": [
       "4"
      ]
     },
     "execution_count": 11,
     "metadata": {},
     "output_type": "execute_result"
    }
   ],
   "source": [
    "s.rindex('e') #lastIndex of e"
   ]
  },
  {
   "cell_type": "code",
   "execution_count": 27,
   "id": "328598f1-1fe8-4197-80ec-1c4fe65c4ccb",
   "metadata": {},
   "outputs": [],
   "source": [
    "\n",
    "s=set()\n",
    "type(s)\n",
    "l=()#Tuple\n",
    "X={} #dictionary\n"
   ]
  },
  {
   "cell_type": "code",
   "execution_count": 25,
   "id": "9a14505c-5c91-4462-b9ce-86b108be037d",
   "metadata": {},
   "outputs": [
    {
     "name": "stdout",
     "output_type": "stream",
     "text": [
      "[2, 4, 6, 8]\n"
     ]
    }
   ],
   "source": [
    "lst = [1, 2, 3, 4, 5, 6, 7, 8]\n",
    "even = list(filter(lambda x: x % 2 == 0, lst))\n",
    "print(even)  # Output: [2, 4, 6, 8]"
   ]
  },
  {
   "cell_type": "markdown",
   "id": "556c351a-e46c-4b67-8e63-ca0fa8c9cb13",
   "metadata": {},
   "source": [
    "One way to solve math equations is by trial and error. Computers can help with that. The equation 21𝑥2−𝑥3+21904=021x2−x3+21904=0 has an integer solution between 1 and 100. Print that x value which satisfies this equation (5 Marks)\r",
    "In [ ]:\r",
    "​\n"
   ]
  },
  {
   "cell_type": "code",
   "execution_count": 46,
   "id": "4d9563e5-3a6a-48d7-9d34-c67c053e08ce",
   "metadata": {},
   "outputs": [
    {
     "name": "stdout",
     "output_type": "stream",
     "text": [
      "37\n"
     ]
    }
   ],
   "source": [
    " for x in range(1, 101):\n",
    "     if 21 * x**2 - x**3 + 21904 == 0:\n",
    "         print(x)\n",
    "         break  \n",
    "     \n",
    "     "
   ]
  },
  {
   "cell_type": "markdown",
   "id": "bece621b-4b16-45d3-9abf-d09b83c95319",
   "metadata": {},
   "source": [
    "Use the built-in random module and a for loop to generate 40 random numbers between -50 and 50 then\r",
    "display a list of only the negative numbers rounded to two decimal places. The program should also count the number of negative numbers and display the count."
   ]
  },
  {
   "cell_type": "code",
   "execution_count": 56,
   "id": "7dc4c8a2-75bd-4b83-894a-c029b97b0ef3",
   "metadata": {},
   "outputs": [
    {
     "data": {
      "text/plain": [
       "[1, 4, 9, 16, 25, 36, 49, 64, 81, 100]"
      ]
     },
     "execution_count": 56,
     "metadata": {},
     "output_type": "execute_result"
    }
   ],
   "source": [
    "# Write a program to print the sum of squares of first 10 natural numbers using lambda, map and reduce.(3 marks)\n",
    "lst=[]\n",
    "for x in range(1, 11):\n",
    "     lst.append(x*x)\n",
    "lst\n",
    "    "
   ]
  },
  {
   "cell_type": "markdown",
   "id": "19f35b61-a628-4233-82ff-92e23e0c2d84",
   "metadata": {},
   "source": [
    "Write a Python program to find numbers between 100 and 400 (both included) where each digit of a number is an even number. The numbers obtained should be printed in a comma-separated sequence. ( 5 marks )"
   ]
  },
  {
   "cell_type": "code",
   "execution_count": null,
   "id": "e25924c9-1bfe-4008-8f33-dd1ee150ed39",
   "metadata": {},
   "outputs": [],
   "source": [
    "# list_name = ['Ann', 'Pat', 'David','Tisha','Sumantha']\n",
    "# 1. Create a list with values equal to the length of each string\n",
    "# 2. Create a list with the names of length less than 5\n",
    "# 3. Create a dictionary with strings as key and length of the string as values\n",
    "# 4. Sort the list with respect to the length of the string keeping the largest string at the first position\n",
    "# 5. Find the most occurring character throughout the list"
   ]
  }
 ],
 "metadata": {
  "kernelspec": {
   "display_name": "Python 3 (ipykernel)",
   "language": "python",
   "name": "python3"
  },
  "language_info": {
   "codemirror_mode": {
    "name": "ipython",
    "version": 3
   },
   "file_extension": ".py",
   "mimetype": "text/x-python",
   "name": "python",
   "nbconvert_exporter": "python",
   "pygments_lexer": "ipython3",
   "version": "3.12.4"
  }
 },
 "nbformat": 4,
 "nbformat_minor": 5
}
