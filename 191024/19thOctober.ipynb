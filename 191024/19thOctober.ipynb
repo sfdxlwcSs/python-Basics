{
 "cells": [
  {
   "cell_type": "markdown",
   "id": "c02e7ac8-6bfd-4441-8bcf-57bf6d23bc86",
   "metadata": {},
   "source": [
    "<b style=\"color:red;\">List comprehensions</b>\n",
    "<h1 size=4> list_comp = [expression for item in iterable if condition] **Please note condition you cannot use if else</h1>\n"
   ]
  },
  {
   "cell_type": "code",
   "execution_count": 16,
   "id": "2a33042e-cda9-4ba7-9b18-3deae7ec6353",
   "metadata": {},
   "outputs": [
    {
     "name": "stdout",
     "output_type": "stream",
     "text": [
      "range [1, 2, 3, 4, 5]\n",
      "num_squares [4, 16]\n",
      "num [9, 16, 25]\n",
      "merged_List [4, 16, 9, 16, 25]\n",
      "🚀🚀allListEven [4, 16, 16]\n"
     ]
    }
   ],
   "source": [
    "input_list=[]\n",
    "for i in range(1,6):\n",
    "    input_list.append(i)\n",
    "print('range',input_list)\n",
    "# print only even number squares in a list\n",
    "num_squares=[i*i for i in range(1,6) if i%2==0]\n",
    "num_squares2=[i**2 for i in range(1,7) if i%2==0 and i==6] #note the difference\n",
    "num_squares3=[i**2 for i in range(1,7) if i%2!=0  if i==3] #note the difference  print a number which is odd and ==3\n",
    "num=[i*i for i in range(1,6) if i>2 and i<6]\n",
    "num2=[i*4 if i==5 else i*2 for i in range(1,6)]\n",
    "#combine two list\n",
    "allList=[item for sublist in [num_squares,num] for item in sublist ]\n",
    "allListEven=[item for sublist in [num_squares,num] for item in sublist if item%2==0 ]\n",
    "print('num_squares',num_squares)\n",
    "print('num',num)\n",
    "print('merged_List',allList)\n",
    "print('🚀🚀allListEven',allListEven)"
   ]
  },
  {
   "cell_type": "code",
   "execution_count": 17,
   "id": "1a105f67-3e14-406e-bb95-6b138737162f",
   "metadata": {},
   "outputs": [
    {
     "name": "stdout",
     "output_type": "stream",
     "text": [
      "[2, 4, 6, 8, 20]\n",
      "[36]\n",
      "[9]\n"
     ]
    }
   ],
   "source": [
    "print(num2)\n",
    "print(num_squares2)\n",
    "print(num_squares3)"
   ]
  },
  {
   "cell_type": "code",
   "execution_count": 22,
   "id": "e34d09e0-0df9-4282-97f7-f2513fff4cd9",
   "metadata": {},
   "outputs": [],
   "source": [
    "strings=[\"Welcome\",\"to\",'India']\n",
    "to_upper=[i.upper() for i in strings]"
   ]
  },
  {
   "cell_type": "code",
   "execution_count": 23,
   "id": "56055413-a787-4f2d-b6cf-709f3aff738c",
   "metadata": {},
   "outputs": [
    {
     "data": {
      "text/plain": [
       "['WELCOME', 'TO', 'INDIA']"
      ]
     },
     "execution_count": 23,
     "metadata": {},
     "output_type": "execute_result"
    }
   ],
   "source": [
    "to_upper"
   ]
  },
  {
   "cell_type": "code",
   "execution_count": 27,
   "id": "7781b17d-855d-4060-987a-79d8cc8997d7",
   "metadata": {},
   "outputs": [],
   "source": [
    "# Iteration over more than one iterable in a list using list comprehension\n",
    "combined=[(x,y) for x in to_upper for y in num_squares]\n"
   ]
  },
  {
   "cell_type": "code",
   "execution_count": 28,
   "id": "ee87a06a-a91a-4535-b1a7-3ae54e199854",
   "metadata": {},
   "outputs": [
    {
     "data": {
      "text/plain": [
       "[('WELCOME', 4),\n",
       " ('WELCOME', 16),\n",
       " ('TO', 4),\n",
       " ('TO', 16),\n",
       " ('INDIA', 4),\n",
       " ('INDIA', 16)]"
      ]
     },
     "execution_count": 28,
     "metadata": {},
     "output_type": "execute_result"
    }
   ],
   "source": [
    "combined"
   ]
  },
  {
   "cell_type": "code",
   "execution_count": 74,
   "id": "c00780d3-02d7-4237-aca9-1453bd588a02",
   "metadata": {},
   "outputs": [
    {
     "name": "stdout",
     "output_type": "stream",
     "text": [
      "['a', 'b', 'c']\n",
      "[1, 2, 3]\n",
      "[('a', 1), ('b', 2), ('c', 3)]\n",
      "[('b', 2), ('c', 3)]\n",
      "[1, 4, 9]\n",
      "{'a': 1, 'b': 4, 'c': 9}\n"
     ]
    }
   ],
   "source": [
    "# Example dictionary\n",
    "my_dict = {'a': 1, 'b': 2, 'c': 3}\n",
    "\n",
    "# List comprehension to extract keys\n",
    "keys_list = [key for key in my_dict]\n",
    "print(keys_list)  # Output: ['a', 'b', 'c']\n",
    "\n",
    "# List comprehension to extract values\n",
    "values_list = [value for value in my_dict.values()]\n",
    "print(values_list)  # Output: [1, 2, 3]\n",
    "\n",
    "# List comprehension to create a list of key-value tuples\n",
    "key_value_list = [(key, value) for key, value in my_dict.items()]\n",
    "print(key_value_list)  # Output: [('a', 1), ('b', 2), ('c', 3)]\n",
    "\n",
    "# List comprehension with filtering (only include values greater than 1)\n",
    "filtered_items = [(key, value) for key, value in my_dict.items() if value > 1]\n",
    "print(filtered_items)  # Output: [('b', 2), ('c', 3)]\n",
    "\n",
    "# List comprehension to square the dictionary values\n",
    "squared_values = [value**2 for value in my_dict.values()]\n",
    "print(squared_values)  # Output: [1, 4, 9]\n",
    "# Dictionary comprehension to create a new dictionary with squared values\n",
    "squared_dict = {key: value**2 for key, value in my_dict.items()}\n",
    "print(squared_dict)  # Output: {'a': 1, 'b': 4, 'c': 9}\n",
    "\n",
    "\n",
    "\n",
    "\n"
   ]
  },
  {
   "cell_type": "markdown",
   "id": "b02c14cd-2456-44e8-a992-7c81560ec767",
   "metadata": {},
   "source": [
    "Keyword Arguments"
   ]
  },
  {
   "cell_type": "code",
   "execution_count": 85,
   "id": "7f83a3db-e945-46fb-83fc-3f2c3c681d01",
   "metadata": {},
   "outputs": [
    {
     "name": "stdout",
     "output_type": "stream",
     "text": [
      "CTO Somnath Sharma\n"
     ]
    }
   ],
   "source": [
    "def employee(Name,Designation):\n",
    "    print(Designation,Name)\n",
    "employee(Designation=\"CTO\",Name=\"Somnath Sharma\")"
   ]
  },
  {
   "cell_type": "code",
   "execution_count": 29,
   "id": "acc67768-c0d7-432e-9737-b4ffec8f1dc8",
   "metadata": {},
   "outputs": [
    {
     "data": {
      "text/plain": [
       "6"
      ]
     },
     "execution_count": 29,
     "metadata": {},
     "output_type": "execute_result"
    }
   ],
   "source": [
    "elements=[1, 2, 3]\n",
    "sum(elements)"
   ]
  },
  {
   "cell_type": "code",
   "execution_count": 89,
   "id": "ebb910a9-a02b-4348-9ef2-3ae524706833",
   "metadata": {},
   "outputs": [
    {
     "data": {
      "text/plain": [
       "['In',\n",
       " 'Out',\n",
       " '_',\n",
       " '_1',\n",
       " '_10',\n",
       " '_12',\n",
       " '_13',\n",
       " '_14',\n",
       " '_16',\n",
       " '_17',\n",
       " '_18',\n",
       " '_2',\n",
       " '_20',\n",
       " '_21',\n",
       " '_22',\n",
       " '_24',\n",
       " '_26',\n",
       " '_27',\n",
       " '_28',\n",
       " '_3',\n",
       " '_30',\n",
       " '_32',\n",
       " '_33',\n",
       " '_34',\n",
       " '_36',\n",
       " '_37',\n",
       " '_38',\n",
       " '_4',\n",
       " '_40',\n",
       " '_42',\n",
       " '_44',\n",
       " '_45',\n",
       " '_46',\n",
       " '_48',\n",
       " '_50',\n",
       " '_51',\n",
       " '_52',\n",
       " '_53',\n",
       " '_55',\n",
       " '_57',\n",
       " '_59',\n",
       " '_6',\n",
       " '_60',\n",
       " '_61',\n",
       " '_62',\n",
       " '_63',\n",
       " '_65',\n",
       " '_67',\n",
       " '_69',\n",
       " '_71',\n",
       " '_73',\n",
       " '_75',\n",
       " '_76',\n",
       " '_78',\n",
       " '_8',\n",
       " '_80',\n",
       " '_82',\n",
       " '_84',\n",
       " '_86',\n",
       " '_87',\n",
       " '_88',\n",
       " '_9',\n",
       " '__',\n",
       " '___',\n",
       " '__builtin__',\n",
       " '__builtins__',\n",
       " '__doc__',\n",
       " '__loader__',\n",
       " '__name__',\n",
       " '__package__',\n",
       " '__pandas',\n",
       " '__session__',\n",
       " '__spec__',\n",
       " '_dh',\n",
       " '_i',\n",
       " '_i1',\n",
       " '_i10',\n",
       " '_i11',\n",
       " '_i12',\n",
       " '_i13',\n",
       " '_i14',\n",
       " '_i15',\n",
       " '_i16',\n",
       " '_i17',\n",
       " '_i18',\n",
       " '_i19',\n",
       " '_i2',\n",
       " '_i20',\n",
       " '_i21',\n",
       " '_i22',\n",
       " '_i23',\n",
       " '_i24',\n",
       " '_i25',\n",
       " '_i26',\n",
       " '_i27',\n",
       " '_i28',\n",
       " '_i29',\n",
       " '_i3',\n",
       " '_i30',\n",
       " '_i31',\n",
       " '_i32',\n",
       " '_i33',\n",
       " '_i34',\n",
       " '_i35',\n",
       " '_i36',\n",
       " '_i37',\n",
       " '_i38',\n",
       " '_i39',\n",
       " '_i4',\n",
       " '_i40',\n",
       " '_i41',\n",
       " '_i42',\n",
       " '_i43',\n",
       " '_i44',\n",
       " '_i45',\n",
       " '_i46',\n",
       " '_i47',\n",
       " '_i48',\n",
       " '_i49',\n",
       " '_i5',\n",
       " '_i50',\n",
       " '_i51',\n",
       " '_i52',\n",
       " '_i53',\n",
       " '_i54',\n",
       " '_i55',\n",
       " '_i56',\n",
       " '_i57',\n",
       " '_i58',\n",
       " '_i59',\n",
       " '_i6',\n",
       " '_i60',\n",
       " '_i61',\n",
       " '_i62',\n",
       " '_i63',\n",
       " '_i64',\n",
       " '_i65',\n",
       " '_i66',\n",
       " '_i67',\n",
       " '_i68',\n",
       " '_i69',\n",
       " '_i7',\n",
       " '_i70',\n",
       " '_i71',\n",
       " '_i72',\n",
       " '_i73',\n",
       " '_i74',\n",
       " '_i75',\n",
       " '_i76',\n",
       " '_i77',\n",
       " '_i78',\n",
       " '_i79',\n",
       " '_i8',\n",
       " '_i80',\n",
       " '_i81',\n",
       " '_i82',\n",
       " '_i83',\n",
       " '_i84',\n",
       " '_i85',\n",
       " '_i86',\n",
       " '_i87',\n",
       " '_i88',\n",
       " '_i89',\n",
       " '_i9',\n",
       " '_ih',\n",
       " '_ii',\n",
       " '_iii',\n",
       " '_oh',\n",
       " 'allList',\n",
       " 'combined',\n",
       " 'dataframe_columns',\n",
       " 'dataframe_hash',\n",
       " 'dtypes_str',\n",
       " 'elements',\n",
       " 'employee',\n",
       " 'exit',\n",
       " 'filtered_items',\n",
       " 'get_dataframes',\n",
       " 'get_ipython',\n",
       " 'getpass',\n",
       " 'hashlib',\n",
       " 'import_pandas_safely',\n",
       " 'is_data_frame',\n",
       " 'json',\n",
       " 'key_value_list',\n",
       " 'keys_list',\n",
       " 'my_dict',\n",
       " 'num',\n",
       " 'num2',\n",
       " 'num_squares',\n",
       " 'num_squares2',\n",
       " 'num_squares3',\n",
       " 'open',\n",
       " 'quit',\n",
       " 'squared_dict',\n",
       " 'squared_values',\n",
       " 'strings',\n",
       " 'to_upper',\n",
       " 'values_list']"
      ]
     },
     "execution_count": 89,
     "metadata": {},
     "output_type": "execute_result"
    }
   ],
   "source": [
    "dir()"
   ]
  },
  {
   "cell_type": "code",
   "execution_count": 93,
   "id": "c9e13c73-3996-4a0f-b1e3-36fa1d461191",
   "metadata": {},
   "outputs": [
    {
     "data": {
      "text/plain": [
       "['ArithmeticError',\n",
       " 'AssertionError',\n",
       " 'AttributeError',\n",
       " 'BaseException',\n",
       " 'BaseExceptionGroup',\n",
       " 'BlockingIOError',\n",
       " 'BrokenPipeError',\n",
       " 'BufferError',\n",
       " 'BytesWarning',\n",
       " 'ChildProcessError',\n",
       " 'ConnectionAbortedError',\n",
       " 'ConnectionError',\n",
       " 'ConnectionRefusedError',\n",
       " 'ConnectionResetError',\n",
       " 'DeprecationWarning',\n",
       " 'EOFError',\n",
       " 'Ellipsis',\n",
       " 'EncodingWarning',\n",
       " 'EnvironmentError',\n",
       " 'Exception',\n",
       " 'ExceptionGroup',\n",
       " 'False',\n",
       " 'FileExistsError',\n",
       " 'FileNotFoundError',\n",
       " 'FloatingPointError',\n",
       " 'FutureWarning',\n",
       " 'GeneratorExit',\n",
       " 'IOError',\n",
       " 'ImportError',\n",
       " 'ImportWarning',\n",
       " 'IndentationError',\n",
       " 'IndexError',\n",
       " 'InterruptedError',\n",
       " 'IsADirectoryError',\n",
       " 'KeyError',\n",
       " 'KeyboardInterrupt',\n",
       " 'LookupError',\n",
       " 'MemoryError',\n",
       " 'ModuleNotFoundError',\n",
       " 'NameError',\n",
       " 'None',\n",
       " 'NotADirectoryError',\n",
       " 'NotImplemented',\n",
       " 'NotImplementedError',\n",
       " 'OSError',\n",
       " 'OverflowError',\n",
       " 'PendingDeprecationWarning',\n",
       " 'PermissionError',\n",
       " 'ProcessLookupError',\n",
       " 'RecursionError',\n",
       " 'ReferenceError',\n",
       " 'ResourceWarning',\n",
       " 'RuntimeError',\n",
       " 'RuntimeWarning',\n",
       " 'StopAsyncIteration',\n",
       " 'StopIteration',\n",
       " 'SyntaxError',\n",
       " 'SyntaxWarning',\n",
       " 'SystemError',\n",
       " 'SystemExit',\n",
       " 'TabError',\n",
       " 'TimeoutError',\n",
       " 'True',\n",
       " 'TypeError',\n",
       " 'UnboundLocalError',\n",
       " 'UnicodeDecodeError',\n",
       " 'UnicodeEncodeError',\n",
       " 'UnicodeError',\n",
       " 'UnicodeTranslateError',\n",
       " 'UnicodeWarning',\n",
       " 'UserWarning',\n",
       " 'ValueError',\n",
       " 'Warning',\n",
       " 'WindowsError',\n",
       " 'ZeroDivisionError',\n",
       " '__IPYTHON__',\n",
       " '__build_class__',\n",
       " '__debug__',\n",
       " '__doc__',\n",
       " '__import__',\n",
       " '__loader__',\n",
       " '__name__',\n",
       " '__package__',\n",
       " '__spec__',\n",
       " 'abs',\n",
       " 'aiter',\n",
       " 'all',\n",
       " 'anext',\n",
       " 'any',\n",
       " 'ascii',\n",
       " 'bin',\n",
       " 'bool',\n",
       " 'breakpoint',\n",
       " 'bytearray',\n",
       " 'bytes',\n",
       " 'callable',\n",
       " 'chr',\n",
       " 'classmethod',\n",
       " 'compile',\n",
       " 'complex',\n",
       " 'copyright',\n",
       " 'credits',\n",
       " 'delattr',\n",
       " 'dict',\n",
       " 'dir',\n",
       " 'display',\n",
       " 'divmod',\n",
       " 'enumerate',\n",
       " 'eval',\n",
       " 'exec',\n",
       " 'execfile',\n",
       " 'filter',\n",
       " 'float',\n",
       " 'format',\n",
       " 'frozenset',\n",
       " 'get_ipython',\n",
       " 'getattr',\n",
       " 'globals',\n",
       " 'hasattr',\n",
       " 'hash',\n",
       " 'help',\n",
       " 'hex',\n",
       " 'id',\n",
       " 'input',\n",
       " 'int',\n",
       " 'isinstance',\n",
       " 'issubclass',\n",
       " 'iter',\n",
       " 'len',\n",
       " 'license',\n",
       " 'list',\n",
       " 'locals',\n",
       " 'map',\n",
       " 'max',\n",
       " 'memoryview',\n",
       " 'min',\n",
       " 'next',\n",
       " 'object',\n",
       " 'oct',\n",
       " 'open',\n",
       " 'ord',\n",
       " 'pow',\n",
       " 'print',\n",
       " 'property',\n",
       " 'range',\n",
       " 'repr',\n",
       " 'reversed',\n",
       " 'round',\n",
       " 'runfile',\n",
       " 'set',\n",
       " 'setattr',\n",
       " 'slice',\n",
       " 'sorted',\n",
       " 'staticmethod',\n",
       " 'str',\n",
       " 'sum',\n",
       " 'super',\n",
       " 'tuple',\n",
       " 'type',\n",
       " 'vars',\n",
       " 'zip']"
      ]
     },
     "execution_count": 93,
     "metadata": {},
     "output_type": "execute_result"
    }
   ],
   "source": [
    "dir(__builtins__)"
   ]
  },
  {
   "cell_type": "code",
   "execution_count": 30,
   "id": "dd14219a-cdd5-4a98-84c4-a5382dcefcce",
   "metadata": {},
   "outputs": [
    {
     "data": {
      "text/plain": [
       "SyntaxError()"
      ]
     },
     "execution_count": 30,
     "metadata": {},
     "output_type": "execute_result"
    }
   ],
   "source": [
    "SyntaxError()"
   ]
  },
  {
   "cell_type": "code",
   "execution_count": 109,
   "id": "f6a281e8-1c31-44af-a373-d65a4ff88039",
   "metadata": {},
   "outputs": [
    {
     "name": "stdout",
     "output_type": "stream",
     "text": [
      "3\n"
     ]
    }
   ],
   "source": [
    "def add2No(*num):\n",
    "    i=0\n",
    "    for var in num:\n",
    "        i=i+var\n",
    "    print(i)\n",
    "add2No(1,2)"
   ]
  },
  {
   "cell_type": "code",
   "execution_count": 117,
   "id": "9351cbdf-98db-46e2-89ff-bddf4e53d91b",
   "metadata": {},
   "outputs": [],
   "source": [
    "def factorial(num):\n",
    "    out=1\n",
    "    for i in range(1,num+1):\n",
    "        out=out*i;\n",
    "    print(out)"
   ]
  },
  {
   "cell_type": "code",
   "execution_count": 119,
   "id": "9ffdaca5-75aa-4121-8923-8bf0aed6728d",
   "metadata": {},
   "outputs": [
    {
     "name": "stdout",
     "output_type": "stream",
     "text": [
      "120\n"
     ]
    }
   ],
   "source": [
    "factorial(5)"
   ]
  },
  {
   "cell_type": "code",
   "execution_count": 97,
   "id": "f1382787-1492-4d70-bf64-b7a482f73b4b",
   "metadata": {},
   "outputs": [
    {
     "name": "stdout",
     "output_type": "stream",
     "text": [
      "Somnath 1000\n"
     ]
    }
   ],
   "source": [
    "def emp(Name,Salary=1000):    #Default Arguments\n",
    "   print(Name,Salary)\n",
    "emp(\"Somnath\")\n"
   ]
  },
  {
   "cell_type": "code",
   "execution_count": 136,
   "id": "c4419e0a-0634-4e75-8303-12dd2eab8db6",
   "metadata": {},
   "outputs": [
    {
     "name": "stdout",
     "output_type": "stream",
     "text": [
      "name: Alice\n",
      "age: 30\n",
      "city: New York\n"
     ]
    }
   ],
   "source": [
    "# In Python, **kwargs allows you to pass a variable number of keyword arguments (i.e., arguments in the form of key-value pairs) to a function. This is especially useful when you don't know beforehand \n",
    "# how many arguments will be passed to the function.\n",
    "def greet(**kwargs):\n",
    "    for key, value in kwargs.items():\n",
    "        print(f\"{key}: {value}\")\n",
    "\n",
    "# Calling the function with multiple keyword arguments\n",
    "greet(name=\"Alice\", age=30, city=\"New York\")\n",
    "\n"
   ]
  },
  {
   "cell_type": "code",
   "execution_count": 138,
   "id": "1a1e15f0-a8e9-447b-80b7-e29e51ba59c4",
   "metadata": {},
   "outputs": [
    {
     "name": "stdout",
     "output_type": "stream",
     "text": [
      "name: Alice\n",
      "age: 30\n",
      "city: New York\n"
     ]
    }
   ],
   "source": [
    "def greet(**kwargs):\n",
    "    for k, v in kwargs.items():\n",
    "        print(f\"{k}: {v}\")\n",
    "\n",
    "# Calling the function with multiple keyword arguments\n",
    "greet(name=\"Alice\", age=30, city=\"New York\")\n"
   ]
  },
  {
   "cell_type": "code",
   "execution_count": 101,
   "id": "eabaec85-f31a-4331-94b6-599a8461fd91",
   "metadata": {},
   "outputs": [
    {
     "name": "stdout",
     "output_type": "stream",
     "text": [
      "Name: John\n",
      "age: 25\n",
      "city: Los Angeles\n",
      "profession: Engineer\n"
     ]
    }
   ],
   "source": [
    "# Example 2: Default and **kwargs Combined\n",
    "# You can also combine **kwargs with regular positional or keyword arguments.\n",
    "def person_info(name, **kwargs):\n",
    "    print(f\"Name: {name}\")\n",
    "    for key, value in kwargs.items():\n",
    "        print(f\"{key}: {value}\")\n",
    "\n",
    "# Calling the function with both a fixed argument and keyword arguments\n",
    "person_info(\"John\", age=25, city=\"Los Angeles\", profession=\"Engineer\")\n"
   ]
  },
  {
   "cell_type": "code",
   "execution_count": 121,
   "id": "13f4a1fb-ce4c-453c-a722-454919962771",
   "metadata": {},
   "outputs": [
    {
     "name": "stdout",
     "output_type": "stream",
     "text": [
      "Received details: {'name': 'Emma', 'age': 22, 'country': 'Canada'}\n"
     ]
    }
   ],
   "source": [
    "# Example 3: Passing **kwargs to Another Function\n",
    "def show_info(**kwargs):\n",
    "    print(f\"Received details: {kwargs}\")\n",
    "\n",
    "def collect_info(**kwargs):\n",
    "    show_info(**kwargs)  # Passing **kwargs to another function\n",
    "\n",
    "collect_info(name=\"Emma\", age=22, country=\"Canada\")\n"
   ]
  },
  {
   "cell_type": "markdown",
   "id": "ad8897a3-6c8c-42b2-8948-37918586f2e9",
   "metadata": {},
   "source": [
    "Use Case:\n",
    "**kwargs is useful when you want to provide flexibility in the arguments you pass to a function, especially in libraries or functions that require configuration settings, options, or parameters whose number and names may vary."
   ]
  },
  {
   "cell_type": "code",
   "execution_count": 126,
   "id": "79cee1a1-0958-48a4-a2de-834d0d2aaf79",
   "metadata": {},
   "outputs": [
    {
     "name": "stdout",
     "output_type": "stream",
     "text": [
      "120\n"
     ]
    },
    {
     "data": {
      "text/plain": [
       "'Explanation:\\nError handling: If a negative number is passed, we raise a ValueError with an appropriate message.\\nReturn value: The function now returns the factorial, so the caller can decide whether to print, store, or use the result in further calculations.\\nType hints: num: int indicates that num is an integer, and -> int means the function will return an integer.'"
      ]
     },
     "execution_count": 126,
     "metadata": {},
     "output_type": "execute_result"
    }
   ],
   "source": [
    "def factorial(num: int) -> int:\n",
    "    if num < 0:\n",
    "        raise ValueError(\"Factorial is not defined for negative numbers.\")\n",
    "    out = 1\n",
    "    for i in range(1, num + 1):\n",
    "        out *= i\n",
    "    return out\n",
    "\n",
    "# Example usage\n",
    "result = factorial(5)\n",
    "print(result)  # Output: 120\n",
    "\n",
    "\"\"\"Explanation:\n",
    "Error handling: If a negative number is passed, we raise a ValueError with an appropriate message.\n",
    "Return value: The function now returns the factorial, so the caller can decide whether to print, store, or use the result in further calculations.\n",
    "Type hints: num: int indicates that num is an integer, and -> int means the function will return an integer.\"\"\"\n"
   ]
  },
  {
   "cell_type": "code",
   "execution_count": 128,
   "id": "a5cae96e-c128-4948-8692-600d825c706c",
   "metadata": {},
   "outputs": [
    {
     "ename": "ValueError",
     "evalue": "Factorial is not defined for negative numbers.",
     "output_type": "error",
     "traceback": [
      "\u001b[1;31m---------------------------------------------------------------------------\u001b[0m",
      "\u001b[1;31mValueError\u001b[0m                                Traceback (most recent call last)",
      "Cell \u001b[1;32mIn[128], line 1\u001b[0m\n\u001b[1;32m----> 1\u001b[0m factorial(\u001b[38;5;241m-\u001b[39m\u001b[38;5;241m2\u001b[39m)\n",
      "Cell \u001b[1;32mIn[126], line 3\u001b[0m, in \u001b[0;36mfactorial\u001b[1;34m(num)\u001b[0m\n\u001b[0;32m      1\u001b[0m \u001b[38;5;28;01mdef\u001b[39;00m \u001b[38;5;21mfactorial\u001b[39m(num: \u001b[38;5;28mint\u001b[39m) \u001b[38;5;241m-\u001b[39m\u001b[38;5;241m>\u001b[39m \u001b[38;5;28mint\u001b[39m:\n\u001b[0;32m      2\u001b[0m     \u001b[38;5;28;01mif\u001b[39;00m num \u001b[38;5;241m<\u001b[39m \u001b[38;5;241m0\u001b[39m:\n\u001b[1;32m----> 3\u001b[0m         \u001b[38;5;28;01mraise\u001b[39;00m \u001b[38;5;167;01mValueError\u001b[39;00m(\u001b[38;5;124m\"\u001b[39m\u001b[38;5;124mFactorial is not defined for negative numbers.\u001b[39m\u001b[38;5;124m\"\u001b[39m)\n\u001b[0;32m      4\u001b[0m     out \u001b[38;5;241m=\u001b[39m \u001b[38;5;241m1\u001b[39m\n\u001b[0;32m      5\u001b[0m     \u001b[38;5;28;01mfor\u001b[39;00m i \u001b[38;5;129;01min\u001b[39;00m \u001b[38;5;28mrange\u001b[39m(\u001b[38;5;241m1\u001b[39m, num \u001b[38;5;241m+\u001b[39m \u001b[38;5;241m1\u001b[39m):\n",
      "\u001b[1;31mValueError\u001b[0m: Factorial is not defined for negative numbers."
     ]
    }
   ],
   "source": [
    "factorial(-2)"
   ]
  },
  {
   "cell_type": "code",
   "execution_count": 31,
   "id": "c569f4d2-05b0-4cf4-9858-90f7ca93b83b",
   "metadata": {},
   "outputs": [
    {
     "name": "stdout",
     "output_type": "stream",
     "text": [
      "Inner x: 20\n",
      "Outer x: 10\n"
     ]
    }
   ],
   "source": [
    "# Example Without nonlocal (Unintended Behavior):\n",
    "def outer_function():\n",
    "    x = 10\n",
    "    \n",
    "    def inner_function():\n",
    "        x = 20  # This creates a new local variable `x` inside `inner_function`\n",
    "        print(\"Inner x:\", x)\n",
    "    \n",
    "    inner_function()\n",
    "    print(\"Outer x:\", x)\n",
    "\n",
    "outer_function()\n",
    "\n"
   ]
  },
  {
   "cell_type": "code",
   "execution_count": 132,
   "id": "ff949d02-b16b-4fe4-b837-0e06e12a1592",
   "metadata": {},
   "outputs": [
    {
     "name": "stdout",
     "output_type": "stream",
     "text": [
      "Inner x: 20\n",
      "Outer x: 20\n"
     ]
    },
    {
     "data": {
      "text/plain": [
       "\"\\nExplanation:\\nnonlocal x: By using nonlocal, the variable x in inner_function refers to the variable x from outer_function rather than creating a new local variable.\\nThe modification to x in inner_function affects x in outer_function.\\nKey Points:\\nLocal Scope: Variables defined inside a function are local to that function.\\nEnclosing Scope: Variables in a function that is nested within another function are enclosed by the outer function's scope.\\nGlobal Scope: Variables declared at the top level of a script or module.\\nnonlocal vs global:\\nnonlocal affects variables in the nearest enclosing (non-global) scope.\\nglobal affects variables in the global scope.\\n\""
      ]
     },
     "execution_count": 132,
     "metadata": {},
     "output_type": "execute_result"
    }
   ],
   "source": [
    "# Explanation: In above case, the x = 20 inside inner_function creates a new local variable x, and it does not modify the x in outer_function.\n",
    "# Using nonlocal (Correct Behavior):\n",
    "def outer_function():\n",
    "    x = 10\n",
    "    \n",
    "    def inner_function():\n",
    "        nonlocal x  # Declare that we're referring to the `x` in the outer function\n",
    "        x = 20  # This modifies the `x` in the outer function\n",
    "        print(\"Inner x:\", x)\n",
    "    \n",
    "    inner_function()\n",
    "    print(\"Outer x:\", x)\n",
    "\n",
    "outer_function()\n",
    "\"\"\"\n",
    "Explanation:\n",
    "nonlocal x: By using nonlocal, the variable x in inner_function refers to the variable x from outer_function rather than creating a new local variable.\n",
    "The modification to x in inner_function affects x in outer_function.\n",
    "Key Points:\n",
    "Local Scope: Variables defined inside a function are local to that function.\n",
    "Enclosing Scope: Variables in a function that is nested within another function are enclosed by the outer function's scope.\n",
    "Global Scope: Variables declared at the top level of a script or module.\n",
    "nonlocal vs global:\n",
    "nonlocal affects variables in the nearest enclosing (non-global) scope.\n",
    "global affects variables in the global scope.\n",
    "\"\"\"\n",
    "\n"
   ]
  },
  {
   "cell_type": "code",
   "execution_count": 134,
   "id": "ad870f32-41f4-4c41-8284-779fc0812a08",
   "metadata": {},
   "outputs": [
    {
     "name": "stdout",
     "output_type": "stream",
     "text": [
      "After inner_function, x: 15\n",
      "After middle_function, x: 15\n"
     ]
    }
   ],
   "source": [
    "# Example with Multiple Nested Functions:\n",
    "def outer_function():\n",
    "    x = 5\n",
    "    \n",
    "    def middle_function():\n",
    "        def inner_function():\n",
    "            nonlocal x  # Refers to `x` in `outer_function`, not `middle_function`\n",
    "            x += 10\n",
    "        inner_function()\n",
    "        print(\"After inner_function, x:\", x)\n",
    "    \n",
    "    middle_function()\n",
    "    print(\"After middle_function, x:\", x)\n",
    "\n",
    "outer_function()\n"
   ]
  },
  {
   "cell_type": "code",
   "execution_count": 140,
   "id": "0d72c38e-2cdc-4f98-8939-3a672561c4b4",
   "metadata": {},
   "outputs": [
    {
     "name": "stdout",
     "output_type": "stream",
     "text": [
      "3.141592653589793\n"
     ]
    }
   ],
   "source": [
    "# Built-In ScopeIf we have not defined a variable and the name of the variable matches with a built-in function\n",
    "# from an existing Python module, the function will use the built-in function.\n",
    "from math import pi\n",
    "def outer():\n",
    "    def inner():\n",
    "        print(pi)\n",
    "    inner()\n",
    "outer()\n"
   ]
  },
  {
   "cell_type": "code",
   "execution_count": 144,
   "id": "00384d07-30f4-4c4c-961a-da5c6c0ab23f",
   "metadata": {},
   "outputs": [],
   "source": [
    "from math import pi\n",
    "def outer():\n",
    "    def inner():\n",
    "        pi=4\n",
    "        print(pi)\n",
    "    inner()\n",
    "# outer() note since pi is defined even keyword will be overwridden with user defined value"
   ]
  },
  {
   "cell_type": "markdown",
   "id": "5c2c967a",
   "metadata": {},
   "source": [
    "LAMBDA FUNCTIONS\n",
    "In Python, a lambda function is a small, anonymous function defined using the lambda keyword. \n",
    "lambda arguments: expression\n",
    "Lambda Function Syntax\n",
    "\n",
    "In Python, a lambda function is a small, anonymous function defined using the lambda keyword. Here's the general syntax:\n",
    "\n",
    "Python\n",
    "\n",
    "lambda arguments: expression\n",
    "\n",
    "Breakdown:\n",
    "\n",
    "lambda: This keyword signifies that you're defining a lambda function.\n",
    "arguments:\n",
    "This is a comma-separated list of parameters that the function accepts.\n",
    "You can have zero or more arguments.\n",
    ":: This colon separates the arguments from the expression.\n",
    "expression: This is a single expression that the function evaluates and returns."
   ]
  },
  {
   "cell_type": "code",
   "execution_count": 146,
   "id": "91e5906b-8d62-49b1-83f1-be8abbf5dfa0",
   "metadata": {},
   "outputs": [
    {
     "data": {
      "text/plain": [
       "5"
      ]
     },
     "execution_count": 146,
     "metadata": {},
     "output_type": "execute_result"
    }
   ],
   "source": [
    "# LAMBDA FUNCTIONs\n",
    "f=lambda x,y:x+y\n",
    "f(1,4)"
   ]
  },
  {
   "cell_type": "code",
   "execution_count": 36,
   "id": "2757c657",
   "metadata": {},
   "outputs": [
    {
     "name": "stdout",
     "output_type": "stream",
     "text": [
      "25\n",
      "25\n"
     ]
    }
   ],
   "source": [
    "# Lambda function to square a number multiple arguments\n",
    "square = lambda x,y: x*y\n",
    "\n",
    "# Calling the lambda function\n",
    "result = square(5,5) \n",
    "print(result)  # Output: 25\n",
    "\n",
    "# Lambda function to square a number single argument\n",
    "square = lambda x: x**2\n",
    "\n",
    "# Calling the lambda function\n",
    "result = square(5) \n",
    "print(result)  # Output: 25"
   ]
  },
  {
   "cell_type": "code",
   "execution_count": 148,
   "id": "7f21a1c1-7d1f-4451-9d47-af5e2a2f3e11",
   "metadata": {},
   "outputs": [
    {
     "data": {
      "text/plain": [
       "2"
      ]
     },
     "execution_count": 148,
     "metadata": {},
     "output_type": "execute_result"
    }
   ],
   "source": [
    "fun=lambda x,y:x if x>y else y\n",
    "fun(1,2)"
   ]
  },
  {
   "cell_type": "code",
   "execution_count": 37,
   "id": "67b00ebb-c076-436a-ac99-9ab30ebf9908",
   "metadata": {},
   "outputs": [
    {
     "name": "stdout",
     "output_type": "stream",
     "text": [
      "Hello\n"
     ]
    }
   ],
   "source": [
    "fun1=lambda :print('Hello')\n",
    "fun1()"
   ]
  },
  {
   "cell_type": "code",
   "execution_count": 40,
   "id": "230b5879-c8d4-4f84-900d-1b1976fe709b",
   "metadata": {},
   "outputs": [],
   "source": [
    "sample=[1,2,3,4]\n",
    "seq=list(map(lambda x:x*2,sample)) #go to each element"
   ]
  },
  {
   "cell_type": "code",
   "execution_count": 41,
   "id": "158aba31-d2ce-4bff-9b0e-ef347f4abf7d",
   "metadata": {},
   "outputs": [
    {
     "data": {
      "text/plain": [
       "[2, 4, 6, 8]"
      ]
     },
     "execution_count": 41,
     "metadata": {},
     "output_type": "execute_result"
    }
   ],
   "source": [
    "seq"
   ]
  },
  {
   "cell_type": "code",
   "execution_count": null,
   "id": "27b4da1a-fd81-4dc5-a693-58a40f93d98b",
   "metadata": {},
   "outputs": [],
   "source": [
    "\"\"\"\n",
    "Here’s what each part does:\n",
    "\n",
    "Defining sample and sample2:\n",
    "\n",
    "sample is a list: [1, 2, 3, 4].\n",
    "sample2 is a tuple: (5, 6, 7, 8).\n",
    "\n",
    "Using map with a lambda function:\n",
    "\n",
    "The map function applies the lambda function (lambda x: x * 2) to each element in the iterable provided.\n",
    "However, in this case, the iterable passed to map is a tuple containing sample and sample2: (sample, sample2).\n",
    "This means map will iterate over each element of this tuple, where the elements are sample (a list) and sample2 (a tuple), \n",
    "not the individual numbers within sample and sample2.\n",
    "\n",
    "Explanation of lambda x: x * 2:\n",
    "\n",
    "The lambda function here takes each element x from the iterable (sample, sample2) and applies the operation x * 2.\n",
    "Since x will be the entire sample list for the first iteration and the entire sample2 tuple for the second iteration, x * 2 will duplicate each of these collections rather than doubling individual numbers.\n",
    "For lists and tuples, the * 2 operation results in concatenation, effectively repeating the list or tuple.\n",
    "Conversion to List:\n",
    "\n",
    "Finally, list(map(...)) converts the result to a list, so seq becomes a list containing the duplicated list and tuple.\n",
    "\"\"\""
   ]
  },
  {
   "cell_type": "code",
   "execution_count": 164,
   "id": "c01f6c91-61c0-43f0-9882-d388426d5a45",
   "metadata": {},
   "outputs": [],
   "source": [
    "sample=[1,2,3,4]\n",
    "sample2=(5,6,7,8)\n",
    "seq=list(map(lambda x:x*2,(sample,sample2)))\n",
    "# However, in this case, the iterable passed to map is a ⭐⭐⭐⭐tuple ⭐containing sample and sample2: (sample, sample2).\n",
    "# This means map will ⭐⭐ iterate over each element of this tuple,⭐⭐ where the elements are sample (a list) and sample2 (a tuple),\n",
    "# not the individual numbers within sample and sample2.\n",
    "#hence the op is not multiplication as expected , so seq becomes a list containing the duplicated list and tuple"
   ]
  },
  {
   "cell_type": "code",
   "execution_count": 168,
   "id": "8689b06c-e0c6-4829-af95-ac62c60781f9",
   "metadata": {},
   "outputs": [
    {
     "data": {
      "text/plain": [
       "[[1, 2, 3, 4, 1, 2, 3, 4], [5, 6, 7, 8, 5, 6, 7, 8]]"
      ]
     },
     "execution_count": 168,
     "metadata": {},
     "output_type": "execute_result"
    }
   ],
   "source": [
    "seq"
   ]
  },
  {
   "cell_type": "code",
   "execution_count": 174,
   "id": "a4c6b9f0-6bf5-42dc-92f7-4ac0b19c079a",
   "metadata": {},
   "outputs": [],
   "source": [
    "sample=[1,2,3,4,5,6]\n",
    "seq2=list(filter(lambda x:x%3==0,sample))"
   ]
  },
  {
   "cell_type": "code",
   "execution_count": 176,
   "id": "7f0f3071-f1a8-4296-a1f0-32cc079562c2",
   "metadata": {},
   "outputs": [
    {
     "data": {
      "text/plain": [
       "[3, 6]"
      ]
     },
     "execution_count": 176,
     "metadata": {},
     "output_type": "execute_result"
    }
   ],
   "source": [
    "seq2"
   ]
  },
  {
   "cell_type": "markdown",
   "id": "e9efffa9",
   "metadata": {},
   "source": [
    "Apply a function of two arguments cumulatively to the items of a sequence or iterable, from left to right, so as to reduce the iterable to a single\n",
    "value. For example, reduce(lambda x, y: x+y, [1, 2, 3, 4, 5]) calculates ((((1+2)+3)+4)+5). If initial is present, it is placed before the items of the iterable in the calculation, and serves as a default when the iterable is empty."
   ]
  },
  {
   "cell_type": "code",
   "execution_count": 178,
   "id": "c81b8d39-145c-49f0-bbe4-6dbd5863c67f",
   "metadata": {},
   "outputs": [
    {
     "data": {
      "text/plain": [
       "26"
      ]
     },
     "execution_count": 178,
     "metadata": {},
     "output_type": "execute_result"
    }
   ],
   "source": [
    "from functools  import reduce\n",
    "reduce(lambda a,b:a+b,[3,5,8,10])"
   ]
  },
  {
   "cell_type": "code",
   "execution_count": 42,
   "id": "c3a3dda0-6389-4db2-96ed-fa76445d98e0",
   "metadata": {},
   "outputs": [
    {
     "data": {
      "text/plain": [
       "10"
      ]
     },
     "execution_count": 42,
     "metadata": {},
     "output_type": "execute_result"
    }
   ],
   "source": [
    "from functools  import reduce\n",
    "num_tuple=(1,0,2,-1,5,6,10,-5)\n",
    "reduce(lambda x,y:x if x>y else y,num_tuple) #debug this it returns only 1 value"
   ]
  },
  {
   "cell_type": "code",
   "execution_count": 43,
   "id": "2382980f-0c1d-458c-bdb9-c177a54d920e",
   "metadata": {},
   "outputs": [
    {
     "name": "stdout",
     "output_type": "stream",
     "text": [
      "[0, 1, 2, 3, 4, 5, 6, 7, 8, 9]\n"
     ]
    }
   ],
   "source": [
    "from itertools import accumulate\n",
    "num_seq=list(range(10))\n",
    "print(num_seq)\n",
    "out=tuple(accumulate(num_seq,lambda x,y:x+y)) \n",
    "# it returns multiple value -Return series of accumulated sums"
   ]
  },
  {
   "cell_type": "code",
   "execution_count": 44,
   "id": "3125a477-4ed9-41ce-ba90-345eb7cb6ba9",
   "metadata": {},
   "outputs": [
    {
     "data": {
      "text/plain": [
       "(0, 1, 3, 6, 10, 15, 21, 28, 36, 45)"
      ]
     },
     "execution_count": 44,
     "metadata": {},
     "output_type": "execute_result"
    }
   ],
   "source": [
    "out"
   ]
  },
  {
   "cell_type": "code",
   "execution_count": 45,
   "id": "fcc21b5d-829b-4bc8-89d1-0dc6a0698d5f",
   "metadata": {},
   "outputs": [
    {
     "data": {
      "text/plain": [
       "15"
      ]
     },
     "execution_count": 45,
     "metadata": {},
     "output_type": "execute_result"
    }
   ],
   "source": [
    "# recursive function\n",
    "def sum_of_num(n):\n",
    "    if n==1:\n",
    "        return 1\n",
    "    res=n+sum_of_num(n-1)\n",
    "    return res\n",
    "sum_of_num(5)"
   ]
  },
  {
   "cell_type": "code",
   "execution_count": 1,
   "id": "a612cf65-0b88-4362-8870-7c9bcf7f6607",
   "metadata": {},
   "outputs": [],
   "source": [
    "## there is function revision file inside folder 101124"
   ]
  },
  {
   "cell_type": "code",
   "execution_count": 46,
   "id": "ffa66b49-04bd-47ba-a724-d99a4e83faec",
   "metadata": {},
   "outputs": [
    {
     "name": "stdout",
     "output_type": "stream",
     "text": [
      "20\n"
     ]
    }
   ],
   "source": [
    "count = 15\n",
    "\n",
    "def some_method():\n",
    "\n",
    "     global count\n",
    "\n",
    "     count = count + 5\n",
    "\n",
    "     print(count)\n",
    "\n",
    "some_method()"
   ]
  },
  {
   "cell_type": "code",
   "execution_count": 48,
   "id": "1030675d",
   "metadata": {},
   "outputs": [
    {
     "data": {
      "text/plain": [
       "9996"
      ]
     },
     "execution_count": 48,
     "metadata": {},
     "output_type": "execute_result"
    }
   ],
   "source": [
    "min = (lambda x, y: x if x < y else y)\n",
    "\n",
    "min(101*99, 102*98)"
   ]
  },
  {
   "cell_type": "markdown",
   "id": "7f934dd9",
   "metadata": {},
   "source": [
    "The given Python code defines a function named random that takes a single argument, text.\n",
    "\n",
    "Here's how the function works:\n",
    "\n",
    "Splitting the text:\n",
    "\n",
    "text.split() splits the input string text into a list of words, assuming the words are separated by spaces. This list is stored in the variable sample.\n",
    "Comparing first letters:\n",
    "\n",
    "sample[0][0] accesses the first character of the first word in the sample list.\n",
    "sample[1][0] accesses the first character of the second word in the sample list.\n",
    "sample[0][0] == sample[1][0] compares these two characters.\n",
    "Returning the result:\n",
    "\n",
    "The function returns the result of the comparison (True if the first letters of the first two words are the same, False otherwise)."
   ]
  },
  {
   "cell_type": "code",
   "execution_count": 66,
   "id": "17d58fca",
   "metadata": {},
   "outputs": [],
   "source": [
    "def random(text):\n",
    "    sample = text.split()\n",
    "    print(sample)\n",
    "\n",
    "    return sample[0][0] == sample[1][0]"
   ]
  },
  {
   "cell_type": "code",
   "execution_count": 65,
   "id": "2477383b",
   "metadata": {},
   "outputs": [
    {
     "name": "stdout",
     "output_type": "stream",
     "text": [
      "['hello', 'world']\n",
      "['happy', 'hippo']\n",
      "False\n",
      "True\n"
     ]
    }
   ],
   "source": [
    "result1 = random(\"hello world\")  # False (h != w)\n",
    "result2 = random(\"happy hippo\")  # True (h == h)\n",
    "\n",
    "print(result1) \n",
    "print(result2)"
   ]
  },
  {
   "cell_type": "code",
   "execution_count": 61,
   "id": "8b48b300",
   "metadata": {},
   "outputs": [
    {
     "name": "stdout",
     "output_type": "stream",
     "text": [
      "['false', 'false']\n"
     ]
    },
    {
     "data": {
      "text/plain": [
       "True"
      ]
     },
     "execution_count": 61,
     "metadata": {},
     "output_type": "execute_result"
    }
   ],
   "source": [
    "random('false false')"
   ]
  },
  {
   "cell_type": "code",
   "execution_count": 62,
   "id": "8df992b2",
   "metadata": {},
   "outputs": [
    {
     "name": "stdout",
     "output_type": "stream",
     "text": [
      "['hi', 'ih']\n"
     ]
    },
    {
     "data": {
      "text/plain": [
       "False"
      ]
     },
     "execution_count": 62,
     "metadata": {},
     "output_type": "execute_result"
    }
   ],
   "source": [
    "random('hi ih')"
   ]
  },
  {
   "cell_type": "code",
   "execution_count": 63,
   "id": "33d875dc",
   "metadata": {},
   "outputs": [
    {
     "name": "stdout",
     "output_type": "stream",
     "text": [
      "['pythin', 'ptthorn']\n"
     ]
    },
    {
     "data": {
      "text/plain": [
       "True"
      ]
     },
     "execution_count": 63,
     "metadata": {},
     "output_type": "execute_result"
    }
   ],
   "source": [
    "random('pythin ptthorn')"
   ]
  }
 ],
 "metadata": {
  "kernelspec": {
   "display_name": "Python 3",
   "language": "python",
   "name": "python3"
  },
  "language_info": {
   "codemirror_mode": {
    "name": "ipython",
    "version": 3
   },
   "file_extension": ".py",
   "mimetype": "text/x-python",
   "name": "python",
   "nbconvert_exporter": "python",
   "pygments_lexer": "ipython3",
   "version": "3.12.6"
  }
 },
 "nbformat": 4,
 "nbformat_minor": 5
}
