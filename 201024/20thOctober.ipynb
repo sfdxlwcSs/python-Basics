{
 "cells": [
  {
   "cell_type": "markdown",
   "id": "e0f71663-c752-4d82-bd9f-48cbfbc91e0a",
   "metadata": {},
   "source": [
    "<ul style=\"background:yellow; color: darkblue;\r\n",
    "  margin: 5px size=6;\">\n",
    "<li>\n",
    "1. NumPy Arrays (ndarray)\n",
    "ndarray is the core data structure of NumPy, which stands for \"n-dimensional array.\" Unlike Python lists, which can hold heterogeneous data types, NumPy arrays are homogeneous (i.e., they contain elements of the same type).\n",
    "NumPy arrays are more memory-efficient and provide faster operations than Python lists, especially for large datasets.\n",
    "</li\n",
    "    <li>\n",
    "        2. Dynamic and Flexible Data Structures\n",
    "Python Lists: Lists are dynamically sized. You can easily append, insert, or remove elements. They are ideal when you need a flexible data structure whose size changes over time.\n",
    "NumPy Arrays: Arrays are more rigid. Resizing them (e.g., adding new elements) is less efficient because it involves creating a new array and copying the data.\n",
    "    </li>\n",
    "    <li>\n",
    "        3. Associative Data with Dictionaries\n",
    "Python Dictionaries: Dictionaries are key-value pairs, which allow you to associate data with specific keys, making them very useful for fast lookups by key. NumPy does not provide a structure equivalent to this; it focuses on numerical computation where keys are typically indices (positions).\n",
    "    </li>>\n",
    "</ul>"
   ]
  },
  {
   "cell_type": "markdown",
   "id": "113a0da4-3bb9-4f9c-b780-558b043e214f",
   "metadata": {},
   "source": [
    "The numpy.arange() function in NumPy generates arrays with evenly spaced values within a given range. It's similar to Python’s built-in range() function but returns a NumPy array rather than a list, and it provides additional flexibility, like specifying non-integer steps (floats).\n",
    "Python Lists and Dictionaries: Both lists and dictionaries are more flexible and better suited for handling arbitrary or non-numerical data, such as strings, objects, or complex data structures.\n",
    "NumPy Arrays: Designed for numerical data and cannot easily handle arbitrary Python objects without losing performance advantages."
   ]
  },
  {
   "cell_type": "code",
   "execution_count": 13,
   "id": "54aaf170-a665-4fd6-b511-10ae7393ba86",
   "metadata": {},
   "outputs": [
    {
     "name": "stdout",
     "output_type": "stream",
     "text": [
      "Requirement already satisfied: numpy in c:\\users\\sfdcl\\anaconda3\\lib\\site-packages (1.26.4)\n"
     ]
    }
   ],
   "source": [
    "!pip install numpy"
   ]
  },
  {
   "cell_type": "code",
   "execution_count": 15,
   "id": "a513183f-bca0-4d97-93d4-d3aa7d3f7fbb",
   "metadata": {},
   "outputs": [],
   "source": [
    "# The first step of using numpy is to tell Python to import it\n",
    "import numpy as np"
   ]
  },
  {
   "cell_type": "code",
   "execution_count": 23,
   "id": "6ca35583-fe81-4eb3-ac1c-7dc161959c1f",
   "metadata": {},
   "outputs": [
    {
     "name": "stdout",
     "output_type": "stream",
     "text": [
      "[1 2 3 4]\n",
      "[5 4 6 7]\n"
     ]
    }
   ],
   "source": [
    "arr_num = [5, 4, 6, 7]\n",
    "arr_num_np=np.array(arr_num)\n",
    "arr_np=np.array([1,2,3,4])\n",
    "print(arr_np)\n",
    "print(arr_num_np)"
   ]
  },
  {
   "cell_type": "code",
   "execution_count": 31,
   "id": "d91ff064-6555-4019-ad4c-35c2bfe90ea3",
   "metadata": {},
   "outputs": [
    {
     "name": "stdout",
     "output_type": "stream",
     "text": [
      "[ 6  6  9 11]\n"
     ]
    }
   ],
   "source": [
    "cmb_arr_np=arr_num_np+arr_np # array size should match\n",
    "print(cmb_arr_np)"
   ]
  },
  {
   "cell_type": "code",
   "execution_count": 35,
   "id": "0191a905-e29d-435f-b8a2-7462b14a1744",
   "metadata": {},
   "outputs": [],
   "source": [
    "cmb_arr_np=arr_num_np*arr_np"
   ]
  },
  {
   "cell_type": "code",
   "execution_count": 37,
   "id": "7586cce9-ddc6-42f6-838c-e1f7f88c984c",
   "metadata": {},
   "outputs": [
    {
     "data": {
      "text/plain": [
       "array([ 5,  8, 18, 28])"
      ]
     },
     "execution_count": 37,
     "metadata": {},
     "output_type": "execute_result"
    }
   ],
   "source": [
    "cmb_arr_np"
   ]
  },
  {
   "cell_type": "code",
   "execution_count": 39,
   "id": "5408daa2-37e4-44ee-9c8b-a2c7bda8f8b1",
   "metadata": {},
   "outputs": [
    {
     "data": {
      "text/plain": [
       "1"
      ]
     },
     "execution_count": 39,
     "metadata": {},
     "output_type": "execute_result"
    }
   ],
   "source": [
    "cmb_arr_np.ndim # dimension of arr"
   ]
  },
  {
   "cell_type": "code",
   "execution_count": 41,
   "id": "fec029fd-6993-45eb-ac74-527d1bb1236d",
   "metadata": {},
   "outputs": [
    {
     "data": {
      "text/plain": [
       "(4,)"
      ]
     },
     "execution_count": 41,
     "metadata": {},
     "output_type": "execute_result"
    }
   ],
   "source": [
    "cmb_arr_np.shape"
   ]
  },
  {
   "cell_type": "code",
   "execution_count": 43,
   "id": "f27226b3-6a4c-4153-817b-75d0701fa34b",
   "metadata": {},
   "outputs": [
    {
     "data": {
      "text/plain": [
       "4"
      ]
     },
     "execution_count": 43,
     "metadata": {},
     "output_type": "execute_result"
    }
   ],
   "source": [
    "cmb_arr_np.size"
   ]
  },
  {
   "cell_type": "code",
   "execution_count": 53,
   "id": "a6d057f7-cf2b-473f-bba9-b32da1294424",
   "metadata": {},
   "outputs": [
    {
     "name": "stdout",
     "output_type": "stream",
     "text": [
      " returns length of each element of array in bytes 4\n",
      "length of arr 5\n"
     ]
    }
   ],
   "source": [
    "arr_num3 = [5, 4, 6, 7,8]\n",
    "arr_num3_np=np.array(arr_num3)\n",
    "# size in bites each ele take\n",
    "print('returns length of each element of array in bytes', arr_num3_np.itemsize)\n",
    "print('length of arr',arr_num3_np.size)"
   ]
  },
  {
   "cell_type": "code",
   "execution_count": 71,
   "id": "bec7d4d1-56a9-4b1d-8b3b-357d457b43dc",
   "metadata": {},
   "outputs": [
    {
     "name": "stdout",
     "output_type": "stream",
     "text": [
      "[1 2 3 4 5]\n",
      "4\n"
     ]
    },
    {
     "data": {
      "text/plain": [
       "dtype('int32')"
      ]
     },
     "execution_count": 71,
     "metadata": {},
     "output_type": "execute_result"
    }
   ],
   "source": [
    "arr_num4_np=np.array([1.5,2,3,4,5],dtype=\"int\") #explicit casting to int\n",
    "print(arr_num4_np)\n",
    "print(arr_num4_np.itemsize)\n",
    "arr_num4_np.dtype"
   ]
  },
  {
   "cell_type": "code",
   "execution_count": 67,
   "id": "d20424fd-4312-468e-9548-2680f82d3163",
   "metadata": {},
   "outputs": [
    {
     "name": "stdout",
     "output_type": "stream",
     "text": [
      "[1 2 3 4 5]\n",
      "2\n"
     ]
    },
    {
     "data": {
      "text/plain": [
       "dtype('int16')"
      ]
     },
     "execution_count": 67,
     "metadata": {},
     "output_type": "execute_result"
    }
   ],
   "source": [
    "arr_num5_np=np.array([1.5,2,3,4,5],dtype=\"int16\")\n",
    "print(arr_num5_np)\n",
    "print(arr_num5_np.itemsize)\n",
    "arr_num5_np.dtype"
   ]
  },
  {
   "cell_type": "code",
   "execution_count": 73,
   "id": "ed94b4f5-8297-4c73-b02f-c2bd73ddd56a",
   "metadata": {},
   "outputs": [
    {
     "name": "stdout",
     "output_type": "stream",
     "text": [
      "2D Array:\n",
      "[[1 2 3]\n",
      " [4 5 6]]\n"
     ]
    }
   ],
   "source": [
    "# Creating a 2D array (matrix) with 2 rows and 3 columns\n",
    "arr_2d = np.array([[1, 2, 3], [4, 5, 6]])\n",
    "\n",
    "# Print the 2D array\n",
    "print(\"2D Array:\")\n",
    "print(arr_2d)"
   ]
  },
  {
   "cell_type": "code",
   "execution_count": 91,
   "id": "a4e99d61-1daf-4e38-82c1-2a1f0595afa3",
   "metadata": {},
   "outputs": [
    {
     "name": "stdout",
     "output_type": "stream",
     "text": [
      "[[1 2]\n",
      " [3 4]\n",
      " [5 6]]\n"
     ]
    },
    {
     "data": {
      "text/plain": [
       "(3, 2)"
      ]
     },
     "execution_count": 91,
     "metadata": {},
     "output_type": "execute_result"
    }
   ],
   "source": [
    "reshaped_array=arr_2d.reshape(3,2)\n",
    "print(reshaped_array)\n",
    "reshaped_array.shape"
   ]
  },
  {
   "cell_type": "code",
   "execution_count": 87,
   "id": "75a90924-890c-46a6-af2e-53834470b214",
   "metadata": {},
   "outputs": [],
   "source": [
    "# Indexing 2D array\n",
    "a12=reshaped_array[0][1] #1st row 2nd column"
   ]
  },
  {
   "cell_type": "code",
   "execution_count": 89,
   "id": "64fd5037-6a17-4e0b-a3c9-6d58da2cc9ca",
   "metadata": {},
   "outputs": [
    {
     "data": {
      "text/plain": [
       "2"
      ]
     },
     "execution_count": 89,
     "metadata": {},
     "output_type": "execute_result"
    }
   ],
   "source": [
    "a12"
   ]
  },
  {
   "cell_type": "code",
   "execution_count": 99,
   "id": "0bf8c8b5-9aa5-4dc7-96f6-ca7f979cc804",
   "metadata": {},
   "outputs": [
    {
     "name": "stdout",
     "output_type": "stream",
     "text": [
      "3\n"
     ]
    },
    {
     "data": {
      "text/plain": [
       "(1, 1, 3)"
      ]
     },
     "execution_count": 99,
     "metadata": {},
     "output_type": "execute_result"
    }
   ],
   "source": [
    "arr_3d2 = np.array([[[1,2,3]]])\n",
    "print(arr_3d2.ndim)\n",
    "arr_3d2.shape"
   ]
  },
  {
   "cell_type": "code",
   "execution_count": 107,
   "id": "325445d2-f0b7-4687-8c39-6e7db3ca0513",
   "metadata": {},
   "outputs": [
    {
     "name": "stdout",
     "output_type": "stream",
     "text": [
      "3D Array:\n",
      "[[[1 2 3]\n",
      "  [4 5 6]\n",
      "  [7 8 9]]\n",
      "\n",
      " [[1 2 3]\n",
      "  [4 5 6]\n",
      "  [7 8 9]]]\n",
      "3\n"
     ]
    },
    {
     "data": {
      "text/plain": [
       "(2, 3, 3)"
      ]
     },
     "execution_count": 107,
     "metadata": {},
     "output_type": "execute_result"
    }
   ],
   "source": [
    "# Creating a 3D array (matrix) with 2 rows and 3 columns\n",
    "arr_3d = np.array([[[1, 2, 3], [4, 5, 6],[7, 8, 9]],[[1, 2, 3], [4, 5, 6],[7, 8, 9]]])\n",
    "\n",
    "# Print the 2D array\n",
    "print(\"3D Array:\")\n",
    "print(arr_3d)\n",
    "print(arr_3d.ndim)\n",
    "arr_3d.shape\n",
    "# 2 represents stacks of rows"
   ]
  },
  {
   "cell_type": "code",
   "execution_count": 134,
   "id": "cb897197-9197-432a-ad24-a5b08400a5d3",
   "metadata": {},
   "outputs": [
    {
     "name": "stdout",
     "output_type": "stream",
     "text": [
      "3D Array:\n",
      "[[[1 2 3]\n",
      "  [4 5 6]\n",
      "  [7 8 9]]\n",
      "\n",
      " [[1 2 3]\n",
      "  [4 5 6]\n",
      "  [7 8 9]]\n",
      "\n",
      " [[1 2 3]\n",
      "  [4 5 6]\n",
      "  [7 8 9]]]\n",
      "3\n"
     ]
    },
    {
     "data": {
      "text/plain": [
       "'\\nIn the shape (3, 3, 3):\\n\\nThe first 3 represents the number of matrices or 2D arrays (or depth in a 3D structure).\\nThe second 3 represents the number of rows in each 2D array.\\nThe third 3 represents the number of columns in each 2D array.\\nThus, this is a 3D array with:\\n\\n3 layers (or matrices),\\nEach layer having 3 rows, and\\nEach row having 3 columns.\\n'"
      ]
     },
     "execution_count": 134,
     "metadata": {},
     "output_type": "execute_result"
    }
   ],
   "source": [
    "arr_32d = np.array([[[1, 2, 3], [4, 5, 6],[7, 8, 9]],[[1, 2, 3], [4, 5, 6],[7, 8, 9]],[[1, 2, 3], [4, 5, 6],[7, 8, 9]]])\n",
    "\n",
    "# Print the 2D array\n",
    "print(\"3D Array:\")\n",
    "print(arr_32d)\n",
    "print(arr_32d.ndim)\n",
    "arr_32d.shape\n",
    "\n",
    "\"\"\"\n",
    "In the shape (3, 3, 3):\n",
    "\n",
    "The first 3 represents the number of matrices or 2D arrays (or depth in a 3D structure).\n",
    "The second 3 represents the number of rows in each 2D array.\n",
    "The third 3 represents the number of columns in each 2D array.\n",
    "Thus, this is a 3D array with:\n",
    "\n",
    "3 layers (or matrices),\n",
    "Each layer having 3 rows, and\n",
    "Each row having 3 columns.\n",
    "\"\"\""
   ]
  },
  {
   "cell_type": "code",
   "execution_count": 111,
   "id": "edec8c38-a35e-4189-901d-cfcca95ae00f",
   "metadata": {},
   "outputs": [
    {
     "data": {
      "text/plain": [
       "array([1, 2, 3, 4, 5, 6, 7, 8, 9])"
      ]
     },
     "execution_count": 111,
     "metadata": {},
     "output_type": "execute_result"
    }
   ],
   "source": [
    "np.arange(1)"
   ]
  },
  {
   "cell_type": "code",
   "execution_count": 113,
   "id": "7aafd700-6170-448e-95d8-023dff62f95a",
   "metadata": {},
   "outputs": [
    {
     "data": {
      "text/plain": [
       "array([ 1, 11, 21, 31, 41, 51, 61, 71, 81, 91])"
      ]
     },
     "execution_count": 113,
     "metadata": {},
     "output_type": "execute_result"
    }
   ],
   "source": [
    "np.arange(1,100,10)"
   ]
  },
  {
   "cell_type": "code",
   "execution_count": 262,
   "id": "c251e8a0-b47d-4dfd-8493-96e6b943e701",
   "metadata": {},
   "outputs": [
    {
     "name": "stdout",
     "output_type": "stream",
     "text": [
      "g\n"
     ]
    }
   ],
   "source": [
    "# Create an array of letters (both lowercase and uppercase)\n",
    "letters = np.array(list('abcdefghijklmnopqrstuvwxyzABCDEFGHIJKLMNOPQRSTUVWXYZ'))\n",
    "\n",
    "# Generate a single random letter\n",
    "random_letter = np.random.choice(letters)\n",
    "print(random_letter)"
   ]
  },
  {
   "cell_type": "code",
   "execution_count": 264,
   "id": "ad41970a-3d35-4f57-b38e-db5a98f39764",
   "metadata": {},
   "outputs": [
    {
     "name": "stdout",
     "output_type": "stream",
     "text": [
      "[[1 2 3]\n",
      " [7 8 9]]\n"
     ]
    }
   ],
   "source": [
    "\n",
    "\n",
    "# Create a 2D NumPy array\n",
    "arr = np.array([[1, 2, 3],\n",
    "                [4, 5, 6],\n",
    "                [7, 8, 9],\n",
    "                [10, 11, 12]])\n",
    "\n",
    "\n",
    "data = arr[::2]  # This takes every 2nd row, starting from index 0\n",
    "\n",
    "print(data)\n"
   ]
  },
  {
   "cell_type": "code",
   "execution_count": 119,
   "id": "018e35dd-3a93-4c4c-bbf8-98ef0ea3363d",
   "metadata": {},
   "outputs": [],
   "source": [
    "x=np.arange(1,21).reshape(4,5)"
   ]
  },
  {
   "cell_type": "code",
   "execution_count": 156,
   "id": "24d88b95-5a40-4ab3-81e6-0af0ea966c8e",
   "metadata": {},
   "outputs": [
    {
     "name": "stdout",
     "output_type": "stream",
     "text": [
      "x-->⬆ [[ 1  2  3  4  5]\n",
      " [ 6  7  8  9 10]\n",
      " [11 12 13 14 15]\n",
      " [16 17 18 19 20]]\n",
      "**\n",
      "[[ 6  7  8  9 10]\n",
      " [11 12 13 14 15]]\n",
      "*##*\n"
     ]
    },
    {
     "data": {
      "text/plain": [
       "array([[ 1,  2,  3,  4,  5],\n",
       "       [ 6,  7,  8,  9, 10],\n",
       "       [11, 12, 13, 14, 15]])"
      ]
     },
     "execution_count": 156,
     "metadata": {},
     "output_type": "execute_result"
    }
   ],
   "source": [
    "print('x-->⬆',x)\n",
    "\n",
    "print('**')\n",
    "print(x[1:3])\n",
    "print('*##*')\n",
    "x[0:3]"
   ]
  },
  {
   "cell_type": "code",
   "execution_count": 194,
   "id": "e77530d1-12be-4b3b-bebe-02c4b3eba1d9",
   "metadata": {},
   "outputs": [
    {
     "data": {
      "text/plain": [
       "array([[ 7,  8],\n",
       "       [12, 13]])"
      ]
     },
     "execution_count": 194,
     "metadata": {},
     "output_type": "execute_result"
    }
   ],
   "source": [
    "x[1:3,1:3]  # [row:column]  so 1:3 extracts row and 1:3 after comma extracts column"
   ]
  },
  {
   "cell_type": "code",
   "execution_count": 200,
   "id": "aab23587-599a-4a6e-af79-042d6fef6509",
   "metadata": {},
   "outputs": [
    {
     "data": {
      "text/plain": [
       "array([[  1,   2,   3,   4,   5,   6,   7,   8,   9,  10],\n",
       "       [ 11,  12,  13,  14,  15,  16,  17,  18,  19,  20],\n",
       "       [ 21,  22,  23,  24,  25,  26,  27,  28,  29,  30],\n",
       "       [ 31,  32,  33,  34,  35,  36,  37,  38,  39,  40],\n",
       "       [ 41,  42,  43,  44,  45,  46,  47,  48,  49,  50],\n",
       "       [ 51,  52,  53,  54,  55,  56,  57,  58,  59,  60],\n",
       "       [ 61,  62,  63,  64,  65,  66,  67,  68,  69,  70],\n",
       "       [ 71,  72,  73,  74,  75,  76,  77,  78,  79,  80],\n",
       "       [ 81,  82,  83,  84,  85,  86,  87,  88,  89,  90],\n",
       "       [ 91,  92,  93,  94,  95,  96,  97,  98,  99, 100]])"
      ]
     },
     "execution_count": 200,
     "metadata": {},
     "output_type": "execute_result"
    }
   ],
   "source": [
    "in_np=np.arange(1,101).reshape(10,10)\n",
    "in_np"
   ]
  },
  {
   "cell_type": "code",
   "execution_count": 218,
   "id": "51405f40-e365-4bea-bc14-21262f88a352",
   "metadata": {},
   "outputs": [
    {
     "data": {
      "text/plain": [
       "array([[31, 32, 33, 34, 35, 36, 37, 38, 39, 40],\n",
       "       [41, 42, 43, 44, 45, 46, 47, 48, 49, 50],\n",
       "       [51, 52, 53, 54, 55, 56, 57, 58, 59, 60],\n",
       "       [61, 62, 63, 64, 65, 66, 67, 68, 69, 70],\n",
       "       [71, 72, 73, 74, 75, 76, 77, 78, 79, 80]])"
      ]
     },
     "execution_count": 218,
     "metadata": {},
     "output_type": "execute_result"
    }
   ],
   "source": [
    "in_np[3:8]"
   ]
  },
  {
   "cell_type": "code",
   "execution_count": 232,
   "id": "955951ff-23d9-4f2b-8e59-6280f3bc8de5",
   "metadata": {},
   "outputs": [
    {
     "data": {
      "text/plain": [
       "array([[33, 35, 37],\n",
       "       [43, 45, 47],\n",
       "       [53, 55, 57],\n",
       "       [63, 65, 67],\n",
       "       [73, 75, 77]])"
      ]
     },
     "execution_count": 232,
     "metadata": {},
     "output_type": "execute_result"
    }
   ],
   "source": [
    "in_np[3:8,2:7:2] #arr[::2]: This slices the array, taking every second row, effectively skipping the rows in between.\n",
    "#strees of word second"
   ]
  },
  {
   "cell_type": "code",
   "execution_count": 234,
   "id": "dafef455-425a-4a64-a559-223a6ec98336",
   "metadata": {},
   "outputs": [
    {
     "data": {
      "text/plain": [
       "16"
      ]
     },
     "execution_count": 234,
     "metadata": {},
     "output_type": "execute_result"
    }
   ],
   "source": [
    "in_np[1,5]"
   ]
  },
  {
   "cell_type": "code",
   "execution_count": 238,
   "id": "a884dadc-9dcc-4e35-a0b4-bd40ce11ea5f",
   "metadata": {},
   "outputs": [
    {
     "data": {
      "text/plain": [
       "array([[0, 0, 0, 0],\n",
       "       [0, 0, 0, 0],\n",
       "       [0, 0, 0, 0],\n",
       "       [0, 0, 0, 0],\n",
       "       [0, 0, 0, 0]])"
      ]
     },
     "execution_count": 238,
     "metadata": {},
     "output_type": "execute_result"
    }
   ],
   "source": [
    "# all zeroes\n",
    "np.zeros((5,4),dtype='int')"
   ]
  },
  {
   "cell_type": "code",
   "execution_count": 240,
   "id": "d66a4c25-822c-491a-be27-efac766818b9",
   "metadata": {},
   "outputs": [
    {
     "data": {
      "text/plain": [
       "array([[0., 0., 0., 0.],\n",
       "       [0., 0., 0., 0.],\n",
       "       [0., 0., 0., 0.],\n",
       "       [0., 0., 0., 0.],\n",
       "       [0., 0., 0., 0.]])"
      ]
     },
     "execution_count": 240,
     "metadata": {},
     "output_type": "execute_result"
    }
   ],
   "source": [
    "np.zeros((5,4))"
   ]
  },
  {
   "cell_type": "code",
   "execution_count": 246,
   "id": "69e93414-0934-43f2-ac93-e172ef2cd4e1",
   "metadata": {},
   "outputs": [
    {
     "data": {
      "text/plain": [
       "array([[1., 1., 1., 1.],\n",
       "       [1., 1., 1., 1.],\n",
       "       [1., 1., 1., 1.],\n",
       "       [1., 1., 1., 1.],\n",
       "       [1., 1., 1., 1.]])"
      ]
     },
     "execution_count": 246,
     "metadata": {},
     "output_type": "execute_result"
    }
   ],
   "source": [
    "np.ones((5,4))"
   ]
  },
  {
   "cell_type": "code",
   "execution_count": 250,
   "id": "050e8f33-6166-4113-8190-74a97a5aab52",
   "metadata": {},
   "outputs": [
    {
     "data": {
      "text/plain": [
       "array([[77, 77, 77, 77, 77],\n",
       "       [77, 77, 77, 77, 77],\n",
       "       [77, 77, 77, 77, 77],\n",
       "       [77, 77, 77, 77, 77]])"
      ]
     },
     "execution_count": 250,
     "metadata": {},
     "output_type": "execute_result"
    }
   ],
   "source": [
    "np.full((4,5),77)"
   ]
  },
  {
   "cell_type": "code",
   "execution_count": 260,
   "id": "b83d8668-770a-4a41-aa42-f32ee0a69226",
   "metadata": {},
   "outputs": [
    {
     "name": "stdout",
     "output_type": "stream",
     "text": [
      "[[ 0  1  2  3  4]\n",
      " [ 5  6  7  8  9]\n",
      " [10 11 12 13 14]\n",
      " [15 16 17 18 19]\n",
      " [20 21 22 23 24]]\n"
     ]
    },
    {
     "data": {
      "text/plain": [
       "array([[100, 100, 100, 100, 100],\n",
       "       [100, 100, 100, 100, 100],\n",
       "       [100, 100, 100, 100, 100],\n",
       "       [100, 100, 100, 100, 100],\n",
       "       [100, 100, 100, 100, 100]])"
      ]
     },
     "execution_count": 260,
     "metadata": {},
     "output_type": "execute_result"
    }
   ],
   "source": [
    "a=np.arange(0,25).reshape(5,5)\n",
    "print(a)\n",
    "n_fullLike=np.full_like(a,100)\n",
    "n_fullLike"
   ]
  },
  {
   "cell_type": "code",
   "execution_count": 266,
   "id": "a6d62aca-85d1-4739-baf2-28c3af1864eb",
   "metadata": {},
   "outputs": [
    {
     "data": {
      "text/plain": [
       "array([[1., 0., 0., 0., 0.],\n",
       "       [0., 1., 0., 0., 0.],\n",
       "       [0., 0., 1., 0., 0.],\n",
       "       [0., 0., 0., 1., 0.],\n",
       "       [0., 0., 0., 0., 1.]])"
      ]
     },
     "execution_count": 266,
     "metadata": {},
     "output_type": "execute_result"
    }
   ],
   "source": [
    "np.identity(5)"
   ]
  },
  {
   "cell_type": "code",
   "execution_count": 270,
   "id": "cd2131e6-947a-4255-bc2b-8da2927a6f46",
   "metadata": {},
   "outputs": [
    {
     "data": {
      "text/plain": [
       "array([[1., 0., 0., 0., 0.],\n",
       "       [0., 1., 0., 0., 0.],\n",
       "       [0., 0., 1., 0., 0.],\n",
       "       [0., 0., 0., 1., 0.],\n",
       "       [0., 0., 0., 0., 1.]])"
      ]
     },
     "execution_count": 270,
     "metadata": {},
     "output_type": "execute_result"
    }
   ],
   "source": [
    "np.eye(5)"
   ]
  },
  {
   "cell_type": "code",
   "execution_count": 274,
   "id": "dcffcbee-4430-4aea-a53b-954f0cf68d23",
   "metadata": {},
   "outputs": [
    {
     "data": {
      "text/plain": [
       "array([[0., 1., 0., 0., 0., 0., 0.],\n",
       "       [0., 0., 1., 0., 0., 0., 0.],\n",
       "       [0., 0., 0., 1., 0., 0., 0.],\n",
       "       [0., 0., 0., 0., 1., 0., 0.],\n",
       "       [0., 0., 0., 0., 0., 1., 0.],\n",
       "       [0., 0., 0., 0., 0., 0., 1.],\n",
       "       [0., 0., 0., 0., 0., 0., 0.]])"
      ]
     },
     "execution_count": 274,
     "metadata": {},
     "output_type": "execute_result"
    }
   ],
   "source": [
    "np.eye(7,k=1)"
   ]
  },
  {
   "cell_type": "code",
   "execution_count": 276,
   "id": "226c1b38-7b27-49a0-974d-3c05e2c4bc4b",
   "metadata": {},
   "outputs": [
    {
     "data": {
      "text/plain": [
       "array([[0., 0., 1., 0., 0., 0., 0.],\n",
       "       [0., 0., 0., 1., 0., 0., 0.],\n",
       "       [0., 0., 0., 0., 1., 0., 0.],\n",
       "       [0., 0., 0., 0., 0., 1., 0.],\n",
       "       [0., 0., 0., 0., 0., 0., 1.],\n",
       "       [0., 0., 0., 0., 0., 0., 0.],\n",
       "       [0., 0., 0., 0., 0., 0., 0.]])"
      ]
     },
     "execution_count": 276,
     "metadata": {},
     "output_type": "execute_result"
    }
   ],
   "source": [
    "np.eye(7,k=2) #observe the shifting"
   ]
  },
  {
   "cell_type": "code",
   "execution_count": 284,
   "id": "ce44f921-68e5-4428-9193-7d0f24f0bf89",
   "metadata": {},
   "outputs": [],
   "source": [
    "a2='Somnath'"
   ]
  },
  {
   "cell_type": "code",
   "execution_count": 286,
   "id": "8b90d899-0317-4c98-bf40-7f60ee0b6e34",
   "metadata": {},
   "outputs": [
    {
     "data": {
      "text/plain": [
       "'S'"
      ]
     },
     "execution_count": 286,
     "metadata": {},
     "output_type": "execute_result"
    }
   ],
   "source": [
    "a2[0]"
   ]
  },
  {
   "cell_type": "code",
   "execution_count": 290,
   "id": "b52ad1e4-9ad5-4e42-bf9c-deb48b342b04",
   "metadata": {},
   "outputs": [
    {
     "data": {
      "text/plain": [
       "'htanmoS'"
      ]
     },
     "execution_count": 290,
     "metadata": {},
     "output_type": "execute_result"
    }
   ],
   "source": [
    "a2[::-1]"
   ]
  },
  {
   "cell_type": "code",
   "execution_count": 294,
   "id": "efd080ad-a625-4cbe-9511-c05aefbe1b81",
   "metadata": {},
   "outputs": [
    {
     "data": {
      "text/plain": [
       "array([[1, 2, 3],\n",
       "       [4, 5, 6],\n",
       "       [7, 8, 9]])"
      ]
     },
     "execution_count": 294,
     "metadata": {},
     "output_type": "execute_result"
    }
   ],
   "source": [
    "nl=np.arange(1,10).reshape(3,3)\n",
    "nl\n"
   ]
  },
  {
   "cell_type": "code",
   "execution_count": 298,
   "id": "726992ce-f80b-416c-94eb-8862f581c55a",
   "metadata": {},
   "outputs": [
    {
     "data": {
      "text/plain": [
       "array([[1, 4, 7],\n",
       "       [2, 5, 8],\n",
       "       [3, 6, 9]])"
      ]
     },
     "execution_count": 298,
     "metadata": {},
     "output_type": "execute_result"
    }
   ],
   "source": [
    "nl.T"
   ]
  },
  {
   "cell_type": "code",
   "execution_count": 304,
   "id": "68103937-218d-4f60-929b-54c8cd962090",
   "metadata": {},
   "outputs": [
    {
     "data": {
      "text/plain": [
       "array([[9, 8, 7],\n",
       "       [6, 5, 4],\n",
       "       [3, 2, 1]])"
      ]
     },
     "execution_count": 304,
     "metadata": {},
     "output_type": "execute_result"
    }
   ],
   "source": [
    "nl[::-1,::-1]"
   ]
  },
  {
   "cell_type": "code",
   "execution_count": 308,
   "id": "7a0b79bc-22df-47b6-840b-2bb6da72ff5d",
   "metadata": {},
   "outputs": [
    {
     "data": {
      "text/plain": [
       "array([[7, 8, 9],\n",
       "       [4, 5, 6],\n",
       "       [1, 2, 3]])"
      ]
     },
     "execution_count": 308,
     "metadata": {},
     "output_type": "execute_result"
    }
   ],
   "source": [
    "nl[::-1]\n"
   ]
  },
  {
   "cell_type": "code",
   "execution_count": 310,
   "id": "f9e94c5e-36e9-47e1-b5bc-d05a31920d00",
   "metadata": {},
   "outputs": [
    {
     "data": {
      "text/plain": [
       "[6, 5, 4, 3, 2, 1]"
      ]
     },
     "execution_count": 310,
     "metadata": {},
     "output_type": "execute_result"
    }
   ],
   "source": [
    "xy=[1,2,3,4,5,6]\n",
    "xy[::-1]"
   ]
  },
  {
   "cell_type": "code",
   "execution_count": 312,
   "id": "8d52f5ce-fd21-4d9f-9df2-a4f54795b955",
   "metadata": {},
   "outputs": [
    {
     "data": {
      "text/plain": [
       "[6, 3]"
      ]
     },
     "execution_count": 312,
     "metadata": {},
     "output_type": "execute_result"
    }
   ],
   "source": [
    "xy[::-3]"
   ]
  },
  {
   "cell_type": "code",
   "execution_count": 322,
   "id": "47de9ab0-f7ea-455c-97ed-f1c9252a5e39",
   "metadata": {},
   "outputs": [
    {
     "data": {
      "text/plain": [
       "array([[1, 1, 1, 1, 1],\n",
       "       [1, 1, 1, 1, 1],\n",
       "       [1, 1, 1, 1, 1],\n",
       "       [1, 1, 1, 1, 1],\n",
       "       [1, 1, 1, 1, 1]])"
      ]
     },
     "execution_count": 322,
     "metadata": {},
     "output_type": "execute_result"
    }
   ],
   "source": [
    "gen_arr=np.ones((5,5),dtype='int')\n",
    "gen_arr"
   ]
  },
  {
   "cell_type": "code",
   "execution_count": 326,
   "id": "3c4ca0c5-ddd6-48bc-936a-c326fdc36aa3",
   "metadata": {},
   "outputs": [
    {
     "data": {
      "text/plain": [
       "array([[0., 0., 0.],\n",
       "       [0., 0., 0.],\n",
       "       [0., 0., 0.]])"
      ]
     },
     "execution_count": 326,
     "metadata": {},
     "output_type": "execute_result"
    }
   ],
   "source": [
    "gen_arr2=np.zeros((3,3))\n",
    "gen_arr2"
   ]
  },
  {
   "cell_type": "code",
   "execution_count": 328,
   "id": "1fa8d0b0-1886-459f-b285-c37f9790f387",
   "metadata": {},
   "outputs": [],
   "source": [
    "gen_arr2[1,1]=9"
   ]
  },
  {
   "cell_type": "code",
   "execution_count": 330,
   "id": "eec47f96-18c7-4c0b-b1a2-b092715d6322",
   "metadata": {},
   "outputs": [
    {
     "data": {
      "text/plain": [
       "array([[0., 0., 0.],\n",
       "       [0., 9., 0.],\n",
       "       [0., 0., 0.]])"
      ]
     },
     "execution_count": 330,
     "metadata": {},
     "output_type": "execute_result"
    }
   ],
   "source": [
    "gen_arr2"
   ]
  },
  {
   "cell_type": "code",
   "execution_count": 336,
   "id": "571c5ffe-7d2d-431e-809d-acaccafa2d48",
   "metadata": {},
   "outputs": [],
   "source": [
    "gen_arr[1:4,1:4]=gen_arr2 #update concept"
   ]
  },
  {
   "cell_type": "code",
   "execution_count": 334,
   "id": "973ca89e-3be2-44df-9e1c-f4febfad3c69",
   "metadata": {},
   "outputs": [
    {
     "data": {
      "text/plain": [
       "array([[1, 1, 1, 1, 1],\n",
       "       [1, 0, 0, 0, 1],\n",
       "       [1, 0, 9, 0, 1],\n",
       "       [1, 0, 0, 0, 1],\n",
       "       [1, 1, 1, 1, 1]])"
      ]
     },
     "execution_count": 334,
     "metadata": {},
     "output_type": "execute_result"
    }
   ],
   "source": [
    "gen_arr"
   ]
  },
  {
   "cell_type": "code",
   "execution_count": 338,
   "id": "47256c78-438f-478d-aa44-a1f627130030",
   "metadata": {},
   "outputs": [],
   "source": [
    "#statistics -explore on own"
   ]
  },
  {
   "cell_type": "code",
   "execution_count": 340,
   "id": "cd06f40a-8927-4583-8306-ed492ba7455f",
   "metadata": {},
   "outputs": [
    {
     "data": {
      "text/plain": [
       "array([1, 2, 3, 4, 5, 6, 7, 8, 9])"
      ]
     },
     "execution_count": 340,
     "metadata": {},
     "output_type": "execute_result"
    }
   ],
   "source": [
    "stats_ar=np.arange(1,10)\n",
    "stats_ar"
   ]
  },
  {
   "cell_type": "code",
   "execution_count": 342,
   "id": "d0537142-18c5-4b67-9998-06f6b8b90d56",
   "metadata": {},
   "outputs": [
    {
     "data": {
      "text/plain": [
       "1"
      ]
     },
     "execution_count": 342,
     "metadata": {},
     "output_type": "execute_result"
    }
   ],
   "source": [
    "stats_ar.min()"
   ]
  },
  {
   "cell_type": "code",
   "execution_count": 344,
   "id": "64bfba0c-b638-4bfb-836f-0fc60ed7d4af",
   "metadata": {},
   "outputs": [
    {
     "data": {
      "text/plain": [
       "362880"
      ]
     },
     "execution_count": 344,
     "metadata": {},
     "output_type": "execute_result"
    }
   ],
   "source": [
    "stats_ar.prod()"
   ]
  },
  {
   "cell_type": "code",
   "execution_count": 348,
   "id": "8d5147a7-bfe2-4f0a-9944-3598772171cd",
   "metadata": {},
   "outputs": [
    {
     "data": {
      "text/plain": [
       "array([[1, 0, 0, 0, 0],\n",
       "       [0, 1, 0, 0, 0],\n",
       "       [0, 0, 1, 0, 0],\n",
       "       [0, 0, 0, 1, 0],\n",
       "       [0, 0, 0, 0, 1]])"
      ]
     },
     "execution_count": 348,
     "metadata": {},
     "output_type": "execute_result"
    }
   ],
   "source": [
    "stats_ar2=np.identity(5,dtype='int')\n",
    "stats_ar2"
   ]
  },
  {
   "cell_type": "code",
   "execution_count": 352,
   "id": "1352425e-9e0e-467c-b8a5-db3b612fb68e",
   "metadata": {},
   "outputs": [
    {
     "data": {
      "text/plain": [
       "1.0"
      ]
     },
     "execution_count": 352,
     "metadata": {},
     "output_type": "execute_result"
    }
   ],
   "source": [
    "np.linalg.det(stats_ar2) ##something mathematical"
   ]
  },
  {
   "cell_type": "code",
   "execution_count": 354,
   "id": "7e502257-5ebd-46be-a2b9-62dd42b4f35d",
   "metadata": {},
   "outputs": [
    {
     "data": {
      "text/plain": [
       "array([[1, 2, 3],\n",
       "       [4, 5, 6]])"
      ]
     },
     "execution_count": 354,
     "metadata": {},
     "output_type": "execute_result"
    }
   ],
   "source": [
    "stats_ar3=np.arange(1,7).reshape(2,3)\n",
    "stats_ar3"
   ]
  },
  {
   "cell_type": "code",
   "execution_count": 356,
   "id": "72055abd-7865-4d1c-aefd-2160cedc4d68",
   "metadata": {},
   "outputs": [
    {
     "data": {
      "text/plain": [
       "array([[1, 2, 3],\n",
       "       [4, 5, 6]])"
      ]
     },
     "execution_count": 356,
     "metadata": {},
     "output_type": "execute_result"
    }
   ],
   "source": [
    "stats_ar4=np.arange(1,7).reshape(2,3)\n",
    "stats_ar4"
   ]
  },
  {
   "cell_type": "code",
   "execution_count": 358,
   "id": "d756d760-3d10-4ec1-9fe0-2729745d0436",
   "metadata": {},
   "outputs": [
    {
     "data": {
      "text/plain": [
       "array([[ 1,  4,  9],\n",
       "       [16, 25, 36]])"
      ]
     },
     "execution_count": 358,
     "metadata": {},
     "output_type": "execute_result"
    }
   ],
   "source": [
    "stats_ar4*stats_ar3 #possible as same shape same indexs gets multiplied"
   ]
  },
  {
   "cell_type": "code",
   "execution_count": 360,
   "id": "2ce33c7d-7e59-4e4b-b7a4-144f64e20f6d",
   "metadata": {},
   "outputs": [
    {
     "data": {
      "text/plain": [
       "array([0.34237455, 0.19859119, 0.5213961 , 0.64570135, 0.03488647])"
      ]
     },
     "execution_count": 360,
     "metadata": {},
     "output_type": "execute_result"
    }
   ],
   "source": [
    "arr_random=np.random.rand(5)\n",
    "arr_random"
   ]
  },
  {
   "cell_type": "code",
   "execution_count": 362,
   "id": "506dd04e-0d6e-492c-adad-16757b78759e",
   "metadata": {},
   "outputs": [
    {
     "data": {
      "text/plain": [
       "array([0.06764185, 0.82600052, 0.13886495, 0.05463509, 0.75412076])"
      ]
     },
     "execution_count": 362,
     "metadata": {},
     "output_type": "execute_result"
    }
   ],
   "source": [
    "arr_random2=np.random.rand(5)\n",
    "arr_random2"
   ]
  },
  {
   "cell_type": "code",
   "execution_count": 366,
   "id": "4a947cfa-90f3-4491-ae44-fe50b54ce6bc",
   "metadata": {},
   "outputs": [
    {
     "data": {
      "text/plain": [
       "array([6, 8, 5, 7, 9, 9, 9, 7, 9, 5, 7, 9])"
      ]
     },
     "execution_count": 366,
     "metadata": {},
     "output_type": "execute_result"
    }
   ],
   "source": [
    "arr_random3=np.random.randint(5,10,12) #lowvalue,high value and size Press shift tab to see fn def\n",
    "arr_random3"
   ]
  },
  {
   "cell_type": "code",
   "execution_count": 368,
   "id": "cb42f449-7560-444b-864f-68af95b5a207",
   "metadata": {},
   "outputs": [
    {
     "data": {
      "text/plain": [
       "7.5"
      ]
     },
     "execution_count": 368,
     "metadata": {},
     "output_type": "execute_result"
    }
   ],
   "source": [
    "arr_random3.mean()"
   ]
  },
  {
   "cell_type": "code",
   "execution_count": 372,
   "id": "be96b554-55ed-4080-addd-1866b61a691e",
   "metadata": {},
   "outputs": [
    {
     "data": {
      "text/plain": [
       "90"
      ]
     },
     "execution_count": 372,
     "metadata": {},
     "output_type": "execute_result"
    }
   ],
   "source": [
    "arr_random3.sum()"
   ]
  },
  {
   "cell_type": "code",
   "execution_count": 374,
   "id": "e8df9904-84c0-4dde-b76a-5b3a72b08d8f",
   "metadata": {},
   "outputs": [
    {
     "data": {
      "text/plain": [
       "1.5"
      ]
     },
     "execution_count": 374,
     "metadata": {},
     "output_type": "execute_result"
    }
   ],
   "source": [
    "arr_random3.std()"
   ]
  },
  {
   "cell_type": "code",
   "execution_count": 376,
   "id": "0fb00895-e09e-4572-999a-9eef288a5935",
   "metadata": {},
   "outputs": [
    {
     "data": {
      "text/plain": [
       "array([0.07138837, 0.15104888, 0.61520616, 0.83329572, 0.52251974])"
      ]
     },
     "execution_count": 376,
     "metadata": {},
     "output_type": "execute_result"
    }
   ],
   "source": [
    "arr_random4=np.random.random(5) \n",
    "arr_random4"
   ]
  },
  {
   "cell_type": "code",
   "execution_count": 378,
   "id": "b43337af-5885-474e-a78f-44473612392f",
   "metadata": {},
   "outputs": [],
   "source": [
    "m=np.array([True,True,True,True])\n",
    "n=np.array([True,False,True,False])\n",
    "o=np.array([False,False,False,False])"
   ]
  },
  {
   "cell_type": "code",
   "execution_count": 380,
   "id": "916c9be7-6fd3-4748-ac9e-083eb3818330",
   "metadata": {},
   "outputs": [
    {
     "data": {
      "text/plain": [
       "True"
      ]
     },
     "execution_count": 380,
     "metadata": {},
     "output_type": "execute_result"
    }
   ],
   "source": [
    "m.any()"
   ]
  },
  {
   "cell_type": "code",
   "execution_count": 388,
   "id": "bccc0729-6617-4998-9387-5e77f26b9102",
   "metadata": {},
   "outputs": [
    {
     "data": {
      "text/plain": [
       "True"
      ]
     },
     "execution_count": 388,
     "metadata": {},
     "output_type": "execute_result"
    }
   ],
   "source": [
    "n.any()"
   ]
  },
  {
   "cell_type": "code",
   "execution_count": 390,
   "id": "48282b1e-cc7f-4a22-9699-5bd05194c658",
   "metadata": {},
   "outputs": [
    {
     "data": {
      "text/plain": [
       "False"
      ]
     },
     "execution_count": 390,
     "metadata": {},
     "output_type": "execute_result"
    }
   ],
   "source": [
    "n.all()"
   ]
  },
  {
   "cell_type": "code",
   "execution_count": 406,
   "id": "2df7e2e8-567e-40df-a145-46ea2abe01de",
   "metadata": {},
   "outputs": [],
   "source": [
    "p=np.array([1,88,3,4])\n",
    "q=np.array([2,1,4,2])"
   ]
  },
  {
   "cell_type": "code",
   "execution_count": null,
   "id": "5dd2cddd-b49c-4fae-9824-9cd0aa4d932e",
   "metadata": {},
   "outputs": [],
   "source": []
  },
  {
   "cell_type": "code",
   "execution_count": 414,
   "id": "bb5b9969-22e7-47e2-889b-a08c3cc46bcd",
   "metadata": {},
   "outputs": [
    {
     "data": {
      "text/plain": [
       "array([1, 1, 3, 2])"
      ]
     },
     "execution_count": 414,
     "metadata": {},
     "output_type": "execute_result"
    }
   ],
   "source": [
    "np.where(n,p,q) #result comes on basis of n"
   ]
  },
  {
   "cell_type": "code",
   "execution_count": null,
   "id": "ee5a208d-0263-4dec-a991-7711eb838f20",
   "metadata": {},
   "outputs": [],
   "source": []
  },
  {
   "cell_type": "code",
   "execution_count": 398,
   "id": "cc5ff519-6959-48c0-8f28-5a58990dc1f6",
   "metadata": {},
   "outputs": [
    {
     "data": {
      "text/plain": [
       "array([10, 20, 30, 40])"
      ]
     },
     "execution_count": 398,
     "metadata": {},
     "output_type": "execute_result"
    }
   ],
   "source": [
    "t_np=np.array([10,20,30,40])\n",
    "t_np"
   ]
  },
  {
   "cell_type": "code",
   "execution_count": 400,
   "id": "93dc166a-c460-4c12-94f3-47ff12df7016",
   "metadata": {},
   "outputs": [
    {
     "data": {
      "text/plain": [
       "array([False, False,  True,  True])"
      ]
     },
     "execution_count": 400,
     "metadata": {},
     "output_type": "execute_result"
    }
   ],
   "source": [
    "t_np[:]>20"
   ]
  },
  {
   "cell_type": "code",
   "execution_count": 424,
   "id": "00d3b56c-5af2-44be-a142-df04c31be886",
   "metadata": {},
   "outputs": [
    {
     "data": {
      "text/plain": [
       "array([2, 1, 3, 4])"
      ]
     },
     "execution_count": 424,
     "metadata": {},
     "output_type": "execute_result"
    }
   ],
   "source": [
    "np.where(t_np>20,p,q)"
   ]
  },
  {
   "cell_type": "code",
   "execution_count": 434,
   "id": "559bacf6-f756-4b8a-81bd-bfd3818e86dd",
   "metadata": {},
   "outputs": [
    {
     "data": {
      "text/plain": [
       "array([[ 9, 54],\n",
       "       [24, 81],\n",
       "       [43, 81],\n",
       "       [11, 45],\n",
       "       [32, 56],\n",
       "       [55, 29]])"
      ]
     },
     "execution_count": 434,
     "metadata": {},
     "output_type": "execute_result"
    }
   ],
   "source": [
    "stu=np.random.randint(5,90,12).reshape(6,2)\n",
    "stu\n"
   ]
  },
  {
   "cell_type": "code",
   "execution_count": 436,
   "id": "6eca0374-e899-4212-901b-eca0a323bd74",
   "metadata": {},
   "outputs": [
    {
     "data": {
      "text/plain": [
       "array([54, 81, 43, 81, 45, 56, 55])"
      ]
     },
     "execution_count": 436,
     "metadata": {},
     "output_type": "execute_result"
    }
   ],
   "source": [
    "status=stu[stu>35]\n",
    "status"
   ]
  },
  {
   "cell_type": "code",
   "execution_count": 440,
   "id": "1d1d5352-8068-4c45-91bf-bc13164499ad",
   "metadata": {},
   "outputs": [
    {
     "data": {
      "text/plain": [
       "array([[49, 68, 67],\n",
       "       [34, 77, 88],\n",
       "       [58, 44, 13],\n",
       "       [31, 71, 83],\n",
       "       [80, 60, 65]])"
      ]
     },
     "execution_count": 440,
     "metadata": {},
     "output_type": "execute_result"
    }
   ],
   "source": [
    "reformedis=np.random.randint(5,90,15).reshape(5,3) ## pending\n",
    "reformedis"
   ]
  },
  {
   "cell_type": "code",
   "execution_count": null,
   "id": "aa237668-9983-497a-8453-563daf8b6c0d",
   "metadata": {},
   "outputs": [],
   "source": []
  },
  {
   "cell_type": "code",
   "execution_count": 176,
   "id": "2ad1fa6d-154c-440d-b38c-53c3220fcb20",
   "metadata": {},
   "outputs": [
    {
     "data": {
      "text/plain": [
       "array([[ 6,  7,  8,  9, 10],\n",
       "       [11, 12, 13, 14, 15]])"
      ]
     },
     "execution_count": 176,
     "metadata": {},
     "output_type": "execute_result"
    }
   ],
   "source": []
  },
  {
   "cell_type": "code",
   "execution_count": 174,
   "id": "d85b8cb8-612f-4383-b2f6-5bb7cd565de0",
   "metadata": {},
   "outputs": [
    {
     "data": {
      "text/plain": [
       "array([[11, 12, 13, 14, 15],\n",
       "       [16, 17, 18, 19, 20]])"
      ]
     },
     "execution_count": 174,
     "metadata": {},
     "output_type": "execute_result"
    }
   ],
   "source": [
    "x[-2:] # to include last element"
   ]
  },
  {
   "cell_type": "code",
   "execution_count": 123,
   "id": "fdbd3d1b-7b46-4b32-94e6-eb7ebe3800bf",
   "metadata": {},
   "outputs": [
    {
     "data": {
      "text/plain": [
       "array([[ 1,  2,  3,  4,  5,  6,  7,  8,  9, 10],\n",
       "       [11, 12, 13, 14, 15, 16, 17, 18, 19, 20]])"
      ]
     },
     "execution_count": 123,
     "metadata": {},
     "output_type": "execute_result"
    }
   ],
   "source": [
    "x2=np.arange(1,21).reshape(2,10)\n",
    "x2"
   ]
  },
  {
   "cell_type": "code",
   "execution_count": 127,
   "id": "0b71b188-d4a9-4e05-b497-51f1fe65a3b1",
   "metadata": {},
   "outputs": [
    {
     "data": {
      "text/plain": [
       "array([[[ 1,  2,  3,  4,  5,  6,  7,  8,  9, 10],\n",
       "        [11, 12, 13, 14, 15, 16, 17, 18, 19, 20]]])"
      ]
     },
     "execution_count": 127,
     "metadata": {},
     "output_type": "execute_result"
    }
   ],
   "source": [
    "x3=np.arange(1,21).reshape(1,2,10)\n",
    "x3"
   ]
  },
  {
   "cell_type": "code",
   "execution_count": 129,
   "id": "e9c779fd-8fa4-4481-a093-a0eeca3bb9f8",
   "metadata": {},
   "outputs": [
    {
     "data": {
      "text/plain": [
       "array([[[ 1,  2,  3,  4,  5],\n",
       "        [ 6,  7,  8,  9, 10]],\n",
       "\n",
       "       [[11, 12, 13, 14, 15],\n",
       "        [16, 17, 18, 19, 20]]])"
      ]
     },
     "execution_count": 129,
     "metadata": {},
     "output_type": "execute_result"
    }
   ],
   "source": [
    "x4=np.arange(1,21).reshape(2,2,5) # changing to 3d array\n",
    "x4"
   ]
  },
  {
   "cell_type": "code",
   "execution_count": 136,
   "id": "f68ae655-dc6c-4658-94ca-275dad270b64",
   "metadata": {},
   "outputs": [
    {
     "data": {
      "text/plain": [
       "array([3, 4, 5])"
      ]
     },
     "execution_count": 136,
     "metadata": {},
     "output_type": "execute_result"
    }
   ],
   "source": [
    "b=np.array([1,2,3,4,5,6])\n",
    "b[2:5]"
   ]
  },
  {
   "cell_type": "code",
   "execution_count": 140,
   "id": "050abd56-34ac-447c-a899-3a19c05065d4",
   "metadata": {},
   "outputs": [
    {
     "data": {
      "text/plain": [
       "array([[ 1,  2,  3,  4,  5],\n",
       "       [ 6,  7,  8,  9, 10],\n",
       "       [11, 12, 13, 14, 15]])"
      ]
     },
     "execution_count": 140,
     "metadata": {},
     "output_type": "execute_result"
    }
   ],
   "source": [
    "x[0:3]"
   ]
  },
  {
   "cell_type": "code",
   "execution_count": null,
   "id": "f2e63b11-4869-4ef9-8e53-2589e8603772",
   "metadata": {},
   "outputs": [],
   "source": []
  },
  {
   "cell_type": "code",
   "execution_count": null,
   "id": "8e8cf10c-3071-42a2-832b-1c476286a0a5",
   "metadata": {},
   "outputs": [],
   "source": []
  },
  {
   "cell_type": "code",
   "execution_count": 33,
   "id": "72ee1d38-0f55-4799-bc9c-8460d6dcc331",
   "metadata": {},
   "outputs": [
    {
     "name": "stdout",
     "output_type": "stream",
     "text": [
      "Index array: [0 1 2 3 4]\n",
      "Element at index 0: a\n",
      "Element at index 1: b\n",
      "Element at index 2: c\n",
      "Element at index 3: d\n",
      "Element at index 4: e\n"
     ]
    }
   ],
   "source": [
    "\n",
    "\n",
    "data = ['a', 'b', 'c', 'd', 'e']\n",
    "index = np.arange(len(data))\n",
    "print(\"Index array:\", index)\n",
    "\n",
    "# Accessing elements using the index array\n",
    "for i in index:\n",
    "    print(f\"Element at index {i}: {data[i]}\")\n",
    "\n",
    "# When working with data that requires indexing, arange can be used to generate arrays that serve as indices for other arrays or structures."
   ]
  },
  {
   "cell_type": "code",
   "execution_count": 4,
   "id": "5e0f89fe-5ca0-418b-8d5e-4660d07a10f5",
   "metadata": {},
   "outputs": [],
   "source": [
    "import numpy as np"
   ]
  },
  {
   "cell_type": "markdown",
   "id": "ade3962e-022a-4672-8a61-5e9cee9cb828",
   "metadata": {},
   "source": [
    "1. Creating Sequences of Numbers\n",
    "The most common use of arange is to create sequences of numbers for quick iteration or numerical analysis. It’s especially useful when you need an array of numbers to represent time steps, coordinates, indices, etc."
   ]
  },
  {
   "cell_type": "code",
   "execution_count": 23,
   "id": "9257ba9d-e4f5-4d34-a2dc-6f0edc40a60f",
   "metadata": {},
   "outputs": [
    {
     "name": "stdout",
     "output_type": "stream",
     "text": [
      "[0 1 2 3 4 5 6 7 8 9]\n"
     ]
    }
   ],
   "source": [
    "\n",
    "\n",
    "# Creating an array of numbers from 0 to 9\n",
    "arr = np.arange(10)\n",
    "print(arr)\n"
   ]
  },
  {
   "cell_type": "code",
   "execution_count": 42,
   "id": "91641b84-7fec-4a1b-a8fb-fee0ea918403",
   "metadata": {},
   "outputs": [
    {
     "name": "stdout",
     "output_type": "stream",
     "text": [
      "1\n",
      "2\n",
      "3\n",
      "4\n",
      "5\n",
      "6\n",
      "***** nditer *****\n",
      "1\n",
      "2\n",
      "3\n",
      "4\n",
      "5\n",
      "6\n"
     ]
    }
   ],
   "source": [
    "# You can iterate over a NumPy array using a simple for loop or Python’s flat attribute for arrays.\n",
    "\n",
    "arr = np.array([[1, 2, 3], [4, 5, 6]])\n",
    "\n",
    "# Simple iteration using a for loop\n",
    "for row in arr:\n",
    "    for element in row:\n",
    "        print(element)\n",
    "print(\"***** nditer *****\")\n",
    "for element in np.nditer(arr):\n",
    "    print(element)\n",
    "\n"
   ]
  },
  {
   "cell_type": "markdown",
   "id": "4bc6517f-519d-4659-a06f-a5f0ecbb61d0",
   "metadata": {},
   "source": [
    "Why Use nditer:\n",
    "Efficiency: nditer is optimized for performance, especially when dealing with large arrays. It avoids the overhead of multiple loops in Python.\n",
    "Element-Wise Iteration: Using nditer, you can iterate over arrays element by element, regardless of their shape, without needing nested loops."
   ]
  },
  {
   "cell_type": "code",
   "execution_count": 6,
   "id": "c094d410-8025-48f3-92d6-15d7d913b72f",
   "metadata": {},
   "outputs": [
    {
     "name": "stdout",
     "output_type": "stream",
     "text": [
      "[0.564827   0.46272948 0.99810375 0.01592823 0.55593397]\n"
     ]
    }
   ],
   "source": [
    "# Generate a random array of 5 elements\n",
    "random_arr = np.random.rand(5)\n",
    "print(random_arr)\n"
   ]
  },
  {
   "cell_type": "code",
   "execution_count": null,
   "id": "30a3d5e2-d54e-42d1-8823-07a4e96fd7b2",
   "metadata": {},
   "outputs": [],
   "source": []
  }
 ],
 "metadata": {
  "kernelspec": {
   "display_name": "Python 3 (ipykernel)",
   "language": "python",
   "name": "python3"
  },
  "language_info": {
   "codemirror_mode": {
    "name": "ipython",
    "version": 3
   },
   "file_extension": ".py",
   "mimetype": "text/x-python",
   "name": "python",
   "nbconvert_exporter": "python",
   "pygments_lexer": "ipython3",
   "version": "3.12.4"
  }
 },
 "nbformat": 4,
 "nbformat_minor": 5
}
