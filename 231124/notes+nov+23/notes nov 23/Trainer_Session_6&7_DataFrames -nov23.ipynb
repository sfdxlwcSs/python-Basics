{
 "cells": [
  {
   "cell_type": "markdown",
   "id": "46ee2c73-42b6-4970-bec1-11c10784d452",
   "metadata": {},
   "source": [
    "**Concat, Melt and others**"
   ]
  },
  {
   "cell_type": "code",
   "execution_count": 5,
   "id": "27db198e-5094-4056-837e-25e5e2619d3d",
   "metadata": {},
   "outputs": [],
   "source": [
    "import pandas as pd"
   ]
  },
  {
   "cell_type": "code",
   "execution_count": 7,
   "id": "a09a05e4-9a9a-436d-9b86-b8e4b45f2bb5",
   "metadata": {},
   "outputs": [
    {
     "name": "stdout",
     "output_type": "stream",
     "text": [
      "The first dataframe is : \n",
      "      Name Company  Salary\n",
      "11  Rohit     TCS   44000\n",
      "12  Rahul     CTS   60000\n",
      "13  Rishi   WIPRO   53000\n",
      "14   Ryan  GOOGLE   25000\n",
      "15  Arjun    BENZ   46000 \n",
      "\n",
      "\n",
      "The second dataframe is : \n",
      "       Name Company  Salary\n",
      "11  Lokesh     HCL   45000\n",
      "12     Anl     TCS   40000\n",
      "13    Anil   WIPRO   36000\n",
      "14  Nalini  GOOGLE   57000\n",
      "15  Rashmi     CTS   55000\n",
      "16  Rashmi   WIPRO   55000\n"
     ]
    }
   ],
   "source": [
    "df_1 = pd.DataFrame({\n",
    "   'Name': ['Rohit', 'Rahul', 'Rishi', 'Ryan', 'Arjun'],\n",
    "   'Company':['TCS','CTS','WIPRO','GOOGLE','BENZ'],\n",
    "   'Salary':[44000,60000,53000,25000,46000]},\n",
    "   index=[11,12,13,14,15])\n",
    "\n",
    "print(\"The first dataframe is : \\n\",df_1, \"\\n\\n\")\n",
    "\n",
    "df_2 = pd.DataFrame({\n",
    "   'Name': ['Lokesh', 'Anl', 'Anil', 'Nalini', 'Rashmi','Rashmi'],\n",
    "   'Company':['HCL','TCS','WIPRO','GOOGLE','CTS','WIPRO'],\n",
    "   'Salary':[45000,40000,36000,57000,55000,55000]},\n",
    "   index=[11,12,13,14,15,16])\n",
    "\n",
    "print(\"The second dataframe is : \\n\",df_2)"
   ]
  },
  {
   "cell_type": "code",
   "execution_count": null,
   "id": "a8217c62-e722-44b8-89a6-ce974cc02e89",
   "metadata": {},
   "outputs": [],
   "source": [
    "df_1"
   ]
  },
  {
   "cell_type": "code",
   "execution_count": null,
   "id": "7f45dac0-dd28-4983-8830-74c77fe4ef9b",
   "metadata": {},
   "outputs": [],
   "source": [
    "df_2"
   ]
  },
  {
   "cell_type": "code",
   "execution_count": 9,
   "id": "1c82aebb-51cd-42e7-968d-842daaba786c",
   "metadata": {},
   "outputs": [
    {
     "data": {
      "text/html": [
       "<div>\n",
       "<style scoped>\n",
       "    .dataframe tbody tr th:only-of-type {\n",
       "        vertical-align: middle;\n",
       "    }\n",
       "\n",
       "    .dataframe tbody tr th {\n",
       "        vertical-align: top;\n",
       "    }\n",
       "\n",
       "    .dataframe thead th {\n",
       "        text-align: right;\n",
       "    }\n",
       "</style>\n",
       "<table border=\"1\" class=\"dataframe\">\n",
       "  <thead>\n",
       "    <tr style=\"text-align: right;\">\n",
       "      <th></th>\n",
       "      <th>Name</th>\n",
       "      <th>Company</th>\n",
       "      <th>Salary</th>\n",
       "    </tr>\n",
       "  </thead>\n",
       "  <tbody>\n",
       "    <tr>\n",
       "      <th>11</th>\n",
       "      <td>Rohit</td>\n",
       "      <td>TCS</td>\n",
       "      <td>44000</td>\n",
       "    </tr>\n",
       "    <tr>\n",
       "      <th>12</th>\n",
       "      <td>Rahul</td>\n",
       "      <td>CTS</td>\n",
       "      <td>60000</td>\n",
       "    </tr>\n",
       "    <tr>\n",
       "      <th>13</th>\n",
       "      <td>Rishi</td>\n",
       "      <td>WIPRO</td>\n",
       "      <td>53000</td>\n",
       "    </tr>\n",
       "    <tr>\n",
       "      <th>14</th>\n",
       "      <td>Ryan</td>\n",
       "      <td>GOOGLE</td>\n",
       "      <td>25000</td>\n",
       "    </tr>\n",
       "    <tr>\n",
       "      <th>15</th>\n",
       "      <td>Arjun</td>\n",
       "      <td>BENZ</td>\n",
       "      <td>46000</td>\n",
       "    </tr>\n",
       "    <tr>\n",
       "      <th>11</th>\n",
       "      <td>Lokesh</td>\n",
       "      <td>HCL</td>\n",
       "      <td>45000</td>\n",
       "    </tr>\n",
       "    <tr>\n",
       "      <th>12</th>\n",
       "      <td>Anl</td>\n",
       "      <td>TCS</td>\n",
       "      <td>40000</td>\n",
       "    </tr>\n",
       "    <tr>\n",
       "      <th>13</th>\n",
       "      <td>Anil</td>\n",
       "      <td>WIPRO</td>\n",
       "      <td>36000</td>\n",
       "    </tr>\n",
       "    <tr>\n",
       "      <th>14</th>\n",
       "      <td>Nalini</td>\n",
       "      <td>GOOGLE</td>\n",
       "      <td>57000</td>\n",
       "    </tr>\n",
       "    <tr>\n",
       "      <th>15</th>\n",
       "      <td>Rashmi</td>\n",
       "      <td>CTS</td>\n",
       "      <td>55000</td>\n",
       "    </tr>\n",
       "    <tr>\n",
       "      <th>16</th>\n",
       "      <td>Rashmi</td>\n",
       "      <td>WIPRO</td>\n",
       "      <td>55000</td>\n",
       "    </tr>\n",
       "  </tbody>\n",
       "</table>\n",
       "</div>"
      ],
      "text/plain": [
       "      Name Company  Salary\n",
       "11   Rohit     TCS   44000\n",
       "12   Rahul     CTS   60000\n",
       "13   Rishi   WIPRO   53000\n",
       "14    Ryan  GOOGLE   25000\n",
       "15   Arjun    BENZ   46000\n",
       "11  Lokesh     HCL   45000\n",
       "12     Anl     TCS   40000\n",
       "13    Anil   WIPRO   36000\n",
       "14  Nalini  GOOGLE   57000\n",
       "15  Rashmi     CTS   55000\n",
       "16  Rashmi   WIPRO   55000"
      ]
     },
     "execution_count": 9,
     "metadata": {},
     "output_type": "execute_result"
    }
   ],
   "source": [
    "pd.concat([df_1,df_2])"
   ]
  },
  {
   "cell_type": "code",
   "execution_count": 11,
   "id": "08c118a7-f9bc-45e6-a263-0e2ff38d7688",
   "metadata": {},
   "outputs": [
    {
     "data": {
      "text/html": [
       "<div>\n",
       "<style scoped>\n",
       "    .dataframe tbody tr th:only-of-type {\n",
       "        vertical-align: middle;\n",
       "    }\n",
       "\n",
       "    .dataframe tbody tr th {\n",
       "        vertical-align: top;\n",
       "    }\n",
       "\n",
       "    .dataframe thead th {\n",
       "        text-align: right;\n",
       "    }\n",
       "</style>\n",
       "<table border=\"1\" class=\"dataframe\">\n",
       "  <thead>\n",
       "    <tr style=\"text-align: right;\">\n",
       "      <th></th>\n",
       "      <th>Name</th>\n",
       "      <th>Company</th>\n",
       "      <th>Salary</th>\n",
       "    </tr>\n",
       "  </thead>\n",
       "  <tbody>\n",
       "    <tr>\n",
       "      <th>11</th>\n",
       "      <td>Rohit</td>\n",
       "      <td>TCS</td>\n",
       "      <td>44000</td>\n",
       "    </tr>\n",
       "    <tr>\n",
       "      <th>12</th>\n",
       "      <td>Rahul</td>\n",
       "      <td>CTS</td>\n",
       "      <td>60000</td>\n",
       "    </tr>\n",
       "    <tr>\n",
       "      <th>13</th>\n",
       "      <td>Rishi</td>\n",
       "      <td>WIPRO</td>\n",
       "      <td>53000</td>\n",
       "    </tr>\n",
       "    <tr>\n",
       "      <th>14</th>\n",
       "      <td>Ryan</td>\n",
       "      <td>GOOGLE</td>\n",
       "      <td>25000</td>\n",
       "    </tr>\n",
       "    <tr>\n",
       "      <th>15</th>\n",
       "      <td>Arjun</td>\n",
       "      <td>BENZ</td>\n",
       "      <td>46000</td>\n",
       "    </tr>\n",
       "    <tr>\n",
       "      <th>11</th>\n",
       "      <td>Lokesh</td>\n",
       "      <td>HCL</td>\n",
       "      <td>45000</td>\n",
       "    </tr>\n",
       "    <tr>\n",
       "      <th>12</th>\n",
       "      <td>Anl</td>\n",
       "      <td>TCS</td>\n",
       "      <td>40000</td>\n",
       "    </tr>\n",
       "    <tr>\n",
       "      <th>13</th>\n",
       "      <td>Anil</td>\n",
       "      <td>WIPRO</td>\n",
       "      <td>36000</td>\n",
       "    </tr>\n",
       "    <tr>\n",
       "      <th>14</th>\n",
       "      <td>Nalini</td>\n",
       "      <td>GOOGLE</td>\n",
       "      <td>57000</td>\n",
       "    </tr>\n",
       "    <tr>\n",
       "      <th>15</th>\n",
       "      <td>Rashmi</td>\n",
       "      <td>CTS</td>\n",
       "      <td>55000</td>\n",
       "    </tr>\n",
       "    <tr>\n",
       "      <th>16</th>\n",
       "      <td>Rashmi</td>\n",
       "      <td>WIPRO</td>\n",
       "      <td>55000</td>\n",
       "    </tr>\n",
       "  </tbody>\n",
       "</table>\n",
       "</div>"
      ],
      "text/plain": [
       "      Name Company  Salary\n",
       "11   Rohit     TCS   44000\n",
       "12   Rahul     CTS   60000\n",
       "13   Rishi   WIPRO   53000\n",
       "14    Ryan  GOOGLE   25000\n",
       "15   Arjun    BENZ   46000\n",
       "11  Lokesh     HCL   45000\n",
       "12     Anl     TCS   40000\n",
       "13    Anil   WIPRO   36000\n",
       "14  Nalini  GOOGLE   57000\n",
       "15  Rashmi     CTS   55000\n",
       "16  Rashmi   WIPRO   55000"
      ]
     },
     "execution_count": 11,
     "metadata": {},
     "output_type": "execute_result"
    }
   ],
   "source": [
    "pd.concat([df_1,df_2], axis=0)"
   ]
  },
  {
   "cell_type": "code",
   "execution_count": 13,
   "id": "6a938627-65d2-4eb2-9406-0472c0650a5d",
   "metadata": {},
   "outputs": [
    {
     "data": {
      "text/html": [
       "<div>\n",
       "<style scoped>\n",
       "    .dataframe tbody tr th:only-of-type {\n",
       "        vertical-align: middle;\n",
       "    }\n",
       "\n",
       "    .dataframe tbody tr th {\n",
       "        vertical-align: top;\n",
       "    }\n",
       "\n",
       "    .dataframe thead th {\n",
       "        text-align: right;\n",
       "    }\n",
       "</style>\n",
       "<table border=\"1\" class=\"dataframe\">\n",
       "  <thead>\n",
       "    <tr style=\"text-align: right;\">\n",
       "      <th></th>\n",
       "      <th>Name</th>\n",
       "      <th>Company</th>\n",
       "      <th>Salary</th>\n",
       "      <th>Name</th>\n",
       "      <th>Company</th>\n",
       "      <th>Salary</th>\n",
       "    </tr>\n",
       "  </thead>\n",
       "  <tbody>\n",
       "    <tr>\n",
       "      <th>11</th>\n",
       "      <td>Rohit</td>\n",
       "      <td>TCS</td>\n",
       "      <td>44000.0</td>\n",
       "      <td>Lokesh</td>\n",
       "      <td>HCL</td>\n",
       "      <td>45000</td>\n",
       "    </tr>\n",
       "    <tr>\n",
       "      <th>12</th>\n",
       "      <td>Rahul</td>\n",
       "      <td>CTS</td>\n",
       "      <td>60000.0</td>\n",
       "      <td>Anl</td>\n",
       "      <td>TCS</td>\n",
       "      <td>40000</td>\n",
       "    </tr>\n",
       "    <tr>\n",
       "      <th>13</th>\n",
       "      <td>Rishi</td>\n",
       "      <td>WIPRO</td>\n",
       "      <td>53000.0</td>\n",
       "      <td>Anil</td>\n",
       "      <td>WIPRO</td>\n",
       "      <td>36000</td>\n",
       "    </tr>\n",
       "    <tr>\n",
       "      <th>14</th>\n",
       "      <td>Ryan</td>\n",
       "      <td>GOOGLE</td>\n",
       "      <td>25000.0</td>\n",
       "      <td>Nalini</td>\n",
       "      <td>GOOGLE</td>\n",
       "      <td>57000</td>\n",
       "    </tr>\n",
       "    <tr>\n",
       "      <th>15</th>\n",
       "      <td>Arjun</td>\n",
       "      <td>BENZ</td>\n",
       "      <td>46000.0</td>\n",
       "      <td>Rashmi</td>\n",
       "      <td>CTS</td>\n",
       "      <td>55000</td>\n",
       "    </tr>\n",
       "    <tr>\n",
       "      <th>16</th>\n",
       "      <td>NaN</td>\n",
       "      <td>NaN</td>\n",
       "      <td>NaN</td>\n",
       "      <td>Rashmi</td>\n",
       "      <td>WIPRO</td>\n",
       "      <td>55000</td>\n",
       "    </tr>\n",
       "  </tbody>\n",
       "</table>\n",
       "</div>"
      ],
      "text/plain": [
       "     Name Company   Salary    Name Company  Salary\n",
       "11  Rohit     TCS  44000.0  Lokesh     HCL   45000\n",
       "12  Rahul     CTS  60000.0     Anl     TCS   40000\n",
       "13  Rishi   WIPRO  53000.0    Anil   WIPRO   36000\n",
       "14   Ryan  GOOGLE  25000.0  Nalini  GOOGLE   57000\n",
       "15  Arjun    BENZ  46000.0  Rashmi     CTS   55000\n",
       "16    NaN     NaN      NaN  Rashmi   WIPRO   55000"
      ]
     },
     "execution_count": 13,
     "metadata": {},
     "output_type": "execute_result"
    }
   ],
   "source": [
    "pd.concat([df_1,df_2], axis=1)"
   ]
  },
  {
   "cell_type": "code",
   "execution_count": 15,
   "id": "49362264-0697-45b7-bb21-f4633dbdf9cf",
   "metadata": {},
   "outputs": [
    {
     "data": {
      "text/html": [
       "<div>\n",
       "<style scoped>\n",
       "    .dataframe tbody tr th:only-of-type {\n",
       "        vertical-align: middle;\n",
       "    }\n",
       "\n",
       "    .dataframe tbody tr th {\n",
       "        vertical-align: top;\n",
       "    }\n",
       "\n",
       "    .dataframe thead th {\n",
       "        text-align: right;\n",
       "    }\n",
       "</style>\n",
       "<table border=\"1\" class=\"dataframe\">\n",
       "  <thead>\n",
       "    <tr style=\"text-align: right;\">\n",
       "      <th></th>\n",
       "      <th>Name</th>\n",
       "      <th>Company</th>\n",
       "      <th>Salary</th>\n",
       "    </tr>\n",
       "  </thead>\n",
       "  <tbody>\n",
       "    <tr>\n",
       "      <th>0</th>\n",
       "      <td>Rohit</td>\n",
       "      <td>TCS</td>\n",
       "      <td>44000</td>\n",
       "    </tr>\n",
       "    <tr>\n",
       "      <th>1</th>\n",
       "      <td>Rahul</td>\n",
       "      <td>CTS</td>\n",
       "      <td>60000</td>\n",
       "    </tr>\n",
       "    <tr>\n",
       "      <th>2</th>\n",
       "      <td>Rishi</td>\n",
       "      <td>WIPRO</td>\n",
       "      <td>53000</td>\n",
       "    </tr>\n",
       "    <tr>\n",
       "      <th>3</th>\n",
       "      <td>Ryan</td>\n",
       "      <td>GOOGLE</td>\n",
       "      <td>25000</td>\n",
       "    </tr>\n",
       "    <tr>\n",
       "      <th>4</th>\n",
       "      <td>Arjun</td>\n",
       "      <td>BENZ</td>\n",
       "      <td>46000</td>\n",
       "    </tr>\n",
       "    <tr>\n",
       "      <th>5</th>\n",
       "      <td>Lokesh</td>\n",
       "      <td>HCL</td>\n",
       "      <td>45000</td>\n",
       "    </tr>\n",
       "    <tr>\n",
       "      <th>6</th>\n",
       "      <td>Anl</td>\n",
       "      <td>TCS</td>\n",
       "      <td>40000</td>\n",
       "    </tr>\n",
       "    <tr>\n",
       "      <th>7</th>\n",
       "      <td>Anil</td>\n",
       "      <td>WIPRO</td>\n",
       "      <td>36000</td>\n",
       "    </tr>\n",
       "    <tr>\n",
       "      <th>8</th>\n",
       "      <td>Nalini</td>\n",
       "      <td>GOOGLE</td>\n",
       "      <td>57000</td>\n",
       "    </tr>\n",
       "    <tr>\n",
       "      <th>9</th>\n",
       "      <td>Rashmi</td>\n",
       "      <td>CTS</td>\n",
       "      <td>55000</td>\n",
       "    </tr>\n",
       "    <tr>\n",
       "      <th>10</th>\n",
       "      <td>Rashmi</td>\n",
       "      <td>WIPRO</td>\n",
       "      <td>55000</td>\n",
       "    </tr>\n",
       "  </tbody>\n",
       "</table>\n",
       "</div>"
      ],
      "text/plain": [
       "      Name Company  Salary\n",
       "0    Rohit     TCS   44000\n",
       "1    Rahul     CTS   60000\n",
       "2    Rishi   WIPRO   53000\n",
       "3     Ryan  GOOGLE   25000\n",
       "4    Arjun    BENZ   46000\n",
       "5   Lokesh     HCL   45000\n",
       "6      Anl     TCS   40000\n",
       "7     Anil   WIPRO   36000\n",
       "8   Nalini  GOOGLE   57000\n",
       "9   Rashmi     CTS   55000\n",
       "10  Rashmi   WIPRO   55000"
      ]
     },
     "execution_count": 15,
     "metadata": {},
     "output_type": "execute_result"
    }
   ],
   "source": [
    "pd.concat([df_1,df_2], axis=0, ignore_index=True) #creates new index ignoring existing index"
   ]
  },
  {
   "cell_type": "code",
   "execution_count": 17,
   "id": "90a6a270-d583-48c2-88f3-bdf55ac51f98",
   "metadata": {},
   "outputs": [
    {
     "data": {
      "text/html": [
       "<div>\n",
       "<style scoped>\n",
       "    .dataframe tbody tr th:only-of-type {\n",
       "        vertical-align: middle;\n",
       "    }\n",
       "\n",
       "    .dataframe tbody tr th {\n",
       "        vertical-align: top;\n",
       "    }\n",
       "\n",
       "    .dataframe thead th {\n",
       "        text-align: right;\n",
       "    }\n",
       "</style>\n",
       "<table border=\"1\" class=\"dataframe\">\n",
       "  <thead>\n",
       "    <tr style=\"text-align: right;\">\n",
       "      <th></th>\n",
       "      <th></th>\n",
       "      <th>Name</th>\n",
       "      <th>Company</th>\n",
       "      <th>Salary</th>\n",
       "    </tr>\n",
       "  </thead>\n",
       "  <tbody>\n",
       "    <tr>\n",
       "      <th rowspan=\"5\" valign=\"top\">India</th>\n",
       "      <th>11</th>\n",
       "      <td>Rohit</td>\n",
       "      <td>TCS</td>\n",
       "      <td>44000</td>\n",
       "    </tr>\n",
       "    <tr>\n",
       "      <th>12</th>\n",
       "      <td>Rahul</td>\n",
       "      <td>CTS</td>\n",
       "      <td>60000</td>\n",
       "    </tr>\n",
       "    <tr>\n",
       "      <th>13</th>\n",
       "      <td>Rishi</td>\n",
       "      <td>WIPRO</td>\n",
       "      <td>53000</td>\n",
       "    </tr>\n",
       "    <tr>\n",
       "      <th>14</th>\n",
       "      <td>Ryan</td>\n",
       "      <td>GOOGLE</td>\n",
       "      <td>25000</td>\n",
       "    </tr>\n",
       "    <tr>\n",
       "      <th>15</th>\n",
       "      <td>Arjun</td>\n",
       "      <td>BENZ</td>\n",
       "      <td>46000</td>\n",
       "    </tr>\n",
       "    <tr>\n",
       "      <th rowspan=\"6\" valign=\"top\">US</th>\n",
       "      <th>11</th>\n",
       "      <td>Lokesh</td>\n",
       "      <td>HCL</td>\n",
       "      <td>45000</td>\n",
       "    </tr>\n",
       "    <tr>\n",
       "      <th>12</th>\n",
       "      <td>Anl</td>\n",
       "      <td>TCS</td>\n",
       "      <td>40000</td>\n",
       "    </tr>\n",
       "    <tr>\n",
       "      <th>13</th>\n",
       "      <td>Anil</td>\n",
       "      <td>WIPRO</td>\n",
       "      <td>36000</td>\n",
       "    </tr>\n",
       "    <tr>\n",
       "      <th>14</th>\n",
       "      <td>Nalini</td>\n",
       "      <td>GOOGLE</td>\n",
       "      <td>57000</td>\n",
       "    </tr>\n",
       "    <tr>\n",
       "      <th>15</th>\n",
       "      <td>Rashmi</td>\n",
       "      <td>CTS</td>\n",
       "      <td>55000</td>\n",
       "    </tr>\n",
       "    <tr>\n",
       "      <th>16</th>\n",
       "      <td>Rashmi</td>\n",
       "      <td>WIPRO</td>\n",
       "      <td>55000</td>\n",
       "    </tr>\n",
       "  </tbody>\n",
       "</table>\n",
       "</div>"
      ],
      "text/plain": [
       "            Name Company  Salary\n",
       "India 11   Rohit     TCS   44000\n",
       "      12   Rahul     CTS   60000\n",
       "      13   Rishi   WIPRO   53000\n",
       "      14    Ryan  GOOGLE   25000\n",
       "      15   Arjun    BENZ   46000\n",
       "US    11  Lokesh     HCL   45000\n",
       "      12     Anl     TCS   40000\n",
       "      13    Anil   WIPRO   36000\n",
       "      14  Nalini  GOOGLE   57000\n",
       "      15  Rashmi     CTS   55000\n",
       "      16  Rashmi   WIPRO   55000"
      ]
     },
     "execution_count": 17,
     "metadata": {},
     "output_type": "execute_result"
    }
   ],
   "source": [
    "df_3=pd.concat([df_1,df_2],keys=['India','US'])\n",
    "df_3"
   ]
  },
  {
   "cell_type": "code",
   "execution_count": 19,
   "id": "a289435c-76dd-45f2-87c0-3a2d2fc78c6f",
   "metadata": {},
   "outputs": [
    {
     "data": {
      "text/html": [
       "<div>\n",
       "<style scoped>\n",
       "    .dataframe tbody tr th:only-of-type {\n",
       "        vertical-align: middle;\n",
       "    }\n",
       "\n",
       "    .dataframe tbody tr th {\n",
       "        vertical-align: top;\n",
       "    }\n",
       "\n",
       "    .dataframe thead th {\n",
       "        text-align: right;\n",
       "    }\n",
       "</style>\n",
       "<table border=\"1\" class=\"dataframe\">\n",
       "  <thead>\n",
       "    <tr style=\"text-align: right;\">\n",
       "      <th></th>\n",
       "      <th>Name</th>\n",
       "      <th>Company</th>\n",
       "      <th>Salary</th>\n",
       "    </tr>\n",
       "  </thead>\n",
       "  <tbody>\n",
       "    <tr>\n",
       "      <th>11</th>\n",
       "      <td>Rohit</td>\n",
       "      <td>TCS</td>\n",
       "      <td>44000</td>\n",
       "    </tr>\n",
       "    <tr>\n",
       "      <th>12</th>\n",
       "      <td>Rahul</td>\n",
       "      <td>CTS</td>\n",
       "      <td>60000</td>\n",
       "    </tr>\n",
       "    <tr>\n",
       "      <th>13</th>\n",
       "      <td>Rishi</td>\n",
       "      <td>WIPRO</td>\n",
       "      <td>53000</td>\n",
       "    </tr>\n",
       "    <tr>\n",
       "      <th>14</th>\n",
       "      <td>Ryan</td>\n",
       "      <td>GOOGLE</td>\n",
       "      <td>25000</td>\n",
       "    </tr>\n",
       "    <tr>\n",
       "      <th>15</th>\n",
       "      <td>Arjun</td>\n",
       "      <td>BENZ</td>\n",
       "      <td>46000</td>\n",
       "    </tr>\n",
       "  </tbody>\n",
       "</table>\n",
       "</div>"
      ],
      "text/plain": [
       "     Name Company  Salary\n",
       "11  Rohit     TCS   44000\n",
       "12  Rahul     CTS   60000\n",
       "13  Rishi   WIPRO   53000\n",
       "14   Ryan  GOOGLE   25000\n",
       "15  Arjun    BENZ   46000"
      ]
     },
     "execution_count": 19,
     "metadata": {},
     "output_type": "execute_result"
    }
   ],
   "source": [
    "df_3.loc['India']"
   ]
  },
  {
   "cell_type": "code",
   "execution_count": 21,
   "id": "b2aebd1a-c52f-4514-962d-51c0aaace076",
   "metadata": {},
   "outputs": [
    {
     "data": {
      "text/plain": [
       "44000"
      ]
     },
     "execution_count": 21,
     "metadata": {},
     "output_type": "execute_result"
    }
   ],
   "source": [
    "df_3.loc['India',11].Salary"
   ]
  },
  {
   "cell_type": "code",
   "execution_count": 23,
   "id": "94e62bf5-84da-4e34-9889-e81f26f34072",
   "metadata": {},
   "outputs": [
    {
     "data": {
      "text/html": [
       "<div>\n",
       "<style scoped>\n",
       "    .dataframe tbody tr th:only-of-type {\n",
       "        vertical-align: middle;\n",
       "    }\n",
       "\n",
       "    .dataframe tbody tr th {\n",
       "        vertical-align: top;\n",
       "    }\n",
       "\n",
       "    .dataframe thead th {\n",
       "        text-align: right;\n",
       "    }\n",
       "</style>\n",
       "<table border=\"1\" class=\"dataframe\">\n",
       "  <thead>\n",
       "    <tr style=\"text-align: right;\">\n",
       "      <th></th>\n",
       "      <th>Name</th>\n",
       "      <th>Company</th>\n",
       "      <th>Salary</th>\n",
       "    </tr>\n",
       "  </thead>\n",
       "  <tbody>\n",
       "    <tr>\n",
       "      <th>11</th>\n",
       "      <td>Rohit</td>\n",
       "      <td>TCS</td>\n",
       "      <td>44000</td>\n",
       "    </tr>\n",
       "    <tr>\n",
       "      <th>12</th>\n",
       "      <td>Rahul</td>\n",
       "      <td>CTS</td>\n",
       "      <td>60000</td>\n",
       "    </tr>\n",
       "    <tr>\n",
       "      <th>13</th>\n",
       "      <td>Rishi</td>\n",
       "      <td>WIPRO</td>\n",
       "      <td>53000</td>\n",
       "    </tr>\n",
       "    <tr>\n",
       "      <th>14</th>\n",
       "      <td>Ryan</td>\n",
       "      <td>GOOGLE</td>\n",
       "      <td>25000</td>\n",
       "    </tr>\n",
       "    <tr>\n",
       "      <th>15</th>\n",
       "      <td>Arjun</td>\n",
       "      <td>BENZ</td>\n",
       "      <td>46000</td>\n",
       "    </tr>\n",
       "    <tr>\n",
       "      <th>11</th>\n",
       "      <td>Lokesh</td>\n",
       "      <td>HCL</td>\n",
       "      <td>45000</td>\n",
       "    </tr>\n",
       "    <tr>\n",
       "      <th>12</th>\n",
       "      <td>Anl</td>\n",
       "      <td>TCS</td>\n",
       "      <td>40000</td>\n",
       "    </tr>\n",
       "    <tr>\n",
       "      <th>13</th>\n",
       "      <td>Anil</td>\n",
       "      <td>WIPRO</td>\n",
       "      <td>36000</td>\n",
       "    </tr>\n",
       "    <tr>\n",
       "      <th>14</th>\n",
       "      <td>Nalini</td>\n",
       "      <td>GOOGLE</td>\n",
       "      <td>57000</td>\n",
       "    </tr>\n",
       "    <tr>\n",
       "      <th>15</th>\n",
       "      <td>Rashmi</td>\n",
       "      <td>CTS</td>\n",
       "      <td>55000</td>\n",
       "    </tr>\n",
       "    <tr>\n",
       "      <th>16</th>\n",
       "      <td>Rashmi</td>\n",
       "      <td>WIPRO</td>\n",
       "      <td>55000</td>\n",
       "    </tr>\n",
       "  </tbody>\n",
       "</table>\n",
       "</div>"
      ],
      "text/plain": [
       "      Name Company  Salary\n",
       "11   Rohit     TCS   44000\n",
       "12   Rahul     CTS   60000\n",
       "13   Rishi   WIPRO   53000\n",
       "14    Ryan  GOOGLE   25000\n",
       "15   Arjun    BENZ   46000\n",
       "11  Lokesh     HCL   45000\n",
       "12     Anl     TCS   40000\n",
       "13    Anil   WIPRO   36000\n",
       "14  Nalini  GOOGLE   57000\n",
       "15  Rashmi     CTS   55000\n",
       "16  Rashmi   WIPRO   55000"
      ]
     },
     "execution_count": 23,
     "metadata": {},
     "output_type": "execute_result"
    }
   ],
   "source": [
    "df_a=pd.concat([df_1,df_2],axis=0)\n",
    "df_a"
   ]
  },
  {
   "cell_type": "code",
   "execution_count": 25,
   "id": "03ba1152-30cb-4443-9b40-ab1c9fab9471",
   "metadata": {},
   "outputs": [
    {
     "data": {
      "text/html": [
       "<div>\n",
       "<style scoped>\n",
       "    .dataframe tbody tr th:only-of-type {\n",
       "        vertical-align: middle;\n",
       "    }\n",
       "\n",
       "    .dataframe tbody tr th {\n",
       "        vertical-align: top;\n",
       "    }\n",
       "\n",
       "    .dataframe thead th {\n",
       "        text-align: right;\n",
       "    }\n",
       "</style>\n",
       "<table border=\"1\" class=\"dataframe\">\n",
       "  <thead>\n",
       "    <tr style=\"text-align: right;\">\n",
       "      <th></th>\n",
       "      <th>Name</th>\n",
       "      <th>Company</th>\n",
       "      <th>Salary</th>\n",
       "      <th>Name</th>\n",
       "      <th>Company</th>\n",
       "      <th>Salary</th>\n",
       "    </tr>\n",
       "  </thead>\n",
       "  <tbody>\n",
       "    <tr>\n",
       "      <th>11</th>\n",
       "      <td>Rohit</td>\n",
       "      <td>TCS</td>\n",
       "      <td>44000.0</td>\n",
       "      <td>Lokesh</td>\n",
       "      <td>HCL</td>\n",
       "      <td>45000</td>\n",
       "    </tr>\n",
       "    <tr>\n",
       "      <th>12</th>\n",
       "      <td>Rahul</td>\n",
       "      <td>CTS</td>\n",
       "      <td>60000.0</td>\n",
       "      <td>Anl</td>\n",
       "      <td>TCS</td>\n",
       "      <td>40000</td>\n",
       "    </tr>\n",
       "    <tr>\n",
       "      <th>13</th>\n",
       "      <td>Rishi</td>\n",
       "      <td>WIPRO</td>\n",
       "      <td>53000.0</td>\n",
       "      <td>Anil</td>\n",
       "      <td>WIPRO</td>\n",
       "      <td>36000</td>\n",
       "    </tr>\n",
       "    <tr>\n",
       "      <th>14</th>\n",
       "      <td>Ryan</td>\n",
       "      <td>GOOGLE</td>\n",
       "      <td>25000.0</td>\n",
       "      <td>Nalini</td>\n",
       "      <td>GOOGLE</td>\n",
       "      <td>57000</td>\n",
       "    </tr>\n",
       "    <tr>\n",
       "      <th>15</th>\n",
       "      <td>Arjun</td>\n",
       "      <td>BENZ</td>\n",
       "      <td>46000.0</td>\n",
       "      <td>Rashmi</td>\n",
       "      <td>CTS</td>\n",
       "      <td>55000</td>\n",
       "    </tr>\n",
       "    <tr>\n",
       "      <th>16</th>\n",
       "      <td>NaN</td>\n",
       "      <td>NaN</td>\n",
       "      <td>NaN</td>\n",
       "      <td>Rashmi</td>\n",
       "      <td>WIPRO</td>\n",
       "      <td>55000</td>\n",
       "    </tr>\n",
       "  </tbody>\n",
       "</table>\n",
       "</div>"
      ],
      "text/plain": [
       "     Name Company   Salary    Name Company  Salary\n",
       "11  Rohit     TCS  44000.0  Lokesh     HCL   45000\n",
       "12  Rahul     CTS  60000.0     Anl     TCS   40000\n",
       "13  Rishi   WIPRO  53000.0    Anil   WIPRO   36000\n",
       "14   Ryan  GOOGLE  25000.0  Nalini  GOOGLE   57000\n",
       "15  Arjun    BENZ  46000.0  Rashmi     CTS   55000\n",
       "16    NaN     NaN      NaN  Rashmi   WIPRO   55000"
      ]
     },
     "execution_count": 25,
     "metadata": {},
     "output_type": "execute_result"
    }
   ],
   "source": [
    "df_a=pd.concat([df_1,df_2],axis=1)\n",
    "df_a"
   ]
  },
  {
   "cell_type": "markdown",
   "id": "986ee9df-18a6-455c-91db-78cdedb572a5",
   "metadata": {},
   "source": [
    "**Merge**"
   ]
  },
  {
   "cell_type": "code",
   "execution_count": 27,
   "id": "02ddab64-4676-48b2-974a-33f000fe0220",
   "metadata": {},
   "outputs": [
    {
     "name": "stdout",
     "output_type": "stream",
     "text": [
      "The first dataframe is : \n",
      "    Product_ID Food_Product           Brand\n",
      "0         101        Cakes  Baskin Robbins\n",
      "1         102     Biscuits     Blue Riband\n",
      "2         103        Fruit           Peach\n",
      "3         104    Beverages        Horlicks\n",
      "4         105        Cakes     Mars Muffin\n",
      "5         106    Beverages         Mirinda \n",
      "\n",
      "\n",
      "The second dataframe is : \n",
      "    Product_ID     Food_Product           Brand\n",
      "0         104        Beverages       Coca-Cola\n",
      "1         102         Biscuits            Oreo\n",
      "2         101            Cakes   Dunkin Donuts\n",
      "3         103            Fruit          Banana\n",
      "4         107  Breakfast foods  Cream of Wheat\n",
      "5         108            Chips         Cheetos\n"
     ]
    }
   ],
   "source": [
    "my_df1=pd.DataFrame({\n",
    " 'Product_ID':[101,102,103,104,105,106],\n",
    " 'Food_Product':['Cakes','Biscuits','Fruit','Beverages','Cakes','Beverages'],\n",
    " 'Brand':['Baskin Robbins','Blue Riband','Peach','Horlicks','Mars Muffin','Mirinda'], \n",
    "})\n",
    "print(\"The first dataframe is : \\n\",my_df1,\"\\n\\n\")\n",
    "\n",
    "my_df2=pd.DataFrame({\n",
    " 'Product_ID':[104,102,101,103,107,108],\n",
    " 'Food_Product':['Beverages', 'Biscuits', 'Cakes', 'Fruit', 'Breakfast foods', 'Chips'],\n",
    "  'Brand':['Coca-Cola', 'Oreo', 'Dunkin Donuts', 'Banana', 'Cream of Wheat', 'Cheetos']  \n",
    "})\n",
    "print(\"The second dataframe is : \\n\",my_df2)"
   ]
  },
  {
   "cell_type": "code",
   "execution_count": 29,
   "id": "81f446cd-109e-490a-9868-c3d122317599",
   "metadata": {},
   "outputs": [
    {
     "data": {
      "text/html": [
       "<div>\n",
       "<style scoped>\n",
       "    .dataframe tbody tr th:only-of-type {\n",
       "        vertical-align: middle;\n",
       "    }\n",
       "\n",
       "    .dataframe tbody tr th {\n",
       "        vertical-align: top;\n",
       "    }\n",
       "\n",
       "    .dataframe thead th {\n",
       "        text-align: right;\n",
       "    }\n",
       "</style>\n",
       "<table border=\"1\" class=\"dataframe\">\n",
       "  <thead>\n",
       "    <tr style=\"text-align: right;\">\n",
       "      <th></th>\n",
       "      <th>Product_ID</th>\n",
       "      <th>Food_Product_x</th>\n",
       "      <th>Brand_x</th>\n",
       "      <th>Food_Product_y</th>\n",
       "      <th>Brand_y</th>\n",
       "    </tr>\n",
       "  </thead>\n",
       "  <tbody>\n",
       "    <tr>\n",
       "      <th>0</th>\n",
       "      <td>101</td>\n",
       "      <td>Cakes</td>\n",
       "      <td>Baskin Robbins</td>\n",
       "      <td>Cakes</td>\n",
       "      <td>Dunkin Donuts</td>\n",
       "    </tr>\n",
       "    <tr>\n",
       "      <th>1</th>\n",
       "      <td>102</td>\n",
       "      <td>Biscuits</td>\n",
       "      <td>Blue Riband</td>\n",
       "      <td>Biscuits</td>\n",
       "      <td>Oreo</td>\n",
       "    </tr>\n",
       "    <tr>\n",
       "      <th>2</th>\n",
       "      <td>103</td>\n",
       "      <td>Fruit</td>\n",
       "      <td>Peach</td>\n",
       "      <td>Fruit</td>\n",
       "      <td>Banana</td>\n",
       "    </tr>\n",
       "    <tr>\n",
       "      <th>3</th>\n",
       "      <td>104</td>\n",
       "      <td>Beverages</td>\n",
       "      <td>Horlicks</td>\n",
       "      <td>Beverages</td>\n",
       "      <td>Coca-Cola</td>\n",
       "    </tr>\n",
       "  </tbody>\n",
       "</table>\n",
       "</div>"
      ],
      "text/plain": [
       "   Product_ID Food_Product_x         Brand_x Food_Product_y        Brand_y\n",
       "0         101          Cakes  Baskin Robbins          Cakes  Dunkin Donuts\n",
       "1         102       Biscuits     Blue Riband       Biscuits           Oreo\n",
       "2         103          Fruit           Peach          Fruit         Banana\n",
       "3         104      Beverages        Horlicks      Beverages      Coca-Cola"
      ]
     },
     "execution_count": 29,
     "metadata": {},
     "output_type": "execute_result"
    }
   ],
   "source": [
    "pd.merge(my_df1,my_df2,on='Product_ID')"
   ]
  },
  {
   "cell_type": "code",
   "execution_count": 33,
   "id": "65b76827-54e4-442c-96ff-c55952d76011",
   "metadata": {},
   "outputs": [
    {
     "data": {
      "text/html": [
       "<div>\n",
       "<style scoped>\n",
       "    .dataframe tbody tr th:only-of-type {\n",
       "        vertical-align: middle;\n",
       "    }\n",
       "\n",
       "    .dataframe tbody tr th {\n",
       "        vertical-align: top;\n",
       "    }\n",
       "\n",
       "    .dataframe thead th {\n",
       "        text-align: right;\n",
       "    }\n",
       "</style>\n",
       "<table border=\"1\" class=\"dataframe\">\n",
       "  <thead>\n",
       "    <tr style=\"text-align: right;\">\n",
       "      <th></th>\n",
       "      <th>Product_ID</th>\n",
       "      <th>Food_Product_x</th>\n",
       "      <th>Brand_x</th>\n",
       "      <th>Food_Product_y</th>\n",
       "      <th>Brand_y</th>\n",
       "    </tr>\n",
       "  </thead>\n",
       "  <tbody>\n",
       "    <tr>\n",
       "      <th>0</th>\n",
       "      <td>104</td>\n",
       "      <td>Beverages</td>\n",
       "      <td>Horlicks</td>\n",
       "      <td>Beverages</td>\n",
       "      <td>Coca-Cola</td>\n",
       "    </tr>\n",
       "    <tr>\n",
       "      <th>1</th>\n",
       "      <td>102</td>\n",
       "      <td>Biscuits</td>\n",
       "      <td>Blue Riband</td>\n",
       "      <td>Biscuits</td>\n",
       "      <td>Oreo</td>\n",
       "    </tr>\n",
       "    <tr>\n",
       "      <th>2</th>\n",
       "      <td>101</td>\n",
       "      <td>Cakes</td>\n",
       "      <td>Baskin Robbins</td>\n",
       "      <td>Cakes</td>\n",
       "      <td>Dunkin Donuts</td>\n",
       "    </tr>\n",
       "    <tr>\n",
       "      <th>3</th>\n",
       "      <td>103</td>\n",
       "      <td>Fruit</td>\n",
       "      <td>Peach</td>\n",
       "      <td>Fruit</td>\n",
       "      <td>Banana</td>\n",
       "    </tr>\n",
       "    <tr>\n",
       "      <th>4</th>\n",
       "      <td>107</td>\n",
       "      <td>NaN</td>\n",
       "      <td>NaN</td>\n",
       "      <td>Breakfast foods</td>\n",
       "      <td>Cream of Wheat</td>\n",
       "    </tr>\n",
       "    <tr>\n",
       "      <th>5</th>\n",
       "      <td>108</td>\n",
       "      <td>NaN</td>\n",
       "      <td>NaN</td>\n",
       "      <td>Chips</td>\n",
       "      <td>Cheetos</td>\n",
       "    </tr>\n",
       "  </tbody>\n",
       "</table>\n",
       "</div>"
      ],
      "text/plain": [
       "   Product_ID Food_Product_x         Brand_x   Food_Product_y         Brand_y\n",
       "0         104      Beverages        Horlicks        Beverages       Coca-Cola\n",
       "1         102       Biscuits     Blue Riband         Biscuits            Oreo\n",
       "2         101          Cakes  Baskin Robbins            Cakes   Dunkin Donuts\n",
       "3         103          Fruit           Peach            Fruit          Banana\n",
       "4         107            NaN             NaN  Breakfast foods  Cream of Wheat\n",
       "5         108            NaN             NaN            Chips         Cheetos"
      ]
     },
     "execution_count": 33,
     "metadata": {},
     "output_type": "execute_result"
    }
   ],
   "source": [
    "pd.merge(my_df1,my_df2,on='Product_ID',how='right')"
   ]
  },
  {
   "cell_type": "code",
   "execution_count": 35,
   "id": "961c4a20-38d2-48ab-902c-357586e26bc4",
   "metadata": {},
   "outputs": [
    {
     "data": {
      "text/html": [
       "<div>\n",
       "<style scoped>\n",
       "    .dataframe tbody tr th:only-of-type {\n",
       "        vertical-align: middle;\n",
       "    }\n",
       "\n",
       "    .dataframe tbody tr th {\n",
       "        vertical-align: top;\n",
       "    }\n",
       "\n",
       "    .dataframe thead th {\n",
       "        text-align: right;\n",
       "    }\n",
       "</style>\n",
       "<table border=\"1\" class=\"dataframe\">\n",
       "  <thead>\n",
       "    <tr style=\"text-align: right;\">\n",
       "      <th></th>\n",
       "      <th>Product_ID</th>\n",
       "      <th>Food_Product_x</th>\n",
       "      <th>Brand_x</th>\n",
       "      <th>Food_Product_y</th>\n",
       "      <th>Brand_y</th>\n",
       "    </tr>\n",
       "  </thead>\n",
       "  <tbody>\n",
       "    <tr>\n",
       "      <th>0</th>\n",
       "      <td>101</td>\n",
       "      <td>Cakes</td>\n",
       "      <td>Baskin Robbins</td>\n",
       "      <td>Cakes</td>\n",
       "      <td>Dunkin Donuts</td>\n",
       "    </tr>\n",
       "    <tr>\n",
       "      <th>1</th>\n",
       "      <td>102</td>\n",
       "      <td>Biscuits</td>\n",
       "      <td>Blue Riband</td>\n",
       "      <td>Biscuits</td>\n",
       "      <td>Oreo</td>\n",
       "    </tr>\n",
       "    <tr>\n",
       "      <th>2</th>\n",
       "      <td>103</td>\n",
       "      <td>Fruit</td>\n",
       "      <td>Peach</td>\n",
       "      <td>Fruit</td>\n",
       "      <td>Banana</td>\n",
       "    </tr>\n",
       "    <tr>\n",
       "      <th>3</th>\n",
       "      <td>104</td>\n",
       "      <td>Beverages</td>\n",
       "      <td>Horlicks</td>\n",
       "      <td>Beverages</td>\n",
       "      <td>Coca-Cola</td>\n",
       "    </tr>\n",
       "    <tr>\n",
       "      <th>4</th>\n",
       "      <td>105</td>\n",
       "      <td>Cakes</td>\n",
       "      <td>Mars Muffin</td>\n",
       "      <td>NaN</td>\n",
       "      <td>NaN</td>\n",
       "    </tr>\n",
       "    <tr>\n",
       "      <th>5</th>\n",
       "      <td>106</td>\n",
       "      <td>Beverages</td>\n",
       "      <td>Mirinda</td>\n",
       "      <td>NaN</td>\n",
       "      <td>NaN</td>\n",
       "    </tr>\n",
       "  </tbody>\n",
       "</table>\n",
       "</div>"
      ],
      "text/plain": [
       "   Product_ID Food_Product_x         Brand_x Food_Product_y        Brand_y\n",
       "0         101          Cakes  Baskin Robbins          Cakes  Dunkin Donuts\n",
       "1         102       Biscuits     Blue Riband       Biscuits           Oreo\n",
       "2         103          Fruit           Peach          Fruit         Banana\n",
       "3         104      Beverages        Horlicks      Beverages      Coca-Cola\n",
       "4         105          Cakes     Mars Muffin            NaN            NaN\n",
       "5         106      Beverages         Mirinda            NaN            NaN"
      ]
     },
     "execution_count": 35,
     "metadata": {},
     "output_type": "execute_result"
    }
   ],
   "source": [
    "pd.merge(my_df1,my_df2,on='Product_ID',how='left')"
   ]
  },
  {
   "cell_type": "code",
   "execution_count": 31,
   "id": "aca87405-b33b-46b1-8410-003ffaa8c9cf",
   "metadata": {},
   "outputs": [
    {
     "data": {
      "text/html": [
       "<div>\n",
       "<style scoped>\n",
       "    .dataframe tbody tr th:only-of-type {\n",
       "        vertical-align: middle;\n",
       "    }\n",
       "\n",
       "    .dataframe tbody tr th {\n",
       "        vertical-align: top;\n",
       "    }\n",
       "\n",
       "    .dataframe thead th {\n",
       "        text-align: right;\n",
       "    }\n",
       "</style>\n",
       "<table border=\"1\" class=\"dataframe\">\n",
       "  <thead>\n",
       "    <tr style=\"text-align: right;\">\n",
       "      <th></th>\n",
       "      <th>Product_ID</th>\n",
       "      <th>Food_Product_x</th>\n",
       "      <th>Brand_x</th>\n",
       "      <th>Food_Product_y</th>\n",
       "      <th>Brand_y</th>\n",
       "    </tr>\n",
       "  </thead>\n",
       "  <tbody>\n",
       "    <tr>\n",
       "      <th>0</th>\n",
       "      <td>101</td>\n",
       "      <td>Cakes</td>\n",
       "      <td>Baskin Robbins</td>\n",
       "      <td>Cakes</td>\n",
       "      <td>Dunkin Donuts</td>\n",
       "    </tr>\n",
       "    <tr>\n",
       "      <th>1</th>\n",
       "      <td>102</td>\n",
       "      <td>Biscuits</td>\n",
       "      <td>Blue Riband</td>\n",
       "      <td>Biscuits</td>\n",
       "      <td>Oreo</td>\n",
       "    </tr>\n",
       "    <tr>\n",
       "      <th>2</th>\n",
       "      <td>103</td>\n",
       "      <td>Fruit</td>\n",
       "      <td>Peach</td>\n",
       "      <td>Fruit</td>\n",
       "      <td>Banana</td>\n",
       "    </tr>\n",
       "    <tr>\n",
       "      <th>3</th>\n",
       "      <td>104</td>\n",
       "      <td>Beverages</td>\n",
       "      <td>Horlicks</td>\n",
       "      <td>Beverages</td>\n",
       "      <td>Coca-Cola</td>\n",
       "    </tr>\n",
       "  </tbody>\n",
       "</table>\n",
       "</div>"
      ],
      "text/plain": [
       "   Product_ID Food_Product_x         Brand_x Food_Product_y        Brand_y\n",
       "0         101          Cakes  Baskin Robbins          Cakes  Dunkin Donuts\n",
       "1         102       Biscuits     Blue Riband       Biscuits           Oreo\n",
       "2         103          Fruit           Peach          Fruit         Banana\n",
       "3         104      Beverages        Horlicks      Beverages      Coca-Cola"
      ]
     },
     "execution_count": 31,
     "metadata": {},
     "output_type": "execute_result"
    }
   ],
   "source": [
    "pd.merge(my_df1,my_df2,on='Product_ID',how='inner')"
   ]
  },
  {
   "cell_type": "code",
   "execution_count": 37,
   "id": "217199cf-87e3-4655-9146-17992c3b1bec",
   "metadata": {},
   "outputs": [
    {
     "data": {
      "text/html": [
       "<div>\n",
       "<style scoped>\n",
       "    .dataframe tbody tr th:only-of-type {\n",
       "        vertical-align: middle;\n",
       "    }\n",
       "\n",
       "    .dataframe tbody tr th {\n",
       "        vertical-align: top;\n",
       "    }\n",
       "\n",
       "    .dataframe thead th {\n",
       "        text-align: right;\n",
       "    }\n",
       "</style>\n",
       "<table border=\"1\" class=\"dataframe\">\n",
       "  <thead>\n",
       "    <tr style=\"text-align: right;\">\n",
       "      <th></th>\n",
       "      <th>Product_ID</th>\n",
       "      <th>Food_Product_x</th>\n",
       "      <th>Brand_x</th>\n",
       "      <th>Food_Product_y</th>\n",
       "      <th>Brand_y</th>\n",
       "    </tr>\n",
       "  </thead>\n",
       "  <tbody>\n",
       "    <tr>\n",
       "      <th>0</th>\n",
       "      <td>101</td>\n",
       "      <td>Cakes</td>\n",
       "      <td>Baskin Robbins</td>\n",
       "      <td>Cakes</td>\n",
       "      <td>Dunkin Donuts</td>\n",
       "    </tr>\n",
       "    <tr>\n",
       "      <th>1</th>\n",
       "      <td>102</td>\n",
       "      <td>Biscuits</td>\n",
       "      <td>Blue Riband</td>\n",
       "      <td>Biscuits</td>\n",
       "      <td>Oreo</td>\n",
       "    </tr>\n",
       "    <tr>\n",
       "      <th>2</th>\n",
       "      <td>103</td>\n",
       "      <td>Fruit</td>\n",
       "      <td>Peach</td>\n",
       "      <td>Fruit</td>\n",
       "      <td>Banana</td>\n",
       "    </tr>\n",
       "    <tr>\n",
       "      <th>3</th>\n",
       "      <td>104</td>\n",
       "      <td>Beverages</td>\n",
       "      <td>Horlicks</td>\n",
       "      <td>Beverages</td>\n",
       "      <td>Coca-Cola</td>\n",
       "    </tr>\n",
       "    <tr>\n",
       "      <th>4</th>\n",
       "      <td>105</td>\n",
       "      <td>Cakes</td>\n",
       "      <td>Mars Muffin</td>\n",
       "      <td>NaN</td>\n",
       "      <td>NaN</td>\n",
       "    </tr>\n",
       "    <tr>\n",
       "      <th>5</th>\n",
       "      <td>106</td>\n",
       "      <td>Beverages</td>\n",
       "      <td>Mirinda</td>\n",
       "      <td>NaN</td>\n",
       "      <td>NaN</td>\n",
       "    </tr>\n",
       "    <tr>\n",
       "      <th>6</th>\n",
       "      <td>107</td>\n",
       "      <td>NaN</td>\n",
       "      <td>NaN</td>\n",
       "      <td>Breakfast foods</td>\n",
       "      <td>Cream of Wheat</td>\n",
       "    </tr>\n",
       "    <tr>\n",
       "      <th>7</th>\n",
       "      <td>108</td>\n",
       "      <td>NaN</td>\n",
       "      <td>NaN</td>\n",
       "      <td>Chips</td>\n",
       "      <td>Cheetos</td>\n",
       "    </tr>\n",
       "  </tbody>\n",
       "</table>\n",
       "</div>"
      ],
      "text/plain": [
       "   Product_ID Food_Product_x         Brand_x   Food_Product_y         Brand_y\n",
       "0         101          Cakes  Baskin Robbins            Cakes   Dunkin Donuts\n",
       "1         102       Biscuits     Blue Riband         Biscuits            Oreo\n",
       "2         103          Fruit           Peach            Fruit          Banana\n",
       "3         104      Beverages        Horlicks        Beverages       Coca-Cola\n",
       "4         105          Cakes     Mars Muffin              NaN             NaN\n",
       "5         106      Beverages         Mirinda              NaN             NaN\n",
       "6         107            NaN             NaN  Breakfast foods  Cream of Wheat\n",
       "7         108            NaN             NaN            Chips         Cheetos"
      ]
     },
     "execution_count": 37,
     "metadata": {},
     "output_type": "execute_result"
    }
   ],
   "source": [
    "pd.merge(my_df1,my_df2,on='Product_ID',how='outer')"
   ]
  },
  {
   "cell_type": "code",
   "execution_count": 39,
   "id": "3af81a3e-2410-4f62-ada4-054c3ef913a6",
   "metadata": {},
   "outputs": [
    {
     "data": {
      "text/html": [
       "<div>\n",
       "<style scoped>\n",
       "    .dataframe tbody tr th:only-of-type {\n",
       "        vertical-align: middle;\n",
       "    }\n",
       "\n",
       "    .dataframe tbody tr th {\n",
       "        vertical-align: top;\n",
       "    }\n",
       "\n",
       "    .dataframe thead th {\n",
       "        text-align: right;\n",
       "    }\n",
       "</style>\n",
       "<table border=\"1\" class=\"dataframe\">\n",
       "  <thead>\n",
       "    <tr style=\"text-align: right;\">\n",
       "      <th></th>\n",
       "      <th>Name</th>\n",
       "      <th>Company</th>\n",
       "      <th>Salary</th>\n",
       "    </tr>\n",
       "  </thead>\n",
       "  <tbody>\n",
       "    <tr>\n",
       "      <th>11</th>\n",
       "      <td>Rohit</td>\n",
       "      <td>TCS</td>\n",
       "      <td>44000</td>\n",
       "    </tr>\n",
       "    <tr>\n",
       "      <th>12</th>\n",
       "      <td>Rahul</td>\n",
       "      <td>CTS</td>\n",
       "      <td>60000</td>\n",
       "    </tr>\n",
       "    <tr>\n",
       "      <th>13</th>\n",
       "      <td>Rishi</td>\n",
       "      <td>WIPRO</td>\n",
       "      <td>53000</td>\n",
       "    </tr>\n",
       "    <tr>\n",
       "      <th>14</th>\n",
       "      <td>Ryan</td>\n",
       "      <td>GOOGLE</td>\n",
       "      <td>25000</td>\n",
       "    </tr>\n",
       "    <tr>\n",
       "      <th>15</th>\n",
       "      <td>Arjun</td>\n",
       "      <td>BENZ</td>\n",
       "      <td>46000</td>\n",
       "    </tr>\n",
       "  </tbody>\n",
       "</table>\n",
       "</div>"
      ],
      "text/plain": [
       "     Name Company  Salary\n",
       "11  Rohit     TCS   44000\n",
       "12  Rahul     CTS   60000\n",
       "13  Rishi   WIPRO   53000\n",
       "14   Ryan  GOOGLE   25000\n",
       "15  Arjun    BENZ   46000"
      ]
     },
     "execution_count": 39,
     "metadata": {},
     "output_type": "execute_result"
    }
   ],
   "source": [
    "df_1"
   ]
  },
  {
   "cell_type": "code",
   "execution_count": 41,
   "id": "b2f46348-1437-4cb0-87ae-8dbf4cfd07b3",
   "metadata": {},
   "outputs": [
    {
     "data": {
      "text/html": [
       "<div>\n",
       "<style scoped>\n",
       "    .dataframe tbody tr th:only-of-type {\n",
       "        vertical-align: middle;\n",
       "    }\n",
       "\n",
       "    .dataframe tbody tr th {\n",
       "        vertical-align: top;\n",
       "    }\n",
       "\n",
       "    .dataframe thead th {\n",
       "        text-align: right;\n",
       "    }\n",
       "</style>\n",
       "<table border=\"1\" class=\"dataframe\">\n",
       "  <thead>\n",
       "    <tr style=\"text-align: right;\">\n",
       "      <th></th>\n",
       "      <th>Name</th>\n",
       "      <th>Company</th>\n",
       "      <th>Salary</th>\n",
       "    </tr>\n",
       "  </thead>\n",
       "  <tbody>\n",
       "    <tr>\n",
       "      <th>11</th>\n",
       "      <td>Lokesh</td>\n",
       "      <td>HCL</td>\n",
       "      <td>45000</td>\n",
       "    </tr>\n",
       "    <tr>\n",
       "      <th>12</th>\n",
       "      <td>Anl</td>\n",
       "      <td>TCS</td>\n",
       "      <td>40000</td>\n",
       "    </tr>\n",
       "    <tr>\n",
       "      <th>13</th>\n",
       "      <td>Anil</td>\n",
       "      <td>WIPRO</td>\n",
       "      <td>36000</td>\n",
       "    </tr>\n",
       "    <tr>\n",
       "      <th>14</th>\n",
       "      <td>Nalini</td>\n",
       "      <td>GOOGLE</td>\n",
       "      <td>57000</td>\n",
       "    </tr>\n",
       "    <tr>\n",
       "      <th>15</th>\n",
       "      <td>Rashmi</td>\n",
       "      <td>CTS</td>\n",
       "      <td>55000</td>\n",
       "    </tr>\n",
       "    <tr>\n",
       "      <th>16</th>\n",
       "      <td>Rashmi</td>\n",
       "      <td>WIPRO</td>\n",
       "      <td>55000</td>\n",
       "    </tr>\n",
       "  </tbody>\n",
       "</table>\n",
       "</div>"
      ],
      "text/plain": [
       "      Name Company  Salary\n",
       "11  Lokesh     HCL   45000\n",
       "12     Anl     TCS   40000\n",
       "13    Anil   WIPRO   36000\n",
       "14  Nalini  GOOGLE   57000\n",
       "15  Rashmi     CTS   55000\n",
       "16  Rashmi   WIPRO   55000"
      ]
     },
     "execution_count": 41,
     "metadata": {},
     "output_type": "execute_result"
    }
   ],
   "source": [
    "df_2"
   ]
  },
  {
   "cell_type": "markdown",
   "id": "890a1b51-27ed-4b23-8d39-36a14a147572",
   "metadata": {},
   "source": [
    "**Reshape**"
   ]
  },
  {
   "cell_type": "markdown",
   "id": "ed1aea01-8afd-4697-80e9-4c46987d85ce",
   "metadata": {},
   "source": [
    "**Stack, Unstack, Melt**"
   ]
  },
  {
   "cell_type": "code",
   "execution_count": null,
   "id": "7ee2ba66-1d7e-46c7-b85d-d6ba2cb7d264",
   "metadata": {},
   "outputs": [],
   "source": [
    "header=pd.MultiIndex.from_product([['2 Months','4 Months'],['Maths','English']])\n",
    "header"
   ]
  },
  {
   "cell_type": "code",
   "execution_count": null,
   "id": "bdbf0e87-60e1-4e23-a68e-79c83c8f3958",
   "metadata": {},
   "outputs": [],
   "source": [
    "d=([[12,45,67,56],[78,89,45,67],[45,67,89,90],[67,44,56,55]])\n",
    "d"
   ]
  },
  {
   "cell_type": "code",
   "execution_count": null,
   "id": "b2a1f3c6-8855-4612-94c0-29bc0c279e92",
   "metadata": {},
   "outputs": [],
   "source": [
    "df=pd.DataFrame(d, index=['Ram','Sham','John','Tom'])"
   ]
  },
  {
   "cell_type": "code",
   "execution_count": null,
   "id": "01167493-1648-4161-9b0c-1fadab67133e",
   "metadata": {},
   "outputs": [],
   "source": [
    "df"
   ]
  },
  {
   "cell_type": "code",
   "execution_count": null,
   "id": "164578de-5761-4a19-96eb-01014c8e805d",
   "metadata": {},
   "outputs": [],
   "source": [
    "df=pd.DataFrame(d,index=['Ram','Sham','John','Tom'],columns=header)\n",
    "df"
   ]
  },
  {
   "cell_type": "code",
   "execution_count": null,
   "id": "a9c43e61-575d-42b1-9bc4-27012bdb98a3",
   "metadata": {},
   "outputs": [],
   "source": [
    "header1=pd.MultiIndex.from_product([['January','February'],['Week1','Week2','Week3','Week4']])\n",
    "header1"
   ]
  },
  {
   "cell_type": "code",
   "execution_count": null,
   "id": "abb03b8c-468b-460a-88a4-7be3d6acec20",
   "metadata": {},
   "outputs": [],
   "source": [
    "data=[[20,30,40,50,60,70,80,90],[22,33,44,33,44,55,66,77],[32,43,55,64,54,65,76,87],[90,34,65,89,76,55,44,44]]\n",
    "data"
   ]
  },
  {
   "cell_type": "code",
   "execution_count": null,
   "id": "3161627c-817d-47f8-906b-90a45b6ea176",
   "metadata": {},
   "outputs": [],
   "source": [
    "df=pd.DataFrame(data,index=('Ram','Harish','Goyal','Rani'),columns=header1)"
   ]
  },
  {
   "cell_type": "code",
   "execution_count": null,
   "id": "e2015355-9c1f-41bd-9845-a7a328baf19f",
   "metadata": {},
   "outputs": [],
   "source": [
    "df"
   ]
  },
  {
   "cell_type": "code",
   "execution_count": null,
   "id": "3a8ab731-944c-4bff-b073-75312c91c24e",
   "metadata": {},
   "outputs": [],
   "source": [
    "header=pd.MultiIndex.from_product([['3 Months','6 Months'],['Biology','Physics','Chemistry']])\n",
    "header"
   ]
  },
  {
   "cell_type": "code",
   "execution_count": null,
   "id": "89c87668-c95e-43cb-8614-f1d78a7c1732",
   "metadata": {},
   "outputs": [],
   "source": [
    "data=[[20,30,40,50,60,70],[22,33,44,55,66,77],[32,43,54,65,76,87],[90,89,76,55,44,44]]\n",
    "data"
   ]
  },
  {
   "cell_type": "code",
   "execution_count": null,
   "id": "91df01fc-730c-4156-834c-632ac165062e",
   "metadata": {},
   "outputs": [],
   "source": [
    "df=pd.DataFrame(data,index=('Ram','Harish','Goyal','Rani'),columns=header)"
   ]
  },
  {
   "cell_type": "code",
   "execution_count": null,
   "id": "dffcc4ae-b1c5-481c-b978-90474996b63e",
   "metadata": {},
   "outputs": [],
   "source": [
    "df"
   ]
  },
  {
   "cell_type": "code",
   "execution_count": null,
   "id": "24348140-eade-4ace-9357-994be8c5cf85",
   "metadata": {},
   "outputs": [],
   "source": [
    "df.stack(level=0)\n"
   ]
  },
  {
   "cell_type": "code",
   "execution_count": null,
   "id": "03f63757-ff9a-4030-b5be-67f8bf4161e3",
   "metadata": {},
   "outputs": [],
   "source": [
    "df.stack(level=1)"
   ]
  },
  {
   "cell_type": "code",
   "execution_count": null,
   "id": "07da6256-0ef5-44a8-96bf-b28649f5ea59",
   "metadata": {},
   "outputs": [],
   "source": [
    "stacked=df.stack(level=0)\n",
    "stacked"
   ]
  },
  {
   "cell_type": "code",
   "execution_count": null,
   "id": "32865967-65a5-4ab9-b432-79e749eabb98",
   "metadata": {},
   "outputs": [],
   "source": [
    "stacked=df.stack(level=1)\n",
    "stacked"
   ]
  },
  {
   "cell_type": "code",
   "execution_count": null,
   "id": "ad274d95-42fd-4c88-82b5-776712230dad",
   "metadata": {},
   "outputs": [],
   "source": [
    "stacked"
   ]
  },
  {
   "cell_type": "markdown",
   "id": "625f5edb-550d-4c8b-94d7-9009b640356c",
   "metadata": {},
   "source": [
    "**Unstack**"
   ]
  },
  {
   "cell_type": "code",
   "execution_count": null,
   "id": "ad01ac33-6c9c-4d06-b04f-6c4ab9b1ebf4",
   "metadata": {},
   "outputs": [],
   "source": [
    "stacked"
   ]
  },
  {
   "cell_type": "code",
   "execution_count": null,
   "id": "9a89cd51-0d82-4ee4-bdc5-611466d12842",
   "metadata": {},
   "outputs": [],
   "source": [
    "unstacked=stacked.unstack()"
   ]
  },
  {
   "cell_type": "code",
   "execution_count": null,
   "id": "8863a47e-ded5-44a3-a6aa-a46e8463b1dc",
   "metadata": {},
   "outputs": [],
   "source": [
    "unstacked"
   ]
  },
  {
   "cell_type": "markdown",
   "id": "0f82fadd-08e8-4083-a6d0-6c8b9cffd2af",
   "metadata": {},
   "source": [
    "**Melt**"
   ]
  },
  {
   "cell_type": "code",
   "execution_count": null,
   "id": "ecc0b00b-2c35-44f1-b735-15d7a7400c86",
   "metadata": {},
   "outputs": [],
   "source": [
    "data = {\n",
    "    \"location\":['Bangalore', 'Chennai'],\n",
    "    \"Temperature\" : [\"Predict\", \"Actual\"],\n",
    "    \"Jan-2019\":[30, 32],\n",
    "    \"Feb-2019\":[45, 43],\n",
    "    \"Mar-2019\":[24, 22]\n",
    "}\n",
    "df = pd.DataFrame(data, columns=['location', 'Temperature','Jan-2019', 'Feb-2019', 'Mar-2019'])\n",
    "print(df)"
   ]
  },
  {
   "cell_type": "code",
   "execution_count": null,
   "id": "7ac9a8fd-eb62-43df-b825-cda2c7a294eb",
   "metadata": {},
   "outputs": [],
   "source": [
    "pd.melt(df,id_vars=[\"location\",\"Temperature\",\"Jan-2019\"])"
   ]
  },
  {
   "cell_type": "code",
   "execution_count": null,
   "id": "30d7da7d-198c-4a0f-b110-d18be0228acf",
   "metadata": {},
   "outputs": [],
   "source": [
    "pd.melt(df,id_vars=[\"location\",\"Temperature\",\"Jan-2019\"])"
   ]
  },
  {
   "cell_type": "code",
   "execution_count": null,
   "id": "2a15e1e6-ba65-4e10-825f-e9301d93e812",
   "metadata": {},
   "outputs": [],
   "source": [
    "df2=pd.melt(df)\n",
    "df2"
   ]
  },
  {
   "cell_type": "code",
   "execution_count": null,
   "id": "52d66a6f-ede3-49cb-a425-492a5678a4d9",
   "metadata": {},
   "outputs": [],
   "source": [
    "pd.melt(df,id_vars=[\"location\",\"Temperature\"],var_name=\"Date\",value_name=\"Value\")"
   ]
  },
  {
   "cell_type": "code",
   "execution_count": null,
   "id": "1fae2ad4-8213-4298-a8ef-d46c1d4db005",
   "metadata": {},
   "outputs": [],
   "source": [
    "data = {\n",
    "    \"location\":['Bangalore', 'Chennai'],\n",
    "    \"Temperature\" : [\"Predict\", \"Actual\"],\n",
    "    \"Jan-2019\":[30, 32],\n",
    "    \"Feb-2019\":[45, 43],\n",
    "    \"Mar-2019\":[24, 22]\n",
    "}\n",
    "df = pd.DataFrame(data, columns=['location', 'Temperature','Jan-2019', 'Feb-2019', 'Mar-2019'])\n",
    "print(df)"
   ]
  },
  {
   "cell_type": "code",
   "execution_count": null,
   "id": "62db9bfa-6e7e-46f2-a0c8-025d8ecfc0e1",
   "metadata": {},
   "outputs": [],
   "source": [
    "df2=pd.melt(df,id_vars=[\"location\",\"Temperature\"],var_name=\"Date\", value_name='ABC')\n",
    "df2"
   ]
  },
  {
   "cell_type": "code",
   "execution_count": null,
   "id": "90d3034f-0a90-463b-8336-4a9c27dc78df",
   "metadata": {},
   "outputs": [],
   "source": [
    "df2=pd.melt(df,id_vars=[\"location\",\"Jan-2019\"],var_name=\"XYZ\", value_name='ABC')\n",
    "df2"
   ]
  },
  {
   "cell_type": "markdown",
   "id": "30ec9ca3-eae4-43a2-9681-875814cc926c",
   "metadata": {},
   "source": [
    "**pivot**"
   ]
  },
  {
   "cell_type": "code",
   "execution_count": null,
   "id": "bf1bd45c-d2e1-449d-bd14-2d8e401314f4",
   "metadata": {},
   "outputs": [],
   "source": [
    "#Create a DataFrame\n",
    "d = {\n",
    "    'Name':['Jony','Anil','Sunil','Jony','Anil','Rocky',\n",
    "            'Jony','Anil','Sunil','Jony','Anil','Rocky'],\n",
    "    'Exam_Months':['3_Months','3_Months','3_Months','3_Months','3_Months','3_Months',\n",
    "            '6_Months','6_Months','6_Months','6_Months','6_Months','6_Months'],\n",
    "     \n",
    "    'Subject':['Python','Python','SQL','SQL','ML','ML',\n",
    "               'Python','Python','SQL','SQL','ML','ML'],\n",
    "   'Score':[62,47,55,74,31,77,85,63,42,67,89,81]}\n",
    " \n",
    "df = pd.DataFrame(d,columns=['Name','Exam_Months','Subject','Score'])\n",
    "df\n",
    "\n",
    "\n"
   ]
  },
  {
   "cell_type": "code",
   "execution_count": null,
   "id": "007dd79d-6624-4dd8-b66c-fb5be9fd7d39",
   "metadata": {},
   "outputs": [],
   "source": [
    "df"
   ]
  },
  {
   "cell_type": "code",
   "execution_count": null,
   "id": "fa7e7c79-de06-43bf-916c-9db882c4120b",
   "metadata": {},
   "outputs": [],
   "source": [
    "pd.pivot(df,index=['Name','Exam_Months'], columns=['Subject'])"
   ]
  },
  {
   "cell_type": "code",
   "execution_count": null,
   "id": "2954c444-2fa3-443a-8f1d-31a82e04e983",
   "metadata": {},
   "outputs": [],
   "source": [
    "pd.pivot_table(df,index=['Name','Exam_Months','Subject'],margins=True)\n"
   ]
  },
  {
   "cell_type": "code",
   "execution_count": null,
   "id": "e53b8982-bf30-454d-b397-8188c35ee3c1",
   "metadata": {},
   "outputs": [],
   "source": [
    "# pivot table using aggregate function sum\n",
    " \n",
    "pd.pivot_table(df, index=['Name','Subject','Exam_Months'], aggfunc='max',margins=True,margins_name='Max Marks')"
   ]
  },
  {
   "cell_type": "code",
   "execution_count": null,
   "id": "d5d18d86-8e48-4745-83b9-9398cfce617d",
   "metadata": {},
   "outputs": [],
   "source": [
    "d={\"Name\":['Ram','Sham','Joy','Roy','Geeta','Site',\n",
    "           'Ram','Sham','Joy','Roy','Geeta','Site'],\n",
    "    \"Sem\":['Sem1','Sem1','Sem1','Sem1','Sem1','Sem1',\n",
    "           'Sem2','Sem2','Sem2','Sem2','Sem2','Sem2'],\n",
    "    \"Course\":[\"Eng\",\"Kannada\",\"Hindi\",\"Eng\",\"Kannada\",\"Hindi\",\n",
    "               \"Eng\",\"Kannada\",\"Hindi\",\"Eng\",\"Kannada\",\"Hindi\"],\n",
    "   \"Marks\":[44,55,66,55,44,33,22,11,44,55,66,77] \n",
    "}"
   ]
  },
  {
   "cell_type": "code",
   "execution_count": null,
   "id": "0396dfce-fbb6-4fce-a9f1-d7228ca1c8f9",
   "metadata": {},
   "outputs": [],
   "source": [
    "d"
   ]
  },
  {
   "cell_type": "code",
   "execution_count": null,
   "id": "d51ab131-d9a8-417f-a2d0-e7c7ec5caa44",
   "metadata": {},
   "outputs": [],
   "source": [
    "df=pd.DataFrame(d,columns=[\"Name\",\"Sem\",\"Course\",\"Marks\"])\n",
    "df"
   ]
  },
  {
   "cell_type": "code",
   "execution_count": null,
   "id": "effd9a09-c16d-41d6-867d-e817d9e94c3f",
   "metadata": {},
   "outputs": [],
   "source": [
    "df2=pd.pivot_table(df,index=[\"Name\",\"Sem\",\"Course\"])\n",
    "df2"
   ]
  },
  {
   "cell_type": "markdown",
   "id": "0a2ac459-f5a9-4af8-86a5-5775be9efa9b",
   "metadata": {},
   "source": [
    "**Crosstable**\n",
    "#frequency"
   ]
  },
  {
   "cell_type": "code",
   "execution_count": null,
   "id": "e33703cc-bcb8-4f33-8739-74d0a2c70296",
   "metadata": {},
   "outputs": [],
   "source": [
    "df=pd.read_csv(\"Humidity1.csv\")\n",
    "df"
   ]
  },
  {
   "cell_type": "code",
   "execution_count": null,
   "id": "a0bfc102-ab4d-45b0-b9ac-0adc75c7143a",
   "metadata": {},
   "outputs": [],
   "source": [
    "pd.crosstab(df.city,df.date)"
   ]
  },
  {
   "cell_type": "code",
   "execution_count": null,
   "id": "26b7c864-7c09-4c77-b984-2e14d0b466de",
   "metadata": {},
   "outputs": [],
   "source": [
    "pd.crosstab(df.city,df.date,values=df.temperature,aggfunc='mean')"
   ]
  },
  {
   "cell_type": "markdown",
   "id": "2176e943-10d6-4019-9ff7-58bb72cbe291",
   "metadata": {},
   "source": [
    "**duplicates**"
   ]
  },
  {
   "cell_type": "code",
   "execution_count": null,
   "id": "22cbf248-b2fe-49e8-b24f-f391f2dc2560",
   "metadata": {},
   "outputs": [],
   "source": [
    "#Create a DataFrame\n",
    "d = {\n",
    "    'Name':['Jony','Anil','Sunil','Jony','Anil','Rocky',\n",
    "            'Jony','Anil','Sunil','Jony','Anil','Rocky'],\n",
    "    'Exam_Months':['3_Months','3_Months','6_Months','3_Months','3_Months','3_Months',\n",
    "            '3_Months','6_Months','6_Months','6_Months','6_Months','6_Months'],\n",
    "     \n",
    "    'Subject':['Python','Python','SQL','SQL','ML','ML',\n",
    "               'Python','Python','SQL','SQL','ML','ML'],\n",
    "   'Score':[62,47,42,74,31,77,62,63,42,67,89,81]}\n",
    " \n",
    "df = pd.DataFrame(d,columns=['Name','Exam_Months','Subject','Score'])\n",
    "df\n",
    "\n",
    "\n"
   ]
  },
  {
   "cell_type": "code",
   "execution_count": null,
   "id": "88b17bee-a63b-40d0-9d1f-403566f325aa",
   "metadata": {},
   "outputs": [],
   "source": [
    "df[df.duplicated()]"
   ]
  },
  {
   "cell_type": "code",
   "execution_count": null,
   "id": "d3511a0e-25b7-4067-b195-999a28c5f43b",
   "metadata": {},
   "outputs": [],
   "source": [
    "df.drop_duplicates()\n"
   ]
  },
  {
   "cell_type": "code",
   "execution_count": null,
   "id": "60111589-4ae6-43f5-a005-4e5720de76ea",
   "metadata": {},
   "outputs": [],
   "source": [
    "df"
   ]
  },
  {
   "cell_type": "code",
   "execution_count": null,
   "id": "a900e6d5-f1bf-447d-b7a2-836b73e75a50",
   "metadata": {},
   "outputs": [],
   "source": [
    "df.drop_duplicates('Name',keep='last')"
   ]
  },
  {
   "cell_type": "code",
   "execution_count": null,
   "id": "cf50584a-b46d-467a-bf8b-fd0cda51f470",
   "metadata": {},
   "outputs": [],
   "source": [
    "df"
   ]
  },
  {
   "cell_type": "code",
   "execution_count": null,
   "id": "2acfc5b4-f6c2-4a5c-9316-a447ca90df6c",
   "metadata": {},
   "outputs": [],
   "source": [
    "df=pd.read_csv('Humidity1.csv')\n",
    "df"
   ]
  },
  {
   "cell_type": "code",
   "execution_count": null,
   "id": "62622f89-690c-4622-abd0-5c44671842c8",
   "metadata": {},
   "outputs": [],
   "source": [
    "df.groupby(['city']).max()"
   ]
  },
  {
   "cell_type": "code",
   "execution_count": null,
   "id": "d25d1788-b4bb-466a-9dd4-f01a3869e9a8",
   "metadata": {},
   "outputs": [],
   "source": [
    "df1= df.groupby(['city'])\n",
    "df1\n",
    "for city,city_df in df1:\n",
    "    print(city)\n",
    "    print(city_df)"
   ]
  },
  {
   "cell_type": "code",
   "execution_count": null,
   "id": "f67d4128-4096-49e8-80df-3ff1153f42eb",
   "metadata": {},
   "outputs": [],
   "source": [
    "df1.get_group(\"mumbai\")"
   ]
  },
  {
   "cell_type": "code",
   "execution_count": null,
   "id": "7c8a4987-2bb8-4ba2-84f1-45d55b6444c0",
   "metadata": {},
   "outputs": [],
   "source": [
    "df1.max() "
   ]
  },
  {
   "cell_type": "code",
   "execution_count": null,
   "id": "12cb6e5e-d61a-45af-bae7-fe0bb0674f2c",
   "metadata": {},
   "outputs": [],
   "source": [
    "df1.describe()"
   ]
  },
  {
   "cell_type": "code",
   "execution_count": null,
   "id": "34b131c1-d55c-4b24-95d6-d1d07bdc64d8",
   "metadata": {},
   "outputs": [],
   "source": [
    "df1.plot()"
   ]
  },
  {
   "cell_type": "markdown",
   "id": "649f2965-5803-4c09-b77c-f8adb42c5f6c",
   "metadata": {},
   "source": [
    "**map**"
   ]
  },
  {
   "cell_type": "code",
   "execution_count": null,
   "id": "3e578348-16cb-4dcd-bf76-bd75b3d4810d",
   "metadata": {},
   "outputs": [],
   "source": [
    "Season = {'new york':'winter', 'mumbai':'summer'}"
   ]
  },
  {
   "cell_type": "code",
   "execution_count": null,
   "id": "3f51ecce-6c87-46ab-b296-dff41089975d",
   "metadata": {},
   "outputs": [],
   "source": [
    "df = pd.read_csv(\"Humidity1.csv\")\n",
    "df"
   ]
  },
  {
   "cell_type": "code",
   "execution_count": null,
   "id": "28443fc9-5fb5-4cda-b5a9-15580d48d9c8",
   "metadata": {},
   "outputs": [],
   "source": [
    "df['Season']=df['city'].map(Season)\n"
   ]
  },
  {
   "cell_type": "code",
   "execution_count": null,
   "id": "37df259c-47a7-4118-b914-84aa6ad6ab05",
   "metadata": {},
   "outputs": [],
   "source": [
    "df"
   ]
  },
  {
   "cell_type": "markdown",
   "id": "aaa8a651-4a31-4e5b-901f-18b7b55b3b8e",
   "metadata": {},
   "source": [
    "**Replacing**"
   ]
  },
  {
   "cell_type": "code",
   "execution_count": null,
   "id": "ae2e7bf9-b820-4db1-82e2-7164f28583ca",
   "metadata": {},
   "outputs": [],
   "source": [
    "df['city'].replace('new york','NY')"
   ]
  },
  {
   "cell_type": "markdown",
   "id": "86c2d1b2-6c1b-4834-9803-587d8067176e",
   "metadata": {},
   "source": [
    "**renaming**"
   ]
  },
  {
   "cell_type": "code",
   "execution_count": null,
   "id": "ab33e5ac-4dd0-40f8-9532-121022546e28",
   "metadata": {},
   "outputs": [],
   "source": [
    "df.rename(columns={'temperature':'temp'},inplace=True)"
   ]
  },
  {
   "cell_type": "code",
   "execution_count": null,
   "id": "06d9302b-bbe5-4d48-b6d8-66ec25bdf6ac",
   "metadata": {},
   "outputs": [],
   "source": [
    "df"
   ]
  },
  {
   "cell_type": "code",
   "execution_count": null,
   "id": "13c1d379-e4a9-4fcf-b3f1-58c4a3d6c831",
   "metadata": {},
   "outputs": [],
   "source": [
    "import pandas as pd\n",
    "df_cust=pd.read_excel('Ecommerce_data.xlsx', sheet_name='Cust_data')\n",
    "df_cust"
   ]
  },
  {
   "cell_type": "code",
   "execution_count": null,
   "id": "7157bae6-809d-4d38-852c-b7bf57085c12",
   "metadata": {},
   "outputs": [],
   "source": [
    "df_order=pd.read_excel('Ecommerce_data.xlsx', sheet_name='Ord_data')\n",
    "df_order"
   ]
  },
  {
   "cell_type": "code",
   "execution_count": null,
   "id": "048c3fcb-8924-4eaf-b7cb-26599e1b7872",
   "metadata": {},
   "outputs": [],
   "source": [
    "df_cust.set_index('Cust_ID').join(df_order.set_index('Cust_ID'), on='Cust_ID', how='inner')"
   ]
  }
 ],
 "metadata": {
  "kernelspec": {
   "display_name": "Python 3 (ipykernel)",
   "language": "python",
   "name": "python3"
  },
  "language_info": {
   "codemirror_mode": {
    "name": "ipython",
    "version": 3
   },
   "file_extension": ".py",
   "mimetype": "text/x-python",
   "name": "python",
   "nbconvert_exporter": "python",
   "pygments_lexer": "ipython3",
   "version": "3.12.4"
  }
 },
 "nbformat": 4,
 "nbformat_minor": 5
}
