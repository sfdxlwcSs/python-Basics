{
 "cells": [
  {
   "cell_type": "code",
   "execution_count": null,
   "id": "aa4024f4-bce8-4ce2-a104-a41b47d24187",
   "metadata": {},
   "outputs": [],
   "source": [
    "import pandas as pd"
   ]
  },
  {
   "cell_type": "code",
   "execution_count": null,
   "id": "1e2e42aa-bf80-4bc9-9d7c-c5a8ae2b0ff6",
   "metadata": {},
   "outputs": [],
   "source": [
    "dict1={'Student Name':['John','Maria','Shweta','Ram','Abdul','George','Deepti','Rahul','Rosy'],\n",
    "       'Marks':[88,77,55,77,55,77,34,56,42],\n",
    "       'grades':['A','B','C','B','C','B','F','C','D']\n",
    "}\n",
    "df1=pd.DataFrame(dict1)\n",
    "df1"
   ]
  },
  {
   "cell_type": "markdown",
   "id": "4d38018a-84d4-4a33-8f9e-8f316d6322f4",
   "metadata": {},
   "source": [
    "**Create CSV from Pandas dataFrame**"
   ]
  },
  {
   "cell_type": "code",
   "execution_count": null,
   "id": "a0679d5a-fc21-4da2-8a03-b6bb777901fa",
   "metadata": {},
   "outputs": [],
   "source": [
    "df1.to_csv('file2.csv')"
   ]
  },
  {
   "cell_type": "code",
   "execution_count": null,
   "id": "2c72af49-3abd-41a9-8e2a-5b32f904299c",
   "metadata": {},
   "outputs": [],
   "source": [
    "pwd"
   ]
  },
  {
   "cell_type": "code",
   "execution_count": null,
   "id": "0916b544-75a6-44db-b68a-a925336047c3",
   "metadata": {},
   "outputs": [],
   "source": [
    "pwd"
   ]
  },
  {
   "cell_type": "code",
   "execution_count": null,
   "id": "6a6b6179-e00b-4af5-b74f-d409d2c9266f",
   "metadata": {},
   "outputs": [],
   "source": [
    "df2=pd.read_csv('file1.csv')\n",
    "df2"
   ]
  },
  {
   "cell_type": "markdown",
   "id": "d54d8543-53e6-4399-b726-d1daa2085aa1",
   "metadata": {},
   "source": [
    "**Comma Separated Values csv file**"
   ]
  },
  {
   "cell_type": "code",
   "execution_count": null,
   "id": "c529c0d3-0891-40f8-b08c-74da05790254",
   "metadata": {},
   "outputs": [],
   "source": [
    "data=pd.read_csv(\"file1.csv\")\n",
    "data"
   ]
  },
  {
   "cell_type": "code",
   "execution_count": null,
   "id": "d8bd7121-c340-4737-a52c-20cce62b6b73",
   "metadata": {},
   "outputs": [],
   "source": [
    "pwd"
   ]
  },
  {
   "cell_type": "markdown",
   "id": "2fd04302-20e7-4f61-8a8a-210995b4330f",
   "metadata": {},
   "source": [
    "**Excel Spreadsheets**"
   ]
  },
  {
   "cell_type": "code",
   "execution_count": null,
   "id": "9db0f0ee-f869-477f-b382-83c7c74d2e1a",
   "metadata": {},
   "outputs": [],
   "source": [
    "data=pd.read_excel('Ecommerce_data.xlsx',sheet_name=0)\n",
    "data"
   ]
  },
  {
   "cell_type": "markdown",
   "id": "cfa397c9-a485-4c3c-9cb5-9dd684973b52",
   "metadata": {},
   "source": [
    "**Tab Separated Values file, .txt, tsv**"
   ]
  },
  {
   "cell_type": "code",
   "execution_count": null,
   "id": "db6154af-17e8-404f-840c-20c1a271fe59",
   "metadata": {},
   "outputs": [],
   "source": [
    "data=pd.read_table('Ecommerce_data.txt')\n",
    "data"
   ]
  },
  {
   "cell_type": "code",
   "execution_count": null,
   "id": "bf0d781a-a27c-4bc5-8f13-fb6ed893a3db",
   "metadata": {},
   "outputs": [],
   "source": [
    "data=pd.read_csv('Ecommerce_data.txt',sep='\\t')\n",
    "data"
   ]
  },
  {
   "cell_type": "code",
   "execution_count": null,
   "id": "a68d99e8-602a-4e60-b977-88a647364f49",
   "metadata": {},
   "outputs": [],
   "source": [
    "help(pd.read_csv)"
   ]
  },
  {
   "cell_type": "markdown",
   "id": "42c0d265-e9a8-4c45-85a3-25feed29ed78",
   "metadata": {},
   "source": [
    "**inplace true, false**"
   ]
  },
  {
   "cell_type": "code",
   "execution_count": null,
   "id": "40c16bce-21cb-491b-baa4-5226d6f0c82d",
   "metadata": {},
   "outputs": [],
   "source": [
    "dict1={'Student Name':['John','Maria','Shweta','Ram','Abdul','George','Deepti','Rahul','Rosy'],\n",
    "       'Marks':[88,77,55,77,55,77,34,56,42],\n",
    "       'grades':['A','B','C','B','C','B','F','C','D']\n",
    "}\n",
    "df1=pd.DataFrame(dict1)\n",
    "df1"
   ]
  },
  {
   "cell_type": "code",
   "execution_count": null,
   "id": "99da9c25-1484-46dd-a08e-4521fb2d3bce",
   "metadata": {},
   "outputs": [],
   "source": [
    "df1"
   ]
  },
  {
   "cell_type": "code",
   "execution_count": null,
   "id": "c8f4556c-d6f0-44ab-8ca2-97720c73c17c",
   "metadata": {},
   "outputs": [],
   "source": [
    "df2=pd.read_csv('file1.csv')\n",
    "df2"
   ]
  },
  {
   "cell_type": "code",
   "execution_count": null,
   "id": "40317bec-68cb-4df1-9012-bcda8c57a810",
   "metadata": {},
   "outputs": [],
   "source": [
    "df2.set_index('Marks')"
   ]
  },
  {
   "cell_type": "markdown",
   "id": "c0bae527-2a58-4ea0-87cc-4b657ab8fada",
   "metadata": {},
   "source": [
    "**isnull(), isnotnull()**"
   ]
  },
  {
   "cell_type": "code",
   "execution_count": null,
   "id": "e11d2e30-e4ee-4304-84ad-cd699c7cd1d9",
   "metadata": {},
   "outputs": [],
   "source": [
    "data=pd.read_csv('data_#na.csv')"
   ]
  },
  {
   "cell_type": "code",
   "execution_count": null,
   "id": "abceb772-0e50-4caf-ae23-c674aab2576f",
   "metadata": {},
   "outputs": [],
   "source": [
    "data"
   ]
  },
  {
   "cell_type": "code",
   "execution_count": null,
   "id": "ba44df97-3a7a-41cb-9b1b-bdf1eac67efd",
   "metadata": {},
   "outputs": [],
   "source": [
    "#Not a Number"
   ]
  },
  {
   "cell_type": "code",
   "execution_count": null,
   "id": "f8d4d56b-2053-4037-bc33-fa03052ebf00",
   "metadata": {},
   "outputs": [],
   "source": [
    "data.isnull()"
   ]
  },
  {
   "cell_type": "code",
   "execution_count": null,
   "id": "ddc53fea-f48a-4486-a856-d4d4a07d2197",
   "metadata": {},
   "outputs": [],
   "source": [
    "data.isnull().sum()"
   ]
  },
  {
   "cell_type": "code",
   "execution_count": null,
   "id": "ac7093e2-63cf-4526-a084-a169f502afea",
   "metadata": {},
   "outputs": [],
   "source": [
    "data.isnull().sum(axis=1)"
   ]
  },
  {
   "cell_type": "code",
   "execution_count": null,
   "id": "ca8a4240-03d6-47ec-8715-ff685b4e8f60",
   "metadata": {},
   "outputs": [],
   "source": [
    "data.isnull().sum().sum()"
   ]
  },
  {
   "cell_type": "code",
   "execution_count": null,
   "id": "9c0f7d54-4b05-49a7-8570-d1277407ac51",
   "metadata": {},
   "outputs": [],
   "source": []
  },
  {
   "cell_type": "code",
   "execution_count": null,
   "id": "471cda05-0681-490a-bab0-3a17cbcc69dd",
   "metadata": {},
   "outputs": [],
   "source": [
    "data.isna() # similar as isnull()"
   ]
  },
  {
   "cell_type": "code",
   "execution_count": null,
   "id": "9ca61b10-2b0a-4004-8416-c6ac8eb02d14",
   "metadata": {},
   "outputs": [],
   "source": [
    "data.notnull()"
   ]
  },
  {
   "cell_type": "code",
   "execution_count": null,
   "id": "226d5472-e249-42da-8760-3f75dca14b99",
   "metadata": {},
   "outputs": [],
   "source": [
    "data.notnull().sum()"
   ]
  },
  {
   "cell_type": "code",
   "execution_count": null,
   "id": "49bc16ad-52de-4da7-a577-046295489774",
   "metadata": {},
   "outputs": [],
   "source": [
    "data.notnull().sum().sum()"
   ]
  },
  {
   "cell_type": "code",
   "execution_count": null,
   "id": "232d65ae-12fc-461f-9df8-7eb89f42267c",
   "metadata": {},
   "outputs": [],
   "source": [
    "type(data)"
   ]
  },
  {
   "cell_type": "code",
   "execution_count": null,
   "id": "f3560038-9ff7-44cb-8d09-0d3ae46d8c44",
   "metadata": {},
   "outputs": [],
   "source": [
    "type(data['Marks'])"
   ]
  },
  {
   "cell_type": "code",
   "execution_count": null,
   "id": "c04b9028-3b8c-4d53-bb8b-60fed4bbaa1d",
   "metadata": {},
   "outputs": [],
   "source": [
    "data['Marks'].isnull().sum()"
   ]
  },
  {
   "cell_type": "code",
   "execution_count": null,
   "id": "a92c8f4a-a3a8-436f-8d30-243d0772dd14",
   "metadata": {},
   "outputs": [],
   "source": [
    "data[data['Marks'].isnull()]"
   ]
  },
  {
   "cell_type": "markdown",
   "id": "badb3687-ec85-457e-b393-89d1e100a9aa",
   "metadata": {},
   "source": [
    "**Handling Missing values**"
   ]
  },
  {
   "cell_type": "code",
   "execution_count": null,
   "id": "0447aa48-4b71-4703-8a93-f700c61f3562",
   "metadata": {},
   "outputs": [],
   "source": [
    "data=pd.read_csv('data_m1.csv')"
   ]
  },
  {
   "cell_type": "code",
   "execution_count": null,
   "id": "54bfe0be-d49f-498a-918c-9424a95557d1",
   "metadata": {},
   "outputs": [],
   "source": [
    "data"
   ]
  },
  {
   "cell_type": "code",
   "execution_count": null,
   "id": "2c8b1008-857c-460c-bed6-faca84144682",
   "metadata": {},
   "outputs": [],
   "source": [
    "data=pd.read_csv('data_m1.csv', na_values='not available')"
   ]
  },
  {
   "cell_type": "code",
   "execution_count": null,
   "id": "424a05d1-1d80-4474-9ac7-47d07b025846",
   "metadata": {},
   "outputs": [],
   "source": [
    "data"
   ]
  },
  {
   "cell_type": "code",
   "execution_count": null,
   "id": "c476e0e0-c662-42ac-a5a1-5101bd6b1675",
   "metadata": {},
   "outputs": [],
   "source": [
    "data=pd.read_csv('data_m1.csv')"
   ]
  },
  {
   "cell_type": "code",
   "execution_count": null,
   "id": "9eb4b71f-48a1-4b09-886e-7ffa552d0e4d",
   "metadata": {},
   "outputs": [],
   "source": [
    "data"
   ]
  },
  {
   "cell_type": "code",
   "execution_count": null,
   "id": "66f3da0f-6aa5-4f79-9b6d-76c1100d288e",
   "metadata": {},
   "outputs": [],
   "source": [
    "data.fillna(1000)"
   ]
  },
  {
   "cell_type": "code",
   "execution_count": null,
   "id": "1651aebc-24da-49e4-8b95-2dfd9f612048",
   "metadata": {},
   "outputs": [],
   "source": [
    "data"
   ]
  },
  {
   "cell_type": "markdown",
   "id": "129c6f98-a04a-4299-bef2-182f4b42de45",
   "metadata": {},
   "source": [
    "import zipfile\n",
    "with zipfile.ZipFile(\"abc.zip\") as z:\n",
    "    with z.open(\"abc.csv\") as f:\n",
    "        train=pd.read_csv(f,header=0)\n",
    "        print(train.head())\n",
    "        "
   ]
  }
 ],
 "metadata": {
  "kernelspec": {
   "display_name": "Python 3 (ipykernel)",
   "language": "python",
   "name": "python3"
  },
  "language_info": {
   "codemirror_mode": {
    "name": "ipython",
    "version": 3
   },
   "file_extension": ".py",
   "mimetype": "text/x-python",
   "name": "python",
   "nbconvert_exporter": "python",
   "pygments_lexer": "ipython3",
   "version": "3.12.4"
  }
 },
 "nbformat": 4,
 "nbformat_minor": 5
}
