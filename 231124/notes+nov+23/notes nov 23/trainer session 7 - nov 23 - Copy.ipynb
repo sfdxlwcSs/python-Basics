{
 "cells": [
  {
   "cell_type": "markdown",
   "id": "cc580684-88ac-452f-b4ef-f9c791c42e1f",
   "metadata": {},
   "source": [
    "**Concatenating a Series**"
   ]
  },
  {
   "cell_type": "markdown",
   "id": "61f5f882-e5cd-4c57-914b-f7f9ab961b8f",
   "metadata": {},
   "source": [
    "**Vertical Concatenation**"
   ]
  },
  {
   "cell_type": "code",
   "execution_count": null,
   "id": "d23a243d-4c88-4477-9ac3-fb3e0820d0d3",
   "metadata": {},
   "outputs": [],
   "source": [
    "import pandas as pd\n",
    "import numpy as np\n"
   ]
  },
  {
   "cell_type": "code",
   "execution_count": null,
   "id": "56da9bf1-f464-4dbf-8bcb-afcd0cf570c5",
   "metadata": {},
   "outputs": [],
   "source": [
    "ser1 = pd.Series([1, 2, 3, 4, 5])"
   ]
  },
  {
   "cell_type": "code",
   "execution_count": null,
   "id": "2c2670e0-8af5-4b64-9020-79445d519ebc",
   "metadata": {},
   "outputs": [],
   "source": [
    "ser2 = pd.Series([6, 7, 8, 9, 10])"
   ]
  },
  {
   "cell_type": "code",
   "execution_count": null,
   "id": "9cbf1494-aa9a-487e-b808-9f50ef555923",
   "metadata": {},
   "outputs": [],
   "source": [
    "ser3 = pd.concat([ser1, ser2])"
   ]
  },
  {
   "cell_type": "code",
   "execution_count": null,
   "id": "a9d4d93c-c75f-4dce-8f5a-30f15cece9f9",
   "metadata": {},
   "outputs": [],
   "source": [
    "ser3"
   ]
  },
  {
   "cell_type": "markdown",
   "id": "0c13ab58-f0dd-4ed0-bd59-228068aedc3c",
   "metadata": {},
   "source": [
    "**Horizontal Concatenation with DataFrames**\n",
    "\n"
   ]
  },
  {
   "cell_type": "code",
   "execution_count": null,
   "id": "de70eeb8-30cb-482d-85a3-b53984948a92",
   "metadata": {},
   "outputs": [],
   "source": [
    "ser1 = pd.Series([10, 20, 30], index=['a', 'b', 'c'])"
   ]
  },
  {
   "cell_type": "code",
   "execution_count": null,
   "id": "9ce2b713-b147-4635-8f21-cebc5516403d",
   "metadata": {},
   "outputs": [],
   "source": [
    "ser2 = pd.Series([40, 50, 60], index=['a', 'b', 'c'])"
   ]
  },
  {
   "cell_type": "code",
   "execution_count": null,
   "id": "ede57e4f-8c94-4043-a2a7-4e6f3ea55cf2",
   "metadata": {},
   "outputs": [],
   "source": [
    "ser3 = pd.concat([ser1, ser2], axis=1)\n",
    "ser3\n",
    "\n"
   ]
  },
  {
   "cell_type": "code",
   "execution_count": null,
   "id": "eb5bea31-8a28-44a8-8691-1502b58b3c3a",
   "metadata": {},
   "outputs": [],
   "source": [
    "ser3.columns = ['Col1', 'Col2']\n",
    "ser3"
   ]
  },
  {
   "cell_type": "markdown",
   "id": "8eddd312-aa36-4c2d-b12e-74e3a78a5875",
   "metadata": {},
   "source": [
    "**Concatenation with Different Indices**"
   ]
  },
  {
   "cell_type": "code",
   "execution_count": null,
   "id": "183d2db1-0c12-410b-a280-bbb401707a40",
   "metadata": {},
   "outputs": [],
   "source": [
    "ser1 = pd.Series([10, 20, 30], index=['a', 'b', 'c'])"
   ]
  },
  {
   "cell_type": "code",
   "execution_count": null,
   "id": "b6136dbd-c104-4c15-aef0-3399a1c5eda3",
   "metadata": {},
   "outputs": [],
   "source": [
    "ser2 = pd.Series([40, 50, 60], index=['d', 'e', 'f'])"
   ]
  },
  {
   "cell_type": "code",
   "execution_count": null,
   "id": "25024b07-741b-4e88-abca-427e18be4fd9",
   "metadata": {},
   "outputs": [],
   "source": [
    "ser3 = pd.concat([ser1, ser2])\n",
    "ser3"
   ]
  },
  {
   "cell_type": "code",
   "execution_count": null,
   "id": "f11da1a3-8876-43a1-91d4-cc46dae53ea8",
   "metadata": {},
   "outputs": [],
   "source": []
  },
  {
   "cell_type": "code",
   "execution_count": null,
   "id": "96750fe9-eff9-46f3-9e1b-6ac777cdfbdb",
   "metadata": {},
   "outputs": [],
   "source": []
  },
  {
   "cell_type": "markdown",
   "id": "59691124-d3db-4655-9035-33449c890fb8",
   "metadata": {},
   "source": [
    "**Handling Duplicate Indices**\n"
   ]
  },
  {
   "cell_type": "code",
   "execution_count": null,
   "id": "93a0b124-1578-4bb7-832a-8b16b5851a5b",
   "metadata": {},
   "outputs": [],
   "source": [
    "ser1 = pd.Series([1, 2, 3], index=['a', 'b', 'a'])"
   ]
  },
  {
   "cell_type": "code",
   "execution_count": null,
   "id": "fdc0fdc8-94a3-4e24-8b48-ad5188334bf7",
   "metadata": {},
   "outputs": [],
   "source": [
    "ser2 = pd.Series([4, 5, 6], index=['a', 'b', 'b'])"
   ]
  },
  {
   "cell_type": "code",
   "execution_count": null,
   "id": "269f5d88-2081-4e8b-8a46-5a88305f11c0",
   "metadata": {},
   "outputs": [],
   "source": [
    "ser3 = pd.concat([ser1, ser2], keys=['series1', 'series2'])"
   ]
  },
  {
   "cell_type": "code",
   "execution_count": null,
   "id": "39ef8b71-8a04-426b-ae24-206eac83b44d",
   "metadata": {},
   "outputs": [],
   "source": [
    "ser3"
   ]
  },
  {
   "cell_type": "markdown",
   "id": "f357dfd2-4374-453a-bb3c-45089531143a",
   "metadata": {},
   "source": [
    "**Concatenation with Ignore Index**\n"
   ]
  },
  {
   "cell_type": "code",
   "execution_count": null,
   "id": "fd2ea662-2bdf-4e41-943b-7624964eef7b",
   "metadata": {},
   "outputs": [],
   "source": [
    "ser1 = pd.Series([1, 2, 3])"
   ]
  },
  {
   "cell_type": "code",
   "execution_count": null,
   "id": "f3ce7e36-d466-4b0d-a303-eaa8420dcf98",
   "metadata": {},
   "outputs": [],
   "source": [
    "ser2 = pd.Series([11, 12, 13])"
   ]
  },
  {
   "cell_type": "code",
   "execution_count": null,
   "id": "1b07970f-aba2-4297-96dd-cdaedf86c1b6",
   "metadata": {},
   "outputs": [],
   "source": [
    "ser3 = pd.concat([ser1, ser2], ignore_index=True)\n",
    "ser3"
   ]
  },
  {
   "cell_type": "code",
   "execution_count": null,
   "id": "1ecc988b-8419-45ab-8106-cb3d3a04c9ea",
   "metadata": {},
   "outputs": [],
   "source": [
    "ser1 = pd.Series([10, 20, 30], index=['a', 'b', 'c'])"
   ]
  },
  {
   "cell_type": "code",
   "execution_count": null,
   "id": "3dab70a2-a631-4495-92f8-af6d43d03197",
   "metadata": {},
   "outputs": [],
   "source": [
    "ser2 = pd.Series([40, 50, 60], index=['d', 'e', 'f'])"
   ]
  },
  {
   "cell_type": "code",
   "execution_count": null,
   "id": "498ff79a-9220-488f-bc80-54f301652d05",
   "metadata": {},
   "outputs": [],
   "source": [
    "ser3 = pd.concat([ser1, ser2], ignore_index=True)"
   ]
  },
  {
   "cell_type": "code",
   "execution_count": null,
   "id": "57c82460-a763-46f4-92fb-cc6decda9651",
   "metadata": {},
   "outputs": [],
   "source": [
    "ser3"
   ]
  },
  {
   "cell_type": "markdown",
   "id": "481e766f-e658-4e2b-9521-3f5b70605286",
   "metadata": {},
   "source": [
    "**MultiIndex Concatenation**"
   ]
  },
  {
   "cell_type": "code",
   "execution_count": null,
   "id": "f97536b5-97e6-4381-a7ac-7a49c5003a75",
   "metadata": {},
   "outputs": [],
   "source": [
    "ser1 = pd.Series([1, 2], index=['a', 'b'])"
   ]
  },
  {
   "cell_type": "code",
   "execution_count": null,
   "id": "aeff5d55-1059-4a01-aed1-6c08cd98cc3a",
   "metadata": {},
   "outputs": [],
   "source": [
    "ser2 = pd.Series([3, 4], index=['a', 'b'])"
   ]
  },
  {
   "cell_type": "code",
   "execution_count": null,
   "id": "881a32b5-9f33-42bc-948c-73a1957ff65a",
   "metadata": {},
   "outputs": [],
   "source": [
    "ser3 = pd.concat([ser1, ser2], keys=['Ser1', 'Ser2'])"
   ]
  },
  {
   "cell_type": "code",
   "execution_count": null,
   "id": "012aef52-dd3a-4bfd-930e-868173c1aef7",
   "metadata": {},
   "outputs": [],
   "source": [
    "ser3"
   ]
  },
  {
   "cell_type": "markdown",
   "id": "8b82d699-303a-4bff-967f-db8a883e5754",
   "metadata": {},
   "source": [
    "**Concatenate Series with NaN Values**\n"
   ]
  },
  {
   "cell_type": "code",
   "execution_count": null,
   "id": "f3f47f1b-88b0-4097-b9f7-2a02dd1e4aa9",
   "metadata": {},
   "outputs": [],
   "source": [
    "ser1 = pd.Series([1, 2, 3], index=['a', 'b', 'c'])"
   ]
  },
  {
   "cell_type": "code",
   "execution_count": null,
   "id": "d585a037-7119-45d3-93e1-90a2bc465961",
   "metadata": {},
   "outputs": [],
   "source": [
    "ser2 = pd.Series([4, 5], index=['c', 'd'])"
   ]
  },
  {
   "cell_type": "code",
   "execution_count": null,
   "id": "2bb3f035-dc03-4635-a40e-baa0248dcde3",
   "metadata": {},
   "outputs": [],
   "source": [
    "ser3 = pd.concat([ser1, ser2], axis=1)"
   ]
  },
  {
   "cell_type": "code",
   "execution_count": null,
   "id": "c8393205-e0b9-49d1-a13f-94057e5037bd",
   "metadata": {},
   "outputs": [],
   "source": [
    "ser3"
   ]
  },
  {
   "cell_type": "code",
   "execution_count": null,
   "id": "af83c6fb-bebd-446a-a008-a51702709556",
   "metadata": {},
   "outputs": [],
   "source": [
    "ser3.columns = ['Series1', 'Series2']\n",
    "ser3"
   ]
  },
  {
   "cell_type": "markdown",
   "id": "0e45090a-f176-45ee-9409-9990b1fc8c1c",
   "metadata": {},
   "source": [
    "**Concatenation with Inner Join**"
   ]
  },
  {
   "cell_type": "code",
   "execution_count": null,
   "id": "54de5209-74c8-4db9-b911-7d6d1f6230ca",
   "metadata": {},
   "outputs": [],
   "source": [
    "ser1 = pd.Series([1, 2, 3], index=['a', 'b', 'c'])\n"
   ]
  },
  {
   "cell_type": "code",
   "execution_count": null,
   "id": "1ca18149-1e76-4b68-8dec-fc2e7cac7508",
   "metadata": {},
   "outputs": [],
   "source": [
    "ser2 = pd.Series([4, 5, 6], index=['b', 'c', 'd'])"
   ]
  },
  {
   "cell_type": "code",
   "execution_count": null,
   "id": "f326b18f-692a-4b71-b205-5320f832a590",
   "metadata": {},
   "outputs": [],
   "source": [
    "ser3 = pd.concat([ser1, ser2], axis=1, join='inner')"
   ]
  },
  {
   "cell_type": "code",
   "execution_count": null,
   "id": "8934dace-0ac3-4c71-94c4-2aab302bf8c2",
   "metadata": {},
   "outputs": [],
   "source": [
    "ser3"
   ]
  },
  {
   "cell_type": "code",
   "execution_count": null,
   "id": "aa8d3835-8ed6-4330-bac9-08a0cd794f21",
   "metadata": {},
   "outputs": [],
   "source": [
    "ser3.columns = ['Ser1', 'Ser2']\n",
    "ser3"
   ]
  },
  {
   "cell_type": "markdown",
   "id": "f583f296-d1c6-44ce-97e9-31109189e413",
   "metadata": {},
   "source": [
    "**Concatenation with Keys**"
   ]
  },
  {
   "cell_type": "code",
   "execution_count": null,
   "id": "2f683369-24f6-4f3d-b7b7-4063168de044",
   "metadata": {},
   "outputs": [],
   "source": [
    "ser1 = pd.Series([1, 2])"
   ]
  },
  {
   "cell_type": "code",
   "execution_count": null,
   "id": "3d2dfb2e-43a3-4fe6-82c5-b4ac98c20902",
   "metadata": {},
   "outputs": [],
   "source": [
    "ser2 = pd.Series([3, 4])"
   ]
  },
  {
   "cell_type": "code",
   "execution_count": null,
   "id": "b5e56ad6-d1ef-49c0-b28d-1efddadf75f7",
   "metadata": {},
   "outputs": [],
   "source": [
    "ser3 = pd.Series([5, 6])"
   ]
  },
  {
   "cell_type": "code",
   "execution_count": null,
   "id": "dedda70c-7e9b-4845-82cb-4277e90b9b38",
   "metadata": {},
   "outputs": [],
   "source": [
    "ser4 = pd.concat([ser1, ser2, ser3], keys=['A', 'B', 'C'])\n",
    "ser4"
   ]
  },
  {
   "cell_type": "code",
   "execution_count": null,
   "id": "e2056315-1f47-4dbe-b7d4-1c8c7fd0efce",
   "metadata": {},
   "outputs": [],
   "source": [
    "ser4 = pd.concat([ser1, ser2, ser3, ser3, ser3, ser3], keys=['A', 'B', 'C','D','E','F'])\n",
    "ser4"
   ]
  },
  {
   "cell_type": "markdown",
   "id": "ce558761-aa3e-4fe1-9059-fffa6e56504d",
   "metadata": {},
   "source": [
    "**Concatenating a DataFrame**"
   ]
  },
  {
   "cell_type": "markdown",
   "id": "4530081b-4ded-4f5a-b9f1-bb3a07bd9abf",
   "metadata": {},
   "source": [
    "**Vertical Concatenation**"
   ]
  },
  {
   "cell_type": "code",
   "execution_count": null,
   "id": "5a7e837f-1c04-4771-bb44-484330d89249",
   "metadata": {},
   "outputs": [],
   "source": [
    "df1 = pd.DataFrame({'A': [1, 2], 'B': [3, 4]})\n",
    "df1"
   ]
  },
  {
   "cell_type": "code",
   "execution_count": null,
   "id": "b4a6073c-62ce-4bc1-8676-de60d89705f8",
   "metadata": {},
   "outputs": [],
   "source": [
    "df2 = pd.DataFrame({'A': [5, 6], 'B': [7, 8]})\n",
    "df2"
   ]
  },
  {
   "cell_type": "code",
   "execution_count": null,
   "id": "12c1dfba-e88f-4b44-8d1e-54a247949af3",
   "metadata": {},
   "outputs": [],
   "source": [
    "df = pd.concat([df1, df2])\n",
    "df"
   ]
  },
  {
   "cell_type": "markdown",
   "id": "a03ccb61-1b9c-433a-9ec9-5914a176cb93",
   "metadata": {},
   "source": [
    "**Horizontal Concatenation**"
   ]
  },
  {
   "cell_type": "code",
   "execution_count": null,
   "id": "eccc9b07-94f8-4783-bb73-e63841d69421",
   "metadata": {},
   "outputs": [],
   "source": [
    "df1 = pd.DataFrame({'A': [1, 2], 'B': [3, 4]})\n",
    "df1"
   ]
  },
  {
   "cell_type": "code",
   "execution_count": null,
   "id": "a4ed094a-77bc-48f5-bf95-6e6d040f02c2",
   "metadata": {},
   "outputs": [],
   "source": [
    "df2 = pd.DataFrame({'A': [5, 6], 'B': [7, 8]})\n",
    "df2"
   ]
  },
  {
   "cell_type": "code",
   "execution_count": null,
   "id": "afbe1ec0-3c45-4f0b-843c-7cf4e64b3661",
   "metadata": {},
   "outputs": [],
   "source": [
    "df = pd.concat([df1, df2], axis=1)\n",
    "df"
   ]
  },
  {
   "cell_type": "markdown",
   "id": "13097978-1aae-47d4-9349-af40efe73310",
   "metadata": {},
   "source": [
    "**Concatenate with Different Columns**"
   ]
  },
  {
   "cell_type": "code",
   "execution_count": null,
   "id": "c24df8cf-aa49-45b9-ac8a-c7891195a2d2",
   "metadata": {},
   "outputs": [],
   "source": [
    "df1 = pd.DataFrame({'A': [1, 2]})\n",
    "df1"
   ]
  },
  {
   "cell_type": "code",
   "execution_count": null,
   "id": "9d4f89e8-fb73-483b-a53c-07589f55000c",
   "metadata": {},
   "outputs": [],
   "source": [
    "df2 = pd.DataFrame({'B': [3, 4]})\n",
    "df2"
   ]
  },
  {
   "cell_type": "code",
   "execution_count": null,
   "id": "cacbf7ed-12bb-4347-bf9d-51c2effcbe3d",
   "metadata": {},
   "outputs": [],
   "source": [
    "df=pd.concat([df1, df2])\n",
    "df"
   ]
  },
  {
   "cell_type": "markdown",
   "id": "2fc69074-bf06-4aec-8ee5-528a1f773d14",
   "metadata": {},
   "source": [
    "**Concatenate with Missing Values**"
   ]
  },
  {
   "cell_type": "code",
   "execution_count": null,
   "id": "e2f3b2b2-16c8-4d7e-9987-7f7ab51e9397",
   "metadata": {},
   "outputs": [],
   "source": [
    "df1 = pd.DataFrame({'A': [1, 2], 'B': [3, 4]})\n",
    "df1"
   ]
  },
  {
   "cell_type": "code",
   "execution_count": null,
   "id": "499fc5e8-dd30-4b23-8afa-0a4524ec422d",
   "metadata": {},
   "outputs": [],
   "source": [
    "df2 = pd.DataFrame({'B': [5, 6], 'C': [7, 8]})\n",
    "df2"
   ]
  },
  {
   "cell_type": "code",
   "execution_count": null,
   "id": "fb06c92a-1827-468a-a43a-f8906af7a952",
   "metadata": {},
   "outputs": [],
   "source": [
    "df=pd.concat([df1, df2])\n",
    "df"
   ]
  },
  {
   "cell_type": "markdown",
   "id": "1868e2a0-dd13-49f7-9d2f-431b7f49e68e",
   "metadata": {},
   "source": [
    "**Concatenate and Ignore Index**"
   ]
  },
  {
   "cell_type": "code",
   "execution_count": null,
   "id": "4662160f-50ba-4fa9-8b7d-7ee5e0997d15",
   "metadata": {},
   "outputs": [],
   "source": [
    "df1 = pd.DataFrame({'A': [1, 2], 'B': [3, 4]})\n",
    "df1"
   ]
  },
  {
   "cell_type": "code",
   "execution_count": null,
   "id": "e2999dbf-854b-4d83-a9a2-8d2e85d76355",
   "metadata": {},
   "outputs": [],
   "source": [
    "df2 = pd.DataFrame({'B': [5, 6], 'C': [7, 8]})\n",
    "df2"
   ]
  },
  {
   "cell_type": "code",
   "execution_count": null,
   "id": "a365d1bf-8cca-408a-9203-abd77494d231",
   "metadata": {},
   "outputs": [],
   "source": [
    "df=pd.concat([df1, df2], ignore_index=True)\n",
    "df"
   ]
  },
  {
   "cell_type": "markdown",
   "id": "6abeac54-2e24-42b8-a908-fd8d2b992fb3",
   "metadata": {},
   "source": [
    "**Concatenate with MultiIndex**"
   ]
  },
  {
   "cell_type": "code",
   "execution_count": null,
   "id": "2fe6d602-2d0a-498d-9d5c-d747212d1256",
   "metadata": {},
   "outputs": [],
   "source": [
    "df1 = pd.DataFrame({'A': [1, 2], 'B': [3, 4]})\n",
    "df1"
   ]
  },
  {
   "cell_type": "code",
   "execution_count": null,
   "id": "cc78e916-139e-483e-b5cd-d59a4ad6299b",
   "metadata": {},
   "outputs": [],
   "source": [
    "df2 = pd.DataFrame({'A': [5, 6], 'B': [7, 8]})\n",
    "df2"
   ]
  },
  {
   "cell_type": "code",
   "execution_count": null,
   "id": "9e861abe-caf4-4d6b-ab49-bbe2847c2579",
   "metadata": {},
   "outputs": [],
   "source": [
    "df=pd.concat([df1, df2], keys=['1st', '2nd'])\n",
    "df"
   ]
  },
  {
   "cell_type": "markdown",
   "id": "2457d739-640a-4483-a540-0012b6beb461",
   "metadata": {},
   "source": [
    "**Inner Join Concatenation**"
   ]
  },
  {
   "cell_type": "code",
   "execution_count": null,
   "id": "46c74be7-08a0-4ed5-a607-d588a96c4b39",
   "metadata": {},
   "outputs": [],
   "source": [
    "df1 = pd.DataFrame({'A': [1, 2], 'B': [3, 4]})\n",
    "df1"
   ]
  },
  {
   "cell_type": "code",
   "execution_count": null,
   "id": "63c7cc82-ad42-4644-9124-e7518ca6e6ab",
   "metadata": {},
   "outputs": [],
   "source": [
    "df2 = pd.DataFrame({'B': [5, 6], 'C': [7, 8]})\n",
    "df2"
   ]
  },
  {
   "cell_type": "code",
   "execution_count": null,
   "id": "eee3563f-f895-4d88-ac3f-7019f301678f",
   "metadata": {},
   "outputs": [],
   "source": [
    "df = pd.concat([df1, df2], axis=1, join='inner')\n",
    "df"
   ]
  },
  {
   "cell_type": "markdown",
   "id": "1e24eb3e-ac47-48f1-8778-cf0f4fdc5dfd",
   "metadata": {},
   "source": [
    "**Concatenate with Index Alignment**"
   ]
  },
  {
   "cell_type": "code",
   "execution_count": null,
   "id": "e44c2aed-a6ea-4842-aa34-27ce38db9393",
   "metadata": {},
   "outputs": [],
   "source": [
    "df1 = pd.DataFrame({'A': [1, 2]}, index=['a', 'b'])\n",
    "df1"
   ]
  },
  {
   "cell_type": "code",
   "execution_count": null,
   "id": "29efc078-44d7-4308-a744-89c5fceeb43a",
   "metadata": {},
   "outputs": [],
   "source": [
    "df2 = pd.DataFrame({'B': [3, 4]}, index=['b', 'c'])\n",
    "df2"
   ]
  },
  {
   "cell_type": "code",
   "execution_count": null,
   "id": "09fd1832-5abd-47f1-aeb1-abff3a8b56ea",
   "metadata": {},
   "outputs": [],
   "source": [
    "df=pd.concat([df1, df2], axis=1)\n",
    "df"
   ]
  },
  {
   "cell_type": "markdown",
   "id": "8bf56c44-bd48-4bae-8471-477c7beb6209",
   "metadata": {},
   "source": [
    "**Concatenate with Custom Index**"
   ]
  },
  {
   "cell_type": "code",
   "execution_count": null,
   "id": "a9b3500e-8f66-4866-a15d-b6976098a464",
   "metadata": {},
   "outputs": [],
   "source": [
    "df1 = pd.DataFrame({'A': [1, 2]})\n",
    "df1"
   ]
  },
  {
   "cell_type": "code",
   "execution_count": null,
   "id": "72f779c9-f34f-4839-84ab-ec138d67b7e7",
   "metadata": {},
   "outputs": [],
   "source": [
    "df2 = pd.DataFrame({'B': [3, 4]})\n",
    "df2"
   ]
  },
  {
   "cell_type": "code",
   "execution_count": null,
   "id": "609eead8-17cd-4d5e-84f1-75cabe20f77f",
   "metadata": {},
   "outputs": [],
   "source": [
    "df=pd.concat([df1, df2], ignore_index=True)\n",
    "df"
   ]
  },
  {
   "cell_type": "code",
   "execution_count": null,
   "id": "1f051167-f303-4711-a750-b9dc5201a393",
   "metadata": {},
   "outputs": [],
   "source": [
    "df.index = ['R1', 'R2', 'R3', 'R4']\n",
    "df"
   ]
  },
  {
   "cell_type": "markdown",
   "id": "e674a0d9-e24a-4a09-b4c4-7ec42e62a0ee",
   "metadata": {},
   "source": [
    "**Concatenating using Merge**"
   ]
  },
  {
   "cell_type": "markdown",
   "id": "92302959-5318-4c83-8a6f-1bcce26f0f6e",
   "metadata": {},
   "source": [
    "**Inner Join on a Common Column**"
   ]
  },
  {
   "cell_type": "code",
   "execution_count": null,
   "id": "dfce13d9-d1fa-4f31-b2cc-b22a82df268f",
   "metadata": {},
   "outputs": [],
   "source": [
    "df1 = pd.DataFrame({'ID': [1, 2], 'Name': ['Ram', 'Laxman']})\n",
    "df1"
   ]
  },
  {
   "cell_type": "code",
   "execution_count": null,
   "id": "421739d7-bc14-4ef4-9cfa-15dcee22861a",
   "metadata": {},
   "outputs": [],
   "source": [
    "df2 = pd.DataFrame({'ID': [2, 3], 'Score': [88, 92]})\n",
    "df2"
   ]
  },
  {
   "cell_type": "code",
   "execution_count": null,
   "id": "125014ae-0cf5-4698-898d-24689b05d632",
   "metadata": {},
   "outputs": [],
   "source": [
    "df=pd.merge(df1, df2, on='ID', how='inner')\n",
    "df"
   ]
  },
  {
   "cell_type": "markdown",
   "id": "756d0e2a-ec1b-49d3-bca9-80a7933ce5ba",
   "metadata": {},
   "source": [
    "**Left Join**"
   ]
  },
  {
   "cell_type": "code",
   "execution_count": null,
   "id": "2a80b933-dd04-483e-813d-a2c0d3f8153d",
   "metadata": {},
   "outputs": [],
   "source": [
    "df1 = pd.DataFrame({'ID': [1, 2], 'Name': ['Ram', 'Laxman']})\n",
    "print(df1)\n",
    "df2 = pd.DataFrame({'ID': [2, 3], 'Score': [88, 92]})\n",
    "print(df2)"
   ]
  },
  {
   "cell_type": "code",
   "execution_count": null,
   "id": "cd83a2dd-be9e-4a70-b68c-e2e1a4126ac6",
   "metadata": {},
   "outputs": [],
   "source": [
    "df = pd.merge(df1, df2, on='ID', how='left')\n",
    "df"
   ]
  },
  {
   "cell_type": "markdown",
   "id": "a86a0c8a-73f0-471e-9173-ff4caf0a0e14",
   "metadata": {},
   "source": [
    "**Right Join**"
   ]
  },
  {
   "cell_type": "code",
   "execution_count": null,
   "id": "daf6b250-e874-4c31-b3ef-52f6204438ca",
   "metadata": {},
   "outputs": [],
   "source": [
    "df1 = pd.DataFrame({'ID': [1, 2], 'Name': ['Ram', 'Laxman']})\n",
    "print(df1)\n",
    "df2 = pd.DataFrame({'ID': [2, 3], 'Score': [88, 92]})\n",
    "print(df2)"
   ]
  },
  {
   "cell_type": "markdown",
   "id": "c7fca075-a514-436c-8d3f-4f37781ca0c2",
   "metadata": {},
   "source": [
    "df=pd.merge(df1, df2, on='ID', how='right')\n",
    "df"
   ]
  },
  {
   "cell_type": "markdown",
   "id": "a6fd01eb-7f89-4e4d-ad7a-156e28903b40",
   "metadata": {},
   "source": [
    "**Outer Join**"
   ]
  },
  {
   "cell_type": "code",
   "execution_count": null,
   "id": "f92222d3-857e-424b-bc77-01adb05d061b",
   "metadata": {},
   "outputs": [],
   "source": [
    "df=pd.merge(df1, df2, on='ID', how='outer')\n",
    "df"
   ]
  },
  {
   "cell_type": "markdown",
   "id": "4a87d4e5-d365-4d14-ae45-99eb39e07126",
   "metadata": {},
   "source": [
    "**Merge on Multiple Columns**"
   ]
  },
  {
   "cell_type": "code",
   "execution_count": null,
   "id": "81dcc601-7e9a-4ce8-9556-1b5b1dd448a0",
   "metadata": {},
   "outputs": [],
   "source": [
    "df1 = pd.DataFrame({'ID': [1, 2], 'City': ['Bangalore', 'Mysore'], 'Name': ['Rohit', 'Alex']})\n",
    "df1"
   ]
  },
  {
   "cell_type": "code",
   "execution_count": null,
   "id": "2b2ee1ad-fd7f-4101-8c05-c568196a550c",
   "metadata": {},
   "outputs": [],
   "source": [
    "df2 = pd.DataFrame({'ID': [1, 2], 'City': ['Bangalore', 'Delhi'], 'Score': [83, 94]})\n",
    "df2"
   ]
  },
  {
   "cell_type": "code",
   "execution_count": null,
   "id": "b6553ce3-5b53-4b86-ae45-3307badb9392",
   "metadata": {},
   "outputs": [],
   "source": [
    "df=pd.merge(df1, df2, on=['ID', 'City'], how='inner')\n",
    "df"
   ]
  },
  {
   "cell_type": "markdown",
   "id": "e5d6be9c-38e1-4d95-8bca-ce4730a1a707",
   "metadata": {},
   "source": [
    "**Merge with Different Column Names**\n"
   ]
  },
  {
   "cell_type": "code",
   "execution_count": null,
   "id": "5042aaee-b48f-4653-9e4e-3d18207875fa",
   "metadata": {},
   "outputs": [],
   "source": [
    "df1 = pd.DataFrame({'ind1': [1, 2], 'Name': ['Rahul', 'Robin']})\n",
    "df1"
   ]
  },
  {
   "cell_type": "code",
   "execution_count": null,
   "id": "896c5bc6-48e5-4606-8350-16b241f306f9",
   "metadata": {},
   "outputs": [],
   "source": [
    "df2 = pd.DataFrame({'ind2': [1, 3], 'Score': [72, 87]})\n",
    "df2"
   ]
  },
  {
   "cell_type": "code",
   "execution_count": null,
   "id": "c759bf28-1b13-47d2-94e2-e14e22a3bd62",
   "metadata": {},
   "outputs": [],
   "source": [
    "df = pd.merge(df1, df2, left_on='ind1', right_on='ind2', how='inner')\n",
    "df"
   ]
  },
  {
   "cell_type": "markdown",
   "id": "6bcd801a-4817-47bb-a0c9-88ae449235b5",
   "metadata": {},
   "source": [
    "**Suffixes for Overlapping Column Names**"
   ]
  },
  {
   "cell_type": "code",
   "execution_count": null,
   "id": "6df1534a-66c5-4335-bce9-ece529eb9c21",
   "metadata": {},
   "outputs": [],
   "source": [
    "df1 = pd.DataFrame({'key': [1, 2], 'Name': ['Robert', 'Kris'], 'Value': [150, 240]})\n",
    "df1"
   ]
  },
  {
   "cell_type": "code",
   "execution_count": null,
   "id": "17dc0800-0da9-4511-a4f1-0a04f99505d7",
   "metadata": {},
   "outputs": [],
   "source": [
    "df2 = pd.DataFrame({'key': [2, 3], 'Name': ['Anil', 'Karthik'], 'Value': [320, 440]})\n",
    "df2"
   ]
  },
  {
   "cell_type": "markdown",
   "id": "1d31ef05-ea72-4f3f-b217-685ff75c52c4",
   "metadata": {},
   "source": [
    "**without suffix**\n",
    "\n",
    "system generated suffix"
   ]
  },
  {
   "cell_type": "code",
   "execution_count": null,
   "id": "465663fc-ec06-4765-81e0-60b284ef2b15",
   "metadata": {},
   "outputs": [],
   "source": [
    "df=pd.merge(df1, df2, on='key', how='outer')\n",
    "df"
   ]
  },
  {
   "cell_type": "markdown",
   "id": "07fa9f16-31fa-4d7c-b661-13133ac20ffc",
   "metadata": {},
   "source": [
    "**with suffix**\n",
    "\n",
    "user defined suffix"
   ]
  },
  {
   "cell_type": "code",
   "execution_count": null,
   "id": "91f74ed1-b587-45bd-830b-a8ddcb7f82b2",
   "metadata": {},
   "outputs": [],
   "source": [
    "df=pd.merge(df1, df2, on='key', how='outer', suffixes=('_df1', '_df2'))\n",
    "df"
   ]
  },
  {
   "cell_type": "markdown",
   "id": "33c585a8-98fe-48e4-9422-e0c289206159",
   "metadata": {},
   "source": [
    "**Cross Join**"
   ]
  },
  {
   "cell_type": "code",
   "execution_count": null,
   "id": "502b70c2-296a-4e01-a43a-6ba6f680f5f0",
   "metadata": {},
   "outputs": [],
   "source": [
    "df1 = pd.DataFrame({'A': [1, 2, 3, 4]})\n",
    "df1"
   ]
  },
  {
   "cell_type": "code",
   "execution_count": null,
   "id": "18f10fbf-6028-4bb2-84bb-8af21aa79317",
   "metadata": {},
   "outputs": [],
   "source": [
    "df2 = pd.DataFrame({'B': ['X', 'Y']})\n",
    "df2"
   ]
  },
  {
   "cell_type": "code",
   "execution_count": null,
   "id": "da90dd76-9f7d-4958-a99e-891f0aa04717",
   "metadata": {},
   "outputs": [],
   "source": [
    " df3=pd.merge(df1, df2, how='cross')\n",
    "df3"
   ]
  },
  {
   "cell_type": "markdown",
   "id": "87622b8d-52ed-4602-aff6-5ec4239abdc8",
   "metadata": {},
   "source": [
    "**Indicator Column**"
   ]
  },
  {
   "cell_type": "code",
   "execution_count": null,
   "id": "51f0ee95-d376-4a33-bc75-c42acb2e03ab",
   "metadata": {},
   "outputs": [],
   "source": [
    "df1 = pd.DataFrame({'ID': [1, 2], 'Name': ['Anil', 'Ram']})\n",
    "df1"
   ]
  },
  {
   "cell_type": "code",
   "execution_count": null,
   "id": "ebd9319c-f205-4df9-ba40-a261bee765c0",
   "metadata": {},
   "outputs": [],
   "source": [
    "df2 = pd.DataFrame({'ID': [2, 3], 'Marks': [77, 86]})\n",
    "df2"
   ]
  },
  {
   "cell_type": "code",
   "execution_count": null,
   "id": "b9264ba2-74ab-45d7-8d96-c723935d12d7",
   "metadata": {},
   "outputs": [],
   "source": [
    "df=pd.merge(df1, df2, on='ID', how='outer', indicator=True)\n",
    "df"
   ]
  },
  {
   "cell_type": "markdown",
   "id": "81e68ec5-aceb-4c1b-9053-d4c421a2e236",
   "metadata": {},
   "source": [
    "**Merge with Filtering Condition**\n"
   ]
  },
  {
   "cell_type": "code",
   "execution_count": null,
   "id": "08498558-4381-466c-9ccf-fb76fc984a96",
   "metadata": {},
   "outputs": [],
   "source": [
    "df1 = pd.DataFrame({'ID': [1, 2], 'Name': ['Anil', 'Ram']})\n",
    "df1"
   ]
  },
  {
   "cell_type": "code",
   "execution_count": null,
   "id": "96edcf05-dbb8-4cca-8de3-912e8cd8ab31",
   "metadata": {},
   "outputs": [],
   "source": [
    "df2 = pd.DataFrame({'ID': [2, 3], 'Marks': [77, 86]})\n",
    "df2"
   ]
  },
  {
   "cell_type": "code",
   "execution_count": null,
   "id": "85906e4d-a22d-4a5f-a9b9-06a4af93905f",
   "metadata": {},
   "outputs": [],
   "source": [
    "df3 = pd.merge(df1, df2, on='ID', how='inner')\n",
    "df3"
   ]
  },
  {
   "cell_type": "code",
   "execution_count": null,
   "id": "bbe6f97b-5b72-48ce-a121-e0cebf718325",
   "metadata": {},
   "outputs": [],
   "source": [
    "df4= df3[df3['Marks'] > 70]\n",
    "df4"
   ]
  },
  {
   "cell_type": "markdown",
   "id": "48d61e1c-f0e4-4cc9-ba70-7ee49efd1a16",
   "metadata": {},
   "source": [
    "**Inner Join on Index**"
   ]
  },
  {
   "cell_type": "code",
   "execution_count": null,
   "id": "fcfa897a-bdc4-4cbf-89cc-79eab0b64488",
   "metadata": {},
   "outputs": [],
   "source": [
    "df1 = pd.DataFrame({'Name': ['Akash', 'Roy']}, index=[1, 2])\n",
    "df1\n"
   ]
  },
  {
   "cell_type": "code",
   "execution_count": null,
   "id": "9430b166-fa54-4401-88b6-efaa80dc3f02",
   "metadata": {},
   "outputs": [],
   "source": [
    "df2 = pd.DataFrame({'Score': [44, 55]}, index=[2, 3])\n",
    "df2"
   ]
  },
  {
   "cell_type": "code",
   "execution_count": null,
   "id": "4361f447-81f1-4e7e-adb6-e7ee361157ec",
   "metadata": {},
   "outputs": [],
   "source": [
    "df=pd.merge(df1, df2, left_index=True, right_index=True, how='inner')\n",
    "df"
   ]
  },
  {
   "cell_type": "markdown",
   "id": "9399e24e-7330-4e9d-a44f-3d573a4ae34c",
   "metadata": {},
   "source": [
    "**Left Join on Index**\n"
   ]
  },
  {
   "cell_type": "code",
   "execution_count": null,
   "id": "faa7b44f-3e87-419e-8874-a6f3f1093799",
   "metadata": {
    "scrolled": true
   },
   "outputs": [],
   "source": [
    "df1 = pd.DataFrame({'Name': ['Akash', 'Roy']}, index=[1, 2])\n",
    "df1\n"
   ]
  },
  {
   "cell_type": "code",
   "execution_count": null,
   "id": "7ecefae3-76c7-4999-bc95-0ec0db24bfaf",
   "metadata": {},
   "outputs": [],
   "source": [
    "df2 = pd.DataFrame({'Score': [44, 55]}, index=[2, 3])\n",
    "df2"
   ]
  },
  {
   "cell_type": "code",
   "execution_count": null,
   "id": "55e1b3d8-4b68-4912-8107-fea903f448d0",
   "metadata": {},
   "outputs": [],
   "source": [
    "df=pd.merge(df1, df2, left_index=True, right_index=True, how='left')\n",
    "df"
   ]
  },
  {
   "cell_type": "markdown",
   "id": "bd35da7c-3016-4628-b389-2a1c96204168",
   "metadata": {},
   "source": [
    "**Outer Join on Index with Indicator**\n"
   ]
  },
  {
   "cell_type": "code",
   "execution_count": null,
   "id": "d3524766-85da-477e-b376-736bf4bf86e0",
   "metadata": {},
   "outputs": [],
   "source": [
    "df1 = pd.DataFrame({'Name': ['Akash', 'Roy']}, index=[1, 2])\n",
    "df1\n"
   ]
  },
  {
   "cell_type": "code",
   "execution_count": null,
   "id": "923cd5e6-3f55-48cd-aec2-566d371bcd96",
   "metadata": {},
   "outputs": [],
   "source": [
    "df2 = pd.DataFrame({'Score': [44, 55]}, index=[2, 3])\n",
    "df2"
   ]
  },
  {
   "cell_type": "code",
   "execution_count": null,
   "id": "4473e27c-e20e-40e2-a37b-fcb52da83ae4",
   "metadata": {},
   "outputs": [],
   "source": [
    "df=pd.merge(df1, df2, left_index=True, right_index=True, how='outer')\n",
    "df"
   ]
  },
  {
   "cell_type": "code",
   "execution_count": null,
   "id": "96523f55-7c35-40c5-9a5c-01d4a02bd6ee",
   "metadata": {},
   "outputs": [],
   "source": [
    "df=pd.merge(df1, df2, left_index=True, right_index=True, how='outer',indicator=True)\n",
    "df"
   ]
  },
  {
   "cell_type": "markdown",
   "id": "bcce11c4-b101-4a20-9868-ef0b0268fad3",
   "metadata": {},
   "source": [
    "**Convert a Wide DataFrame to a MultiIndex Series**"
   ]
  },
  {
   "cell_type": "code",
   "execution_count": null,
   "id": "1417e09b-8092-4988-a179-8bea06c8443c",
   "metadata": {},
   "outputs": [],
   "source": [
    "df = pd.DataFrame({\n",
    "    'City': ['Bangalore', 'Mysore', 'Chennai'],\n",
    "    '2023': [110, 220, 330],\n",
    "    '2024': [120, 230, 360]\n",
    "})"
   ]
  },
  {
   "cell_type": "code",
   "execution_count": null,
   "id": "48e0dd40-9577-4a8c-8f51-1f72876bfa42",
   "metadata": {},
   "outputs": [],
   "source": [
    "df1=df.set_index('City').stack()\n",
    "df1"
   ]
  },
  {
   "cell_type": "markdown",
   "id": "40f20f77-0f3f-470a-beb9-2717301378ea",
   "metadata": {},
   "source": [
    "**Reshape a MultiIndex Series to a DataFrame**"
   ]
  },
  {
   "cell_type": "code",
   "execution_count": null,
   "id": "77b8d963-0701-4235-adfc-dc78994abfef",
   "metadata": {},
   "outputs": [],
   "source": [
    "df = pd.DataFrame({\n",
    "    'City': ['Bangalore', 'Mysore', 'Chennai'],\n",
    "    '2023': [110, 220, 330],\n",
    "    '2024': [120, 230, 360]\n",
    "})"
   ]
  },
  {
   "cell_type": "code",
   "execution_count": null,
   "id": "cd44f105-7fd9-4d43-88d3-c2c09707e8b8",
   "metadata": {},
   "outputs": [],
   "source": [
    "df1=df.set_index('City').stack()\n",
    "df1"
   ]
  },
  {
   "cell_type": "code",
   "execution_count": null,
   "id": "d9cb0f43-f249-4697-9837-5626074d5cc9",
   "metadata": {},
   "outputs": [],
   "source": [
    "df1.unstack()"
   ]
  },
  {
   "cell_type": "markdown",
   "id": "df60bbbe-1208-4864-857a-1623ffce666c",
   "metadata": {},
   "source": [
    "**Swap Row and Column Levels in a MultiIndex DataFrame**"
   ]
  },
  {
   "cell_type": "code",
   "execution_count": null,
   "id": "b401cb12-d98b-4b96-8570-b4fed180d3c4",
   "metadata": {},
   "outputs": [],
   "source": [
    "df = pd.DataFrame({\n",
    "    'Prod': ['prod1', 'prod1', 'prod2', 'prod2'],\n",
    "    'Period': [2023, 2024, 2023, 2024],\n",
    "    'Sales': [550, 660, 770, 880]\n",
    "}).set_index(['Prod', 'Period'])"
   ]
  },
  {
   "cell_type": "code",
   "execution_count": null,
   "id": "0c3d4359-743c-4ffd-8b38-e0d14536f6eb",
   "metadata": {},
   "outputs": [],
   "source": [
    "df"
   ]
  },
  {
   "cell_type": "code",
   "execution_count": null,
   "id": "65adc1c3-2f57-4229-accf-1f6878339f8d",
   "metadata": {},
   "outputs": [],
   "source": [
    "df1 = df.unstack(level=0)\n",
    "df1"
   ]
  },
  {
   "cell_type": "code",
   "execution_count": null,
   "id": "f999ca2c-cd56-4b99-b9cf-b74c32011251",
   "metadata": {},
   "outputs": [],
   "source": [
    "df1 = df.unstack(level=1)\n",
    "df1"
   ]
  },
  {
   "cell_type": "markdown",
   "id": "050e70ec-31d7-4554-a318-2da377ec9fcc",
   "metadata": {},
   "source": [
    "**Reshape and Aggregate Multiple Features**"
   ]
  },
  {
   "cell_type": "code",
   "execution_count": null,
   "id": "04954d1e-5d13-4743-b9e8-8b7e54378ca1",
   "metadata": {},
   "outputs": [],
   "source": [
    "df = pd.DataFrame({\n",
    "    'City': ['Bangalore', 'Bangalore', 'Mysore', 'Mysore', 'Hassan', 'Hassan'],\n",
    "    'Year': [2023, 2024, 2023, 2024, 2023, 2024],\n",
    "    'Population': [700, 800, 300, 320, 150, 170],\n",
    "    'Revenue': [1300, 1320, 600, 610, 400, 420]\n",
    "})"
   ]
  },
  {
   "cell_type": "code",
   "execution_count": null,
   "id": "04467f59-c87c-4e8c-b54c-b2edc868a918",
   "metadata": {},
   "outputs": [],
   "source": [
    "df"
   ]
  },
  {
   "cell_type": "code",
   "execution_count": null,
   "id": "0b3b648e-b36d-476f-a615-ada1983c2683",
   "metadata": {},
   "outputs": [],
   "source": [
    "df1 = df.set_index(['City', 'Year']).unstack(level=1)\n",
    "df1"
   ]
  },
  {
   "cell_type": "markdown",
   "id": "18cdbba2-d2b2-4e53-a5a4-d82df0c1e0fa",
   "metadata": {},
   "source": [
    "**Stack and Fill Missing Values**"
   ]
  },
  {
   "cell_type": "code",
   "execution_count": null,
   "id": "6cfa0e33-476a-4504-b898-1fb938f3f43d",
   "metadata": {},
   "outputs": [],
   "source": [
    "df = pd.DataFrame({\n",
    "    'City': ['Bangalore', 'Bangalore', 'Mysore', 'Mysore', 'Hassan', 'Hassan'],\n",
    "    'Year': [2023, 2024, 2023, 2024, 2023, 2024],\n",
    "    'Population': [700, 800, 300, None, 150, 170],\n",
    "    'Revenue': [1300, None, 600, 610, 400, 420]\n",
    "})"
   ]
  },
  {
   "cell_type": "code",
   "execution_count": null,
   "id": "3bb09848-d50e-4e07-b0a6-1eeb25b2b090",
   "metadata": {},
   "outputs": [],
   "source": [
    "df1=df.stack(dropna=False)\n",
    "df1"
   ]
  },
  {
   "cell_type": "code",
   "execution_count": null,
   "id": "7e1efd05-7d37-4a62-bdcc-f476705fc71f",
   "metadata": {},
   "outputs": [],
   "source": [
    "df1.fillna(999)\n"
   ]
  },
  {
   "cell_type": "markdown",
   "id": "8b50ae5f-f81b-4b51-a425-0235b70e8bd6",
   "metadata": {},
   "source": [
    "**Advanced Pivot and Reshape**"
   ]
  },
  {
   "cell_type": "code",
   "execution_count": null,
   "id": "29983935-b714-43ea-9989-2e09dfe52c34",
   "metadata": {},
   "outputs": [],
   "source": [
    "df = pd.DataFrame({\n",
    "    'City': ['Bangalore', 'Bangalore', 'Mysore', 'Mysore', 'Hassan', 'Hassan'],\n",
    "    'Category': ['A', 'B','A', 'B','A', 'B'],\n",
    "    'Year': [2023, 2024, 2023, 2024, 2023, 2024],\n",
    "    'Revenue': [1300, None, 600, 610, 400, 420]\n",
    "})"
   ]
  },
  {
   "cell_type": "code",
   "execution_count": null,
   "id": "70851957-7d49-46ec-a920-0dceb7298069",
   "metadata": {},
   "outputs": [],
   "source": [
    "\n",
    "df"
   ]
  },
  {
   "cell_type": "code",
   "execution_count": null,
   "id": "b84e3617-364e-455c-b89f-e868452f0d5c",
   "metadata": {},
   "outputs": [],
   "source": [
    "df.pivot_table(\n",
    "    index=['City', 'Category'], \n",
    "    columns='Year', \n",
    "    values='Revenue'\n",
    ")"
   ]
  },
  {
   "cell_type": "code",
   "execution_count": null,
   "id": "28ec78bc-5331-4f20-a9a4-df77333dc6fd",
   "metadata": {},
   "outputs": [],
   "source": []
  },
  {
   "cell_type": "code",
   "execution_count": null,
   "id": "46674684-033b-4619-a7be-4f0d7846e750",
   "metadata": {},
   "outputs": [],
   "source": [
    "df = pd.DataFrame({\n",
    "    'City': ['Bangalore',  'Mysore', 'Hassan'],\n",
    "    '2023_Population': [700, 300, 150],\n",
    "    '2024_Population': [ 800, None, 170],\n",
    "    '2023_Revenue': [1300, 600,  400],\n",
    "    '2024_Revenue': [None, 610, 420]\n",
    "})"
   ]
  },
  {
   "cell_type": "code",
   "execution_count": null,
   "id": "5df766b0-adfe-46e6-99d5-44dbb715564b",
   "metadata": {},
   "outputs": [],
   "source": [
    "df1 = pd.melt(df, id_vars=['City'], var_name='Metric', value_name='Value')\n",
    "df1"
   ]
  },
  {
   "cell_type": "code",
   "execution_count": null,
   "id": "5a22a145-3afd-49c0-a78f-683ddff1e90e",
   "metadata": {},
   "outputs": [],
   "source": [
    "df1[['Year', 'Category']] = df1['Metric'].str.split('_', expand=True)\n",
    "df1"
   ]
  },
  {
   "cell_type": "markdown",
   "id": "17a0a7bb-517a-40c0-b443-90d4bca88273",
   "metadata": {},
   "source": [
    "**Reshape Data for Time-Series Analysis**\n"
   ]
  },
  {
   "cell_type": "code",
   "execution_count": null,
   "id": "d5f8f09d-4265-4284-b53f-e471d688cdbb",
   "metadata": {},
   "outputs": [],
   "source": [
    "df = pd.DataFrame({\n",
    "    'Prods': ['Prod1', 'Prod2', 'Prod3'],\n",
    "    'Jan_2024': [120, 220, 320],\n",
    "    'Feb_2024': [140, 240, 340],\n",
    "    'Mar_2025': [170, 270, 380]\n",
    "})"
   ]
  },
  {
   "cell_type": "code",
   "execution_count": null,
   "id": "c066d225-71b1-450a-b632-1ad62329631e",
   "metadata": {},
   "outputs": [],
   "source": [
    "df"
   ]
  },
  {
   "cell_type": "code",
   "execution_count": null,
   "id": "c896c9ea-e47b-48f0-975c-8429eabca2d4",
   "metadata": {},
   "outputs": [],
   "source": [
    "df=pd.melt(df, id_vars=['Prods'], var_name='Month', value_name='Sales')\n",
    "df"
   ]
  },
  {
   "cell_type": "markdown",
   "id": "58cffd08-5a7e-48f6-a4b9-e3dbb8120356",
   "metadata": {},
   "source": [
    "**Handling Multi-Level Columns**"
   ]
  },
  {
   "cell_type": "code",
   "execution_count": null,
   "id": "f08e094d-f83b-4999-b8f1-dab101956d3e",
   "metadata": {},
   "outputs": [],
   "source": [
    "df = pd.DataFrame({\n",
    "    ('Sales', '2023'): [550, 660],\n",
    "    ('Sales', '2024'): [650, 750],\n",
    "    ('Profit', '2023'): [200, 250],\n",
    "    ('Profit', '2024'): [220, 280]\n",
    "}, index=['StA', 'StB'])"
   ]
  },
  {
   "cell_type": "code",
   "execution_count": null,
   "id": "c4c261f8-278b-49df-b4d4-847fec9d0f94",
   "metadata": {},
   "outputs": [],
   "source": [
    "df"
   ]
  },
  {
   "cell_type": "code",
   "execution_count": null,
   "id": "24887ba5-c669-4e0a-be7a-8212ec8d0705",
   "metadata": {},
   "outputs": [],
   "source": [
    "df.columns = ['_'.join(col) for col in df.columns]\n",
    "df"
   ]
  },
  {
   "cell_type": "code",
   "execution_count": null,
   "id": "08df7870-7eaf-4878-90e4-adaeadfdc67d",
   "metadata": {},
   "outputs": [],
   "source": [
    "df = df.reset_index()\n",
    "df"
   ]
  },
  {
   "cell_type": "code",
   "execution_count": null,
   "id": "4a9c67af-8bdb-4b51-b437-01da15fe2014",
   "metadata": {},
   "outputs": [],
   "source": []
  },
  {
   "cell_type": "code",
   "execution_count": null,
   "id": "9cfdca28-7e7e-4934-99f8-898a82286bfe",
   "metadata": {},
   "outputs": [],
   "source": []
  },
  {
   "cell_type": "code",
   "execution_count": null,
   "id": "e6e2cecd-be45-4de3-9f73-04b23b2694a7",
   "metadata": {},
   "outputs": [],
   "source": [
    "df = {\n",
    "    'City': ['Bangalore', 'Bangalore', 'Mysore', 'Mysore', 'Hassan', 'Hassan'],\n",
    "    'Prods': ['Prod1', 'Prod2', 'Prod1', 'Prod2', 'Prod2', 'Prod1'],\n",
    "    'Year': [2023, 2023, 2023, 2024, 2024, 2024],\n",
    "    'Sales': [230, 330, 430, 530, 260, 490],\n",
    "    'Prof': [80, 90, 100, 110, 70, 85]\n",
    "}"
   ]
  },
  {
   "cell_type": "code",
   "execution_count": null,
   "id": "bef9dd3e-9cb6-4aa3-a79d-d6a94e310b09",
   "metadata": {},
   "outputs": [],
   "source": []
  },
  {
   "cell_type": "code",
   "execution_count": null,
   "id": "2f80aff3-c39f-44ca-9374-f154d649d94c",
   "metadata": {},
   "outputs": [],
   "source": []
  },
  {
   "cell_type": "code",
   "execution_count": null,
   "id": "8181df21-bbb0-4358-988d-50ea998d70ce",
   "metadata": {},
   "outputs": [],
   "source": []
  },
  {
   "cell_type": "code",
   "execution_count": null,
   "id": "bd827f88-fb9d-4a63-80bd-0b45581f7de9",
   "metadata": {},
   "outputs": [],
   "source": []
  },
  {
   "cell_type": "code",
   "execution_count": null,
   "id": "ea4cb6ac-0f4a-4cfb-b039-0eb71b273bc0",
   "metadata": {},
   "outputs": [],
   "source": []
  },
  {
   "cell_type": "code",
   "execution_count": null,
   "id": "a9b71d13-a18b-44bc-8087-dc77ed9e2ac3",
   "metadata": {},
   "outputs": [],
   "source": []
  },
  {
   "cell_type": "code",
   "execution_count": null,
   "id": "fb4a3735-55d3-498f-b5a4-86cf00178374",
   "metadata": {},
   "outputs": [],
   "source": []
  }
 ],
 "metadata": {
  "kernelspec": {
   "display_name": "Python 3 (ipykernel)",
   "language": "python",
   "name": "python3"
  },
  "language_info": {
   "codemirror_mode": {
    "name": "ipython",
    "version": 3
   },
   "file_extension": ".py",
   "mimetype": "text/x-python",
   "name": "python",
   "nbconvert_exporter": "python",
   "pygments_lexer": "ipython3",
   "version": "3.12.4"
  }
 },
 "nbformat": 4,
 "nbformat_minor": 5
}
