{
 "cells": [
  {
   "cell_type": "code",
   "execution_count": null,
   "id": "e08cc327-a3a9-48dd-86c6-937cb33b320d",
   "metadata": {},
   "outputs": [],
   "source": [
    "from matplotlib import pyplot as plt\n",
    "import numpy as np"
   ]
  },
  {
   "cell_type": "code",
   "execution_count": null,
   "id": "e5085b1d-afe9-4678-be88-45f0a4ff5f7e",
   "metadata": {},
   "outputs": [],
   "source": []
  },
  {
   "cell_type": "markdown",
   "id": "ace8ba29-2b8a-4357-b0c6-990f88d44c3f",
   "metadata": {},
   "source": [
    "**Line Plot**"
   ]
  },
  {
   "cell_type": "code",
   "execution_count": null,
   "id": "8727f1a7-4f88-45d5-a8b4-c7c556256f1f",
   "metadata": {},
   "outputs": [],
   "source": [
    "x=np.arange(1,15,0.1)\n",
    "y= 3*x +7"
   ]
  },
  {
   "cell_type": "code",
   "execution_count": null,
   "id": "36683182-b6e5-4e7b-b434-d1d039382f28",
   "metadata": {},
   "outputs": [],
   "source": [
    "plt.plot(x,y)"
   ]
  },
  {
   "cell_type": "code",
   "execution_count": null,
   "id": "e1d71f77-cfea-43e7-8aea-df7f90a5b978",
   "metadata": {},
   "outputs": [],
   "source": [
    "plt.plot(x,y)\n",
    "plt.show()"
   ]
  },
  {
   "cell_type": "code",
   "execution_count": null,
   "id": "6b35c7f6-3f04-4b30-b5a7-d32aee4c865b",
   "metadata": {},
   "outputs": [],
   "source": [
    "#to show the line in other format\n",
    "\n",
    "plt.plot(x,y,'g*')\n",
    "plt.show()"
   ]
  },
  {
   "cell_type": "code",
   "execution_count": null,
   "id": "894ee9df-9684-4ff5-b9f3-407d932c7ebd",
   "metadata": {},
   "outputs": [],
   "source": [
    "#to show the line in other format\n",
    "x=np.arange(1,150,5)\n",
    "y= 3*x\n",
    "plt.plot(x,y,'g*')\n",
    "plt.show()"
   ]
  },
  {
   "cell_type": "code",
   "execution_count": null,
   "id": "312dc8e6-0c7a-4352-8513-a4b20bc0ee5a",
   "metadata": {},
   "outputs": [],
   "source": [
    "#to show the line in other format\n",
    "x=np.arange(1,150,5)\n",
    "y= np.log(x)\n",
    "plt.plot(x,y,'g*')\n",
    "plt.show()"
   ]
  },
  {
   "cell_type": "code",
   "execution_count": null,
   "id": "79b2665e-e223-4d36-ab8d-c89f5ab95c48",
   "metadata": {},
   "outputs": [],
   "source": [
    "#customize the line plot"
   ]
  },
  {
   "cell_type": "code",
   "execution_count": null,
   "id": "0f7a4bc9-29b4-42d7-b971-bc07a64702f6",
   "metadata": {},
   "outputs": [],
   "source": [
    "x=np.arange(1,15,0.1)\n",
    "y= 3*x +7\n",
    "plt.plot(x,y,color='r')#giving color to the line\n",
    "plt.title('Line Plot') # giving title to the plot\n",
    "plt.show()"
   ]
  },
  {
   "cell_type": "code",
   "execution_count": null,
   "id": "426a41d4-bbe5-414f-bfff-dcba332c2f90",
   "metadata": {},
   "outputs": [],
   "source": [
    "x=np.arange(1,15,0.1)\n",
    "y= 3*x +7\n",
    "plt.plot(x,y,color='r')#giving color to the line\n",
    "plt.title('Line Plot') # giving title to the plot\n",
    "plt.xlabel('x-axis')\n",
    "plt.ylabel('y-axis')\n",
    "plt.show()"
   ]
  },
  {
   "cell_type": "code",
   "execution_count": null,
   "id": "4779d7ac-a475-44f2-8c91-299d22ac3b97",
   "metadata": {},
   "outputs": [],
   "source": [
    "#to draw grid lines\n",
    "x=np.arange(1,15,0.1)\n",
    "y= 3*x +7\n",
    "plt.plot(x,y,color='r')#giving color to the line\n",
    "plt.title('Line Plot') # giving title to the plot\n",
    "plt.xlabel('x-axis')\n",
    "plt.ylabel('y-axis')\n",
    "plt.grid()\n",
    "plt.show()"
   ]
  },
  {
   "cell_type": "code",
   "execution_count": null,
   "id": "df963fa1-396c-46a3-8dc6-bbf957bea8bc",
   "metadata": {},
   "outputs": [],
   "source": [
    "#to change grid style and color\n",
    "x=np.arange(1,15,0.1)\n",
    "y= 3*x +7\n",
    "plt.plot(x,y,color='r')#giving color to the line\n",
    "plt.title('Line Plot') # giving title to the plot\n",
    "plt.xlabel('x-axis')\n",
    "plt.ylabel('y-axis')\n",
    "plt.grid(linestyle='--', linewidth='0.8', color='green')\n",
    "\n",
    "plt.show()"
   ]
  },
  {
   "cell_type": "code",
   "execution_count": null,
   "id": "b0e20822-7a8e-4905-b9de-2df0bee4a33f",
   "metadata": {},
   "outputs": [],
   "source": [
    "#Drawing mutiple line plots"
   ]
  },
  {
   "cell_type": "code",
   "execution_count": null,
   "id": "cc0a9786-c280-4faa-8674-c2d54c338cef",
   "metadata": {},
   "outputs": [],
   "source": [
    "x=[1,2,3,4]\n",
    "y1=[500,700,600,800]\n",
    "y2=[550,650,750,350]\n",
    "y3=[200,700,800,400]\n",
    "y4=[400,600,450,650]\n",
    "plt.plot(x,y1)\n",
    "plt.show()"
   ]
  },
  {
   "cell_type": "code",
   "execution_count": null,
   "id": "a2e33484-c981-4cc9-bdfb-4eeb09dea709",
   "metadata": {},
   "outputs": [],
   "source": [
    "x=[1,2,3,4]\n",
    "y1=[500,700,600,800]\n",
    "y2=[550,650,750,350]\n",
    "y3=[200,700,800,400]\n",
    "y4=[400,600,450,650]\n",
    "plt.plot(x,y1,color='r')\n",
    "plt.show()"
   ]
  },
  {
   "cell_type": "code",
   "execution_count": null,
   "id": "ef597b20-2325-4f34-9685-a51414adb40d",
   "metadata": {},
   "outputs": [],
   "source": [
    "x=[1,2,3,4]\n",
    "y1=[500,700,600,800]\n",
    "y2=[550,650,750,350]\n",
    "y3=[200,700,800,400]\n",
    "y4=[400,600,450,650]\n",
    "plt.plot(x,y1,color='r',label='first')\n",
    "plt.plot(x,y2,color='b',label='second')\n",
    "plt.plot(x,y3,color='g',label='third')\n",
    "plt.plot(x,y4,color='y',label='fourth')\n",
    "plt.show()"
   ]
  },
  {
   "cell_type": "code",
   "execution_count": null,
   "id": "1bfe9a3a-a309-4134-bc1a-6c6a51dbdbaf",
   "metadata": {},
   "outputs": [],
   "source": []
  },
  {
   "cell_type": "code",
   "execution_count": null,
   "id": "f3bb2ab4-c20a-4469-b6de-6352e8f19fc7",
   "metadata": {},
   "outputs": [],
   "source": [
    "x=[1,2,3,4]\n",
    "y1=[500,700,600,800]\n",
    "y2=[550,650,750,350]\n",
    "y3=[200,700,800,400]\n",
    "y4=[400,600,450,650]\n",
    "plt.plot(x,y1,color='r',label='first')\n",
    "plt.plot(x,y2,color='b',label='second')\n",
    "plt.plot(x,y3,color='g',label='third')\n",
    "plt.plot(x,y4,color='y',label='fourth')\n",
    "plt.title(\"Multiple lines\")\n",
    "plt.xlabel(\"x-axis\")\n",
    "plt.ylabel(\"values\")\n",
    "plt.legend()#to show the legends\n",
    "plt.show()"
   ]
  },
  {
   "cell_type": "code",
   "execution_count": null,
   "id": "6303e2fc-0c18-41e4-aaab-32caba7a57f8",
   "metadata": {},
   "outputs": [],
   "source": []
  },
  {
   "cell_type": "markdown",
   "id": "2664bc29-f598-46b3-9539-bf8dc71f7066",
   "metadata": {},
   "source": [
    "**Adding two plots in the same figure**"
   ]
  },
  {
   "cell_type": "code",
   "execution_count": null,
   "id": "d374357c-c295-4a6b-9f30-fd67e44d5a46",
   "metadata": {},
   "outputs": [],
   "source": [
    "x=np.arange(1,15,0.1)\n",
    "y1= 3*x +7\n",
    "y2= 5*x +11\n",
    "\n",
    "plt.subplot(1,2,1) #to have multiple subplots in same figure, we need to use subplot(); # of rows, # of columns; 1 at end means activating first subplot\n",
    "plt.plot(x,y1)\n",
    "plt.show()"
   ]
  },
  {
   "cell_type": "code",
   "execution_count": null,
   "id": "5a20a29f-4be5-41d2-8546-dd3ad951ff60",
   "metadata": {},
   "outputs": [],
   "source": [
    "x=np.arange(1,15,0.1)\n",
    "y1= 3*x +7\n",
    "y2= 5*x +11\n",
    "\n",
    "plt.subplot(1,2,1) #to have multiple subplots in same figure, we need to use subplot(); # of rows, # of columns; 1 at end means activating first subplot\n",
    "plt.plot(x,y1)\n",
    "\n",
    "plt.subplot(1,2,2)\n",
    "plt.plot(x,y2)\n",
    "\n",
    "plt.show()\n",
    "\n",
    "#y1 and y2 ranges are different"
   ]
  },
  {
   "cell_type": "markdown",
   "id": "8447ff8f-6a99-4508-8887-5647f591b00f",
   "metadata": {},
   "source": [
    "**bar plot**"
   ]
  },
  {
   "cell_type": "code",
   "execution_count": null,
   "id": "03b38eda-3e61-4213-b7f4-2d9677057ef6",
   "metadata": {},
   "outputs": [],
   "source": [
    "#create a dictionary\n",
    "fruit = {'orange':45, 'pineapple':55, 'kiwi': 20} \n",
    "\n",
    "names = list(fruit.keys())\n",
    "count=list(fruit.values())"
   ]
  },
  {
   "cell_type": "code",
   "execution_count": null,
   "id": "9d88bf6f-f2a7-40a7-8734-18f23aa35f01",
   "metadata": {},
   "outputs": [],
   "source": [
    "names,count"
   ]
  },
  {
   "cell_type": "code",
   "execution_count": null,
   "id": "895e57f2-3131-44c5-acc5-455a5ced80a0",
   "metadata": {},
   "outputs": [],
   "source": [
    "plt.bar(names,count) #names - categorical variable; count - values\n",
    "plt.show()"
   ]
  },
  {
   "cell_type": "code",
   "execution_count": null,
   "id": "4947066e-158c-4336-94aa-16ecc05664a6",
   "metadata": {},
   "outputs": [],
   "source": [
    "#customize the bar plot"
   ]
  },
  {
   "cell_type": "code",
   "execution_count": null,
   "id": "d8a4a51b-ce83-45e1-9011-36ddbe51923b",
   "metadata": {},
   "outputs": [],
   "source": [
    "plt.bar(names,count)\n",
    "plt.title(\"Fruits Distribution\")\n",
    "plt.xlabel(\"Fruits\")\n",
    "plt.ylabel(\"Quantity\")\n",
    "plt.show()"
   ]
  },
  {
   "cell_type": "code",
   "execution_count": null,
   "id": "1548b948-86db-4522-9813-7ece84f5b04e",
   "metadata": {},
   "outputs": [],
   "source": [
    "#changing the color\n",
    "plt.bar(names,count, color = 'green') ,#changing color for graph\n",
    "plt.title(\"Fruits Distribution\")\n",
    "plt.xlabel(\"Fruits\")\n",
    "plt.ylabel(\"Quantity\")\n",
    "plt.show()"
   ]
  },
  {
   "cell_type": "markdown",
   "id": "b032fed0-3a61-4b5f-aec2-d4941cedf9fe",
   "metadata": {},
   "source": [
    "**Horizontal bar plot**"
   ]
  },
  {
   "cell_type": "code",
   "execution_count": null,
   "id": "a1388e9f-ea0d-49a8-96e6-0a705f669174",
   "metadata": {},
   "outputs": [],
   "source": [
    "plt.barh(names,count, color = 'green') \n",
    "plt.title(\"Fruits Distribution\")\n",
    "plt.xlabel(\"Fruits\")\n",
    "plt.ylabel(\"Quantity\")\n",
    "plt.show()"
   ]
  },
  {
   "cell_type": "markdown",
   "id": "485a7c31-0236-4369-ad36-a73640e6a3ad",
   "metadata": {},
   "source": [
    "**Stacked Bar Plot**"
   ]
  },
  {
   "cell_type": "code",
   "execution_count": null,
   "id": "cd6b8416-b4ad-43f3-bf97-84d18636ad76",
   "metadata": {},
   "outputs": [],
   "source": [
    "a=[5,10,15,20]\n",
    "b=[1,15,25,35]\n",
    "x=[1,2,3,4]\n",
    "plt.bar(x,a,color='red')\n",
    "plt.bar(x,b,color='green', bottom=a)\n",
    "plt.show()"
   ]
  },
  {
   "cell_type": "code",
   "execution_count": null,
   "id": "9dcbb685-677c-47f3-93e2-1af3d4ab56a3",
   "metadata": {},
   "outputs": [],
   "source": []
  },
  {
   "cell_type": "markdown",
   "id": "bd50f9f2-75ca-48f9-8041-0680709aff9e",
   "metadata": {},
   "source": [
    "**Scatter Plot**"
   ]
  },
  {
   "cell_type": "code",
   "execution_count": null,
   "id": "84e0180e-f865-470d-ab25-faa0e96e8e0e",
   "metadata": {},
   "outputs": [],
   "source": [
    "#comprises of two different relationships\n",
    "#x and a, x and b\n",
    "x=[11,22,33,44,55,66,77,88,99]\n",
    "a=[1,2,3,4,5,4,3,8,9]\n",
    "b=[5,3,6,7,3,1,9,7,6]"
   ]
  },
  {
   "cell_type": "code",
   "execution_count": null,
   "id": "cab14e83-c1b2-409c-b3cf-bdf2fe132e65",
   "metadata": {},
   "outputs": [],
   "source": [
    "plt.scatter(x,a)\n",
    "plt.scatter(x,b)\n",
    "plt.legend(['a','b'])\n",
    "plt.title(\"x vs a & b\")\n",
    "plt.xlabel('x')\n",
    "plt.ylabel('a&b')\n",
    "plt.show()"
   ]
  },
  {
   "cell_type": "code",
   "execution_count": null,
   "id": "8fcee80a-a6d7-4523-a2ca-35c0527947b5",
   "metadata": {},
   "outputs": [],
   "source": [
    "#to change the size of the points in the above"
   ]
  },
  {
   "cell_type": "code",
   "execution_count": null,
   "id": "259f526c-b7c7-4381-99dc-e61e26979bd8",
   "metadata": {},
   "outputs": [],
   "source": [
    "plt.scatter(x,a, s=200)#changing size using s\n",
    "plt.scatter(x,b)\n",
    "plt.legend(['a','b'])\n",
    "plt.title(\"x vs a & b\")\n",
    "plt.xlabel('x')\n",
    "plt.ylabel('a&b')\n",
    "plt.show()"
   ]
  },
  {
   "cell_type": "code",
   "execution_count": null,
   "id": "19e5d5fd-7150-4e10-adc2-9c55bb5774c4",
   "metadata": {},
   "outputs": [],
   "source": [
    "plt.scatter(x,a, s=200)\n",
    "plt.scatter(x,b, s=450)#changing size using s\n",
    "plt.legend(['a','b'])\n",
    "plt.title(\"x vs a & b\")\n",
    "plt.xlabel('x')\n",
    "plt.ylabel('a&b')\n",
    "plt.show()"
   ]
  },
  {
   "cell_type": "code",
   "execution_count": null,
   "id": "d180e073-cf1f-40b2-ba83-6c642b255e35",
   "metadata": {},
   "outputs": [],
   "source": [
    "#to change the shape use 'marker' argument\n",
    "plt.scatter(x,a, s=200)\n",
    "plt.scatter(x,b, s=450, marker='*')\n",
    "plt.legend(['a','b'])\n",
    "plt.title(\"x vs a & b\")\n",
    "plt.xlabel('x')\n",
    "plt.ylabel('a&b')\n",
    "plt.show()\n"
   ]
  },
  {
   "cell_type": "code",
   "execution_count": null,
   "id": "ced286fb-cdb9-4b79-894a-82741909303a",
   "metadata": {},
   "outputs": [],
   "source": [
    "#to change the size of the figure, use s\n",
    "\n",
    "plt.figure(figsize=(10,10))\n",
    "plt.scatter(x,a, s=200)\n",
    "plt.scatter(x,b, s=450, marker='*')\n",
    "plt.legend(['a','b'])\n",
    "plt.title(\"x vs a & b\")\n",
    "plt.xlabel('x')\n",
    "plt.ylabel('a&b')\n",
    "plt.show()"
   ]
  },
  {
   "cell_type": "code",
   "execution_count": null,
   "id": "6647c0a6-b7c3-4406-a4f1-789a66d629db",
   "metadata": {},
   "outputs": [],
   "source": [
    "#to make opaque\n",
    "\n",
    "plt.figure(figsize=(10,10))\n",
    "plt.scatter(x,a, s=200)\n",
    "plt.scatter(x,b, s=450, marker='*', alpha=0.1)\n",
    "plt.legend(['a','b'])\n",
    "plt.title(\"x vs a & b\")\n",
    "plt.xlabel('x')\n",
    "plt.ylabel('a&b')\n",
    "plt.show()"
   ]
  },
  {
   "cell_type": "markdown",
   "id": "d4d10690-8063-4f32-9b10-08813320a832",
   "metadata": {},
   "source": [
    "**Histogram**"
   ]
  },
  {
   "cell_type": "code",
   "execution_count": null,
   "id": "6adbcc0f-f8e4-4329-8fca-e0dbb3bba4e7",
   "metadata": {},
   "outputs": [],
   "source": [
    "#gives dsitribution of the data\n",
    "data=[]"
   ]
  },
  {
   "cell_type": "code",
   "execution_count": null,
   "id": "74480841-cdd8-4433-bd65-bb22965afd9c",
   "metadata": {},
   "outputs": [],
   "source": [
    "plt.hist(data)\n",
    "plt.show()"
   ]
  },
  {
   "cell_type": "code",
   "execution_count": null,
   "id": "94ca079e-2689-43dc-a16a-a8e35a932a1d",
   "metadata": {},
   "outputs": [],
   "source": [
    "#create histogram on top of dataset"
   ]
  },
  {
   "cell_type": "code",
   "execution_count": null,
   "id": "9f67c634-20cf-40b2-ae05-d2a0515c56f4",
   "metadata": {},
   "outputs": [],
   "source": [
    "import pandas as pd\n",
    "import seaborn as sns"
   ]
  },
  {
   "cell_type": "code",
   "execution_count": null,
   "id": "e53f8976-887a-48a8-8e78-6603aec51a54",
   "metadata": {},
   "outputs": [],
   "source": [
    "sns.get_dataset_names()"
   ]
  },
  {
   "cell_type": "code",
   "execution_count": null,
   "id": "b97da2a3-0e2e-4a94-b10d-4462446a818f",
   "metadata": {},
   "outputs": [],
   "source": [
    "df=sns.load_dataset('iris')\n",
    "df.head()"
   ]
  },
  {
   "cell_type": "code",
   "execution_count": null,
   "id": "2d4a117e-282f-483f-a208-56a9ddb1d38c",
   "metadata": {},
   "outputs": [],
   "source": [
    "df.tail()"
   ]
  },
  {
   "cell_type": "code",
   "execution_count": null,
   "id": "2b3b16a7-d83f-40ec-bf9c-40e95a35237d",
   "metadata": {},
   "outputs": [],
   "source": [
    "df.shape"
   ]
  },
  {
   "cell_type": "code",
   "execution_count": null,
   "id": "02743682-ecfa-4f6e-93e4-fba2d4fad8dd",
   "metadata": {},
   "outputs": [],
   "source": [
    "#create histogram for sepal_length column of iris dataset"
   ]
  },
  {
   "cell_type": "code",
   "execution_count": null,
   "id": "b76aaec3-774c-4652-a4e7-118e09a29b78",
   "metadata": {},
   "outputs": [],
   "source": [
    "plt.hist(df['sepal_length'])\n",
    "plt.show()"
   ]
  },
  {
   "cell_type": "code",
   "execution_count": null,
   "id": "8a726c21-f4b1-430b-a869-219d9447fd31",
   "metadata": {},
   "outputs": [],
   "source": [
    "#change color of histogram\n",
    "plt.hist(df['sepal_length'], color='red')\n",
    "plt.show()"
   ]
  },
  {
   "cell_type": "code",
   "execution_count": null,
   "id": "1757c386-c1be-4e99-8fb5-d13c0b92b3c7",
   "metadata": {},
   "outputs": [],
   "source": [
    "#change number of bins\n",
    "#change color of histogram\n",
    "plt.hist(df['sepal_length'], color='red', bins=100)\n",
    "plt.show()"
   ]
  },
  {
   "cell_type": "code",
   "execution_count": null,
   "id": "3dd9f016-fbb9-48a0-b299-853a78b1b49c",
   "metadata": {},
   "outputs": [],
   "source": [
    "#change number of bins\n",
    "#change color of histogram\n",
    "plt.hist(df['sepal_length'], color='red', bins=50)\n",
    "plt.show()"
   ]
  },
  {
   "cell_type": "code",
   "execution_count": null,
   "id": "d57beaf7-0b66-4425-9931-ddec758009f6",
   "metadata": {},
   "outputs": [],
   "source": [
    "#To create multiple histogram\n",
    "data=sns.load_dataset('iris')\n",
    "data.shape"
   ]
  },
  {
   "cell_type": "code",
   "execution_count": null,
   "id": "9222a46e-28ab-4b8f-9bde-236d15381b2a",
   "metadata": {},
   "outputs": [],
   "source": [
    "data.plot.hist(subplots=True)\n",
    "plt.show()"
   ]
  },
  {
   "cell_type": "code",
   "execution_count": null,
   "id": "b3a68ea5-fa5a-48cd-ae84-6df81186ecb3",
   "metadata": {},
   "outputs": [],
   "source": [
    "data.plot.hist(subplots=True,layout=(2,2), figsize=(8,8),bins=20)\n",
    "plt.show()"
   ]
  },
  {
   "cell_type": "markdown",
   "id": "5d7a3487-ffcb-4093-ac02-cea469e4e350",
   "metadata": {},
   "source": [
    "**Box Plot**"
   ]
  },
  {
   "cell_type": "code",
   "execution_count": null,
   "id": "6afef946-298b-4da1-a653-26ded9f91386",
   "metadata": {},
   "outputs": [],
   "source": [
    "a=[1,2,3,4,5,6,7,8,9]\n",
    "b=[1,2,3,4,5,4,3,2,1]\n",
    "c=[6,7,8,9,8,7,6,5,8]"
   ]
  },
  {
   "cell_type": "code",
   "execution_count": null,
   "id": "4bc5db98-b112-4552-85f3-385f7e0056bc",
   "metadata": {},
   "outputs": [],
   "source": [
    "#create list of list"
   ]
  },
  {
   "cell_type": "code",
   "execution_count": null,
   "id": "d85fff6d-6751-4d11-914c-1202e6f76ee4",
   "metadata": {},
   "outputs": [],
   "source": [
    "data=list([a,b,c])"
   ]
  },
  {
   "cell_type": "code",
   "execution_count": null,
   "id": "4df01e27-eefd-4216-9310-ac23558d4ab1",
   "metadata": {},
   "outputs": [],
   "source": [
    "plt.boxplot(data)\n",
    "plt.show() # line at the center is the median"
   ]
  },
  {
   "cell_type": "code",
   "execution_count": null,
   "id": "11a36284-8113-4d90-9970-c879d1f1b000",
   "metadata": {},
   "outputs": [],
   "source": []
  },
  {
   "cell_type": "markdown",
   "id": "20e6c5ba-f955-4cf0-aa36-a204c652a96e",
   "metadata": {},
   "source": [
    "**Violin Plot**\n",
    "#### this is similar to box plot, however the shape is different"
   ]
  },
  {
   "cell_type": "code",
   "execution_count": null,
   "id": "906bf021-627b-41ba-87d2-bf951c18f4ee",
   "metadata": {},
   "outputs": [],
   "source": [
    "a=[1,2,3,4,5,6,7,8,9]\n",
    "b=[1,2,3,4,5,4,3,2,1]\n",
    "c=[6,7,8,9,8,7,6,5,8]\n",
    "data=list([a,b,c])\n",
    "plt.violinplot(data)\n",
    "plt.show()"
   ]
  },
  {
   "cell_type": "code",
   "execution_count": null,
   "id": "2b2fe036-9bb6-443d-99d2-3e9471e8c748",
   "metadata": {},
   "outputs": [],
   "source": [
    "# to add grid to data\n",
    "a=[1,2,3,4,5,6,7,8,9]\n",
    "b=[1,2,3,4,5,4,3,2,1]\n",
    "c=[6,7,8,9,8,7,6,5,8]\n",
    "data=list([a,b,c])\n",
    "plt.violinplot(data)\n",
    "plt.grid(True)#to add grid, make it true\n",
    "plt.show()\n"
   ]
  },
  {
   "cell_type": "code",
   "execution_count": null,
   "id": "0d745df2-b9d4-4b7a-989b-449437fdc36d",
   "metadata": {},
   "outputs": [],
   "source": [
    "# to add title\n",
    "a=[1,2,3,4,5,6,7,8,9]\n",
    "b=[1,2,3,4,5,4,3,2,1]\n",
    "c=[6,7,8,9,8,7,6,5,8]\n",
    "data=list([a,b,c])\n",
    "plt.violinplot(data)\n",
    "plt.grid(True)#to add grid, make it true\n",
    "plt.title(\"Data Distribution\")\n",
    "plt.xlabel(\"x axis\")\n",
    "plt.ylabel(\"y axis\")\n",
    "plt.show()\n"
   ]
  },
  {
   "cell_type": "code",
   "execution_count": null,
   "id": "bcc724b9-5a37-4795-b89d-09daf8ef878a",
   "metadata": {},
   "outputs": [],
   "source": [
    "#to add median to violin plot similar to box plot\n",
    "# to add title\n",
    "a=[1,2,3,4,5,6,7,8,9]\n",
    "b=[1,2,3,4,5,4,3,2,1]\n",
    "c=[6,7,8,9,8,7,6,5,8]\n",
    "data=list([a,b,c])\n",
    "plt.violinplot(data,showmedians=True, showmeans=True)# to add medians\n",
    "plt.grid(True)#to add grid, make it true\n",
    "plt.title(\"Data Distribution\")\n",
    "plt.xlabel(\"x axis\")\n",
    "plt.ylabel(\"y axis\")\n",
    "plt.show()\n"
   ]
  },
  {
   "cell_type": "markdown",
   "id": "86d690de-b636-44cb-b5ca-245d2997c77f",
   "metadata": {},
   "source": [
    "**Pie Chart**"
   ]
  },
  {
   "cell_type": "code",
   "execution_count": null,
   "id": "aed2aef2-3ac6-443a-8258-91b4fb4fe4f1",
   "metadata": {},
   "outputs": [],
   "source": [
    "fruit=['orange','pineapple', 'grapes','banana']\n",
    "quantity=[33,55,22,40]\n",
    "\n",
    "plt.pie(quantity, labels=fruit)\n",
    "plt.show()"
   ]
  },
  {
   "cell_type": "code",
   "execution_count": null,
   "id": "93a13b4e-19e7-4780-a8a5-2dd0f887cff4",
   "metadata": {},
   "outputs": [],
   "source": [
    "fruit=['orange','pineapple', 'grapes','banana']\n",
    "quantity=[33,55,22,70]\n",
    "\n",
    "plt.pie(quantity, labels=fruit)\n",
    "plt.show()"
   ]
  },
  {
   "cell_type": "code",
   "execution_count": null,
   "id": "1fbe86d0-4688-41d8-a66f-3d63cbc68cb3",
   "metadata": {},
   "outputs": [],
   "source": [
    "#to add percentage, use autopct\n",
    "\n",
    "fruit=['orange','pineapple', 'grapes','banana']\n",
    "quantity=[33,55,22,70]\n",
    "\n",
    "plt.pie(quantity, labels=fruit, autopct='%0.1f%%')\n",
    "plt.show()"
   ]
  },
  {
   "cell_type": "code",
   "execution_count": null,
   "id": "385c1ae8-9f81-4e8e-9093-a8c39dc65460",
   "metadata": {},
   "outputs": [],
   "source": [
    "#to add shadow to pie chart\n",
    "fruit=['orange','pineapple', 'grapes','banana']\n",
    "quantity=[33,55,22,70]\n",
    "\n",
    "plt.pie(quantity, labels=fruit, autopct='%0.1f%%', shadow=True)\n",
    "plt.show()"
   ]
  },
  {
   "cell_type": "code",
   "execution_count": null,
   "id": "4e63969a-35b4-4d92-9278-a7d373c7e695",
   "metadata": {},
   "outputs": [],
   "source": [
    "#to highlight a slice, use explode\n",
    "fruit=['orange','pineapple', 'grapes','banana']\n",
    "quantity=[33,55,22,70]\n",
    "\n",
    "plt.pie(quantity, labels=fruit, autopct='%0.1f%%', shadow=True, explode=(0,0.2,0,0.1))\n",
    "plt.show()"
   ]
  },
  {
   "cell_type": "code",
   "execution_count": null,
   "id": "d54bdbef-ee92-4ece-b0ba-0d4d76f584bc",
   "metadata": {},
   "outputs": [],
   "source": [
    "#to highlight a slice, use explode\n",
    "fruit=['orange','pineapple', 'grapes','banana']\n",
    "quantity=[33,55,22,70]\n",
    "\n",
    "plt.pie(quantity, labels=fruit, autopct='%0.1f%%', shadow=True, explode=(0.1,0,0,1))\n",
    "plt.show()"
   ]
  },
  {
   "cell_type": "code",
   "execution_count": null,
   "id": "39c8b654-9292-4bf0-8854-da935eeabc38",
   "metadata": {},
   "outputs": [],
   "source": [
    "#similar to pie chart is a donut chart\n",
    "\n",
    "fruit=['orange','pineapple', 'grapes','banana']\n",
    "quantity=[33,55,22,70]\n",
    "\n",
    "\n",
    "#create two plots\n",
    "pie1=plt.pie(quantity, labels=fruit, autopct='%0.1f%%')\n",
    "pie2=plt.pie([5], colors='white') #color has to be white\n",
    "\n",
    "plt.show()"
   ]
  },
  {
   "cell_type": "code",
   "execution_count": null,
   "id": "b4acfa21-2d03-4d8c-8c53-83fd320116af",
   "metadata": {},
   "outputs": [],
   "source": [
    "fruit=['orange','pineapple', 'grapes','banana']\n",
    "quantity=[33,55,22,70]\n",
    "\n",
    "\n",
    "#create two plots\n",
    "pie1=plt.pie(quantity, labels=fruit, autopct='%0.1f%%', radius=1)#give the radius\n",
    "pie2=plt.pie([1], colors='white', radius=0.4) #color has to be white, give radius\n",
    "#radius of inner pie chart should be less than the radius of outer pie chart\n",
    "plt.show()"
   ]
  },
  {
   "cell_type": "markdown",
   "id": "40e0774a-d277-42c6-b7eb-0ae88e9340fc",
   "metadata": {},
   "source": [
    "**Area Plot**"
   ]
  },
  {
   "cell_type": "code",
   "execution_count": null,
   "id": "9cfcdb61-d6ce-480e-8141-74cb1f65c03e",
   "metadata": {},
   "outputs": [],
   "source": [
    "#similar to histogram.. area plot and histogram show distribution of numerical data\n",
    "x=[11,21,31,41,51,61,71,81,91]\n",
    "y=[1,2,1,1,4,5,2,6,7]"
   ]
  },
  {
   "cell_type": "code",
   "execution_count": null,
   "id": "d9721a8d-0268-4385-84b8-ab5c561a5696",
   "metadata": {},
   "outputs": [],
   "source": [
    "plt.stackplot(x,y)\n",
    "plt.show()"
   ]
  },
  {
   "cell_type": "code",
   "execution_count": null,
   "id": "ff7efb13-53f9-4d35-8780-27077eb12393",
   "metadata": {},
   "outputs": [],
   "source": [
    "#bar plot is used for categorical values\n",
    "#histogram is used for numerical values\n"
   ]
  },
  {
   "cell_type": "markdown",
   "id": "abbadfa7-5688-4d10-9dce-1946d13d61f9",
   "metadata": {},
   "source": [
    "**Seaborn**"
   ]
  },
  {
   "cell_type": "code",
   "execution_count": null,
   "id": "768f5080-ba19-431d-8ada-5ac74eaaaa3c",
   "metadata": {},
   "outputs": [],
   "source": [
    "import numpy as np\n",
    "import pandas as pd\n",
    "import matplotlib.pyplot as plt\n",
    "import seaborn as sns\n",
    "%matplotlib inline"
   ]
  },
  {
   "cell_type": "code",
   "execution_count": null,
   "id": "cd4b75e4-3a8b-4f15-9b12-9acf38942ec5",
   "metadata": {},
   "outputs": [],
   "source": [
    "sns.get_dataset_names()"
   ]
  },
  {
   "cell_type": "code",
   "execution_count": null,
   "id": "a1965818-d411-4485-a906-653c0615e32f",
   "metadata": {},
   "outputs": [],
   "source": [
    "data=sns.load_dataset('mpg')"
   ]
  },
  {
   "cell_type": "code",
   "execution_count": null,
   "id": "fca1495f-46fb-413f-8b0d-de368c1c9b97",
   "metadata": {},
   "outputs": [],
   "source": [
    "data.head()"
   ]
  },
  {
   "cell_type": "code",
   "execution_count": null,
   "id": "624faaba-b978-4061-ac61-24db15dc3ae2",
   "metadata": {},
   "outputs": [],
   "source": [
    "data.shape"
   ]
  },
  {
   "cell_type": "code",
   "execution_count": null,
   "id": "a4944411-6453-4101-842f-c489fd07cd8b",
   "metadata": {},
   "outputs": [],
   "source": [
    "data.info()"
   ]
  },
  {
   "cell_type": "markdown",
   "id": "7befdfeb-e77e-498e-b7b6-ce42a3fa2676",
   "metadata": {},
   "source": [
    "**Bar Plot**"
   ]
  },
  {
   "cell_type": "code",
   "execution_count": null,
   "id": "518cd581-7cb3-4fbb-9f42-f6a0f7462cbe",
   "metadata": {},
   "outputs": [],
   "source": [
    "#categorical col in x axis and numercial col in y axis"
   ]
  },
  {
   "cell_type": "code",
   "execution_count": null,
   "id": "a4e10728-212e-4cac-8be5-d8a63dedde59",
   "metadata": {},
   "outputs": [],
   "source": [
    "res=sns.barplot(x=data['cylinders'], y=data['mpg'])\n",
    "plt.show()\n",
    "#blacklines indicates uncertainity around estimates using error bars"
   ]
  },
  {
   "cell_type": "code",
   "execution_count": null,
   "id": "47f576c7-008c-4ac2-b68d-f2edddacb064",
   "metadata": {},
   "outputs": [],
   "source": [
    "res=sns.barplot(x='cylinders', y='mpg',data=data)\n",
    "plt.show()"
   ]
  },
  {
   "cell_type": "code",
   "execution_count": null,
   "id": "b010ef7a-12f1-4b6a-9b4c-457fd7b80725",
   "metadata": {},
   "outputs": [],
   "source": [
    "#we can assign colors in the bar chart"
   ]
  },
  {
   "cell_type": "code",
   "execution_count": null,
   "id": "ff94e165-81f9-49a0-ab16-c37e85b7fd6a",
   "metadata": {},
   "outputs": [],
   "source": [
    "res=sns.barplot(x='cylinders', y='mpg',data=data, color='gray')\n",
    "plt.show()"
   ]
  },
  {
   "cell_type": "code",
   "execution_count": null,
   "id": "c54080c3-40b3-45ed-b10b-6f3bc4d079e3",
   "metadata": {},
   "outputs": [],
   "source": [
    "#palette argument to give different colors\n",
    "res=sns.barplot(x=data['cylinders'], y=data['acceleration'], palette='Set2')\n",
    "plt.show()"
   ]
  },
  {
   "cell_type": "code",
   "execution_count": null,
   "id": "a9efa3fa-45fb-4b38-bf6f-b6a899247ebc",
   "metadata": {},
   "outputs": [],
   "source": [
    "#palette argument to give different colors\n",
    "res=sns.barplot(x=data['cylinders'], y=data['acceleration'], palette='rocket')\n",
    "plt.show()"
   ]
  },
  {
   "cell_type": "markdown",
   "id": "663d90ef-f9e1-4560-9be5-0ad7cb631114",
   "metadata": {},
   "source": [
    "**Count Plot**"
   ]
  },
  {
   "cell_type": "code",
   "execution_count": null,
   "id": "fb9ecea8-aef6-443e-ba49-2bb9b059ecd6",
   "metadata": {},
   "outputs": [],
   "source": [
    "sns.countplot(x='cylinders', data=data, palette = \"Set1\")\n",
    "plt.show()"
   ]
  },
  {
   "cell_type": "code",
   "execution_count": null,
   "id": "03b5a628-fd80-469d-bea0-d63aeeafc31d",
   "metadata": {},
   "outputs": [],
   "source": [
    "sns.countplot(x='horsepower', data=data, palette=\"Set2\")\n",
    "plt.show()"
   ]
  },
  {
   "cell_type": "code",
   "execution_count": null,
   "id": "ddf5c904-1fcf-4862-b25b-b3e87049ae9a",
   "metadata": {},
   "outputs": [],
   "source": [
    "#horizantal count plot\n"
   ]
  },
  {
   "cell_type": "code",
   "execution_count": null,
   "id": "554a2c84-d431-4c02-8d10-f4fae75ad6b7",
   "metadata": {},
   "outputs": [],
   "source": [
    "sns.countplot(y='cylinders', data=data, palette='rocket')\n",
    "plt.show()"
   ]
  },
  {
   "cell_type": "code",
   "execution_count": null,
   "id": "2156dd95-dae2-4186-b292-d019967c7c1f",
   "metadata": {},
   "outputs": [],
   "source": [
    "sns.countplot(x='origin', hue='cylinders', data=data, palette=\"Set1\")"
   ]
  },
  {
   "cell_type": "code",
   "execution_count": null,
   "id": "e54294aa-d343-4669-acb3-40819910f32c",
   "metadata": {},
   "outputs": [],
   "source": [
    "data.head()"
   ]
  },
  {
   "cell_type": "markdown",
   "id": "2756ba55-2546-40c6-9a2e-1aebdd10b29a",
   "metadata": {},
   "source": [
    "**Distribution plot**"
   ]
  },
  {
   "cell_type": "code",
   "execution_count": null,
   "id": "28b80c25-8357-493e-a029-b998cce1433a",
   "metadata": {},
   "outputs": [],
   "source": [
    "sns.distplot(data.mpg, bins=10, color='g')\n",
    "plt.show()"
   ]
  },
  {
   "cell_type": "markdown",
   "id": "6ab70957-1d0c-4b9d-8ec2-9893503be206",
   "metadata": {},
   "source": [
    "**Heatmap**"
   ]
  },
  {
   "cell_type": "code",
   "execution_count": null,
   "id": "ec600793-b4f5-4905-885f-60d0f22b5db9",
   "metadata": {},
   "outputs": [],
   "source": [
    "df=sns.load_dataset('iris')\n",
    "df.head()"
   ]
  },
  {
   "cell_type": "code",
   "execution_count": null,
   "id": "7e40d144-86de-4040-a87c-03b6caf13363",
   "metadata": {},
   "outputs": [],
   "source": [
    "cm = df.corr(numeric_only=True)"
   ]
  },
  {
   "cell_type": "code",
   "execution_count": null,
   "id": "f8d9267d-5984-41cd-9f8e-ab6f533e0da6",
   "metadata": {},
   "outputs": [],
   "source": [
    "sns.heatmap(cm)"
   ]
  },
  {
   "cell_type": "code",
   "execution_count": null,
   "id": "c6ba959d-f6a7-4555-a41e-3aa2d44997ff",
   "metadata": {},
   "outputs": [],
   "source": [
    "sns.heatmap(cm, annot = True)"
   ]
  },
  {
   "cell_type": "code",
   "execution_count": null,
   "id": "61404908-4342-4559-9e1f-a4adbb4ff08d",
   "metadata": {},
   "outputs": [],
   "source": []
  },
  {
   "cell_type": "code",
   "execution_count": null,
   "id": "0957d6a5-8b4d-4c64-8c14-df9f036ecaa7",
   "metadata": {},
   "outputs": [],
   "source": [
    "#used to represent correlation, values in matrix are shown in graph"
   ]
  },
  {
   "cell_type": "markdown",
   "id": "228315ec-a7ef-4fdc-b8ad-42e5e2156cb5",
   "metadata": {},
   "source": [
    "**scatter plot - to derive relationship between 2 continous variables**"
   ]
  },
  {
   "cell_type": "code",
   "execution_count": null,
   "id": "e9b4e60e-da8a-4369-8e1b-93ec3bee607c",
   "metadata": {},
   "outputs": [],
   "source": [
    "data=sns.load_dataset('iris')\n",
    "data.head()"
   ]
  },
  {
   "cell_type": "code",
   "execution_count": null,
   "id": "dfa3a77e-3227-4807-aaf1-aa49674e0330",
   "metadata": {},
   "outputs": [],
   "source": [
    "data['species'].value_counts()"
   ]
  },
  {
   "cell_type": "code",
   "execution_count": null,
   "id": "f80eef0a-56dd-4286-bac4-2de6dc974723",
   "metadata": {},
   "outputs": [],
   "source": [
    "sns.scatterplot(x='sepal_length', y='petal_length', data=data)\n",
    "plt.show()"
   ]
  },
  {
   "cell_type": "code",
   "execution_count": null,
   "id": "d482cec2-de75-4366-8d56-937666df9027",
   "metadata": {},
   "outputs": [],
   "source": [
    "sns.scatterplot(x='sepal_length', y='petal_length', data=data, hue='species')\n",
    "plt.show()"
   ]
  },
  {
   "cell_type": "markdown",
   "id": "3d823610-d83a-4110-a68c-ed0dafb58842",
   "metadata": {},
   "source": [
    "sns.scatterplot(x='sepal_length', y='petal_length', data=data, hue='species',size='species')\n",
    "plt.show()"
   ]
  },
  {
   "cell_type": "markdown",
   "id": "66cdf0bb-3370-45d9-ad5e-fecf6141aa30",
   "metadata": {},
   "source": [
    "**Pairplot**"
   ]
  },
  {
   "cell_type": "code",
   "execution_count": null,
   "id": "91a52b06-e749-4f46-9f06-5510ca4fbca6",
   "metadata": {},
   "outputs": [],
   "source": [
    "sns.pairplot(data)\n",
    "plt.show()"
   ]
  },
  {
   "cell_type": "code",
   "execution_count": null,
   "id": "b8bac84a-c8c4-4330-9e9d-8892fe60730d",
   "metadata": {},
   "outputs": [],
   "source": [
    "sns.pairplot(data, hue='species')\n",
    "plt.show()"
   ]
  },
  {
   "cell_type": "markdown",
   "id": "010aff2a-6cba-4869-b063-cf7607eca239",
   "metadata": {},
   "source": [
    "**lmplot** -- draws linear relationship"
   ]
  },
  {
   "cell_type": "code",
   "execution_count": null,
   "id": "7241fdfa-c437-4522-ac79-3a491c1629c3",
   "metadata": {},
   "outputs": [],
   "source": [
    "sns.lmplot(x='petal_length', y='petal_width', data=data)\n",
    "plt.show()"
   ]
  },
  {
   "cell_type": "markdown",
   "id": "a6283766-97ba-42c6-b9ea-b4e009cdc443",
   "metadata": {},
   "source": [
    "sns.lmplot(x='petal_length', y='petal_width', hue='species', data=data, markers=[\"o\",\"*\",\"^\"])\n",
    "plt.show()"
   ]
  },
  {
   "cell_type": "markdown",
   "id": "272733a2-3a52-4626-921a-556854eb1128",
   "metadata": {},
   "source": [
    "**Box plot**"
   ]
  },
  {
   "cell_type": "code",
   "execution_count": null,
   "id": "21a8cd12-cd40-44ae-b5da-e99eff18b6d1",
   "metadata": {},
   "outputs": [],
   "source": [
    "sns.boxplot(x='species', y='sepal_width', data=data)\n",
    "plt.show()"
   ]
  },
  {
   "cell_type": "markdown",
   "id": "d3b537b5-4c0d-4b5f-9d4b-0c24c550c533",
   "metadata": {},
   "source": [
    "**Strip plot**"
   ]
  },
  {
   "cell_type": "code",
   "execution_count": null,
   "id": "0a767350-467d-47ae-9827-ffe1ebc03294",
   "metadata": {},
   "outputs": [],
   "source": [
    "df=sns.load_dataset('iris')"
   ]
  },
  {
   "cell_type": "code",
   "execution_count": null,
   "id": "c764c728-894f-4faa-b5d2-bee55a5834bb",
   "metadata": {},
   "outputs": [],
   "source": [
    "df.head()"
   ]
  },
  {
   "cell_type": "code",
   "execution_count": null,
   "id": "a3a7aaa8-d3fe-4a17-8e3f-eb02d7e1f78e",
   "metadata": {},
   "outputs": [],
   "source": [
    "sns.stripplot(y = 'sepal_length', x = 'species', data = df)\n",
    "plt.show()"
   ]
  },
  {
   "cell_type": "markdown",
   "id": "1afe002c-4d6d-4357-bc83-8e198f863423",
   "metadata": {},
   "source": [
    "**Swarm Plot**"
   ]
  },
  {
   "cell_type": "code",
   "execution_count": null,
   "id": "a3c8b509-87a0-4931-b905-aa51bb1d949b",
   "metadata": {},
   "outputs": [],
   "source": [
    "sns.swarmplot(y = 'sepal_length', x = 'species', data = df)\n",
    "plt.show()"
   ]
  },
  {
   "cell_type": "code",
   "execution_count": null,
   "id": "3857fee7-88c5-4867-98aa-1d4d09ae01ae",
   "metadata": {},
   "outputs": [],
   "source": [
    "df=sns.load_dataset('titanic')"
   ]
  },
  {
   "cell_type": "code",
   "execution_count": null,
   "id": "da03ab57-5692-4308-b6ed-1448436cf140",
   "metadata": {},
   "outputs": [],
   "source": [
    "df.head()"
   ]
  },
  {
   "cell_type": "code",
   "execution_count": null,
   "id": "e2d903c5-385f-43d1-92d8-20ff29426b81",
   "metadata": {},
   "outputs": [],
   "source": [
    "sns.swarmplot(y = 'fare', x = 'sex', data = df, hue='class')\n",
    "plt.show()"
   ]
  },
  {
   "cell_type": "markdown",
   "id": "0cf416d9-f37d-49e6-8814-9aa888ee0cf9",
   "metadata": {},
   "source": [
    "**violin plot**"
   ]
  },
  {
   "cell_type": "code",
   "execution_count": null,
   "id": "cd13d518-bfb7-4a99-9861-4cd34ad1ce55",
   "metadata": {},
   "outputs": [],
   "source": [
    "sns.violinplot(y = 'age', x = 'sex', data = df)\n",
    "plt.show()"
   ]
  },
  {
   "cell_type": "code",
   "execution_count": null,
   "id": "0cc3f4d5-bf82-4bd7-9b2a-35676d936fb1",
   "metadata": {},
   "outputs": [],
   "source": [
    "sns.violinplot(y = 'age', x = 'sex', data = df, hue='survived')\n",
    "plt.show()"
   ]
  },
  {
   "cell_type": "code",
   "execution_count": null,
   "id": "086df7f7-8f09-4ffe-8d76-191f02694bea",
   "metadata": {},
   "outputs": [],
   "source": [
    "sns.violinplot(y = 'age', x = 'sex', data = df, hue='survived', split=True)\n",
    "plt.show()"
   ]
  },
  {
   "cell_type": "code",
   "execution_count": null,
   "id": "e082299c-4b7c-4165-985a-51d228d69027",
   "metadata": {},
   "outputs": [],
   "source": []
  },
  {
   "cell_type": "code",
   "execution_count": null,
   "id": "96a2be0a-e244-4f29-a287-2e24333a0de8",
   "metadata": {},
   "outputs": [],
   "source": [
    "df.head()"
   ]
  },
  {
   "cell_type": "code",
   "execution_count": null,
   "id": "88a38456-52b5-42f1-8d06-9aa49716d4cc",
   "metadata": {},
   "outputs": [],
   "source": [
    "import plotly.express as px"
   ]
  },
  {
   "cell_type": "code",
   "execution_count": null,
   "id": "2cc99895-64d1-4859-aaf2-ff1950d742f1",
   "metadata": {},
   "outputs": [],
   "source": [
    "fig = px.histogram(data_frame = df, x= \"species\")\n",
    "fig.show()"
   ]
  },
  {
   "cell_type": "code",
   "execution_count": null,
   "id": "8748626e-8636-48ab-a9ea-e696a35352f1",
   "metadata": {},
   "outputs": [],
   "source": [
    "df['species'].value_counts()"
   ]
  },
  {
   "cell_type": "code",
   "execution_count": null,
   "id": "ed80c83d-9739-4ed4-a1a0-0ceaabfb0b9c",
   "metadata": {},
   "outputs": [],
   "source": []
  },
  {
   "cell_type": "code",
   "execution_count": null,
   "id": "bedbb8a8-111a-45d6-b1b2-2b85be7bc13f",
   "metadata": {},
   "outputs": [],
   "source": []
  }
 ],
 "metadata": {
  "kernelspec": {
   "display_name": "Python 3 (ipykernel)",
   "language": "python",
   "name": "python3"
  },
  "language_info": {
   "codemirror_mode": {
    "name": "ipython",
    "version": 3
   },
   "file_extension": ".py",
   "mimetype": "text/x-python",
   "name": "python",
   "nbconvert_exporter": "python",
   "pygments_lexer": "ipython3",
   "version": "3.12.4"
  }
 },
 "nbformat": 4,
 "nbformat_minor": 5
}
