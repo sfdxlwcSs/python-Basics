{
 "cells": [
  {
   "cell_type": "code",
   "execution_count": 9,
   "metadata": {},
   "outputs": [
    {
     "name": "stdout",
     "output_type": "stream",
     "text": [
      "   A  B\n",
      "0  1  4\n",
      "1  2  5\n",
      "2  3  6\n",
      "✅\n",
      "\n",
      " A     6\n",
      "B    15\n",
      "dtype: int64\n",
      "A     6\n",
      "B    15\n",
      "dtype: int64\n",
      "0    5\n",
      "1    7\n",
      "2    9\n",
      "dtype: int64\n"
     ]
    }
   ],
   "source": [
    "import pandas as pd\n",
    "\n",
    "df = pd.DataFrame({\"A\": [1, 2, 3], \"B\": [4, 5, 6]}) \n",
    "print(df.head())\n",
    "\n",
    "print('✅\\n\\n',df.sum())\n",
    "print(df.sum(axis=0)) \n",
    "# Sums each column\n",
    "# A = 1 + 2 + 3 = 6\n",
    "# B = 4 + 5 + 6 = 15 \n",
    " \n",
    "\n",
    "# Sums each row\n",
    "\n",
    "print(df.sum(axis=1))  \n"
   ]
  },
  {
   "cell_type": "code",
   "execution_count": 1,
   "metadata": {},
   "outputs": [
    {
     "name": "stdout",
     "output_type": "stream",
     "text": [
      "Selected CGPA Series:\n",
      "0    3.5\n",
      "1    3.8\n",
      "Name: CGPA, dtype: float64\n",
      "First CGPA value: 3.5\n"
     ]
    }
   ],
   "source": [
    "import pandas as pd\n",
    "\n",
    "# Sample DataFrame\n",
    "data = {\n",
    "    'Name': ['Alice', 'Bob', 'Charlie'],\n",
    "    'CGPA': [3.5, 3.8, 3.2],\n",
    "    'Condition': ['Pass', 'Pass', 'Fail']\n",
    "}\n",
    "dataframe = pd.DataFrame(data)\n",
    "\n",
    "# Condition to select specific rows\n",
    "condition = 'Pass'\n",
    "\n",
    "# Select rows where 'Condition' column matches the condition\n",
    "selected_rows = dataframe[dataframe['Condition'] == condition]\n",
    "\n",
    "# Print the Series\n",
    "print(\"Selected CGPA Series:\")\n",
    "print(selected_rows['CGPA'])\n",
    "\n",
    "# Extract the 'CGPA' value from the first matching row\n",
    "selected_cgpa = selected_rows['CGPA'].values[0]\n",
    "\n",
    "print(\"First CGPA value:\", selected_cgpa)"
   ]
  }
 ],
 "metadata": {
  "kernelspec": {
   "display_name": "Python 3",
   "language": "python",
   "name": "python3"
  },
  "language_info": {
   "codemirror_mode": {
    "name": "ipython",
    "version": 3
   },
   "file_extension": ".py",
   "mimetype": "text/x-python",
   "name": "python",
   "nbconvert_exporter": "python",
   "pygments_lexer": "ipython3",
   "version": "3.12.6"
  }
 },
 "nbformat": 4,
 "nbformat_minor": 2
}
