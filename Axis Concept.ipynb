{
 "cells": [
  {
   "cell_type": "markdown",
   "metadata": {},
   "source": [
    "\n",
    "\n",
    "**Understanding Axes in Pandas**\n",
    "\n",
    "* **axis=0:** Represents the rows. When you perform operations along `axis=0`, you're operating vertically, down the columns.\n",
    "* **axis=1:** Represents the columns. When you perform operations along `axis=1`, you're operating horizontally, across the rows.\n",
    "\n",
    "**Why `axis=1` to Drop a Column?**\n",
    "\n",
    "When you use `df.drop('A', axis=1)`, you're telling pandas:\n",
    "\n",
    "* \"Look along the columns (`axis=1`).\"\n",
    "* \"Find the column labeled 'A'.\"\n",
    "* \"Drop that entire column.\"\n",
    "\n",
    "Think of it this way: to remove a column, you need to specify that you are looking for the column label among the columns. Hence, `axis=1`.\n",
    "\n",
    "**Why not `axis=0`?**\n",
    "\n",
    "If you were to use `axis=0` with `df.drop('A', axis=0)`, pandas would try to find a *row* labeled 'A'. Since your DataFrame doesn't have a row with that label, it would likely result in an error or unexpected behavior.\n",
    "\n",
    "**In summary**\n",
    "\n",
    "* `axis=1` is used to manipulate columns in pandas.\n",
    "* `axis=0` is used to manipulate rows in pandas.\n",
    "* To drop a column, you need to specify that you are searching among the columns, therefore use `axis=1`.\n",
    "\n",
    "\n",
    "\n",
    "\n",
    "**`sum()` vs. `drop()`: Different Operations, Different Interpretations**\n",
    "\n",
    "* **`sum()`:**\n",
    "    * When you use `df.sum(axis=0)`, you're saying, \"Sum the values *along* the rows (vertically), giving me the sum for each column.\"\n",
    "    * When you use `df.sum(axis=1)`, you're saying, \"Sum the values *along* the columns (horizontally), giving me the sum for each row.\"\n",
    "    * Essentially, the axis in sum() indicates the direction of the operation.\n",
    "* **`drop()`:**\n",
    "    * When you use `df.drop('A', axis=1)`, you're saying, \"Look *among* the columns (axis=1) to find and remove the column labeled 'A'.\"\n",
    "    * In the case of drop, the axis specifies which index to search. It is not indicating the direction of the operation.\n",
    "\n",
    "**Key Difference**\n",
    "\n",
    "The core difference lies in what the operation is doing:\n",
    "\n",
    "* `sum()` is performing an aggregation *along* an axis.\n",
    "* `drop()` is selecting labels *from* an axis.\n",
    "\n",
    "**Analogy**\n",
    "\n",
    "Imagine a spreadsheet:\n",
    "\n",
    "* **`sum(axis=0)`:** You're adding up the numbers in each column, moving vertically down.\n",
    "* **`sum(axis=1)`:** You're adding up the numbers in each row, moving horizontally across.\n",
    "* **`drop(axis=1)`:** You're pointing to the column headers and saying, \"Remove this specific header and its corresponding column.\"\n",
    "\n",
    "Therefore, even though both involve axes, their interpretations are tied to the specific function being used.\n"
   ]
  },
  {
   "cell_type": "code",
   "execution_count": 3,
   "metadata": {},
   "outputs": [
    {
     "name": "stdout",
     "output_type": "stream",
     "text": [
      "   A  B\n",
      "0  1  4\n",
      "1  2  5\n",
      "2  3  6\n",
      "✅\n",
      "\n",
      " A     6\n",
      "B    15\n",
      "dtype: int64\n",
      "A     6\n",
      "B    15\n",
      "dtype: int64\n",
      "0    5\n",
      "1    7\n",
      "2    9\n",
      "dtype: int64\n",
      "   B\n",
      "0  4\n",
      "1  5\n",
      "2  6\n"
     ]
    }
   ],
   "source": [
    "import pandas as pd\n",
    "\n",
    "df = pd.DataFrame({\"A\": [1, 2, 3], \"B\": [4, 5, 6]}) \n",
    "print(df.head())\n",
    "\n",
    "print('✅\\n\\n',df.sum())\n",
    "print(df.sum(axis=0)) \n",
    "# Sums each column\n",
    "# A = 1 + 2 + 3 = 6\n",
    "# B = 4 + 5 + 6 = 15 \n",
    " \n",
    "\n",
    "# Sums each row\n",
    "\n",
    "print(df.sum(axis=1))  \n",
    "df.drop('A',axis=1,inplace=True)\n",
    "print(df)\n"
   ]
  },
  {
   "cell_type": "code",
   "execution_count": 1,
   "metadata": {},
   "outputs": [
    {
     "name": "stdout",
     "output_type": "stream",
     "text": [
      "Selected CGPA Series:\n",
      "0    3.5\n",
      "1    3.8\n",
      "Name: CGPA, dtype: float64\n",
      "First CGPA value: 3.5\n"
     ]
    }
   ],
   "source": [
    "import pandas as pd\n",
    "\n",
    "# Sample DataFrame\n",
    "data = {\n",
    "    'Name': ['Alice', 'Bob', 'Charlie'],\n",
    "    'CGPA': [3.5, 3.8, 3.2],\n",
    "    'Condition': ['Pass', 'Pass', 'Fail']\n",
    "}\n",
    "dataframe = pd.DataFrame(data)\n",
    "\n",
    "# Condition to select specific rows\n",
    "condition = 'Pass'\n",
    "\n",
    "# Select rows where 'Condition' column matches the condition\n",
    "selected_rows = dataframe[dataframe['Condition'] == condition]\n",
    "\n",
    "# Print the Series\n",
    "print(\"Selected CGPA Series:\")\n",
    "print(selected_rows['CGPA'])\n",
    "\n",
    "# Extract the 'CGPA' value from the first matching row\n",
    "selected_cgpa = selected_rows['CGPA'].values[0]\n",
    "\n",
    "print(\"First CGPA value:\", selected_cgpa)"
   ]
  }
 ],
 "metadata": {
  "kernelspec": {
   "display_name": "base",
   "language": "python",
   "name": "python3"
  },
  "language_info": {
   "codemirror_mode": {
    "name": "ipython",
    "version": 3
   },
   "file_extension": ".py",
   "mimetype": "text/x-python",
   "name": "python",
   "nbconvert_exporter": "python",
   "pygments_lexer": "ipython3",
   "version": "3.12.4"
  }
 },
 "nbformat": 4,
 "nbformat_minor": 2
}
