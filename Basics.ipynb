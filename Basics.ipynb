{
  "cells": [
    {
      "cell_type": "markdown",
      "metadata": {
        "colab_type": "text",
        "id": "view-in-github"
      },
      "source": [
        "<a href=\"https://colab.research.google.com/github/sfdxlwcSs/python-Basics/blob/main/Basics.ipynb\" target=\"_parent\"><img src=\"https://colab.research.google.com/assets/colab-badge.svg\" alt=\"Open In Colab\"/></a>"
      ]
    },
    {
      "cell_type": "markdown",
      "metadata": {
        "id": "wIhQ3MYuhxPl"
      },
      "source": [
        "# Section One"
      ]
    },
    {
      "cell_type": "code",
      "execution_count": 4,
      "metadata": {
        "colab": {
          "base_uri": "https://localhost:8080/"
        },
        "id": "A1d_JtdjiEaD",
        "outputId": "f9762287-bab7-41c4-fc3e-dbd265f3afe2"
      },
      "outputs": [
        {
          "data": {
            "text/plain": [
              "9"
            ]
          },
          "execution_count": 4,
          "metadata": {},
          "output_type": "execute_result"
        }
      ],
      "source": [
        "2+2+5"
      ]
    },
    {
      "cell_type": "markdown",
      "metadata": {
        "id": "Dml9zT58iWmR"
      },
      "source": [
        "Print Statement"
      ]
    },
    {
      "cell_type": "code",
      "execution_count": 3,
      "metadata": {
        "colab": {
          "base_uri": "https://localhost:8080/"
        },
        "id": "KJ62N9ZtifM5",
        "outputId": "4ec307c0-2a7f-477d-a5f8-76986b4721fb"
      },
      "outputs": [
        {
          "name": "stdout",
          "output_type": "stream",
          "text": [
            "NSE Market\n"
          ]
        }
      ],
      "source": [
        "print(\"NSE Market\")"
      ]
    },
    {
      "cell_type": "code",
      "execution_count": 3,
      "metadata": {
        "colab": {
          "base_uri": "https://localhost:8080/"
        },
        "id": "o30q4-rYjZM6",
        "outputId": "4492f244-2a2f-4a42-b491-f28b2b4ce910"
      },
      "outputs": [
        {
          "name": "stdout",
          "output_type": "stream",
          "text": [
            "Python 4 Hello\n"
          ]
        }
      ],
      "source": [
        "print(\"Python\",2+2,'Hello')"
      ]
    },
    {
      "cell_type": "markdown",
      "metadata": {
        "id": "TiuL_neFjYvp"
      },
      "source": [
        "#single line commment\n"
      ]
    },
    {
      "cell_type": "code",
      "execution_count": 4,
      "metadata": {
        "id": "slgrdqN9j6Pl"
      },
      "outputs": [],
      "source": [
        "#I am single line comment"
      ]
    },
    {
      "cell_type": "markdown",
      "metadata": {},
      "source": [
        "# The General order of operations in Python, often remembered by the acronym PEMDAS/BODMAS (though some nuances exist):\n",
        "\n",
        "Parentheses (): Expressions inside parentheses are evaluated first.\n",
        "\n",
        "Exponents **: Exponentiation (raising to a power) is evaluated next, from right to left.\n",
        "\n",
        "Multiplication *, Division /, Floor Division //, Modulo %: These are evaluated from left to right.\n",
        "\n",
        "Addition +, Subtraction -: These are evaluated from left to right.\n",
        "\n",
        "Comparison Operators: <, >, <=, >=, ==, !=: These are evaluated next. Chained comparisons like a < b < c are evaluated specially (as discussed before, like (a < b) and (b < c)).\n",
        "\n",
        "Logical NOT not: This unary operator is evaluated next.\n",
        "\n",
        "Logical AND and: Evaluated from left to right.\n",
        "\n",
        "Logical OR or: Evaluated from left to right.\n",
        "\n",
        "Assignment Operators: =, +=, -=, *=, /=, etc.: These are usually evaluated last (though the expression on the right side is evaluated according to the rules above before the assignment).\n",
        "\n",
        "Mnemonic:\n",
        "\n",
        "Parentheses\n",
        "Exponents\n",
        "Multiplication, Division, Floor Division, Modulo (from left to right)\n",
        "Addition, Subtraction (from left to right)\n",
        "Or, using BODMAS:\n",
        "\n",
        "Brackets\n",
        "Orders (exponents/powers, square roots etc.)\n",
        "Division, Multiplication (from left to right)\n",
        "Addition, Subtraction (from left to right)\n",
        "Important Notes:\n",
        "\n",
        "Python's order is very similar to standard mathematical order of operations.\n",
        "You can always use parentheses to explicitly control the order of evaluation. This often makes code clearer even if the default order would produce the same result.\n",
        "Chained comparisons are a special case and are not strictly left-to-right application of binary comparison operators."
      ]
    },
    {
      "cell_type": "code",
      "execution_count": null,
      "metadata": {
        "id": "jUwzCcYUj-hU"
      },
      "outputs": [],
      "source": []
    }
  ],
  "metadata": {
    "colab": {
      "authorship_tag": "ABX9TyM/Z0wq1ZBEB8riWPu6mxu/",
      "include_colab_link": true,
      "provenance": []
    },
    "kernelspec": {
      "display_name": "Python 3",
      "name": "python3"
    },
    "language_info": {
      "codemirror_mode": {
        "name": "ipython",
        "version": 3
      },
      "file_extension": ".py",
      "mimetype": "text/x-python",
      "name": "python",
      "nbconvert_exporter": "python",
      "pygments_lexer": "ipython3",
      "version": "3.12.6"
    }
  },
  "nbformat": 4,
  "nbformat_minor": 0
}
