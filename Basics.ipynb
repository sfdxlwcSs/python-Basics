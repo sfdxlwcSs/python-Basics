{
  "cells": [
    {
      "cell_type": "markdown",
      "metadata": {
        "colab_type": "text",
        "id": "view-in-github"
      },
      "source": [
        "<a href=\"https://colab.research.google.com/github/sfdxlwcSs/python-Basics/blob/main/Basics.ipynb\" target=\"_parent\"><img src=\"https://colab.research.google.com/assets/colab-badge.svg\" alt=\"Open In Colab\"/></a>"
      ]
    },
    {
      "cell_type": "markdown",
      "metadata": {
        "id": "wIhQ3MYuhxPl"
      },
      "source": [
        "# Section One"
      ]
    },
    {
      "cell_type": "code",
      "execution_count": 4,
      "metadata": {
        "colab": {
          "base_uri": "https://localhost:8080/"
        },
        "id": "A1d_JtdjiEaD",
        "outputId": "f9762287-bab7-41c4-fc3e-dbd265f3afe2"
      },
      "outputs": [
        {
          "data": {
            "text/plain": [
              "9"
            ]
          },
          "execution_count": 4,
          "metadata": {},
          "output_type": "execute_result"
        }
      ],
      "source": [
        "2+2+5"
      ]
    },
    {
      "cell_type": "markdown",
      "metadata": {
        "id": "Dml9zT58iWmR"
      },
      "source": [
        "Print Statement"
      ]
    },
    {
      "cell_type": "code",
      "execution_count": 3,
      "metadata": {
        "colab": {
          "base_uri": "https://localhost:8080/"
        },
        "id": "KJ62N9ZtifM5",
        "outputId": "4ec307c0-2a7f-477d-a5f8-76986b4721fb"
      },
      "outputs": [
        {
          "name": "stdout",
          "output_type": "stream",
          "text": [
            "NSE Market\n"
          ]
        }
      ],
      "source": [
        "print(\"NSE Market\")"
      ]
    },
    {
      "cell_type": "code",
      "execution_count": 3,
      "metadata": {
        "colab": {
          "base_uri": "https://localhost:8080/"
        },
        "id": "o30q4-rYjZM6",
        "outputId": "4492f244-2a2f-4a42-b491-f28b2b4ce910"
      },
      "outputs": [
        {
          "name": "stdout",
          "output_type": "stream",
          "text": [
            "Python 4 Hello\n"
          ]
        }
      ],
      "source": [
        "print(\"Python\",2+2,'Hello')"
      ]
    },
    {
      "cell_type": "markdown",
      "metadata": {
        "id": "TiuL_neFjYvp"
      },
      "source": [
        "#single line commment\n"
      ]
    },
    {
      "cell_type": "code",
      "execution_count": 4,
      "metadata": {
        "id": "slgrdqN9j6Pl"
      },
      "outputs": [],
      "source": [
        "#I am single line comment"
      ]
    },
    {
      "cell_type": "markdown",
      "metadata": {},
      "source": [
        "# The General order of operations in Python, often remembered by the acronym PEMDAS/BODMAS (though some nuances exist):\n",
        "\n",
        "Parentheses (): Expressions inside parentheses are evaluated first.\n",
        "\n",
        "Exponents **: Exponentiation (raising to a power) is evaluated next, from right to left.\n",
        "\n",
        "Multiplication *, Division /, Floor Division //, Modulo %: These are evaluated from left to right.\n",
        "\n",
        "Addition +, Subtraction -: These are evaluated from left to right.\n",
        "\n",
        "Comparison Operators: <, >, <=, >=, ==, !=: These are evaluated next. Chained comparisons like a < b < c are evaluated specially (as discussed before, like (a < b) and (b < c)).\n",
        "\n",
        "Logical NOT not: This unary operator is evaluated next.\n",
        "\n",
        "Logical AND and: Evaluated from left to right.\n",
        "\n",
        "Logical OR or: Evaluated from left to right.\n",
        "\n",
        "Assignment Operators: =, +=, -=, *=, /=, etc.: These are usually evaluated last (though the expression on the right side is evaluated according to the rules above before the assignment).\n",
        "\n",
        "Mnemonic:\n",
        "\n",
        "Parentheses\n",
        "Exponents\n",
        "Multiplication, Division, Floor Division, Modulo (from left to right)\n",
        "Addition, Subtraction (from left to right)\n",
        "Or, using BODMAS:\n",
        "\n",
        "Brackets\n",
        "Orders (exponents/powers, square roots etc.)\n",
        "Division, Multiplication (from left to right)\n",
        "Addition, Subtraction (from left to right)\n",
        "Important Notes:\n",
        "\n",
        "Python's order is very similar to standard mathematical order of operations.\n",
        "You can always use parentheses to explicitly control the order of evaluation. This often makes code clearer even if the default order would produce the same result.\n",
        "Chained comparisons are a special case and are not strictly left-to-right application of binary comparison operators."
      ]
    },
    {
      "cell_type": "code",
      "execution_count": 1,
      "metadata": {
        "id": "jUwzCcYUj-hU"
      },
      "outputs": [
        {
          "name": "stdout",
          "output_type": "stream",
          "text": [
            "       Country  GDP per Capita (USD)  Population (millions)\n",
            "0   Bangladesh                  2500                  171.5\n",
            "1     Pakistan                  3000                  251.3\n",
            "2      Nigeria                  2200                  232.7\n",
            "3     Ethiopia                  1000                  132.1\n",
            "4  Philippines                  3500                  114.9\n",
            "5        Egypt                  4000                  114.5\n",
            "6     DR Congo                   500                  105.8\n",
            "7      Vietnam                  4000                  100.4\n",
            "8         Iran                  4500                   90.6\n",
            "9       Turkey                  5000                   87.3\n"
          ]
        }
      ],
      "source": [
        "import pandas as pd\n",
        "\n",
        "data = {\n",
        "    \"Country\": [\"Bangladesh\", \"Pakistan\", \"Nigeria\", \"Ethiopia\", \"Philippines\", \"Egypt\", \"DR Congo\", \"Vietnam\", \"Iran\", \"Turkey\"],\n",
        "    \"GDP per Capita (USD)\": [2500, 3000, 2200, 1000, 3500, 4000, 500, 4000, 4500, 5000],\n",
        "    \"Population (millions)\": [171.5, 251.3, 232.7, 132.1, 114.9, 114.5, 105.8, 100.4, 90.6, 87.3]\n",
        "}\n",
        "\n",
        "df = pd.DataFrame(data)\n",
        "print(df)\n"
      ]
    },
    {
      "cell_type": "markdown",
      "metadata": {},
      "source": [
        "Here are examples of how to represent thousand, billion, and trillion in Python using scientific notation:\n",
        "\n",
        "1. **Thousand**: \\(1,000\\) can be represented as `1e3`.\n",
        "   ```python\n",
        "   thousand = 1e3\n",
        "   print(thousand)  # Output: 1000.0\n",
        "   ```\n",
        "\n",
        "2. **Billion**: \\(1,000,000,000\\) can be represented as `1e9`.\n",
        "   ```python\n",
        "   billion = 1e9\n",
        "   print(billion)  # Output: 1000000000.0\n",
        "   ```\n",
        "\n",
        "3. **Trillion**: \\(1,000,000,000,000\\) can be represented as `1e12`.\n",
        "   ```python\n",
        "   trillion = 1e12\n",
        "   print(trillion)  # Output: 1000000000000.0\n",
        "   ```\n",
        "\n",
        "These examples show how you can use scientific notation to represent large numbers in Python. If you have any other questions or need further examples, feel free to ask!\n",
        "100e6 (which stands for 100 million)."
      ]
    },
    {
      "cell_type": "code",
      "execution_count": 4,
      "metadata": {},
      "outputs": [
        {
          "data": {
            "text/html": [
              "<div>\n",
              "<style scoped>\n",
              "    .dataframe tbody tr th:only-of-type {\n",
              "        vertical-align: middle;\n",
              "    }\n",
              "\n",
              "    .dataframe tbody tr th {\n",
              "        vertical-align: top;\n",
              "    }\n",
              "\n",
              "    .dataframe thead th {\n",
              "        text-align: right;\n",
              "    }\n",
              "</style>\n",
              "<table border=\"1\" class=\"dataframe\">\n",
              "  <thead>\n",
              "    <tr style=\"text-align: right;\">\n",
              "      <th></th>\n",
              "      <th>A</th>\n",
              "      <th>B</th>\n",
              "    </tr>\n",
              "  </thead>\n",
              "  <tbody>\n",
              "    <tr>\n",
              "      <th>0</th>\n",
              "      <td>1.0</td>\n",
              "      <td>NaN</td>\n",
              "    </tr>\n",
              "    <tr>\n",
              "      <th>1</th>\n",
              "      <td>2.0</td>\n",
              "      <td>2.0</td>\n",
              "    </tr>\n",
              "    <tr>\n",
              "      <th>2</th>\n",
              "      <td>NaN</td>\n",
              "      <td>3.0</td>\n",
              "    </tr>\n",
              "    <tr>\n",
              "      <th>3</th>\n",
              "      <td>4.0</td>\n",
              "      <td>4.0</td>\n",
              "    </tr>\n",
              "  </tbody>\n",
              "</table>\n",
              "</div>"
            ],
            "text/plain": [
              "     A    B\n",
              "0  1.0  NaN\n",
              "1  2.0  2.0\n",
              "2  NaN  3.0\n",
              "3  4.0  4.0"
            ]
          },
          "execution_count": 4,
          "metadata": {},
          "output_type": "execute_result"
        }
      ],
      "source": [
        "import pandas as pd\n",
        "data = {'A': [1, 2, None, 4], 'B': [None, 2, 3, 4]}\n",
        "df = pd.DataFrame(data)\n",
        "df\n",
        "\n"
      ]
    },
    {
      "cell_type": "code",
      "execution_count": 5,
      "metadata": {},
      "outputs": [
        {
          "name": "stdout",
          "output_type": "stream",
          "text": [
            "A    3\n",
            "B    3\n",
            "dtype: int64\n"
          ]
        }
      ],
      "source": [
        "print(df.count())  # Output: A    3, B    3"
      ]
    },
    {
      "cell_type": "code",
      "execution_count": 6,
      "metadata": {},
      "outputs": [
        {
          "name": "stdout",
          "output_type": "stream",
          "text": [
            "3.0    3\n",
            "2.0    2\n",
            "1.0    1\n",
            "Name: count, dtype: int64\n"
          ]
        }
      ],
      "source": [
        "import pandas as pd\n",
        "s = pd.Series([1, 2, 2, 3, 3, 3, None])\n",
        "print(s.value_counts())  # Output: 3.0    3, 2.0    2, 1.0    1\n"
      ]
    },
    {
      "cell_type": "code",
      "execution_count": 7,
      "metadata": {},
      "outputs": [
        {
          "name": "stdout",
          "output_type": "stream",
          "text": [
            "Value counts for column A:\n",
            "A\n",
            "3.0    3\n",
            "2.0    2\n",
            "1.0    1\n",
            "NaN    1\n",
            "Name: count, dtype: int64\n",
            "\n",
            "Value counts for column B:\n",
            "B\n",
            "cat    4\n",
            "dog    3\n",
            "Name: count, dtype: int64\n",
            "\n",
            "Value counts for column C:\n",
            "C\n",
            "True     4\n",
            "False    3\n",
            "Name: count, dtype: int64\n",
            "\n"
          ]
        }
      ],
      "source": [
        "import pandas as pd\n",
        "\n",
        "# Sample DataFrame\n",
        "data = {\n",
        "    'A': [1, 2, 2, 3, 3, 3, None],\n",
        "    'B': ['cat', 'dog', 'cat', 'dog', 'dog', 'cat', 'cat'],\n",
        "    'C': [True, False, True, True, False, False, True]\n",
        "}\n",
        "df = pd.DataFrame(data)\n",
        "\n",
        "# Applying value_counts() to each column\n",
        "for column in df.columns:\n",
        "    print(f\"Value counts for column {column}:\")\n",
        "    print(df[column].value_counts(dropna=False))\n",
        "    print()\n"
      ]
    },
    {
      "cell_type": "code",
      "execution_count": 24,
      "metadata": {},
      "outputs": [
        {
          "name": "stdout",
          "output_type": "stream",
          "text": [
            "     A\n",
            "    AA\n",
            "   AAA\n",
            "  AAAA\n",
            " AAAAA\n",
            "\n",
            "\n",
            "     A\n",
            "    AA\n",
            "   AAA\n",
            "  AAAA\n",
            " AAAAA\n",
            "     B\n",
            "    BB\n",
            "   BBB\n",
            "  BBBB\n",
            " BBBBB\n"
          ]
        }
      ],
      "source": [
        "print(' '*5+'A'*1)\n",
        "print(' '*4+'A'*2)\n",
        "print(' '*3+'A'*3)\n",
        "print(' '*2+'A'*4)\n",
        "print(' '*1+'A'*5)\n",
        "\n",
        "print('\\n')\n",
        "\n",
        "for i in range(1,6):\n",
        "    print(' '*(6-i)+'A'*i)\n",
        "\n",
        "x=1\n",
        "while x <= 5:\n",
        "    print(' '*(6-x)+'B'*x)\n",
        "    x += 1  "
      ]
    },
    {
      "cell_type": "code",
      "execution_count": 25,
      "metadata": {},
      "outputs": [
        {
          "data": {
            "text/plain": [
              "2.5"
            ]
          },
          "execution_count": 25,
          "metadata": {},
          "output_type": "execute_result"
        }
      ],
      "source": [
        "5/2 # division"
      ]
    },
    {
      "cell_type": "code",
      "execution_count": 26,
      "metadata": {},
      "outputs": [
        {
          "data": {
            "text/plain": [
              "2"
            ]
          },
          "execution_count": 26,
          "metadata": {},
          "output_type": "execute_result"
        }
      ],
      "source": [
        "5//2 # quotient"
      ]
    },
    {
      "cell_type": "code",
      "execution_count": 27,
      "metadata": {},
      "outputs": [
        {
          "data": {
            "text/plain": [
              "1"
            ]
          },
          "execution_count": 27,
          "metadata": {},
          "output_type": "execute_result"
        }
      ],
      "source": [
        "5%2 # remainder"
      ]
    },
    {
      "cell_type": "code",
      "execution_count": 28,
      "metadata": {},
      "outputs": [
        {
          "data": {
            "text/plain": [
              "'omnath Sharm'"
            ]
          },
          "execution_count": 28,
          "metadata": {},
          "output_type": "execute_result"
        }
      ],
      "source": [
        "a='Somnath Sharma'\n",
        "a[1:-1] # display from 1st to last-1"
      ]
    },
    {
      "cell_type": "code",
      "execution_count": 29,
      "metadata": {},
      "outputs": [
        {
          "data": {
            "text/plain": [
              "'Somnath Sharma'"
            ]
          },
          "execution_count": 29,
          "metadata": {},
          "output_type": "execute_result"
        }
      ],
      "source": [
        "a[:] # display all"
      ]
    },
    {
      "cell_type": "code",
      "execution_count": 30,
      "metadata": {},
      "outputs": [
        {
          "data": {
            "text/plain": [
              "'on'"
            ]
          },
          "execution_count": 30,
          "metadata": {},
          "output_type": "execute_result"
        }
      ],
      "source": [
        "a[1:5] # display from 1st to 5th-1\n",
        "a[1:5:2] # display from 1st to 5th-1 with step of 2"
      ]
    },
    {
      "cell_type": "code",
      "execution_count": 31,
      "metadata": {},
      "outputs": [
        {
          "data": {
            "text/plain": [
              "'Somnath Sharm'"
            ]
          },
          "execution_count": 31,
          "metadata": {},
          "output_type": "execute_result"
        }
      ],
      "source": [
        "a[:-1] # display from 0 to last-1"
      ]
    },
    {
      "cell_type": "code",
      "execution_count": null,
      "metadata": {},
      "outputs": [
        {
          "data": {
            "text/plain": [
              "'a'"
            ]
          },
          "execution_count": 32,
          "metadata": {},
          "output_type": "execute_result"
        }
      ],
      "source": [
        "a[-1] # display last character"
      ]
    },
    {
      "cell_type": "code",
      "execution_count": 34,
      "metadata": {},
      "outputs": [
        {
          "data": {
            "text/plain": [
              "'w3-school'"
            ]
          },
          "execution_count": 34,
          "metadata": {},
          "output_type": "execute_result"
        }
      ],
      "source": [
        "s1=\"w3\",\"school\"\n",
        "sep=\"-\"\n",
        "sep.join(s1) # join with separator"
      ]
    },
    {
      "cell_type": "code",
      "execution_count": 36,
      "metadata": {},
      "outputs": [
        {
          "name": "stdout",
          "output_type": "stream",
          "text": [
            "['Python', 'is', 'a', 'programming', 'language']\n"
          ]
        },
        {
          "data": {
            "text/plain": [
              "list"
            ]
          },
          "execution_count": 36,
          "metadata": {},
          "output_type": "execute_result"
        }
      ],
      "source": [
        "text=\"Python is a programming language\"\n",
        "print(text.split()) # split by space\n",
        "type(text.split()) # type of split  \n"
      ]
    },
    {
      "cell_type": "code",
      "execution_count": 58,
      "metadata": {},
      "outputs": [
        {
          "name": "stdout",
          "output_type": "stream",
          "text": [
            "range(1, 10)\n",
            "[1, 2, 3, 4, 5, 6, 7, 8, 9]\n",
            "0\n",
            "1\n",
            "2\n",
            "3\n",
            "4\n",
            "5\n",
            "6\n",
            "7\n",
            "8\n",
            "9\n"
          ]
        }
      ],
      "source": [
        "numbers=range(1,10)\n",
        "print(numbers) # display range\n",
        "print(list(numbers)) # display range in list\n",
        "for i in range(0,10):\n",
        "    print(i) # display range in loop"
      ]
    },
    {
      "cell_type": "code",
      "execution_count": 40,
      "metadata": {},
      "outputs": [
        {
          "name": "stdout",
          "output_type": "stream",
          "text": [
            "1\n",
            "2\n",
            "4\n",
            "4\n",
            "5\n"
          ]
        },
        {
          "data": {
            "text/plain": [
              "2"
            ]
          },
          "execution_count": 40,
          "metadata": {},
          "output_type": "execute_result"
        }
      ],
      "source": [
        "List=['1','2','4','4','5']\n",
        "for i in List:\n",
        "    print(i) # display list\n",
        "\n",
        "List.count('4') # count of 4 in list"
      ]
    },
    {
      "cell_type": "code",
      "execution_count": 44,
      "metadata": {},
      "outputs": [
        {
          "data": {
            "text/plain": [
              "2"
            ]
          },
          "execution_count": 44,
          "metadata": {},
          "output_type": "execute_result"
        }
      ],
      "source": [
        "List.index('4') # index of 4 in list\n"
      ]
    },
    {
      "cell_type": "code",
      "execution_count": 50,
      "metadata": {},
      "outputs": [
        {
          "name": "stdout",
          "output_type": "stream",
          "text": [
            "['1', '2', '3', '4', '5', '6']\n",
            "['1', '2', '3', '4', '5', '6', '7']\n"
          ]
        }
      ],
      "source": [
        "# conceatenate two lists\n",
        "List1=['1','2','3']\n",
        "List2=['4','5','6']\n",
        "List3=List1+List2\n",
        "print(List3) # display list \n",
        "List3.append('7') # append 7 to list\n",
        "print(List3) # display list\n",
        "List3.insert(2,'8') # insert 8 at index 2\n",
        "List3.pop(2) # remove 8 from index 2\n",
        "List3.append('9') # add 9 to the end of list"
      ]
    },
    {
      "cell_type": "code",
      "execution_count": 51,
      "metadata": {},
      "outputs": [],
      "source": [
        "# delete List\n",
        "del List3 # delete List3"
      ]
    },
    {
      "cell_type": "code",
      "execution_count": 54,
      "metadata": {},
      "outputs": [
        {
          "name": "stdout",
          "output_type": "stream",
          "text": [
            "['A', 'Quick', 'Brown', 'Brown', 'Fox', 'Jumps', 'over', 'the', 'Lazy', 'Dog']\n",
            "{'a': 1, 'quick': 1, 'brown': 2, 'fox': 1, 'jumps': 1, 'over': 1, 'the': 1, 'lazy': 1, 'dog': 1}\n"
          ]
        }
      ],
      "source": [
        "# Using Dictionary Objects\n",
        "\n",
        "# Define a variable\n",
        "my_text = \"A Quick Brown Brown Fox Jumps over the Lazy Dog\"\n",
        "\n",
        "# See how split() works\n",
        "print(my_text.split())\n",
        "# Output: ['A', 'Quick', 'Brown', 'Fox', 'Jumps', 'over', 'the', 'Lazy', 'Dog']\n",
        "\n",
        "# Initialize a dictionary object\n",
        "# Use {} curly brackets to construct a dictionary object\n",
        "my_dictionary = {}\n",
        "\n",
        "# We will perform a word count using the dictionary object\n",
        "for word in my_text.lower().split():\n",
        "    if word not in my_dictionary:\n",
        "        my_dictionary[word] = 1\n",
        "    else:\n",
        "        my_dictionary[word] += 1\n",
        "\n",
        "# The above code builds a frequency table for every word\n",
        "\n",
        "# Print the output\n",
        "# Output is key-value pair\n",
        "print(my_dictionary)\n",
        "# Output: {'a': 1, 'quick': 1, 'brown': 1, 'fox': 1, 'jumps': 1, 'over': 1, 'the': 1, 'lazy': 1, 'dog': 1}"
      ]
    },
    {
      "cell_type": "code",
      "execution_count": 57,
      "metadata": {},
      "outputs": [
        {
          "name": "stdout",
          "output_type": "stream",
          "text": [
            "a 1\n",
            "quick 1\n",
            "brown 2\n",
            "fox 1\n",
            "jumps 1\n",
            "over 1\n",
            "the 1\n",
            "lazy 1\n",
            "dog 1\n"
          ]
        }
      ],
      "source": [
        "for key,value in my_dictionary.items():\n",
        "    print(key, value)"
      ]
    },
    {
      "cell_type": "code",
      "execution_count": 56,
      "metadata": {},
      "outputs": [
        {
          "name": "stdout",
          "output_type": "stream",
          "text": [
            "defaultdict(<class 'int'>, {'a': 1, 'quick': 1, 'brown': 2, 'fox': 1, 'jumps': 1, 'over': 1, 'the': 1, 'lazy': 1, 'dog': 1})\n"
          ]
        }
      ],
      "source": [
        "from collections import defaultdict\n",
        "# Initialize a dictionary object\n",
        "my_dictionary2 = defaultdict(int)\n",
        "# We will perform a word count using the dictionary object\n",
        "for word in my_text.lower().split():\n",
        "    my_dictionary2[word] += 1\n",
        "# The above code builds a frequency table for every word\n",
        "# Print the output  \n",
        "# Output is key-value pair\n",
        "print(my_dictionary2)\n"
      ]
    },
    {
      "cell_type": "code",
      "execution_count": null,
      "metadata": {},
      "outputs": [
        {
          "name": "stdout",
          "output_type": "stream",
          "text": [
            "['P', 'i', 'a', 'p', 'l']\n"
          ]
        }
      ],
      "source": [
        "words=['Python','is','a','programming','language']\n",
        "op=[word[0] for word in words] # list comprehension\n",
        "print(op) # display first letter of each word"
      ]
    },
    {
      "cell_type": "code",
      "execution_count": 60,
      "metadata": {},
      "outputs": [
        {
          "name": "stdout",
          "output_type": "stream",
          "text": [
            "[0, 1, 2]\n"
          ]
        }
      ],
      "source": [
        "my_colors = ['red', 'green', 'blue']\n",
        "op2=[0 if color=='red' else 1 if color=='green' else 2 for color in my_colors]\n",
        "print(op2) # display 0 for red, 1 for green, 2 for blue"
      ]
    },
    {
      "cell_type": "code",
      "execution_count": 62,
      "metadata": {},
      "outputs": [
        {
          "name": "stdout",
          "output_type": "stream",
          "text": [
            "None\n"
          ]
        }
      ],
      "source": [
        "def empty_fn(x):\n",
        "    x=5\n",
        "    return\n",
        "\n",
        "result=empty_fn(10) # function with no return value\n",
        "print(result) # display None"
      ]
    },
    {
      "cell_type": "code",
      "execution_count": 67,
      "metadata": {},
      "outputs": [
        {
          "name": "stdout",
          "output_type": "stream",
          "text": [
            "20\n"
          ]
        }
      ],
      "source": [
        "fun=lambda x,y:x if x>y else y\n",
        "print(fun(10,20)) # display 20"
      ]
    },
    {
      "cell_type": "code",
      "execution_count": 63,
      "metadata": {},
      "outputs": [
        {
          "name": "stdout",
          "output_type": "stream",
          "text": [
            "[2, 4, 6, 8]\n",
            "[10, 12, 14, 16, 18]\n",
            "(20, 22, 24)\n"
          ]
        }
      ],
      "source": [
        "sample_list = [1, 2, 3, 4]\n",
        "sample_list2 = [5, 6, 7, 8, 9]\n",
        "sample_tuple = (10, 11, 12)\n",
        "\n",
        "seq_list1 = list(map(lambda x: x * 2, sample_list))\n",
        "seq_list2 = list(map(lambda x: x * 2, sample_list2))\n",
        "seq_tuple = tuple(map(lambda x: x * 2, sample_tuple))\n",
        "\n",
        "print(seq_list1)   # Output: [2, 4, 6, 8]\n",
        "print(seq_list2)   # Output: [10, 12, 14, 16, 18]\n",
        "print(seq_tuple)   # Output: (20, 22, 24)"
      ]
    },
    {
      "cell_type": "markdown",
      "metadata": {},
      "source": [
        "Here, the iterable you're passing to map() is a tuple containing the lists and the tuple themselves: (sample_list, sample_list2, sample_tuple).\n",
        "\n",
        "The lambda x: x*2 function is then applied to each item in this tuple. What are the items? They are the entire lists and the entire tuple.\n",
        "\n",
        "When you multiply a list or a tuple by an integer in Python, it doesn't perform element-wise multiplication. Instead, it creates a new list or tuple by repeating the original sequence that many times."
      ]
    },
    {
      "cell_type": "code",
      "execution_count": 65,
      "metadata": {},
      "outputs": [
        {
          "data": {
            "text/plain": [
              "[[1, 2, 3, 4, 1, 2, 3, 4],\n",
              " [5, 6, 7, 8, 9, 5, 6, 7, 8, 9],\n",
              " (10, 11, 12, 10, 11, 12)]"
            ]
          },
          "execution_count": 65,
          "metadata": {},
          "output_type": "execute_result"
        }
      ],
      "source": [
        "seq = list(map(lambda x: x*2, (sample_list, sample_list2, sample_tuple)))\n",
        "seq"
      ]
    },
    {
      "cell_type": "code",
      "execution_count": 69,
      "metadata": {},
      "outputs": [
        {
          "name": "stdout",
          "output_type": "stream",
          "text": [
            "[1. 3. 5. 7. 9.]\n"
          ]
        }
      ],
      "source": [
        "import numpy as np\n",
        "num=np.arange(1,10,2,dtype=float) # create array with start, stop, step\n",
        "print(num) # display array"
      ]
    },
    {
      "cell_type": "code",
      "execution_count": 70,
      "metadata": {},
      "outputs": [
        {
          "name": "stdout",
          "output_type": "stream",
          "text": [
            "[[1 2 3]\n",
            " [4 5 6]\n",
            " [7 8 9]]\n"
          ]
        }
      ],
      "source": [
        "arr=np.array([[1,2,3],[4,5,6],[7,8,9]]) # create 2D array\n",
        "print(arr) # display array"
      ]
    },
    {
      "cell_type": "code",
      "execution_count": 71,
      "metadata": {},
      "outputs": [
        {
          "data": {
            "text/plain": [
              "2"
            ]
          },
          "execution_count": 71,
          "metadata": {},
          "output_type": "execute_result"
        }
      ],
      "source": [
        "arr.ndim"
      ]
    },
    {
      "cell_type": "code",
      "execution_count": 72,
      "metadata": {},
      "outputs": [
        {
          "data": {
            "text/plain": [
              "(3, 3)"
            ]
          },
          "execution_count": 72,
          "metadata": {},
          "output_type": "execute_result"
        }
      ],
      "source": [
        "arr.shape # display shape of array"
      ]
    },
    {
      "cell_type": "code",
      "execution_count": 76,
      "metadata": {},
      "outputs": [
        {
          "name": "stdout",
          "output_type": "stream",
          "text": [
            "[[4 3 4]\n",
            " [1 2 3]\n",
            " [1 2 3]]\n",
            "(3, 3)\n",
            "2\n",
            "Size 9\n"
          ]
        }
      ],
      "source": [
        "arr2=np.array([(4,3,4),(1,2,3),(1,2,3)]) # create 2D array\n",
        "print(arr2) # display array\n",
        "print(arr2.shape) # display shape of array\n",
        "print(arr2.ndim) # display dimension of array\n",
        "print('Size',arr2.size) # display size of array"
      ]
    },
    {
      "cell_type": "code",
      "execution_count": 79,
      "metadata": {},
      "outputs": [
        {
          "data": {
            "text/plain": [
              "array([[4, 3, 4],\n",
              "       [1, 2, 3],\n",
              "       [1, 2, 3]])"
            ]
          },
          "execution_count": 79,
          "metadata": {},
          "output_type": "execute_result"
        }
      ],
      "source": [
        "arr2.dtype # display data type of array\n",
        "arr2.astype('int') # convert to int32"
      ]
    },
    {
      "cell_type": "code",
      "execution_count": 82,
      "metadata": {},
      "outputs": [
        {
          "data": {
            "text/plain": [
              "array([[4, 3],\n",
              "       [1, 2]])"
            ]
          },
          "execution_count": 82,
          "metadata": {},
          "output_type": "execute_result"
        }
      ],
      "source": [
        "arr2[0:2,0:2] # display 0 to 2nd row and 0 to 2nd column"
      ]
    },
    {
      "cell_type": "code",
      "execution_count": null,
      "metadata": {},
      "outputs": [
        {
          "data": {
            "text/plain": [
              "array([[4, 3, 4],\n",
              "       [1, 2, 3]])"
            ]
          },
          "execution_count": 92,
          "metadata": {},
          "output_type": "execute_result"
        }
      ],
      "source": [
        "arr2[::2] # display alternate rows\n"
      ]
    },
    {
      "cell_type": "code",
      "execution_count": 93,
      "metadata": {},
      "outputs": [
        {
          "data": {
            "text/plain": [
              "array([[4, 4],\n",
              "       [1, 3]])"
            ]
          },
          "execution_count": 93,
          "metadata": {},
          "output_type": "execute_result"
        }
      ],
      "source": [
        "arr2[::2,::2] # display alternate rows and columns"
      ]
    },
    {
      "cell_type": "code",
      "execution_count": null,
      "metadata": {},
      "outputs": [
        {
          "data": {
            "text/plain": [
              "np.int64(3)"
            ]
          },
          "execution_count": 83,
          "metadata": {},
          "output_type": "execute_result"
        }
      ],
      "source": [
        "arr2[0][1] # display 0th row and 1st column"
      ]
    },
    {
      "cell_type": "code",
      "execution_count": 86,
      "metadata": {},
      "outputs": [
        {
          "data": {
            "text/plain": [
              "array([1, 2, 3])"
            ]
          },
          "execution_count": 86,
          "metadata": {},
          "output_type": "execute_result"
        }
      ],
      "source": [
        "a1d = np.array([1, 2, 3, 4, 5])\n",
        "a1d[0:3] # display 0 to 3rd element\n"
      ]
    },
    {
      "cell_type": "code",
      "execution_count": 87,
      "metadata": {},
      "outputs": [],
      "source": [
        "a1d[0:3] = 10 # assign 10 to 0 to 3rd element"
      ]
    },
    {
      "cell_type": "code",
      "execution_count": 88,
      "metadata": {},
      "outputs": [
        {
          "data": {
            "text/plain": [
              "array([10, 10, 10,  4,  5])"
            ]
          },
          "execution_count": 88,
          "metadata": {},
          "output_type": "execute_result"
        }
      ],
      "source": [
        "a1d"
      ]
    },
    {
      "cell_type": "code",
      "execution_count": null,
      "metadata": {},
      "outputs": [
        {
          "data": {
            "text/plain": [
              "array([10, 10])"
            ]
          },
          "execution_count": 89,
          "metadata": {},
          "output_type": "execute_result"
        }
      ],
      "source": [
        "a1d[:2] # display 0 to 2nd element"
      ]
    },
    {
      "cell_type": "code",
      "execution_count": 91,
      "metadata": {},
      "outputs": [
        {
          "data": {
            "text/plain": [
              "array([10, 10,  5])"
            ]
          },
          "execution_count": 91,
          "metadata": {},
          "output_type": "execute_result"
        }
      ],
      "source": [
        "a1d[::2] "
      ]
    },
    {
      "cell_type": "markdown",
      "metadata": {},
      "source": [
        "Use element-wise multiplication (*) when you want to multiply corresponding elements of arrays with the same shape.\n",
        "Use dot product (np.dot() or @) for vector-vector inner products or matrix multiplication, where the dimensions must be compatible according to the rules of linear algebra."
      ]
    },
    {
      "cell_type": "code",
      "execution_count": 94,
      "metadata": {},
      "outputs": [
        {
          "name": "stdout",
          "output_type": "stream",
          "text": [
            "a    1\n",
            "b    2\n",
            "c    3\n",
            "d    4\n",
            "e    5\n",
            "dtype: int64\n"
          ]
        }
      ],
      "source": [
        "new_series=pd.Series(np.array([1,2,3,4,5]),index=['a','b','c','d','e']) # create series with index\n",
        "print(new_series) # display series"
      ]
    },
    {
      "cell_type": "code",
      "execution_count": 95,
      "metadata": {},
      "outputs": [
        {
          "name": "stdout",
          "output_type": "stream",
          "text": [
            "a    1\n",
            "b    2\n",
            "c    3\n",
            "d    4\n",
            "e    5\n",
            "dtype: int64\n"
          ]
        }
      ],
      "source": [
        "my_dic={'a':1,'b':2,'c':3,'d':4,'e':5}\n",
        "new_series2=pd.Series(my_dic) # create series from dictionary\n",
        "print(new_series2) # display series"
      ]
    },
    {
      "cell_type": "code",
      "execution_count": 96,
      "metadata": {},
      "outputs": [
        {
          "name": "stdout",
          "output_type": "stream",
          "text": [
            "[1, 1, 2, 3, 4, 5, 6, 9]\n",
            "[9, 6, 5, 4, 3, 2, 1, 1]\n",
            "['date', 'apple', 'banana', 'cherry']\n",
            "[3, 1, 4, 1, 5, 9, 2, 6]\n",
            "[1, 1, 2, 3, 4, 5, 6, 9]\n",
            "(5, 2, 8, 1, 9)\n",
            "[1, 2, 5, 8, 9]\n",
            "hello\n",
            "['e', 'h', 'l', 'l', 'o']\n"
          ]
        }
      ],
      "source": [
        "# Both sort() and sorted() are used to sort lists in Python, but they have some key differences:1. sort() methodApplies to: Only lists.Modifies: The original list in place.  It doesn't return a new list; it returns None.Usage: list.sort(key=..., reverse=...)\n",
        "# Example:\n",
        "my_list = [3, 1, 4, 1, 5, 9, 2, 6]\n",
        "my_list.sort()  # Sorts the list in place\n",
        "print(my_list)    # Output: [1, 1, 2, 3, 4, 5, 6, 9]\n",
        "\n",
        "my_list.sort(reverse=True)  # Sort in descending order\n",
        "print(my_list)    # Output: [9, 6, 5, 4, 3, 2, 1, 1]\n",
        "\n",
        "my_list = ['apple', 'banana', 'cherry', 'date']\n",
        "my_list.sort(key=len)  # Sort by length of the strings\n",
        "print(my_list)    # Output: ['date', 'apple', 'banana', 'cherry']\n",
        "# 2. sorted() functionApplies to: Any iterable (lists, tuples, strings, dictionaries, etc.).Modifies: Does not modify the original iterable. \n",
        "# Returns a new sorted list.Usage: sorted(iterable, key=..., reverse=...)\n",
        "\n",
        "my_list = [3, 1, 4, 1, 5, 9, 2, 6]\n",
        "new_list = sorted(my_list)  # Returns a new sorted list\n",
        "print(my_list)    # Output: [3, 1, 4, 1, 5, 9, 2, 6] (original is unchanged)\n",
        "print(new_list)    # Output: [1, 1, 2, 3, 4, 5, 6, 9]\n",
        "\n",
        "my_tuple = (5, 2, 8, 1, 9)\n",
        "sorted_tuple = sorted(my_tuple)  # Returns a new sorted list\n",
        "print(my_tuple)      # Output: (5, 2, 8, 1, 9) (original is unchanged)\n",
        "print(sorted_tuple)  # Output: [1, 2, 5, 8, 9]\n",
        "\n",
        "my_string = \"hello\"\n",
        "sorted_string = sorted(my_string) # Returns a new sorted list of characters\n",
        "print(my_string)    # Output: hello (original is unchanged)\n",
        "print(sorted_string)  # Output: ['e', 'h', 'l', 'l', 'o']\n",
        "#Key Parameters for both sort() and sorted():key:  A function that serves as a key for the sort comparison.  The items are sorted based on the result of this function applied to each item.reverse: A boolean value. If True, the list is sorted in descending order.When to use which:Use list.sort() when you want to modify the original list in place and don't need a new sorted list.  It's generally more efficient if you don't need to keep the original order.Use sorted(iterable) when you want to get a new sorted list without modifying the original iterable, or when you're working with an iterable other than a list (like a tuple or string)."
      ]
    },
    {
      "cell_type": "markdown",
      "metadata": {},
      "source": [
        "String Immutability\n",
        "\n",
        "In Python, a string is considered an immutable data type. This means that once a string is created, its contents cannot be changed. You can't modify a string in place.\n",
        "\n",
        "Here's a breakdown of what that means:\n",
        "\n",
        "Cannot be changed directly: You can't alter individual characters within an existing string.\n",
        "New strings are created: Any operation that appears to modify a string (e.g., concatenation, slicing with modification) actually creates a brand new string object in memory. The original string remains unchanged.\n",
        "Efficiency: Immutability can offer some performance benefits in certain situations, as Python can optimize memory allocation and handling of immutable objects."
      ]
    },
    {
      "cell_type": "code",
      "execution_count": 97,
      "metadata": {},
      "outputs": [
        {
          "name": "stdout",
          "output_type": "stream",
          "text": [
            "hello world\n",
            "hello\n",
            "heJlo\n",
            "hello\n"
          ]
        }
      ],
      "source": [
        "my_string = \"hello\"\n",
        "\n",
        "# Attempting to change a character directly will result in an error\n",
        "# my_string[0] = 'j'  # This will raise a TypeError: 'str' object does not support item assignment\n",
        "\n",
        "# Concatenation creates a new string\n",
        "new_string = my_string + \" world\"\n",
        "print(new_string)  # Output: hello world\n",
        "print(my_string)   # Output: hello (the original string is unchanged)\n",
        "\n",
        "# Slicing and \"modification\" also create a new string\n",
        "modified_string = my_string[:2] + \"J\" + my_string[3:]\n",
        "print(modified_string)  # Output: heJlo\n",
        "print(my_string)        # Output: hello (the original string is unchanged)"
      ]
    },
    {
      "cell_type": "markdown",
      "metadata": {},
      "source": [
        "Lists in Python are mutable. This means that once a list is created, you can change its contents directly. You can add, remove, or modify elements within an existing list without creating a new list object (though some operations might implicitly create new lists).   \n",
        "\n"
      ]
    },
    {
      "cell_type": "code",
      "execution_count": 99,
      "metadata": {},
      "outputs": [
        {
          "name": "stdout",
          "output_type": "stream",
          "text": [
            "Original list: [1, 2, 3, 4]\n",
            "List after changing element at index 0: [10, 2, 3, 4]\n",
            "List after appending: [10, 2, 3, 4, 5]\n",
            "List after deleting element at index 1: [10, 3, 4, 5]\n",
            "List after extending: [10, 3, 4, 5, 6, 7]\n"
          ]
        }
      ],
      "source": [
        "# Lists are mutable\n",
        "my_list = [1, 2, 3, 4]\n",
        "print(f\"Original list: {my_list}\")\n",
        "\n",
        "# You can change an element by index\n",
        "my_list[0] = 10\n",
        "print(f\"List after changing element at index 0: {my_list}\")  # Output: [10, 2, 3, 4]\n",
        "\n",
        "# You can add elements\n",
        "my_list.append(5)\n",
        "print(f\"List after appending: {my_list}\")  # Output: [10, 2, 3, 4, 5]\n",
        "\n",
        "# You can remove elements\n",
        "del my_list[1]\n",
        "print(f\"List after deleting element at index 1: {my_list}\")  # Output: [10, 3, 4, 5]\n",
        "\n",
        "# You can extend the list\n",
        "my_list.extend([6, 7])\n",
        "print(f\"List after extending: {my_list}\")  # Output: [10, 3, 4, 5, 6, 7]"
      ]
    },
    {
      "cell_type": "markdown",
      "metadata": {},
      "source": [
        "Cross tables are used to analyze the association between categorical variables. You can use the numbers in the table to calculate various statistics, such as chi-square, to test the statistical significance of the relationship.\n",
        "Cross Table (Crosstabulation)\n",
        "\n",
        "A cross table is a table that displays the frequency distribution of two or more categorical variables. It shows how these variables relate to each other. It's a fundamental tool for examining relationships between categorical data.\n",
        "\n",
        "Key Points\n",
        "\n",
        "Categorical Variables: Cross tables are used with variables that have a limited number of distinct categories or groups (e.g., gender, education level, region, opinion).\n",
        "\n",
        "Frequency Distribution: The table shows how many observations fall into each combination of categories.\n",
        "\n",
        "Relationship: By examining the patterns in the table, you can gain insights into whether there's an association between the variables."
      ]
    },
    {
      "cell_type": "code",
      "execution_count": 100,
      "metadata": {},
      "outputs": [
        {
          "name": "stdout",
          "output_type": "stream",
          "text": [
            "Product  A  B  C\n",
            "Gender          \n",
            "Female   2  3  1\n",
            "Male     2  1  3\n"
          ]
        }
      ],
      "source": [
        "import pandas as pd\n",
        "\n",
        "# Sample data in a dictionary\n",
        "data = {\n",
        "    'Gender': ['Female', 'Female', 'Female', 'Female', 'Female', 'Female', 'Male', 'Male', 'Male', 'Male', 'Male', 'Male'],\n",
        "    'Product': ['A', 'B', 'B', 'A', 'B', 'C', 'A', 'A', 'C', 'B', 'C', 'C']\n",
        "}\n",
        "\n",
        "# Create a DataFrame\n",
        "df = pd.DataFrame(data)\n",
        "\n",
        "# Create a cross table\n",
        "cross_table = pd.crosstab(df['Gender'], df['Product'])\n",
        "\n",
        "# Print the cross table\n",
        "print(cross_table)"
      ]
    },
    {
      "cell_type": "code",
      "execution_count": null,
      "metadata": {},
      "outputs": [],
      "source": [
        "# A pivot table is a powerful tool in data analysis that allows you to summarize, aggregate, and reorganize data in a DataFrame. \n",
        "# It helps you transform data into a more meaningful format by grouping and aggregating values based on specified criteria.\n",
        "\n",
        "# ### Key Features of Pivot Tables:\n",
        "# 1. **Grouping**: You can group data based on one or more columns.\n",
        "# 2. **Aggregation**: You can perform various aggregation functions like sum, mean, count, etc., on grouped data.\n",
        "# 3. **Reorganization**: You can rearrange data to make it easier to analyze.\n",
        "\n",
        "# ### Example Usage\n",
        "# Let's create a pivot table using a sample DataFrame:\n",
        "\n",
        "\n",
        "import pandas as pd\n",
        "\n",
        "# Sample DataFrame\n",
        "data = {\n",
        "    'Date': ['2025-05-01', '2025-05-01', '2025-05-02', '2025-05-02', '2025-05-03'],\n",
        "    'Category': ['A', 'B', 'A', 'B', 'A'],\n",
        "    'Sales': [100, 150, 200, 250, 300]\n",
        "}\n",
        "df = pd.DataFrame(data)\n",
        "\n",
        "# Creating a pivot table\n",
        "pivot_table = df.pivot_table(values='Sales', index='Date', columns='Category', aggfunc='sum')\n",
        "print(pivot_table)\n",
        "# ```\n",
        "\n",
        "# ### Output\n",
        "# ```\n",
        "# Category        A      B\n",
        "# Date                    \n",
        "# 2025-05-01  100.0  150.0\n",
        "# 2025-05-02  200.0  250.0\n",
        "# 2025-05-03  300.0    NaN\n",
        "```\n",
        "\n",
        "### Explanation:\n",
        "# - **values='Sales'**: Specifies the column to aggregate.\n",
        "# - **index='Date'**: Specifies the column to group by (rows).\n",
        "# - **columns='Category'**: Specifies the column to group by (columns).\n",
        "# - **aggfunc='sum'**: Specifies the aggregation function (sum in this case).\n",
        "\n",
        "# ### Aggregation Functions:\n",
        "# You can use various aggregation functions like:\n",
        "# - `sum`: Sum of values.\n",
        "# - `mean`: Average of values.\n",
        "# - `count`: Count of values.\n",
        "# - `min`: Minimum value.\n",
        "# - `max`: Maximum value.\n",
        "\n",
        "# ### Customizing Pivot Tables:\n",
        "# You can customize pivot tables further by adding multiple indices or columns, and using different aggregation functions.\n",
        "\n"
      ]
    },
    {
      "cell_type": "code",
      "execution_count": 102,
      "metadata": {},
      "outputs": [
        {
          "data": {
            "text/plain": [
              "7"
            ]
          },
          "execution_count": 102,
          "metadata": {},
          "output_type": "execute_result"
        }
      ],
      "source": [
        "import random\n",
        "\n",
        "random.randint(5, 9)"
      ]
    },
    {
      "cell_type": "code",
      "execution_count": 103,
      "metadata": {},
      "outputs": [
        {
          "name": "stdout",
          "output_type": "stream",
          "text": [
            "\n",
            "Student Marks System Menu:\n",
            "1. Add a new student\n",
            "2. Update student marks\n",
            "3. Calculate average marks\n",
            "4. Display all students\n",
            "5. Exit\n",
            "\n",
            "Student Marks System Menu:\n",
            "1. Add a new student\n",
            "2. Update student marks\n",
            "3. Calculate average marks\n",
            "4. Display all students\n",
            "5. Exit\n",
            "\n",
            "Student Marks System Menu:\n",
            "1. Add a new student\n",
            "2. Update student marks\n",
            "3. Calculate average marks\n",
            "4. Display all students\n",
            "5. Exit\n"
          ]
        }
      ],
      "source": [
        "def add_student(students):\n",
        "    \"\"\"Adds a new student with their name and marks.\"\"\"\n",
        "    name = input(\"Enter student name: \")\n",
        "    marks = float(input(\"Enter student marks: \"))  # Use float for marks\n",
        "    students[name] = marks\n",
        "\n",
        "def update_marks(students):\n",
        "    \"\"\"Updates the marks of an existing student.\"\"\"\n",
        "    name = input(\"Enter student name to update: \")\n",
        "    if name in students:\n",
        "        new_marks = float(input(\"Enter new marks: \"))  # Use float for marks\n",
        "        students[name] = new_marks\n",
        "    else:\n",
        "        print(\"Student not found.\")\n",
        "\n",
        "def calculate_average_marks(students):\n",
        "    \"\"\"Calculates the average marks of all students.\"\"\"\n",
        "    if not students:  # Check if the dictionary is empty\n",
        "        return 0.0  # Return 0.0 for empty dictionary to avoid error\n",
        "    total_marks = sum(students.values())\n",
        "    return total_marks / len(students)\n",
        "\n",
        "def display_students(students):\n",
        "    \"\"\"Displays all student names with their marks.\"\"\"\n",
        "    if not students:\n",
        "        print(\"No students to display.\")\n",
        "        return\n",
        "    print(\"Student Marks:\")\n",
        "    for name, marks in students.items():\n",
        "        print(f\"{name}: {marks}\")\n",
        "\n",
        "# Main program\n",
        "students = {}  # Use a dictionary to store student names and marks\n",
        "\n",
        "while True:\n",
        "    print(\"\\nStudent Marks System Menu:\")\n",
        "    print(\"1. Add a new student\")\n",
        "    print(\"2. Update student marks\")\n",
        "    print(\"3. Calculate average marks\")\n",
        "    print(\"4. Display all students\")\n",
        "    print(\"5. Exit\")\n",
        "\n",
        "    choice = input(\"Enter your choice: \")\n",
        "\n",
        "    if choice == '1':\n",
        "        add_student(students)\n",
        "    elif choice == '2':\n",
        "        update_marks(students)\n",
        "    elif choice == '3':\n",
        "        average = calculate_average_marks(students)\n",
        "        print(f\"Average marks: {average:.2f}\")  # Format the output\n",
        "    elif choice == '4':\n",
        "        display_students(students)\n",
        "    elif choice == '5':\n",
        "        break\n",
        "    else:\n",
        "        print(\"Invalid choice. Please try again.\")"
      ]
    },
    {
      "cell_type": "code",
      "execution_count": 104,
      "metadata": {},
      "outputs": [
        {
          "data": {
            "text/plain": [
              "{'ss': 1.0, 'dd': 3.0}"
            ]
          },
          "execution_count": 104,
          "metadata": {},
          "output_type": "execute_result"
        }
      ],
      "source": [
        "students"
      ]
    },
    {
      "cell_type": "code",
      "execution_count": 108,
      "metadata": {},
      "outputs": [
        {
          "name": "stdout",
          "output_type": "stream",
          "text": [
            "2\n",
            "2\n"
          ]
        }
      ],
      "source": [
        "n=202\n",
        "a=str(n)\n",
        "b=a[-1]\n",
        "print(b) # display last digit\n",
        "print(a[0])"
      ]
    },
    {
      "cell_type": "markdown",
      "metadata": {},
      "source": [
        "palindrome"
      ]
    },
    {
      "cell_type": "code",
      "execution_count": 110,
      "metadata": {},
      "outputs": [
        {
          "name": "stdout",
          "output_type": "stream",
          "text": [
            "54321\n"
          ]
        }
      ],
      "source": [
        "n = 12345\n",
        "reversed_string = str(n)[::-1]\n",
        "print(reversed_string)  # Output: '54321'\n"
      ]
    },
    {
      "cell_type": "markdown",
      "metadata": {},
      "source": [
        "String Slicing in Python\n",
        "String slicing allows you to access a portion of a string using a specific syntax: string[start:end:step].\n",
        "\n",
        "start: The starting index of the slice.\n",
        "end: The ending index of the slice (not included in the slice).\n",
        "step: The step size, which determines how the slice is taken.\n",
        "Reversing a String with [::-1]\n",
        "str(n)[::-1]: This syntax uses slicing to reverse the string.\n",
        "start: Not specified, so it defaults to the beginning of the string.\n",
        "end: Not specified, so it defaults to the end of the string.\n",
        "step: -1, which means the slice is taken from end to start, effectively reversing the string."
      ]
    },
    {
      "cell_type": "code",
      "execution_count": 109,
      "metadata": {},
      "outputs": [
        {
          "name": "stdout",
          "output_type": "stream",
          "text": [
            "131 is both a prime and a palindrome number.\n"
          ]
        }
      ],
      "source": [
        "def is_prime(n):\n",
        "    if n <= 1:\n",
        "        return False\n",
        "    for i in range(2, int(n**0.5) + 1):\n",
        "        if n % i == 0:\n",
        "            return False\n",
        "    return True\n",
        "\n",
        "def is_palindrome(n):\n",
        "    return str(n) == str(n)[::-1]\n",
        "\n",
        "# Example usage\n",
        "number = 131\n",
        "if is_prime(number) and is_palindrome(number):\n",
        "    print(f\"{number} is both a prime and a palindrome number.\")\n",
        "else:\n",
        "    print(f\"{number} is not both a prime and a palindrome number.\")\n"
      ]
    },
    {
      "cell_type": "code",
      "execution_count": 111,
      "metadata": {},
      "outputs": [
        {
          "name": "stdout",
          "output_type": "stream",
          "text": [
            "True\n",
            "False\n"
          ]
        }
      ],
      "source": [
        "def is_prime_basic(n):\n",
        "    if n <= 1:\n",
        "        return False\n",
        "    for i in range(2, n):\n",
        "        if n % i == 0:\n",
        "            return False\n",
        "    return True\n",
        "\n",
        "# Example usage\n",
        "print(is_prime_basic(29))  # Output: True\n",
        "print(is_prime_basic(28))  # Output: False\n"
      ]
    },
    {
      "cell_type": "code",
      "execution_count": 112,
      "metadata": {},
      "outputs": [
        {
          "name": "stdout",
          "output_type": "stream",
          "text": [
            "True\n",
            "False\n"
          ]
        }
      ],
      "source": [
        "import math\n",
        "\n",
        "def is_prime_optimized(n):\n",
        "    if n <= 1:\n",
        "        return False\n",
        "    for i in range(2, int(math.sqrt(n)) + 1):\n",
        "        if n % i == 0:\n",
        "            return False\n",
        "    return True\n",
        "\n",
        "# Example usage\n",
        "print(is_prime_optimized(29))  # Output: True\n",
        "print(is_prime_optimized(28))  # Output: False\n"
      ]
    },
    {
      "cell_type": "code",
      "execution_count": 115,
      "metadata": {},
      "outputs": [
        {
          "name": "stdout",
          "output_type": "stream",
          "text": [
            "Collecting sympy\n",
            "  Downloading sympy-1.14.0-py3-none-any.whl.metadata (12 kB)\n",
            "Collecting mpmath<1.4,>=1.1.0 (from sympy)\n",
            "  Downloading mpmath-1.3.0-py3-none-any.whl.metadata (8.6 kB)\n",
            "Downloading sympy-1.14.0-py3-none-any.whl (6.3 MB)\n",
            "   ---------------------------------------- 0.0/6.3 MB ? eta -:--:--\n",
            "   --------------------- ------------------ 3.4/6.3 MB 18.1 MB/s eta 0:00:01\n",
            "   ---------------------------------------- 6.3/6.3 MB 16.8 MB/s eta 0:00:00\n",
            "Downloading mpmath-1.3.0-py3-none-any.whl (536 kB)\n",
            "   ---------------------------------------- 0.0/536.2 kB ? eta -:--:--\n",
            "   --------------------------------------- 536.2/536.2 kB 12.2 MB/s eta 0:00:00\n",
            "Installing collected packages: mpmath, sympy\n",
            "Successfully installed mpmath-1.3.0 sympy-1.14.0\n",
            "Note: you may need to restart the kernel to use updated packages.\n"
          ]
        },
        {
          "name": "stderr",
          "output_type": "stream",
          "text": [
            "  WARNING: The script isympy.exe is installed in 'c:\\Users\\11040026\\AppData\\Local\\Programs\\Python\\Python313\\Scripts' which is not on PATH.\n",
            "  Consider adding this directory to PATH or, if you prefer to suppress this warning, use --no-warn-script-location.\n",
            "\n",
            "[notice] A new release of pip is available: 25.0.1 -> 25.1.1\n",
            "[notice] To update, run: python.exe -m pip install --upgrade pip\n"
          ]
        }
      ],
      "source": [
        "%pip install sympy"
      ]
    },
    {
      "cell_type": "code",
      "execution_count": 116,
      "metadata": {},
      "outputs": [
        {
          "name": "stdout",
          "output_type": "stream",
          "text": [
            "True\n"
          ]
        }
      ],
      "source": [
        "from sympy import isprime\n",
        "\n",
        "def is_prime_sympy(n):\n",
        "    return isprime(n)\n",
        "\n",
        "# Example usage\n",
        "print(is_prime_sympy(29))  # Output: True\n"
      ]
    },
    {
      "cell_type": "markdown",
      "metadata": {},
      "source": [
        "dfSource['Request_Type__c'].count()\n",
        "\n",
        "Counts the number of non-null values in the 'Request_Type__c' column of the DataFrame dfSource.\n",
        "\n",
        "It does not include NaN (Not a Number) or missing values in the count.\n",
        "\n",
        "Returns a single numerical value (an integer).\n",
        "\n",
        "dfSource['Request_Type__c'].value_counts()\n",
        "\n",
        "Counts the frequency of each unique value in the 'Request_Type__c' column.\n",
        "\n",
        "Returns a Pandas Series.\n",
        "\n",
        "The index of the Series contains the unique values from the 'Request_Type__c' column.\n",
        "\n",
        "The values of the Series represent the number of times each unique value appears in the column."
      ]
    },
    {
      "cell_type": "code",
      "execution_count": 41,
      "metadata": {},
      "outputs": [
        {
          "name": "stdout",
          "output_type": "stream",
          "text": [
            "length of unique 123\n",
            "unique ['Compensation - AIP/SIP Plan Review'\n",
            " 'Compensation - Employee Market Analysis Request'\n",
            " 'Compensation - Job Analysis Request' 'Compensation - LTIP Request'\n",
            " 'Compensation - Market Data Request' 'Completion Credit'\n",
            " 'Employee Data Changes' 'Talent - Succession' 'Talent - Other'\n",
            " 'Employee & Organizational Data' 'Login' 'General Inquiry' 'Learning'\n",
            " 'Recruiting - Recruiting and Offers'\n",
            " 'Recruiting- Pre-employment Screening' 'Recruiting - Onboarding'\n",
            " 'Recruiting - Manage Pending Hires' 'Recruiting Requisition Changes'\n",
            " 'Workflows & Approvals' 'Recruiting Requisition Approval Reroute'\n",
            " 'Onboarding & 1-9 Activity Reassignment' 'Compensation Form Reroute'\n",
            " 'Talent Form Reroute' 'Workflow Approval Reroute'\n",
            " \"Workflow Escalation (Manager's Manager)\"\n",
            " 'Recruiting Offer Approval Reroute' 'Other Workflow & Approvals Reroute'\n",
            " 'Attendance Tracking' 'Learning Management System Data Changes'\n",
            " 'Time Card Edits' 'Accruals Balance' 'Safety Boots' 'Uniform'\n",
            " 'Union Dues' '401k Loan Catchup (DBS Use Only)' 'Miscellaneous'\n",
            " 'United Way' 'Garnishments' 'Child Support' 'Organizational Data Changes'\n",
            " 'Deductions' 'Earnings & Reimbursements' 'Non-Cash Earnings'\n",
            " 'Taxes - Employee' 'Taxes - Notices' 'Termination Final Payout'\n",
            " 'Vacation & PTO Payout (Cash Out)' 'STD and Parental Leave'\n",
            " 'Other Paid Leave' 'Start or Termination Date Changes' 'FMLA'\n",
            " 'Other Unpaid Leave' 'Other Earnings' 'Gift Cards' 'Rewards' 'Severance'\n",
            " 'Leave of Absence' 'Time & Attendance'\n",
            " 'Compensation - Compensation Cycle' nan 'Tax Notice - Amount Due'\n",
            " 'Tax Notice - Refund' 'Tax Correspondence - Informational'\n",
            " 'Compensation - Other' 'Talent - Performance & Goal Setting'\n",
            " 'Talent - Development' 'LMS Guidance Request' 'Ask HR a Question'\n",
            " 'Data Error Correction - Employment Information' 'New Data Update'\n",
            " 'Data Error Correction - Personal Information' 'New Article Content'\n",
            " 'Update Existing Article Content' 'Enhancement Request' 'Login Issue'\n",
            " 'LEAP Program Questions' 'Online Training Problems'\n",
            " 'Check Replacement or Stop Payment' 'ADP Password Reset' 'W2 Correction'\n",
            " 'W2 Missing/Additional Copy' 'Direct Deposit Change'\n",
            " 'Time Card Correction' 'Time Off Balance Correction'\n",
            " 'Attendance Correction' 'W4 Change' 'Ask a H&W Question' 'Life Event'\n",
            " 'Open Enrollment' 'Report Requests' 'Integrations - ADP GV Payroll'\n",
            " 'Reporting - Other' 'System Access - ADP GV Payroll'\n",
            " 'System Access - ADP Ipay' 'System Access - eTime'\n",
            " 'System Access - HR Central' 'System Access - HR Salesforce'\n",
            " 'System Configuration - ADP GV Payroll' 'System Configuration - eTime'\n",
            " 'System Configuration - HR Central'\n",
            " 'System Configuration - HR Salesforce' 'Integrations - eTime'\n",
            " 'System Configuration - Other' 'System Administration - Integrations'\n",
            " 'System Administration - Reporting'\n",
            " 'System Administration - System Access'\n",
            " 'System Administration - System Configuration'\n",
            " 'Integrations - HR Central' 'Integrations - HR Salesforce'\n",
            " 'Integrations - Other' 'Reporting - ADP GV Payroll' 'Reporting - eTime'\n",
            " 'Reporting - HR Central' 'Reporting - HR Salesforce' 'Un-assign' 'Assign'\n",
            " 'Correspondence' 'System Administration - Merrill'\n",
            " 'Tax Rate Notice -SUI/Unemployment' 'Overpayment Recovery'\n",
            " 'Confirmation of Benefits' 'Medical Support Order'\n",
            " 'Employee Data Change - HRBP']\n",
            "non null 148\n",
            "Request_Type__c\n",
            "Ask HR a Question                                 22\n",
            "Termination Final Payout                           2\n",
            "New Data Update                                    2\n",
            "Data Error Correction - Employment Information     2\n",
            "Data Error Correction - Personal Information       2\n",
            "                                                  ..\n",
            "Tax Rate Notice -SUI/Unemployment                  1\n",
            "Overpayment Recovery                               1\n",
            "Confirmation of Benefits                           1\n",
            "Medical Support Order                              1\n",
            "Employee Data Change - HRBP                        1\n",
            "Name: count, Length: 122, dtype: int64\n",
            "119\n"
          ]
        },
        {
          "data": {
            "text/html": [
              "<div>\n",
              "<style scoped>\n",
              "    .dataframe tbody tr th:only-of-type {\n",
              "        vertical-align: middle;\n",
              "    }\n",
              "\n",
              "    .dataframe tbody tr th {\n",
              "        vertical-align: top;\n",
              "    }\n",
              "\n",
              "    .dataframe thead th {\n",
              "        text-align: right;\n",
              "    }\n",
              "</style>\n",
              "<table border=\"1\" class=\"dataframe\">\n",
              "  <thead>\n",
              "    <tr style=\"text-align: right;\">\n",
              "      <th></th>\n",
              "      <th>Id</th>\n",
              "      <th>Name</th>\n",
              "      <th>Combination__c</th>\n",
              "      <th>Is_Active__c</th>\n",
              "      <th>Request_Reason__c</th>\n",
              "      <th>Request_Sub_Reason__c</th>\n",
              "      <th>Request_Type__c</th>\n",
              "      <th>Queue_Name__c</th>\n",
              "      <th>Chat_Queue__c</th>\n",
              "      <th>Request Reason</th>\n",
              "      <th>Request Sub Reason</th>\n",
              "      <th>Case Queue Name</th>\n",
              "      <th>Concatenate New Object</th>\n",
              "      <th>Compare with MDT</th>\n",
              "      <th>Concatenate New Object with Queue</th>\n",
              "      <th>Comparison</th>\n",
              "      <th>Comments</th>\n",
              "    </tr>\n",
              "  </thead>\n",
              "  <tbody>\n",
              "    <tr>\n",
              "      <th>0</th>\n",
              "      <td>a0cQJ000000aDY8YAM</td>\n",
              "      <td>CQA-000295</td>\n",
              "      <td>HR-HRC - Questions-Compensation - AIP/SIP Plan...</td>\n",
              "      <td>True</td>\n",
              "      <td>HR</td>\n",
              "      <td>HRC - Questions</td>\n",
              "      <td>Compensation - AIP/SIP Plan Review</td>\n",
              "      <td>COE - Comp CoE</td>\n",
              "      <td>Tier1 Generalist-HR</td>\n",
              "      <td>HR</td>\n",
              "      <td>HRC - Questions</td>\n",
              "      <td>COE - Comp CoE</td>\n",
              "      <td>HR|HRC - Questions|Compensation - AIP/SIP Plan...</td>\n",
              "      <td>HR|HRC - Questions|Compensation - AIP/SIP Plan...</td>\n",
              "      <td>HR|HRC - Questions|Compensation - AIP/SIP Plan...</td>\n",
              "      <td>NaN</td>\n",
              "      <td>New</td>\n",
              "    </tr>\n",
              "    <tr>\n",
              "      <th>1</th>\n",
              "      <td>a0cQJ000000aDY9YAM</td>\n",
              "      <td>CQA-000296</td>\n",
              "      <td>HR-HRC - Questions-Compensation - Employee Mar...</td>\n",
              "      <td>True</td>\n",
              "      <td>HR</td>\n",
              "      <td>HRC - Questions</td>\n",
              "      <td>Compensation - Employee Market Analysis Request</td>\n",
              "      <td>COE - Comp CoE</td>\n",
              "      <td>Tier1 Generalist-HR</td>\n",
              "      <td>HR</td>\n",
              "      <td>HRC - Questions</td>\n",
              "      <td>COE - Comp CoE</td>\n",
              "      <td>HR|HRC - Questions|Compensation - Employee Mar...</td>\n",
              "      <td>HR|HRC - Questions|Compensation - Employee Mar...</td>\n",
              "      <td>HR|HRC - Questions|Compensation - Employee Mar...</td>\n",
              "      <td>NaN</td>\n",
              "      <td>New</td>\n",
              "    </tr>\n",
              "    <tr>\n",
              "      <th>2</th>\n",
              "      <td>a0cQJ000000aDYAYA2</td>\n",
              "      <td>CQA-000297</td>\n",
              "      <td>HR-HRC - Questions-Compensation - Job Analysis...</td>\n",
              "      <td>True</td>\n",
              "      <td>HR</td>\n",
              "      <td>HRC - Questions</td>\n",
              "      <td>Compensation - Job Analysis Request</td>\n",
              "      <td>COE - Comp CoE</td>\n",
              "      <td>Tier1 Generalist-HR</td>\n",
              "      <td>HR</td>\n",
              "      <td>HRC - Questions</td>\n",
              "      <td>COE - Comp CoE</td>\n",
              "      <td>HR|HRC - Questions|Compensation - Job Analysis...</td>\n",
              "      <td>HR|HRC - Questions|Compensation - Job Analysis...</td>\n",
              "      <td>HR|HRC - Questions|Compensation - Job Analysis...</td>\n",
              "      <td>NaN</td>\n",
              "      <td>New</td>\n",
              "    </tr>\n",
              "    <tr>\n",
              "      <th>3</th>\n",
              "      <td>a0cQJ000000aDYBYA2</td>\n",
              "      <td>CQA-000298</td>\n",
              "      <td>HR-HRC - Questions-Compensation - LTIP Request</td>\n",
              "      <td>True</td>\n",
              "      <td>HR</td>\n",
              "      <td>HRC - Questions</td>\n",
              "      <td>Compensation - LTIP Request</td>\n",
              "      <td>COE - Exec Comp</td>\n",
              "      <td>Tier1 Generalist-HR</td>\n",
              "      <td>HR</td>\n",
              "      <td>HRC - Questions</td>\n",
              "      <td>COE - Exec Comp</td>\n",
              "      <td>HR|HRC - Questions|Compensation - LTIP Request</td>\n",
              "      <td>HR|HRC - Questions|Compensation - LTIP Request</td>\n",
              "      <td>HR|HRC - Questions|Compensation - LTIP Request...</td>\n",
              "      <td>HR|HRC - Questions|Compensation - LTIP Request...</td>\n",
              "      <td>NaN</td>\n",
              "    </tr>\n",
              "    <tr>\n",
              "      <th>4</th>\n",
              "      <td>a0cQJ000000aDYCYA2</td>\n",
              "      <td>CQA-000299</td>\n",
              "      <td>HR-HRC - Questions-Compensation - Market Data ...</td>\n",
              "      <td>True</td>\n",
              "      <td>HR</td>\n",
              "      <td>HRC - Questions</td>\n",
              "      <td>Compensation - Market Data Request</td>\n",
              "      <td>COE - Comp CoE</td>\n",
              "      <td>Tier1 Generalist-HR</td>\n",
              "      <td>HR</td>\n",
              "      <td>HRC - Questions</td>\n",
              "      <td>COE - Comp CoE</td>\n",
              "      <td>HR|HRC - Questions|Compensation - Market Data ...</td>\n",
              "      <td>HR|HRC - Questions|Compensation - Market Data ...</td>\n",
              "      <td>HR|HRC - Questions|Compensation - Market Data ...</td>\n",
              "      <td>NaN</td>\n",
              "      <td>New</td>\n",
              "    </tr>\n",
              "  </tbody>\n",
              "</table>\n",
              "</div>"
            ],
            "text/plain": [
              "                   Id        Name  \\\n",
              "0  a0cQJ000000aDY8YAM  CQA-000295   \n",
              "1  a0cQJ000000aDY9YAM  CQA-000296   \n",
              "2  a0cQJ000000aDYAYA2  CQA-000297   \n",
              "3  a0cQJ000000aDYBYA2  CQA-000298   \n",
              "4  a0cQJ000000aDYCYA2  CQA-000299   \n",
              "\n",
              "                                      Combination__c  Is_Active__c  \\\n",
              "0  HR-HRC - Questions-Compensation - AIP/SIP Plan...          True   \n",
              "1  HR-HRC - Questions-Compensation - Employee Mar...          True   \n",
              "2  HR-HRC - Questions-Compensation - Job Analysis...          True   \n",
              "3     HR-HRC - Questions-Compensation - LTIP Request          True   \n",
              "4  HR-HRC - Questions-Compensation - Market Data ...          True   \n",
              "\n",
              "  Request_Reason__c Request_Sub_Reason__c  \\\n",
              "0                HR       HRC - Questions   \n",
              "1                HR       HRC - Questions   \n",
              "2                HR       HRC - Questions   \n",
              "3                HR       HRC - Questions   \n",
              "4                HR       HRC - Questions   \n",
              "\n",
              "                                   Request_Type__c    Queue_Name__c  \\\n",
              "0               Compensation - AIP/SIP Plan Review   COE - Comp CoE   \n",
              "1  Compensation - Employee Market Analysis Request   COE - Comp CoE   \n",
              "2              Compensation - Job Analysis Request   COE - Comp CoE   \n",
              "3                      Compensation - LTIP Request  COE - Exec Comp   \n",
              "4               Compensation - Market Data Request   COE - Comp CoE   \n",
              "\n",
              "         Chat_Queue__c Request Reason Request Sub Reason  Case Queue Name  \\\n",
              "0  Tier1 Generalist-HR             HR    HRC - Questions   COE - Comp CoE   \n",
              "1  Tier1 Generalist-HR             HR    HRC - Questions   COE - Comp CoE   \n",
              "2  Tier1 Generalist-HR             HR    HRC - Questions   COE - Comp CoE   \n",
              "3  Tier1 Generalist-HR             HR    HRC - Questions  COE - Exec Comp   \n",
              "4  Tier1 Generalist-HR             HR    HRC - Questions   COE - Comp CoE   \n",
              "\n",
              "                              Concatenate New Object  \\\n",
              "0  HR|HRC - Questions|Compensation - AIP/SIP Plan...   \n",
              "1  HR|HRC - Questions|Compensation - Employee Mar...   \n",
              "2  HR|HRC - Questions|Compensation - Job Analysis...   \n",
              "3     HR|HRC - Questions|Compensation - LTIP Request   \n",
              "4  HR|HRC - Questions|Compensation - Market Data ...   \n",
              "\n",
              "                                    Compare with MDT  \\\n",
              "0  HR|HRC - Questions|Compensation - AIP/SIP Plan...   \n",
              "1  HR|HRC - Questions|Compensation - Employee Mar...   \n",
              "2  HR|HRC - Questions|Compensation - Job Analysis...   \n",
              "3     HR|HRC - Questions|Compensation - LTIP Request   \n",
              "4  HR|HRC - Questions|Compensation - Market Data ...   \n",
              "\n",
              "                   Concatenate New Object with Queue  \\\n",
              "0  HR|HRC - Questions|Compensation - AIP/SIP Plan...   \n",
              "1  HR|HRC - Questions|Compensation - Employee Mar...   \n",
              "2  HR|HRC - Questions|Compensation - Job Analysis...   \n",
              "3  HR|HRC - Questions|Compensation - LTIP Request...   \n",
              "4  HR|HRC - Questions|Compensation - Market Data ...   \n",
              "\n",
              "                                          Comparison Comments  \n",
              "0                                                NaN      New  \n",
              "1                                                NaN      New  \n",
              "2                                                NaN      New  \n",
              "3  HR|HRC - Questions|Compensation - LTIP Request...      NaN  \n",
              "4                                                NaN      New  "
            ]
          },
          "execution_count": 41,
          "metadata": {},
          "output_type": "execute_result"
        }
      ],
      "source": [
        "# %pip install openpyxl\n",
        "\n",
        "import pandas as pd\n",
        "import numpy as np\n",
        "\n",
        "dfSource = pd.read_excel('Case_Queue_Assignment__c-149.xlsx', sheet_name='Sheet1')\n",
        "dfSource.head()\n",
        "RequestType=dfSource['Request_Type__c'].unique() # display unique values in column\n",
        "print('length of unique',len(RequestType)) # display count of unique values\n",
        "print('unique',dfSource['Request_Type__c'].unique()) # display unique values in column\n",
        "print('non null',dfSource['Request_Type__c'].count()) # display count of non null values\n",
        "\n",
        "print(dfSource['Request_Type__c'].value_counts()) # display count of unique values of each type\n",
        "nullVal=dfSource[dfSource['Request_Type__c'].isnull()] # display null values in column\n",
        "\n",
        "type(RequestType) # display type of unique values\n",
        "df2=pd.read_excel('Case_Queue_Assignment__c-145K.xlsx', sheet_name='Sheet1')\n",
        "df2.head()\n",
        "RequestTypedf2=df2['Request_Type__c'].unique() # display unique values in column\n",
        "print(len(RequestTypedf2)) # display count of unique values\n",
        "nullVal.head(10) # display null values in column\n",
        "# dataSource.drop(dataSource[dataSource['Request_Type__c'].isnull()].index, inplace=True) # remove null values from column\n",
        "dfSource.dropna(subset=['Request_Type__c'], inplace=True) # remove null values from column\n",
        "# dfSource.dropna(subset=['Request_Type__c'], inplace=True) # remove null values from column\n",
        "df3=pd.merge(dfSource, df2, on='Request_Type__c', how='left')\n",
        "df3.head()\n",
        "\n",
        "\n",
        "\n",
        "\n",
        "# export to excel"
      ]
    },
    {
      "cell_type": "code",
      "execution_count": 42,
      "metadata": {},
      "outputs": [
        {
          "data": {
            "text/plain": [
              "np.int64(0)"
            ]
          },
          "execution_count": 42,
          "metadata": {},
          "output_type": "execute_result"
        }
      ],
      "source": [
        "dfSource['Request_Type__c'].isnull().sum()"
      ]
    },
    {
      "cell_type": "code",
      "execution_count": 43,
      "metadata": {},
      "outputs": [
        {
          "data": {
            "text/plain": [
              "Id                                     0\n",
              "Name                                   0\n",
              "Combination__c                         0\n",
              "Is_Active__c                           0\n",
              "Request_Reason__c                      0\n",
              "Request_Sub_Reason__c                  0\n",
              "Request_Type__c                        0\n",
              "Queue_Name__c                          0\n",
              "Chat_Queue__c                          0\n",
              "Request Reason                         6\n",
              "Request Sub Reason                     6\n",
              "Case Queue Name                        6\n",
              "Concatenate New Object                 6\n",
              "Compare with MDT                       7\n",
              "Concatenate New Object with Queue      6\n",
              "Comparison                           189\n",
              "Comments                             437\n",
              "dtype: int64"
            ]
          },
          "execution_count": 43,
          "metadata": {},
          "output_type": "execute_result"
        }
      ],
      "source": [
        "df3.isnull().sum() # check for null values\n"
      ]
    },
    {
      "cell_type": "code",
      "execution_count": 44,
      "metadata": {},
      "outputs": [
        {
          "data": {
            "text/html": [
              "<div>\n",
              "<style scoped>\n",
              "    .dataframe tbody tr th:only-of-type {\n",
              "        vertical-align: middle;\n",
              "    }\n",
              "\n",
              "    .dataframe tbody tr th {\n",
              "        vertical-align: top;\n",
              "    }\n",
              "\n",
              "    .dataframe thead th {\n",
              "        text-align: right;\n",
              "    }\n",
              "</style>\n",
              "<table border=\"1\" class=\"dataframe\">\n",
              "  <thead>\n",
              "    <tr style=\"text-align: right;\">\n",
              "      <th></th>\n",
              "      <th>Id</th>\n",
              "      <th>Name</th>\n",
              "      <th>Combination__c</th>\n",
              "      <th>Is_Active__c</th>\n",
              "      <th>Request_Reason__c</th>\n",
              "      <th>Request_Sub_Reason__c</th>\n",
              "      <th>Request_Type__c</th>\n",
              "      <th>Queue_Name__c</th>\n",
              "      <th>Chat_Queue__c</th>\n",
              "      <th>Request Reason</th>\n",
              "      <th>Request Sub Reason</th>\n",
              "      <th>Case Queue Name</th>\n",
              "      <th>Comments</th>\n",
              "    </tr>\n",
              "  </thead>\n",
              "  <tbody>\n",
              "    <tr>\n",
              "      <th>0</th>\n",
              "      <td>a0cQJ000000aDY8YAM</td>\n",
              "      <td>CQA-000295</td>\n",
              "      <td>HR-HRC - Questions-Compensation - AIP/SIP Plan...</td>\n",
              "      <td>True</td>\n",
              "      <td>HR</td>\n",
              "      <td>HRC - Questions</td>\n",
              "      <td>Compensation - AIP/SIP Plan Review</td>\n",
              "      <td>COE - Comp CoE</td>\n",
              "      <td>Tier1 Generalist-HR</td>\n",
              "      <td>HR</td>\n",
              "      <td>HRC - Questions</td>\n",
              "      <td>COE - Comp CoE</td>\n",
              "      <td>New</td>\n",
              "    </tr>\n",
              "    <tr>\n",
              "      <th>1</th>\n",
              "      <td>a0cQJ000000aDY9YAM</td>\n",
              "      <td>CQA-000296</td>\n",
              "      <td>HR-HRC - Questions-Compensation - Employee Mar...</td>\n",
              "      <td>True</td>\n",
              "      <td>HR</td>\n",
              "      <td>HRC - Questions</td>\n",
              "      <td>Compensation - Employee Market Analysis Request</td>\n",
              "      <td>COE - Comp CoE</td>\n",
              "      <td>Tier1 Generalist-HR</td>\n",
              "      <td>HR</td>\n",
              "      <td>HRC - Questions</td>\n",
              "      <td>COE - Comp CoE</td>\n",
              "      <td>New</td>\n",
              "    </tr>\n",
              "    <tr>\n",
              "      <th>2</th>\n",
              "      <td>a0cQJ000000aDYAYA2</td>\n",
              "      <td>CQA-000297</td>\n",
              "      <td>HR-HRC - Questions-Compensation - Job Analysis...</td>\n",
              "      <td>True</td>\n",
              "      <td>HR</td>\n",
              "      <td>HRC - Questions</td>\n",
              "      <td>Compensation - Job Analysis Request</td>\n",
              "      <td>COE - Comp CoE</td>\n",
              "      <td>Tier1 Generalist-HR</td>\n",
              "      <td>HR</td>\n",
              "      <td>HRC - Questions</td>\n",
              "      <td>COE - Comp CoE</td>\n",
              "      <td>New</td>\n",
              "    </tr>\n",
              "    <tr>\n",
              "      <th>3</th>\n",
              "      <td>a0cQJ000000aDYBYA2</td>\n",
              "      <td>CQA-000298</td>\n",
              "      <td>HR-HRC - Questions-Compensation - LTIP Request</td>\n",
              "      <td>True</td>\n",
              "      <td>HR</td>\n",
              "      <td>HRC - Questions</td>\n",
              "      <td>Compensation - LTIP Request</td>\n",
              "      <td>COE - Exec Comp</td>\n",
              "      <td>Tier1 Generalist-HR</td>\n",
              "      <td>HR</td>\n",
              "      <td>HRC - Questions</td>\n",
              "      <td>COE - Exec Comp</td>\n",
              "      <td>NaN</td>\n",
              "    </tr>\n",
              "    <tr>\n",
              "      <th>4</th>\n",
              "      <td>a0cQJ000000aDYCYA2</td>\n",
              "      <td>CQA-000299</td>\n",
              "      <td>HR-HRC - Questions-Compensation - Market Data ...</td>\n",
              "      <td>True</td>\n",
              "      <td>HR</td>\n",
              "      <td>HRC - Questions</td>\n",
              "      <td>Compensation - Market Data Request</td>\n",
              "      <td>COE - Comp CoE</td>\n",
              "      <td>Tier1 Generalist-HR</td>\n",
              "      <td>HR</td>\n",
              "      <td>HRC - Questions</td>\n",
              "      <td>COE - Comp CoE</td>\n",
              "      <td>New</td>\n",
              "    </tr>\n",
              "  </tbody>\n",
              "</table>\n",
              "</div>"
            ],
            "text/plain": [
              "                   Id        Name  \\\n",
              "0  a0cQJ000000aDY8YAM  CQA-000295   \n",
              "1  a0cQJ000000aDY9YAM  CQA-000296   \n",
              "2  a0cQJ000000aDYAYA2  CQA-000297   \n",
              "3  a0cQJ000000aDYBYA2  CQA-000298   \n",
              "4  a0cQJ000000aDYCYA2  CQA-000299   \n",
              "\n",
              "                                      Combination__c  Is_Active__c  \\\n",
              "0  HR-HRC - Questions-Compensation - AIP/SIP Plan...          True   \n",
              "1  HR-HRC - Questions-Compensation - Employee Mar...          True   \n",
              "2  HR-HRC - Questions-Compensation - Job Analysis...          True   \n",
              "3     HR-HRC - Questions-Compensation - LTIP Request          True   \n",
              "4  HR-HRC - Questions-Compensation - Market Data ...          True   \n",
              "\n",
              "  Request_Reason__c Request_Sub_Reason__c  \\\n",
              "0                HR       HRC - Questions   \n",
              "1                HR       HRC - Questions   \n",
              "2                HR       HRC - Questions   \n",
              "3                HR       HRC - Questions   \n",
              "4                HR       HRC - Questions   \n",
              "\n",
              "                                   Request_Type__c    Queue_Name__c  \\\n",
              "0               Compensation - AIP/SIP Plan Review   COE - Comp CoE   \n",
              "1  Compensation - Employee Market Analysis Request   COE - Comp CoE   \n",
              "2              Compensation - Job Analysis Request   COE - Comp CoE   \n",
              "3                      Compensation - LTIP Request  COE - Exec Comp   \n",
              "4               Compensation - Market Data Request   COE - Comp CoE   \n",
              "\n",
              "         Chat_Queue__c Request Reason Request Sub Reason  Case Queue Name  \\\n",
              "0  Tier1 Generalist-HR             HR    HRC - Questions   COE - Comp CoE   \n",
              "1  Tier1 Generalist-HR             HR    HRC - Questions   COE - Comp CoE   \n",
              "2  Tier1 Generalist-HR             HR    HRC - Questions   COE - Comp CoE   \n",
              "3  Tier1 Generalist-HR             HR    HRC - Questions  COE - Exec Comp   \n",
              "4  Tier1 Generalist-HR             HR    HRC - Questions   COE - Comp CoE   \n",
              "\n",
              "  Comments  \n",
              "0      New  \n",
              "1      New  \n",
              "2      New  \n",
              "3      NaN  \n",
              "4      New  "
            ]
          },
          "execution_count": 44,
          "metadata": {},
          "output_type": "execute_result"
        }
      ],
      "source": [
        "drop_list = ['Comparison', 'Concatenate New Object with Queue', 'Compare with MDT','Concatenate New Object']\n",
        "df3.drop(columns=drop_list, inplace=True)\n",
        "df3.head()"
      ]
    },
    {
      "cell_type": "code",
      "execution_count": 45,
      "metadata": {},
      "outputs": [
        {
          "data": {
            "text/html": [
              "<div>\n",
              "<style scoped>\n",
              "    .dataframe tbody tr th:only-of-type {\n",
              "        vertical-align: middle;\n",
              "    }\n",
              "\n",
              "    .dataframe tbody tr th {\n",
              "        vertical-align: top;\n",
              "    }\n",
              "\n",
              "    .dataframe thead th {\n",
              "        text-align: right;\n",
              "    }\n",
              "</style>\n",
              "<table border=\"1\" class=\"dataframe\">\n",
              "  <thead>\n",
              "    <tr style=\"text-align: right;\">\n",
              "      <th></th>\n",
              "      <th>count</th>\n",
              "      <th>unique</th>\n",
              "      <th>top</th>\n",
              "      <th>freq</th>\n",
              "    </tr>\n",
              "  </thead>\n",
              "  <tbody>\n",
              "    <tr>\n",
              "      <th>Id</th>\n",
              "      <td>620</td>\n",
              "      <td>148</td>\n",
              "      <td>a0cQJ000000aDbVYAU</td>\n",
              "      <td>22</td>\n",
              "    </tr>\n",
              "    <tr>\n",
              "      <th>Name</th>\n",
              "      <td>620</td>\n",
              "      <td>148</td>\n",
              "      <td>CQA-000404</td>\n",
              "      <td>22</td>\n",
              "    </tr>\n",
              "    <tr>\n",
              "      <th>Combination__c</th>\n",
              "      <td>620</td>\n",
              "      <td>148</td>\n",
              "      <td>My Rewards-Compensation &amp; Rewards-Ask HR a Que...</td>\n",
              "      <td>22</td>\n",
              "    </tr>\n",
              "    <tr>\n",
              "      <th>Is_Active__c</th>\n",
              "      <td>620</td>\n",
              "      <td>1</td>\n",
              "      <td>True</td>\n",
              "      <td>620</td>\n",
              "    </tr>\n",
              "    <tr>\n",
              "      <th>Request_Reason__c</th>\n",
              "      <td>620</td>\n",
              "      <td>9</td>\n",
              "      <td>Managers</td>\n",
              "      <td>160</td>\n",
              "    </tr>\n",
              "    <tr>\n",
              "      <th>Request_Sub_Reason__c</th>\n",
              "      <td>620</td>\n",
              "      <td>47</td>\n",
              "      <td>Performance Management</td>\n",
              "      <td>44</td>\n",
              "    </tr>\n",
              "    <tr>\n",
              "      <th>Request_Type__c</th>\n",
              "      <td>620</td>\n",
              "      <td>122</td>\n",
              "      <td>Ask HR a Question</td>\n",
              "      <td>484</td>\n",
              "    </tr>\n",
              "    <tr>\n",
              "      <th>Queue_Name__c</th>\n",
              "      <td>620</td>\n",
              "      <td>13</td>\n",
              "      <td>Tier1 Generalist-HR</td>\n",
              "      <td>491</td>\n",
              "    </tr>\n",
              "    <tr>\n",
              "      <th>Chat_Queue__c</th>\n",
              "      <td>620</td>\n",
              "      <td>2</td>\n",
              "      <td>Tier1 Generalist-HR</td>\n",
              "      <td>593</td>\n",
              "    </tr>\n",
              "    <tr>\n",
              "      <th>Request Reason</th>\n",
              "      <td>614</td>\n",
              "      <td>9</td>\n",
              "      <td>Managers</td>\n",
              "      <td>160</td>\n",
              "    </tr>\n",
              "    <tr>\n",
              "      <th>Request Sub Reason</th>\n",
              "      <td>614</td>\n",
              "      <td>47</td>\n",
              "      <td>Performance Management</td>\n",
              "      <td>44</td>\n",
              "    </tr>\n",
              "    <tr>\n",
              "      <th>Case Queue Name</th>\n",
              "      <td>614</td>\n",
              "      <td>11</td>\n",
              "      <td>Tier1 Generalist-HR</td>\n",
              "      <td>491</td>\n",
              "    </tr>\n",
              "    <tr>\n",
              "      <th>Comments</th>\n",
              "      <td>183</td>\n",
              "      <td>3</td>\n",
              "      <td>New</td>\n",
              "      <td>100</td>\n",
              "    </tr>\n",
              "  </tbody>\n",
              "</table>\n",
              "</div>"
            ],
            "text/plain": [
              "                      count unique  \\\n",
              "Id                      620    148   \n",
              "Name                    620    148   \n",
              "Combination__c          620    148   \n",
              "Is_Active__c            620      1   \n",
              "Request_Reason__c       620      9   \n",
              "Request_Sub_Reason__c   620     47   \n",
              "Request_Type__c         620    122   \n",
              "Queue_Name__c           620     13   \n",
              "Chat_Queue__c           620      2   \n",
              "Request Reason          614      9   \n",
              "Request Sub Reason      614     47   \n",
              "Case Queue Name         614     11   \n",
              "Comments                183      3   \n",
              "\n",
              "                                                                     top freq  \n",
              "Id                                                    a0cQJ000000aDbVYAU   22  \n",
              "Name                                                          CQA-000404   22  \n",
              "Combination__c         My Rewards-Compensation & Rewards-Ask HR a Que...   22  \n",
              "Is_Active__c                                                        True  620  \n",
              "Request_Reason__c                                               Managers  160  \n",
              "Request_Sub_Reason__c                             Performance Management   44  \n",
              "Request_Type__c                                        Ask HR a Question  484  \n",
              "Queue_Name__c                                        Tier1 Generalist-HR  491  \n",
              "Chat_Queue__c                                        Tier1 Generalist-HR  593  \n",
              "Request Reason                                                  Managers  160  \n",
              "Request Sub Reason                                Performance Management   44  \n",
              "Case Queue Name                                      Tier1 Generalist-HR  491  \n",
              "Comments                                                             New  100  "
            ]
          },
          "execution_count": 45,
          "metadata": {},
          "output_type": "execute_result"
        }
      ],
      "source": [
        "df3.describe().T # display summary of data"
      ]
    },
    {
      "cell_type": "code",
      "execution_count": 48,
      "metadata": {},
      "outputs": [
        {
          "data": {
            "text/html": [
              "<div>\n",
              "<style scoped>\n",
              "    .dataframe tbody tr th:only-of-type {\n",
              "        vertical-align: middle;\n",
              "    }\n",
              "\n",
              "    .dataframe tbody tr th {\n",
              "        vertical-align: top;\n",
              "    }\n",
              "\n",
              "    .dataframe thead th {\n",
              "        text-align: right;\n",
              "    }\n",
              "</style>\n",
              "<table border=\"1\" class=\"dataframe\">\n",
              "  <thead>\n",
              "    <tr style=\"text-align: right;\">\n",
              "      <th></th>\n",
              "      <th>Id</th>\n",
              "      <th>Name</th>\n",
              "      <th>Combination__c</th>\n",
              "      <th>Is_Active__c</th>\n",
              "      <th>Request_Reason__c</th>\n",
              "      <th>Request_Sub_Reason__c</th>\n",
              "      <th>Request_Type__c</th>\n",
              "      <th>Queue_Name__c</th>\n",
              "      <th>Chat_Queue__c</th>\n",
              "      <th>Request Reason</th>\n",
              "      <th>Request Sub Reason</th>\n",
              "      <th>Case Queue Name</th>\n",
              "      <th>Comments</th>\n",
              "    </tr>\n",
              "  </thead>\n",
              "  <tbody>\n",
              "  </tbody>\n",
              "</table>\n",
              "</div>"
            ],
            "text/plain": [
              "Empty DataFrame\n",
              "Columns: [Id, Name, Combination__c, Is_Active__c, Request_Reason__c, Request_Sub_Reason__c, Request_Type__c, Queue_Name__c, Chat_Queue__c, Request Reason, Request Sub Reason, Case Queue Name, Comments]\n",
              "Index: []"
            ]
          },
          "execution_count": 48,
          "metadata": {},
          "output_type": "execute_result"
        }
      ],
      "source": [
        "df3[df3['Request_Type__c'].isnull()]"
      ]
    },
    {
      "cell_type": "code",
      "execution_count": 47,
      "metadata": {},
      "outputs": [],
      "source": [
        "df3.to_excel('test3.xlsx', index=False)"
      ]
    }
  ],
  "metadata": {
    "colab": {
      "authorship_tag": "ABX9TyM/Z0wq1ZBEB8riWPu6mxu/",
      "include_colab_link": true,
      "provenance": []
    },
    "kernelspec": {
      "display_name": "Python 3",
      "name": "python3"
    },
    "language_info": {
      "codemirror_mode": {
        "name": "ipython",
        "version": 3
      },
      "file_extension": ".py",
      "mimetype": "text/x-python",
      "name": "python",
      "nbconvert_exporter": "python",
      "pygments_lexer": "ipython3",
      "version": "3.13.3"
    }
  },
  "nbformat": 4,
  "nbformat_minor": 0
}
