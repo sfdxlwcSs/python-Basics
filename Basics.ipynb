{
  "cells": [
    {
      "cell_type": "markdown",
      "metadata": {
        "colab_type": "text",
        "id": "view-in-github"
      },
      "source": [
        "<a href=\"https://colab.research.google.com/github/sfdxlwcSs/python-Basics/blob/main/Basics.ipynb\" target=\"_parent\"><img src=\"https://colab.research.google.com/assets/colab-badge.svg\" alt=\"Open In Colab\"/></a>"
      ]
    },
    {
      "cell_type": "markdown",
      "metadata": {
        "id": "wIhQ3MYuhxPl"
      },
      "source": [
        "# Section One"
      ]
    },
    {
      "cell_type": "code",
      "execution_count": 4,
      "metadata": {
        "colab": {
          "base_uri": "https://localhost:8080/"
        },
        "id": "A1d_JtdjiEaD",
        "outputId": "f9762287-bab7-41c4-fc3e-dbd265f3afe2"
      },
      "outputs": [
        {
          "data": {
            "text/plain": [
              "9"
            ]
          },
          "execution_count": 4,
          "metadata": {},
          "output_type": "execute_result"
        }
      ],
      "source": [
        "2+2+5"
      ]
    },
    {
      "cell_type": "markdown",
      "metadata": {
        "id": "Dml9zT58iWmR"
      },
      "source": [
        "Print Statement"
      ]
    },
    {
      "cell_type": "code",
      "execution_count": 3,
      "metadata": {
        "colab": {
          "base_uri": "https://localhost:8080/"
        },
        "id": "KJ62N9ZtifM5",
        "outputId": "4ec307c0-2a7f-477d-a5f8-76986b4721fb"
      },
      "outputs": [
        {
          "name": "stdout",
          "output_type": "stream",
          "text": [
            "NSE Market\n"
          ]
        }
      ],
      "source": [
        "print(\"NSE Market\")"
      ]
    },
    {
      "cell_type": "code",
      "execution_count": 3,
      "metadata": {
        "colab": {
          "base_uri": "https://localhost:8080/"
        },
        "id": "o30q4-rYjZM6",
        "outputId": "4492f244-2a2f-4a42-b491-f28b2b4ce910"
      },
      "outputs": [
        {
          "name": "stdout",
          "output_type": "stream",
          "text": [
            "Python 4 Hello\n"
          ]
        }
      ],
      "source": [
        "print(\"Python\",2+2,'Hello')"
      ]
    },
    {
      "cell_type": "markdown",
      "metadata": {
        "id": "TiuL_neFjYvp"
      },
      "source": [
        "#single line commment\n"
      ]
    },
    {
      "cell_type": "code",
      "execution_count": 4,
      "metadata": {
        "id": "slgrdqN9j6Pl"
      },
      "outputs": [],
      "source": [
        "#I am single line comment"
      ]
    },
    {
      "cell_type": "code",
      "execution_count": null,
      "metadata": {
        "id": "jUwzCcYUj-hU"
      },
      "outputs": [],
      "source": []
    }
  ],
  "metadata": {
    "colab": {
      "authorship_tag": "ABX9TyM/Z0wq1ZBEB8riWPu6mxu/",
      "include_colab_link": true,
      "provenance": []
    },
    "kernelspec": {
      "display_name": "Python 3",
      "name": "python3"
    },
    "language_info": {
      "codemirror_mode": {
        "name": "ipython",
        "version": 3
      },
      "file_extension": ".py",
      "mimetype": "text/x-python",
      "name": "python",
      "nbconvert_exporter": "python",
      "pygments_lexer": "ipython3",
      "version": "3.12.6"
    }
  },
  "nbformat": 4,
  "nbformat_minor": 0
}
