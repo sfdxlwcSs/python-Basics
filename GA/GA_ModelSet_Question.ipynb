{
 "cells": [
  {
   "cell_type": "markdown",
   "metadata": {
    "colab_type": "text",
    "id": "RYzl6Uxso9NV"
   },
   "source": [
    "##  MTech Graded Assessment \n",
    "## Subject : Python For DataScience\n",
    "## Marks: 40 \n",
    "## Time : 3 Hours\n"
   ]
  },
  {
   "cell_type": "markdown",
   "metadata": {},
   "source": [
    "## Section A--ITP   Total--(20marks)"
   ]
  },
  {
   "cell_type": "markdown",
   "metadata": {},
   "source": [
    "#### 1. Given a two list of integers, create a third list by user defined function such that it should contain only odd numbers from the first list and even numbers from the second list? (3marks)\n"
   ]
  },
  {
   "cell_type": "raw",
   "metadata": {},
   "source": [
    "\n",
    "list1 = [10, 20, 23, 11, 17]\n",
    "list2 = [13, 43, 24, 36, 12]"
   ]
  },
  {
   "cell_type": "code",
   "execution_count": null,
   "metadata": {},
   "outputs": [],
   "source": [
    "#Write your code here"
   ]
  },
  {
   "cell_type": "markdown",
   "metadata": {},
   "source": [
    "#### 2. Write A   Python Program to Find the Sum of the Series: 1 + 1/2 + 1/3 + ….. + 1/N? (4 marks)"
   ]
  },
  {
   "cell_type": "code",
   "execution_count": null,
   "metadata": {},
   "outputs": [],
   "source": [
    "#Write your code here"
   ]
  },
  {
   "cell_type": "markdown",
   "metadata": {},
   "source": [
    "#### 3.Python Program which will find all which are divisible by 3,between 4000 and 4200 ?The numbers obtained should be printed in a comma-separated sequence on a single line. (3marks)\n"
   ]
  },
  {
   "cell_type": "code",
   "execution_count": 1,
   "metadata": {},
   "outputs": [],
   "source": [
    "#Write your code here"
   ]
  },
  {
   "cell_type": "markdown",
   "metadata": {
    "colab_type": "text",
    "id": "ABt3aSjN4WnW"
   },
   "source": [
    "#### 4. Write a python program to convert a 12-hour format to a 24-hour format. The program should take the current time from the user in a 12-hour format and convert it into 24-hour format.:  (5 Marks)\n",
    "  \n",
    " Input: \"08:05:45 PM\"\n",
    " Output: 20:05:45"
   ]
  },
  {
   "cell_type": "code",
   "execution_count": null,
   "metadata": {},
   "outputs": [],
   "source": [
    "#Write your code here"
   ]
  },
  {
   "cell_type": "markdown",
   "metadata": {
    "colab_type": "text",
    "id": "JNdfMoKZ4Wmy"
   },
   "source": [
    "#### 5. Python program\n",
    "  \n",
    "  Create a list of items given below(5 marks)\n",
    " \n",
    " A. = [soap,detergent,chocolate,toothpaste]\n",
    " \n",
    " B. = [soap,detergent,brush,comb,toothpaste]\n",
    " \n",
    " C. = [juice,cake,brush,comb,chips]\n",
    "   \n",
    "  Create a final dictionary that will show the total count of each product sold. "
   ]
  },
  {
   "cell_type": "code",
   "execution_count": null,
   "metadata": {},
   "outputs": [],
   "source": [
    "#Write your code here"
   ]
  },
  {
   "cell_type": "markdown",
   "metadata": {},
   "source": [
    "## Section B--NPV   Total--(20marks)"
   ]
  },
  {
   "cell_type": "markdown",
   "metadata": {
    "colab_type": "text",
    "id": "g70gEUMU84VB"
   },
   "source": [
    "<span style=\"font-family: Arial; font-weight:bold;font-size:1.5em;color:#db0b49;\">1. Read the given Dataset UK_Flight_2018.\n",
    "\n",
    "A.\t Find the number of rows and columns present in it. (2 Marks)\n",
    "\n",
    "B.\tIdentify the airline names flying in the UK. (2 Marks)\n",
    "\n",
    "C.\tFind the list of flights that origin from Vietnam. (2 Marks)\n",
    "\n",
    "D.\tFind the number of airlines under each reporting airport.  (2 Marks)\n",
    "\n",
    "E.\tFind the number of flights that origin from Los Angeles and reporting at Heathrow Airport. (2 Marks)\n"
   ]
  },
  {
   "cell_type": "code",
   "execution_count": 17,
   "metadata": {},
   "outputs": [],
   "source": [
    "%matplotlib inline\n",
    "import matplotlib.pyplot as plt\n",
    "import numpy as np\n",
    "import pandas as pd\n",
    "import math\n",
    "import seaborn as sns"
   ]
  },
  {
   "cell_type": "markdown",
   "metadata": {
    "colab_type": "text",
    "id": "zpoC2aM084VC"
   },
   "source": [
    "#### A.  Find the number of rows and columns present in it. (2 Marks)"
   ]
  },
  {
   "cell_type": "code",
   "execution_count": 2,
   "metadata": {
    "colab": {},
    "colab_type": "code",
    "id": "JsS6Eixx84VE",
    "outputId": "081a2146-c946-42ef-bf21-f217ee33f7fd"
   },
   "outputs": [],
   "source": [
    "#Write your code here"
   ]
  },
  {
   "cell_type": "markdown",
   "metadata": {
    "colab_type": "text",
    "id": "FP5aW2sf84VZ"
   },
   "source": [
    "#### B. Identify the unique airline names flying in UK. (2 Marks)"
   ]
  },
  {
   "cell_type": "code",
   "execution_count": 3,
   "metadata": {
    "colab": {},
    "colab_type": "code",
    "id": "AMgC4wtk84Va",
    "outputId": "02268108-50ad-4163-8cc5-44748f5c2c85"
   },
   "outputs": [],
   "source": [
    "#Write your code here"
   ]
  },
  {
   "cell_type": "markdown",
   "metadata": {
    "colab_type": "text",
    "id": "vRnPwjAc84Vm"
   },
   "source": [
    "#### C. Find the list of flights that origin from vietnam. (2 Marks)"
   ]
  },
  {
   "cell_type": "code",
   "execution_count": 4,
   "metadata": {
    "colab": {},
    "colab_type": "code",
    "id": "N58l11xE84Vm",
    "outputId": "3e9da675-f92a-4c72-ae66-819e2ad6cc1a",
    "scrolled": true
   },
   "outputs": [],
   "source": [
    "#Write your code here"
   ]
  },
  {
   "cell_type": "markdown",
   "metadata": {
    "colab_type": "text",
    "id": "qUUhTr8084Vu"
   },
   "source": [
    "#### D.Find the number of airlines under each reporting airport. (2 Marks)"
   ]
  },
  {
   "cell_type": "code",
   "execution_count": 5,
   "metadata": {
    "colab": {},
    "colab_type": "code",
    "id": "oZb5s0Zn84Vu",
    "outputId": "21e15f1c-e498-48d7-d9d3-531caaef3030"
   },
   "outputs": [],
   "source": [
    "#Write your code here"
   ]
  },
  {
   "cell_type": "markdown",
   "metadata": {
    "colab_type": "text",
    "id": "7y3MLobU84Vx"
   },
   "source": [
    "#### E. Find the number of flights that origin from Los Angeles and report at Heathrow Airport. (2 Marks)"
   ]
  },
  {
   "cell_type": "code",
   "execution_count": 6,
   "metadata": {
    "colab": {},
    "colab_type": "code",
    "id": "2MJTY33n84Vx",
    "outputId": "b5370db0-0708-43fc-ad7c-2af352d2b980"
   },
   "outputs": [],
   "source": [
    "#Write your code here"
   ]
  },
  {
   "cell_type": "markdown",
   "metadata": {
    "colab_type": "text",
    "id": "tT-O8cc584V0"
   },
   "source": [
    "<span style=\"font-family: Arial; font-weight:bold;font-size:1.5em;color:#db0b49;\">2.Continue with the UK_Flight_2018 for below A,B,C Questions.\n",
    "\n",
    "A.\tFind the total number of flights matched, unmatched and cancelled. (2 Marks)\n",
    "\n",
    "B.\tFor flights originating from the USA and find the average delay in minutes for every airline. (2 Marks)\n",
    "\n",
    "C. Count the categories in \"scheduled charter\" namely 'S' and 'C'.Plot horizontally using matplotlib and label and Title of chart should be used appropriately. (2 marks)\n",
    "    \n",
    "D. Create the below Dataframes and apply merge function to bring all matching rows and also 'Saffron' and 'The Creek' rows. (2 marks)\n",
    "    \n",
    "E) Create a panda series with the values ranging from 0 to 100. Plot the histogram with each bin size of 15 units. (2 marks)\n",
    "\n"
   ]
  },
  {
   "cell_type": "markdown",
   "metadata": {
    "colab_type": "text",
    "id": "X3c19YGg84V1"
   },
   "source": [
    "#### A. Find the total number of matched, unmatched and cancelled flights. (2 Marks)"
   ]
  },
  {
   "cell_type": "code",
   "execution_count": 7,
   "metadata": {
    "colab": {},
    "colab_type": "code",
    "id": "JTVqO_FA84V1",
    "outputId": "631cb95b-7320-4f16-9409-fd71f67ea983"
   },
   "outputs": [],
   "source": [
    "#Write your code here"
   ]
  },
  {
   "cell_type": "markdown",
   "metadata": {
    "colab_type": "text",
    "id": "EFHv3LMc84V3"
   },
   "source": [
    "#### B. Find the average delay in minutes for every airline considering all the flights that are originating from USA. (2 Marks)"
   ]
  },
  {
   "cell_type": "code",
   "execution_count": 8,
   "metadata": {
    "colab": {},
    "colab_type": "code",
    "id": "uNS22GNd84V4",
    "outputId": "437decab-f40d-4f81-9f7b-dbb22b1b731c"
   },
   "outputs": [],
   "source": [
    "#Write your code here"
   ]
  },
  {
   "cell_type": "markdown",
   "metadata": {},
   "source": [
    "#### C. Count the categories in \"scheduled charter\" namely 'S' and 'C'. Plot horizontal barplot using matplotlib and label and Title of chart should be used appropriately.(2 marks)"
   ]
  },
  {
   "cell_type": "code",
   "execution_count": 9,
   "metadata": {},
   "outputs": [],
   "source": [
    "# Write your code here"
   ]
  },
  {
   "cell_type": "markdown",
   "metadata": {},
   "source": [
    "#### D. On the below dataframes apply merge function to bring all matching rows and also 'Saffron' and 'The Creek' rows. (2 marks)"
   ]
  },
  {
   "cell_type": "raw",
   "metadata": {},
   "source": [
    "my_df1=pd.DataFrame({\n",
    " 'Restaurant_ID':[101,102,105,106],\n",
    " 'Restaurant':['Chutney Chang','Black Pearl','Punjabi Rasoi','Hard Rock Cafe'],\n",
    " 'Location':['Jayanagar','Koramangala','HSR Layout','Koramangla'], \n",
    "})\n",
    "\n",
    "\n",
    "my_df2=pd.DataFrame({\n",
    " 'Restaurant_ID':[102,101,107,108],\n",
    " 'Restaurant':['Black Pearl', 'Chutney Chang', 'Saffron', 'The Creek'],\n",
    "  'Location':['Koramangala', 'Jayanagar', 'MG Road', 'Koramangala']  \n",
    "})\n"
   ]
  },
  {
   "cell_type": "code",
   "execution_count": 13,
   "metadata": {},
   "outputs": [],
   "source": [
    "# Write your code here"
   ]
  },
  {
   "cell_type": "markdown",
   "metadata": {},
   "source": [
    "#### E) Create a panda series with the values ranging from 0 to 100. Plot the histogram with each bin size of 15 units. (2 marks)"
   ]
  },
  {
   "cell_type": "code",
   "execution_count": 15,
   "metadata": {},
   "outputs": [],
   "source": [
    "#Write your code here"
   ]
  },
  {
   "cell_type": "markdown",
   "metadata": {},
   "source": [
    "####                         *****   ALL THE BEST *****"
   ]
  }
 ],
 "metadata": {
  "kernelspec": {
   "display_name": "Python 3 (ipykernel)",
   "language": "python",
   "name": "python3"
  },
  "language_info": {
   "codemirror_mode": {
    "name": "ipython",
    "version": 3
   },
   "file_extension": ".py",
   "mimetype": "text/x-python",
   "name": "python",
   "nbconvert_exporter": "python",
   "pygments_lexer": "ipython3",
   "version": "3.11.4"
  }
 },
 "nbformat": 4,
 "nbformat_minor": 4
}
