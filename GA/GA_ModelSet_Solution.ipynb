{
 "cells": [
  {
   "cell_type": "markdown",
   "metadata": {
    "colab_type": "text",
    "id": "RYzl6Uxso9NV"
   },
   "source": [
    "##  MTech Graded Assessment \n",
    "## Subject : Python For DataScience\n",
    "## Marks: 40 \n",
    "## Time : 3 Hours\n"
   ]
  },
  {
   "cell_type": "markdown",
   "metadata": {},
   "source": [
    "## Section A--ITP   Total--(20marks)"
   ]
  },
  {
   "cell_type": "markdown",
   "metadata": {},
   "source": [
    "#### 1. Given a two list of integers, create a third list by user defined function such that it should contain only odd numbers from the first list and even numbers from the second list? (3marks)\n"
   ]
  },
  {
   "cell_type": "code",
   "execution_count": 5,
   "metadata": {},
   "outputs": [
    {
     "data": {
      "text/plain": [
       "[23, 11, 17, 24, 36, 12]"
      ]
     },
     "execution_count": 5,
     "metadata": {},
     "output_type": "execute_result"
    }
   ],
   "source": [
    "\n",
    "list1 = [10, 20, 23, 11, 17]\n",
    "list2 = [13, 43, 24, 36, 12]\n",
    "def mergeList(list1, list2):\n",
    "    result=[]\n",
    "# using list comprehension\n",
    "# Using list comprehension to get odd numbers from list1 and even numbers from list2\n",
    "    result = [x for x in list1 if x % 2 != 0] + [x for x in list2 if x % 2 == 0]\n",
    "    # print(result)\n",
    "    return result\n",
    "mergeList(list1, list2)\n",
    "\n",
    "\n"
   ]
  },
  {
   "cell_type": "code",
   "execution_count": 2,
   "metadata": {
    "colab": {},
    "colab_type": "code",
    "id": "HZOISZZpo9NW",
    "outputId": "e67ceb6c-62b7-4001-ce3d-812baeddb0df"
   },
   "outputs": [
    {
     "name": "stdout",
     "output_type": "stream",
     "text": [
      "Merged List :\n",
      "[23, 11, 17, 24, 36, 12]\n"
     ]
    }
   ],
   "source": [
    "def mergeList(list1, list2):\n",
    "    list3= []\n",
    "    for num in list1:\n",
    "        if(num % 2 != 0):\n",
    "              list3.append(num)\n",
    "    for num in list2:\n",
    "        if(num % 2 == 0):\n",
    "            list3.append(num)\n",
    "    return list3\n",
    "    \n",
    "print(\"Merged List :\")\n",
    "list1 = [10, 20, 23, 11, 17] # retrieve odd nos\n",
    "list2 = [13, 43, 24, 36, 12] # retrieve even nos\n",
    "\n",
    "print(mergeList(list1, list2))"
   ]
  },
  {
   "cell_type": "markdown",
   "metadata": {},
   "source": [
    "#### 2. Write A   Python Program to Find the Sum of the Series: 1 + 1/2 + 1/3 + ….. + 1/N? (4 marks)"
   ]
  },
  {
   "cell_type": "code",
   "execution_count": 8,
   "metadata": {},
   "outputs": [
    {
     "data": {
      "text/plain": [
       "1.8333333333333333"
      ]
     },
     "execution_count": 8,
     "metadata": {},
     "output_type": "execute_result"
    }
   ],
   "source": [
    "n=int(input(\"Enter the number of elements:\"))\n",
    "result_sum=sum([ 1/z for z in range(1,n+1) ])\n",
    "result_sum\n"
   ]
  },
  {
   "cell_type": "markdown",
   "metadata": {},
   "source": [
    "#### Python Code:\n"
   ]
  },
  {
   "cell_type": "code",
   "execution_count": 3,
   "metadata": {},
   "outputs": [
    {
     "name": "stdout",
     "output_type": "stream",
     "text": [
      "Enter the number of terms:  3\n"
     ]
    },
    {
     "name": "stdout",
     "output_type": "stream",
     "text": [
      "The sum of series is 1.83\n"
     ]
    }
   ],
   "source": [
    "n=int(input(\"Enter the number of terms: \"))\n",
    "sum1=0\n",
    "for i in range(1,n+1):\n",
    "    sum1=sum1+(1/i)\n",
    "print(\"The sum of series is\",round(sum1,2))"
   ]
  },
  {
   "cell_type": "markdown",
   "metadata": {},
   "source": [
    "#### 3.Python Program which will find all which are divisible by 3,between 4000 and 4200 ?The numbers obtained should be printed in a comma-separated sequence on a single line. (3marks)\n"
   ]
  },
  {
   "cell_type": "code",
   "execution_count": 33,
   "metadata": {},
   "outputs": [],
   "source": [
    "# result_seq=[ str(x) for x in range(4000,4201) if x%3==0 ]\n",
    "# print(','.join(result_seq))"
   ]
  },
  {
   "cell_type": "code",
   "execution_count": 4,
   "metadata": {},
   "outputs": [
    {
     "name": "stdout",
     "output_type": "stream",
     "text": [
      "4002,4005,4008,4011,4014,4017,4020,4023,4026,4029,4032,4035,4038,4041,4044,4047,4050,4053,4056,4059,4062,4065,4068,4071,4074,4077,4080,4083,4086,4089,4092,4095,4098,4101,4104,4107,4110,4113,4116,4119,4122,4125,4128,4131,4134,4137,4140,4143,4146,4149,4152,4155,4158,4161,4164,4167,4170,4173,4176,4179,4182,4185,4188,4191,4194,4197,4200\n"
     ]
    }
   ],
   "source": [
    "l=[]\n",
    "for i in range(4000, 4201):\n",
    "    if (i%3==0):\n",
    "        l.append(str(i))\n",
    "\n",
    "print(','.join(l))"
   ]
  },
  {
   "cell_type": "markdown",
   "metadata": {
    "colab_type": "text",
    "id": "ABt3aSjN4WnW"
   },
   "source": [
    "#### 4. Write a python program to convert a 12-hour format to a 24-hour format. The program should take the current time from the user in a 12-hour format and convert it into 24-hour format.:  (5 Marks)\n",
    "  \n",
    " Input: \"08:05:45 PM\"\n",
    " Output: 20:05:45"
   ]
  },
  {
   "cell_type": "code",
   "execution_count": 34,
   "metadata": {},
   "outputs": [
    {
     "data": {
      "text/plain": [
       "'PM'"
      ]
     },
     "execution_count": 34,
     "metadata": {},
     "output_type": "execute_result"
    }
   ],
   "source": [
    "str2='08:05:45 PM'\n",
    "str2[-2:]\n"
   ]
  },
  {
   "cell_type": "code",
   "execution_count": 2,
   "metadata": {
    "colab": {},
    "colab_type": "code",
    "id": "pYDzlovK4WnX",
    "outputId": "6da15796-68bf-4f18-8424-132fe596138a"
   },
   "outputs": [
    {
     "name": "stdout",
     "output_type": "stream",
     "text": [
      "20:05:45\n"
     ]
    }
   ],
   "source": [
    "def convert24(str1): \n",
    "      \n",
    "    # Checking if last two elements of time \n",
    "    # is AM and first two elements are 12 \n",
    "    if str1[-2:] == \"AM\" and str1[:2] == \"12\": \n",
    "        return \"00\" + str1[2:-2] \n",
    "          \n",
    "    # remove the AM     \n",
    "    elif str1[-2:] == \"AM\": \n",
    "        return str1[:-2] \n",
    "      \n",
    "    # Checking if last two elements of time \n",
    "    # is PM and first two elements are 12    \n",
    "    elif str1[-2:] == \"PM\" and str1[:2] == \"12\": \n",
    "        return str1[:-2] \n",
    "          \n",
    "    else: \n",
    "          \n",
    "        # add 12 to hours and remove PM \n",
    "        return str(int(str1[:2]) + 12) + str1[2:8] \n",
    "  \n",
    "        \n",
    "print(convert24(\"08:05:45 PM\")) "
   ]
  },
  {
   "cell_type": "code",
   "execution_count": 4,
   "metadata": {},
   "outputs": [
    {
     "name": "stdout",
     "output_type": "stream",
     "text": [
      "Original list  {'chips', 'brush', 'comb', 'juice', 'cake', 'detergent', 'toothpaste', 'soap', 'chocolate'}\n",
      "Count of each item  {'soap': 2, 'detergent': 2, 'chocolate': 1, 'toothpaste': 2, 'brush': 2, 'comb': 2, 'juice': 1, 'cake': 1, 'chips': 1}\n"
     ]
    }
   ],
   "source": [
    "list1 = [\"soap\",\"detergent\",\"chocolate\",\"toothpaste\"]\n",
    "list2 = [\"soap\",\"detergent\",\"brush\",\"comb\",\"toothpaste\"]\n",
    "list3 = [\"juice\",\"cake\",\"brush\",\"comb\",\"chips\"]\n",
    "\n",
    "sampleList = list1 + list2 + list3\n",
    "print(\"Original list \", set(sampleList))\n",
    "total_count={}\n",
    "for item in sampleList:\n",
    "    if item in total_count:\n",
    "        total_count[item]+=1\n",
    "    else:\n",
    "        total_count[item]=1\n",
    "print(\"Count of each item \",total_count)"
   ]
  },
  {
   "cell_type": "markdown",
   "metadata": {
    "colab_type": "text",
    "id": "JNdfMoKZ4Wmy"
   },
   "source": [
    "#### 5. Python program\n",
    "  \n",
    "  Create a list of items given below(5 marks)\n",
    " \n",
    " A. = [soap,detergent,chocolate,toothpaste]\n",
    " \n",
    " B. = [soap,detergent,brush,comb,toothpaste]\n",
    " \n",
    " C. = [juice,cake,brush,comb,chips]\n",
    "   \n",
    "  Create a final dictionary that will show the total count of each product sold. "
   ]
  },
  {
   "cell_type": "code",
   "execution_count": 6,
   "metadata": {
    "colab": {},
    "colab_type": "code",
    "id": "zxaXRlRm4Wm3",
    "outputId": "da693e1b-a12c-4993-da4c-cebbc4a72e5c"
   },
   "outputs": [
    {
     "name": "stdout",
     "output_type": "stream",
     "text": [
      "Origigal list  {'chocolate', 'comb', 'brush', 'juice', 'chips', 'toothpaste', 'soap', 'detergent', 'cake'}\n",
      "Printing count of each item   {'soap': 2, 'detergent': 2, 'chocolate': 1, 'toothpaste': 2, 'brush': 2, 'comb': 2, 'juice': 1, 'cake': 1, 'chips': 1}\n"
     ]
    }
   ],
   "source": [
    "list1 = [\"soap\",\"detergent\",\"chocolate\",\"toothpaste\"]\n",
    "list2 = [\"soap\",\"detergent\",\"brush\",\"comb\",\"toothpaste\"]\n",
    "list3 = [\"juice\",\"cake\",\"brush\",\"comb\",\"chips\"]\n",
    "\n",
    "sampleList = list1 + list2 + list3\n",
    "print(\"Origigal list \", set(sampleList))\n",
    "\n",
    "countDict = dict()\n",
    "for item in sampleList:\n",
    "    if(item in countDict):\n",
    "        countDict[item] += 1\n",
    "    else:\n",
    "        countDict[item] = 1\n",
    "  \n",
    "print(\"Printing count of each item  \",countDict)"
   ]
  },
  {
   "cell_type": "code",
   "execution_count": null,
   "metadata": {},
   "outputs": [],
   "source": []
  },
  {
   "cell_type": "markdown",
   "metadata": {},
   "source": [
    "## Section B--NPV   Total--(20marks)"
   ]
  },
  {
   "cell_type": "markdown",
   "metadata": {
    "colab_type": "text",
    "id": "g70gEUMU84VB"
   },
   "source": [
    "<span style=\"font-family: Arial; font-weight:bold;font-size:1.5em;color:#db0b49;\">1. Read the given Dataset UK_Flight_2018.\n",
    "\n",
    "A.\t Find the number of rows and columns present in it. (2 Marks)\n",
    "\n",
    "B.\tIdentify the airline names flying in the UK. (2 Marks)\n",
    "\n",
    "C.\tFind the list of flights that origin from Vietnam. (2 Marks)\n",
    "\n",
    "D.\tFind the number of airlines under each reporting airport.  (2 Marks)\n",
    "\n",
    "E.\tFind the number of flights that origin from Los Angeles and reporting at Heathrow Airport. (2 Marks)\n"
   ]
  },
  {
   "cell_type": "code",
   "execution_count": 6,
   "metadata": {},
   "outputs": [
    {
     "name": "stdout",
     "output_type": "stream",
     "text": [
      "Collecting seaborn\n",
      "  Downloading seaborn-0.13.2-py3-none-any.whl.metadata (5.4 kB)\n",
      "Requirement already satisfied: numpy!=1.24.0,>=1.20 in c:\\users\\11040026\\appdata\\local\\programs\\python\\python312\\lib\\site-packages (from seaborn) (2.1.3)\n",
      "Requirement already satisfied: pandas>=1.2 in c:\\users\\11040026\\appdata\\local\\programs\\python\\python312\\lib\\site-packages (from seaborn) (2.2.3)\n",
      "Requirement already satisfied: matplotlib!=3.6.1,>=3.4 in c:\\users\\11040026\\appdata\\local\\programs\\python\\python312\\lib\\site-packages (from seaborn) (3.10.0)\n",
      "Requirement already satisfied: contourpy>=1.0.1 in c:\\users\\11040026\\appdata\\local\\programs\\python\\python312\\lib\\site-packages (from matplotlib!=3.6.1,>=3.4->seaborn) (1.3.1)\n",
      "Requirement already satisfied: cycler>=0.10 in c:\\users\\11040026\\appdata\\local\\programs\\python\\python312\\lib\\site-packages (from matplotlib!=3.6.1,>=3.4->seaborn) (0.12.1)\n",
      "Requirement already satisfied: fonttools>=4.22.0 in c:\\users\\11040026\\appdata\\local\\programs\\python\\python312\\lib\\site-packages (from matplotlib!=3.6.1,>=3.4->seaborn) (4.55.3)\n",
      "Requirement already satisfied: kiwisolver>=1.3.1 in c:\\users\\11040026\\appdata\\local\\programs\\python\\python312\\lib\\site-packages (from matplotlib!=3.6.1,>=3.4->seaborn) (1.4.8)\n",
      "Requirement already satisfied: packaging>=20.0 in c:\\users\\11040026\\appdata\\roaming\\python\\python312\\site-packages (from matplotlib!=3.6.1,>=3.4->seaborn) (24.1)\n",
      "Requirement already satisfied: pillow>=8 in c:\\users\\11040026\\appdata\\local\\programs\\python\\python312\\lib\\site-packages (from matplotlib!=3.6.1,>=3.4->seaborn) (11.1.0)\n",
      "Requirement already satisfied: pyparsing>=2.3.1 in c:\\users\\11040026\\appdata\\local\\programs\\python\\python312\\lib\\site-packages (from matplotlib!=3.6.1,>=3.4->seaborn) (3.2.1)\n",
      "Requirement already satisfied: python-dateutil>=2.7 in c:\\users\\11040026\\appdata\\roaming\\python\\python312\\site-packages (from matplotlib!=3.6.1,>=3.4->seaborn) (2.9.0.post0)\n",
      "Requirement already satisfied: pytz>=2020.1 in c:\\users\\11040026\\appdata\\local\\programs\\python\\python312\\lib\\site-packages (from pandas>=1.2->seaborn) (2024.2)\n",
      "Requirement already satisfied: tzdata>=2022.7 in c:\\users\\11040026\\appdata\\local\\programs\\python\\python312\\lib\\site-packages (from pandas>=1.2->seaborn) (2024.2)\n",
      "Requirement already satisfied: six>=1.5 in c:\\users\\11040026\\appdata\\roaming\\python\\python312\\site-packages (from python-dateutil>=2.7->matplotlib!=3.6.1,>=3.4->seaborn) (1.16.0)\n",
      "Downloading seaborn-0.13.2-py3-none-any.whl (294 kB)\n",
      "Installing collected packages: seaborn\n",
      "Successfully installed seaborn-0.13.2\n",
      "Note: you may need to restart the kernel to use updated packages.\n"
     ]
    }
   ],
   "source": [
    "%pip install seaborn"
   ]
  },
  {
   "cell_type": "code",
   "execution_count": 1,
   "metadata": {},
   "outputs": [],
   "source": [
    "%matplotlib inline\n",
    "import matplotlib.pyplot as plt\n",
    "import numpy as np\n",
    "import pandas as pd\n",
    "import math\n",
    "import seaborn as sns"
   ]
  },
  {
   "cell_type": "markdown",
   "metadata": {
    "colab_type": "text",
    "id": "zpoC2aM084VC"
   },
   "source": [
    "#### A.  Find the number of rows and columns present in it. (2 Marks)"
   ]
  },
  {
   "cell_type": "code",
   "execution_count": 13,
   "metadata": {},
   "outputs": [
    {
     "name": "stdout",
     "output_type": "stream",
     "text": [
      "c:\\Users\\11040026\\Documents\\GitHub\\python-Basics\\GA\n"
     ]
    }
   ],
   "source": [
    "import os\n",
    "\n",
    "current_dir = os.getcwd()\n",
    "print(current_dir)"
   ]
  },
  {
   "cell_type": "code",
   "execution_count": 12,
   "metadata": {},
   "outputs": [
    {
     "data": {
      "text/plain": [
       "'c:\\\\Users\\\\11040026\\\\Documents\\\\GitHub\\\\python-Basics\\\\GA'"
      ]
     },
     "execution_count": 12,
     "metadata": {},
     "output_type": "execute_result"
    }
   ],
   "source": [
    "pwd"
   ]
  },
  {
   "cell_type": "code",
   "execution_count": 17,
   "metadata": {
    "colab": {},
    "colab_type": "code",
    "id": "JsS6Eixx84VE",
    "outputId": "081a2146-c946-42ef-bf21-f217ee33f7fd"
   },
   "outputs": [
    {
     "name": "stdout",
     "output_type": "stream",
     "text": [
      "           run_date  reporting_period reporting_airport  \\\n",
      "0  30/04/2018 13:48            201801          ABERDEEN   \n",
      "1  30/04/2018 13:48            201801          ABERDEEN   \n",
      "2  30/04/2018 13:48            201801          ABERDEEN   \n",
      "3  30/04/2018 13:48            201801          ABERDEEN   \n",
      "4  30/04/2018 13:48            201801          ABERDEEN   \n",
      "\n",
      "  origin_destination_country          origin_destination  airline_name  \\\n",
      "0                     POLAND                      GDANSK      WIZZ AIR   \n",
      "1                     POLAND             WARSAW (CHOPIN)      WIZZ AIR   \n",
      "2             UNITED KINGDOM  BELFAST CITY (GEORGE BEST)     FLYBE LTD   \n",
      "3             UNITED KINGDOM                  BIRMINGHAM     FLYBE LTD   \n",
      "4             UNITED KINGDOM                     BRISTOL  BMI REGIONAL   \n",
      "\n",
      "  scheduled_charter  number_flights_matched  actual_flights_unmatched  \\\n",
      "0                 S                      18                         0   \n",
      "1                 S                      12                         0   \n",
      "2                 S                      60                         0   \n",
      "3                 S                     145                         0   \n",
      "4                 S                      57                         0   \n",
      "\n",
      "   number_flights_cancelled  ...  \\\n",
      "0                         2  ...   \n",
      "1                         0  ...   \n",
      "2                         2  ...   \n",
      "3                         1  ...   \n",
      "4                         2  ...   \n",
      "\n",
      "   flights_between_61_and_120_minutes_late_percent  \\\n",
      "0                                         0.000000   \n",
      "1                                         8.333333   \n",
      "2                                         1.612903   \n",
      "3                                         2.054795   \n",
      "4                                        11.864407   \n",
      "\n",
      "   flights_between_121_and_180_minutes_late_percent  \\\n",
      "0                                          5.000000   \n",
      "1                                          0.000000   \n",
      "2                                          0.000000   \n",
      "3                                          0.000000   \n",
      "4                                          1.694915   \n",
      "\n",
      "   flights_between_181_and_360_minutes_late_percent  \\\n",
      "0                                          0.000000   \n",
      "1                                          0.000000   \n",
      "2                                          0.000000   \n",
      "3                                          0.000000   \n",
      "4                                          1.694915   \n",
      "\n",
      "   flights_more_than_360_minutes_late_percent  flights_unmatched_percent  \\\n",
      "0                                         0.0                        0.0   \n",
      "1                                         0.0                        0.0   \n",
      "2                                         0.0                        0.0   \n",
      "3                                         0.0                        0.0   \n",
      "4                                         0.0                        0.0   \n",
      "\n",
      "   flights_cancelled_percent  average_delay_mins  \\\n",
      "0                  10.000000           11.000000   \n",
      "1                   0.000000           21.583333   \n",
      "2                   3.225806            5.683333   \n",
      "3                   0.684932            4.000000   \n",
      "4                   3.389831           23.403509   \n",
      "\n",
      "   previous_year_month_flights_matched  \\\n",
      "0                                   19   \n",
      "1                                   18   \n",
      "2                                   62   \n",
      "3                                  176   \n",
      "4                                   65   \n",
      "\n",
      "   previous_year_month_early_to_15_mins_late_percent  \\\n",
      "0                                          63.157895   \n",
      "1                                          83.333333   \n",
      "2                                          82.258065   \n",
      "3                                          81.818182   \n",
      "4                                          80.000000   \n",
      "\n",
      "   previous_year_month_average_delay  \n",
      "0                          33.736842  \n",
      "1                           7.055556  \n",
      "2                          12.161290  \n",
      "3                          14.835227  \n",
      "4                          22.384615  \n",
      "\n",
      "[5 rows x 25 columns]\n"
     ]
    },
    {
     "data": {
      "text/plain": [
       "3208"
      ]
     },
     "execution_count": 17,
     "metadata": {},
     "output_type": "execute_result"
    }
   ],
   "source": [
    "import pandas as pd\n",
    "path_file=r'c:\\Users\\11040026\\Documents\\GitHub\\python-Basics\\GA\\UK_Flight_2018.csv'\n",
    "uk=pd.read_csv(path_file)\n",
    "print(uk.head(5))\n",
    "uk.shape\n",
    "rows,colm=uk.shape\n",
    "rows"
   ]
  },
  {
   "cell_type": "markdown",
   "metadata": {
    "colab_type": "text",
    "id": "FP5aW2sf84VZ"
   },
   "source": [
    "#### B. Identify the airline names flying in UK. (2 Marks)"
   ]
  },
  {
   "cell_type": "code",
   "execution_count": 18,
   "metadata": {
    "colab": {},
    "colab_type": "code",
    "id": "AMgC4wtk84Va",
    "outputId": "02268108-50ad-4163-8cc5-44748f5c2c85"
   },
   "outputs": [
    {
     "name": "stdout",
     "output_type": "stream",
     "text": [
      "['WIZZ AIR' 'FLYBE LTD' 'BMI REGIONAL' 'EASTERN AIRWAYS' 'LOGANAIR LTD'\n",
      " 'EASYJET AIRLINE COMPANY LTD' 'BRITISH AIRWAYS PLC' 'EASYJET SWITZERLAND'\n",
      " 'SAS' 'AIR FRANCE' 'LUFTHANSA' 'FLUGFELAG ISLANDS(AIR ICELAND)'\n",
      " 'AER LINGUS' 'KLM' 'KLM CITYHOPPER' 'WIDEROE FLYVESELSKAP A/S' 'RYANAIR'\n",
      " 'TUI AIRWAYS LTD' 'AIR HAMBURG' 'SAXONAIR CHARTER LTD' 'VANAIR EUROPE AS'\n",
      " 'AIR ALSIE' 'NETJETS TRANSPORTES AEREOS' 'BRUSSELS AIRLINES'\n",
      " 'TAG AVIATION (UK) LTD' 'THOMAS COOK AIRLINES LTD' 'JET2.COM LTD'\n",
      " 'VISTAJET LTD MALTA' 'UNITED AIRLINES' 'NORWEGIAN AIR INTERNATIONAL'\n",
      " 'GERMANIA FLUGGESELLSCHAFT' 'EUROPE AIRPOST' 'CSA CZECH AIRLINES'\n",
      " 'BLUE AIR TRANSPORT AERIAN' 'Unknown' 'TURKMENISTAN AIRLINES' 'AIR INDIA'\n",
      " 'PAKISTAN INTL AIRLINES' 'QATAR AIRWAYS' 'EMIRATES' 'ENTER AIR'\n",
      " 'MONARCH AIRLINES' 'EDELWEISS AIR' 'CELLO AVIATION LTD'\n",
      " 'AMERICAN AIRLINES' 'AUSTRIAN AIRLINES' 'EUROWINGS LUFTVERKEHRS' 'COBALT'\n",
      " 'TITAN AIRWAYS LTD' 'ADRIA AIRWAYS' 'VUELING AIRLINES' 'GERMANWINGS'\n",
      " 'AIRTANKER SERVICES LTD' 'SMALL PLANET AIRLINES' 'ICELANDAIR'\n",
      " 'STOBART AIR' 'CARPATAIR' 'CONDOR' 'IBERIA EXPRESS' 'CITY JET'\n",
      " 'SWISS AIRLINES' 'FREEBIRD AIRLINES' 'THY TURKISH AIRLINES'\n",
      " 'GAINJET AVIATION' 'MALETH AERO' 'JOTA AVIATION LTD'\n",
      " 'AURIGNY AIR SERVICES' 'AERO4M' 'WOW AIR' 'PAN EUROPEAN AIR SERVICE'\n",
      " 'THOMAS COOK BELGIUM' 'SIAVIA' 'GAMA AVIATION (UK) LTD'\n",
      " 'FAI FLIGHT- AMBULANCE SERVICE' 'ETIHAD AIRWAYS' 'BA CITYFLYER LTD'\n",
      " 'DELTA AIRLINES' 'NORWEGIAN AIR SHUTTLE' 'ATLANTIC AIRWAYS' 'FINNAIR'\n",
      " 'SMARTWINGS' 'TRANSAVIA FRANCE' 'AEGEAN AIRLINES' 'AIR TRANSAT'\n",
      " 'BLUE ISLANDS LIMITED' 'VOLOTEA' 'WEST JET AIRLINES'\n",
      " 'VIRGIN ATLANTIC AIRWAYS LTD' 'RWANDAIR EXPRESS' 'SILK WAY AIRLINES'\n",
      " 'BELAVIA (BELARUSSIAN AIRLINES)' 'ABS JET' 'GEORGIAN AIRWAYS' 'ALBA STAR'\n",
      " 'AIR BALTIC' 'AEROFLOT' 'UKRAINE INTERNATIONAL AIRLINES'\n",
      " 'TIANJIN AIRLINES' 'CATHAY PACIFIC AIRWAYS' 'NORWEGIAN AIR UK LTD'\n",
      " 'CHINA AIRLINES' 'IRAQI AIRWAYS' 'ROYAL AIR MAROC' 'AIR ARABIA MAROC'\n",
      " 'AIR X CHARTER' 'TUNISAIR' 'MED-VIEW AIRLINE' 'LUXAVIATION'\n",
      " 'GERMANIA FLUG' 'ALBA SERVIZI TRASPORTI' 'AIR MALTA' 'AIR PORTUGAL'\n",
      " 'AIR EUROPA' 'AIR NOSTRUM' 'DC AVIATION' 'PEGASUS AIRLINES' 'QANTAS'\n",
      " 'AIR NEW ZEALAND LTD' 'AIR CANADA' 'AEROMEXICO' 'ETHIOPIAN AIRLINES'\n",
      " 'KENYA AIRWAYS' 'AZERBAIJAN AIRLINES (AZAL)' 'BULGARIA AIR' 'AIR ASTANA'\n",
      " 'LOT-POLISH AIRLINES' 'TAROM' 'UZBEKISTAN AIRLINES'\n",
      " 'ROYAL BRUNEI AIRLINES' 'AIR CHINA' 'CHINA SOUTHERN'\n",
      " 'CHINA EASTERN AIRLINES' 'HAINAN AIRLINES' 'GARUDA INDONESIA'\n",
      " 'ALL NIPPON AIRWAYS' 'JAPAN AIRLINES' 'MALAYSIAN AIRLINES SYSTEM-MAS'\n",
      " 'PHILIPPINE AIRLINES' 'ASIANA AIRLINES' 'KOREAN AIR' 'SINGAPORE AIRLINES'\n",
      " 'EVA AIR' 'THAI AIRWAYS INTERNATIONAL' 'VIETNAM AIRLINES'\n",
      " 'AIR MAURITIUS LTD' 'BIMAN BANGLADESH AIRLINES' 'JET AIRWAYS'\n",
      " 'SRILANKAN AIRLINES' 'GULF AIR' 'IRAN AIR' 'KUWAIT AIRWAYS' 'OMAN AIR'\n",
      " 'SAUDI ARABIAN AIRLINES' 'EL AL' 'ROYAL JORDANIAN'\n",
      " 'MIDDLE EAST AIRLINES (AIR LIBAN S A L)' 'AIR ALGERIE' 'EGYPT AIR'\n",
      " 'TAM LINHAS AEREAS' 'AVIANCA COLOMBIA' 'SOUTH AFRICAN AIRWAYS'\n",
      " 'ATLAS AIR  INC' 'ARIK AIR' 'CROATIA AIRLINES' 'ALITALIA (CAI)'\n",
      " 'AIR SERBIA' 'IBERIA' 'SUN AIR OF SCANDINAVIA' 'TYROLEAN AIRWAYS'\n",
      " 'LUXAIR' 'SKY WORK AG' 'AVCON JET AG' 'COMLUX AVIATION (MALTA)'\n",
      " 'CROSSAIR EUROPE' 'IJM INTERNATIONAL JET MANAGEMENT GMBH'\n",
      " 'MHS AVIATION GMBH GRUENWALD' 'ARKIA' 'ISRAIR LTD' 'ITALI AIRLINES'\n",
      " 'KAISER AIR' 'SWISS AIR AMBULANCE' 'HOP - AIRLINAIR' 'FLYING SERVICE'\n",
      " 'ALBINATI AVIATION' 'MJET GMBH' 'EUROPEAN AIR TRANSPORT LEIPZIG (EAT)'\n",
      " 'EXECUTIVE AIRLINES' 'EXECUJET SCANDINAVIA' 'AIR MOLDOVA INTERNATIONAL'\n",
      " 'TRANSAVIA' 'TUIFLY  (GERMANY)' 'ATLASJET INTERNATIONAL' 'SHAHEEN AIR'\n",
      " 'THOMAS COOK SCANDANAVIA' 'AIR CONTRACTORS']\n"
     ]
    }
   ],
   "source": [
    "print(uk['airline_name'].unique())"
   ]
  },
  {
   "cell_type": "markdown",
   "metadata": {
    "colab_type": "text",
    "id": "vRnPwjAc84Vm"
   },
   "source": [
    "#### C. Find the list of flights that origin from vietnam. (2 Marks)"
   ]
  },
  {
   "cell_type": "code",
   "execution_count": 10,
   "metadata": {
    "colab": {},
    "colab_type": "code",
    "id": "N58l11xE84Vm",
    "outputId": "3e9da675-f92a-4c72-ae66-819e2ad6cc1a",
    "scrolled": true
   },
   "outputs": [
    {
     "data": {
      "text/html": [
       "<div>\n",
       "<style scoped>\n",
       "    .dataframe tbody tr th:only-of-type {\n",
       "        vertical-align: middle;\n",
       "    }\n",
       "\n",
       "    .dataframe tbody tr th {\n",
       "        vertical-align: top;\n",
       "    }\n",
       "\n",
       "    .dataframe thead th {\n",
       "        text-align: right;\n",
       "    }\n",
       "</style>\n",
       "<table border=\"1\" class=\"dataframe\">\n",
       "  <thead>\n",
       "    <tr style=\"text-align: right;\">\n",
       "      <th></th>\n",
       "      <th>run_date</th>\n",
       "      <th>reporting_period</th>\n",
       "      <th>reporting_airport</th>\n",
       "      <th>origin_destination_country</th>\n",
       "      <th>origin_destination</th>\n",
       "      <th>airline_name</th>\n",
       "      <th>scheduled_charter</th>\n",
       "      <th>number_flights_matched</th>\n",
       "      <th>actual_flights_unmatched</th>\n",
       "      <th>number_flights_cancelled</th>\n",
       "      <th>...</th>\n",
       "      <th>flights_between_61_and_120_minutes_late_percent</th>\n",
       "      <th>flights_between_121_and_180_minutes_late_percent</th>\n",
       "      <th>flights_between_181_and_360_minutes_late_percent</th>\n",
       "      <th>flights_more_than_360_minutes_late_percent</th>\n",
       "      <th>flights_unmatched_percent</th>\n",
       "      <th>flights_cancelled_percent</th>\n",
       "      <th>average_delay_mins</th>\n",
       "      <th>previous_year_month_flights_matched</th>\n",
       "      <th>previous_year_month_early_to_15_mins_late_percent</th>\n",
       "      <th>previous_year_month_average_delay</th>\n",
       "    </tr>\n",
       "  </thead>\n",
       "  <tbody>\n",
       "    <tr>\n",
       "      <th>1398</th>\n",
       "      <td>30/04/2018 13:48</td>\n",
       "      <td>201801</td>\n",
       "      <td>GATWICK</td>\n",
       "      <td>VIETNAM</td>\n",
       "      <td>PHU QUOC INTERNATIONAL</td>\n",
       "      <td>TUI AIRWAYS LTD</td>\n",
       "      <td>C</td>\n",
       "      <td>9</td>\n",
       "      <td>0</td>\n",
       "      <td>0</td>\n",
       "      <td>...</td>\n",
       "      <td>11.111111</td>\n",
       "      <td>0.0</td>\n",
       "      <td>0.0</td>\n",
       "      <td>0.0</td>\n",
       "      <td>0.0</td>\n",
       "      <td>0.0</td>\n",
       "      <td>25.888889</td>\n",
       "      <td>0</td>\n",
       "      <td>0.000000</td>\n",
       "      <td>0.000000</td>\n",
       "    </tr>\n",
       "    <tr>\n",
       "      <th>1858</th>\n",
       "      <td>30/04/2018 13:48</td>\n",
       "      <td>201801</td>\n",
       "      <td>HEATHROW</td>\n",
       "      <td>VIETNAM</td>\n",
       "      <td>HANOI</td>\n",
       "      <td>VIETNAM AIRLINES</td>\n",
       "      <td>S</td>\n",
       "      <td>34</td>\n",
       "      <td>0</td>\n",
       "      <td>0</td>\n",
       "      <td>...</td>\n",
       "      <td>0.000000</td>\n",
       "      <td>0.0</td>\n",
       "      <td>0.0</td>\n",
       "      <td>0.0</td>\n",
       "      <td>0.0</td>\n",
       "      <td>0.0</td>\n",
       "      <td>6.558824</td>\n",
       "      <td>36</td>\n",
       "      <td>63.888889</td>\n",
       "      <td>16.277778</td>\n",
       "    </tr>\n",
       "    <tr>\n",
       "      <th>1859</th>\n",
       "      <td>30/04/2018 13:48</td>\n",
       "      <td>201801</td>\n",
       "      <td>HEATHROW</td>\n",
       "      <td>VIETNAM</td>\n",
       "      <td>HO CHI MINH CITY</td>\n",
       "      <td>VIETNAM AIRLINES</td>\n",
       "      <td>S</td>\n",
       "      <td>28</td>\n",
       "      <td>0</td>\n",
       "      <td>0</td>\n",
       "      <td>...</td>\n",
       "      <td>3.571429</td>\n",
       "      <td>0.0</td>\n",
       "      <td>0.0</td>\n",
       "      <td>0.0</td>\n",
       "      <td>0.0</td>\n",
       "      <td>0.0</td>\n",
       "      <td>12.321429</td>\n",
       "      <td>26</td>\n",
       "      <td>76.923077</td>\n",
       "      <td>8.653846</td>\n",
       "    </tr>\n",
       "  </tbody>\n",
       "</table>\n",
       "<p>3 rows × 25 columns</p>\n",
       "</div>"
      ],
      "text/plain": [
       "              run_date  reporting_period reporting_airport  \\\n",
       "1398  30/04/2018 13:48            201801           GATWICK   \n",
       "1858  30/04/2018 13:48            201801          HEATHROW   \n",
       "1859  30/04/2018 13:48            201801          HEATHROW   \n",
       "\n",
       "     origin_destination_country      origin_destination      airline_name  \\\n",
       "1398                    VIETNAM  PHU QUOC INTERNATIONAL   TUI AIRWAYS LTD   \n",
       "1858                    VIETNAM                   HANOI  VIETNAM AIRLINES   \n",
       "1859                    VIETNAM        HO CHI MINH CITY  VIETNAM AIRLINES   \n",
       "\n",
       "     scheduled_charter  number_flights_matched  actual_flights_unmatched  \\\n",
       "1398                 C                       9                         0   \n",
       "1858                 S                      34                         0   \n",
       "1859                 S                      28                         0   \n",
       "\n",
       "      number_flights_cancelled  ...  \\\n",
       "1398                         0  ...   \n",
       "1858                         0  ...   \n",
       "1859                         0  ...   \n",
       "\n",
       "      flights_between_61_and_120_minutes_late_percent  \\\n",
       "1398                                        11.111111   \n",
       "1858                                         0.000000   \n",
       "1859                                         3.571429   \n",
       "\n",
       "      flights_between_121_and_180_minutes_late_percent  \\\n",
       "1398                                               0.0   \n",
       "1858                                               0.0   \n",
       "1859                                               0.0   \n",
       "\n",
       "      flights_between_181_and_360_minutes_late_percent  \\\n",
       "1398                                               0.0   \n",
       "1858                                               0.0   \n",
       "1859                                               0.0   \n",
       "\n",
       "      flights_more_than_360_minutes_late_percent  flights_unmatched_percent  \\\n",
       "1398                                         0.0                        0.0   \n",
       "1858                                         0.0                        0.0   \n",
       "1859                                         0.0                        0.0   \n",
       "\n",
       "      flights_cancelled_percent  average_delay_mins  \\\n",
       "1398                        0.0           25.888889   \n",
       "1858                        0.0            6.558824   \n",
       "1859                        0.0           12.321429   \n",
       "\n",
       "      previous_year_month_flights_matched  \\\n",
       "1398                                    0   \n",
       "1858                                   36   \n",
       "1859                                   26   \n",
       "\n",
       "      previous_year_month_early_to_15_mins_late_percent  \\\n",
       "1398                                           0.000000   \n",
       "1858                                          63.888889   \n",
       "1859                                          76.923077   \n",
       "\n",
       "      previous_year_month_average_delay  \n",
       "1398                           0.000000  \n",
       "1858                          16.277778  \n",
       "1859                           8.653846  \n",
       "\n",
       "[3 rows x 25 columns]"
      ]
     },
     "execution_count": 10,
     "metadata": {},
     "output_type": "execute_result"
    }
   ],
   "source": [
    "uk[uk['origin_destination_country']=='VIETNAM']"
   ]
  },
  {
   "cell_type": "markdown",
   "metadata": {
    "colab_type": "text",
    "id": "qUUhTr8084Vu"
   },
   "source": [
    "#### D.Find the number of airlines under each reporting airport. (2 Marks)"
   ]
  },
  {
   "cell_type": "code",
   "execution_count": 11,
   "metadata": {
    "colab": {},
    "colab_type": "code",
    "id": "oZb5s0Zn84Vu",
    "outputId": "21e15f1c-e498-48d7-d9d3-531caaef3030"
   },
   "outputs": [
    {
     "data": {
      "text/plain": [
       "reporting_airport\n",
       "ABERDEEN                       18\n",
       "BELFAST CITY (GEORGE BEST)     12\n",
       "BELFAST INTERNATIONAL          13\n",
       "BIRMINGHAM                     50\n",
       "BOURNEMOUTH                    10\n",
       "BRISTOL                        18\n",
       "CARDIFF WALES                  18\n",
       "DONCASTER SHEFFIELD             8\n",
       "DURHAM TEES VALLEY              7\n",
       "EAST MIDLANDS INTERNATIONAL    13\n",
       "EDINBURGH                      35\n",
       "EXETER                          8\n",
       "GATWICK                        69\n",
       "GLASGOW                        26\n",
       "HEATHROW                       84\n",
       "ISLE OF MAN                     7\n",
       "JERSEY                          7\n",
       "LEEDS BRADFORD                 14\n",
       "LIVERPOOL (JOHN LENNON)        16\n",
       "LONDON CITY                    14\n",
       "LUTON                          38\n",
       "MANCHESTER                     63\n",
       "NEWCASTLE                      22\n",
       "SOUTHAMPTON                    12\n",
       "SOUTHEND                        9\n",
       "STANSTED                       27\n",
       "Name: airline_name, dtype: int64"
      ]
     },
     "execution_count": 11,
     "metadata": {},
     "output_type": "execute_result"
    }
   ],
   "source": [
    "uk.groupby(['reporting_airport'])['airline_name'].nunique()"
   ]
  },
  {
   "cell_type": "markdown",
   "metadata": {
    "colab_type": "text",
    "id": "7y3MLobU84Vx"
   },
   "source": [
    "#### E. Find the number of flights that origin from Los Angeles and report at Heathrow Airport. (2 Marks)"
   ]
  },
  {
   "cell_type": "code",
   "execution_count": 12,
   "metadata": {
    "colab": {},
    "colab_type": "code",
    "id": "2MJTY33n84Vx",
    "outputId": "b5370db0-0708-43fc-ad7c-2af352d2b980"
   },
   "outputs": [
    {
     "data": {
      "text/plain": [
       "445"
      ]
     },
     "execution_count": 12,
     "metadata": {},
     "output_type": "execute_result"
    }
   ],
   "source": [
    "uk[((uk['reporting_airport']=='HEATHROW') & (uk['origin_destination']=='LOS ANGELES INTERNATIONAL'))]['number_flights_matched'].sum()"
   ]
  },
  {
   "cell_type": "markdown",
   "metadata": {
    "colab_type": "text",
    "id": "tT-O8cc584V0"
   },
   "source": [
    "<span style=\"font-family: Arial; font-weight:bold;font-size:1.5em;color:#db0b49;\">2.Continue with the UK_Flight_2018 for below A,B,C Questions.\n",
    "\n",
    "A.\tFind the total number of flights matched, unmatched and cancelled. (2 Marks)\n",
    "\n",
    "B.\tFor flights originating from the USA and find the average delay in minutes for every airline. (2 Marks)\n",
    "\n",
    "C. Count the categories in \"scheduled charter\" namely 'S' and 'C'.Plot horizontally using matplotlib and label and Title of chart should be used appropriately. (2 marks)\n",
    "    \n",
    "D. Create the below Dataframes and apply merge function to bring all matching rows and also 'Saffron' and 'The Creek' rows. (2 marks)\n",
    "    \n",
    "E) Create a panda series with the values ranging from 0 to 100. Plot the histogram with each bin size of 15 units. (2 marks)\n"
   ]
  },
  {
   "cell_type": "markdown",
   "metadata": {
    "colab_type": "text",
    "id": "X3c19YGg84V1"
   },
   "source": [
    "#### A. Find the total number of matched, unmatched and cancelled flights. (2 Marks)"
   ]
  },
  {
   "cell_type": "code",
   "execution_count": 19,
   "metadata": {
    "colab": {},
    "colab_type": "code",
    "id": "JTVqO_FA84V1",
    "outputId": "631cb95b-7320-4f16-9409-fd71f67ea983"
   },
   "outputs": [
    {
     "data": {
      "text/plain": [
       "number_flights_matched      146462\n",
       "actual_flights_unmatched        31\n",
       "number_flights_cancelled      1815\n",
       "dtype: int64"
      ]
     },
     "execution_count": 19,
     "metadata": {},
     "output_type": "execute_result"
    }
   ],
   "source": [
    "uk[['number_flights_matched','actual_flights_unmatched','number_flights_cancelled']].sum()"
   ]
  },
  {
   "cell_type": "code",
   "execution_count": 14,
   "metadata": {},
   "outputs": [
    {
     "data": {
      "text/html": [
       "<div>\n",
       "<style scoped>\n",
       "    .dataframe tbody tr th:only-of-type {\n",
       "        vertical-align: middle;\n",
       "    }\n",
       "\n",
       "    .dataframe tbody tr th {\n",
       "        vertical-align: top;\n",
       "    }\n",
       "\n",
       "    .dataframe thead th {\n",
       "        text-align: right;\n",
       "    }\n",
       "</style>\n",
       "<table border=\"1\" class=\"dataframe\">\n",
       "  <thead>\n",
       "    <tr style=\"text-align: right;\">\n",
       "      <th></th>\n",
       "      <th>run_date</th>\n",
       "      <th>reporting_period</th>\n",
       "      <th>reporting_airport</th>\n",
       "      <th>origin_destination_country</th>\n",
       "      <th>origin_destination</th>\n",
       "      <th>airline_name</th>\n",
       "      <th>scheduled_charter</th>\n",
       "      <th>number_flights_matched</th>\n",
       "      <th>actual_flights_unmatched</th>\n",
       "      <th>number_flights_cancelled</th>\n",
       "      <th>...</th>\n",
       "      <th>flights_between_61_and_120_minutes_late_percent</th>\n",
       "      <th>flights_between_121_and_180_minutes_late_percent</th>\n",
       "      <th>flights_between_181_and_360_minutes_late_percent</th>\n",
       "      <th>flights_more_than_360_minutes_late_percent</th>\n",
       "      <th>flights_unmatched_percent</th>\n",
       "      <th>flights_cancelled_percent</th>\n",
       "      <th>average_delay_mins</th>\n",
       "      <th>previous_year_month_flights_matched</th>\n",
       "      <th>previous_year_month_early_to_15_mins_late_percent</th>\n",
       "      <th>previous_year_month_average_delay</th>\n",
       "    </tr>\n",
       "  </thead>\n",
       "  <tbody>\n",
       "    <tr>\n",
       "      <th>0</th>\n",
       "      <td>30/04/2018 13:48</td>\n",
       "      <td>201801</td>\n",
       "      <td>ABERDEEN</td>\n",
       "      <td>POLAND</td>\n",
       "      <td>GDANSK</td>\n",
       "      <td>WIZZ AIR</td>\n",
       "      <td>S</td>\n",
       "      <td>18</td>\n",
       "      <td>0</td>\n",
       "      <td>2</td>\n",
       "      <td>...</td>\n",
       "      <td>0.000000</td>\n",
       "      <td>5.000000</td>\n",
       "      <td>0.000000</td>\n",
       "      <td>0.0</td>\n",
       "      <td>0.0</td>\n",
       "      <td>10.000000</td>\n",
       "      <td>11.000000</td>\n",
       "      <td>19</td>\n",
       "      <td>63.157895</td>\n",
       "      <td>33.736842</td>\n",
       "    </tr>\n",
       "    <tr>\n",
       "      <th>1</th>\n",
       "      <td>30/04/2018 13:48</td>\n",
       "      <td>201801</td>\n",
       "      <td>ABERDEEN</td>\n",
       "      <td>POLAND</td>\n",
       "      <td>WARSAW (CHOPIN)</td>\n",
       "      <td>WIZZ AIR</td>\n",
       "      <td>S</td>\n",
       "      <td>12</td>\n",
       "      <td>0</td>\n",
       "      <td>0</td>\n",
       "      <td>...</td>\n",
       "      <td>8.333333</td>\n",
       "      <td>0.000000</td>\n",
       "      <td>0.000000</td>\n",
       "      <td>0.0</td>\n",
       "      <td>0.0</td>\n",
       "      <td>0.000000</td>\n",
       "      <td>21.583333</td>\n",
       "      <td>18</td>\n",
       "      <td>83.333333</td>\n",
       "      <td>7.055556</td>\n",
       "    </tr>\n",
       "    <tr>\n",
       "      <th>2</th>\n",
       "      <td>30/04/2018 13:48</td>\n",
       "      <td>201801</td>\n",
       "      <td>ABERDEEN</td>\n",
       "      <td>UNITED KINGDOM</td>\n",
       "      <td>BELFAST CITY (GEORGE BEST)</td>\n",
       "      <td>FLYBE LTD</td>\n",
       "      <td>S</td>\n",
       "      <td>60</td>\n",
       "      <td>0</td>\n",
       "      <td>2</td>\n",
       "      <td>...</td>\n",
       "      <td>1.612903</td>\n",
       "      <td>0.000000</td>\n",
       "      <td>0.000000</td>\n",
       "      <td>0.0</td>\n",
       "      <td>0.0</td>\n",
       "      <td>3.225806</td>\n",
       "      <td>5.683333</td>\n",
       "      <td>62</td>\n",
       "      <td>82.258065</td>\n",
       "      <td>12.161290</td>\n",
       "    </tr>\n",
       "    <tr>\n",
       "      <th>3</th>\n",
       "      <td>30/04/2018 13:48</td>\n",
       "      <td>201801</td>\n",
       "      <td>ABERDEEN</td>\n",
       "      <td>UNITED KINGDOM</td>\n",
       "      <td>BIRMINGHAM</td>\n",
       "      <td>FLYBE LTD</td>\n",
       "      <td>S</td>\n",
       "      <td>145</td>\n",
       "      <td>0</td>\n",
       "      <td>1</td>\n",
       "      <td>...</td>\n",
       "      <td>2.054795</td>\n",
       "      <td>0.000000</td>\n",
       "      <td>0.000000</td>\n",
       "      <td>0.0</td>\n",
       "      <td>0.0</td>\n",
       "      <td>0.684932</td>\n",
       "      <td>4.000000</td>\n",
       "      <td>176</td>\n",
       "      <td>81.818182</td>\n",
       "      <td>14.835227</td>\n",
       "    </tr>\n",
       "    <tr>\n",
       "      <th>4</th>\n",
       "      <td>30/04/2018 13:48</td>\n",
       "      <td>201801</td>\n",
       "      <td>ABERDEEN</td>\n",
       "      <td>UNITED KINGDOM</td>\n",
       "      <td>BRISTOL</td>\n",
       "      <td>BMI REGIONAL</td>\n",
       "      <td>S</td>\n",
       "      <td>57</td>\n",
       "      <td>0</td>\n",
       "      <td>2</td>\n",
       "      <td>...</td>\n",
       "      <td>11.864407</td>\n",
       "      <td>1.694915</td>\n",
       "      <td>1.694915</td>\n",
       "      <td>0.0</td>\n",
       "      <td>0.0</td>\n",
       "      <td>3.389831</td>\n",
       "      <td>23.403509</td>\n",
       "      <td>65</td>\n",
       "      <td>80.000000</td>\n",
       "      <td>22.384615</td>\n",
       "    </tr>\n",
       "  </tbody>\n",
       "</table>\n",
       "<p>5 rows × 25 columns</p>\n",
       "</div>"
      ],
      "text/plain": [
       "           run_date  reporting_period reporting_airport  \\\n",
       "0  30/04/2018 13:48            201801          ABERDEEN   \n",
       "1  30/04/2018 13:48            201801          ABERDEEN   \n",
       "2  30/04/2018 13:48            201801          ABERDEEN   \n",
       "3  30/04/2018 13:48            201801          ABERDEEN   \n",
       "4  30/04/2018 13:48            201801          ABERDEEN   \n",
       "\n",
       "  origin_destination_country          origin_destination  airline_name  \\\n",
       "0                     POLAND                      GDANSK      WIZZ AIR   \n",
       "1                     POLAND             WARSAW (CHOPIN)      WIZZ AIR   \n",
       "2             UNITED KINGDOM  BELFAST CITY (GEORGE BEST)     FLYBE LTD   \n",
       "3             UNITED KINGDOM                  BIRMINGHAM     FLYBE LTD   \n",
       "4             UNITED KINGDOM                     BRISTOL  BMI REGIONAL   \n",
       "\n",
       "  scheduled_charter  number_flights_matched  actual_flights_unmatched  \\\n",
       "0                 S                      18                         0   \n",
       "1                 S                      12                         0   \n",
       "2                 S                      60                         0   \n",
       "3                 S                     145                         0   \n",
       "4                 S                      57                         0   \n",
       "\n",
       "   number_flights_cancelled  ...  \\\n",
       "0                         2  ...   \n",
       "1                         0  ...   \n",
       "2                         2  ...   \n",
       "3                         1  ...   \n",
       "4                         2  ...   \n",
       "\n",
       "   flights_between_61_and_120_minutes_late_percent  \\\n",
       "0                                         0.000000   \n",
       "1                                         8.333333   \n",
       "2                                         1.612903   \n",
       "3                                         2.054795   \n",
       "4                                        11.864407   \n",
       "\n",
       "   flights_between_121_and_180_minutes_late_percent  \\\n",
       "0                                          5.000000   \n",
       "1                                          0.000000   \n",
       "2                                          0.000000   \n",
       "3                                          0.000000   \n",
       "4                                          1.694915   \n",
       "\n",
       "   flights_between_181_and_360_minutes_late_percent  \\\n",
       "0                                          0.000000   \n",
       "1                                          0.000000   \n",
       "2                                          0.000000   \n",
       "3                                          0.000000   \n",
       "4                                          1.694915   \n",
       "\n",
       "   flights_more_than_360_minutes_late_percent  flights_unmatched_percent  \\\n",
       "0                                         0.0                        0.0   \n",
       "1                                         0.0                        0.0   \n",
       "2                                         0.0                        0.0   \n",
       "3                                         0.0                        0.0   \n",
       "4                                         0.0                        0.0   \n",
       "\n",
       "   flights_cancelled_percent  average_delay_mins  \\\n",
       "0                  10.000000           11.000000   \n",
       "1                   0.000000           21.583333   \n",
       "2                   3.225806            5.683333   \n",
       "3                   0.684932            4.000000   \n",
       "4                   3.389831           23.403509   \n",
       "\n",
       "   previous_year_month_flights_matched  \\\n",
       "0                                   19   \n",
       "1                                   18   \n",
       "2                                   62   \n",
       "3                                  176   \n",
       "4                                   65   \n",
       "\n",
       "   previous_year_month_early_to_15_mins_late_percent  \\\n",
       "0                                          63.157895   \n",
       "1                                          83.333333   \n",
       "2                                          82.258065   \n",
       "3                                          81.818182   \n",
       "4                                          80.000000   \n",
       "\n",
       "   previous_year_month_average_delay  \n",
       "0                          33.736842  \n",
       "1                           7.055556  \n",
       "2                          12.161290  \n",
       "3                          14.835227  \n",
       "4                          22.384615  \n",
       "\n",
       "[5 rows x 25 columns]"
      ]
     },
     "execution_count": 14,
     "metadata": {},
     "output_type": "execute_result"
    }
   ],
   "source": [
    "uk.head()"
   ]
  },
  {
   "cell_type": "markdown",
   "metadata": {
    "colab_type": "text",
    "id": "EFHv3LMc84V3"
   },
   "source": [
    "#### B. Find the average delay in minutes for every airline considering all the flights that are originating from USA. (2 Marks)"
   ]
  },
  {
   "cell_type": "code",
   "execution_count": 15,
   "metadata": {
    "colab": {},
    "colab_type": "code",
    "id": "uNS22GNd84V4",
    "outputId": "437decab-f40d-4f81-9f7b-dbb22b1b731c"
   },
   "outputs": [
    {
     "data": {
      "text/plain": [
       "airline_name\n",
       "AIR ALSIE                          0.000000\n",
       "AIR CANADA                         0.000000\n",
       "AIR INDIA                         27.333333\n",
       "AIRTANKER SERVICES LTD             0.000000\n",
       "AMERICAN AIRLINES                 10.650075\n",
       "ATLAS AIR  INC                     0.000000\n",
       "BRITISH AIRWAYS PLC               15.349600\n",
       "DELTA AIRLINES                     9.671347\n",
       "EMIRATES                           0.000000\n",
       "FAI FLIGHT- AMBULANCE SERVICE      0.000000\n",
       "JET2.COM LTD                      16.666667\n",
       "LUFTHANSA                          0.000000\n",
       "NORWEGIAN AIR INTERNATIONAL       11.247277\n",
       "NORWEGIAN AIR SHUTTLE             49.892082\n",
       "PAKISTAN INTL AIRLINES             0.000000\n",
       "SINGAPORE AIRLINES                 6.500000\n",
       "THOMAS COOK AIRLINES LTD         130.500000\n",
       "UNITED AIRLINES                    9.096731\n",
       "Unknown                            0.000000\n",
       "VIRGIN ATLANTIC AIRWAYS LTD       10.147533\n",
       "VISTAJET LTD MALTA                 0.000000\n",
       "Name: average_delay_mins, dtype: float64"
      ]
     },
     "execution_count": 15,
     "metadata": {},
     "output_type": "execute_result"
    }
   ],
   "source": [
    "uk[uk['origin_destination_country']=='USA'].groupby('airline_name')['average_delay_mins'].mean()"
   ]
  },
  {
   "cell_type": "markdown",
   "metadata": {},
   "source": [
    "#### C. Count the categories in \"scheduled charter\" namely 'S' and 'C'.Plot horizontally using matplotlib and label and Title of chart should be used appropriately.(2 marks)"
   ]
  },
  {
   "cell_type": "code",
   "execution_count": 20,
   "metadata": {},
   "outputs": [
    {
     "name": "stdout",
     "output_type": "stream",
     "text": [
      "Object `plot.barh` not found.\n"
     ]
    }
   ],
   "source": [
    "plot.barh?"
   ]
  },
  {
   "cell_type": "code",
   "execution_count": null,
   "metadata": {},
   "outputs": [
    {
     "data": {
      "image/png": "[encoded data removed]",
      "text/plain": [
       "<Figure size 640x480 with 1 Axes>"
      ]
     },
     "metadata": {},
     "output_type": "display_data"
    }
   ],
   "source": [
    "import matplotlib.pyplot as plot\n",
    "# Filter for 'S' and 'C' categories\n",
    "# df_filtered = df[df['scheduled_charter'].isin(['S', 'C'])]\n",
    "df=uk[\"scheduled_charter\"].value_counts()\n",
    "df.plot.barh(title=\"Scheduled Charter\",rot=0)\n",
    "plot.show()"
   ]
  },
  {
   "cell_type": "markdown",
   "metadata": {},
   "source": [
    "#### D. Create the below Dataframes and apply merge function to bring all matching rows and also 'Saffron' and 'The Creek' rows. (2 marks)"
   ]
  },
  {
   "cell_type": "code",
   "execution_count": 17,
   "metadata": {},
   "outputs": [
    {
     "name": "stdout",
     "output_type": "stream",
     "text": [
      "The first dataframe is : \n",
      "    Restaurant_ID      Restaurant     Location\n",
      "0            101   Chutney Chang    Jayanagar\n",
      "1            102     Black Pearl  Koramangala\n",
      "2            105   Punjabi Rasoi   HSR Layout\n",
      "3            106  Hard Rock Cafe   Koramangla \n",
      "\n",
      "\n",
      "The second dataframe is : \n",
      "    Restaurant_ID     Restaurant     Location\n",
      "0            102    Black Pearl  Koramangala\n",
      "1            101  Chutney Chang    Jayanagar\n",
      "2            107        Saffron      MG Road\n",
      "3            108      The Creek  Koramangala\n"
     ]
    }
   ],
   "source": [
    "my_df1=pd.DataFrame({\n",
    " 'Restaurant_ID':[101,102,105,106],\n",
    " 'Restaurant':['Chutney Chang','Black Pearl','Punjabi Rasoi','Hard Rock Cafe'],\n",
    " 'Location':['Jayanagar','Koramangala','HSR Layout','Koramangla'], \n",
    "})\n",
    "print(\"The first dataframe is : \\n\",my_df1,\"\\n\\n\")\n",
    "\n",
    "my_df2=pd.DataFrame({\n",
    " 'Restaurant_ID':[102,101,107,108],\n",
    " 'Restaurant':['Black Pearl', 'Chutney Chang', 'Saffron', 'The Creek'],\n",
    "  'Location':['Koramangala', 'Jayanagar', 'MG Road', 'Koramangala']  \n",
    "})\n",
    "print(\"The second dataframe is : \\n\",my_df2)"
   ]
  },
  {
   "cell_type": "code",
   "execution_count": 18,
   "metadata": {},
   "outputs": [
    {
     "name": "stdout",
     "output_type": "stream",
     "text": [
      "   Restaurant_ID   Restaurant_x   Location_x   Restaurant_y   Location_y\n",
      "0            102    Black Pearl  Koramangala    Black Pearl  Koramangala\n",
      "1            101  Chutney Chang    Jayanagar  Chutney Chang    Jayanagar\n",
      "2            107            NaN          NaN        Saffron      MG Road\n",
      "3            108            NaN          NaN      The Creek  Koramangala\n"
     ]
    }
   ],
   "source": [
    "print(pd.merge(my_df1, my_df2, on='Restaurant_ID', how='right'))"
   ]
  },
  {
   "cell_type": "markdown",
   "metadata": {},
   "source": [
    "#### E) Create a panda series with the values ranging from 0 to 100. Plot the histogram with each bin size of 15 units. (2 marks)"
   ]
  },
  {
   "cell_type": "code",
   "execution_count": 14,
   "metadata": {},
   "outputs": [
    {
     "name": "stdout",
     "output_type": "stream",
     "text": [
      "6\n"
     ]
    },
    {
     "data": {
      "image/png": "[encoded data removed]",
      "text/plain": [
       "<Figure size 640x480 with 1 Axes>"
      ]
     },
     "metadata": {},
     "output_type": "display_data"
    }
   ],
   "source": [
    "no_of_bins= int((100-0)/15)\n",
    "print(no_of_bins)\n",
    "ser=pd.Series(np.arange(0,100))\n",
    "ser.plot(kind='hist',bins=no_of_bins,edgecolor='black')\n",
    "plt.show()"
   ]
  },
  {
   "cell_type": "markdown",
   "metadata": {},
   "source": [
    "####                         *****   ALL THE BEST *****"
   ]
  }
 ],
 "metadata": {
  "kernelspec": {
   "display_name": "Python 3",
   "language": "python",
   "name": "python3"
  },
  "language_info": {
   "codemirror_mode": {
    "name": "ipython",
    "version": 3
   },
   "file_extension": ".py",
   "mimetype": "text/x-python",
   "name": "python",
   "nbconvert_exporter": "python",
   "pygments_lexer": "ipython3",
   "version": "3.12.6"
  }
 },
 "nbformat": 4,
 "nbformat_minor": 4
}
