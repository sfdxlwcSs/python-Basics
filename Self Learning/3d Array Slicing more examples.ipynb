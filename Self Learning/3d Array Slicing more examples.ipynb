{
 "cells": [
  {
   "cell_type": "code",
   "execution_count": 3,
   "id": "449dd751-a536-4cb9-a331-80c4379dafce",
   "metadata": {},
   "outputs": [],
   "source": [
    "import numpy as np\n",
    "\n",
    "arr_3d = np.array([\n",
    "    [[1, 2, 3], \n",
    "     [4, 5, 6],\n",
    "     [7, 8, 9]],\n",
    "\n",
    "    [[10, 11, 12], \n",
    "     [13, 14, 15],\n",
    "     [16, 17, 18]]\n",
    "])\n"
   ]
  },
  {
   "cell_type": "code",
   "execution_count": 3,
   "id": "94595e69-fa80-4d02-bd73-881eee3dbb3c",
   "metadata": {},
   "outputs": [
    {
     "data": {
      "text/plain": [
       "array([[[ 1,  2,  3],\n",
       "        [ 4,  5,  6],\n",
       "        [ 7,  8,  9]],\n",
       "\n",
       "       [[10, 11, 12],\n",
       "        [13, 14, 15],\n",
       "        [16, 17, 18]]])"
      ]
     },
     "execution_count": 3,
     "metadata": {},
     "output_type": "execute_result"
    }
   ],
   "source": [
    "arr_3d\n"
   ]
  },
  {
   "cell_type": "code",
   "execution_count": 7,
   "id": "3eb98fc4-f09e-49a8-a7f4-1ef488e146a4",
   "metadata": {},
   "outputs": [
    {
     "name": "stdout",
     "output_type": "stream",
     "text": [
      "[[10 11 12]\n",
      " [13 14 15]\n",
      " [16 17 18]]\n"
     ]
    }
   ],
   "source": [
    "# # Example 1: Select the Entire Second Block (Matrix)\n",
    "# Explanation:\n",
    "\n",
    "# 1 in the first position selects the second block (index 1).\n",
    "# : in the second position means all rows in this block.\n",
    "# : in the third position means all columns.\n",
    "print(arr_3d[1,:,:])"
   ]
  },
  {
   "cell_type": "code",
   "execution_count": 9,
   "id": "4c5ce401-1947-4971-82d4-44d244f7cfd2",
   "metadata": {},
   "outputs": [
    {
     "name": "stdout",
     "output_type": "stream",
     "text": [
      "[[ 1  2  3]\n",
      " [10 11 12]]\n"
     ]
    }
   ],
   "source": [
    "# Example 2: Select the First Row from Each Block\n",
    "Explanation:\n",
    "\n",
    "# : in the first position means all blocks.\n",
    "# 0 in the second position selects the first row in each block.\n",
    "# : in the third position means all columns in that row.\n",
    "# This returns a 2D array with the first row from each block:\n",
    "print(arr_3d[:,0,:])"
   ]
  },
  {
   "cell_type": "code",
   "execution_count": 5,
   "id": "abd3fca4-27b3-41f1-98d7-9009e12521c3",
   "metadata": {},
   "outputs": [
    {
     "name": "stdout",
     "output_type": "stream",
     "text": [
      "[7 8 9]\n",
      "alternative [7 8 9]\n"
     ]
    }
   ],
   "source": [
    "# Example 3: Select the Last Row of the First Block\n",
    "# Explanation:\n",
    "\n",
    "# 0 in the first position specifies the first block.\n",
    "# -1 in the second position selects the last row.\n",
    "# : in the third position means all columns in that row.\n",
    "# This gives us the last row of the first block as a 1D array:\n",
    "result = arr_3d[0, -1, :] #efficient  u might not always no the array dimensions\n",
    "print(result)\n",
    "\n",
    "print('alternative',arr_3d[0,2,:])"
   ]
  },
  {
   "cell_type": "code",
   "execution_count": 11,
   "id": "7aaf9bae-2061-4321-aad0-32843032e707",
   "metadata": {},
   "outputs": [
    {
     "name": "stdout",
     "output_type": "stream",
     "text": [
      "14\n"
     ]
    }
   ],
   "source": [
    "# Example 4: Select a Specific Element (e.g., Element 14 in the Second Block)\n",
    "# 1 in the first position specifies the second block.\n",
    "# 1 in the second position selects the second row within the second block.\n",
    "# 1 in the third position selects the second column in that row.\n",
    "# This gives us the element 14:\n",
    "print(arr_3d[1,1,1])"
   ]
  },
  {
   "cell_type": "code",
   "execution_count": 17,
   "id": "93498f52-49fc-46da-8ebf-a9f69201dbc7",
   "metadata": {},
   "outputs": [
    {
     "name": "stdout",
     "output_type": "stream",
     "text": [
      "[[10 11]\n",
      " [13 14]]\n",
      "o/p✔✔✔✔✔ [[10 11]\n",
      " [13 14]]\n"
     ]
    }
   ],
   "source": [
    "\"\"\"\n",
    "Example 5: Select a 2x2 Subarray from the Top-Left Corner of the Second Block\n",
    "Explanation:\n",
    "\n",
    "1 in the first position specifies the second block.\n",
    ":2 in the second position selects the first two rows (rows 0 and 1) within this block.\n",
    ":2 in the third position selects the first two columns (columns 0 and 1) within those rows.\n",
    "This returns a 2x2 subarray from the top-left corner of the second block:\n",
    "\"\"\"\n",
    "print(arr_3d[1,0:2,0:2])\n",
    "\n",
    "print('o/p✔✔✔✔✔',arr_3d[1,:2,:2])\n"
   ]
  },
  {
   "cell_type": "code",
   "execution_count": 21,
   "id": "35cbb828-24be-496f-a9fa-39f85a8dc471",
   "metadata": {},
   "outputs": [
    {
     "name": "stdout",
     "output_type": "stream",
     "text": [
      "o/p✔✔✔✔✔ [[ 2  5  8]\n",
      " [11 14 17]]\n"
     ]
    }
   ],
   "source": [
    "\"\"\"\n",
    "Example 6: Select the Middle Column from Each Block\n",
    "Explanation:\n",
    "\n",
    ": in the first position means all blocks.\n",
    ": in the second position means all rows.\n",
    "1 in the third position selects the middle column (column 1) in each row.\n",
    "This gives us a 2D array with the middle column from each block:\n",
    "\"\"\"\n",
    "print('o/p✔✔✔✔✔',arr_3d[:,:,1])"
   ]
  },
  {
   "cell_type": "code",
   "execution_count": 25,
   "id": "6c238b77-0fd8-4183-99a7-1a81890e74b5",
   "metadata": {},
   "outputs": [
    {
     "name": "stdout",
     "output_type": "stream",
     "text": [
      "o/p✔✔✔✔✔ [[[ 1  2]\n",
      "  [ 4  5]\n",
      "  [ 7  8]]\n",
      "\n",
      " [[10 11]\n",
      "  [13 14]\n",
      "  [16 17]]]\n",
      "o/p🚀🚀🚀🚀🚀🚀🚀 [[[ 1  2]\n",
      "  [ 4  5]\n",
      "  [ 7  8]]\n",
      "\n",
      " [[10 11]\n",
      "  [13 14]\n",
      "  [16 17]]]\n"
     ]
    }
   ],
   "source": [
    "\"\"\"\n",
    "Example 7: Select All Elements Except the Last Column in Each Block\n",
    "Explanation:\n",
    "\n",
    ": in the first position means all blocks.\n",
    ": in the second position means all rows.\n",
    ":-1 in the third position means all columns except the last one.\n",
    "\"\"\"\n",
    "print('o/p✔✔✔✔✔',arr_3d[:,:,:2])\n",
    "print('o/p🚀🚀🚀🚀🚀🚀🚀',arr_3d[:,:,:-1])"
   ]
  },
  {
   "cell_type": "code",
   "execution_count": 27,
   "id": "0dca2dba-d8a4-42e1-b3a2-afde5779de45",
   "metadata": {},
   "outputs": [
    {
     "name": "stdout",
     "output_type": "stream",
     "text": [
      "o/p🚀🚀🚀🚀🚀🚀🚀 [[ 7  8  9]\n",
      " [16 17 18]]\n"
     ]
    }
   ],
   "source": [
    "\"\"\"\n",
    "Example 8: Select All Elements in the Last Row of Each Block\n",
    "Explanation:\n",
    "\n",
    ": in the first position means all blocks.\n",
    "-1 in the second position selects the last row in each block.\n",
    ": in the third position means all columns in that row.\n",
    "This results in a 2D array containing the last row from each block:\n",
    "\"\"\"\n",
    "print('o/p🚀🚀🚀🚀🚀🚀🚀',arr_3d[:,-1,:])"
   ]
  },
  {
   "cell_type": "code",
   "execution_count": 33,
   "id": "716a7af4-aef3-43cd-b1b5-62415464328f",
   "metadata": {},
   "outputs": [
    {
     "name": "stdout",
     "output_type": "stream",
     "text": [
      "o/p✔✔✔✔ [[ 4  7]\n",
      " [13 16]]\n",
      "o/p🚀🚀🚀🚀🚀🚀🚀 [[[ 4]\n",
      "  [ 7]]\n",
      "\n",
      " [[13]\n",
      "  [16]]]\n"
     ]
    }
   ],
   "source": [
    "\"\"\"\n",
    "Example 9: Select All Elements in the First Column of Each Block Except the First Row\n",
    "Explanation:\n",
    "\n",
    ": in the first position means all blocks.\n",
    "1: in the second position selects all rows except the first (starting from row 1).\n",
    "0 in the third position selects the first column in each row.\n",
    "This returns a 2D array with the elements from the first column of each block, excluding the first row:\n",
    "\"\"\"\n",
    "print('o/p✔✔✔✔',arr_3d[:,1:,0]) #better approach\n",
    "print('o/p🚀🚀🚀🚀🚀🚀🚀',arr_3d[:,1:,:1])"
   ]
  },
  {
   "cell_type": "code",
   "execution_count": null,
   "id": "01cd7aa0-4bd2-4a0c-85ce-7e01f5c93b0c",
   "metadata": {},
   "outputs": [],
   "source": []
  }
 ],
 "metadata": {
  "kernelspec": {
   "display_name": "Python 3 (ipykernel)",
   "language": "python",
   "name": "python3"
  },
  "language_info": {
   "codemirror_mode": {
    "name": "ipython",
    "version": 3
   },
   "file_extension": ".py",
   "mimetype": "text/x-python",
   "name": "python",
   "nbconvert_exporter": "python",
   "pygments_lexer": "ipython3",
   "version": "3.12.4"
  }
 },
 "nbformat": 4,
 "nbformat_minor": 5
}
