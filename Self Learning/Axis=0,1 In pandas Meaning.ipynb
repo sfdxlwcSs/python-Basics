{
 "cells": [
  {
   "cell_type": "markdown",
   "metadata": {},
   "source": [
    "# By default, axis=0 is used in many pandas operations, so it's often omitted, but it's crucial to remember its meaning.\n"
   ]
  },
  {
   "cell_type": "markdown",
   "metadata": {},
   "source": [
    "When using functions like apply(), sum(), mean(), etc., axis=0 means the function will be applied column-wise. It will iterate over each column, performing the calculation across all rows within that column."
   ]
  },
  {
   "cell_type": "markdown",
   "metadata": {},
   "source": [
    "# 1. Applying Functions:"
   ]
  },
  {
   "cell_type": "code",
   "execution_count": 8,
   "metadata": {},
   "outputs": [
    {
     "name": "stdout",
     "output_type": "stream",
     "text": [
      "   A  B  C\n",
      "0  1  4  7\n",
      "1  2  5  8\n",
      "2  3  6  9\n"
     ]
    }
   ],
   "source": [
    "import pandas as pd\n",
    "\n",
    "data = {'A': [1, 2, 3], 'B': [4, 5, 6], 'C': [7, 8, 9]}\n",
    "df = pd.DataFrame(data)\n",
    "\n",
    "print(df)\n",
    "\n"
   ]
  },
  {
   "cell_type": "code",
   "execution_count": 2,
   "metadata": {},
   "outputs": [
    {
     "name": "stdout",
     "output_type": "stream",
     "text": [
      "A     6\n",
      "B    15\n",
      "C    24\n",
      "dtype: int64\n"
     ]
    }
   ],
   "source": [
    "column_sums = df.sum()\n",
    "print(column_sums)"
   ]
  },
  {
   "cell_type": "markdown",
   "metadata": {},
   "source": [
    "As you can see, axis=0 tells the sum() function to add up all the values within each column.\n",
    "\n",
    "The sum of column 'A' is 1 + 2 + 3 = 6.\n",
    "\n",
    "The sum of column 'B' is 4 + 5 + 6 = 15.\n",
    "\n",
    "The sum of column 'C' is 7 + 8 + 9 = 24."
   ]
  },
  {
   "cell_type": "markdown",
   "metadata": {},
   "source": [
    "# 2. Dropping Rows/Columns:"
   ]
  },
  {
   "cell_type": "code",
   "execution_count": 3,
   "metadata": {},
   "outputs": [
    {
     "name": "stdout",
     "output_type": "stream",
     "text": [
      "   A  B  C\n",
      "2  3  6  9\n"
     ]
    }
   ],
   "source": [
    "df.drop([0, 1],inplace=True)\n",
    "print(df)"
   ]
  },
  {
   "cell_type": "code",
   "execution_count": 10,
   "metadata": {},
   "outputs": [
    {
     "name": "stdout",
     "output_type": "stream",
     "text": [
      "   C\n",
      "0  7\n",
      "1  8\n",
      "2  9\n"
     ]
    }
   ],
   "source": [
    "print(df.drop(['A', 'B'], axis=1))"
   ]
  },
  {
   "cell_type": "markdown",
   "metadata": {},
   "source": [
    "When using pd.concat(), axis=0 means you want to concatenate DataFrames vertically, stacking them on top of each other."
   ]
  },
  {
   "cell_type": "code",
   "execution_count": 12,
   "metadata": {},
   "outputs": [
    {
     "name": "stdout",
     "output_type": "stream",
     "text": [
      "df1:\n",
      "     A   B\n",
      "0  A0  B0\n",
      "1  A1  B1\n",
      "2  A2  B2\n",
      "\n",
      "df2:\n",
      "     A   B\n",
      "3  A3  B3\n",
      "4  A4  B4\n",
      "\n",
      "df3:\n",
      "     C   D\n",
      "0  C0  D0\n",
      "1  C1  D1\n",
      "2  C2  D2\n",
      "Concatenated along rows:\n",
      "     A   B\n",
      "0  A0  B0\n",
      "1  A1  B1\n",
      "2  A2  B2\n",
      "3  A3  B3\n",
      "4  A4  B4\n",
      "\n",
      "Concatenated along columns:\n",
      "     A   B   C   D\n",
      "0  A0  B0  C0  D0\n",
      "1  A1  B1  C1  D1\n",
      "2  A2  B2  C2  D2\n"
     ]
    }
   ],
   "source": [
    "import pandas as pd\n",
    "\n",
    "# Sample DataFrames\n",
    "df1 = pd.DataFrame({'A': ['A0', 'A1', 'A2'],\n",
    "                     'B': ['B0', 'B1', 'B2']},\n",
    "                      index=[0, 1, 2])\n",
    "print(\"df1:\\n\", df1)\n",
    "\n",
    "df2 = pd.DataFrame({'A': ['A3', 'A4'],\n",
    "                     'B': ['B3', 'B4']},\n",
    "                      index=[3, 4])\n",
    "print(\"\\ndf2:\\n\", df2)\n",
    "\n",
    "df3 = pd.DataFrame({'C': ['C0', 'C1', 'C2'],\n",
    "                     'D': ['D0', 'D1', 'D2']},\n",
    "                      index=[0, 1, 2]) \n",
    "print(\"\\ndf3:\\n\", df3)\n",
    "\n",
    "# Concatenate DataFrames along rows (default axis=0)\n",
    "result_rows = pd.concat([df1, df2])\n",
    "print(\"Concatenated along rows:\\n\", result_rows)\n",
    "\n",
    "# Concatenate DataFrames along columns (axis=1)\n",
    "result_cols = pd.concat([df1, df3], axis=1)\n",
    "print(\"\\nConcatenated along columns:\\n\", result_cols)"
   ]
  },
  {
   "cell_type": "markdown",
   "metadata": {},
   "source": [
    "Concatenating Matrices: Dimension Rules\n",
    "\n",
    "When concatenating matrices, certain rules must be followed to ensure a valid result:\n",
    "\n",
    "1. Vertical Concatenation (Stacking Rows):\n",
    "\n",
    "\n",
    "Rule: Matrices must have the same number of columns.   \n",
    "\n",
    "Example:\n",
    "Matrix A: 3 rows x 2 columns\n",
    "Matrix B: 2 rows x 2 columns\n",
    "Valid for vertical concatenation.\n",
    "Matrix C: 3 rows x 3 columns\n",
    "Invalid for vertical concatenation with A or B.\n",
    "2. Horizontal Concatenation (Stacking Columns):\n",
    "\n",
    "Rule: Matrices must have the same number of rows.  \n",
    "\n",
    "Example:\n",
    "Matrix A: 3 rows x 2 columns\n",
    "Matrix B: 3 rows x 1 column\n",
    "Valid for horizontal concatenation.\n",
    "Matrix C: 2 rows x 2 columns\n",
    "Invalid for horizontal concatenation with A.\n",
    "\n",
    "Key Points:\n",
    "\n",
    "Dimension Compatibility: The key is to maintain consistent dimensions along the axis of concatenation.\n",
    "Visualizing: Imagine stacking rows or columns like building blocks. The shapes must align properly for a seamless join.\n",
    "\n",
    "In Summary:\n",
    "\n",
    "Vertical: Match the number of columns.\n",
    "\n",
    "Horizontal: Match the number of rows.\n",
    "\n",
    "By adhering to these rules, you can successfully concatenate matrices and obtain meaningful results."
   ]
  }
 ],
 "metadata": {
  "kernelspec": {
   "display_name": "Python 3",
   "language": "python",
   "name": "python3"
  },
  "language_info": {
   "codemirror_mode": {
    "name": "ipython",
    "version": 3
   },
   "file_extension": ".py",
   "mimetype": "text/x-python",
   "name": "python",
   "nbconvert_exporter": "python",
   "pygments_lexer": "ipython3",
   "version": "3.12.6"
  }
 },
 "nbformat": 4,
 "nbformat_minor": 2
}
