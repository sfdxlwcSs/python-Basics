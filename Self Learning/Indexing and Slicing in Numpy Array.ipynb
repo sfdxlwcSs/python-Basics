{
 "cells": [
  {
   "cell_type": "code",
   "execution_count": 3,
   "id": "b1cecf4f-b482-4808-9cb8-4ed911b32d55",
   "metadata": {},
   "outputs": [],
   "source": [
    "import numpy as np"
   ]
  },
  {
   "cell_type": "code",
   "execution_count": 27,
   "id": "76619218-3775-4d4f-b567-6addcf983207",
   "metadata": {},
   "outputs": [
    {
     "name": "stdout",
     "output_type": "stream",
     "text": [
      "10\n",
      "90\n"
     ]
    }
   ],
   "source": [
    "array1=np.array([10,20,30,40,50,60,70,80,90])\n",
    "print(array1[0])\n",
    "print(array1[-1])"
   ]
  },
  {
   "cell_type": "code",
   "execution_count": 5,
   "id": "1f3f2bd1-f5af-40dc-a534-19ca6ba6dc21",
   "metadata": {},
   "outputs": [
    {
     "name": "stdout",
     "output_type": "stream",
     "text": [
      "20\n"
     ]
    }
   ],
   "source": [
    "print(array1[-4])"
   ]
  },
  {
   "cell_type": "code",
   "execution_count": 7,
   "id": "e9a1b317-6d95-49a8-b95f-d2117c2175df",
   "metadata": {},
   "outputs": [
    {
     "name": "stdout",
     "output_type": "stream",
     "text": [
      "[50 30 10]\n"
     ]
    }
   ],
   "source": [
    "print(array1[-1:-6:-2])# every second element"
   ]
  },
  {
   "cell_type": "code",
   "execution_count": 31,
   "id": "9b6c4e1b-1715-4a0a-bb55-9f148044bdf7",
   "metadata": {},
   "outputs": [
    {
     "name": "stdout",
     "output_type": "stream",
     "text": [
      "[90 60 30]\n"
     ]
    }
   ],
   "source": [
    "print(array1[-1:-8:-3])# every 3rd element"
   ]
  },
  {
   "cell_type": "code",
   "execution_count": 7,
   "id": "d8e0288e-993f-4280-a3a4-c1662899d186",
   "metadata": {},
   "outputs": [
    {
     "name": "stdout",
     "output_type": "stream",
     "text": [
      "[[10 20 30]\n",
      " [40 50 60]\n",
      " [70 80 90]]\n"
     ]
    }
   ],
   "source": [
    "array2d=np.array([[10,20,30],[40,50,60],[70,80,90]])\n",
    "print(array2d)"
   ]
  },
  {
   "cell_type": "code",
   "execution_count": 25,
   "id": "03fc1783-bdf7-4d3d-9da0-95c1436f6db8",
   "metadata": {},
   "outputs": [
    {
     "name": "stdout",
     "output_type": "stream",
     "text": [
      "60\n"
     ]
    }
   ],
   "source": [
    "print(array2d[1, 2])\n",
    "# Explanation\n",
    "# array2d[1, 2] refers to:\n",
    "# Row 1 (the second row, because indexing starts from 0).\n",
    "# Column 2 (the third column, because indexing starts from 0)."
   ]
  },
  {
   "cell_type": "code",
   "execution_count": 17,
   "id": "308d0f0f-a375-42c1-90fe-74f5cb62573f",
   "metadata": {},
   "outputs": [
    {
     "name": "stdout",
     "output_type": "stream",
     "text": [
      "[[40 50 60]]\n"
     ]
    }
   ],
   "source": [
    "print(array2d[1:2])"
   ]
  },
  {
   "cell_type": "markdown",
   "id": "7aafa619-7426-43ba-b728-cb944b81cb47",
   "metadata": {},
   "source": [
    "Understanding the Slice array2d[1:2]\n",
    "When you use array2d[1:2], you’re slicing the array along the first axis (rows) and specifying that you want to include only rows from index 1 up to (but not including) index 2.\n",
    "\n",
    "1:2 means \"start at row index 1 and end before row index 2,\" which will select only row 1 (the second row) in the array.\n",
    "Result of array2d[1:2]\n",
    "Since it includes only row 1, the output will be a 2D array containing only that row:"
   ]
  },
  {
   "cell_type": "markdown",
   "id": "e78a5bf7-662f-4141-8eeb-62af035d3891",
   "metadata": {},
   "source": [
    "Explanation of the Output\n",
    "The output [[40 50 60]] is still a 2D array, but it contains only the second row ([40, 50, 60]).\n",
    "The result is [[40, 50, 60]] (a 2D array with shape (1, 3)) rather than [40, 50, 60] (a 1D array with shape (3,)) because slicing in this way retains the two-dimensional structure.\n",
    "Summary\n",
    "array2d[1:2] extracts a subarray containing only row 1.\n",
    "The resulting subarray has shape (1, 3), indicating it’s a 2D array with one row and three columns."
   ]
  },
  {
   "cell_type": "code",
   "execution_count": 21,
   "id": "a2d1eae9-61cb-42bf-9ca7-dd0673d4bde7",
   "metadata": {},
   "outputs": [
    {
     "name": "stdout",
     "output_type": "stream",
     "text": [
      "[40 50]\n"
     ]
    }
   ],
   "source": [
    "#If you want to extract just the elements 40 and 50 from the 2D array, you can access\n",
    "#them using slicing across both rows and columns.\n",
    "# To get the elements 40 and 50 (which are located in the second row, first and second columns), you can use this code:\n",
    "\n",
    "# Extract elements 40 and 50\n",
    "result = array2d[1, 0:2]\n",
    "print(result)\n",
    "# Explanation of the Code\n",
    "# array2d[1, 0:2]:\n",
    "# 1 selects the second row (index 1).\n",
    "# 0:2 selects the first two columns (columns at index 0 and 1).\n",
    "\n"
   ]
  },
  {
   "cell_type": "code",
   "execution_count": 27,
   "id": "726f1e75-4a0c-4faa-ad6e-0e2c4c437c08",
   "metadata": {},
   "outputs": [
    {
     "data": {
      "text/plain": [
       "array([10, 20, 30])"
      ]
     },
     "execution_count": 27,
     "metadata": {},
     "output_type": "execute_result"
    }
   ],
   "source": [
    "array2d[0,:] \n",
    "# The expression array2d[0, :] is a way to select all columns in a\n",
    "# specific row (in this case, row 0) in a 2D NumPy array.\n",
    "# Explanation of array2d[0, :]\n",
    "# 0 (in the row position) means \"select row 0\" (the first row, since indexing starts from 0).\n",
    "# : (colon in the column position) means \"select all columns.\"\n",
    "# So, array2d[0, :] will select all columns in row 0, resulting in a 1D array with the elements from the first row."
   ]
  },
  {
   "cell_type": "code",
   "execution_count": 31,
   "id": "ab882004-905c-4f30-b11e-7a3d6584a3cc",
   "metadata": {},
   "outputs": [
    {
     "data": {
      "text/plain": [
       "array([20, 50, 80])"
      ]
     },
     "execution_count": 31,
     "metadata": {},
     "output_type": "execute_result"
    }
   ],
   "source": [
    "#The expression array2d[:, 1] is a way to select all rows for a specific column (in this case, column 1) in a 2D NumPy array. \n",
    "# Here’s how it works with an example.\n",
    "array2d[:,1]\n",
    "# Explanation of array2d[:, 1]\n",
    "# : (colon in the row position) means \"select all rows.\"\n",
    "# 1 (in the column position) means \"select column 1\" (the second column, because indexing starts from 0).\n",
    "# So, array2d[:, 1] will select all rows in column 1, resulting in a 1D array with the elements from the second column."
   ]
  },
  {
   "cell_type": "code",
   "execution_count": 11,
   "id": "ddbcef71-26d9-4254-803a-4fa8866aa8fb",
   "metadata": {},
   "outputs": [
    {
     "data": {
      "text/plain": [
       "array([[20, 30],\n",
       "       [50, 60]])"
      ]
     },
     "execution_count": 11,
     "metadata": {},
     "output_type": "execute_result"
    }
   ],
   "source": [
    "array2d[0:2,1:3]"
   ]
  },
  {
   "cell_type": "code",
   "execution_count": 15,
   "id": "1bb85e05-a72b-4f63-8116-d148c42b4fa8",
   "metadata": {},
   "outputs": [
    {
     "data": {
      "text/plain": [
       "numpy.ndarray"
      ]
     },
     "execution_count": 15,
     "metadata": {},
     "output_type": "execute_result"
    }
   ],
   "source": [
    "type(array2d[0:2,1:3])"
   ]
  },
  {
   "cell_type": "code",
   "execution_count": 17,
   "id": "e6d65eb3-6d9f-4590-b1a4-6e05c5dc4937",
   "metadata": {},
   "outputs": [
    {
     "ename": "NameError",
     "evalue": "name 'shape' is not defined",
     "output_type": "error",
     "traceback": [
      "\u001b[1;31m---------------------------------------------------------------------------\u001b[0m",
      "\u001b[1;31mNameError\u001b[0m                                 Traceback (most recent call last)",
      "Cell \u001b[1;32mIn[17], line 1\u001b[0m\n\u001b[1;32m----> 1\u001b[0m \u001b[43mshape\u001b[49m(array2d[\u001b[38;5;241m0\u001b[39m:\u001b[38;5;241m2\u001b[39m,\u001b[38;5;241m1\u001b[39m:\u001b[38;5;241m3\u001b[39m])\n",
      "\u001b[1;31mNameError\u001b[0m: name 'shape' is not defined"
     ]
    }
   ],
   "source": [
    "# -1 writing is necessary of u want to reverse\n"
   ]
  },
  {
   "cell_type": "code",
   "execution_count": 25,
   "id": "fd3854dd-ad3d-4bc9-afdf-3a1d2af85206",
   "metadata": {},
   "outputs": [
    {
     "data": {
      "text/plain": [
       "array([50, 40])"
      ]
     },
     "execution_count": 25,
     "metadata": {},
     "output_type": "execute_result"
    }
   ],
   "source": [
    "array1[-1:-3:-1]"
   ]
  },
  {
   "cell_type": "code",
   "execution_count": null,
   "id": "4bda7c5e-5495-4c39-80fa-9ed4c92f8cf2",
   "metadata": {},
   "outputs": [],
   "source": []
  },
  {
   "cell_type": "code",
   "execution_count": null,
   "id": "405e801b-aefe-4937-89ae-6d50990ffe3f",
   "metadata": {},
   "outputs": [],
   "source": []
  },
  {
   "cell_type": "code",
   "execution_count": null,
   "id": "b9d44c05-a9c5-49de-8b43-cf7b68c2295c",
   "metadata": {},
   "outputs": [],
   "source": []
  },
  {
   "cell_type": "code",
   "execution_count": null,
   "id": "f68091df-7c35-457d-b133-cdd7840797a0",
   "metadata": {},
   "outputs": [],
   "source": []
  }
 ],
 "metadata": {
  "kernelspec": {
   "display_name": "Python 3 (ipykernel)",
   "language": "python",
   "name": "python3"
  },
  "language_info": {
   "codemirror_mode": {
    "name": "ipython",
    "version": 3
   },
   "file_extension": ".py",
   "mimetype": "text/x-python",
   "name": "python",
   "nbconvert_exporter": "python",
   "pygments_lexer": "ipython3",
   "version": "3.12.4"
  }
 },
 "nbformat": 4,
 "nbformat_minor": 5
}
