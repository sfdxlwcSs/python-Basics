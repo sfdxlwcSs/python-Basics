{
 "cells": [
  {
   "cell_type": "code",
   "execution_count": 2,
   "id": "b1cecf4f-b482-4808-9cb8-4ed911b32d55",
   "metadata": {},
   "outputs": [],
   "source": [
    "import numpy as np"
   ]
  },
  {
   "cell_type": "code",
   "execution_count": null,
   "id": "76619218-3775-4d4f-b567-6addcf983207",
   "metadata": {},
   "outputs": [
    {
     "name": "stdout",
     "output_type": "stream",
     "text": [
      "[10 30 50]\n",
      "10\n",
      "90\n"
     ]
    }
   ],
   "source": [
    "array1=np.array([10,20,30,40,50,60,70,80,90])\n",
    "print(array1[[0,2,4]])# accessing multiple elements of a series\n",
    "print(array1[0])\n",
    "print(array1[-1])"
   ]
  },
  {
   "cell_type": "code",
   "execution_count": 5,
   "id": "1f3f2bd1-f5af-40dc-a534-19ca6ba6dc21",
   "metadata": {},
   "outputs": [
    {
     "name": "stdout",
     "output_type": "stream",
     "text": [
      "20\n"
     ]
    }
   ],
   "source": [
    "print(array1[-4])"
   ]
  },
  {
   "cell_type": "code",
   "execution_count": 7,
   "id": "e9a1b317-6d95-49a8-b95f-d2117c2175df",
   "metadata": {},
   "outputs": [
    {
     "name": "stdout",
     "output_type": "stream",
     "text": [
      "[50 30 10]\n"
     ]
    }
   ],
   "source": [
    "print(array1[-1:-6:-2])# every second element"
   ]
  },
  {
   "cell_type": "code",
   "execution_count": 31,
   "id": "9b6c4e1b-1715-4a0a-bb55-9f148044bdf7",
   "metadata": {},
   "outputs": [
    {
     "name": "stdout",
     "output_type": "stream",
     "text": [
      "[90 60 30]\n"
     ]
    }
   ],
   "source": [
    "print(array1[-1:-8:-3])# every 3rd element"
   ]
  },
  {
   "cell_type": "code",
   "execution_count": 3,
   "id": "d8e0288e-993f-4280-a3a4-c1662899d186",
   "metadata": {},
   "outputs": [
    {
     "name": "stdout",
     "output_type": "stream",
     "text": [
      "[[ 10  20  30]\n",
      " [ 40  50  60]\n",
      " [ 70  80  90]\n",
      " [100 110 120]]\n"
     ]
    }
   ],
   "source": [
    "array2d=np.array([[10,20,30],[40,50,60],[70,80,90],[100,110,120]])\n",
    "print(array2d)"
   ]
  },
  {
   "cell_type": "code",
   "execution_count": 25,
   "id": "03fc1783-bdf7-4d3d-9da0-95c1436f6db8",
   "metadata": {},
   "outputs": [
    {
     "name": "stdout",
     "output_type": "stream",
     "text": [
      "60\n"
     ]
    }
   ],
   "source": [
    "print(array2d[1, 2])\n",
    "# Explanation\n",
    "# array2d[1, 2] refers to:\n",
    "# Row 1 (the second row, because indexing starts from 0).\n",
    "# Column 2 (the third column, because indexing starts from 0)."
   ]
  },
  {
   "cell_type": "code",
   "execution_count": 6,
   "id": "308d0f0f-a375-42c1-90fe-74f5cb62573f",
   "metadata": {},
   "outputs": [
    {
     "name": "stdout",
     "output_type": "stream",
     "text": [
      "[[40 50]]\n"
     ]
    }
   ],
   "source": [
    "print(array2d[1:2,:2])"
   ]
  },
  {
   "cell_type": "markdown",
   "id": "7aafa619-7426-43ba-b728-cb944b81cb47",
   "metadata": {},
   "source": [
    "Understanding the Slice array2d[1:2]\n",
    "When you use array2d[1:2], you’re slicing the array along the first axis (rows) and specifying that you want to include only rows from index 1 up to (but not including) index 2.\n",
    "\n",
    "1:2 means \"start at row index 1 and end before row index 2,\" which will select only row 1 (the second row) in the array.\n",
    "Result of array2d[1:2]\n",
    "Since it includes only row 1, the output will be a 2D array containing only that row:"
   ]
  },
  {
   "cell_type": "markdown",
   "id": "e78a5bf7-662f-4141-8eeb-62af035d3891",
   "metadata": {},
   "source": [
    "Explanation of the Output\n",
    "The output [[40 50 60]] is still a 2D array, but it contains only the second row ([40, 50, 60]).\n",
    "The result is [[40, 50, 60]] (a 2D array with shape (1, 3)) rather than [40, 50, 60] (a 1D array with shape (3,)) because slicing in this way retains the two-dimensional structure.\n",
    "Summary\n",
    "array2d[1:2] extracts a subarray containing only row 1.\n",
    "The resulting subarray has shape (1, 3), indicating it’s a 2D array with one row and three columns."
   ]
  },
  {
   "cell_type": "code",
   "execution_count": 21,
   "id": "a2d1eae9-61cb-42bf-9ca7-dd0673d4bde7",
   "metadata": {},
   "outputs": [
    {
     "name": "stdout",
     "output_type": "stream",
     "text": [
      "[40 50]\n"
     ]
    }
   ],
   "source": [
    "#If you want to extract just the elements 40 and 50 from the 2D array, you can access\n",
    "#them using slicing across both rows and columns.\n",
    "# To get the elements 40 and 50 (which are located in the second row, first and second columns), you can use this code:\n",
    "\n",
    "# Extract elements 40 and 50\n",
    "result = array2d[1, 0:2]\n",
    "print(result)\n",
    "# Explanation of the Code\n",
    "# array2d[1, 0:2]:\n",
    "# 1 selects the second row (index 1).\n",
    "# 0:2 selects the first two columns (columns at index 0 and 1).\n",
    "\n"
   ]
  },
  {
   "cell_type": "code",
   "execution_count": 27,
   "id": "726f1e75-4a0c-4faa-ad6e-0e2c4c437c08",
   "metadata": {},
   "outputs": [
    {
     "data": {
      "text/plain": [
       "array([10, 20, 30])"
      ]
     },
     "execution_count": 27,
     "metadata": {},
     "output_type": "execute_result"
    }
   ],
   "source": [
    "array2d[0,:] \n",
    "# The expression array2d[0, :] is a way to select all columns in a\n",
    "# specific row (in this case, row 0) in a 2D NumPy array.\n",
    "# Explanation of array2d[0, :]\n",
    "# 0 (in the row position) means \"select row 0\" (the first row, since indexing starts from 0).\n",
    "# : (colon in the column position) means \"select all columns.\"\n",
    "# So, array2d[0, :] will select all columns in row 0, resulting in a 1D array with the elements from the first row."
   ]
  },
  {
   "cell_type": "code",
   "execution_count": 31,
   "id": "ab882004-905c-4f30-b11e-7a3d6584a3cc",
   "metadata": {},
   "outputs": [
    {
     "data": {
      "text/plain": [
       "array([20, 50, 80])"
      ]
     },
     "execution_count": 31,
     "metadata": {},
     "output_type": "execute_result"
    }
   ],
   "source": [
    "#The expression array2d[:, 1] is a way to select all rows for a specific column (in this case, column 1) in a 2D NumPy array. \n",
    "# Here’s how it works with an example.\n",
    "array2d[:,1]\n",
    "# Explanation of array2d[:, 1]\n",
    "# : (colon in the row position) means \"select all rows.\"\n",
    "# 1 (in the column position) means \"select column 1\" (the second column, because indexing starts from 0).\n",
    "# So, array2d[:, 1] will select all rows in column 1, resulting in a 1D array with the elements from the second column."
   ]
  },
  {
   "cell_type": "code",
   "execution_count": 11,
   "id": "ddbcef71-26d9-4254-803a-4fa8866aa8fb",
   "metadata": {},
   "outputs": [
    {
     "data": {
      "text/plain": [
       "array([[20, 30],\n",
       "       [50, 60]])"
      ]
     },
     "execution_count": 11,
     "metadata": {},
     "output_type": "execute_result"
    }
   ],
   "source": [
    "array2d[0:2,1:3]"
   ]
  },
  {
   "cell_type": "code",
   "execution_count": 15,
   "id": "1bb85e05-a72b-4f63-8116-d148c42b4fa8",
   "metadata": {},
   "outputs": [
    {
     "data": {
      "text/plain": [
       "numpy.ndarray"
      ]
     },
     "execution_count": 15,
     "metadata": {},
     "output_type": "execute_result"
    }
   ],
   "source": [
    "type(array2d[0:2,1:3])"
   ]
  },
  {
   "cell_type": "code",
   "execution_count": 9,
   "id": "e6d65eb3-6d9f-4590-b1a4-6e05c5dc4937",
   "metadata": {},
   "outputs": [],
   "source": [
    "# -1 writing is necessary of u want to reverse\n"
   ]
  },
  {
   "cell_type": "code",
   "execution_count": 25,
   "id": "fd3854dd-ad3d-4bc9-afdf-3a1d2af85206",
   "metadata": {},
   "outputs": [
    {
     "data": {
      "text/plain": [
       "array([50, 40])"
      ]
     },
     "execution_count": 25,
     "metadata": {},
     "output_type": "execute_result"
    }
   ],
   "source": [
    "array1[-1:-3:-1]"
   ]
  },
  {
   "cell_type": "code",
   "execution_count": 17,
   "id": "4bda7c5e-5495-4c39-80fa-9ed4c92f8cf2",
   "metadata": {},
   "outputs": [
    {
     "name": "stdout",
     "output_type": "stream",
     "text": [
      "[10 20 30 40 50 60 70 80 90]\n",
      "steps example [10 30 50 70 90]\n"
     ]
    }
   ],
   "source": [
    "\n",
    "print(array1)\n",
    "print('steps example',array1[::2] )#in steps of 2)"
   ]
  },
  {
   "cell_type": "code",
   "execution_count": 19,
   "id": "405e801b-aefe-4937-89ae-6d50990ffe3f",
   "metadata": {},
   "outputs": [
    {
     "name": "stdout",
     "output_type": "stream",
     "text": [
      "steps example [10 40 70]\n"
     ]
    }
   ],
   "source": [
    "print('steps example',array1[::3] )#in steps of 3)"
   ]
  },
  {
   "cell_type": "code",
   "execution_count": 21,
   "id": "b9d44c05-a9c5-49de-8b43-cf7b68c2295c",
   "metadata": {},
   "outputs": [
    {
     "name": "stdout",
     "output_type": "stream",
     "text": [
      "steps example [90 80 70 60 50 40 30 20 10]\n"
     ]
    }
   ],
   "source": [
    "print('steps example',array1[::-1] )#reverse)"
   ]
  },
  {
   "cell_type": "code",
   "execution_count": 23,
   "id": "f68091df-7c35-457d-b133-cdd7840797a0",
   "metadata": {},
   "outputs": [
    {
     "name": "stdout",
     "output_type": "stream",
     "text": [
      "[[ 10  20  30]\n",
      " [ 40  50  60]\n",
      " [ 70  80  90]\n",
      " [100 110 120]]\n"
     ]
    }
   ],
   "source": [
    "print(array2d) #2d slicing example"
   ]
  },
  {
   "cell_type": "code",
   "execution_count": 25,
   "id": "e535e361-4f32-46de-8b81-6ce84d529570",
   "metadata": {},
   "outputs": [
    {
     "name": "stdout",
     "output_type": "stream",
     "text": [
      "[40 50 60]\n"
     ]
    }
   ],
   "source": [
    "print(array2d[1,]) # row with index 1 all columns"
   ]
  },
  {
   "cell_type": "code",
   "execution_count": 27,
   "id": "05df533c-e9d5-4711-b329-bb2cd5c792fa",
   "metadata": {},
   "outputs": [
    {
     "name": "stdout",
     "output_type": "stream",
     "text": [
      "[ 20  50  80 110]\n"
     ]
    }
   ],
   "source": [
    "print(array2d[:,1]) # first columns"
   ]
  },
  {
   "cell_type": "code",
   "execution_count": 29,
   "id": "0fd92f2a-20b4-41b7-8ca1-4777a68b7798",
   "metadata": {},
   "outputs": [
    {
     "name": "stdout",
     "output_type": "stream",
     "text": [
      "[[50 60]\n",
      " [80 90]]\n"
     ]
    }
   ],
   "source": [
    "print(array2d[1:3,1:3]) "
   ]
  },
  {
   "cell_type": "code",
   "execution_count": 31,
   "id": "7530452d-12bc-4913-b17d-87665cbecc34",
   "metadata": {},
   "outputs": [
    {
     "name": "stdout",
     "output_type": "stream",
     "text": [
      "[[40 50 60]\n",
      " [70 80 90]]\n"
     ]
    }
   ],
   "source": [
    "print(array2d[1:3,]) # all elements of1st and 2nd row"
   ]
  },
  {
   "cell_type": "code",
   "execution_count": 33,
   "id": "d8999b91-3610-486a-9567-dd8119f0c7fd",
   "metadata": {},
   "outputs": [
    {
     "name": "stdout",
     "output_type": "stream",
     "text": [
      "[[ 20  30]\n",
      " [ 50  60]\n",
      " [ 80  90]\n",
      " [110 120]]\n"
     ]
    }
   ],
   "source": [
    "print(array2d[:,1:3])  # all elements of1st and 2nd column"
   ]
  },
  {
   "cell_type": "code",
   "execution_count": 37,
   "id": "9162ba14-a6d9-4f02-91d0-cf9d01e60b67",
   "metadata": {},
   "outputs": [
    {
     "name": "stdout",
     "output_type": "stream",
     "text": [
      "[50 80]\n"
     ]
    }
   ],
   "source": [
    "print(array2d[1:3,1]) # 1st and 2nd rowbut only column 1"
   ]
  },
  {
   "cell_type": "code",
   "execution_count": 39,
   "id": "31f59a0a-e9a8-4982-8033-e686930b031e",
   "metadata": {},
   "outputs": [
    {
     "name": "stdout",
     "output_type": "stream",
     "text": [
      "[[40]\n",
      " [70]]\n"
     ]
    }
   ],
   "source": [
    "print(array2d[1:3,:1]) # 1st and 2nd row and 0th column"
   ]
  },
  {
   "cell_type": "code",
   "execution_count": 41,
   "id": "d4b93eb4-1492-4579-949c-98e0d5da187b",
   "metadata": {},
   "outputs": [
    {
     "name": "stdout",
     "output_type": "stream",
     "text": [
      "[[50 60]\n",
      " [80 90]]\n"
     ]
    }
   ],
   "source": [
    "print(array2d[1:3,1:]) "
   ]
  },
  {
   "cell_type": "code",
   "execution_count": 5,
   "id": "f58e4ecf-fe0f-44b4-88ec-25124b40a9e2",
   "metadata": {},
   "outputs": [
    {
     "name": "stdout",
     "output_type": "stream",
     "text": [
      "3D Array:\n",
      "[[[1 2 3]\n",
      "  [4 5 6]\n",
      "  [7 8 9]]\n",
      "\n",
      " [[1 2 3]\n",
      "  [4 5 6]\n",
      "  [7 8 9]]]\n",
      "3\n"
     ]
    },
    {
     "data": {
      "text/plain": [
       "(2, 3, 3)"
      ]
     },
     "execution_count": 5,
     "metadata": {},
     "output_type": "execute_result"
    }
   ],
   "source": [
    "# Creating a 3D array (matrix) with 2 rows and 3 columns\n",
    "arr_3d = np.array([[[1, 2, 3], [4, 5, 6],[7, 8, 9]],[[1, 2, 3], [4, 5, 6],[7, 8, 9]]])\n",
    "\n",
    "# Print the 2D array\n",
    "print(\"3D Array:\")\n",
    "print(arr_3d)\n",
    "print(arr_3d.ndim)\n",
    "arr_3d.shape"
   ]
  },
  {
   "cell_type": "markdown",
   "id": "1fba2e23-25b4-49c9-bf17-5eb898c83953",
   "metadata": {},
   "source": [
    "###### arr_3d[0]"
   ]
  },
  {
   "cell_type": "code",
   "execution_count": 7,
   "id": "da98f8a0-f827-4170-aa33-5b7c7681acaa",
   "metadata": {},
   "outputs": [],
   "source": [
    "# The shape (2, 3, 3) describes a 3-dimensional array with three axes, and it can be interpreted as:\n",
    "\n",
    "# 2: The number of blocks or matrices along the first axis.\n",
    "# 3: The number of rows in each 2D matrix along the second axis.\n",
    "# 3: The number of columns in each row along the third axis.\n",
    "# So, (2, 3, 3) is read as:\n",
    "\n",
    "# An array of 2 matrices,\n",
    "# Each matrix has 3 rows and 3 columns."
   ]
  },
  {
   "cell_type": "code",
   "execution_count": 77,
   "id": "1a86af3c-b37e-4f52-8be4-2e0439dcab0a",
   "metadata": {},
   "outputs": [
    {
     "name": "stdout",
     "output_type": "stream",
     "text": [
      "[[1 2 3]\n",
      " [4 5 6]\n",
      " [7 8 9]]\n"
     ]
    }
   ],
   "source": [
    "# Example Slices:\n",
    "# 1. Selecting the First Block (Matrix) Only\n",
    "# To select the entire first block (index 0 along the first axis):\n",
    "# Explanation:\n",
    "\n",
    "# 0: Specifies the first block (index 0) along the first axis.\n",
    "# : (colon) in the second axis position means \"all rows.\"\n",
    "# : (colon) in the third axis position means \"all columns.\"\n",
    "# Thus, arr_3d[0, :, :] extracts all rows and columns from the first block, resulting in the full 3x3 matrix:\n",
    "result = arr_3d[0, :, :]\n",
    "print(result)\n"
   ]
  },
  {
   "cell_type": "code",
   "execution_count": 11,
   "id": "3cd866ef-60ed-49b6-ae04-3e91d3255095",
   "metadata": {},
   "outputs": [
    {
     "data": {
      "text/plain": [
       "array([[1, 2, 3],\n",
       "       [4, 5, 6],\n",
       "       [7, 8, 9]])"
      ]
     },
     "execution_count": 11,
     "metadata": {},
     "output_type": "execute_result"
    }
   ],
   "source": [
    "arr_3d[0]\n"
   ]
  },
  {
   "cell_type": "code",
   "execution_count": 79,
   "id": "b1d7557a-641f-44f5-b000-5b66a902b7cb",
   "metadata": {},
   "outputs": [
    {
     "name": "stdout",
     "output_type": "stream",
     "text": [
      "[[4 5 6]\n",
      " [4 5 6]]\n"
     ]
    }
   ],
   "source": [
    "# 2. Selecting the Second Row of Each Block\n",
    "# To select the second row from each 3x3 matrix in the array:\n",
    "#Explanation: arr_3d[:, 1, :] selects the second row (index 1) from each block (both blocks).\n",
    "# Explanation:\n",
    "\n",
    "# : in the first position means \"all blocks.\"\n",
    "# 1: Specifies the second row (index 1) within each block.\n",
    "# : in the third position means \"all columns.\"\n",
    "# This results in a 2D array showing the second row from each block:\n",
    "result2 = arr_3d[:, 1, :]\n",
    "print(result2)\n"
   ]
  },
  {
   "cell_type": "code",
   "execution_count": 23,
   "id": "1bd15329-86be-4d97-9579-5ed6820bf03f",
   "metadata": {},
   "outputs": [
    {
     "name": "stdout",
     "output_type": "stream",
     "text": [
      "[[[4 5 6]\n",
      "  [7 8 9]]\n",
      "\n",
      " [[4 5 6]\n",
      "  [7 8 9]]]\n"
     ]
    },
    {
     "data": {
      "text/plain": [
       "(2, 2, 3)"
      ]
     },
     "execution_count": 23,
     "metadata": {},
     "output_type": "execute_result"
    }
   ],
   "source": [
    "result3=arr_3d[:, 1:3, :]\n",
    "print(result3)\n",
    "result3.shape"
   ]
  },
  {
   "cell_type": "code",
   "execution_count": 39,
   "id": "90f67cc5-1aa8-45a4-88b4-ca2853021c65",
   "metadata": {},
   "outputs": [
    {
     "name": "stdout",
     "output_type": "stream",
     "text": [
      "2\n",
      "Shape🚀🚀🚀🚀🚀🚀 (2, 3)\n",
      "[[1 4 7]\n",
      " [1 4 7]]\n"
     ]
    }
   ],
   "source": [
    "# 3. Selecting the First Column of Each Block\n",
    "# To select the first column from each 3x3 matrix in the array:\n",
    "# Explanation:\n",
    "\n",
    "# : in the first position means \"all blocks.\"\n",
    "# : in the second position means \"all rows.\"\n",
    "# 0: Specifies the first column in each row.\n",
    "# This results in a 2D array showing the first column from each block:\n",
    "result4 = arr_3d[:, :, 0]\n",
    "print(result4.ndim)\n",
    "print('Shape🚀🚀🚀🚀🚀🚀',result4.shape)\n",
    "print(result4)\n"
   ]
  },
  {
   "cell_type": "code",
   "execution_count": 81,
   "id": "12ff08cc-5806-4d68-972c-5b1670fdfc98",
   "metadata": {},
   "outputs": [
    {
     "name": "stdout",
     "output_type": "stream",
     "text": [
      "5\n",
      "Shape🚀🚀🚀🚀🚀🚀 ()\n"
     ]
    }
   ],
   "source": [
    "# 4. Selecting a Specific Element (e.g., Element 5 in the First Block)\n",
    "# To select the element 5 in the first block (located at row 1, column 1):\n",
    "# Explanation:\n",
    "\n",
    "# 0: Specifies the first block (index 0).\n",
    "# 1: Specifies the second row (index 1) within the first block.\n",
    "# 1: Specifies the second column (index 1) within that row.\n",
    "result5 = arr_3d[0, 1, 1]\n",
    "print(result5)\n",
    "print('Shape🚀🚀🚀🚀🚀🚀',result5.shape)\n"
   ]
  },
  {
   "cell_type": "code",
   "execution_count": 55,
   "id": "6b27d913-04c5-4d4f-861f-7c46e508b899",
   "metadata": {},
   "outputs": [
    {
     "data": {
      "text/plain": [
       "9"
      ]
     },
     "execution_count": 55,
     "metadata": {},
     "output_type": "execute_result"
    }
   ],
   "source": [
    "arr_3d[1, 2, 2]"
   ]
  },
  {
   "cell_type": "code",
   "execution_count": 57,
   "id": "781d735e-df1a-49a0-8864-a058ebc9c765",
   "metadata": {},
   "outputs": [
    {
     "data": {
      "text/plain": [
       "array([9, 9])"
      ]
     },
     "execution_count": 57,
     "metadata": {},
     "output_type": "execute_result"
    }
   ],
   "source": [
    "arr_3d[:, 2, 2]"
   ]
  },
  {
   "cell_type": "code",
   "execution_count": 63,
   "id": "01a49aa2-bfb4-49af-9299-7adb13cc865f",
   "metadata": {},
   "outputs": [
    {
     "data": {
      "text/plain": [
       "array([[1, 2],\n",
       "       [4, 5]])"
      ]
     },
     "execution_count": 63,
     "metadata": {},
     "output_type": "execute_result"
    }
   ],
   "source": [
    "# 5. Selecting a 2x2 Subarray from the First Block\n",
    "# To select a smaller 2x2 subarray from the top-left corner of the first block:\n",
    "# Explanation:\n",
    "\n",
    "# 0: Specifies the first block.\n",
    "# :2 in the second position selects the first two rows (index 0 and 1).\n",
    "# :2 in the third position selects the first two columns (index 0 and 1) within those rows.\n",
    "# This results in a 2x2 subarray from the top-left corner of the first block:\n",
    "arr_3d[0, :2, :2]"
   ]
  },
  {
   "cell_type": "code",
   "execution_count": 71,
   "id": "ba8dea20-84e9-46a6-af98-b09b608cdb3d",
   "metadata": {},
   "outputs": [
    {
     "data": {
      "text/plain": [
       "array([[3],\n",
       "       [6],\n",
       "       [9]])"
      ]
     },
     "execution_count": 71,
     "metadata": {},
     "output_type": "execute_result"
    }
   ],
   "source": [
    "# 6. Selecting the Last Column of the Second Block\n",
    "# To select only the last column of the second block:\n",
    "# Explanation:\n",
    "\n",
    "# 1: Specifies the second block (index 1).\n",
    "# : in the second position means \"all rows.\"\n",
    "# -1: Specifies the last column in each row.\n",
    "# This returns the last column of the second block as a 1D array:\n",
    "arr_3d[1, :, -1]"
   ]
  },
  {
   "cell_type": "code",
   "execution_count": 73,
   "id": "bad56d83-7647-4eae-87c1-118216c624fc",
   "metadata": {},
   "outputs": [],
   "source": [
    "# Summary of Slicing Patterns\n",
    "# arr_3d[0, :, :]: Selects an entire block.\n",
    "# arr_3d[:, 1, :]: Selects a specific row from each block.\n",
    "# arr_3d[:, :, 0]: Selects a specific column from each block.\n",
    "# arr_3d[0, 1, 1]: Selects a single element.\n",
    "# arr_3d[0, :2, :2]: Selects a 2x2 subarray within a block.\n",
    "# arr_3d[1, :, -1]: Selects the last column in the second block."
   ]
  }
 ],
 "metadata": {
  "kernelspec": {
   "display_name": "Python 3",
   "language": "python",
   "name": "python3"
  },
  "language_info": {
   "codemirror_mode": {
    "name": "ipython",
    "version": 3
   },
   "file_extension": ".py",
   "mimetype": "text/x-python",
   "name": "python",
   "nbconvert_exporter": "python",
   "pygments_lexer": "ipython3",
   "version": "3.13.3"
  }
 },
 "nbformat": 4,
 "nbformat_minor": 5
}
