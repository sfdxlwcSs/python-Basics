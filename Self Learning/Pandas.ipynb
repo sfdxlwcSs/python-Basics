{
 "cells": [
  {
   "cell_type": "markdown",
   "metadata": {},
   "source": [
    "***What is Pandas?\n",
    "Pandas is a Python library used for\n",
    "working with data sets.\n",
    "It has functions for analyzing, cleaning,\n",
    "exploring, and manipulating data."
   ]
  },
  {
   "cell_type": "markdown",
   "metadata": {},
   "source": [
    "Pandas Series\n",
    "\n",
    "One-dimensional: A Series is like a single column in a spreadsheet or a single list with an associated index.   \n",
    "\n",
    "Single Data Type: Typically holds data of a single type (e.g., all integers, all strings).\n",
    "   \n",
    "Index: Has an index that labels each value. This index can be numeric (default) or custom labels.   \n",
    "Pandas DataFrame\n",
    "\n",
    "Two-dimensional: A DataFrame is a table-like structure with rows and columns.  \n",
    "\n",
    "Multiple Data Types: Can hold multiple columns with different data types. \n",
    "  \n",
    "Row and Column Indexes: Has both a row index and a column index.   \n",
    "\n",
    "Collection of Series: You can think of a DataFrame as a collection of Series, where each column is a Series.   \n",
    "\n",
    "Here's an analogy:\n",
    "\n",
    "Series: Imagine a single column in an Excel sheet (e.g., a list of names).\n",
    "\n",
    "DataFrame: Imagine the entire Excel sheet with multiple columns (e.g., names, ages, cities).\n",
    "\n",
    "In essence:\n",
    "\n",
    "A Series is a building block for a DataFrame.   \n",
    "A DataFrame provides a more structured and versatile way to work with tabular data."
   ]
  },
  {
   "cell_type": "code",
   "execution_count": 8,
   "metadata": {},
   "outputs": [
    {
     "name": "stdout",
     "output_type": "stream",
     "text": [
      "2.2.3\n"
     ]
    }
   ],
   "source": [
    "import pandas as pd\n",
    "import numpy as np\n",
    "print(pd.__version__)"
   ]
  },
  {
   "cell_type": "code",
   "execution_count": 10,
   "metadata": {},
   "outputs": [
    {
     "data": {
      "text/plain": [
       "U    1\n",
       "V    2\n",
       "W    3\n",
       "X    4\n",
       "Y    5\n",
       "dtype: int64"
      ]
     },
     "execution_count": 10,
     "metadata": {},
     "output_type": "execute_result"
    }
   ],
   "source": [
    "series_index=pd.Series(np.arange(1,6),index=list('UVWXY'))\n",
    "series_index"
   ]
  },
  {
   "cell_type": "code",
   "execution_count": 2,
   "metadata": {},
   "outputs": [
    {
     "name": "stdout",
     "output_type": "stream",
     "text": [
      "0    1\n",
      "1    7\n",
      "2    9\n",
      "dtype: int64\n",
      "7\n"
     ]
    }
   ],
   "source": [
    "somnath=[1,7,9]\n",
    "somnathPandas=pd.Series(somnath)\n",
    "print(somnathPandas)\n",
    "print(somnathPandas[1])"
   ]
  },
  {
   "cell_type": "code",
   "execution_count": 3,
   "metadata": {},
   "outputs": [
    {
     "name": "stdout",
     "output_type": "stream",
     "text": [
      "Series:\n",
      " a    10\n",
      "b    20\n",
      "c    30\n",
      "dtype: int64\n",
      "\n",
      "DataFrame:\n",
      "       Name  Age      City\n",
      "0    Alice   25  New York\n",
      "1      Bob   30    London\n",
      "2  Charlie   22     Paris\n"
     ]
    }
   ],
   "source": [
    "\n",
    "\n",
    "# Create a Pandas Series from Dictionary\n",
    "data = {'a': 10, 'b': 20, 'c': 30}\n",
    "series = pd.Series(data) \n",
    "print(\"Series:\\n\", series) \n",
    "\n",
    "# Create a Pandas DataFrame\n",
    "data = {'Name': ['Alice', 'Bob', 'Charlie'], \n",
    "        'Age': [25, 30, 22], \n",
    "        'City': ['New York', 'London', 'Paris']}\n",
    "df = pd.DataFrame(data)\n",
    "print(\"\\nDataFrame:\\n\", df)"
   ]
  },
  {
   "cell_type": "markdown",
   "metadata": {},
   "source": [
    "<!-- Python Data Analysis or Panda -->\n"
   ]
  },
  {
   "cell_type": "markdown",
   "metadata": {},
   "source": [
    "Explanation:\n",
    "\n",
    "Series:\n",
    "\n",
    "pd.Series(data) creates a Series object from the dictionary data.\n",
    "The keys of the dictionary become the index of the Series.\n",
    "The values of the dictionary become the values of the Series.\n",
    "DataFrame:\n",
    "\n",
    "pd.DataFrame(data) creates a DataFrame from the dictionary data.\n",
    "Each key in the dictionary becomes a column in the DataFrame.\n",
    "The values associated with each key become the values in the respective columns."
   ]
  },
  {
   "cell_type": "code",
   "execution_count": 6,
   "metadata": {},
   "outputs": [
    {
     "name": "stdout",
     "output_type": "stream",
     "text": [
      "      Name  Age      City\n",
      "0    Alice   25  New York\n",
      "1      Bob   30    London\n",
      "2  Charlie   22     Paris\n",
      "\n",
      "Selecting 'Age' column: 0    25\n",
      "1    30\n",
      "2    22\n",
      "Name: Age, dtype: int64\n",
      "\n",
      "Selecting multiple columns:       Name      City\n",
      "0    Alice  New York\n",
      "1      Bob    London\n",
      "2  Charlie     Paris\n",
      "\n",
      "Selecting first two rows:     Name  Age      City\n",
      "0  Alice   25  New York\n",
      "1    Bob   30    London\n",
      "\n",
      "Selecting last row:       Name  Age   City\n",
      "2  Charlie   22  Paris\n",
      "\n",
      "Selecting rows where Age > 25:   Name  Age    City\n",
      "1  Bob   30  London\n",
      "\n",
      "🚀Mean age: 25.666666666666668\n",
      "\n",
      "Sort by Age:       Name  Age      City\n",
      "2  Charlie   22     Paris\n",
      "0    Alice   25  New York\n",
      "1      Bob   30    London\n"
     ]
    }
   ],
   "source": [
    "import pandas as pd\n",
    "\n",
    "# 1. Creating a DataFrame\n",
    "data = {'Name': ['Alice', 'Bob', 'Charlie'], \n",
    "        'Age': [25, 30, 22], \n",
    "        'City': ['New York', 'London', 'Paris']}\n",
    "df = pd.DataFrame(data)\n",
    "print(df) \n",
    "\n",
    "# 2. Selecting Columns\n",
    "print(\"\\nSelecting 'Age' column:\", df['Age']) \n",
    "print(\"\\nSelecting multiple columns:\", df[['Name', 'City']]) \n",
    "\n",
    "# 3. Selecting Rows\n",
    "print(\"\\nSelecting first two rows:\", df.head(2)) \n",
    "print(\"\\nSelecting last row:\", df.tail(1)) \n",
    "\n",
    "# 4. Filtering Data\n",
    "print(\"\\nSelecting rows where Age > 25:\", df[df['Age'] > 25])\n",
    "\n",
    "# 5. Basic Operations\n",
    "print(\"\\n🚀Mean age:\", df['Age'].mean()) \n",
    "\n",
    "print(\"\\nSort by Age:\", df.sort_values(by='Age')) \n",
    "\n",
    "# 6. Reading Data from a File\n",
    "# df = pd.read_csv('your_data.csv') # Replace 'your_data.csv' with the actual file path\n",
    "\n",
    "# 7. Writing Data to a File\n",
    "df.to_csv('output.csv', index=False)\n",
    "# Key Points:\n",
    "\n",
    "# By default, to_csv() includes the DataFrame's index as a column in the output CSV. Using index=False removes this extra column.\n",
    "# You can modify the file name and path as needed.\n",
    "# The to_csv() method has other optional parameters for customizing the output, such as:\n",
    "# sep: Specify the delimiter (e.g., ';', '|') instead of the default comma.\n",
    "# header: Control whether to include column headers.\n",
    "# encoding: Specify the encoding of the output file (e.g., 'utf-8')."
   ]
  },
  {
   "cell_type": "code",
   "execution_count": 17,
   "metadata": {},
   "outputs": [
    {
     "name": "stdout",
     "output_type": "stream",
     "text": [
      "First three elements: a    10\n",
      "b    20\n",
      "c    30\n",
      "dtype: int64\n",
      "Elements from index 'b' to 'd': b    20\n",
      "c    30\n",
      "d    40\n",
      "dtype: int64\n",
      "Sample DataFrame\n",
      "      Name  Age      City\n",
      "0    Alice   25  New York\n",
      "1      Bob   30    London\n",
      "2  Charlie   22     Paris\n",
      "3    David   40     Tokyo\n",
      "First two rows:     Name  Age      City\n",
      "0  Alice   25  New York\n",
      "1    Bob   30    London\n",
      "First two columns:       Name  Age\n",
      "0    Alice   25\n",
      "1      Bob   30\n",
      "2  Charlie   22\n",
      "3    David   40\n",
      "First two rows and first two columns:     Name  Age\n",
      "0  Alice   25\n",
      "1    Bob   30\n",
      "Every other row:       Name  Age      City\n",
      "0    Alice   25  New York\n",
      "2  Charlie   22     Paris\n"
     ]
    }
   ],
   "source": [
    "import pandas as pd\n",
    "\n",
    "# Sample Series\n",
    "data = {'a': 10, 'b': 20, 'c': 30, 'd': 40, 'e': 50}\n",
    "series = pd.Series(data)\n",
    "\n",
    "# Slicing Series by index\n",
    "print(\"First three elements:\", series[:3])  # Output: a    10\n",
    "                                         #          b    20\n",
    "                                         #          c    30\n",
    "                                         #          dtype: int64\n",
    "\n",
    "print(\"Elements from index 'b' to 'd':\", series['b':'d'])  # Output: b    20\n",
    "                                                       #          c    30\n",
    "                                                       #          d    40\n",
    "                                                       #          dtype: int64\n",
    "\n",
    "print( 'Sample DataFrame')\n",
    "data = {'Name': ['Alice', 'Bob', 'Charlie', 'David'], \n",
    "        'Age': [25, 30, 22, 40], \n",
    "        'City': ['New York', 'London', 'Paris', 'Tokyo']}\n",
    "df = pd.DataFrame(data)\n",
    "print(df)\n",
    "\n",
    "# Slicing DataFrame by row\n",
    "print(\"First two rows:\", df[:2]) \n",
    "\n",
    "# Slicing DataFrame by column\n",
    "print(\"First two columns:\", df[['Name', 'Age']]) \n",
    "\n",
    "# Slicing DataFrame by row and column\n",
    "print(\"First two rows and first two columns:\", df[:2][['Name', 'Age']]) \n",
    "\n",
    "# Slicing DataFrame with step size\n",
    "print(\"Every other row:\", df[::2])"
   ]
  },
  {
   "cell_type": "markdown",
   "metadata": {},
   "source": [
    "# DataFrame:\n",
    "\n",
    "df[:2] selects the first two rows of the DataFrame.\n",
    "\n",
    "df[['Name', 'Age']] selects the 'Name' and 'Age' columns.\n",
    "\n",
    "df[:2][['Name', 'Age']] selects the first two rows and then the 'Name' and 'Age' columns from the selected rows.\n",
    "\n",
    "df[::2] selects every other row of the DataFrame."
   ]
  },
  {
   "cell_type": "markdown",
   "metadata": {},
   "source": [
    "# Pandas Series Slicing: In Pandas Series, slicing with [:3] includes the element at index 3.NumPy Array Slicing: In NumPy arrays, slicing with [:3] includes elements up to index 2, but excludes the element at index 3."
   ]
  },
  {
   "cell_type": "code",
   "execution_count": 18,
   "metadata": {},
   "outputs": [
    {
     "name": "stdout",
     "output_type": "stream",
     "text": [
      "Pandas Series: 0    1\n",
      "1    2\n",
      "2    3\n",
      "dtype: int64\n",
      "NumPy Array: [1 2 3]\n"
     ]
    }
   ],
   "source": [
    "import pandas as pd\n",
    "import numpy as np\n",
    "\n",
    "# Pandas Series\n",
    "series = pd.Series([1, 2, 3, 4, 5])\n",
    "print(\"Pandas Series:\", series[:3])  # Output: 0    1\n",
    "                                   #          1    2\n",
    "                                   #          2    3\n",
    "                                   #          dtype: int64 \n",
    "\n",
    "# NumPy Array\n",
    "array = np.array([1, 2, 3, 4, 5])\n",
    "print(\"NumPy Array:\", array[:3])  # Output: [1 2 3]"
   ]
  },
  {
   "cell_type": "markdown",
   "metadata": {},
   "source": [
    "Key Takeaway:\n",
    "\n",
    "When working with Pandas Series, remember that slicing with [:n] includes the element at index n-1. This behavior can be slightly different from NumPy array slicing."
   ]
  },
  {
   "cell_type": "markdown",
   "metadata": {},
   "source": [
    "General Syntax for iloc and loc in Pandas\n",
    "\n",
    "iloc (Integer-location based indexing)\n",
    "\n",
    "df.iloc[row_selector, column_selector]\n",
    "\n",
    "row_selector:\n",
    "\n",
    "Integer or list of integers representing the row indices (0-based).\n",
    "\n",
    "Slicing syntax (e.g., [start:stop:step]) can be used.\n",
    "\n",
    "Can use single integer for a single row, a list of integers for multiple rows, or a slice for a range of rows.\n",
    "column_selector:\n",
    "\n",
    "\n",
    "Integer or list of integers representing the column indices (0-based).\n",
    "\n",
    "Slicing syntax can be used.\n",
    "Can use single integer for a single column, a list of integers for multiple columns, or a slice for a range of columns.\n",
    "loc (Label-based indexing)\n",
    "\n",
    "\n",
    "df.loc[row_selector, column_selector]\n",
    "\n",
    "row_selector:\n",
    "\n",
    "Label or list of labels representing the row indices.\n",
    "\n",
    "Slicing syntax can be used with labels.\n",
    "Can use a single label, a list of labels, a slice of labels, or a boolean array.\n",
    "column_selector:\n",
    "\n",
    "\n",
    "Label or list of labels representing the column names.\n",
    "Slicing syntax can be used with labels.\n",
    "Can use a single label, a list of labels, a slice of labels."
   ]
  },
  {
   "cell_type": "code",
   "execution_count": 27,
   "metadata": {},
   "outputs": [
    {
     "name": "stdout",
     "output_type": "stream",
     "text": [
      "    A   B  C\n",
      "A1  1  10  a\n",
      "B2  2  20  b\n",
      "C3  3  30  c\n",
      "D4  4  40  d\n",
      "E5  5  50  e\n",
      "\n",
      "--- iloc slicing ---\n",
      "First two rows:     A   B  C\n",
      "A1  1  10  a\n",
      "B2  2  20  b\n",
      "Rows 1 to 3 (inclusive):\n",
      "     A   B  C\n",
      "B2  2  20  b\n",
      "C3  3  30  c\n",
      "D4  4  40  d\n",
      "Every other row:     A   B  C\n",
      "A1  1  10  a\n",
      "C3  3  30  c\n",
      "E5  5  50  e\n",
      "\n",
      "--- loc slicing ---\n",
      "Rows from 'A1' to 'C3' (inclusive):\n",
      "     A   B  C\n",
      "A1  1  10  a\n",
      "B2  2  20  b\n",
      "C3  3  30  c\n",
      "Rows 'A1', 'C3', and 'E5':     A   B  C\n",
      "A1  1  10  a\n",
      "C3  3  30  c\n",
      "E5  5  50  e\n",
      "\n",
      "--- Combining iloc and loc ---\n",
      "First two rows, then select 'B' and 'C' columns:      B  C\n",
      "A1  10  a\n",
      "B2  20  b\n"
     ]
    }
   ],
   "source": [
    "import pandas as pd\n",
    "\n",
    "# Sample DataFrame with alphanumeric index\n",
    "data = {'A': [1, 2, 3, 4, 5], \n",
    "        'B': [10, 20, 30, 40, 50], \n",
    "        'C': ['a', 'b', 'c', 'd', 'e']}\n",
    "index_labels = ['A1', 'B2', 'C3', 'D4', 'E5'] \n",
    "df = pd.DataFrame(data, index=index_labels)\n",
    "\n",
    "print(df) \n",
    "\n",
    "# iloc: Integer-location based indexing\n",
    "print(\"\\n--- iloc slicing ---\")\n",
    "print(\"First two rows:\", df.iloc[:2]) \n",
    "print(\"Rows 1 to 3 (inclusive):\\n\", df.iloc[1:4]) \n",
    "print(\"Every other row:\", df.iloc[::2]) \n",
    "\n",
    "# loc: Label-based indexing\n",
    "print(\"\\n--- loc slicing ---\")\n",
    "print(\"Rows from 'A1' to 'C3' (inclusive):\\n\", df.loc['A1':'C3']) \n",
    "print(\"Rows 'A1', 'C3', and 'E5':\", df.loc[['A1', 'C3', 'E5']]) \n",
    "\n",
    "# Combining iloc and loc\n",
    "print(\"\\n--- Combining iloc and loc ---\")\n",
    "print(\"First two rows, then select 'B' and 'C' columns:\", df.iloc[:2][['B', 'C']])"
   ]
  },
  {
   "cell_type": "markdown",
   "metadata": {},
   "source": [
    "# Explanation:\n",
    "\n",
    "# iloc:\n",
    "\n",
    "Integer-Location based indexing: Uses integer positions to select rows and columns.\n",
    "df.iloc[:2]: Selects the first two rows (rows at indices 0 and 1).\n",
    "df.iloc[1:4]: Selects rows from index 1 to 3 (inclusive).\n",
    "df.iloc[::2]: Selects every other row.\n",
    "\n",
    "# loc:\n",
    "\n",
    "Label-based indexing: Uses the index labels to select rows and columns.\n",
    "df.loc['A1':'C3']: Selects rows with labels from 'A1' to 'C3' (inclusive).\n",
    "df.loc[['A1', 'C3', 'E5']]: Selects rows with specific labels.\n",
    "Combining iloc and loc:\n",
    "\n",
    "You can chain iloc and loc to perform more complex selections.\n",
    "df.iloc[:2].loc[:, ['B', 'C']]:\n",
    "First, df.iloc[:2] selects the first two rows.\n",
    "Then, loc[:, ['B', 'C']] selects the 'B' and 'C' columns from the selected rows."
   ]
  },
  {
   "cell_type": "code",
   "execution_count": 28,
   "metadata": {},
   "outputs": [
    {
     "name": "stdout",
     "output_type": "stream",
     "text": [
      "columns 1 & 3 :\n",
      "     A  C\n",
      "A1  1  a\n",
      "B2  2  b\n",
      "C3  3  c\n",
      "D4  4  d\n",
      "E5  5  e\n"
     ]
    }
   ],
   "source": [
    "print(\"columns 1 & 3 :\\n\", df.iloc[:,[0,2]]) "
   ]
  },
  {
   "cell_type": "code",
   "execution_count": 30,
   "metadata": {},
   "outputs": [
    {
     "data": {
      "text/html": [
       "<div>\n",
       "<style scoped>\n",
       "    .dataframe tbody tr th:only-of-type {\n",
       "        vertical-align: middle;\n",
       "    }\n",
       "\n",
       "    .dataframe tbody tr th {\n",
       "        vertical-align: top;\n",
       "    }\n",
       "\n",
       "    .dataframe thead th {\n",
       "        text-align: right;\n",
       "    }\n",
       "</style>\n",
       "<table border=\"1\" class=\"dataframe\">\n",
       "  <thead>\n",
       "    <tr style=\"text-align: right;\">\n",
       "      <th></th>\n",
       "      <th>A</th>\n",
       "      <th>B</th>\n",
       "      <th>C</th>\n",
       "    </tr>\n",
       "  </thead>\n",
       "  <tbody>\n",
       "    <tr>\n",
       "      <th>E5</th>\n",
       "      <td>5</td>\n",
       "      <td>50</td>\n",
       "      <td>e</td>\n",
       "    </tr>\n",
       "    <tr>\n",
       "      <th>D4</th>\n",
       "      <td>4</td>\n",
       "      <td>40</td>\n",
       "      <td>d</td>\n",
       "    </tr>\n",
       "    <tr>\n",
       "      <th>C3</th>\n",
       "      <td>3</td>\n",
       "      <td>30</td>\n",
       "      <td>c</td>\n",
       "    </tr>\n",
       "    <tr>\n",
       "      <th>B2</th>\n",
       "      <td>2</td>\n",
       "      <td>20</td>\n",
       "      <td>b</td>\n",
       "    </tr>\n",
       "    <tr>\n",
       "      <th>A1</th>\n",
       "      <td>1</td>\n",
       "      <td>10</td>\n",
       "      <td>a</td>\n",
       "    </tr>\n",
       "  </tbody>\n",
       "</table>\n",
       "</div>"
      ],
      "text/plain": [
       "    A   B  C\n",
       "E5  5  50  e\n",
       "D4  4  40  d\n",
       "C3  3  30  c\n",
       "B2  2  20  b\n",
       "A1  1  10  a"
      ]
     },
     "execution_count": 30,
     "metadata": {},
     "output_type": "execute_result"
    }
   ],
   "source": [
    "df.sort_values('A',ascending=False)"
   ]
  }
 ],
 "metadata": {
  "kernelspec": {
   "display_name": "Python 3",
   "language": "python",
   "name": "python3"
  },
  "language_info": {
   "codemirror_mode": {
    "name": "ipython",
    "version": 3
   },
   "file_extension": ".py",
   "mimetype": "text/x-python",
   "name": "python",
   "nbconvert_exporter": "python",
   "pygments_lexer": "ipython3",
   "version": "3.12.6"
  }
 },
 "nbformat": 4,
 "nbformat_minor": 2
}
