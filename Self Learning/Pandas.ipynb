{
 "cells": [
  {
   "cell_type": "markdown",
   "metadata": {},
   "source": [
    "***What is Pandas?\n",
    "Pandas is a Python library used for\n",
    "working with data sets.\n",
    "It has functions for analyzing, cleaning,\n",
    "exploring, and manipulating data."
   ]
  },
  {
   "cell_type": "code",
   "execution_count": 2,
   "metadata": {},
   "outputs": [
    {
     "name": "stdout",
     "output_type": "stream",
     "text": [
      "2.2.3\n"
     ]
    }
   ],
   "source": [
    "import pandas as pd\n",
    "print(pd.__version__)"
   ]
  },
  {
   "cell_type": "code",
   "execution_count": 4,
   "metadata": {},
   "outputs": [
    {
     "name": "stdout",
     "output_type": "stream",
     "text": [
      "0    1\n",
      "1    7\n",
      "2    9\n",
      "dtype: int64\n",
      "7\n"
     ]
    }
   ],
   "source": [
    "somnath=[1,7,9]\n",
    "somnathPandas=pd.Series(somnath)\n",
    "print(somnathPandas)\n",
    "print(somnathPandas[1])"
   ]
  },
  {
   "cell_type": "markdown",
   "metadata": {},
   "source": [
    "<!-- Python Data Analysis or Panda -->\n"
   ]
  }
 ],
 "metadata": {
  "kernelspec": {
   "display_name": "Python 3",
   "language": "python",
   "name": "python3"
  },
  "language_info": {
   "codemirror_mode": {
    "name": "ipython",
    "version": 3
   },
   "file_extension": ".py",
   "mimetype": "text/x-python",
   "name": "python",
   "nbconvert_exporter": "python",
   "pygments_lexer": "ipython3",
   "version": "3.12.6"
  }
 },
 "nbformat": 4,
 "nbformat_minor": 2
}
