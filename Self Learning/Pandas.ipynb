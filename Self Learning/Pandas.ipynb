{
 "cells": [
  {
   "cell_type": "markdown",
   "metadata": {},
   "source": [
    "***What is Pandas?\n",
    "Pandas is a Python library used for\n",
    "working with data sets.\n",
    "It has functions for analyzing, cleaning,\n",
    "exploring, and manipulating data."
   ]
  },
  {
   "cell_type": "markdown",
   "metadata": {},
   "source": [
    "Pandas Series\n",
    "\n",
    "One-dimensional: A Series is like a single column in a spreadsheet or a single list with an associated index.   \n",
    "\n",
    "Single Data Type: Typically holds data of a single type (e.g., all integers, all strings).\n",
    "   \n",
    "Index: Has an index that labels each value. This index can be numeric (default) or custom labels.   \n",
    "Pandas DataFrame\n",
    "\n",
    "Two-dimensional: A DataFrame is a table-like structure with rows and columns.  \n",
    "\n",
    "Multiple Data Types: Can hold multiple columns with different data types. \n",
    "  \n",
    "Row and Column Indexes: Has both a row index and a column index.   \n",
    "\n",
    "Collection of Series: You can think of a DataFrame as a collection of Series, where each column is a Series.   \n",
    "\n",
    "Here's an analogy:\n",
    "\n",
    "Series: Imagine a single column in an Excel sheet (e.g., a list of names).\n",
    "\n",
    "DataFrame: Imagine the entire Excel sheet with multiple columns (e.g., names, ages, cities).\n",
    "\n",
    "In essence:\n",
    "\n",
    "A Series is a building block for a DataFrame.   \n",
    "A DataFrame provides a more structured and versatile way to work with tabular data."
   ]
  },
  {
   "cell_type": "code",
   "execution_count": 8,
   "metadata": {},
   "outputs": [
    {
     "name": "stdout",
     "output_type": "stream",
     "text": [
      "2.2.3\n"
     ]
    }
   ],
   "source": [
    "import pandas as pd\n",
    "import numpy as np\n",
    "print(pd.__version__)"
   ]
  },
  {
   "cell_type": "code",
   "execution_count": 10,
   "metadata": {},
   "outputs": [
    {
     "data": {
      "text/plain": [
       "U    1\n",
       "V    2\n",
       "W    3\n",
       "X    4\n",
       "Y    5\n",
       "dtype: int64"
      ]
     },
     "execution_count": 10,
     "metadata": {},
     "output_type": "execute_result"
    }
   ],
   "source": [
    "series_index=pd.Series(np.arange(1,6),index=list('UVWXY'))\n",
    "series_index"
   ]
  },
  {
   "cell_type": "code",
   "execution_count": 2,
   "metadata": {},
   "outputs": [
    {
     "name": "stdout",
     "output_type": "stream",
     "text": [
      "0    1\n",
      "1    7\n",
      "2    9\n",
      "dtype: int64\n",
      "7\n"
     ]
    }
   ],
   "source": [
    "somnath=[1,7,9]\n",
    "somnathPandas=pd.Series(somnath) #Index by default\n",
    "print(somnathPandas)\n",
    "print(somnathPandas[1])"
   ]
  },
  {
   "cell_type": "code",
   "execution_count": 3,
   "metadata": {},
   "outputs": [
    {
     "name": "stdout",
     "output_type": "stream",
     "text": [
      "Series:\n",
      " a    10\n",
      "b    20\n",
      "c    30\n",
      "dtype: int64\n",
      "\n",
      "DataFrame:\n",
      "       Name  Age      City\n",
      "0    Alice   25  New York\n",
      "1      Bob   30    London\n",
      "2  Charlie   22     Paris\n"
     ]
    }
   ],
   "source": [
    "\n",
    "\n",
    "# Create a Pandas Series from Dictionary\n",
    "data = {'a': 10, 'b': 20, 'c': 30}\n",
    "series = pd.Series(data) \n",
    "print(\"Series:\\n\", series) \n",
    "\n",
    "# Create a Pandas DataFrame\n",
    "data = {'Name': ['Alice', 'Bob', 'Charlie'], \n",
    "        'Age': [25, 30, 22], \n",
    "        'City': ['New York', 'London', 'Paris']}\n",
    "df = pd.DataFrame(data)\n",
    "print(\"\\nDataFrame:\\n\", df)"
   ]
  },
  {
   "cell_type": "markdown",
   "metadata": {},
   "source": [
    "<!-- Python Data Analysis or Panda -->\n"
   ]
  },
  {
   "cell_type": "markdown",
   "metadata": {},
   "source": [
    "Explanation:\n",
    "\n",
    "Series:\n",
    "\n",
    "pd.Series(data) creates a Series object from the dictionary data.\n",
    "The keys of the dictionary become the index of the Series.\n",
    "The values of the dictionary become the values of the Series.\n",
    "DataFrame:\n",
    "\n",
    "pd.DataFrame(data) creates a DataFrame from the dictionary data.\n",
    "Each key in the dictionary becomes a column in the DataFrame.\n",
    "The values associated with each key become the values in the respective columns."
   ]
  },
  {
   "cell_type": "code",
   "execution_count": 6,
   "metadata": {},
   "outputs": [
    {
     "name": "stdout",
     "output_type": "stream",
     "text": [
      "      Name  Age      City\n",
      "0    Alice   25  New York\n",
      "1      Bob   30    London\n",
      "2  Charlie   22     Paris\n",
      "\n",
      "Selecting 'Age' column: 0    25\n",
      "1    30\n",
      "2    22\n",
      "Name: Age, dtype: int64\n",
      "\n",
      "Selecting multiple columns:       Name      City\n",
      "0    Alice  New York\n",
      "1      Bob    London\n",
      "2  Charlie     Paris\n",
      "\n",
      "Selecting first two rows:     Name  Age      City\n",
      "0  Alice   25  New York\n",
      "1    Bob   30    London\n",
      "\n",
      "Selecting last row:       Name  Age   City\n",
      "2  Charlie   22  Paris\n",
      "\n",
      "Selecting rows where Age > 25:   Name  Age    City\n",
      "1  Bob   30  London\n",
      "\n",
      "🚀Mean age: 25.666666666666668\n",
      "\n",
      "Sort by Age:       Name  Age      City\n",
      "2  Charlie   22     Paris\n",
      "0    Alice   25  New York\n",
      "1      Bob   30    London\n"
     ]
    }
   ],
   "source": [
    "import pandas as pd\n",
    "\n",
    "# 1. Creating a DataFrame\n",
    "data = {'Name': ['Alice', 'Bob', 'Charlie'], \n",
    "        'Age': [25, 30, 22], \n",
    "        'City': ['New York', 'London', 'Paris']}\n",
    "df = pd.DataFrame(data)\n",
    "print(df) \n",
    "\n",
    "# 2. Selecting Columns\n",
    "print(\"\\nSelecting 'Age' column:\", df['Age']) \n",
    "print(\"\\nSelecting multiple columns:\", df[['Name', 'City']]) \n",
    "\n",
    "# 3. Selecting Rows\n",
    "print(\"\\nSelecting first two rows:\", df.head(2)) \n",
    "print(\"\\nSelecting last row:\", df.tail(1)) \n",
    "\n",
    "# 4. Filtering Data\n",
    "print(\"\\nSelecting rows where Age > 25:\", df[df['Age'] > 25])\n",
    "\n",
    "# 5. Basic Operations\n",
    "print(\"\\n🚀Mean age:\", df['Age'].mean()) \n",
    "\n",
    "print(\"\\nSort by Age:\", df.sort_values(by='Age')) \n",
    "\n",
    "# 6. Reading Data from a File\n",
    "# df = pd.read_csv('your_data.csv') # Replace 'your_data.csv' with the actual file path\n",
    "\n",
    "# 7. Writing Data to a File\n",
    "df.to_csv('output.csv', index=False)\n",
    "# Key Points:\n",
    "\n",
    "# By default, to_csv() includes the DataFrame's index as a column in the output CSV. Using index=False removes this extra column.\n",
    "# You can modify the file name and path as needed.\n",
    "# The to_csv() method has other optional parameters for customizing the output, such as:\n",
    "# sep: Specify the delimiter (e.g., ';', '|') instead of the default comma.\n",
    "# header: Control whether to include column headers.\n",
    "# encoding: Specify the encoding of the output file (e.g., 'utf-8')."
   ]
  },
  {
   "cell_type": "code",
   "execution_count": 62,
   "metadata": {},
   "outputs": [
    {
     "name": "stdout",
     "output_type": "stream",
     "text": [
      "a    10\n",
      "b    20\n",
      "c    30\n",
      "d    40\n",
      "e    50\n",
      "dtype: int64\n",
      "First three elements: a    10\n",
      "b    20\n",
      "c    30\n",
      "dtype: int64\n",
      "Elements from index 'b' to 'd': b    20\n",
      "c    30\n",
      "d    40\n",
      "dtype: int64\n",
      "Sample DataFrame\n",
      "      Name  Age      City\n",
      "0    Alice   25  New York\n",
      "1      Bob   30    London\n",
      "2  Charlie   22     Paris\n",
      "3    David   40     Tokyo\n",
      "First two rows:     Name  Age      City\n",
      "0  Alice   25  New York\n",
      "1    Bob   30    London\n",
      "First two columns:       Name  Age\n",
      "0    Alice   25\n",
      "1      Bob   30\n",
      "2  Charlie   22\n",
      "3    David   40\n",
      "First two rows and first two columns:     Name  Age\n",
      "0  Alice   25\n",
      "1    Bob   30\n",
      "Every other row:       Name  Age      City\n",
      "0    Alice   25  New York\n",
      "2  Charlie   22     Paris\n"
     ]
    }
   ],
   "source": [
    "import pandas as pd\n",
    "\n",
    "# Sample Series\n",
    "data = {'a': 10, 'b': 20, 'c': 30, 'd': 40, 'e': 50}\n",
    "series = pd.Series(data)\n",
    "print(series)\n",
    "\n",
    "# Slicing Series by index\n",
    "print(\"First three elements:\", series[:3])  # Output: a    10\n",
    "                                         #          b    20\n",
    "                                         #          c    30\n",
    "                                         #          dtype: int64\n",
    "\n",
    "print(\"Elements from index 'b' to 'd':\", series['b':'d'])  # Output: b    20\n",
    "                                                       #          c    30\n",
    "                                                       #          d    40\n",
    "                                                       #          dtype: int64\n",
    "\n",
    "print( 'Sample DataFrame')\n",
    "data = {'Name': ['Alice', 'Bob', 'Charlie', 'David'], \n",
    "        'Age': [25, 30, 22, 40], \n",
    "        'City': ['New York', 'London', 'Paris', 'Tokyo']}\n",
    "df = pd.DataFrame(data)\n",
    "print(df)\n",
    "\n",
    "# Slicing DataFrame by row\n",
    "print(\"First two rows:\", df[:2]) \n",
    "\n",
    "# Slicing DataFrame by column\n",
    "print(\"First two columns:\", df[['Name', 'Age']]) \n",
    "\n",
    "# Slicing DataFrame by row and column\n",
    "print(\"First two rows and first two columns:\", df[:2][['Name', 'Age']]) \n",
    "\n",
    "# Slicing DataFrame with step size\n",
    "print(\"Every other row:\", df[::2])"
   ]
  },
  {
   "cell_type": "markdown",
   "metadata": {},
   "source": [
    "# DataFrame:\n",
    "\n",
    "df[:2] selects the first two rows of the DataFrame.\n",
    "\n",
    "df[['Name', 'Age']] selects the 'Name' and 'Age' columns.\n",
    "\n",
    "df[:2][['Name', 'Age']] selects the first two rows and then the 'Name' and 'Age' columns from the selected rows.\n",
    "\n",
    "df[::2] selects every other row of the DataFrame."
   ]
  },
  {
   "cell_type": "markdown",
   "metadata": {},
   "source": [
    "# Pandas Series Slicing: In Pandas Series, slicing with [:3] includes the element at index 3.NumPy Array Slicing: In NumPy arrays, slicing with [:3] includes elements up to index 2, but excludes the element at index 3."
   ]
  },
  {
   "cell_type": "code",
   "execution_count": 18,
   "metadata": {},
   "outputs": [
    {
     "name": "stdout",
     "output_type": "stream",
     "text": [
      "Pandas Series: 0    1\n",
      "1    2\n",
      "2    3\n",
      "dtype: int64\n",
      "NumPy Array: [1 2 3]\n"
     ]
    }
   ],
   "source": [
    "import pandas as pd\n",
    "import numpy as np\n",
    "\n",
    "# Pandas Series\n",
    "series = pd.Series([1, 2, 3, 4, 5])\n",
    "print(\"Pandas Series:\", series[:3])  # Output: 0    1\n",
    "                                   #          1    2\n",
    "                                   #          2    3\n",
    "                                   #          dtype: int64 \n",
    "\n",
    "# NumPy Array\n",
    "array = np.array([1, 2, 3, 4, 5])\n",
    "print(\"NumPy Array:\", array[:3])  # Output: [1 2 3]"
   ]
  },
  {
   "cell_type": "code",
   "execution_count": 41,
   "metadata": {},
   "outputs": [
    {
     "ename": "ValueError",
     "evalue": "If using all scalar values, you must pass an index",
     "output_type": "error",
     "traceback": [
      "\u001b[1;31m---------------------------------------------------------------------------\u001b[0m",
      "\u001b[1;31mValueError\u001b[0m                                Traceback (most recent call last)",
      "Cell \u001b[1;32mIn[41], line 2\u001b[0m\n\u001b[0;32m      1\u001b[0m myDictionary\u001b[38;5;241m=\u001b[39m{\u001b[38;5;124m\"\u001b[39m\u001b[38;5;124mname\u001b[39m\u001b[38;5;124m\"\u001b[39m:\u001b[38;5;124m\"\u001b[39m\u001b[38;5;124mSomnath\u001b[39m\u001b[38;5;124m\"\u001b[39m,\u001b[38;5;124m\"\u001b[39m\u001b[38;5;124mAge\u001b[39m\u001b[38;5;124m\"\u001b[39m:\u001b[38;5;241m34\u001b[39m}\n\u001b[1;32m----> 2\u001b[0m \u001b[43mpd\u001b[49m\u001b[38;5;241;43m.\u001b[39;49m\u001b[43mDataFrame\u001b[49m\u001b[43m(\u001b[49m\u001b[43mmyDictionary\u001b[49m\u001b[43m)\u001b[49m \u001b[38;5;66;03m#Will give an error\u001b[39;00m\n",
      "File \u001b[1;32mc:\\Users\\11040026\\AppData\\Local\\Programs\\Python\\Python312\\Lib\\site-packages\\pandas\\core\\frame.py:778\u001b[0m, in \u001b[0;36mDataFrame.__init__\u001b[1;34m(self, data, index, columns, dtype, copy)\u001b[0m\n\u001b[0;32m    772\u001b[0m     mgr \u001b[38;5;241m=\u001b[39m \u001b[38;5;28mself\u001b[39m\u001b[38;5;241m.\u001b[39m_init_mgr(\n\u001b[0;32m    773\u001b[0m         data, axes\u001b[38;5;241m=\u001b[39m{\u001b[38;5;124m\"\u001b[39m\u001b[38;5;124mindex\u001b[39m\u001b[38;5;124m\"\u001b[39m: index, \u001b[38;5;124m\"\u001b[39m\u001b[38;5;124mcolumns\u001b[39m\u001b[38;5;124m\"\u001b[39m: columns}, dtype\u001b[38;5;241m=\u001b[39mdtype, copy\u001b[38;5;241m=\u001b[39mcopy\n\u001b[0;32m    774\u001b[0m     )\n\u001b[0;32m    776\u001b[0m \u001b[38;5;28;01melif\u001b[39;00m \u001b[38;5;28misinstance\u001b[39m(data, \u001b[38;5;28mdict\u001b[39m):\n\u001b[0;32m    777\u001b[0m     \u001b[38;5;66;03m# GH#38939 de facto copy defaults to False only in non-dict cases\u001b[39;00m\n\u001b[1;32m--> 778\u001b[0m     mgr \u001b[38;5;241m=\u001b[39m \u001b[43mdict_to_mgr\u001b[49m\u001b[43m(\u001b[49m\u001b[43mdata\u001b[49m\u001b[43m,\u001b[49m\u001b[43m \u001b[49m\u001b[43mindex\u001b[49m\u001b[43m,\u001b[49m\u001b[43m \u001b[49m\u001b[43mcolumns\u001b[49m\u001b[43m,\u001b[49m\u001b[43m \u001b[49m\u001b[43mdtype\u001b[49m\u001b[38;5;241;43m=\u001b[39;49m\u001b[43mdtype\u001b[49m\u001b[43m,\u001b[49m\u001b[43m \u001b[49m\u001b[43mcopy\u001b[49m\u001b[38;5;241;43m=\u001b[39;49m\u001b[43mcopy\u001b[49m\u001b[43m,\u001b[49m\u001b[43m \u001b[49m\u001b[43mtyp\u001b[49m\u001b[38;5;241;43m=\u001b[39;49m\u001b[43mmanager\u001b[49m\u001b[43m)\u001b[49m\n\u001b[0;32m    779\u001b[0m \u001b[38;5;28;01melif\u001b[39;00m \u001b[38;5;28misinstance\u001b[39m(data, ma\u001b[38;5;241m.\u001b[39mMaskedArray):\n\u001b[0;32m    780\u001b[0m     \u001b[38;5;28;01mfrom\u001b[39;00m \u001b[38;5;21;01mnumpy\u001b[39;00m\u001b[38;5;21;01m.\u001b[39;00m\u001b[38;5;21;01mma\u001b[39;00m \u001b[38;5;28;01mimport\u001b[39;00m mrecords\n",
      "File \u001b[1;32mc:\\Users\\11040026\\AppData\\Local\\Programs\\Python\\Python312\\Lib\\site-packages\\pandas\\core\\internals\\construction.py:503\u001b[0m, in \u001b[0;36mdict_to_mgr\u001b[1;34m(data, index, columns, dtype, typ, copy)\u001b[0m\n\u001b[0;32m    499\u001b[0m     \u001b[38;5;28;01melse\u001b[39;00m:\n\u001b[0;32m    500\u001b[0m         \u001b[38;5;66;03m# dtype check to exclude e.g. range objects, scalars\u001b[39;00m\n\u001b[0;32m    501\u001b[0m         arrays \u001b[38;5;241m=\u001b[39m [x\u001b[38;5;241m.\u001b[39mcopy() \u001b[38;5;28;01mif\u001b[39;00m \u001b[38;5;28mhasattr\u001b[39m(x, \u001b[38;5;124m\"\u001b[39m\u001b[38;5;124mdtype\u001b[39m\u001b[38;5;124m\"\u001b[39m) \u001b[38;5;28;01melse\u001b[39;00m x \u001b[38;5;28;01mfor\u001b[39;00m x \u001b[38;5;129;01min\u001b[39;00m arrays]\n\u001b[1;32m--> 503\u001b[0m \u001b[38;5;28;01mreturn\u001b[39;00m \u001b[43marrays_to_mgr\u001b[49m\u001b[43m(\u001b[49m\u001b[43marrays\u001b[49m\u001b[43m,\u001b[49m\u001b[43m \u001b[49m\u001b[43mcolumns\u001b[49m\u001b[43m,\u001b[49m\u001b[43m \u001b[49m\u001b[43mindex\u001b[49m\u001b[43m,\u001b[49m\u001b[43m \u001b[49m\u001b[43mdtype\u001b[49m\u001b[38;5;241;43m=\u001b[39;49m\u001b[43mdtype\u001b[49m\u001b[43m,\u001b[49m\u001b[43m \u001b[49m\u001b[43mtyp\u001b[49m\u001b[38;5;241;43m=\u001b[39;49m\u001b[43mtyp\u001b[49m\u001b[43m,\u001b[49m\u001b[43m \u001b[49m\u001b[43mconsolidate\u001b[49m\u001b[38;5;241;43m=\u001b[39;49m\u001b[43mcopy\u001b[49m\u001b[43m)\u001b[49m\n",
      "File \u001b[1;32mc:\\Users\\11040026\\AppData\\Local\\Programs\\Python\\Python312\\Lib\\site-packages\\pandas\\core\\internals\\construction.py:114\u001b[0m, in \u001b[0;36marrays_to_mgr\u001b[1;34m(arrays, columns, index, dtype, verify_integrity, typ, consolidate)\u001b[0m\n\u001b[0;32m    111\u001b[0m \u001b[38;5;28;01mif\u001b[39;00m verify_integrity:\n\u001b[0;32m    112\u001b[0m     \u001b[38;5;66;03m# figure out the index, if necessary\u001b[39;00m\n\u001b[0;32m    113\u001b[0m     \u001b[38;5;28;01mif\u001b[39;00m index \u001b[38;5;129;01mis\u001b[39;00m \u001b[38;5;28;01mNone\u001b[39;00m:\n\u001b[1;32m--> 114\u001b[0m         index \u001b[38;5;241m=\u001b[39m \u001b[43m_extract_index\u001b[49m\u001b[43m(\u001b[49m\u001b[43marrays\u001b[49m\u001b[43m)\u001b[49m\n\u001b[0;32m    115\u001b[0m     \u001b[38;5;28;01melse\u001b[39;00m:\n\u001b[0;32m    116\u001b[0m         index \u001b[38;5;241m=\u001b[39m ensure_index(index)\n",
      "File \u001b[1;32mc:\\Users\\11040026\\AppData\\Local\\Programs\\Python\\Python312\\Lib\\site-packages\\pandas\\core\\internals\\construction.py:667\u001b[0m, in \u001b[0;36m_extract_index\u001b[1;34m(data)\u001b[0m\n\u001b[0;32m    664\u001b[0m         \u001b[38;5;28;01mraise\u001b[39;00m \u001b[38;5;167;01mValueError\u001b[39;00m(\u001b[38;5;124m\"\u001b[39m\u001b[38;5;124mPer-column arrays must each be 1-dimensional\u001b[39m\u001b[38;5;124m\"\u001b[39m)\n\u001b[0;32m    666\u001b[0m \u001b[38;5;28;01mif\u001b[39;00m \u001b[38;5;129;01mnot\u001b[39;00m indexes \u001b[38;5;129;01mand\u001b[39;00m \u001b[38;5;129;01mnot\u001b[39;00m raw_lengths:\n\u001b[1;32m--> 667\u001b[0m     \u001b[38;5;28;01mraise\u001b[39;00m \u001b[38;5;167;01mValueError\u001b[39;00m(\u001b[38;5;124m\"\u001b[39m\u001b[38;5;124mIf using all scalar values, you must pass an index\u001b[39m\u001b[38;5;124m\"\u001b[39m)\n\u001b[0;32m    669\u001b[0m \u001b[38;5;28;01mif\u001b[39;00m have_series:\n\u001b[0;32m    670\u001b[0m     index \u001b[38;5;241m=\u001b[39m union_indexes(indexes)\n",
      "\u001b[1;31mValueError\u001b[0m: If using all scalar values, you must pass an index"
     ]
    }
   ],
   "source": [
    "myDictionary={\"name\":\"Somnath\",\"Age\":34}\n",
    "pd.DataFrame(myDictionary) #Will give an error"
   ]
  },
  {
   "cell_type": "code",
   "execution_count": 46,
   "metadata": {},
   "outputs": [
    {
     "name": "stdout",
     "output_type": "stream",
     "text": [
      "      name  Age\n",
      "a  Somnath   34\n"
     ]
    },
    {
     "data": {
      "text/html": [
       "<div>\n",
       "<style scoped>\n",
       "    .dataframe tbody tr th:only-of-type {\n",
       "        vertical-align: middle;\n",
       "    }\n",
       "\n",
       "    .dataframe tbody tr th {\n",
       "        vertical-align: top;\n",
       "    }\n",
       "\n",
       "    .dataframe thead th {\n",
       "        text-align: right;\n",
       "    }\n",
       "</style>\n",
       "<table border=\"1\" class=\"dataframe\">\n",
       "  <thead>\n",
       "    <tr style=\"text-align: right;\">\n",
       "      <th></th>\n",
       "      <th>name</th>\n",
       "      <th>Age</th>\n",
       "    </tr>\n",
       "  </thead>\n",
       "  <tbody>\n",
       "    <tr>\n",
       "      <th>0</th>\n",
       "      <td>Somnath</td>\n",
       "      <td>34</td>\n",
       "    </tr>\n",
       "  </tbody>\n",
       "</table>\n",
       "</div>"
      ],
      "text/plain": [
       "      name  Age\n",
       "0  Somnath   34"
      ]
     },
     "execution_count": 46,
     "metadata": {},
     "output_type": "execute_result"
    }
   ],
   "source": [
    "#To Fix The Above Error  If using all scalar values, you must pass an index\n",
    "print(pd.DataFrame(myDictionary,index=[\"a\"]))\n",
    "#or \n",
    "myDictionary2={\"name\":['Somnath'],\"Age\":[34]}\n",
    "pd.DataFrame(myDictionary2)\n",
    "#or "
   ]
  },
  {
   "cell_type": "markdown",
   "metadata": {},
   "source": [
    "Key Takeaway:\n",
    "\n",
    "When working with Pandas Series, remember that slicing with [:n] includes the element at index n-1. This behavior can be slightly different from NumPy array slicing."
   ]
  },
  {
   "cell_type": "markdown",
   "metadata": {},
   "source": [
    "General Syntax for iloc and loc in Pandas\n",
    "\n",
    "iloc (Integer-location based indexing)\n",
    "\n",
    "df.iloc[row_selector, column_selector]\n",
    "\n",
    "row_selector:\n",
    "\n",
    "Integer or list of integers representing the row indices (0-based).\n",
    "\n",
    "Slicing syntax (e.g., [start:stop:step]) can be used.\n",
    "\n",
    "Can use single integer for a single row, a list of integers for multiple rows, or a slice for a range of rows.\n",
    "column_selector:\n",
    "\n",
    "\n",
    "Integer or list of integers representing the column indices (0-based).\n",
    "\n",
    "Slicing syntax can be used.\n",
    "Can use single integer for a single column, a list of integers for multiple columns, or a slice for a range of columns.\n",
    "loc (Label-based indexing)\n",
    "\n",
    "\n",
    "df.loc[row_selector, column_selector]\n",
    "\n",
    "row_selector:\n",
    "\n",
    "Label or list of labels representing the row indices.\n",
    "\n",
    "Slicing syntax can be used with labels.\n",
    "Can use a single label, a list of labels, a slice of labels, or a boolean array.\n",
    "column_selector:\n",
    "\n",
    "\n",
    "Label or list of labels representing the column names.\n",
    "Slicing syntax can be used with labels.\n",
    "Can use a single label, a list of labels, a slice of labels."
   ]
  },
  {
   "cell_type": "code",
   "execution_count": 27,
   "metadata": {},
   "outputs": [
    {
     "name": "stdout",
     "output_type": "stream",
     "text": [
      "    A   B  C\n",
      "A1  1  10  a\n",
      "B2  2  20  b\n",
      "C3  3  30  c\n",
      "D4  4  40  d\n",
      "E5  5  50  e\n",
      "\n",
      "--- iloc slicing ---\n",
      "First two rows:     A   B  C\n",
      "A1  1  10  a\n",
      "B2  2  20  b\n",
      "Rows 1 to 3 (inclusive):\n",
      "     A   B  C\n",
      "B2  2  20  b\n",
      "C3  3  30  c\n",
      "D4  4  40  d\n",
      "Every other row:     A   B  C\n",
      "A1  1  10  a\n",
      "C3  3  30  c\n",
      "E5  5  50  e\n",
      "\n",
      "--- loc slicing ---\n",
      "Rows from 'A1' to 'C3' (inclusive):\n",
      "     A   B  C\n",
      "A1  1  10  a\n",
      "B2  2  20  b\n",
      "C3  3  30  c\n",
      "Rows 'A1', 'C3', and 'E5':     A   B  C\n",
      "A1  1  10  a\n",
      "C3  3  30  c\n",
      "E5  5  50  e\n",
      "\n",
      "--- Combining iloc and loc ---\n",
      "First two rows, then select 'B' and 'C' columns:      B  C\n",
      "A1  10  a\n",
      "B2  20  b\n"
     ]
    }
   ],
   "source": [
    "import pandas as pd\n",
    "\n",
    "# Sample DataFrame with alphanumeric index\n",
    "data = {'A': [1, 2, 3, 4, 5], \n",
    "        'B': [10, 20, 30, 40, 50], \n",
    "        'C': ['a', 'b', 'c', 'd', 'e']}\n",
    "index_labels = ['A1', 'B2', 'C3', 'D4', 'E5'] \n",
    "df = pd.DataFrame(data, index=index_labels)\n",
    "\n",
    "print(df) \n",
    "\n",
    "# iloc: Integer-location based indexing\n",
    "print(\"\\n--- iloc slicing ---\")\n",
    "print(\"First two rows:\", df.iloc[:2]) \n",
    "print(\"Rows 1 to 3 (inclusive):\\n\", df.iloc[1:4]) \n",
    "print(\"Every other row:\", df.iloc[::2]) \n",
    "\n",
    "# loc: Label-based indexing\n",
    "print(\"\\n--- loc slicing ---\")\n",
    "print(\"Rows from 'A1' to 'C3' (inclusive):\\n\", df.loc['A1':'C3']) \n",
    "print(\"Rows 'A1', 'C3', and 'E5':\", df.loc[['A1', 'C3', 'E5']]) \n",
    "\n",
    "# Combining iloc and loc\n",
    "print(\"\\n--- Combining iloc and loc ---\")\n",
    "print(\"First two rows, then select 'B' and 'C' columns:\", df.iloc[:2][['B', 'C']])"
   ]
  },
  {
   "cell_type": "markdown",
   "metadata": {},
   "source": [
    "# Explanation:\n",
    "\n",
    "# iloc:\n",
    "\n",
    "Integer-Location based indexing: Uses integer positions to select rows and columns.\n",
    "df.iloc[:2]: Selects the first two rows (rows at indices 0 and 1).\n",
    "df.iloc[1:4]: Selects rows from index 1 to 3 (inclusive).\n",
    "df.iloc[::2]: Selects every other row.\n",
    "\n",
    "# loc:\n",
    "\n",
    "Label-based indexing: Uses the index labels to select rows and columns.\n",
    "df.loc['A1':'C3']: Selects rows with labels from 'A1' to 'C3' (inclusive).\n",
    "df.loc[['A1', 'C3', 'E5']]: Selects rows with specific labels.\n",
    "Combining iloc and loc:\n",
    "\n",
    "You can chain iloc and loc to perform more complex selections.\n",
    "df.iloc[:2].loc[:, ['B', 'C']]:\n",
    "First, df.iloc[:2] selects the first two rows.\n",
    "Then, loc[:, ['B', 'C']] selects the 'B' and 'C' columns from the selected rows."
   ]
  },
  {
   "cell_type": "code",
   "execution_count": 35,
   "metadata": {},
   "outputs": [
    {
     "name": "stdout",
     "output_type": "stream",
     "text": [
      "columns 1 & 3 :\n",
      "     A  C\n",
      "A1  1  a\n",
      "B2  2  b\n",
      "C3  3  c\n",
      "D4  4  d\n",
      "E5  5  e\n"
     ]
    }
   ],
   "source": [
    "print(\"columns 1 & 3 :\\n\", df.iloc[:,[0,2]]) "
   ]
  },
  {
   "cell_type": "code",
   "execution_count": 36,
   "metadata": {},
   "outputs": [
    {
     "data": {
      "text/html": [
       "<div>\n",
       "<style scoped>\n",
       "    .dataframe tbody tr th:only-of-type {\n",
       "        vertical-align: middle;\n",
       "    }\n",
       "\n",
       "    .dataframe tbody tr th {\n",
       "        vertical-align: top;\n",
       "    }\n",
       "\n",
       "    .dataframe thead th {\n",
       "        text-align: right;\n",
       "    }\n",
       "</style>\n",
       "<table border=\"1\" class=\"dataframe\">\n",
       "  <thead>\n",
       "    <tr style=\"text-align: right;\">\n",
       "      <th></th>\n",
       "      <th>A</th>\n",
       "      <th>B</th>\n",
       "      <th>C</th>\n",
       "    </tr>\n",
       "  </thead>\n",
       "  <tbody>\n",
       "    <tr>\n",
       "      <th>E5</th>\n",
       "      <td>5</td>\n",
       "      <td>50</td>\n",
       "      <td>e</td>\n",
       "    </tr>\n",
       "    <tr>\n",
       "      <th>D4</th>\n",
       "      <td>4</td>\n",
       "      <td>40</td>\n",
       "      <td>d</td>\n",
       "    </tr>\n",
       "    <tr>\n",
       "      <th>C3</th>\n",
       "      <td>3</td>\n",
       "      <td>30</td>\n",
       "      <td>c</td>\n",
       "    </tr>\n",
       "    <tr>\n",
       "      <th>B2</th>\n",
       "      <td>2</td>\n",
       "      <td>20</td>\n",
       "      <td>b</td>\n",
       "    </tr>\n",
       "    <tr>\n",
       "      <th>A1</th>\n",
       "      <td>1</td>\n",
       "      <td>10</td>\n",
       "      <td>a</td>\n",
       "    </tr>\n",
       "  </tbody>\n",
       "</table>\n",
       "</div>"
      ],
      "text/plain": [
       "    A   B  C\n",
       "E5  5  50  e\n",
       "D4  4  40  d\n",
       "C3  3  30  c\n",
       "B2  2  20  b\n",
       "A1  1  10  a"
      ]
     },
     "execution_count": 36,
     "metadata": {},
     "output_type": "execute_result"
    }
   ],
   "source": [
    "df.sort_values('A',ascending=False)"
   ]
  },
  {
   "cell_type": "code",
   "execution_count": 37,
   "metadata": {},
   "outputs": [
    {
     "data": {
      "text/html": [
       "<div>\n",
       "<style scoped>\n",
       "    .dataframe tbody tr th:only-of-type {\n",
       "        vertical-align: middle;\n",
       "    }\n",
       "\n",
       "    .dataframe tbody tr th {\n",
       "        vertical-align: top;\n",
       "    }\n",
       "\n",
       "    .dataframe thead th {\n",
       "        text-align: right;\n",
       "    }\n",
       "</style>\n",
       "<table border=\"1\" class=\"dataframe\">\n",
       "  <thead>\n",
       "    <tr style=\"text-align: right;\">\n",
       "      <th></th>\n",
       "      <th>price</th>\n",
       "      <th>ticker</th>\n",
       "      <th>company</th>\n",
       "    </tr>\n",
       "  </thead>\n",
       "  <tbody>\n",
       "    <tr>\n",
       "      <th>0</th>\n",
       "      <td>95</td>\n",
       "      <td>AXP</td>\n",
       "      <td>American Express</td>\n",
       "    </tr>\n",
       "    <tr>\n",
       "      <th>1</th>\n",
       "      <td>25</td>\n",
       "      <td>CSCO</td>\n",
       "      <td>Cisco</td>\n",
       "    </tr>\n",
       "    <tr>\n",
       "      <th>2</th>\n",
       "      <td>85</td>\n",
       "      <td>DIS</td>\n",
       "      <td>Walt Disney</td>\n",
       "    </tr>\n",
       "    <tr>\n",
       "      <th>3</th>\n",
       "      <td>41</td>\n",
       "      <td>MSFT</td>\n",
       "      <td>Microsoft</td>\n",
       "    </tr>\n",
       "    <tr>\n",
       "      <th>4</th>\n",
       "      <td>78</td>\n",
       "      <td>WMT</td>\n",
       "      <td>Walmart</td>\n",
       "    </tr>\n",
       "  </tbody>\n",
       "</table>\n",
       "</div>"
      ],
      "text/plain": [
       "   price ticker           company\n",
       "0     95    AXP  American Express\n",
       "1     25   CSCO             Cisco\n",
       "2     85    DIS       Walt Disney\n",
       "3     41   MSFT         Microsoft\n",
       "4     78    WMT           Walmart"
      ]
     },
     "execution_count": 37,
     "metadata": {},
     "output_type": "execute_result"
    }
   ],
   "source": [
    "import pandas as pd\n",
    "\n",
    "Data = pd.DataFrame({'price':[95, 25, 85, 41, 78],\n",
    "\n",
    "                     'ticker':['AXP', 'CSCO', 'DIS', 'MSFT', 'WMT'],\n",
    "\n",
    "                     'company':['American Express', 'Cisco', 'Walt Disney','Microsoft', 'Walmart']})\n",
    "\n",
    "Data"
   ]
  },
  {
   "cell_type": "code",
   "execution_count": 38,
   "metadata": {},
   "outputs": [
    {
     "data": {
      "text/plain": [
       "0"
      ]
     },
     "execution_count": 38,
     "metadata": {},
     "output_type": "execute_result"
    }
   ],
   "source": [
    " l=[]\n",
    " np.size(l)"
   ]
  },
  {
   "cell_type": "code",
   "execution_count": 40,
   "metadata": {},
   "outputs": [
    {
     "name": "stdout",
     "output_type": "stream",
     "text": [
      "[[ 50 200   5  10]\n",
      " [ 10  35  50  15]\n",
      " [ 25 100 145 120]\n",
      " [105  25  65  80]]\n",
      "[[ 5 10]\n",
      " [50 15]]\n"
     ]
    }
   ],
   "source": [
    "a = np.array(([50,200,5,10],[10,35,50,15],[25,100,145,120],[105,25,65,80]))\n",
    "\n",
    "b = a[:2,2:]\n",
    "print(a)\n",
    "\n",
    "print(b)"
   ]
  },
  {
   "cell_type": "code",
   "execution_count": 47,
   "metadata": {},
   "outputs": [
    {
     "data": {
      "text/html": [
       "<div>\n",
       "<style scoped>\n",
       "    .dataframe tbody tr th:only-of-type {\n",
       "        vertical-align: middle;\n",
       "    }\n",
       "\n",
       "    .dataframe tbody tr th {\n",
       "        vertical-align: top;\n",
       "    }\n",
       "\n",
       "    .dataframe thead th {\n",
       "        text-align: right;\n",
       "    }\n",
       "</style>\n",
       "<table border=\"1\" class=\"dataframe\">\n",
       "  <thead>\n",
       "    <tr style=\"text-align: right;\">\n",
       "      <th></th>\n",
       "    </tr>\n",
       "  </thead>\n",
       "  <tbody>\n",
       "  </tbody>\n",
       "</table>\n",
       "</div>"
      ],
      "text/plain": [
       "Empty DataFrame\n",
       "Columns: []\n",
       "Index: []"
      ]
     },
     "execution_count": 47,
     "metadata": {},
     "output_type": "execute_result"
    }
   ],
   "source": [
    "dfBlank=pd.DataFrame()\n",
    "dfBlank"
   ]
  },
  {
   "cell_type": "code",
   "execution_count": 48,
   "metadata": {},
   "outputs": [
    {
     "data": {
      "text/plain": [
       "pandas.core.frame.DataFrame"
      ]
     },
     "execution_count": 48,
     "metadata": {},
     "output_type": "execute_result"
    }
   ],
   "source": [
    "type(dfBlank)"
   ]
  },
  {
   "cell_type": "code",
   "execution_count": 49,
   "metadata": {},
   "outputs": [
    {
     "name": "stdout",
     "output_type": "stream",
     "text": [
      "Empty DataFrame\n",
      "Columns: []\n",
      "Index: []\n"
     ]
    }
   ],
   "source": [
    "print(dfBlank)"
   ]
  },
  {
   "cell_type": "code",
   "execution_count": 50,
   "metadata": {},
   "outputs": [
    {
     "data": {
      "text/html": [
       "<div>\n",
       "<style scoped>\n",
       "    .dataframe tbody tr th:only-of-type {\n",
       "        vertical-align: middle;\n",
       "    }\n",
       "\n",
       "    .dataframe tbody tr th {\n",
       "        vertical-align: top;\n",
       "    }\n",
       "\n",
       "    .dataframe thead th {\n",
       "        text-align: right;\n",
       "    }\n",
       "</style>\n",
       "<table border=\"1\" class=\"dataframe\">\n",
       "  <thead>\n",
       "    <tr style=\"text-align: right;\">\n",
       "      <th></th>\n",
       "      <th>Id</th>\n",
       "      <th>Name</th>\n",
       "      <th>Sal</th>\n",
       "      <th>Exp</th>\n",
       "    </tr>\n",
       "  </thead>\n",
       "  <tbody>\n",
       "  </tbody>\n",
       "</table>\n",
       "</div>"
      ],
      "text/plain": [
       "Empty DataFrame\n",
       "Columns: [Id, Name, Sal, Exp]\n",
       "Index: []"
      ]
     },
     "execution_count": 50,
     "metadata": {},
     "output_type": "execute_result"
    }
   ],
   "source": [
    "columnData=['Id','Name','Sal','Exp']\n",
    "dfBlank=pd.DataFrame(columns=columnData)\n",
    "dfBlank"
   ]
  },
  {
   "cell_type": "code",
   "execution_count": 52,
   "metadata": {},
   "outputs": [],
   "source": [
    "\n",
    "\n",
    "new_row = pd.DataFrame({\"Id\": [1], 'Name': ['Somnath'], 'Sal': [1000], 'Exp': [5]})\n",
    "dfBlank = pd.concat([dfBlank, new_row], ignore_index=True)"
   ]
  },
  {
   "cell_type": "code",
   "execution_count": 53,
   "metadata": {},
   "outputs": [
    {
     "data": {
      "text/html": [
       "<div>\n",
       "<style scoped>\n",
       "    .dataframe tbody tr th:only-of-type {\n",
       "        vertical-align: middle;\n",
       "    }\n",
       "\n",
       "    .dataframe tbody tr th {\n",
       "        vertical-align: top;\n",
       "    }\n",
       "\n",
       "    .dataframe thead th {\n",
       "        text-align: right;\n",
       "    }\n",
       "</style>\n",
       "<table border=\"1\" class=\"dataframe\">\n",
       "  <thead>\n",
       "    <tr style=\"text-align: right;\">\n",
       "      <th></th>\n",
       "      <th>Id</th>\n",
       "      <th>Name</th>\n",
       "      <th>Sal</th>\n",
       "      <th>Exp</th>\n",
       "    </tr>\n",
       "  </thead>\n",
       "  <tbody>\n",
       "    <tr>\n",
       "      <th>0</th>\n",
       "      <td>1</td>\n",
       "      <td>Somnath</td>\n",
       "      <td>1000</td>\n",
       "      <td>5</td>\n",
       "    </tr>\n",
       "  </tbody>\n",
       "</table>\n",
       "</div>"
      ],
      "text/plain": [
       "  Id     Name   Sal Exp\n",
       "0  1  Somnath  1000   5"
      ]
     },
     "execution_count": 53,
     "metadata": {},
     "output_type": "execute_result"
    }
   ],
   "source": [
    "dfBlank"
   ]
  },
  {
   "cell_type": "markdown",
   "metadata": {},
   "source": [
    "DataFrame From a List \n",
    "Create a list of lists:\n",
    "\n",
    "data = [['Alice', 25, 'New York'], ... ]: This creates a list where each inner list represents a row in the future DataFrame."
   ]
  },
  {
   "cell_type": "code",
   "execution_count": 54,
   "metadata": {},
   "outputs": [
    {
     "name": "stdout",
     "output_type": "stream",
     "text": [
      "      Name  Age      City\n",
      "0    Alice   25  New York\n",
      "1      Bob   30    London\n",
      "2  Charlie   22     Paris\n"
     ]
    },
    {
     "data": {
      "text/html": [
       "<div>\n",
       "<style scoped>\n",
       "    .dataframe tbody tr th:only-of-type {\n",
       "        vertical-align: middle;\n",
       "    }\n",
       "\n",
       "    .dataframe tbody tr th {\n",
       "        vertical-align: top;\n",
       "    }\n",
       "\n",
       "    .dataframe thead th {\n",
       "        text-align: right;\n",
       "    }\n",
       "</style>\n",
       "<table border=\"1\" class=\"dataframe\">\n",
       "  <thead>\n",
       "    <tr style=\"text-align: right;\">\n",
       "      <th></th>\n",
       "      <th>Id</th>\n",
       "      <th>Name</th>\n",
       "    </tr>\n",
       "  </thead>\n",
       "  <tbody>\n",
       "    <tr>\n",
       "      <th>0</th>\n",
       "      <td>1</td>\n",
       "      <td>Somnath</td>\n",
       "    </tr>\n",
       "    <tr>\n",
       "      <th>1</th>\n",
       "      <td>2</td>\n",
       "      <td>Debasree</td>\n",
       "    </tr>\n",
       "  </tbody>\n",
       "</table>\n",
       "</div>"
      ],
      "text/plain": [
       "   Id      Name\n",
       "0   1   Somnath\n",
       "1   2  Debasree"
      ]
     },
     "execution_count": 54,
     "metadata": {},
     "output_type": "execute_result"
    }
   ],
   "source": [
    "import pandas as pd\n",
    "\n",
    "# Sample data\n",
    "data = [['Alice', 25, 'New York'], \n",
    "        ['Bob', 30, 'London'], \n",
    "        ['Charlie', 22, 'Paris']]\n",
    "\n",
    "# Create a DataFrame from the list of lists\n",
    "df = pd.DataFrame(data, columns=['Name', 'Age', 'City']) \n",
    "\n",
    "print(df)\n",
    "\n",
    "##or\n",
    "df1=pd.DataFrame()\n",
    "df1['Id']=[1,2]\n",
    "df1['Name']=['Somnath','Debasree']\n",
    "df1"
   ]
  },
  {
   "cell_type": "code",
   "execution_count": 60,
   "metadata": {},
   "outputs": [
    {
     "data": {
      "text/html": [
       "<div>\n",
       "<style scoped>\n",
       "    .dataframe tbody tr th:only-of-type {\n",
       "        vertical-align: middle;\n",
       "    }\n",
       "\n",
       "    .dataframe tbody tr th {\n",
       "        vertical-align: top;\n",
       "    }\n",
       "\n",
       "    .dataframe thead th {\n",
       "        text-align: right;\n",
       "    }\n",
       "</style>\n",
       "<table border=\"1\" class=\"dataframe\">\n",
       "  <thead>\n",
       "    <tr style=\"text-align: right;\">\n",
       "      <th></th>\n",
       "      <th>Id</th>\n",
       "      <th>Name</th>\n",
       "    </tr>\n",
       "  </thead>\n",
       "  <tbody>\n",
       "    <tr>\n",
       "      <th>1</th>\n",
       "      <td>2</td>\n",
       "      <td>NaN</td>\n",
       "    </tr>\n",
       "  </tbody>\n",
       "</table>\n",
       "</div>"
      ],
      "text/plain": [
       "   Id Name\n",
       "1   2  NaN"
      ]
     },
     "execution_count": 60,
     "metadata": {},
     "output_type": "execute_result"
    }
   ],
   "source": [
    "df2=pd.DataFrame(columns=['Id','Name'],index=[0,1])\n",
    "df2['Id']=[1,2]\n",
    "df2.head(-1)\n",
    "df2.tail(-1)"
   ]
  },
  {
   "cell_type": "code",
   "execution_count": 63,
   "metadata": {},
   "outputs": [
    {
     "name": "stdout",
     "output_type": "stream",
     "text": [
      "                    Status  Age(in Years)  Temperature\n",
      "Patient 1  Corona Positive             65         99.0\n",
      "Patient 2  Corona Negative             52         98.7\n",
      "Patient 3  Corona Positive             43        100.1\n",
      "Patient 4  Corona Positive             26         99.6\n",
      "Patient 5  Corona Negative             30         98.1\n"
     ]
    }
   ],
   "source": [
    "# importing pandas library\n",
    "import numpy as np\n",
    "\n",
    "# Creating pandas dataframe\n",
    "df = pd.DataFrame(\n",
    "    [\n",
    "        (\"Corona Positive\", 65, 99),\n",
    "        (\"Corona Negative\", 52, 98.7),\n",
    "        (\"Corona Positive\", 43, 100.1),\n",
    "        (\"Corona Positive\", 26, 99.6),\n",
    "        (\"Corona Negative\", 30, 98.1),\n",
    "    ],\n",
    "    \n",
    "    index=[\"Patient 1\", \"Patient 2\", \"Patient 3\",\n",
    "           \"Patient 4\", \"Patient 5\"],\n",
    "    \n",
    "    columns=(\"Status\", \"Age(in Years)\", \"Temperature\"),\n",
    ")\n",
    "\n",
    "# show dataframe\n",
    "print(df)\n"
   ]
  },
  {
   "cell_type": "code",
   "execution_count": 65,
   "metadata": {},
   "outputs": [
    {
     "name": "stdout",
     "output_type": "stream",
     "text": [
      "<pandas.core.groupby.generic.DataFrameGroupBy object at 0x000001E8EFDA7F50>\n",
      "<pandas.core.groupby.generic.DataFrameGroupBy object at 0x000001E8EFD239E0>\n"
     ]
    }
   ],
   "source": [
    "# Grouping with only status \n",
    "grouped1 = df.groupby(\"Status\")\n",
    "print(grouped1)\n",
    "\n",
    "# Grouping with temperature and status\n",
    "grouped3 = df.groupby([\"Temperature\", \"Status\"])\n",
    "print(grouped3)\n"
   ]
  },
  {
   "cell_type": "code",
   "execution_count": 66,
   "metadata": {},
   "outputs": [
    {
     "data": {
      "text/html": [
       "<div>\n",
       "<style scoped>\n",
       "    .dataframe tbody tr th:only-of-type {\n",
       "        vertical-align: middle;\n",
       "    }\n",
       "\n",
       "    .dataframe tbody tr th {\n",
       "        vertical-align: top;\n",
       "    }\n",
       "\n",
       "    .dataframe thead th {\n",
       "        text-align: right;\n",
       "    }\n",
       "</style>\n",
       "<table border=\"1\" class=\"dataframe\">\n",
       "  <thead>\n",
       "    <tr style=\"text-align: right;\">\n",
       "      <th></th>\n",
       "      <th>Age(in Years)</th>\n",
       "      <th>Temperature</th>\n",
       "    </tr>\n",
       "    <tr>\n",
       "      <th>Status</th>\n",
       "      <th></th>\n",
       "      <th></th>\n",
       "    </tr>\n",
       "  </thead>\n",
       "  <tbody>\n",
       "    <tr>\n",
       "      <th>Corona Negative</th>\n",
       "      <td>41.000000</td>\n",
       "      <td>98.400000</td>\n",
       "    </tr>\n",
       "    <tr>\n",
       "      <th>Corona Positive</th>\n",
       "      <td>44.666667</td>\n",
       "      <td>99.566667</td>\n",
       "    </tr>\n",
       "  </tbody>\n",
       "</table>\n",
       "</div>"
      ],
      "text/plain": [
       "                 Age(in Years)  Temperature\n",
       "Status                                     \n",
       "Corona Negative      41.000000    98.400000\n",
       "Corona Positive      44.666667    99.566667"
      ]
     },
     "execution_count": 66,
     "metadata": {},
     "output_type": "execute_result"
    }
   ],
   "source": [
    "\n",
    "# Finding the mean of the\n",
    "# patients reports according to\n",
    "# the status\n",
    "grouped1.mean()\n"
   ]
  }
 ],
 "metadata": {
  "kernelspec": {
   "display_name": "Python 3",
   "language": "python",
   "name": "python3"
  },
  "language_info": {
   "codemirror_mode": {
    "name": "ipython",
    "version": 3
   },
   "file_extension": ".py",
   "mimetype": "text/x-python",
   "name": "python",
   "nbconvert_exporter": "python",
   "pygments_lexer": "ipython3",
   "version": "3.12.6"
  }
 },
 "nbformat": 4,
 "nbformat_minor": 2
}
