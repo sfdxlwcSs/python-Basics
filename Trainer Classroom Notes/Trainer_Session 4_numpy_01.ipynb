{
 "cells": [
  {
   "cell_type": "markdown",
   "id": "c465f5f5-d866-43e2-b3ff-b0d9fd877404",
   "metadata": {},
   "source": [
    "**Numpy**\n",
    "\n",
    "- Considered as a fundamental package for all scientific computing in Python\n",
    "- This is kind of base for lot of other major data science libraries in python, like Pandas\n"
   ]
  },
  {
   "cell_type": "markdown",
   "id": "5cf554f3-2cb7-4c5b-b25b-600dee4aa9ce",
   "metadata": {},
   "source": [
    "**Background on how Numpy works**\n",
    "\n",
    "**What is numpy**\n",
    "- Multi Dimensional Array Library\n",
    "- We can use numpy to store all types of data in One dimensional array, two dimensional array, three.. four, etc\n",
    "\n",
    "**Why use numpy over lists**\n",
    "- Main difference is speed. Lists are slow, numpy is very fast\n",
    "\n",
    "**Why are lists slow and numpy fast**\n",
    "- numpy uses fixed type\n",
    "- Faster to read as less bytes of memory\n",
    "- We don't have to do type checking in numpy\n",
    "- Numpy uses Contiguous memory, in lists it is scattered (Benefits, SIMD Vector Processing, Effective Cache utilization)\n",
    "\n",
    "  **Numpy**\n",
    "  \n",
    "- Ex: consider 5, computer read this in binary 00000101 (8bits or 1 byte); by default this gets cached in int32 type in numpy (4 Bytes)\n",
    "- In numpy, we can specify the bytes needed (int16, int8) based on the value we have\n",
    " \n",
    "  **Lists**\n",
    "- We need to store lot of other information apart from integer\n",
    "- this used built-in int type, this uses 4 different things\n",
    "- object value , object type, reference count, size\n",
    "- object value (8 bytes)\n",
    "- object type (8 bytes) \n",
    "- reference count (8 bytes)\n",
    "- size (4 bytes)"
   ]
  },
  {
   "cell_type": "markdown",
   "id": "7889d175-5808-46fc-93dd-74f0076af6fe",
   "metadata": {},
   "source": [
    "**What can we do in numpy**\n",
    "\n",
    "-Insertion, Deletion, Appending, Concatenation and lots more"
   ]
  },
  {
   "cell_type": "code",
   "execution_count": 35,
   "id": "ae1d7ae0-e220-4fcc-b1e3-0427c4943ffc",
   "metadata": {},
   "outputs": [],
   "source": [
    "#lists\n",
    "\n",
    "a=[1,3,5]\n",
    "b=[2,4,6]"
   ]
  },
  {
   "cell_type": "code",
   "execution_count": 45,
   "id": "51aeb9d6-f33e-4f80-b2f3-cf6b8f6d4330",
   "metadata": {},
   "outputs": [
    {
     "data": {
      "text/plain": [
       "[1, 3, 5, 2, 4, 6]"
      ]
     },
     "execution_count": 45,
     "metadata": {},
     "output_type": "execute_result"
    }
   ],
   "source": [
    "a+b"
   ]
  },
  {
   "cell_type": "code",
   "execution_count": 43,
   "id": "a780470e-3033-4121-8e37-c7d20b327163",
   "metadata": {},
   "outputs": [
    {
     "ename": "TypeError",
     "evalue": "can't multiply sequence by non-int of type 'list'",
     "output_type": "error",
     "traceback": [
      "\u001b[1;31m---------------------------------------------------------------------------\u001b[0m",
      "\u001b[1;31mTypeError\u001b[0m                                 Traceback (most recent call last)",
      "Cell \u001b[1;32mIn[43], line 1\u001b[0m\n\u001b[1;32m----> 1\u001b[0m a\u001b[38;5;241m*\u001b[39mb\n",
      "\u001b[1;31mTypeError\u001b[0m: can't multiply sequence by non-int of type 'list'"
     ]
    }
   ],
   "source": [
    "a*b # Cannot do this in list"
   ]
  },
  {
   "cell_type": "code",
   "execution_count": 39,
   "id": "d03bc607-1884-499f-aa92-6d0a64dbaf07",
   "metadata": {},
   "outputs": [],
   "source": [
    "#numpy\n",
    "\n",
    "a_arr=np.array([1,3,5])\n",
    "b_arr=np.array([2,4,6])"
   ]
  },
  {
   "cell_type": "code",
   "execution_count": 47,
   "id": "9e5cb38b-49e8-45ad-8432-86f37b101e83",
   "metadata": {},
   "outputs": [
    {
     "data": {
      "text/plain": [
       "array([ 3,  7, 11])"
      ]
     },
     "execution_count": 47,
     "metadata": {},
     "output_type": "execute_result"
    }
   ],
   "source": [
    "a_arr+b_arr"
   ]
  },
  {
   "cell_type": "code",
   "execution_count": 41,
   "id": "cabe8d86-d8f7-4f55-aabc-aeed67a9ceaa",
   "metadata": {},
   "outputs": [
    {
     "data": {
      "text/plain": [
       "array([ 2, 12, 30])"
      ]
     },
     "execution_count": 41,
     "metadata": {},
     "output_type": "execute_result"
    }
   ],
   "source": [
    "a_arr*b_arr"
   ]
  },
  {
   "cell_type": "markdown",
   "id": "1d9316d9-35cb-4a8d-8945-4b1be8cb88b7",
   "metadata": {},
   "source": [
    "**Applications of numpy**\n",
    "\n",
    "- Mathematics (matlab replcement),Scipy library\n",
    "- Plotting (Matplotlib)\n",
    "- Backend of many applications(Pandas, Digital Photography)\n",
    "- Machine Learning (very important, Tensors (similar to numpy))"
   ]
  },
  {
   "cell_type": "markdown",
   "id": "ae4d72ac-3911-4ca1-9152-4881830f6cd6",
   "metadata": {},
   "source": [
    "**Install numpy library**"
   ]
  },
  {
   "cell_type": "code",
   "execution_count": 59,
   "id": "74b98296-cb46-4f51-b75e-74e72d21d758",
   "metadata": {},
   "outputs": [
    {
     "name": "stdout",
     "output_type": "stream",
     "text": [
      "Requirement already satisfied: numpy in c:\\users\\saqui\\anaconda3\\lib\\site-packages (1.26.4)\n"
     ]
    }
   ],
   "source": [
    "!pip install numpy"
   ]
  },
  {
   "cell_type": "code",
   "execution_count": 79,
   "id": "50b7fc41-1372-4e6d-8214-1e8f7bfc080b",
   "metadata": {},
   "outputs": [],
   "source": [
    "import numpy as np"
   ]
  },
  {
   "cell_type": "markdown",
   "id": "5c162c7c-3829-48cf-9aca-554a76c557c8",
   "metadata": {},
   "source": [
    "**Basics**"
   ]
  },
  {
   "cell_type": "markdown",
   "id": "fee9d2d0-b733-4ef5-b040-a610a53abe57",
   "metadata": {},
   "source": [
    "**How to initialize an array**"
   ]
  },
  {
   "cell_type": "code",
   "execution_count": 89,
   "id": "c4830995-0f8b-4e13-91da-0bc07f1f581d",
   "metadata": {},
   "outputs": [
    {
     "data": {
      "text/plain": [
       "array([10, 20, 30])"
      ]
     },
     "execution_count": 89,
     "metadata": {},
     "output_type": "execute_result"
    }
   ],
   "source": [
    "x= np.array([10,20,30])\n",
    "x"
   ]
  },
  {
   "cell_type": "code",
   "execution_count": 91,
   "id": "d3261d65-b596-4a1d-959e-eb6c296e8b95",
   "metadata": {},
   "outputs": [
    {
     "name": "stdout",
     "output_type": "stream",
     "text": [
      "[10 20 30]\n"
     ]
    }
   ],
   "source": [
    "print(x)"
   ]
  },
  {
   "cell_type": "code",
   "execution_count": 197,
   "id": "edd9d707-e2e2-42c4-8187-8007159c7185",
   "metadata": {},
   "outputs": [],
   "source": [
    "#2D array of floats\n",
    "y=np.array([[2.0,5.0,3.0],[8.0,10.0,4.0]])"
   ]
  },
  {
   "cell_type": "code",
   "execution_count": 99,
   "id": "05ee52f5-a53f-47f6-ae1e-87a6211f81e1",
   "metadata": {},
   "outputs": [
    {
     "data": {
      "text/plain": [
       "array([[ 2.,  5.,  3.],\n",
       "       [ 8., 10.,  4.]])"
      ]
     },
     "execution_count": 99,
     "metadata": {},
     "output_type": "execute_result"
    }
   ],
   "source": [
    "y"
   ]
  },
  {
   "cell_type": "code",
   "execution_count": 107,
   "id": "1e68bef4-f057-4c89-8204-8f1cde7c9751",
   "metadata": {},
   "outputs": [],
   "source": [
    "#nest list within lists\n",
    "z=np.array([[[1,2,3]]])"
   ]
  },
  {
   "cell_type": "code",
   "execution_count": 113,
   "id": "bb46ad9c-6bf5-474b-9622-c6a168453585",
   "metadata": {},
   "outputs": [
    {
     "data": {
      "text/plain": [
       "array([[[1, 2, 3]]])"
      ]
     },
     "execution_count": 113,
     "metadata": {},
     "output_type": "execute_result"
    }
   ],
   "source": [
    "z"
   ]
  },
  {
   "cell_type": "code",
   "execution_count": 115,
   "id": "61ff9cc7-8d93-4cf3-baeb-d1549389251b",
   "metadata": {},
   "outputs": [
    {
     "name": "stdout",
     "output_type": "stream",
     "text": [
      "[[[1 2 3]]]\n"
     ]
    }
   ],
   "source": [
    "print(z)"
   ]
  },
  {
   "cell_type": "code",
   "execution_count": 117,
   "id": "b3b52c75-83ba-49e3-91ba-42f71f58d834",
   "metadata": {},
   "outputs": [],
   "source": [
    "#Get the dimensions of numpy arrays"
   ]
  },
  {
   "cell_type": "code",
   "execution_count": 119,
   "id": "42b19738-4c28-4341-bef5-7d23c86aab2c",
   "metadata": {},
   "outputs": [
    {
     "data": {
      "text/plain": [
       "1"
      ]
     },
     "execution_count": 119,
     "metadata": {},
     "output_type": "execute_result"
    }
   ],
   "source": [
    "x.ndim"
   ]
  },
  {
   "cell_type": "code",
   "execution_count": 121,
   "id": "02ee7e9e-7dbb-4f23-a4e2-36bd992e3437",
   "metadata": {},
   "outputs": [
    {
     "data": {
      "text/plain": [
       "2"
      ]
     },
     "execution_count": 121,
     "metadata": {},
     "output_type": "execute_result"
    }
   ],
   "source": [
    "y.ndim"
   ]
  },
  {
   "cell_type": "code",
   "execution_count": 123,
   "id": "960044b0-b9f4-4f38-b099-581d5aa756a4",
   "metadata": {},
   "outputs": [
    {
     "data": {
      "text/plain": [
       "3"
      ]
     },
     "execution_count": 123,
     "metadata": {},
     "output_type": "execute_result"
    }
   ],
   "source": [
    "z.ndim"
   ]
  },
  {
   "cell_type": "code",
   "execution_count": 125,
   "id": "a1e6e849-4b68-4aec-bfca-3bde31181d64",
   "metadata": {},
   "outputs": [],
   "source": [
    "#Get Shape"
   ]
  },
  {
   "cell_type": "code",
   "execution_count": 127,
   "id": "1bb9bf45-1d22-4eb7-bc3f-ad6cdb1e83b3",
   "metadata": {},
   "outputs": [
    {
     "data": {
      "text/plain": [
       "(3,)"
      ]
     },
     "execution_count": 127,
     "metadata": {},
     "output_type": "execute_result"
    }
   ],
   "source": [
    "x.shape"
   ]
  },
  {
   "cell_type": "code",
   "execution_count": 129,
   "id": "275c7867-fcb8-4659-b7eb-7b0aca3c5e83",
   "metadata": {},
   "outputs": [
    {
     "data": {
      "text/plain": [
       "(2, 3)"
      ]
     },
     "execution_count": 129,
     "metadata": {},
     "output_type": "execute_result"
    }
   ],
   "source": [
    "y.shape"
   ]
  },
  {
   "cell_type": "code",
   "execution_count": 131,
   "id": "a121a368-f2bd-44ce-a53e-05cf6d812e1a",
   "metadata": {},
   "outputs": [
    {
     "data": {
      "text/plain": [
       "(1, 1, 3)"
      ]
     },
     "execution_count": 131,
     "metadata": {},
     "output_type": "execute_result"
    }
   ],
   "source": [
    "z.shape"
   ]
  },
  {
   "cell_type": "code",
   "execution_count": 133,
   "id": "41d4c217-4400-4b2b-8bd5-2e1f331e5f47",
   "metadata": {},
   "outputs": [],
   "source": [
    "#How much memory numpy array takes up"
   ]
  },
  {
   "cell_type": "code",
   "execution_count": 135,
   "id": "c7f5c377-0796-4c42-bf9d-adff13fbfa1f",
   "metadata": {},
   "outputs": [
    {
     "data": {
      "text/plain": [
       "dtype('int32')"
      ]
     },
     "execution_count": 135,
     "metadata": {},
     "output_type": "execute_result"
    }
   ],
   "source": [
    "#Get the Type\n",
    "x.dtype"
   ]
  },
  {
   "cell_type": "code",
   "execution_count": 145,
   "id": "a9c0f623-3c50-4e03-993d-321ce50c0d9d",
   "metadata": {},
   "outputs": [
    {
     "data": {
      "text/plain": [
       "array([10, 20, 30], dtype=int16)"
      ]
     },
     "execution_count": 145,
     "metadata": {},
     "output_type": "execute_result"
    }
   ],
   "source": [
    "x1= np.array([10,20,30],dtype='int16')\n",
    "x1"
   ]
  },
  {
   "cell_type": "code",
   "execution_count": 147,
   "id": "b858cbdf-7ff9-467c-a205-d4844e65af75",
   "metadata": {},
   "outputs": [
    {
     "data": {
      "text/plain": [
       "dtype('int16')"
      ]
     },
     "execution_count": 147,
     "metadata": {},
     "output_type": "execute_result"
    }
   ],
   "source": [
    "x1.dtype"
   ]
  },
  {
   "cell_type": "code",
   "execution_count": 149,
   "id": "921e4de0-53bb-4e58-a905-f91b56eb0333",
   "metadata": {},
   "outputs": [],
   "source": [
    "#Get the size"
   ]
  },
  {
   "cell_type": "code",
   "execution_count": 151,
   "id": "1df73a99-573b-4811-b05b-28507d015bb6",
   "metadata": {},
   "outputs": [
    {
     "data": {
      "text/plain": [
       "4"
      ]
     },
     "execution_count": 151,
     "metadata": {},
     "output_type": "execute_result"
    }
   ],
   "source": [
    "x.itemsize"
   ]
  },
  {
   "cell_type": "code",
   "execution_count": 153,
   "id": "453a2acf-1972-4920-885c-29035c575d8f",
   "metadata": {},
   "outputs": [
    {
     "data": {
      "text/plain": [
       "2"
      ]
     },
     "execution_count": 153,
     "metadata": {},
     "output_type": "execute_result"
    }
   ],
   "source": [
    "x1.itemsize"
   ]
  },
  {
   "cell_type": "code",
   "execution_count": 159,
   "id": "b9d154fa-44d9-4037-bbf3-b0484eb12951",
   "metadata": {},
   "outputs": [
    {
     "data": {
      "text/plain": [
       "8"
      ]
     },
     "execution_count": 159,
     "metadata": {},
     "output_type": "execute_result"
    }
   ],
   "source": [
    "x2.itemsize"
   ]
  },
  {
   "cell_type": "code",
   "execution_count": 163,
   "id": "e8ede8d2-beb5-4923-bfb1-02cf185abf97",
   "metadata": {},
   "outputs": [],
   "source": [
    "#Get total size"
   ]
  },
  {
   "cell_type": "code",
   "execution_count": 167,
   "id": "8f0652a7-91dd-49ec-8331-5abdcc402c99",
   "metadata": {},
   "outputs": [
    {
     "data": {
      "text/plain": [
       "12"
      ]
     },
     "execution_count": 167,
     "metadata": {},
     "output_type": "execute_result"
    }
   ],
   "source": [
    "x.size * x.itemsize"
   ]
  },
  {
   "cell_type": "code",
   "execution_count": 169,
   "id": "86105908-2aa3-4570-ae2c-5999212dfbee",
   "metadata": {},
   "outputs": [
    {
     "data": {
      "text/plain": [
       "12"
      ]
     },
     "execution_count": 169,
     "metadata": {},
     "output_type": "execute_result"
    }
   ],
   "source": [
    "x.nbytes"
   ]
  },
  {
   "cell_type": "code",
   "execution_count": 171,
   "id": "0ac3b57d-e269-42bf-af3f-310fecfae4ab",
   "metadata": {},
   "outputs": [
    {
     "data": {
      "text/plain": [
       "6"
      ]
     },
     "execution_count": 171,
     "metadata": {},
     "output_type": "execute_result"
    }
   ],
   "source": [
    "x1.size * x1.itemsize"
   ]
  },
  {
   "cell_type": "code",
   "execution_count": 173,
   "id": "2b0555e7-6504-4985-8df4-c53f9ca31b09",
   "metadata": {},
   "outputs": [
    {
     "data": {
      "text/plain": [
       "6"
      ]
     },
     "execution_count": 173,
     "metadata": {},
     "output_type": "execute_result"
    }
   ],
   "source": [
    "x1.nbytes"
   ]
  },
  {
   "cell_type": "code",
   "execution_count": 175,
   "id": "ca5edbcb-5778-4e00-804a-ce8aacb96f08",
   "metadata": {},
   "outputs": [
    {
     "data": {
      "text/plain": [
       "24"
      ]
     },
     "execution_count": 175,
     "metadata": {},
     "output_type": "execute_result"
    }
   ],
   "source": [
    "x2.size * x2.itemsize"
   ]
  },
  {
   "cell_type": "code",
   "execution_count": 177,
   "id": "7a36eefa-12a3-482a-8a92-a83b85f8c253",
   "metadata": {},
   "outputs": [
    {
     "data": {
      "text/plain": [
       "24"
      ]
     },
     "execution_count": 177,
     "metadata": {},
     "output_type": "execute_result"
    }
   ],
   "source": [
    "x2.nbytes"
   ]
  },
  {
   "cell_type": "code",
   "execution_count": 199,
   "id": "b3e8493b-a025-40c5-b765-71b3a2f84e04",
   "metadata": {},
   "outputs": [
    {
     "data": {
      "text/plain": [
       "8"
      ]
     },
     "execution_count": 199,
     "metadata": {},
     "output_type": "execute_result"
    }
   ],
   "source": [
    "y.itemsize # its more as the values are floats"
   ]
  },
  {
   "cell_type": "code",
   "execution_count": 201,
   "id": "377d857b-6ed1-4889-86e1-9b99605bcdbd",
   "metadata": {},
   "outputs": [
    {
     "data": {
      "text/plain": [
       "dtype('float64')"
      ]
     },
     "execution_count": 201,
     "metadata": {},
     "output_type": "execute_result"
    }
   ],
   "source": [
    "y.dtype"
   ]
  },
  {
   "cell_type": "code",
   "execution_count": 203,
   "id": "99eb4d6f-8a15-491f-b4dd-279ed588d4ac",
   "metadata": {},
   "outputs": [],
   "source": [
    "#Don't worry about data type"
   ]
  },
  {
   "cell_type": "markdown",
   "id": "840b775c-9c87-4f50-aaeb-4838e1d82a26",
   "metadata": {},
   "source": [
    "**Accessing / Changing specific elements, rows, columns**"
   ]
  },
  {
   "cell_type": "code",
   "execution_count": 348,
   "id": "ab7e3bc7-110c-49ff-851d-7b52710fcc5a",
   "metadata": {},
   "outputs": [
    {
     "data": {
      "text/plain": [
       "array([[ 1,  2,  3,  4,  5,  6,  7],\n",
       "       [11, 12, 13, 14, 15, 16, 17]])"
      ]
     },
     "execution_count": 348,
     "metadata": {},
     "output_type": "execute_result"
    }
   ],
   "source": [
    "a=np.array([[1,2,3,4,5,6,7],[11,12,13,14,15,16,17]])\n",
    "a"
   ]
  },
  {
   "cell_type": "code",
   "execution_count": 216,
   "id": "d1d83b71-7712-4a77-8977-42c97e019695",
   "metadata": {},
   "outputs": [
    {
     "data": {
      "text/plain": [
       "(2, 7)"
      ]
     },
     "execution_count": 216,
     "metadata": {},
     "output_type": "execute_result"
    }
   ],
   "source": [
    "a.shape"
   ]
  },
  {
   "cell_type": "code",
   "execution_count": 222,
   "id": "9930afd2-7c0a-4466-90f0-3803be2e87f6",
   "metadata": {},
   "outputs": [
    {
     "data": {
      "text/plain": [
       "15"
      ]
     },
     "execution_count": 222,
     "metadata": {},
     "output_type": "execute_result"
    }
   ],
   "source": [
    "#Get a specific element [row, col]\n",
    "#to get 15\n",
    "a[1,4]"
   ]
  },
  {
   "cell_type": "code",
   "execution_count": 224,
   "id": "c97f31f7-b759-46ed-b5ae-84482b9a5a46",
   "metadata": {},
   "outputs": [
    {
     "data": {
      "text/plain": [
       "15"
      ]
     },
     "execution_count": 224,
     "metadata": {},
     "output_type": "execute_result"
    }
   ],
   "source": [
    "a[1,-3]"
   ]
  },
  {
   "cell_type": "code",
   "execution_count": 228,
   "id": "439302a0-e52e-4b10-8694-6890e628a6b0",
   "metadata": {},
   "outputs": [
    {
     "data": {
      "text/plain": [
       "array([1, 2, 3, 4, 5, 6, 7])"
      ]
     },
     "execution_count": 228,
     "metadata": {},
     "output_type": "execute_result"
    }
   ],
   "source": [
    "#Get a specific row\n",
    "a[0,:]"
   ]
  },
  {
   "cell_type": "code",
   "execution_count": 230,
   "id": "ec33120c-6419-4dea-9d1a-acd983338965",
   "metadata": {},
   "outputs": [
    {
     "data": {
      "text/plain": [
       "array([ 3, 13])"
      ]
     },
     "execution_count": 230,
     "metadata": {},
     "output_type": "execute_result"
    }
   ],
   "source": [
    "#Get a specific col\n",
    "a[:,2]"
   ]
  },
  {
   "cell_type": "code",
   "execution_count": 232,
   "id": "1666bf52-6648-4445-9c3d-920ce0bcc5b6",
   "metadata": {},
   "outputs": [],
   "source": [
    "#Fancy Indexing\n",
    "#(Start index:Stopindex(stop+1):stepsize)"
   ]
  },
  {
   "cell_type": "code",
   "execution_count": 240,
   "id": "14d1200c-5a65-4268-9561-1a7aa79bfc33",
   "metadata": {},
   "outputs": [
    {
     "data": {
      "text/plain": [
       "array([2, 4, 6])"
      ]
     },
     "execution_count": 240,
     "metadata": {},
     "output_type": "execute_result"
    }
   ],
   "source": [
    "a[0,1:6:2]"
   ]
  },
  {
   "cell_type": "code",
   "execution_count": 248,
   "id": "7572700d-9e64-45fb-b227-1c1992235dfc",
   "metadata": {},
   "outputs": [],
   "source": [
    "#To change a value\n",
    "a[1,3]=100"
   ]
  },
  {
   "cell_type": "code",
   "execution_count": 250,
   "id": "9042d0cd-f9bd-4f61-88ca-4d0e1b021246",
   "metadata": {},
   "outputs": [
    {
     "data": {
      "text/plain": [
       "array([[  1,   2,   3,   4,   5,   6,   7],\n",
       "       [ 11,  12,  13, 100,  15,  16,  17]])"
      ]
     },
     "execution_count": 250,
     "metadata": {},
     "output_type": "execute_result"
    }
   ],
   "source": [
    "a"
   ]
  },
  {
   "cell_type": "code",
   "execution_count": 252,
   "id": "a6c12c89-0604-49a4-b71a-121a6736a2bb",
   "metadata": {},
   "outputs": [],
   "source": [
    "#Change entire column"
   ]
  },
  {
   "cell_type": "code",
   "execution_count": 254,
   "id": "11f4f992-9e1f-4643-9e2b-6b7c18e58228",
   "metadata": {},
   "outputs": [],
   "source": [
    "a[:,2]=55"
   ]
  },
  {
   "cell_type": "code",
   "execution_count": 256,
   "id": "7c7456ce-73c8-40f2-84d7-c178d03e9885",
   "metadata": {},
   "outputs": [
    {
     "data": {
      "text/plain": [
       "array([[  1,   2,  55,   4,   5,   6,   7],\n",
       "       [ 11,  12,  55, 100,  15,  16,  17]])"
      ]
     },
     "execution_count": 256,
     "metadata": {},
     "output_type": "execute_result"
    }
   ],
   "source": [
    "a"
   ]
  },
  {
   "cell_type": "code",
   "execution_count": 258,
   "id": "399584a2-09cb-4b2d-8bea-159c94715712",
   "metadata": {},
   "outputs": [],
   "source": [
    "a[:,4]=[33,44]"
   ]
  },
  {
   "cell_type": "code",
   "execution_count": 260,
   "id": "f8bb02e1-b6ed-4412-8a54-6a6a74fc7050",
   "metadata": {},
   "outputs": [
    {
     "data": {
      "text/plain": [
       "array([[  1,   2,  55,   4,  33,   6,   7],\n",
       "       [ 11,  12,  55, 100,  44,  16,  17]])"
      ]
     },
     "execution_count": 260,
     "metadata": {},
     "output_type": "execute_result"
    }
   ],
   "source": [
    "a"
   ]
  },
  {
   "cell_type": "code",
   "execution_count": 262,
   "id": "2483b7bd-462e-487a-94d2-fce406f8babc",
   "metadata": {},
   "outputs": [],
   "source": [
    "##Three Dimensional array"
   ]
  },
  {
   "cell_type": "code",
   "execution_count": 290,
   "id": "b66951cd-f773-4367-88fd-15daebb4ee03",
   "metadata": {},
   "outputs": [],
   "source": [
    "a=np.array([[[1,2],[3,4]],[[5,6],[7,8]]])"
   ]
  },
  {
   "cell_type": "code",
   "execution_count": 292,
   "id": "f724ab91-eb7f-4ad5-99f8-3899fe995ef5",
   "metadata": {},
   "outputs": [
    {
     "data": {
      "text/plain": [
       "array([[[1, 2],\n",
       "        [3, 4]],\n",
       "\n",
       "       [[5, 6],\n",
       "        [7, 8]]])"
      ]
     },
     "execution_count": 292,
     "metadata": {},
     "output_type": "execute_result"
    }
   ],
   "source": [
    "a"
   ]
  },
  {
   "cell_type": "code",
   "execution_count": 294,
   "id": "9e834357-c044-4ac2-84bf-60e5f0432b29",
   "metadata": {},
   "outputs": [
    {
     "data": {
      "text/plain": [
       "3"
      ]
     },
     "execution_count": 294,
     "metadata": {},
     "output_type": "execute_result"
    }
   ],
   "source": [
    "a.ndim"
   ]
  },
  {
   "cell_type": "code",
   "execution_count": 296,
   "id": "fe9e388b-97bf-482b-85c3-3a8ecd53f4a8",
   "metadata": {},
   "outputs": [],
   "source": [
    "#to get a value from a 3D"
   ]
  },
  {
   "cell_type": "code",
   "execution_count": 298,
   "id": "c861b125-344e-41ad-bde0-deaf5d79893e",
   "metadata": {},
   "outputs": [
    {
     "data": {
      "text/plain": [
       "4"
      ]
     },
     "execution_count": 298,
     "metadata": {},
     "output_type": "execute_result"
    }
   ],
   "source": [
    "a[0,1,1]"
   ]
  },
  {
   "cell_type": "code",
   "execution_count": 300,
   "id": "a93ff67f-5608-4571-b0cd-62885085a3a6",
   "metadata": {},
   "outputs": [
    {
     "data": {
      "text/plain": [
       "array([[[1, 2],\n",
       "        [3, 4]],\n",
       "\n",
       "       [[5, 6],\n",
       "        [7, 8]]])"
      ]
     },
     "execution_count": 300,
     "metadata": {},
     "output_type": "execute_result"
    }
   ],
   "source": [
    "#replace\n",
    "a"
   ]
  },
  {
   "cell_type": "code",
   "execution_count": 302,
   "id": "d996807d-629a-4123-a839-c12faa6668bb",
   "metadata": {},
   "outputs": [
    {
     "data": {
      "text/plain": [
       "array([[3, 4],\n",
       "       [7, 8]])"
      ]
     },
     "execution_count": 302,
     "metadata": {},
     "output_type": "execute_result"
    }
   ],
   "source": [
    "a[:,1,:]"
   ]
  },
  {
   "cell_type": "code",
   "execution_count": 305,
   "id": "1777c697-21c6-41c9-8f28-f8f51737e4b2",
   "metadata": {},
   "outputs": [],
   "source": [
    "a[:,1,:] = [[9,9],[8,8]]"
   ]
  },
  {
   "cell_type": "code",
   "execution_count": 307,
   "id": "c7d31a13-97f2-4f3e-8f13-9bb6031ac3b0",
   "metadata": {},
   "outputs": [
    {
     "data": {
      "text/plain": [
       "array([[[1, 2],\n",
       "        [9, 9]],\n",
       "\n",
       "       [[5, 6],\n",
       "        [8, 8]]])"
      ]
     },
     "execution_count": 307,
     "metadata": {},
     "output_type": "execute_result"
    }
   ],
   "source": [
    "a"
   ]
  },
  {
   "cell_type": "markdown",
   "id": "5e5f5f73-6b1b-4af8-a431-6f183e6b7e82",
   "metadata": {},
   "source": [
    "**Initialize Different Types of Arrays**"
   ]
  },
  {
   "cell_type": "code",
   "execution_count": 310,
   "id": "4af183ca-61a7-441e-86e2-8c7ad2e58c5a",
   "metadata": {},
   "outputs": [],
   "source": [
    "#All 0s matrix"
   ]
  },
  {
   "cell_type": "code",
   "execution_count": 312,
   "id": "979e2542-a751-4197-b150-081676cd87d3",
   "metadata": {},
   "outputs": [
    {
     "data": {
      "text/plain": [
       "array([0., 0., 0., 0., 0.])"
      ]
     },
     "execution_count": 312,
     "metadata": {},
     "output_type": "execute_result"
    }
   ],
   "source": [
    "np.zeros(5)"
   ]
  },
  {
   "cell_type": "code",
   "execution_count": 314,
   "id": "d1f9714e-4765-4200-8338-15a8d3d27c60",
   "metadata": {},
   "outputs": [
    {
     "data": {
      "text/plain": [
       "array([0., 0., 0., 0., 0.])"
      ]
     },
     "execution_count": 314,
     "metadata": {},
     "output_type": "execute_result"
    }
   ],
   "source": [
    "a=np.zeros(5)\n",
    "a"
   ]
  },
  {
   "cell_type": "code",
   "execution_count": 316,
   "id": "25eddf76-65a6-430b-8df7-0635e80cd799",
   "metadata": {},
   "outputs": [
    {
     "data": {
      "text/plain": [
       "1"
      ]
     },
     "execution_count": 316,
     "metadata": {},
     "output_type": "execute_result"
    }
   ],
   "source": [
    "a.ndim"
   ]
  },
  {
   "cell_type": "code",
   "execution_count": 322,
   "id": "3dbf3c47-00ce-48f2-a01c-7b927b55d932",
   "metadata": {},
   "outputs": [
    {
     "data": {
      "text/plain": [
       "array([[0., 0., 0.],\n",
       "       [0., 0., 0.]])"
      ]
     },
     "execution_count": 322,
     "metadata": {},
     "output_type": "execute_result"
    }
   ],
   "source": [
    "np.zeros([2,3])"
   ]
  },
  {
   "cell_type": "code",
   "execution_count": 324,
   "id": "ed33c2f5-6cdb-46a0-bd89-5485482f16f9",
   "metadata": {},
   "outputs": [
    {
     "data": {
      "text/plain": [
       "array([[[0., 0., 0.],\n",
       "        [0., 0., 0.],\n",
       "        [0., 0., 0.]],\n",
       "\n",
       "       [[0., 0., 0.],\n",
       "        [0., 0., 0.],\n",
       "        [0., 0., 0.]]])"
      ]
     },
     "execution_count": 324,
     "metadata": {},
     "output_type": "execute_result"
    }
   ],
   "source": [
    "np.zeros([2,3,3])"
   ]
  },
  {
   "cell_type": "code",
   "execution_count": 326,
   "id": "dc9ffee4-fb92-4628-a3b9-19601a6e7235",
   "metadata": {},
   "outputs": [
    {
     "data": {
      "text/plain": [
       "array([[[[0., 0., 0., 0.],\n",
       "         [0., 0., 0., 0.],\n",
       "         [0., 0., 0., 0.]],\n",
       "\n",
       "        [[0., 0., 0., 0.],\n",
       "         [0., 0., 0., 0.],\n",
       "         [0., 0., 0., 0.]],\n",
       "\n",
       "        [[0., 0., 0., 0.],\n",
       "         [0., 0., 0., 0.],\n",
       "         [0., 0., 0., 0.]]],\n",
       "\n",
       "\n",
       "       [[[0., 0., 0., 0.],\n",
       "         [0., 0., 0., 0.],\n",
       "         [0., 0., 0., 0.]],\n",
       "\n",
       "        [[0., 0., 0., 0.],\n",
       "         [0., 0., 0., 0.],\n",
       "         [0., 0., 0., 0.]],\n",
       "\n",
       "        [[0., 0., 0., 0.],\n",
       "         [0., 0., 0., 0.],\n",
       "         [0., 0., 0., 0.]]]])"
      ]
     },
     "execution_count": 326,
     "metadata": {},
     "output_type": "execute_result"
    }
   ],
   "source": [
    "np.zeros([2,3,3,4])"
   ]
  },
  {
   "cell_type": "code",
   "execution_count": 328,
   "id": "e7db7d10-4207-4f6a-9878-955fd225a589",
   "metadata": {},
   "outputs": [],
   "source": [
    "#All ones matrix"
   ]
  },
  {
   "cell_type": "code",
   "execution_count": 330,
   "id": "942d3671-2249-4164-b4fa-a33ccde80ad0",
   "metadata": {},
   "outputs": [
    {
     "data": {
      "text/plain": [
       "array([1., 1.])"
      ]
     },
     "execution_count": 330,
     "metadata": {},
     "output_type": "execute_result"
    }
   ],
   "source": [
    "np.ones(2)"
   ]
  },
  {
   "cell_type": "code",
   "execution_count": 334,
   "id": "5e2aaca6-2fbc-4e8a-a3f6-7867dcd626b9",
   "metadata": {},
   "outputs": [
    {
     "data": {
      "text/plain": [
       "array([[1., 1., 1., 1.],\n",
       "       [1., 1., 1., 1.],\n",
       "       [1., 1., 1., 1.]])"
      ]
     },
     "execution_count": 334,
     "metadata": {},
     "output_type": "execute_result"
    }
   ],
   "source": [
    "np.ones([3,4])"
   ]
  },
  {
   "cell_type": "code",
   "execution_count": 336,
   "id": "a99e35f3-5125-4783-987b-099ddf9cc3e0",
   "metadata": {},
   "outputs": [
    {
     "data": {
      "text/plain": [
       "array([[[1, 1],\n",
       "        [1, 1],\n",
       "        [1, 1]],\n",
       "\n",
       "       [[1, 1],\n",
       "        [1, 1],\n",
       "        [1, 1]],\n",
       "\n",
       "       [[1, 1],\n",
       "        [1, 1],\n",
       "        [1, 1]],\n",
       "\n",
       "       [[1, 1],\n",
       "        [1, 1],\n",
       "        [1, 1]]])"
      ]
     },
     "execution_count": 336,
     "metadata": {},
     "output_type": "execute_result"
    }
   ],
   "source": [
    "np.ones([4,3,2],dtype='int32')"
   ]
  },
  {
   "cell_type": "code",
   "execution_count": 338,
   "id": "f1c1740b-6aad-4434-95fa-121aa9fff1ae",
   "metadata": {},
   "outputs": [],
   "source": [
    "#Any other number"
   ]
  },
  {
   "cell_type": "code",
   "execution_count": 340,
   "id": "d7eb37e2-f0f4-47a6-9a9c-6e944fcd40ae",
   "metadata": {},
   "outputs": [
    {
     "data": {
      "text/plain": [
       "array([[8, 8],\n",
       "       [8, 8]])"
      ]
     },
     "execution_count": 340,
     "metadata": {},
     "output_type": "execute_result"
    }
   ],
   "source": [
    "np.full((2,2),8)"
   ]
  },
  {
   "cell_type": "code",
   "execution_count": 342,
   "id": "4ebcb011-7061-4aa3-b595-e52dc3863791",
   "metadata": {},
   "outputs": [
    {
     "data": {
      "text/plain": [
       "array([[22., 22.],\n",
       "       [22., 22.]], dtype=float32)"
      ]
     },
     "execution_count": 342,
     "metadata": {},
     "output_type": "execute_result"
    }
   ],
   "source": [
    "np.full((2,2),22,dtype='float32')"
   ]
  },
  {
   "cell_type": "code",
   "execution_count": 356,
   "id": "5125a72e-c8bb-4547-ae9c-9821911d7e56",
   "metadata": {},
   "outputs": [
    {
     "data": {
      "text/plain": [
       "array([[7, 7, 7, 7, 7, 7, 7],\n",
       "       [7, 7, 7, 7, 7, 7, 7]])"
      ]
     },
     "execution_count": 356,
     "metadata": {},
     "output_type": "execute_result"
    }
   ],
   "source": [
    "#Other number, takes shape already built\n",
    "np.full_like(a,7)"
   ]
  },
  {
   "cell_type": "code",
   "execution_count": 358,
   "id": "499d50fc-3fc6-42c3-b194-d037735e9812",
   "metadata": {},
   "outputs": [
    {
     "data": {
      "text/plain": [
       "array([[ 1,  2,  3,  4,  5,  6,  7],\n",
       "       [11, 12, 13, 14, 15, 16, 17]])"
      ]
     },
     "execution_count": 358,
     "metadata": {},
     "output_type": "execute_result"
    }
   ],
   "source": [
    "a"
   ]
  },
  {
   "cell_type": "code",
   "execution_count": 360,
   "id": "19640faf-08c1-4047-a212-f784de3440bf",
   "metadata": {},
   "outputs": [
    {
     "data": {
      "text/plain": [
       "array([[7, 7, 7, 7, 7, 7, 7],\n",
       "       [7, 7, 7, 7, 7, 7, 7]])"
      ]
     },
     "execution_count": 360,
     "metadata": {},
     "output_type": "execute_result"
    }
   ],
   "source": [
    "np.full(a.shape,7)"
   ]
  },
  {
   "cell_type": "code",
   "execution_count": 362,
   "id": "c5e8530c-6045-4ee1-971c-5ba853d77d21",
   "metadata": {},
   "outputs": [],
   "source": [
    "#Matrix of random numbers (decimal)"
   ]
  },
  {
   "cell_type": "code",
   "execution_count": 366,
   "id": "b5f967d4-7e65-4a07-8e55-d1c03b3d9d83",
   "metadata": {},
   "outputs": [
    {
     "data": {
      "text/plain": [
       "array([[0.954794  , 0.35217893],\n",
       "       [0.77015946, 0.5194333 ],\n",
       "       [0.72375346, 0.24639621],\n",
       "       [0.3763648 , 0.9094211 ]])"
      ]
     },
     "execution_count": 366,
     "metadata": {},
     "output_type": "execute_result"
    }
   ],
   "source": [
    "np.random.rand(4,2)"
   ]
  },
  {
   "cell_type": "code",
   "execution_count": 370,
   "id": "270ac681-7a45-45d1-8f7a-2a1dee799eb3",
   "metadata": {},
   "outputs": [
    {
     "data": {
      "text/plain": [
       "array([[[0.02992057, 0.25692092, 0.90861653],\n",
       "        [0.45631808, 0.75338433, 0.86041059]],\n",
       "\n",
       "       [[0.34373879, 0.89062707, 0.47000998],\n",
       "        [0.7274619 , 0.16404356, 0.24732661]],\n",
       "\n",
       "       [[0.46194184, 0.93088633, 0.86599789],\n",
       "        [0.55241286, 0.33044344, 0.61982089]],\n",
       "\n",
       "       [[0.2041296 , 0.50587643, 0.43105876],\n",
       "        [0.55121638, 0.83303666, 0.93884022]]])"
      ]
     },
     "execution_count": 370,
     "metadata": {},
     "output_type": "execute_result"
    }
   ],
   "source": [
    "np.random.rand(4,2,3)"
   ]
  },
  {
   "cell_type": "code",
   "execution_count": null,
   "id": "c3959c8e-4514-4c4d-99a7-c907af23912d",
   "metadata": {},
   "outputs": [],
   "source": [
    "#To pass a shape, use random_sample"
   ]
  },
  {
   "cell_type": "code",
   "execution_count": 372,
   "id": "369e8723-a962-4c1b-b93c-177fb479c132",
   "metadata": {},
   "outputs": [
    {
     "data": {
      "text/plain": [
       "array([[0.37220056, 0.05476066, 0.02739874, 0.06341032, 0.20766552,\n",
       "        0.59821216, 0.90234218],\n",
       "       [0.22846287, 0.77472806, 0.62988219, 0.1143743 , 0.80802449,\n",
       "        0.25630692, 0.19959912]])"
      ]
     },
     "execution_count": 372,
     "metadata": {},
     "output_type": "execute_result"
    }
   ],
   "source": [
    "np.random.random_sample(a.shape)"
   ]
  },
  {
   "cell_type": "code",
   "execution_count": 374,
   "id": "ec681735-8559-4d3f-bdc8-918fa7af00b2",
   "metadata": {},
   "outputs": [],
   "source": [
    "#For random integer values"
   ]
  },
  {
   "cell_type": "code",
   "execution_count": 398,
   "id": "33234465-03a5-47ad-9f7a-e41278a2be5f",
   "metadata": {},
   "outputs": [
    {
     "data": {
      "text/plain": [
       "array([[5, 6, 4],\n",
       "       [4, 3, 3],\n",
       "       [4, 6, 5]])"
      ]
     },
     "execution_count": 398,
     "metadata": {},
     "output_type": "execute_result"
    }
   ],
   "source": [
    "np.random.randint(3,7,size=(3,3))"
   ]
  },
  {
   "cell_type": "code",
   "execution_count": 400,
   "id": "ebbc4acc-ca21-46a9-a899-49b049e27147",
   "metadata": {},
   "outputs": [
    {
     "data": {
      "text/plain": [
       "array([[ 6,  5,  1],\n",
       "       [ 4,  0,  4],\n",
       "       [ 4, -2,  4]])"
      ]
     },
     "execution_count": 400,
     "metadata": {},
     "output_type": "execute_result"
    }
   ],
   "source": [
    "np.random.randint(-3,7,size=(3,3))"
   ]
  },
  {
   "cell_type": "code",
   "execution_count": 402,
   "id": "4223656c-dedc-47eb-b2d7-4d2b193a38a4",
   "metadata": {},
   "outputs": [],
   "source": [
    "#Identity matrix"
   ]
  },
  {
   "cell_type": "code",
   "execution_count": 404,
   "id": "2a5b7a57-1cd7-4410-8285-2da9877dec5e",
   "metadata": {},
   "outputs": [
    {
     "data": {
      "text/plain": [
       "array([[1., 0., 0., 0.],\n",
       "       [0., 1., 0., 0.],\n",
       "       [0., 0., 1., 0.],\n",
       "       [0., 0., 0., 1.]])"
      ]
     },
     "execution_count": 404,
     "metadata": {},
     "output_type": "execute_result"
    }
   ],
   "source": [
    "np.identity(4)"
   ]
  },
  {
   "cell_type": "code",
   "execution_count": 416,
   "id": "a9ead7d9-6775-41db-a43f-fd2affc234d1",
   "metadata": {},
   "outputs": [
    {
     "data": {
      "text/plain": [
       "array([3, 3, 3, 3, 6, 6, 6, 6, 9, 9, 9, 9])"
      ]
     },
     "execution_count": 416,
     "metadata": {},
     "output_type": "execute_result"
    }
   ],
   "source": [
    "a=np.array([1,2,3])*3\n",
    "r=np.repeat(a,4)\n",
    "r"
   ]
  },
  {
   "cell_type": "code",
   "execution_count": 422,
   "id": "ec00e245-ea7d-49dd-93c6-5ca09d4a5bf2",
   "metadata": {},
   "outputs": [
    {
     "data": {
      "text/plain": [
       "array([[3, 6, 9],\n",
       "       [3, 6, 9],\n",
       "       [3, 6, 9],\n",
       "       [3, 6, 9]])"
      ]
     },
     "execution_count": 422,
     "metadata": {},
     "output_type": "execute_result"
    }
   ],
   "source": [
    "#Repeat an array\n",
    "a=np.array([[1,2,3]])*3\n",
    "r=np.repeat(a,4,axis=0)\n",
    "r"
   ]
  },
  {
   "cell_type": "markdown",
   "id": "e1d6be03-45ca-4ccf-bc59-ead433d70201",
   "metadata": {},
   "source": [
    "#Try this\n",
    "\n",
    "1  1  1  1  1\n",
    "\n",
    "1  0  0  0  1\n",
    "\n",
    "1  0  9  0  1\n",
    "\n",
    "1  0  0  0  1\n",
    "\n",
    "1  1  1  1  1"
   ]
  },
  {
   "cell_type": "code",
   "execution_count": 476,
   "id": "77567d9e-a9eb-4ecd-9fb9-872f402e15d3",
   "metadata": {},
   "outputs": [],
   "source": [
    "#make all 1s, print\n",
    "#fill middle part with 0s\n",
    "#fill middle one with 9 in zeros\n"
   ]
  },
  {
   "cell_type": "code",
   "execution_count": 478,
   "id": "7326a42f-cb93-4418-9740-9e91b3608d28",
   "metadata": {},
   "outputs": [
    {
     "data": {
      "text/plain": [
       "array([[1., 1., 1., 1., 1.],\n",
       "       [1., 1., 1., 1., 1.],\n",
       "       [1., 1., 1., 1., 1.],\n",
       "       [1., 1., 1., 1., 1.],\n",
       "       [1., 1., 1., 1., 1.]])"
      ]
     },
     "execution_count": 478,
     "metadata": {},
     "output_type": "execute_result"
    }
   ],
   "source": [
    "a=np.ones((5,5))\n",
    "a"
   ]
  },
  {
   "cell_type": "code",
   "execution_count": 480,
   "id": "c87a140f-d662-494c-97d1-b20175030c6e",
   "metadata": {},
   "outputs": [
    {
     "data": {
      "text/plain": [
       "array([[0., 0., 0.],\n",
       "       [0., 0., 0.],\n",
       "       [0., 0., 0.]])"
      ]
     },
     "execution_count": 480,
     "metadata": {},
     "output_type": "execute_result"
    }
   ],
   "source": [
    "b=np.zeros((3,3))\n",
    "b"
   ]
  },
  {
   "cell_type": "code",
   "execution_count": 482,
   "id": "9a0c4bca-95dd-4caf-a0e8-b7ac9835ce14",
   "metadata": {},
   "outputs": [
    {
     "data": {
      "text/plain": [
       "array([[1., 1., 1.],\n",
       "       [1., 1., 1.],\n",
       "       [1., 1., 1.]])"
      ]
     },
     "execution_count": 482,
     "metadata": {},
     "output_type": "execute_result"
    }
   ],
   "source": [
    "a[1:4,1:4]"
   ]
  },
  {
   "cell_type": "code",
   "execution_count": 486,
   "id": "c1b5f37c-c004-43a3-9b29-56eafa47a648",
   "metadata": {},
   "outputs": [
    {
     "data": {
      "text/plain": [
       "array([[0., 0., 0.],\n",
       "       [0., 9., 0.],\n",
       "       [0., 0., 0.]])"
      ]
     },
     "execution_count": 486,
     "metadata": {},
     "output_type": "execute_result"
    }
   ],
   "source": [
    "b[1,1]=9\n",
    "b"
   ]
  },
  {
   "cell_type": "code",
   "execution_count": 488,
   "id": "4787cce0-943e-4f7b-8645-4c0f88449f18",
   "metadata": {},
   "outputs": [],
   "source": [
    "a[1:4,1:4] = b"
   ]
  },
  {
   "cell_type": "code",
   "execution_count": 490,
   "id": "5436efee-760c-4987-b971-bdd95162f0aa",
   "metadata": {},
   "outputs": [
    {
     "data": {
      "text/plain": [
       "array([[1., 1., 1., 1., 1.],\n",
       "       [1., 0., 0., 0., 1.],\n",
       "       [1., 0., 9., 0., 1.],\n",
       "       [1., 0., 0., 0., 1.],\n",
       "       [1., 1., 1., 1., 1.]])"
      ]
     },
     "execution_count": 490,
     "metadata": {},
     "output_type": "execute_result"
    }
   ],
   "source": [
    "a"
   ]
  },
  {
   "cell_type": "code",
   "execution_count": 492,
   "id": "a42155ad-a3a8-4da9-b2ed-66b45fc08102",
   "metadata": {},
   "outputs": [],
   "source": [
    "# Important while copying"
   ]
  },
  {
   "cell_type": "code",
   "execution_count": 494,
   "id": "79fb78d1-e18d-4436-bef9-50a35e680c00",
   "metadata": {},
   "outputs": [],
   "source": [
    "a=np.array([1,2,3,4])"
   ]
  },
  {
   "cell_type": "code",
   "execution_count": 498,
   "id": "5ec1e1a1-7d1c-4dff-916c-7a652cd682c6",
   "metadata": {},
   "outputs": [
    {
     "data": {
      "text/plain": [
       "array([1, 2, 3, 4])"
      ]
     },
     "execution_count": 498,
     "metadata": {},
     "output_type": "execute_result"
    }
   ],
   "source": [
    "b=a\n",
    "b"
   ]
  },
  {
   "cell_type": "code",
   "execution_count": 500,
   "id": "52e38751-94b6-4a38-9b61-a72e2d5a8028",
   "metadata": {},
   "outputs": [],
   "source": [
    "b[0]=100"
   ]
  },
  {
   "cell_type": "code",
   "execution_count": 502,
   "id": "410f846d-2a9d-41b8-af72-fbc5a7d241c1",
   "metadata": {},
   "outputs": [
    {
     "data": {
      "text/plain": [
       "array([100,   2,   3,   4])"
      ]
     },
     "execution_count": 502,
     "metadata": {},
     "output_type": "execute_result"
    }
   ],
   "source": [
    "b"
   ]
  },
  {
   "cell_type": "code",
   "execution_count": 504,
   "id": "71f1f00a-6fc3-42bb-b9f8-ae0f2d8f40ed",
   "metadata": {},
   "outputs": [
    {
     "data": {
      "text/plain": [
       "array([100,   2,   3,   4])"
      ]
     },
     "execution_count": 504,
     "metadata": {},
     "output_type": "execute_result"
    }
   ],
   "source": [
    "a"
   ]
  },
  {
   "cell_type": "code",
   "execution_count": 506,
   "id": "26365116-b291-46ce-9b8a-2f2bc8977f72",
   "metadata": {},
   "outputs": [],
   "source": [
    "a=np.array([1,2,3,4])"
   ]
  },
  {
   "cell_type": "code",
   "execution_count": 510,
   "id": "d7454890-7dde-4acc-8abf-5a0407221ad5",
   "metadata": {},
   "outputs": [
    {
     "data": {
      "text/plain": [
       "array([1, 2, 3, 4])"
      ]
     },
     "execution_count": 510,
     "metadata": {},
     "output_type": "execute_result"
    }
   ],
   "source": [
    "b=a.copy()\n",
    "b"
   ]
  },
  {
   "cell_type": "code",
   "execution_count": 514,
   "id": "1d0a2816-b018-4c3f-82ba-1ac5ff9c6aa8",
   "metadata": {},
   "outputs": [
    {
     "data": {
      "text/plain": [
       "array([100,   2,   3,   4])"
      ]
     },
     "execution_count": 514,
     "metadata": {},
     "output_type": "execute_result"
    }
   ],
   "source": [
    "b[0]=100\n",
    "b"
   ]
  },
  {
   "cell_type": "code",
   "execution_count": 516,
   "id": "2b6ec262-d658-46e1-9d0e-6b65ae21ca0c",
   "metadata": {},
   "outputs": [
    {
     "data": {
      "text/plain": [
       "array([1, 2, 3, 4])"
      ]
     },
     "execution_count": 516,
     "metadata": {},
     "output_type": "execute_result"
    }
   ],
   "source": [
    "a"
   ]
  },
  {
   "cell_type": "markdown",
   "id": "986d0ce2-87cb-4c93-93ae-3f8937d6afeb",
   "metadata": {},
   "source": [
    "**Mathematics**"
   ]
  },
  {
   "cell_type": "code",
   "execution_count": 521,
   "id": "60bb9967-ec56-4dec-ab0d-623a64f175cc",
   "metadata": {},
   "outputs": [
    {
     "name": "stdout",
     "output_type": "stream",
     "text": [
      "[1 2 3 4]\n"
     ]
    }
   ],
   "source": [
    "a=np.array([1,2,3,4])\n",
    "print(a)"
   ]
  },
  {
   "cell_type": "code",
   "execution_count": 523,
   "id": "f201a65a-b1f2-4ec9-b0a2-dc7c1ecf3234",
   "metadata": {},
   "outputs": [
    {
     "data": {
      "text/plain": [
       "array([3, 4, 5, 6])"
      ]
     },
     "execution_count": 523,
     "metadata": {},
     "output_type": "execute_result"
    }
   ],
   "source": [
    "a+2"
   ]
  },
  {
   "cell_type": "code",
   "execution_count": 525,
   "id": "9fc32726-8ec9-4023-98ce-972eccf954cf",
   "metadata": {},
   "outputs": [
    {
     "data": {
      "text/plain": [
       "array([-1,  0,  1,  2])"
      ]
     },
     "execution_count": 525,
     "metadata": {},
     "output_type": "execute_result"
    }
   ],
   "source": [
    "a-2"
   ]
  },
  {
   "cell_type": "code",
   "execution_count": 527,
   "id": "63449169-a008-463a-95ce-66c7c917fadb",
   "metadata": {},
   "outputs": [
    {
     "data": {
      "text/plain": [
       "array([2, 4, 6, 8])"
      ]
     },
     "execution_count": 527,
     "metadata": {},
     "output_type": "execute_result"
    }
   ],
   "source": [
    "a*2"
   ]
  },
  {
   "cell_type": "code",
   "execution_count": 529,
   "id": "22d34b16-b738-41bc-bacb-0aafe00089e8",
   "metadata": {},
   "outputs": [
    {
     "data": {
      "text/plain": [
       "array([0.5, 1. , 1.5, 2. ])"
      ]
     },
     "execution_count": 529,
     "metadata": {},
     "output_type": "execute_result"
    }
   ],
   "source": [
    "a/2"
   ]
  },
  {
   "cell_type": "code",
   "execution_count": 531,
   "id": "bceb4898-cbce-4bf0-a7ad-d3ea57728dda",
   "metadata": {},
   "outputs": [
    {
     "data": {
      "text/plain": [
       "array([1, 0, 1, 0], dtype=int32)"
      ]
     },
     "execution_count": 531,
     "metadata": {},
     "output_type": "execute_result"
    }
   ],
   "source": [
    "a%2"
   ]
  },
  {
   "cell_type": "code",
   "execution_count": 533,
   "id": "85b77459-bb61-4add-8b1c-228ab13ad84f",
   "metadata": {},
   "outputs": [
    {
     "data": {
      "text/plain": [
       "array([0, 1, 1, 2], dtype=int32)"
      ]
     },
     "execution_count": 533,
     "metadata": {},
     "output_type": "execute_result"
    }
   ],
   "source": [
    "a//2"
   ]
  },
  {
   "cell_type": "code",
   "execution_count": 537,
   "id": "5a60fead-951f-4a3c-81b7-81c3e306e85b",
   "metadata": {},
   "outputs": [],
   "source": [
    "a+=2"
   ]
  },
  {
   "cell_type": "code",
   "execution_count": 539,
   "id": "8c1ae98c-934c-4cba-a30b-d43ff36e30d3",
   "metadata": {},
   "outputs": [
    {
     "data": {
      "text/plain": [
       "array([3, 4, 5, 6])"
      ]
     },
     "execution_count": 539,
     "metadata": {},
     "output_type": "execute_result"
    }
   ],
   "source": [
    "a"
   ]
  },
  {
   "cell_type": "code",
   "execution_count": 541,
   "id": "a03beec5-3227-4e5b-bbfe-f204365d36e9",
   "metadata": {},
   "outputs": [],
   "source": [
    "b=np.array([3,0,3,0])"
   ]
  },
  {
   "cell_type": "code",
   "execution_count": 545,
   "id": "598eee70-5eb5-4405-b739-9ab2061101ae",
   "metadata": {},
   "outputs": [
    {
     "data": {
      "text/plain": [
       "array([3, 4, 5, 6])"
      ]
     },
     "execution_count": 545,
     "metadata": {},
     "output_type": "execute_result"
    }
   ],
   "source": [
    "a"
   ]
  },
  {
   "cell_type": "code",
   "execution_count": 547,
   "id": "b6ac8602-aeba-41e9-91bd-b9688320cc7d",
   "metadata": {},
   "outputs": [
    {
     "data": {
      "text/plain": [
       "array([3, 0, 3, 0])"
      ]
     },
     "execution_count": 547,
     "metadata": {},
     "output_type": "execute_result"
    }
   ],
   "source": [
    "b"
   ]
  },
  {
   "cell_type": "code",
   "execution_count": 543,
   "id": "9d84171f-6021-4864-b4c9-1e528c5c8244",
   "metadata": {},
   "outputs": [
    {
     "data": {
      "text/plain": [
       "array([6, 4, 8, 6])"
      ]
     },
     "execution_count": 543,
     "metadata": {},
     "output_type": "execute_result"
    }
   ],
   "source": [
    "a+b"
   ]
  },
  {
   "cell_type": "code",
   "execution_count": 549,
   "id": "0c9eb526-6baf-485f-99ab-9b86fb145f23",
   "metadata": {},
   "outputs": [
    {
     "data": {
      "text/plain": [
       "array([ 9, 16, 25, 36])"
      ]
     },
     "execution_count": 549,
     "metadata": {},
     "output_type": "execute_result"
    }
   ],
   "source": [
    "a**2"
   ]
  },
  {
   "cell_type": "code",
   "execution_count": 551,
   "id": "252519e6-50cf-4908-bf70-616b0a944942",
   "metadata": {},
   "outputs": [
    {
     "data": {
      "text/plain": [
       "array([ 0.14112001, -0.7568025 , -0.95892427, -0.2794155 ])"
      ]
     },
     "execution_count": 551,
     "metadata": {},
     "output_type": "execute_result"
    }
   ],
   "source": [
    "#sin\n",
    "np.sin(a)"
   ]
  },
  {
   "cell_type": "code",
   "execution_count": 555,
   "id": "83af4857-056a-4a88-bdad-95702b965844",
   "metadata": {},
   "outputs": [
    {
     "data": {
      "text/plain": [
       "array([-0.9899925 , -0.65364362,  0.28366219,  0.96017029])"
      ]
     },
     "execution_count": 555,
     "metadata": {},
     "output_type": "execute_result"
    }
   ],
   "source": [
    "np.cos(a)"
   ]
  },
  {
   "cell_type": "markdown",
   "id": "1735ab5a-8196-47f4-b501-4769eee961fa",
   "metadata": {},
   "source": [
    "**Linear Algebra**"
   ]
  },
  {
   "cell_type": "markdown",
   "id": "9dea27d8-de50-41f7-8e01-ef55234a72e5",
   "metadata": {},
   "source": [
    "- we don't do element wise computation\n",
    "- cols of first should be same as rows of second"
   ]
  },
  {
   "cell_type": "code",
   "execution_count": 567,
   "id": "599caede-1fc5-49ff-b4cb-d9144131ad2f",
   "metadata": {},
   "outputs": [
    {
     "data": {
      "text/plain": [
       "array([[1, 1, 1],\n",
       "       [1, 1, 1]])"
      ]
     },
     "execution_count": 567,
     "metadata": {},
     "output_type": "execute_result"
    }
   ],
   "source": [
    "a=np.full((2,3),1)\n",
    "a"
   ]
  },
  {
   "cell_type": "code",
   "execution_count": 569,
   "id": "7bd76754-2c18-45d9-88ca-aa1305fa3dbc",
   "metadata": {},
   "outputs": [
    {
     "data": {
      "text/plain": [
       "array([[4, 4],\n",
       "       [4, 4],\n",
       "       [4, 4]])"
      ]
     },
     "execution_count": 569,
     "metadata": {},
     "output_type": "execute_result"
    }
   ],
   "source": [
    "b=np.full((3,2),4)\n",
    "b"
   ]
  },
  {
   "cell_type": "code",
   "execution_count": 572,
   "id": "b9ed8cab-8a6b-4d8b-889c-955149b93ac1",
   "metadata": {},
   "outputs": [],
   "source": [
    "#matrix multiplication"
   ]
  },
  {
   "cell_type": "code",
   "execution_count": 576,
   "id": "2cefda88-4790-4a1e-859a-b9f9c1437b3f",
   "metadata": {},
   "outputs": [
    {
     "ename": "ValueError",
     "evalue": "operands could not be broadcast together with shapes (2,3) (3,2) ",
     "output_type": "error",
     "traceback": [
      "\u001b[1;31m---------------------------------------------------------------------------\u001b[0m",
      "\u001b[1;31mValueError\u001b[0m                                Traceback (most recent call last)",
      "Cell \u001b[1;32mIn[576], line 1\u001b[0m\n\u001b[1;32m----> 1\u001b[0m a\u001b[38;5;241m*\u001b[39mb\n",
      "\u001b[1;31mValueError\u001b[0m: operands could not be broadcast together with shapes (2,3) (3,2) "
     ]
    }
   ],
   "source": [
    "a*b"
   ]
  },
  {
   "cell_type": "code",
   "execution_count": 578,
   "id": "0aca2041-c283-482a-9bf8-892853b96e12",
   "metadata": {},
   "outputs": [
    {
     "data": {
      "text/plain": [
       "array([[12, 12],\n",
       "       [12, 12]])"
      ]
     },
     "execution_count": 578,
     "metadata": {},
     "output_type": "execute_result"
    }
   ],
   "source": [
    "np.matmul(a,b)"
   ]
  },
  {
   "cell_type": "code",
   "execution_count": 580,
   "id": "df980b09-7934-4623-9040-da0d9522f8d7",
   "metadata": {},
   "outputs": [
    {
     "data": {
      "text/plain": [
       "array([[12, 12],\n",
       "       [12, 12]])"
      ]
     },
     "execution_count": 580,
     "metadata": {},
     "output_type": "execute_result"
    }
   ],
   "source": [
    "a @ b"
   ]
  },
  {
   "cell_type": "code",
   "execution_count": 582,
   "id": "b256a500-b42f-48c1-b07a-d84765a52cea",
   "metadata": {},
   "outputs": [
    {
     "data": {
      "text/plain": [
       "array([[12, 12],\n",
       "       [12, 12]])"
      ]
     },
     "execution_count": 582,
     "metadata": {},
     "output_type": "execute_result"
    }
   ],
   "source": [
    "a.dot(b)"
   ]
  },
  {
   "cell_type": "code",
   "execution_count": 586,
   "id": "76f6b727-3ab1-49b7-a301-d7821c36f7b5",
   "metadata": {},
   "outputs": [
    {
     "data": {
      "text/plain": [
       "array([[1., 0., 0., 0., 0.],\n",
       "       [0., 1., 0., 0., 0.],\n",
       "       [0., 0., 1., 0., 0.],\n",
       "       [0., 0., 0., 1., 0.],\n",
       "       [0., 0., 0., 0., 1.]])"
      ]
     },
     "execution_count": 586,
     "metadata": {},
     "output_type": "execute_result"
    }
   ],
   "source": [
    "#Determinant of matrix\n",
    "c=np.identity(5)\n",
    "c"
   ]
  },
  {
   "cell_type": "code",
   "execution_count": 590,
   "id": "e855d1ee-1266-48b3-bfbb-69e35ace9c96",
   "metadata": {},
   "outputs": [
    {
     "data": {
      "text/plain": [
       "1.0"
      ]
     },
     "execution_count": 590,
     "metadata": {},
     "output_type": "execute_result"
    }
   ],
   "source": [
    "np.linalg.det(c)"
   ]
  },
  {
   "cell_type": "markdown",
   "id": "269b736e-0f86-4fd0-8182-a8569b002289",
   "metadata": {},
   "source": [
    "**Statistics**"
   ]
  },
  {
   "cell_type": "code",
   "execution_count": 593,
   "id": "a1bcf679-1da0-422b-a0e1-e61b36b53aae",
   "metadata": {},
   "outputs": [
    {
     "data": {
      "text/plain": [
       "array([[ 1,  2,  3,  4,  5],\n",
       "       [ 6,  7,  8,  9, 10]])"
      ]
     },
     "execution_count": 593,
     "metadata": {},
     "output_type": "execute_result"
    }
   ],
   "source": [
    "st=np.array([[1,2,3,4,5],[6,7,8,9,10]])\n",
    "st"
   ]
  },
  {
   "cell_type": "code",
   "execution_count": 601,
   "id": "da63d14d-c940-4719-b004-812dd623324d",
   "metadata": {},
   "outputs": [
    {
     "data": {
      "text/plain": [
       "1"
      ]
     },
     "execution_count": 601,
     "metadata": {},
     "output_type": "execute_result"
    }
   ],
   "source": [
    "np.min(st)"
   ]
  },
  {
   "cell_type": "code",
   "execution_count": 603,
   "id": "e9a4c40b-36ee-42bc-8b4a-bf3cba4c7142",
   "metadata": {},
   "outputs": [
    {
     "data": {
      "text/plain": [
       "10"
      ]
     },
     "execution_count": 603,
     "metadata": {},
     "output_type": "execute_result"
    }
   ],
   "source": [
    "np.max(st)"
   ]
  },
  {
   "cell_type": "code",
   "execution_count": 605,
   "id": "f82863ea-73c5-4a78-8801-21c501ae12f2",
   "metadata": {},
   "outputs": [
    {
     "data": {
      "text/plain": [
       "array([1, 2, 3, 4, 5])"
      ]
     },
     "execution_count": 605,
     "metadata": {},
     "output_type": "execute_result"
    }
   ],
   "source": [
    "np.min(st, axis=0)"
   ]
  },
  {
   "cell_type": "code",
   "execution_count": 607,
   "id": "58163135-cb5f-4740-b42f-946668a725a8",
   "metadata": {},
   "outputs": [
    {
     "data": {
      "text/plain": [
       "array([1, 6])"
      ]
     },
     "execution_count": 607,
     "metadata": {},
     "output_type": "execute_result"
    }
   ],
   "source": [
    "np.min(st, axis=1)"
   ]
  },
  {
   "cell_type": "code",
   "execution_count": 609,
   "id": "5a5704c4-6297-4b6d-84da-f1f908be706a",
   "metadata": {},
   "outputs": [
    {
     "data": {
      "text/plain": [
       "array([ 5, 10])"
      ]
     },
     "execution_count": 609,
     "metadata": {},
     "output_type": "execute_result"
    }
   ],
   "source": [
    "np.max(st, axis=1)"
   ]
  },
  {
   "cell_type": "code",
   "execution_count": 611,
   "id": "fafc1d04-7607-43f7-a0ff-336a821a9d22",
   "metadata": {},
   "outputs": [
    {
     "data": {
      "text/plain": [
       "array([ 6,  7,  8,  9, 10])"
      ]
     },
     "execution_count": 611,
     "metadata": {},
     "output_type": "execute_result"
    }
   ],
   "source": [
    "np.max(st, axis=0)"
   ]
  },
  {
   "cell_type": "code",
   "execution_count": 613,
   "id": "6e01fa5d-f6bd-4d8a-b71d-30be34231d58",
   "metadata": {},
   "outputs": [
    {
     "data": {
      "text/plain": [
       "55"
      ]
     },
     "execution_count": 613,
     "metadata": {},
     "output_type": "execute_result"
    }
   ],
   "source": [
    "np.sum(st)"
   ]
  },
  {
   "cell_type": "code",
   "execution_count": 615,
   "id": "4c9cbccf-046a-4e8b-a408-4fb09ceb52e0",
   "metadata": {},
   "outputs": [
    {
     "data": {
      "text/plain": [
       "array([ 7,  9, 11, 13, 15])"
      ]
     },
     "execution_count": 615,
     "metadata": {},
     "output_type": "execute_result"
    }
   ],
   "source": [
    "np.sum(st, axis=0)"
   ]
  },
  {
   "cell_type": "code",
   "execution_count": 617,
   "id": "ffb9c2af-645e-4a11-a0b1-302b05befa69",
   "metadata": {},
   "outputs": [
    {
     "data": {
      "text/plain": [
       "array([15, 40])"
      ]
     },
     "execution_count": 617,
     "metadata": {},
     "output_type": "execute_result"
    }
   ],
   "source": [
    "np.sum(st, axis=1)"
   ]
  },
  {
   "cell_type": "markdown",
   "id": "62e4fdfc-d026-4677-9633-4eb4409df8ce",
   "metadata": {},
   "source": [
    "**Reorganizing Arrays**"
   ]
  },
  {
   "cell_type": "code",
   "execution_count": 620,
   "id": "1b1a6df3-593f-435b-9372-84fecc3f353f",
   "metadata": {},
   "outputs": [
    {
     "data": {
      "text/plain": [
       "array([[1, 2, 3, 4],\n",
       "       [5, 6, 7, 8]])"
      ]
     },
     "execution_count": 620,
     "metadata": {},
     "output_type": "execute_result"
    }
   ],
   "source": [
    "a=np.array([[1,2,3,4],[5,6,7,8]])\n",
    "a"
   ]
  },
  {
   "cell_type": "code",
   "execution_count": 622,
   "id": "b601fd27-7042-4406-a388-75c4edb7355f",
   "metadata": {},
   "outputs": [
    {
     "data": {
      "text/plain": [
       "(2, 4)"
      ]
     },
     "execution_count": 622,
     "metadata": {},
     "output_type": "execute_result"
    }
   ],
   "source": [
    "a.shape"
   ]
  },
  {
   "cell_type": "code",
   "execution_count": 630,
   "id": "187f4ff9-40ab-4a29-ae6d-6429569284d3",
   "metadata": {},
   "outputs": [
    {
     "data": {
      "text/plain": [
       "array([[1],\n",
       "       [2],\n",
       "       [3],\n",
       "       [4],\n",
       "       [5],\n",
       "       [6],\n",
       "       [7],\n",
       "       [8]])"
      ]
     },
     "execution_count": 630,
     "metadata": {},
     "output_type": "execute_result"
    }
   ],
   "source": [
    "#rehape\n",
    "b=a.reshape(8,1)\n",
    "b"
   ]
  },
  {
   "cell_type": "code",
   "execution_count": 632,
   "id": "6c656066-de93-431c-a177-c9e7769e837e",
   "metadata": {},
   "outputs": [
    {
     "data": {
      "text/plain": [
       "array([[1, 2],\n",
       "       [3, 4],\n",
       "       [5, 6],\n",
       "       [7, 8]])"
      ]
     },
     "execution_count": 632,
     "metadata": {},
     "output_type": "execute_result"
    }
   ],
   "source": [
    "c=a.reshape(4,2)\n",
    "c"
   ]
  },
  {
   "cell_type": "code",
   "execution_count": 634,
   "id": "e2d70da2-a00f-4363-9e4a-cb86f876ffa5",
   "metadata": {},
   "outputs": [
    {
     "data": {
      "text/plain": [
       "array([[[1, 2],\n",
       "        [3, 4]],\n",
       "\n",
       "       [[5, 6],\n",
       "        [7, 8]]])"
      ]
     },
     "execution_count": 634,
     "metadata": {},
     "output_type": "execute_result"
    }
   ],
   "source": [
    "d=a.reshape(2,2,2)\n",
    "d"
   ]
  },
  {
   "cell_type": "code",
   "execution_count": 636,
   "id": "e66a1165-88b3-4a0a-bc0f-ba86280d0d33",
   "metadata": {},
   "outputs": [
    {
     "ename": "ValueError",
     "evalue": "cannot reshape array of size 8 into shape (2,2,3)",
     "output_type": "error",
     "traceback": [
      "\u001b[1;31m---------------------------------------------------------------------------\u001b[0m",
      "\u001b[1;31mValueError\u001b[0m                                Traceback (most recent call last)",
      "Cell \u001b[1;32mIn[636], line 1\u001b[0m\n\u001b[1;32m----> 1\u001b[0m d\u001b[38;5;241m=\u001b[39ma\u001b[38;5;241m.\u001b[39mreshape(\u001b[38;5;241m2\u001b[39m,\u001b[38;5;241m2\u001b[39m,\u001b[38;5;241m3\u001b[39m)\n\u001b[0;32m      2\u001b[0m d\n",
      "\u001b[1;31mValueError\u001b[0m: cannot reshape array of size 8 into shape (2,2,3)"
     ]
    }
   ],
   "source": [
    "d=a.reshape(2,2,3)\n",
    "d"
   ]
  },
  {
   "cell_type": "code",
   "execution_count": 638,
   "id": "5bdb72e9-cd87-4b2b-904d-58b5e61fdca0",
   "metadata": {},
   "outputs": [],
   "source": [
    "#Stacking\n",
    "#Vertical stacks"
   ]
  },
  {
   "cell_type": "code",
   "execution_count": 640,
   "id": "2ff0fe23-2407-457d-884f-56b2259b5a44",
   "metadata": {},
   "outputs": [],
   "source": [
    "v1=np.array([1,2,3,4])\n",
    "v2=np.array([5,6,7,8])"
   ]
  },
  {
   "cell_type": "code",
   "execution_count": 644,
   "id": "9cdc2143-9180-4f99-aafb-8223d1cd6203",
   "metadata": {},
   "outputs": [
    {
     "data": {
      "text/plain": [
       "array([[1, 2, 3, 4],\n",
       "       [5, 6, 7, 8]])"
      ]
     },
     "execution_count": 644,
     "metadata": {},
     "output_type": "execute_result"
    }
   ],
   "source": [
    "np.vstack([v1,v2])"
   ]
  },
  {
   "cell_type": "code",
   "execution_count": 646,
   "id": "abe048ed-b6c8-4aa7-895d-58734bbf627b",
   "metadata": {},
   "outputs": [
    {
     "data": {
      "text/plain": [
       "array([[1, 2, 3, 4],\n",
       "       [5, 6, 7, 8],\n",
       "       [5, 6, 7, 8],\n",
       "       [5, 6, 7, 8],\n",
       "       [5, 6, 7, 8]])"
      ]
     },
     "execution_count": 646,
     "metadata": {},
     "output_type": "execute_result"
    }
   ],
   "source": [
    "np.vstack([v1,v2,v2,v2,v2])"
   ]
  },
  {
   "cell_type": "code",
   "execution_count": 648,
   "id": "7fa82f35-90ef-4753-b6f9-9f7572c4babd",
   "metadata": {},
   "outputs": [],
   "source": [
    "#Hortizantal stack"
   ]
  },
  {
   "cell_type": "code",
   "execution_count": 654,
   "id": "981594ac-b2ec-4896-81a4-520b40cc2d90",
   "metadata": {},
   "outputs": [
    {
     "name": "stdout",
     "output_type": "stream",
     "text": [
      "[[1. 1. 1. 1.]\n",
      " [1. 1. 1. 1.]]\n",
      "[[0. 0.]\n",
      " [0. 0.]]\n"
     ]
    }
   ],
   "source": [
    "h1=np.ones((2,4))\n",
    "h2=np.zeros((2,2))\n",
    "print(h1)\n",
    "print(h2)"
   ]
  },
  {
   "cell_type": "code",
   "execution_count": 656,
   "id": "59a1ae4a-269a-42f1-8364-abe97112875e",
   "metadata": {},
   "outputs": [
    {
     "data": {
      "text/plain": [
       "array([[1., 1., 1., 1., 0., 0.],\n",
       "       [1., 1., 1., 1., 0., 0.]])"
      ]
     },
     "execution_count": 656,
     "metadata": {},
     "output_type": "execute_result"
    }
   ],
   "source": [
    "np.hstack([h1,h2])"
   ]
  },
  {
   "cell_type": "code",
   "execution_count": null,
   "id": "8a093dbf-a2b8-46ea-813b-9f4013bee49f",
   "metadata": {},
   "outputs": [],
   "source": []
  },
  {
   "cell_type": "markdown",
   "id": "fd22daac-74c1-4809-80e6-85714854435a",
   "metadata": {},
   "source": [
    "**load data from file into numpy**"
   ]
  },
  {
   "cell_type": "code",
   "execution_count": null,
   "id": "d32e3e06-4d05-41da-bbdd-ce9938924847",
   "metadata": {},
   "outputs": [],
   "source": [
    "np.genfromtxt('file_name.txt',delimiter=',')"
   ]
  },
  {
   "cell_type": "code",
   "execution_count": 1,
   "id": "d2f3ef72-48b8-4adc-9964-07dc2d960d76",
   "metadata": {},
   "outputs": [],
   "source": [
    "import numpy as np"
   ]
  },
  {
   "cell_type": "code",
   "execution_count": 3,
   "id": "95b85a99-4e7d-4916-982c-775dcdfb0074",
   "metadata": {},
   "outputs": [],
   "source": [
    "l1=[1,3,5,4.3,2.1,4.6,'Yes',True]"
   ]
  },
  {
   "cell_type": "code",
   "execution_count": 7,
   "id": "a8286f3b-f703-40de-abdd-53a301606943",
   "metadata": {},
   "outputs": [
    {
     "data": {
      "text/plain": [
       "array([['1', '3', '5', '4.3', '2.1', '4.6', 'Yes', 'True']], dtype='<U32')"
      ]
     },
     "execution_count": 7,
     "metadata": {},
     "output_type": "execute_result"
    }
   ],
   "source": [
    "a=np.array([l1])\n",
    "a"
   ]
  },
  {
   "cell_type": "code",
   "execution_count": 9,
   "id": "402d067f-73c7-41ab-814e-94d35d7f86b8",
   "metadata": {},
   "outputs": [
    {
     "data": {
      "text/plain": [
       "array([['1', '3', '5', '4.3'],\n",
       "       ['2.1', '4.6', 'Yes', 'True']], dtype='<U32')"
      ]
     },
     "execution_count": 9,
     "metadata": {},
     "output_type": "execute_result"
    }
   ],
   "source": [
    "a.reshape(2,4)"
   ]
  },
  {
   "cell_type": "code",
   "execution_count": null,
   "id": "45787266-ef2c-482c-839b-7d76ef33a558",
   "metadata": {},
   "outputs": [],
   "source": []
  },
  {
   "cell_type": "code",
   "execution_count": 659,
   "id": "d3f6d69f-1ed3-422a-82f5-fb106c9e91f9",
   "metadata": {},
   "outputs": [],
   "source": [
    "##Advance indexing, Boolean masking"
   ]
  },
  {
   "cell_type": "code",
   "execution_count": 699,
   "id": "56983eb7-6e23-4049-a996-fd2426f22328",
   "metadata": {},
   "outputs": [
    {
     "data": {
      "text/plain": [
       "array([[      1,       2,       3,      56,      56,       4,       4,\n",
       "             34,      54],\n",
       "       [4543534,     324,      25,      77,       8,    3332,     399,\n",
       "            776,     900],\n",
       "       [      1,     343,     777,     444,    7777,     908,       4,\n",
       "              3,       2]])"
      ]
     },
     "execution_count": 699,
     "metadata": {},
     "output_type": "execute_result"
    }
   ],
   "source": [
    "a=np.array([[1,2,3,56,56,4,4,34,54],[4543534,324,25,77,8,3332,399,776,900],[1,343,777,444,7777,908,4,3,2]])\n",
    "a"
   ]
  },
  {
   "cell_type": "code",
   "execution_count": 683,
   "id": "ad4a8521-afd0-4405-b332-4a3f3c3b03ba",
   "metadata": {},
   "outputs": [
    {
     "data": {
      "text/plain": [
       "array([[False, False, False,  True,  True, False, False, False,  True],\n",
       "       [ True,  True, False,  True, False,  True,  True,  True,  True],\n",
       "       [False,  True,  True,  True,  True,  True, False, False, False]])"
      ]
     },
     "execution_count": 683,
     "metadata": {},
     "output_type": "execute_result"
    }
   ],
   "source": [
    "a>50"
   ]
  },
  {
   "cell_type": "code",
   "execution_count": 687,
   "id": "8443808e-4238-4584-ac74-f43960fdc8cb",
   "metadata": {},
   "outputs": [
    {
     "data": {
      "text/plain": [
       "array([     56,      56,      54, 4543534,     324,      77,    3332,\n",
       "           399,     776,     900,     343,     777,     444,    7777,\n",
       "           908])"
      ]
     },
     "execution_count": 687,
     "metadata": {},
     "output_type": "execute_result"
    }
   ],
   "source": [
    "a[a>50]"
   ]
  },
  {
   "cell_type": "code",
   "execution_count": 693,
   "id": "068ca355-314a-4bbe-9d65-df893c870288",
   "metadata": {},
   "outputs": [
    {
     "data": {
      "text/plain": [
       "array([1, 2, 3, 4, 5, 6, 7, 8, 9])"
      ]
     },
     "execution_count": 693,
     "metadata": {},
     "output_type": "execute_result"
    }
   ],
   "source": [
    "a=np.array([1,2,3,4,5,6,7,8,9])\n",
    "a"
   ]
  },
  {
   "cell_type": "code",
   "execution_count": 695,
   "id": "756dbbe2-a774-40ce-8c9a-a3085d6ee19a",
   "metadata": {},
   "outputs": [
    {
     "data": {
      "text/plain": [
       "array([2, 3, 7])"
      ]
     },
     "execution_count": 695,
     "metadata": {},
     "output_type": "execute_result"
    }
   ],
   "source": [
    "a[[1,2,6]]"
   ]
  },
  {
   "cell_type": "code",
   "execution_count": 701,
   "id": "bdca34df-1d56-4031-ad51-c171b187b509",
   "metadata": {},
   "outputs": [
    {
     "data": {
      "text/plain": [
       "array([ True,  True,  True,  True,  True,  True,  True,  True,  True])"
      ]
     },
     "execution_count": 701,
     "metadata": {},
     "output_type": "execute_result"
    }
   ],
   "source": [
    "#any\n",
    "np.any(a>50, axis=0)"
   ]
  },
  {
   "cell_type": "code",
   "execution_count": 703,
   "id": "90effeed-479a-456f-8166-fe6761cc605f",
   "metadata": {},
   "outputs": [
    {
     "data": {
      "text/plain": [
       "array([False, False, False,  True, False, False, False, False, False])"
      ]
     },
     "execution_count": 703,
     "metadata": {},
     "output_type": "execute_result"
    }
   ],
   "source": [
    "#all\n",
    "np.all(a>50, axis=0)"
   ]
  },
  {
   "cell_type": "code",
   "execution_count": 705,
   "id": "95b8edc4-c44d-473e-abaf-71440695b140",
   "metadata": {},
   "outputs": [
    {
     "data": {
      "text/plain": [
       "array([False, False, False])"
      ]
     },
     "execution_count": 705,
     "metadata": {},
     "output_type": "execute_result"
    }
   ],
   "source": [
    "np.all(a>50, axis=1)"
   ]
  },
  {
   "cell_type": "code",
   "execution_count": 715,
   "id": "f09f89fe-6a80-4e65-a101-3489885ee06e",
   "metadata": {},
   "outputs": [
    {
     "data": {
      "text/plain": [
       "array([[False, False, False,  True,  True, False, False, False,  True],\n",
       "       [False,  True, False,  True, False, False,  True, False, False],\n",
       "       [False,  True, False,  True, False, False, False, False, False]])"
      ]
     },
     "execution_count": 715,
     "metadata": {},
     "output_type": "execute_result"
    }
   ],
   "source": [
    "(a>50) & (a<500)"
   ]
  },
  {
   "cell_type": "code",
   "execution_count": 717,
   "id": "3ea5f3dd-483e-4d30-a499-2b4510a35cc8",
   "metadata": {},
   "outputs": [
    {
     "data": {
      "text/plain": [
       "array([[ True,  True,  True, False, False,  True,  True,  True, False],\n",
       "       [ True, False,  True, False,  True,  True, False,  True,  True],\n",
       "       [ True, False,  True, False,  True,  True,  True,  True,  True]])"
      ]
     },
     "execution_count": 717,
     "metadata": {},
     "output_type": "execute_result"
    }
   ],
   "source": [
    "~((a>50) & (a<500))"
   ]
  },
  {
   "cell_type": "code",
   "execution_count": 729,
   "id": "a83d54ea-e67d-4c45-bdd3-313c37b02d97",
   "metadata": {},
   "outputs": [
    {
     "data": {
      "text/plain": [
       "array([[ 1,  2,  3,  4,  5],\n",
       "       [ 6,  7,  8,  9, 10],\n",
       "       [11, 12, 13, 14, 15],\n",
       "       [16, 17, 18, 19, 20],\n",
       "       [21, 22, 23, 24, 25],\n",
       "       [26, 27, 28, 29, 30]])"
      ]
     },
     "execution_count": 729,
     "metadata": {},
     "output_type": "execute_result"
    }
   ],
   "source": [
    "b=np.arange(1,31).reshape(6,5)\n",
    "b"
   ]
  },
  {
   "cell_type": "code",
   "execution_count": 731,
   "id": "f114336c-e2e9-4f3a-8762-aa718b3fa5f6",
   "metadata": {},
   "outputs": [
    {
     "data": {
      "text/plain": [
       "array([[11, 12],\n",
       "       [16, 17]])"
      ]
     },
     "execution_count": 731,
     "metadata": {},
     "output_type": "execute_result"
    }
   ],
   "source": [
    "b[2:4,0:2]"
   ]
  },
  {
   "cell_type": "code",
   "execution_count": 737,
   "id": "ef1cc6b8-8320-4afd-80fe-b3d0b1e3c355",
   "metadata": {},
   "outputs": [
    {
     "data": {
      "text/plain": [
       "array([ 2,  8, 14, 20])"
      ]
     },
     "execution_count": 737,
     "metadata": {},
     "output_type": "execute_result"
    }
   ],
   "source": [
    "b[[0,1,2,3],[1,2,3,4]]"
   ]
  },
  {
   "cell_type": "code",
   "execution_count": 739,
   "id": "b1f9f644-5964-4c11-9710-28b7dcb36cda",
   "metadata": {},
   "outputs": [
    {
     "data": {
      "text/plain": [
       "array([[ 4,  5],\n",
       "       [19, 20],\n",
       "       [24, 25]])"
      ]
     },
     "execution_count": 739,
     "metadata": {},
     "output_type": "execute_result"
    }
   ],
   "source": [
    "b[[0,3,4],3:]"
   ]
  },
  {
   "cell_type": "code",
   "execution_count": 741,
   "id": "85a2c96e-8d11-4406-a02e-47a0f6ffbb82",
   "metadata": {},
   "outputs": [],
   "source": [
    "#Indexing:  https://docs.scipy.org/doc/numpy-1.13.0/user/basics.indexing.html"
   ]
  },
  {
   "cell_type": "code",
   "execution_count": 743,
   "id": "09f15b2c-33a7-4e66-843e-4b6be7ab3f01",
   "metadata": {},
   "outputs": [],
   "source": [
    "#Array : https://numpy.org/doc/stable/reference/routines.array-creation.html"
   ]
  },
  {
   "cell_type": "code",
   "execution_count": 745,
   "id": "81ebc10e-c0d8-4770-815f-7782c0c016d5",
   "metadata": {},
   "outputs": [],
   "source": [
    "#Math: https://numpy.org/doc/stable/reference/routines.math.html"
   ]
  },
  {
   "cell_type": "code",
   "execution_count": 747,
   "id": "4df0d6b4-32e7-444e-b2c6-3d66d260c8c9",
   "metadata": {},
   "outputs": [],
   "source": [
    "#linalg: https://numpy.org/doc/stable/reference/routines.linalg.html"
   ]
  },
  {
   "cell_type": "code",
   "execution_count": null,
   "id": "6b002685-969f-4202-9b61-439f52b9a9ed",
   "metadata": {},
   "outputs": [],
   "source": []
  }
 ],
 "metadata": {
  "kernelspec": {
   "display_name": "Python 3 (ipykernel)",
   "language": "python",
   "name": "python3"
  },
  "language_info": {
   "codemirror_mode": {
    "name": "ipython",
    "version": 3
   },
   "file_extension": ".py",
   "mimetype": "text/x-python",
   "name": "python",
   "nbconvert_exporter": "python",
   "pygments_lexer": "ipython3",
   "version": "3.12.4"
  }
 },
 "nbformat": 4,
 "nbformat_minor": 5
}
