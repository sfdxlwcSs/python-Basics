{
 "cells": [
  {
   "cell_type": "markdown",
   "id": "fab6a51a-0e6b-4197-808c-dcf58fa1ddcb",
   "metadata": {},
   "source": [
    "**Functions in Python**\n",
    "\n",
    "Functions are very fundamental concepts in any programming language\n",
    "- What is a Function in Python\n",
    "- Types of Functions\n",
    "- Advantages of using Functions"
   ]
  },
  {
   "cell_type": "markdown",
   "id": "5b1749e1-7939-4820-a6e0-5bf19aa011ba",
   "metadata": {},
   "source": [
    "**What is a Function in Python**\n",
    "- Bunch of related statements that are defined to perform a specific task\n",
    "- Functions help fragment/divide our program into smaller and modular chunks\n",
    "- Functions allow to make extensive programs more organized and manageable\n",
    "- Provides repitition and makes code reusable"
   ]
  },
  {
   "cell_type": "markdown",
   "id": "08fd3297-59df-4a42-a5e3-54c34ab52360",
   "metadata": {},
   "source": [
    "**Types of Functions**\n",
    "- Built-in Functions : Built into python\n",
    "\n",
    "  ex: pow(), abs(), print(), round(), len(), range(), max(), slice(), sorted(), next()\n",
    "- User-defined Functions : Defined by users to carry out certain tasks"
   ]
  },
  {
   "cell_type": "markdown",
   "id": "d33c77ad-0131-4a80-8abd-e3f24d7922c7",
   "metadata": {},
   "source": [
    "**Steps to create a user-defined functions**\n",
    "- Creating a function\n",
    "- Calling a function"
   ]
  },
  {
   "cell_type": "markdown",
   "id": "0519bd20-8a38-4c6e-9d8c-9da685e5fb35",
   "metadata": {},
   "source": [
    "**Syntax for user-defined function**\n",
    "\n",
    "def my_function(parameters):\n",
    "\n",
    "    function_block\n",
    "    \n",
    "return expression"
   ]
  },
  {
   "cell_type": "code",
   "execution_count": null,
   "id": "7a2eff48-57e0-453f-ba87-4c878568a7d7",
   "metadata": {},
   "outputs": [],
   "source": [
    "def my_function():\n",
    "    print(\"Hello, Good Day\")"
   ]
  },
  {
   "cell_type": "code",
   "execution_count": null,
   "id": "267e60cf-a020-445e-a3c6-1b51cadbfb7f",
   "metadata": {},
   "outputs": [],
   "source": [
    "my_function()"
   ]
  },
  {
   "cell_type": "markdown",
   "id": "c0a4fbe8-cdd9-49b1-b2a2-ee6d0c992aa6",
   "metadata": {},
   "source": [
    "**Advantages of using Python Functions**\n",
    "- If we use functions, we can avoid rewriting the same code / the same logic again and again in a given program\n",
    "- We can call the same function many times anywhere in a single program\n",
    "- We can divide a massive program into numerous functions and track the same very easily\n",
    "- The main advantage of using a python function is its reusabiliity"
   ]
  },
  {
   "cell_type": "markdown",
   "id": "eb2f2667-2812-4365-a1d9-310e6d31156c",
   "metadata": {},
   "source": [
    "**Built-in Functions**"
   ]
  },
  {
   "cell_type": "markdown",
   "id": "cf7ce0ea-4c9d-45e0-9eef-b5592843ebc8",
   "metadata": {},
   "source": [
    "**abs()** gives the absolute value, which is always positive"
   ]
  },
  {
   "cell_type": "code",
   "execution_count": null,
   "id": "11518116-3b92-4758-8bd0-af257b595894",
   "metadata": {},
   "outputs": [],
   "source": [
    "a=abs(24.35)"
   ]
  },
  {
   "cell_type": "code",
   "execution_count": null,
   "id": "d40a2c06-2907-446e-991c-94c571bd56a9",
   "metadata": {},
   "outputs": [],
   "source": [
    "a"
   ]
  },
  {
   "cell_type": "code",
   "execution_count": null,
   "id": "a41c2c8e-448e-4779-bb90-291818246542",
   "metadata": {},
   "outputs": [],
   "source": [
    "b=abs(-24.35)"
   ]
  },
  {
   "cell_type": "code",
   "execution_count": null,
   "id": "619f0e07-834c-4be6-a93c-da5337c49eb0",
   "metadata": {},
   "outputs": [],
   "source": [
    "b\n",
    "#negative signed is removed"
   ]
  },
  {
   "cell_type": "markdown",
   "id": "6c0946e4-2d19-4e69-a914-7af5243ad7c8",
   "metadata": {},
   "source": [
    "**len()** returns the length of an object, it could be an iterable like a list, tuple, dictionary"
   ]
  },
  {
   "cell_type": "code",
   "execution_count": null,
   "id": "35898b73-3bad-411e-aa9a-dc0ce507ff0e",
   "metadata": {},
   "outputs": [],
   "source": [
    "l1=[1,2,3,4, 'I','J','K']"
   ]
  },
  {
   "cell_type": "code",
   "execution_count": null,
   "id": "02b4b03d-1f1a-4222-b551-6017eb72fa58",
   "metadata": {},
   "outputs": [],
   "source": [
    "len(l1)"
   ]
  },
  {
   "cell_type": "code",
   "execution_count": null,
   "id": "cc0c706f-05f3-4355-8552-967223c59694",
   "metadata": {},
   "outputs": [],
   "source": [
    "l2=[\"Good\",\"Day\",\"Pleasant\"]\n",
    "len(l2)"
   ]
  },
  {
   "cell_type": "markdown",
   "id": "0bb67e5d-03a0-4fd7-9c77-9049bfbf799b",
   "metadata": {},
   "source": [
    "**all()** returns true, if all item in a iterable object is true"
   ]
  },
  {
   "cell_type": "code",
   "execution_count": null,
   "id": "3ec0f6f7-5bbb-4fcf-b2d8-a8ea8155dc89",
   "metadata": {},
   "outputs": [],
   "source": [
    "l3=[0,5,8]\n",
    "a=all(l3)"
   ]
  },
  {
   "cell_type": "code",
   "execution_count": null,
   "id": "db649fb3-e0ec-453a-b86b-0126eb3a1257",
   "metadata": {},
   "outputs": [],
   "source": [
    "a"
   ]
  },
  {
   "cell_type": "markdown",
   "id": "b0259eec-f207-46ad-aa1a-8e5e89f636ab",
   "metadata": {},
   "source": [
    "False is returned above as there is one value false "
   ]
  },
  {
   "cell_type": "code",
   "execution_count": null,
   "id": "1f2cb328-8d14-4ee9-a163-ad2fa2734c92",
   "metadata": {},
   "outputs": [],
   "source": [
    "b"
   ]
  },
  {
   "cell_type": "markdown",
   "id": "72e9f6f9-487d-451e-b4da-c5af7e1e0166",
   "metadata": {},
   "source": [
    "True is returned above as there are no 0s and all are true"
   ]
  },
  {
   "cell_type": "markdown",
   "id": "ef1a07e2-7b77-43ce-9a74-ac02f2356fb4",
   "metadata": {},
   "source": [
    "**sum()** - this is used to get sum of numbers of an iterable"
   ]
  },
  {
   "cell_type": "code",
   "execution_count": null,
   "id": "9d079411-7d76-4950-99e7-6758cb032405",
   "metadata": {},
   "outputs": [],
   "source": [
    "c=sum([1,2,3,4,5])\n",
    "c"
   ]
  },
  {
   "cell_type": "code",
   "execution_count": null,
   "id": "a1f37d43-dda8-4584-b386-d2c09a5aadae",
   "metadata": {},
   "outputs": [],
   "source": [
    "d=sum((1,2,3,4))\n",
    "d"
   ]
  },
  {
   "cell_type": "markdown",
   "id": "d2a49f93-6fcb-4972-adfe-c94e42ec2128",
   "metadata": {},
   "source": [
    "**max()** - will return the maximum number in an iterable"
   ]
  },
  {
   "cell_type": "code",
   "execution_count": null,
   "id": "a8d8a2e2-fd70-4784-ba1e-cbd45152cb03",
   "metadata": {},
   "outputs": [],
   "source": [
    "e=max(4,7,2,9,34,22)\n",
    "e"
   ]
  },
  {
   "cell_type": "code",
   "execution_count": null,
   "id": "7db7ef20-90b7-407d-a48d-5dbda5513321",
   "metadata": {},
   "outputs": [],
   "source": [
    "e1=max({7,89,22,45,21,89})\n",
    "e1"
   ]
  },
  {
   "cell_type": "markdown",
   "id": "b20ae7ad-4678-46a7-b054-749c2034c579",
   "metadata": {},
   "source": [
    "**min()** - will return the minimum number in an iterable"
   ]
  },
  {
   "cell_type": "code",
   "execution_count": null,
   "id": "7d8a3274-156b-4a23-b42b-e31756e225a9",
   "metadata": {},
   "outputs": [],
   "source": [
    "f=min(4,7,2,9,34,22)\n",
    "f"
   ]
  },
  {
   "cell_type": "code",
   "execution_count": null,
   "id": "ee3911b3-a6aa-4d1b-be73-b788976197b9",
   "metadata": {},
   "outputs": [],
   "source": [
    "f1=min({7,89,22,45,21,89})\n",
    "f1"
   ]
  },
  {
   "cell_type": "markdown",
   "id": "3402c81d-f328-4304-8cfe-f44a8b60c4d1",
   "metadata": {},
   "source": [
    "**iter()** - returns an iterator for a given object, this creates an object which can be iterated one element at a time"
   ]
  },
  {
   "cell_type": "code",
   "execution_count": null,
   "id": "854b8a90-b146-4a05-9866-8a19a4e0fce3",
   "metadata": {},
   "outputs": [],
   "source": [
    "g=iter(['G','O','O','D',' ', 'D','A','Y'])\n",
    "h=next(g)\n",
    "print(h)"
   ]
  },
  {
   "cell_type": "code",
   "execution_count": null,
   "id": "32ed4e45-0fc8-4e4a-9965-40b56d16279a",
   "metadata": {},
   "outputs": [],
   "source": [
    "h=next(g)\n",
    "print(h)"
   ]
  },
  {
   "cell_type": "code",
   "execution_count": null,
   "id": "2f14b3a8-3584-4ca5-8dc7-e4c66b86b0ab",
   "metadata": {},
   "outputs": [],
   "source": [
    "h=next(g)\n",
    "print(h)"
   ]
  },
  {
   "cell_type": "code",
   "execution_count": null,
   "id": "2069dbad-4332-4e51-8940-b852328ccfd5",
   "metadata": {},
   "outputs": [],
   "source": [
    "h=next(g)\n",
    "print(h)"
   ]
  },
  {
   "cell_type": "code",
   "execution_count": null,
   "id": "40de3b42-122c-4bc7-8456-00daae201c95",
   "metadata": {},
   "outputs": [],
   "source": [
    "h=next(g)\n",
    "print(h)"
   ]
  },
  {
   "cell_type": "code",
   "execution_count": null,
   "id": "321af313-f901-4b24-a805-003aecfb7f93",
   "metadata": {},
   "outputs": [],
   "source": [
    "h=next(g)\n",
    "print(h)"
   ]
  },
  {
   "cell_type": "markdown",
   "id": "bafe37c3-6e13-431c-8954-8a814a591072",
   "metadata": {},
   "source": [
    "**pow()** - returns the power of the given numbers\n"
   ]
  },
  {
   "cell_type": "code",
   "execution_count": null,
   "id": "ee745f60-2ef5-4c40-9773-e89652fb3403",
   "metadata": {},
   "outputs": [],
   "source": [
    "i=pow(2,4)\n",
    "i"
   ]
  },
  {
   "cell_type": "code",
   "execution_count": null,
   "id": "cd364047-68fe-4386-9f92-cb5b6c40ead5",
   "metadata": {},
   "outputs": [],
   "source": [
    "j=pow(3,4)\n",
    "j"
   ]
  },
  {
   "cell_type": "markdown",
   "id": "fb11b256-177d-431c-84de-98584ef78b02",
   "metadata": {},
   "source": [
    "**range()** - returns a sequence of number starting from 0 with an increament of 1 by default and stops before the given number"
   ]
  },
  {
   "cell_type": "code",
   "execution_count": null,
   "id": "1eb64b47-6adb-4c2f-8858-8d3144da25b7",
   "metadata": {},
   "outputs": [],
   "source": [
    "k=range(7)\n",
    "k"
   ]
  },
  {
   "cell_type": "code",
   "execution_count": null,
   "id": "52431408-6afb-4195-86eb-a61b402e64d0",
   "metadata": {},
   "outputs": [],
   "source": [
    "for x in k:\n",
    "    print(x)"
   ]
  },
  {
   "cell_type": "code",
   "execution_count": null,
   "id": "e518cc87-b6cc-4c9c-ab82-e23544ef7db3",
   "metadata": {},
   "outputs": [],
   "source": [
    "l=range(35,55,2) #giving a step size of 2, be default it is 1\n",
    "l"
   ]
  },
  {
   "cell_type": "code",
   "execution_count": null,
   "id": "42f765b1-17f1-45fc-a77a-8b249551c2e4",
   "metadata": {},
   "outputs": [],
   "source": [
    "for x in l:\n",
    "    print(x)"
   ]
  },
  {
   "cell_type": "markdown",
   "id": "828e4c81-2013-4b9b-8f9d-1284528a695b",
   "metadata": {},
   "source": [
    "**round()** - this rounds off a number to a given number of digits"
   ]
  },
  {
   "cell_type": "code",
   "execution_count": null,
   "id": "be9af9fe-98e9-4912-8811-e097ead1f250",
   "metadata": {},
   "outputs": [],
   "source": [
    "m=round(3.78285,2)"
   ]
  },
  {
   "cell_type": "code",
   "execution_count": null,
   "id": "caa525ce-5fea-4b33-9017-6195bbd25522",
   "metadata": {},
   "outputs": [],
   "source": [
    "m"
   ]
  },
  {
   "cell_type": "markdown",
   "id": "5d9aa493-58a6-4b9b-a7c6-23bf763e1b52",
   "metadata": {},
   "source": [
    "**sorted()** - returns sorted list of specified iterable object, ascending or descending"
   ]
  },
  {
   "cell_type": "code",
   "execution_count": null,
   "id": "03fd92bf-2c01-4663-a4bc-8cb2169d3a84",
   "metadata": {},
   "outputs": [],
   "source": [
    "n=['I','N','D','I','A']\n",
    "sorted(n)"
   ]
  },
  {
   "cell_type": "code",
   "execution_count": null,
   "id": "5fbc7db1-fb43-430f-8304-b1756390c63d",
   "metadata": {},
   "outputs": [],
   "source": [
    "sorted(n, reverse=True) # by using the other parameter, by default revserse is False"
   ]
  },
  {
   "cell_type": "code",
   "execution_count": null,
   "id": "bc36bcc9-e03c-4220-9472-1d77ab5f7d3f",
   "metadata": {},
   "outputs": [],
   "source": []
  },
  {
   "cell_type": "code",
   "execution_count": null,
   "id": "524f1a18-150c-4607-b339-e374c5fc21ea",
   "metadata": {},
   "outputs": [],
   "source": [
    "o=[33,22,11,45,67,44]\n",
    "sorted(o)"
   ]
  },
  {
   "cell_type": "code",
   "execution_count": null,
   "id": "c61cb911-84d0-4d28-b738-21960d94f6b4",
   "metadata": {},
   "outputs": [],
   "source": [
    "sorted(o,reverse=True)"
   ]
  },
  {
   "cell_type": "markdown",
   "id": "387c23cb-407a-4899-ae24-bfa93aaa21da",
   "metadata": {},
   "source": [
    "**slice()** - returns a portion of an iterable as an object of slice class based on the specified range"
   ]
  },
  {
   "cell_type": "code",
   "execution_count": null,
   "id": "2a2ec7ff-73e8-485b-9c44-7ec687240ff2",
   "metadata": {},
   "outputs": [],
   "source": [
    "p=(\"G\",\"R\",\"E\",\"A\",\"T\", \" \",\"L\",\"E\")"
   ]
  },
  {
   "cell_type": "code",
   "execution_count": null,
   "id": "d23e263e-3a53-4bb3-92bb-61bee4bb7bd3",
   "metadata": {},
   "outputs": [],
   "source": [
    "p1=slice(7)"
   ]
  },
  {
   "cell_type": "code",
   "execution_count": null,
   "id": "6f1c609e-df1f-4514-92fd-13000db076e2",
   "metadata": {},
   "outputs": [],
   "source": [
    "print(p[p1])"
   ]
  },
  {
   "cell_type": "markdown",
   "id": "8c81011c-7d6b-4944-a069-d0519660b78c",
   "metadata": {},
   "source": [
    "**USER-DEFINED FUNCTIONS**"
   ]
  },
  {
   "cell_type": "markdown",
   "id": "c7852087-6ef4-48c9-abb1-c111dbab0dd9",
   "metadata": {},
   "source": [
    "**Defining a Function**"
   ]
  },
  {
   "cell_type": "code",
   "execution_count": null,
   "id": "c4cc0f6b-b267-4a1d-9eb5-c3de3f1192e3",
   "metadata": {},
   "outputs": [],
   "source": [
    "def func01():\n",
    "    print(\"Good Morning!\")"
   ]
  },
  {
   "cell_type": "markdown",
   "id": "13255a0d-733b-47ae-9ae3-85d5e0e2dfb5",
   "metadata": {},
   "source": [
    "**Calling a Function**"
   ]
  },
  {
   "cell_type": "code",
   "execution_count": null,
   "id": "e122c2f4-8dbe-4786-841a-f57aca9272e4",
   "metadata": {},
   "outputs": [],
   "source": [
    "func01()"
   ]
  },
  {
   "cell_type": "code",
   "execution_count": null,
   "id": "fc23127f-13e9-41b5-87a7-d438819ef2a7",
   "metadata": {},
   "outputs": [],
   "source": [
    "def hello():\n",
    "    name=str(input(\"Enter your first name: \"))\n",
    "    print(\"Hello\" + \" \" + str(name))"
   ]
  },
  {
   "cell_type": "code",
   "execution_count": null,
   "id": "ff9f0bf2-6407-4fc8-992d-56c409852c6c",
   "metadata": {},
   "outputs": [],
   "source": [
    "hello()"
   ]
  },
  {
   "cell_type": "markdown",
   "id": "f7b3abf4-e9a5-42f5-97c6-6727349537af",
   "metadata": {},
   "source": [
    "**Functions using different parameters**"
   ]
  },
  {
   "cell_type": "code",
   "execution_count": null,
   "id": "2ee82315-3b4e-4eb1-8657-6241825229e4",
   "metadata": {},
   "outputs": [],
   "source": [
    "def feet_2_cm(ft):\n",
    "    centi = ft*30.48\n",
    "    return centi"
   ]
  },
  {
   "cell_type": "code",
   "execution_count": null,
   "id": "aa7bd981-f248-474b-b37e-ebbcaba9aab7",
   "metadata": {},
   "outputs": [],
   "source": [
    "feet_2_cm(2.5)"
   ]
  },
  {
   "cell_type": "code",
   "execution_count": null,
   "id": "3238573b-f82e-40ab-8a47-d5aba930c442",
   "metadata": {},
   "outputs": [],
   "source": [
    "feet_2_cm(5)"
   ]
  },
  {
   "cell_type": "markdown",
   "id": "d2edb9dd-0346-4bba-852c-9efddaa26753",
   "metadata": {},
   "source": [
    "**Adding**"
   ]
  },
  {
   "cell_type": "code",
   "execution_count": null,
   "id": "0c242183-e4bb-4c21-a2c0-12be2c8fcd9b",
   "metadata": {},
   "outputs": [],
   "source": [
    "def add(a,b):\n",
    "    sum=a+b\n",
    "    return sum"
   ]
  },
  {
   "cell_type": "code",
   "execution_count": null,
   "id": "4a926372-05f9-4c3c-8dd4-057f735eea4f",
   "metadata": {},
   "outputs": [],
   "source": [
    "add(35,45)"
   ]
  },
  {
   "cell_type": "code",
   "execution_count": null,
   "id": "d9ba9139-3192-413f-b4bc-dbbfc64334dd",
   "metadata": {},
   "outputs": [],
   "source": [
    "add(-5,10)"
   ]
  },
  {
   "cell_type": "code",
   "execution_count": null,
   "id": "c78bc461-7333-448a-9cf0-da27f0759186",
   "metadata": {},
   "outputs": [],
   "source": [
    "add(-5,-10)"
   ]
  },
  {
   "cell_type": "markdown",
   "id": "9888dbf3-2439-4cd0-ab3a-14657652f661",
   "metadata": {},
   "source": [
    "**Multiplication**"
   ]
  },
  {
   "cell_type": "code",
   "execution_count": null,
   "id": "1dcc1e7a-33e1-4a55-8afd-2fb22b69e841",
   "metadata": {},
   "outputs": [],
   "source": [
    "def multi(x,y):\n",
    "    prod=x*y\n",
    "    return prod"
   ]
  },
  {
   "cell_type": "code",
   "execution_count": null,
   "id": "337b5637-9ad2-464c-ad68-e53ae5cece6a",
   "metadata": {},
   "outputs": [],
   "source": [
    "multi(2,6)"
   ]
  },
  {
   "cell_type": "code",
   "execution_count": null,
   "id": "66c54b7a-c058-4fd5-af66-5071201c973f",
   "metadata": {},
   "outputs": [],
   "source": [
    "multi(2,-6)"
   ]
  },
  {
   "cell_type": "code",
   "execution_count": null,
   "id": "1a0f1372-c619-45c4-9c94-97188d0d6826",
   "metadata": {},
   "outputs": [],
   "source": [
    "multi(-2,-6)"
   ]
  },
  {
   "cell_type": "markdown",
   "id": "720ca4cd-f2fc-4dbe-9675-cb0fdeeb557d",
   "metadata": {},
   "source": [
    "**Absolute value of a number**"
   ]
  },
  {
   "cell_type": "code",
   "execution_count": null,
   "id": "c27343b6-f823-46cb-a6e6-2971ae63c9c8",
   "metadata": {},
   "outputs": [],
   "source": [
    "def absolute(a):\n",
    "    if a >=0:\n",
    "        return a\n",
    "    else:\n",
    "        return -a\n",
    "    "
   ]
  },
  {
   "cell_type": "code",
   "execution_count": null,
   "id": "34cc1b3a-3375-45f4-ba41-f0ef0d3b7a06",
   "metadata": {},
   "outputs": [],
   "source": [
    "absolute(11)"
   ]
  },
  {
   "cell_type": "code",
   "execution_count": null,
   "id": "87574e70-0935-4c1e-a393-cf4d27d2026f",
   "metadata": {},
   "outputs": [],
   "source": [
    "absolute(-21)"
   ]
  },
  {
   "cell_type": "markdown",
   "id": "f7e83fbb-f4b0-4a32-925a-1222656f11e0",
   "metadata": {},
   "source": [
    "**Factorial of a number**"
   ]
  },
  {
   "cell_type": "code",
   "execution_count": null,
   "id": "90e9da73-0cb4-4bfd-9211-76adb136654b",
   "metadata": {},
   "outputs": [],
   "source": [
    "def fact(a):\n",
    "    if a==0:\n",
    "        return 1\n",
    "    else:\n",
    "        return a* fact(a-1)"
   ]
  },
  {
   "cell_type": "code",
   "execution_count": null,
   "id": "d4bb6ccb-9f53-4854-8019-34e52b56dffd",
   "metadata": {},
   "outputs": [],
   "source": [
    "fact(0)"
   ]
  },
  {
   "cell_type": "code",
   "execution_count": null,
   "id": "b54493c2-d157-462e-b01f-a2b2a8c88c0f",
   "metadata": {},
   "outputs": [],
   "source": [
    "fact(2)"
   ]
  },
  {
   "cell_type": "code",
   "execution_count": null,
   "id": "6b519927-f844-4dfb-91a0-a823519e7396",
   "metadata": {},
   "outputs": [],
   "source": [
    "fact(4)"
   ]
  },
  {
   "cell_type": "code",
   "execution_count": null,
   "id": "656c060e-7e0c-440d-b84c-9e7a3d8af3cf",
   "metadata": {},
   "outputs": [],
   "source": [
    "fact(5)"
   ]
  },
  {
   "cell_type": "markdown",
   "id": "fd12ce29-92d0-4fea-a81d-f5204da1c503",
   "metadata": {},
   "source": [
    "**Default Arguments**"
   ]
  },
  {
   "cell_type": "code",
   "execution_count": null,
   "id": "69d545da-8654-42e7-8355-d8ab37d31ef8",
   "metadata": {},
   "outputs": [],
   "source": [
    "def hello(name='Anil'):\n",
    "    print(\"Hi\", name)"
   ]
  },
  {
   "cell_type": "code",
   "execution_count": null,
   "id": "54d8c49c-24bf-48ea-8744-6888f51019f4",
   "metadata": {},
   "outputs": [],
   "source": [
    "hello()"
   ]
  },
  {
   "cell_type": "code",
   "execution_count": null,
   "id": "2558d5a2-9b1f-4da4-90a9-43cac34c70cf",
   "metadata": {},
   "outputs": [],
   "source": [
    "hello('Ram')"
   ]
  },
  {
   "cell_type": "code",
   "execution_count": null,
   "id": "7bf16169-a338-4d49-b921-ebc231541fcd",
   "metadata": {},
   "outputs": [],
   "source": [
    "def test(name1, name2, name3):\n",
    "    print('Hello', name1, ', please convey', name2, 'is there and', name3, 'is great')"
   ]
  },
  {
   "cell_type": "code",
   "execution_count": null,
   "id": "def745eb-81b7-4b5a-855e-006ec3cbf628",
   "metadata": {},
   "outputs": [],
   "source": [
    "test('Ram','Rich','Greg')"
   ]
  },
  {
   "cell_type": "markdown",
   "id": "11517f4f-3fff-4194-b85d-9e6b60e7f66e",
   "metadata": {},
   "source": [
    "**Scope of Variables in a function**"
   ]
  },
  {
   "cell_type": "code",
   "execution_count": null,
   "id": "af0f6437-44c1-4320-ae94-49d0dbcb682c",
   "metadata": {},
   "outputs": [],
   "source": [
    "def func02():\n",
    "    z=6\n",
    "    print(x)"
   ]
  },
  {
   "cell_type": "code",
   "execution_count": null,
   "id": "90435479-aede-46a1-940c-8c7c0492d3b2",
   "metadata": {},
   "outputs": [],
   "source": [
    "func02()"
   ]
  },
  {
   "cell_type": "code",
   "execution_count": null,
   "id": "d2e8d261-e93a-413c-8bbb-8b1e99f93ac9",
   "metadata": {},
   "outputs": [],
   "source": [
    "z # unable to access as this is defined outside,w here are above z is defined inside a function"
   ]
  },
  {
   "cell_type": "code",
   "execution_count": null,
   "id": "692a94a4-01c5-4101-a2b1-ddff2a701743",
   "metadata": {},
   "outputs": [],
   "source": [
    "z=6\n",
    "def func03():\n",
    "    print(z)\n",
    "func03()"
   ]
  },
  {
   "cell_type": "code",
   "execution_count": null,
   "id": "9def30cd-e7a3-44b3-98b9-0d08485bab06",
   "metadata": {},
   "outputs": [],
   "source": [
    "z# able to access as it is defined outside as global"
   ]
  },
  {
   "cell_type": "code",
   "execution_count": null,
   "id": "196f6a71-e676-47d3-bb31-9573db207157",
   "metadata": {},
   "outputs": [],
   "source": [
    "z=6\n",
    "def func04():\n",
    "    z=z+1\n",
    "    print(z)\n",
    "func04()\n",
    "\n",
    "#we cannot change value of z from inside / local"
   ]
  },
  {
   "cell_type": "code",
   "execution_count": null,
   "id": "d24d67af-06b5-46dc-b539-845ba4a77320",
   "metadata": {},
   "outputs": [],
   "source": [
    "z=6\n",
    "def func05():\n",
    "    global z # this is how we can alter the value\n",
    "    z=z+1\n",
    "    print(z)\n",
    "func05()"
   ]
  },
  {
   "cell_type": "markdown",
   "id": "91d8c2ac-9303-4b17-8df7-35d420bfdc80",
   "metadata": {},
   "source": [
    "**asterisks** - is we do not know the number of arguments to pass in a function variable"
   ]
  },
  {
   "cell_type": "code",
   "execution_count": null,
   "id": "e24443e9-61cd-47e5-b250-188c94633cb3",
   "metadata": {},
   "outputs": [],
   "source": [
    "def ast(*names):\n",
    "    print(\"Hello\",names[0], ', ', names[1], ', ', names[2])"
   ]
  },
  {
   "cell_type": "code",
   "execution_count": null,
   "id": "a787bd01-8930-4d85-af9b-357593d5a0ce",
   "metadata": {},
   "outputs": [],
   "source": [
    "ast('Ram','Anil','Shivu')"
   ]
  },
  {
   "cell_type": "markdown",
   "id": "f6023cf4-e427-4406-b847-c8e6b39593de",
   "metadata": {},
   "source": [
    "**Area of a circle**"
   ]
  },
  {
   "cell_type": "code",
   "execution_count": null,
   "id": "bf39d171-e3aa-41b2-afdc-f26912148d48",
   "metadata": {},
   "outputs": [],
   "source": [
    "pi=3.14\n",
    "def circle_area(r):\n",
    "    return pi*r*r"
   ]
  },
  {
   "cell_type": "code",
   "execution_count": null,
   "id": "21236885-addb-46a8-b3bf-d898b9ea6ce8",
   "metadata": {},
   "outputs": [],
   "source": [
    "circle_area(2)"
   ]
  },
  {
   "cell_type": "code",
   "execution_count": null,
   "id": "fe91d689-617e-4384-9231-b2062a5727e9",
   "metadata": {},
   "outputs": [],
   "source": [
    "def sphere_area(r):\n",
    "    return 4*pi*r*r"
   ]
  },
  {
   "cell_type": "code",
   "execution_count": null,
   "id": "ad5a6ac2-cd6d-48f1-9ec5-0d195b3a8738",
   "metadata": {},
   "outputs": [],
   "source": [
    "sphere_area(2)"
   ]
  },
  {
   "cell_type": "code",
   "execution_count": null,
   "id": "e927de91-9cd7-48a0-8bbd-46b8bace96e9",
   "metadata": {},
   "outputs": [],
   "source": [
    "pi=3.14\n",
    "def circle_area(r):\n",
    "    return pi*r*r\n",
    "def sphere_area(r):\n",
    "    return 4*pi*r*r\n",
    "def main():\n",
    "    print(\"Circle area with radius 3:\", circle_area(3))\n",
    "    print(\"Sphere area with radius 3:\", sphere_area(3))"
   ]
  },
  {
   "cell_type": "code",
   "execution_count": null,
   "id": "5badc04f-859b-4089-8084-a0905cbacdd1",
   "metadata": {},
   "outputs": [],
   "source": [
    "main()"
   ]
  },
  {
   "cell_type": "markdown",
   "id": "d5ffe85f-f5ce-47e3-880a-ce9d223baad8",
   "metadata": {},
   "source": [
    "**Hands On**"
   ]
  },
  {
   "cell_type": "markdown",
   "id": "19e9cd5b-af4c-4f87-bd2f-636007d9c7f4",
   "metadata": {},
   "source": [
    "- Define\n",
    "- call"
   ]
  },
  {
   "cell_type": "code",
   "execution_count": null,
   "id": "eb6f51ed-e1a9-44bd-b127-0a0ae37a9f56",
   "metadata": {},
   "outputs": [],
   "source": [
    "def greet():\n",
    "    print(\"Hello Everyone!\")"
   ]
  },
  {
   "cell_type": "code",
   "execution_count": null,
   "id": "73d3c0c8-bfb7-49aa-9321-284f5f1ad41e",
   "metadata": {},
   "outputs": [],
   "source": [
    "greet()"
   ]
  },
  {
   "cell_type": "code",
   "execution_count": null,
   "id": "e3d06ccb-3cdf-4593-a7c2-7b795ab1e3ab",
   "metadata": {},
   "outputs": [],
   "source": [
    "def greet():\n",
    "    print(\"Hello Everyone!\")\n",
    "    print(\"How are you?\")"
   ]
  },
  {
   "cell_type": "code",
   "execution_count": null,
   "id": "a266de81-0a8a-44c2-be5d-5e9b901ed1c0",
   "metadata": {},
   "outputs": [],
   "source": [
    "greet()"
   ]
  },
  {
   "cell_type": "code",
   "execution_count": null,
   "id": "be98a248-32c5-4b95-a46a-c2eb9c35cdcb",
   "metadata": {},
   "outputs": [],
   "source": [
    "def greet():\n",
    "    print(\"Hello Everyone!\", end='')\n",
    "    print(\"How are you?\")"
   ]
  },
  {
   "cell_type": "code",
   "execution_count": null,
   "id": "ab65a20e-6246-4c6f-9db1-1ac3a2531540",
   "metadata": {},
   "outputs": [],
   "source": [
    "greet()"
   ]
  },
  {
   "cell_type": "code",
   "execution_count": null,
   "id": "e3428a6c-5597-4835-a9de-d35373c14d1d",
   "metadata": {},
   "outputs": [],
   "source": [
    "def greet(name):\n",
    "    print(\"Hello\", name)\n",
    "    print(\"How are you doing?\")\n"
   ]
  },
  {
   "cell_type": "code",
   "execution_count": null,
   "id": "30359b86-6c9a-4f28-92ac-29f37762607f",
   "metadata": {},
   "outputs": [],
   "source": [
    "greet()"
   ]
  },
  {
   "cell_type": "code",
   "execution_count": null,
   "id": "b29bbba9-85aa-4397-b349-56768865808c",
   "metadata": {},
   "outputs": [],
   "source": [
    "greet('Saquib')"
   ]
  },
  {
   "cell_type": "code",
   "execution_count": null,
   "id": "2acd1d37-afeb-4e70-9ff0-54249baaaf72",
   "metadata": {},
   "outputs": [],
   "source": [
    "def greet():\n",
    "    name=input(\"Enter the name\")\n",
    "    print(\"Hello\", name)\n",
    "    print(\"How are you doing?\")\n"
   ]
  },
  {
   "cell_type": "code",
   "execution_count": null,
   "id": "f05be96d-0105-4fa8-a81c-673ea8d051d8",
   "metadata": {},
   "outputs": [],
   "source": [
    "def greet(name):\n",
    "    print(\"Hello\", name)\n",
    "    print(\"How are you doing?\")"
   ]
  },
  {
   "cell_type": "code",
   "execution_count": null,
   "id": "633af1a2-5a62-45c8-88b4-036835716a6f",
   "metadata": {},
   "outputs": [],
   "source": [
    "greet(input('Enter Name:'))# not the right way"
   ]
  },
  {
   "cell_type": "code",
   "execution_count": null,
   "id": "2405d741-a0f0-4009-8bd1-5f66589cf2ae",
   "metadata": {},
   "outputs": [],
   "source": [
    "def greet():\n",
    "    print(\"Hello world\")"
   ]
  },
  {
   "cell_type": "code",
   "execution_count": null,
   "id": "c012bade-b768-4bcc-aa92-59c4c020f5ad",
   "metadata": {},
   "outputs": [],
   "source": [
    "a=greet()"
   ]
  },
  {
   "cell_type": "code",
   "execution_count": null,
   "id": "2dd6580c-a512-495d-ba6e-3190ff48c87a",
   "metadata": {},
   "outputs": [],
   "source": [
    "print(a)"
   ]
  },
  {
   "cell_type": "markdown",
   "id": "52a78768-7f95-4366-8797-9bb4320abfe7",
   "metadata": {},
   "source": [
    "**Note: The greet() function is not returning anything, it is just printing whatever is there**"
   ]
  },
  {
   "cell_type": "markdown",
   "id": "5d6f7939-a20b-4a9b-9509-57404ceb5327",
   "metadata": {},
   "source": [
    "**Square of a number**"
   ]
  },
  {
   "cell_type": "code",
   "execution_count": null,
   "id": "a3bd4cb0-abf9-49c9-8c1a-4f7100dc27f1",
   "metadata": {},
   "outputs": [],
   "source": [
    "def sqrit(x):\n",
    "    return x**2"
   ]
  },
  {
   "cell_type": "code",
   "execution_count": null,
   "id": "cc5dd900-86cc-4d6b-95ab-9b43b3f2acc0",
   "metadata": {},
   "outputs": [],
   "source": [
    "sqrit(5)"
   ]
  },
  {
   "cell_type": "code",
   "execution_count": null,
   "id": "e1c07f3b-b9e0-4a81-a4a1-4e3c246fad5e",
   "metadata": {},
   "outputs": [],
   "source": [
    "a=sqrit(5)"
   ]
  },
  {
   "cell_type": "code",
   "execution_count": null,
   "id": "965a139b-20e6-48ca-88bf-e4d170e29efe",
   "metadata": {},
   "outputs": [],
   "source": [
    "a # this is returning now"
   ]
  },
  {
   "cell_type": "code",
   "execution_count": null,
   "id": "fee0def6-b41e-448f-b4b5-e98ab3e3fa39",
   "metadata": {},
   "outputs": [],
   "source": [
    "#Exercise: take two numbers and add those two numbers\n"
   ]
  },
  {
   "cell_type": "code",
   "execution_count": null,
   "id": "333c4c11-746f-4506-ab2c-1cab8c3972a9",
   "metadata": {},
   "outputs": [],
   "source": [
    "def add(x,y):\n",
    "    return x+y"
   ]
  },
  {
   "cell_type": "code",
   "execution_count": null,
   "id": "336fcc18-15e6-4eba-a55b-c16da2c57a28",
   "metadata": {},
   "outputs": [],
   "source": [
    "add(10,23)"
   ]
  },
  {
   "cell_type": "markdown",
   "id": "dc731dde-005e-450a-a667-c19475699588",
   "metadata": {},
   "source": [
    "**1. Required Arguments**"
   ]
  },
  {
   "cell_type": "code",
   "execution_count": null,
   "id": "4704ae6f-7973-4880-8e3e-9a94740dccb9",
   "metadata": {},
   "outputs": [],
   "source": [
    "def add(x,y):\n",
    "    return x+y"
   ]
  },
  {
   "cell_type": "code",
   "execution_count": null,
   "id": "8cea7466-cdbb-4aa2-b99d-43e5e8fd01c1",
   "metadata": {},
   "outputs": [],
   "source": [
    "add()"
   ]
  },
  {
   "cell_type": "code",
   "execution_count": null,
   "id": "62c3e355-d441-4f24-83a3-47f95d1bb524",
   "metadata": {},
   "outputs": [],
   "source": [
    "add(5)"
   ]
  },
  {
   "cell_type": "code",
   "execution_count": null,
   "id": "df9247d2-7032-463b-ae82-65a0bae497a7",
   "metadata": {},
   "outputs": [],
   "source": [
    "add(5,10)"
   ]
  },
  {
   "cell_type": "code",
   "execution_count": null,
   "id": "144944ef-663e-441f-9b32-68a73aa8d4f2",
   "metadata": {},
   "outputs": [],
   "source": [
    "def fun1(x,y):\n",
    "    print(\"First number is\",x)\n",
    "    print(\"Second number is\", y)"
   ]
  },
  {
   "cell_type": "code",
   "execution_count": null,
   "id": "ad62adae-c760-4a45-8103-feb6974e1778",
   "metadata": {},
   "outputs": [],
   "source": [
    "fun1(10,30)"
   ]
  },
  {
   "cell_type": "markdown",
   "id": "546de7ca-60ed-4d60-9e48-2f9e62844b51",
   "metadata": {},
   "source": [
    "1. Calculating the Area of a Rectangle"
   ]
  },
  {
   "cell_type": "code",
   "execution_count": null,
   "id": "d9235fa6-87d5-4800-a3eb-b15072c5cc2f",
   "metadata": {},
   "outputs": [],
   "source": [
    "def calculate_area(length, width):\n",
    "    return length * width"
   ]
  },
  {
   "cell_type": "code",
   "execution_count": null,
   "id": "5fc45242-9bf3-4d24-aa4a-9110a9fc0b0a",
   "metadata": {},
   "outputs": [],
   "source": []
  },
  {
   "cell_type": "code",
   "execution_count": null,
   "id": "5c1f4512-a785-40a1-a7ff-8f079b6d9d75",
   "metadata": {},
   "outputs": [],
   "source": [
    "area = calculate_area(10, 5)\n",
    "print(area)"
   ]
  },
  {
   "cell_type": "markdown",
   "id": "2a0f2d2f-32d8-4856-9494-9180079eac87",
   "metadata": {},
   "source": [
    "2. Sending an Email"
   ]
  },
  {
   "cell_type": "code",
   "execution_count": null,
   "id": "dc8d3af8-89fd-478a-ac39-65934f9ab620",
   "metadata": {},
   "outputs": [],
   "source": [
    "def send_email(recipient, message):\n",
    "    print(f\"Sending email to {recipient}: {message}\")"
   ]
  },
  {
   "cell_type": "code",
   "execution_count": null,
   "id": "92e9be43-188d-4975-94ae-d7d654abdb18",
   "metadata": {},
   "outputs": [],
   "source": [
    "send_email(\"saquib@example.com\", \"Hello John, this is a test email.\")"
   ]
  },
  {
   "cell_type": "markdown",
   "id": "03590741-3c4c-4684-892c-17de30c1d8d3",
   "metadata": {},
   "source": [
    "**2. Keyword Arguments**"
   ]
  },
  {
   "cell_type": "code",
   "execution_count": null,
   "id": "10f80410-4067-41bc-8727-1915ca9d2cbf",
   "metadata": {},
   "outputs": [],
   "source": [
    "def func2(firstname, lastname):\n",
    "    print(firstname, lastname)"
   ]
  },
  {
   "cell_type": "code",
   "execution_count": null,
   "id": "4ae76f6c-710f-4165-85dd-c095ca79f876",
   "metadata": {},
   "outputs": [],
   "source": [
    "func2('Saquib','Rafeeq')"
   ]
  },
  {
   "cell_type": "code",
   "execution_count": null,
   "id": "3acfd70c-ace4-4195-b52d-e3de0361d556",
   "metadata": {},
   "outputs": [],
   "source": [
    "func2(lastname='Saquib',firstname='Rafeeq')"
   ]
  },
  {
   "cell_type": "markdown",
   "id": "112d249f-e955-4fb8-b884-bedb4ac00831",
   "metadata": {},
   "source": [
    "1. Creating a User Profile"
   ]
  },
  {
   "cell_type": "code",
   "execution_count": null,
   "id": "10f3cff1-6fb2-40f4-9d2c-4a8640359b40",
   "metadata": {},
   "outputs": [],
   "source": [
    "def create_user_profile(name, email, age=None, city=None):\n",
    "    print(f\"Name: {name}, Email: {email}, Age: {age}, City: {city}\")\n"
   ]
  },
  {
   "cell_type": "code",
   "execution_count": null,
   "id": "eb712be1-1047-433c-a182-4bc3839b3d84",
   "metadata": {},
   "outputs": [],
   "source": [
    "create_user_profile(\"Saquib\", \"saquib@example.com\", age=30, city=\"New York\")"
   ]
  },
  {
   "cell_type": "markdown",
   "id": "7ff8d0e0-2fb5-4cb8-9359-a2e17a67a130",
   "metadata": {},
   "source": [
    "**3. Default Arguments**"
   ]
  },
  {
   "cell_type": "code",
   "execution_count": null,
   "id": "f125d98b-52ca-45cd-a309-741d445093e5",
   "metadata": {},
   "outputs": [],
   "source": [
    "def employee(e_name, e_age=25):\n",
    "    print(\"Employee name is\",e_name)\n",
    "    print(\"Employee age is\", e_age)"
   ]
  },
  {
   "cell_type": "code",
   "execution_count": null,
   "id": "23512d73-b326-427e-8e3f-7aec7104647d",
   "metadata": {},
   "outputs": [],
   "source": [
    "employee('Rafeeq')"
   ]
  },
  {
   "cell_type": "code",
   "execution_count": null,
   "id": "b25050d6-1862-41a7-9e48-4b4e6a70b905",
   "metadata": {},
   "outputs": [],
   "source": [
    "employee(\"Rahul\", 20)"
   ]
  },
  {
   "cell_type": "markdown",
   "id": "0be04fea-e08a-4582-92b6-fa2aa8adfab5",
   "metadata": {},
   "source": [
    "1. Greeting Users with a Default Message"
   ]
  },
  {
   "cell_type": "code",
   "execution_count": null,
   "id": "4ce1d088-aa00-428b-8e45-554b48ecf070",
   "metadata": {},
   "outputs": [],
   "source": [
    "def greet_user(name, greeting=\"Hello\"):\n",
    "    print(f\"{greeting}, {name}!\")"
   ]
  },
  {
   "cell_type": "code",
   "execution_count": null,
   "id": "59a11248-d633-4608-abdc-32526d7fcd34",
   "metadata": {},
   "outputs": [],
   "source": [
    "greet_user(\"Saquib\")"
   ]
  },
  {
   "cell_type": "code",
   "execution_count": null,
   "id": "11dc119b-cb5c-4307-9ec9-b563fb081b68",
   "metadata": {},
   "outputs": [],
   "source": [
    "greet_user(\"Saquib\", greeting=\"Good Morning\") "
   ]
  },
  {
   "cell_type": "markdown",
   "id": "c03f9955-51f9-4240-9217-f4bd03dc1168",
   "metadata": {},
   "source": [
    "**4.Variable Length Arguments**\n",
    "1. Arguments\n",
    "2. Keyword Arguments"
   ]
  },
  {
   "cell_type": "markdown",
   "id": "2b2337da-c697-456b-b429-543fc8cc95dc",
   "metadata": {},
   "source": [
    "*Args - when you need arguments more than one values"
   ]
  },
  {
   "cell_type": "code",
   "execution_count": null,
   "id": "77070eb2-ed69-4621-ab78-5448ed1b54a8",
   "metadata": {},
   "outputs": [],
   "source": [
    "def greet(name):\n",
    "    print(\"Hello\", name)"
   ]
  },
  {
   "cell_type": "code",
   "execution_count": null,
   "id": "57cfb53c-3860-489f-b3ef-4dd2d949e309",
   "metadata": {},
   "outputs": [],
   "source": [
    "greet('Rahul')"
   ]
  },
  {
   "cell_type": "code",
   "execution_count": null,
   "id": "613f43d1-d23d-4c04-9056-951eeca2b84d",
   "metadata": {},
   "outputs": [],
   "source": [
    "greet('Rahul','Ajay)"
   ]
  },
  {
   "cell_type": "code",
   "execution_count": null,
   "id": "601de3d0-8a5b-49e4-82c5-128c79daa9df",
   "metadata": {},
   "outputs": [],
   "source": [
    "def new_greet(*name):\n",
    "    for a in name:\n",
    "        print(a)"
   ]
  },
  {
   "cell_type": "code",
   "execution_count": null,
   "id": "71190d4b-0eb4-4888-a4c5-907f89120a88",
   "metadata": {},
   "outputs": [],
   "source": [
    "new_greet('Rahul')"
   ]
  },
  {
   "cell_type": "code",
   "execution_count": null,
   "id": "d4699f72-bd92-49ea-876f-848dae3b096f",
   "metadata": {},
   "outputs": [],
   "source": [
    "new_greet('Rahul','Sharma','Vivek')"
   ]
  },
  {
   "cell_type": "code",
   "execution_count": null,
   "id": "a77f37a7-7906-4a2e-8c4b-8254cc69b85c",
   "metadata": {},
   "outputs": [],
   "source": [
    "def new_greet(*name):\n",
    "    print(*name)"
   ]
  },
  {
   "cell_type": "code",
   "execution_count": null,
   "id": "7843e6e8-5134-4bb4-854c-533d4272384a",
   "metadata": {},
   "outputs": [],
   "source": [
    "new_greet('Saquib','Rafeeq','Rahul','sandeep')"
   ]
  },
  {
   "cell_type": "code",
   "execution_count": null,
   "id": "59e0e2c8-5c29-4433-b1a9-9adea95c7e6f",
   "metadata": {},
   "outputs": [],
   "source": [
    "def new_greet(*name):\n",
    "    print(type(name))"
   ]
  },
  {
   "cell_type": "code",
   "execution_count": null,
   "id": "603a7868-d6a6-4e77-88d9-2868b123dbc8",
   "metadata": {},
   "outputs": [],
   "source": [
    "new_greet('Saquib','Rafeeq','Rahul','sandeep')"
   ]
  },
  {
   "cell_type": "code",
   "execution_count": null,
   "id": "b7032a0d-6eb4-4ef3-b806-fb5947f0b7f9",
   "metadata": {},
   "outputs": [],
   "source": [
    "#it keep data as a tuple"
   ]
  },
  {
   "cell_type": "code",
   "execution_count": null,
   "id": "402a7e6f-ba93-40a7-b533-df352258c70f",
   "metadata": {},
   "outputs": [],
   "source": [
    "#exercise: We are passing multiple original price of goods,function is returning the values as well as GST added value(18%)"
   ]
  },
  {
   "cell_type": "code",
   "execution_count": null,
   "id": "fc694618-7c77-482b-ad30-5c9c3abcf406",
   "metadata": {},
   "outputs": [],
   "source": [
    "def gst(*price):\n",
    "    for v in price:\n",
    "        print(\"The value is\",v, \"and including gst it is\", v*1.18)\n"
   ]
  },
  {
   "cell_type": "code",
   "execution_count": null,
   "id": "8fbe9835-50cd-4697-aca5-e52ef8d90442",
   "metadata": {},
   "outputs": [],
   "source": [
    "gst(100,200,300)"
   ]
  },
  {
   "cell_type": "markdown",
   "id": "7c0d0e92-db28-49bc-812d-13968976fa80",
   "metadata": {},
   "source": [
    "#Create a function where the user is passing, greeting text and series of names)\n",
    "\n",
    "#Output Hello\n",
    "\n",
    "**fun1(\"Hello\", 'Saquib','Rafeeq')**\n",
    "\n",
    "Hello, How are you Saquib\n",
    "\n",
    "Hello, How are you Rafeeq\n",
    "\n",
    "**fun1(\"Hi\", 'Saquib','Rafeeq')**\n",
    "\n",
    "Hi, How are you Saquib\n",
    "\n",
    "hi, How are you Rafeeq"
   ]
  },
  {
   "cell_type": "code",
   "execution_count": null,
   "id": "3b349703-501d-4069-b362-47f1c6a62ee5",
   "metadata": {},
   "outputs": [],
   "source": [
    "def greet(*args):\n",
    "    for x in args[1:]:\n",
    "        print(args[0],\"How are you\",(x))"
   ]
  },
  {
   "cell_type": "code",
   "execution_count": null,
   "id": "9ecd2f6d-b3f9-4ed1-8917-9ccb427edec9",
   "metadata": {},
   "outputs": [],
   "source": [
    "greet(\"Hello\",\"Saquib\",\"Rafeeq\")"
   ]
  },
  {
   "cell_type": "code",
   "execution_count": null,
   "id": "5d4c2bff-73b6-46d1-9c85-b7b6af063d7a",
   "metadata": {},
   "outputs": [],
   "source": [
    "def greet_dis(*args,greet_msg):\n",
    "    for names in greet_msg:\n",
    "        print(args[0],names)"
   ]
  },
  {
   "cell_type": "code",
   "execution_count": null,
   "id": "9d37af2c-3726-4f4a-804c-747789c99573",
   "metadata": {},
   "outputs": [],
   "source": [
    "greet_dis(\"Hi\", greet_msg=['Name1','Name2','Name3'])"
   ]
  },
  {
   "cell_type": "markdown",
   "id": "61bd3ba5-fbf4-4378-bd53-a4481e1718cf",
   "metadata": {},
   "source": [
    "1. Summing an Arbitrary Number of Numbers"
   ]
  },
  {
   "cell_type": "code",
   "execution_count": null,
   "id": "97c29125-30be-4ee1-81e7-3418de7ff77b",
   "metadata": {},
   "outputs": [],
   "source": [
    "def sum_numbers(*args):\n",
    "    return sum(args)"
   ]
  },
  {
   "cell_type": "code",
   "execution_count": null,
   "id": "15bef937-5897-4516-affd-84a881e6e75c",
   "metadata": {},
   "outputs": [],
   "source": [
    "print(sum_numbers(1, 2, 3)) "
   ]
  },
  {
   "cell_type": "code",
   "execution_count": null,
   "id": "06e18762-3d9c-4eaa-bd66-74f1bb46b8fc",
   "metadata": {},
   "outputs": [],
   "source": [
    "print(sum_numbers(5, 10, 15, 20)) "
   ]
  },
  {
   "cell_type": "markdown",
   "id": "99810e26-d657-4f91-8c32-3bfeac9fb174",
   "metadata": {},
   "source": [
    "**Keyword Args Kwargs**"
   ]
  },
  {
   "cell_type": "code",
   "execution_count": null,
   "id": "cd829438-af24-4135-8f4e-101496231722",
   "metadata": {},
   "outputs": [],
   "source": [
    "def func(**kwargs):\n",
    "    for k,v in kwargs.items():\n",
    "        print('Keyword is', k)\n",
    "        print('Value is', v)\n",
    "    \n",
    "    "
   ]
  },
  {
   "cell_type": "code",
   "execution_count": null,
   "id": "474bcdd5-ccf1-4878-aab6-bd47fc6bd85f",
   "metadata": {},
   "outputs": [],
   "source": [
    "func(name='saquib',age=20)"
   ]
  },
  {
   "cell_type": "markdown",
   "id": "4f5e1f15-b087-499b-a610-41f7942ea840",
   "metadata": {},
   "source": [
    "**Lambda**"
   ]
  },
  {
   "cell_type": "markdown",
   "id": "36e0da5c-8263-415a-aec8-a487df67cc06",
   "metadata": {},
   "source": [
    "Anonymous function, no name, can have multiple arguments"
   ]
  },
  {
   "cell_type": "markdown",
   "id": "3718a74f-9050-4cbe-8e6f-94e7e4db772c",
   "metadata": {},
   "source": [
    "lambda arguments:expression"
   ]
  },
  {
   "cell_type": "code",
   "execution_count": null,
   "id": "203d55b9-9354-48a7-9d54-5e90aeeea468",
   "metadata": {},
   "outputs": [],
   "source": [
    "func1=lambda x:x+10"
   ]
  },
  {
   "cell_type": "code",
   "execution_count": null,
   "id": "c62bf63b-ead8-49e1-949b-89c6ec5beb5f",
   "metadata": {},
   "outputs": [],
   "source": [
    "func1(10)"
   ]
  },
  {
   "cell_type": "code",
   "execution_count": null,
   "id": "a4f3e32f-b7f1-480d-b248-624ca9dc722e",
   "metadata": {},
   "outputs": [],
   "source": [
    "adder=lambda x,y:x+y"
   ]
  },
  {
   "cell_type": "code",
   "execution_count": null,
   "id": "ddfc197a-52d2-4c3a-9fc8-0dae364a70e3",
   "metadata": {},
   "outputs": [],
   "source": [
    "adder(16,20)"
   ]
  },
  {
   "cell_type": "code",
   "execution_count": null,
   "id": "d567ec3f-29f5-44a4-9550-e22fd3e743fd",
   "metadata": {},
   "outputs": [],
   "source": [
    "fun1=lambda :print(\"Hello\") # like a empty function"
   ]
  },
  {
   "cell_type": "code",
   "execution_count": null,
   "id": "3d48f2c3-3ab4-4e2e-be51-51da685fdb2e",
   "metadata": {},
   "outputs": [],
   "source": [
    "fun1()"
   ]
  },
  {
   "cell_type": "markdown",
   "id": "a64d137a-f13c-4b35-a83e-2b5cf4572299",
   "metadata": {},
   "source": [
    "**map with lambda**"
   ]
  },
  {
   "cell_type": "markdown",
   "id": "1b34dee5-a5d1-4f64-af09-f8ad8438ef26",
   "metadata": {},
   "source": [
    "- map Perform Opeartion one by one\n",
    "- filter - filter and perform operation\n",
    "- reduce - give one value"
   ]
  },
  {
   "cell_type": "code",
   "execution_count": null,
   "id": "226c0bbb-6e51-494e-b960-d6dd071c83fc",
   "metadata": {},
   "outputs": [],
   "source": [
    "l1=[10,20,30,40,50]"
   ]
  },
  {
   "cell_type": "code",
   "execution_count": null,
   "id": "706e4728-c717-43a9-80eb-fd22d3ebd52d",
   "metadata": {},
   "outputs": [],
   "source": [
    "[i**2 for i in l1]"
   ]
  },
  {
   "cell_type": "code",
   "execution_count": null,
   "id": "95bbf727-8699-4004-a5b6-ca4c5e7b9cfe",
   "metadata": {},
   "outputs": [],
   "source": [
    "list(map(lambda x: x**2,l1))"
   ]
  },
  {
   "cell_type": "code",
   "execution_count": null,
   "id": "f97a9646-feea-49c1-851e-71341860f5cd",
   "metadata": {},
   "outputs": [],
   "source": [
    "map(lambda x: x**2,l1)"
   ]
  },
  {
   "cell_type": "code",
   "execution_count": null,
   "id": "117bba0e-3089-4f05-99ce-d371feb0979f",
   "metadata": {},
   "outputs": [],
   "source": [
    "l2=[10,25,44,23,66,15,89,5,45,34,54]"
   ]
  },
  {
   "cell_type": "code",
   "execution_count": null,
   "id": "013c714b-6c78-4bed-8219-7debdcb30860",
   "metadata": {},
   "outputs": [],
   "source": [
    "[True if i>20 else False for i in l2]"
   ]
  },
  {
   "cell_type": "code",
   "execution_count": null,
   "id": "32e57706-14f3-4c8d-b4a9-5e4d02b8011c",
   "metadata": {},
   "outputs": [],
   "source": [
    "list(map(lambda x: True if x>20 else False, l2))"
   ]
  },
  {
   "cell_type": "code",
   "execution_count": null,
   "id": "d3783129-360d-4939-8a2b-e58b26587fb8",
   "metadata": {},
   "outputs": [],
   "source": [
    "l1=[10,20,30,40]\n",
    "l2=[40,30,20,10]"
   ]
  },
  {
   "cell_type": "code",
   "execution_count": null,
   "id": "15921fc5-e5b9-4021-9529-c946b92aa607",
   "metadata": {},
   "outputs": [],
   "source": [
    "list(map(lambda x,y:x+y, l1,l2))"
   ]
  },
  {
   "cell_type": "code",
   "execution_count": null,
   "id": "cb7293c8-5357-41c8-979c-c052a0c04c9b",
   "metadata": {},
   "outputs": [],
   "source": [
    "l1=[10,20,30,40,50]\n",
    "l2=[40,30,20,10]"
   ]
  },
  {
   "cell_type": "code",
   "execution_count": null,
   "id": "0f3ee2b3-ed18-4399-a436-abc2911d59e0",
   "metadata": {},
   "outputs": [],
   "source": [
    "list(map(lambda x,y:x+y, l1,l2))"
   ]
  },
  {
   "cell_type": "markdown",
   "id": "79c837a8-ea76-4719-a6e4-9d047881f818",
   "metadata": {},
   "source": [
    "- Data Transformation\n",
    "\n",
    "Scenario: You have a list of prices in dollars and want to convert them to euros using a fixed exchange rate.\n",
    "- Formatting Data for Display\n",
    " \n",
    "Scenario: You have a list of names and need to format them to title case before displaying them on a website.\n",
    "- Applying Functions to Multiple Lists\n",
    " \n",
    "Scenario: You want to calculate the final score of students by adding marks from multiple subjects."
   ]
  },
  {
   "cell_type": "markdown",
   "id": "0f46fcd5-89b5-4e02-9378-f85ab8bebb25",
   "metadata": {},
   "source": [
    "**filter with lambda**"
   ]
  },
  {
   "cell_type": "code",
   "execution_count": null,
   "id": "2c11fabf-f63d-475d-9d27-18b4c05d9b38",
   "metadata": {},
   "outputs": [],
   "source": [
    "l2=[10,25,44,23,66,15,89,5,45,34,54]"
   ]
  },
  {
   "cell_type": "code",
   "execution_count": null,
   "id": "d9ca74df-0ed7-45c8-9b2a-12669d5187a1",
   "metadata": {},
   "outputs": [],
   "source": [
    "list(filter(lambda x:x>20,l2))"
   ]
  },
  {
   "cell_type": "code",
   "execution_count": null,
   "id": "81f070b0-443a-4fc7-8a3f-38f32d903e5c",
   "metadata": {},
   "outputs": [],
   "source": [
    "list(filter(lambda x:x<40,l2))"
   ]
  },
  {
   "cell_type": "code",
   "execution_count": null,
   "id": "31ebd45e-0ffe-42ec-9075-bbcfe97fe460",
   "metadata": {},
   "outputs": [],
   "source": [
    "list(filter(lambda x:x%2==0,l2))"
   ]
  },
  {
   "cell_type": "code",
   "execution_count": null,
   "id": "f6698ef8-6751-48ca-8d47-e68c33c9cdf3",
   "metadata": {},
   "outputs": [],
   "source": [
    "list(filter(lambda x:x%2==1,l2))"
   ]
  },
  {
   "cell_type": "markdown",
   "id": "e0d123a4-6040-43b4-b696-88f0fdae9159",
   "metadata": {},
   "source": [
    "- Filtering Out Odd Numbers\n",
    "\n",
    "Scenario: You have a list of numbers and need to filter out only the even numbers.\n",
    "\n",
    "- Filtering Active Users\n",
    "  \n",
    "Scenario: You have a list of user data and want to filter out only the users who are marked as active\n",
    "\n",
    "- Filtering Products by Price\n",
    "  \n",
    "Scenario: You have a list of products and want to filter out products priced below a certain threshold."
   ]
  },
  {
   "cell_type": "markdown",
   "id": "e94d06e5-3e34-4643-b81d-3f1def54b72c",
   "metadata": {},
   "source": [
    "**Reduce with Lambda**"
   ]
  },
  {
   "cell_type": "code",
   "execution_count": null,
   "id": "78793279-bfba-4c9c-af4b-e9083b64825f",
   "metadata": {},
   "outputs": [],
   "source": [
    "from functools import reduce"
   ]
  },
  {
   "cell_type": "code",
   "execution_count": null,
   "id": "446c86df-21bb-4412-a499-4e82f207fe35",
   "metadata": {},
   "outputs": [],
   "source": [
    "l1=[1,2,3,4,5]"
   ]
  },
  {
   "cell_type": "code",
   "execution_count": null,
   "id": "26487f85-8877-42b5-a6e9-cc52149f360e",
   "metadata": {},
   "outputs": [],
   "source": [
    "reduce(lambda x,y: x+y,l1)"
   ]
  },
  {
   "cell_type": "code",
   "execution_count": null,
   "id": "06768e38-3b72-4adc-b283-085247fd5e4e",
   "metadata": {},
   "outputs": [],
   "source": [
    "l2=[10,25,44,23,66,15,89,5,45,34,54]"
   ]
  },
  {
   "cell_type": "code",
   "execution_count": null,
   "id": "b5221ccc-66ea-4dbc-affc-57b3a23c7ed3",
   "metadata": {},
   "outputs": [],
   "source": [
    "reduce(lambda x,y: x+y,l2)"
   ]
  },
  {
   "cell_type": "markdown",
   "id": "b821898c-fe71-4cfa-884f-aae3b5c7c427",
   "metadata": {},
   "source": [
    "- Cumulative Sum of Transactions\n",
    "\n",
    "Scenario: You need to calculate the total spending from a list of transactions.\n",
    "\n",
    "- Finding the Maximum Value\n",
    "  \n",
    "Scenario: You have a list of temperatures and need to find the highest temperature recorded."
   ]
  },
  {
   "cell_type": "markdown",
   "id": "570af365-2e3e-4205-85d6-8f91fd7fddf0",
   "metadata": {},
   "source": [
    "**Accumulate with lambda**"
   ]
  },
  {
   "cell_type": "code",
   "execution_count": null,
   "id": "e1b3849e-675d-4245-b583-b36c0c1d717a",
   "metadata": {},
   "outputs": [],
   "source": [
    "from itertools import accumulate"
   ]
  },
  {
   "cell_type": "code",
   "execution_count": null,
   "id": "9a4b73df-426a-4cd3-8b0d-a0f8897a9c36",
   "metadata": {},
   "outputs": [],
   "source": [
    "l1=[1,2,3,4,5]"
   ]
  },
  {
   "cell_type": "code",
   "execution_count": null,
   "id": "ca728440-e3f7-4118-abca-fb96fc44665a",
   "metadata": {},
   "outputs": [],
   "source": [
    "list(accumulate(l1,lambda x,y:x+y))"
   ]
  },
  {
   "cell_type": "markdown",
   "id": "ed9bbfe9-811a-4e3e-b84f-7aa162b2bf93",
   "metadata": {},
   "source": [
    "- Running Total of Sales\n",
    "  \n",
    "Scenario: You want to calculate the cumulative sales over days to track performance over time.\n",
    "\n",
    "- Cumulative Maximum Stock Price\n",
    "\n",
    "Scenario: You are tracking stock prices over a week and want to calculate the running maximum to analyze the peak price.\n",
    "\n",
    "- Running Product for Factorial Calculation\n",
    "  \n",
    "Scenario: You want to compute the factorial of a number by calculating the running product of integers up to that number."
   ]
  },
  {
   "cell_type": "markdown",
   "id": "b70ddebd-9a1e-4651-a699-a6cd1670b327",
   "metadata": {},
   "source": [
    "**Scope of variable**"
   ]
  },
  {
   "cell_type": "code",
   "execution_count": 11,
   "id": "6758dee8-fe17-437c-aa36-c48756b3cb7a",
   "metadata": {},
   "outputs": [],
   "source": [
    "x=1\n",
    "def func():\n",
    "    print(x)\n",
    "    x=2\n"
   ]
  },
  {
   "cell_type": "code",
   "execution_count": 15,
   "id": "6fc48a9f-e9a5-4e2f-8c09-ed787300e150",
   "metadata": {},
   "outputs": [
    {
     "ename": "TypeError",
     "evalue": "func() takes 0 positional arguments but 1 was given",
     "output_type": "error",
     "traceback": [
      "\u001b[1;31m---------------------------------------------------------------------------\u001b[0m",
      "\u001b[1;31mTypeError\u001b[0m                                 Traceback (most recent call last)",
      "Cell \u001b[1;32mIn[15], line 1\u001b[0m\n\u001b[1;32m----> 1\u001b[0m func(x)\n",
      "\u001b[1;31mTypeError\u001b[0m: func() takes 0 positional arguments but 1 was given"
     ]
    }
   ],
   "source": []
  },
  {
   "cell_type": "code",
   "execution_count": 9,
   "id": "3f817c93-31a5-4c31-8780-c215497b5a5f",
   "metadata": {},
   "outputs": [],
   "source": [
    "#built in scope\n",
    "#all those functions that are available as soon as we start the python interpreter\n"
   ]
  },
  {
   "cell_type": "code",
   "execution_count": 3,
   "id": "a088a98e-02a5-45e2-b103-ba2328d621c5",
   "metadata": {},
   "outputs": [],
   "source": [
    "#global scope\n",
    "#can be accessed anywhere in that file\n",
    "a=1\n",
    "def abc():\n",
    "    y=12\n",
    "    print('x',x)\n",
    "    print('y',y)"
   ]
  },
  {
   "cell_type": "code",
   "execution_count": 5,
   "id": "272a47cf-c43e-4407-b158-a6ced8f1d96b",
   "metadata": {},
   "outputs": [
    {
     "ename": "NameError",
     "evalue": "name 'x' is not defined",
     "output_type": "error",
     "traceback": [
      "\u001b[1;31m---------------------------------------------------------------------------\u001b[0m",
      "\u001b[1;31mNameError\u001b[0m                                 Traceback (most recent call last)",
      "Cell \u001b[1;32mIn[5], line 1\u001b[0m\n\u001b[1;32m----> 1\u001b[0m abc()\n",
      "Cell \u001b[1;32mIn[3], line 6\u001b[0m, in \u001b[0;36mabc\u001b[1;34m()\u001b[0m\n\u001b[0;32m      4\u001b[0m \u001b[38;5;28;01mdef\u001b[39;00m \u001b[38;5;21mabc\u001b[39m():\n\u001b[0;32m      5\u001b[0m     y\u001b[38;5;241m=\u001b[39m\u001b[38;5;241m12\u001b[39m\n\u001b[1;32m----> 6\u001b[0m     \u001b[38;5;28mprint\u001b[39m(\u001b[38;5;124m'\u001b[39m\u001b[38;5;124mx\u001b[39m\u001b[38;5;124m'\u001b[39m,x)\n\u001b[0;32m      7\u001b[0m     \u001b[38;5;28mprint\u001b[39m(\u001b[38;5;124m'\u001b[39m\u001b[38;5;124my\u001b[39m\u001b[38;5;124m'\u001b[39m,y)\n",
      "\u001b[1;31mNameError\u001b[0m: name 'x' is not defined"
     ]
    }
   ],
   "source": [
    "abc()"
   ]
  },
  {
   "cell_type": "code",
   "execution_count": null,
   "id": "aec14ab3-a308-4a89-a945-764d6b06f652",
   "metadata": {},
   "outputs": [],
   "source": [
    "\n",
    "def abc():\n",
    "    y=12\n",
    "    print('x',a)\n",
    "    print('y',y)\n",
    "x=1"
   ]
  },
  {
   "cell_type": "code",
   "execution_count": null,
   "id": "b51d5f47-37c7-4051-bbbd-ef4e34ffccd8",
   "metadata": {},
   "outputs": [],
   "source": [
    "abc()"
   ]
  },
  {
   "cell_type": "code",
   "execution_count": 17,
   "id": "92130a9e-21bf-4a02-a8b5-d5033f3c1572",
   "metadata": {},
   "outputs": [],
   "source": [
    "x=1\n",
    "def abc():\n",
    "    y=12\n",
    "    x=2\n",
    "    print('x',x)\n",
    "    print('y',y)"
   ]
  },
  {
   "cell_type": "code",
   "execution_count": 19,
   "id": "485fc005-0ed7-4d16-b023-19201a80ee6e",
   "metadata": {},
   "outputs": [
    {
     "name": "stdout",
     "output_type": "stream",
     "text": [
      "x 2\n",
      "y 12\n"
     ]
    }
   ],
   "source": [
    "abc()"
   ]
  },
  {
   "cell_type": "code",
   "execution_count": 23,
   "id": "8ff72537-6f1d-4c5e-a5e5-d7d8e7f8e3a8",
   "metadata": {},
   "outputs": [
    {
     "name": "stdout",
     "output_type": "stream",
     "text": [
      "x 2\n",
      "y 12\n",
      "global x 1\n"
     ]
    }
   ],
   "source": [
    "x=1\n",
    "def abc():\n",
    "    y=12\n",
    "    x=2\n",
    "    print('x',x)\n",
    "    print('y',y)\n",
    "abc()\n",
    "print(\"global x\",x)"
   ]
  },
  {
   "cell_type": "code",
   "execution_count": null,
   "id": "9d885048-3b2d-46d3-80f7-4c7f24d17cf3",
   "metadata": {},
   "outputs": [],
   "source": [
    "abc()"
   ]
  },
  {
   "cell_type": "code",
   "execution_count": 25,
   "id": "b14ecf1a-2cf0-4f51-9c1c-be6fb2e4b927",
   "metadata": {},
   "outputs": [],
   "source": [
    "##\n",
    "x=1\n",
    "def abc():\n",
    "    global x # not good habit\n",
    "    y=12\n",
    "    x=2\n",
    "    print('x',x)\n",
    "    print('y',y)"
   ]
  },
  {
   "cell_type": "code",
   "execution_count": 27,
   "id": "bf630c6a-0d71-47a6-b4fa-b27e11d63e72",
   "metadata": {},
   "outputs": [
    {
     "name": "stdout",
     "output_type": "stream",
     "text": [
      "x 2\n",
      "y 12\n",
      "2\n"
     ]
    }
   ],
   "source": [
    "abc()\n",
    "print(x)"
   ]
  },
  {
   "cell_type": "code",
   "execution_count": 29,
   "id": "420a1e4d-3cca-4f15-ad96-4896e9184bd7",
   "metadata": {},
   "outputs": [
    {
     "name": "stdout",
     "output_type": "stream",
     "text": [
      "Inner 3\n",
      "Outer 2\n",
      "global 1\n"
     ]
    }
   ],
   "source": [
    "a=1\n",
    "def outer():\n",
    "    a=2\n",
    "    def inner():\n",
    "        a=3\n",
    "        print(\"Inner\",a)\n",
    "        return\n",
    "    inner()\n",
    "    print(\"Outer\",a)\n",
    "    return\n",
    "outer()\n",
    "print(\"global\",a)"
   ]
  },
  {
   "cell_type": "code",
   "execution_count": 31,
   "id": "dc68371c-d604-4f79-92db-1542b341703c",
   "metadata": {},
   "outputs": [
    {
     "name": "stdout",
     "output_type": "stream",
     "text": [
      "Inner 3\n",
      "Outer 2\n"
     ]
    }
   ],
   "source": [
    "outer()"
   ]
  },
  {
   "cell_type": "code",
   "execution_count": 33,
   "id": "2e0fbc9e-d4aa-403d-9b6a-a94396feef11",
   "metadata": {},
   "outputs": [
    {
     "name": "stdout",
     "output_type": "stream",
     "text": [
      "Inner 2\n",
      "Outer 2\n",
      "global 1\n"
     ]
    }
   ],
   "source": [
    "a=1\n",
    "def outer():\n",
    "    a=2\n",
    "    def inner():\n",
    "        print(\"Inner\",a)\n",
    "        return\n",
    "    inner()\n",
    "    print(\"Outer\",a)\n",
    "    return\n",
    "outer()\n",
    "print(\"global\",a)"
   ]
  },
  {
   "cell_type": "code",
   "execution_count": null,
   "id": "43cc6199-b589-470d-9ca8-15207ca64572",
   "metadata": {},
   "outputs": [],
   "source": [
    "a=1\n",
    "def outer():\n",
    "    def inner():\n",
    "        print(\"Inner\",a)\n",
    "        return\n",
    "    inner()\n",
    "    print(\"Outer\",a)\n",
    "    return\n",
    "outer()\n",
    "print(\"global\",a)"
   ]
  },
  {
   "cell_type": "code",
   "execution_count": null,
   "id": "34640a9b-61b0-4ea5-b274-bb454fa76375",
   "metadata": {},
   "outputs": [],
   "source": [
    "a=1\n",
    "def outer():\n",
    "    a=2\n",
    "    def inner():\n",
    "        global a\n",
    "        a=3\n",
    "        print(\"Inner\",a)\n",
    "        return\n",
    "    inner()\n",
    "    print(\"Outer\",a)\n",
    "    return\n",
    "outer()\n",
    "print(\"global\",a)"
   ]
  },
  {
   "cell_type": "code",
   "execution_count": 35,
   "id": "448aef0d-cce6-47a5-909c-fecd77628e84",
   "metadata": {},
   "outputs": [
    {
     "name": "stdout",
     "output_type": "stream",
     "text": [
      "Inner 3\n",
      "Outer 3\n",
      "global 1\n"
     ]
    }
   ],
   "source": [
    "a=1\n",
    "def outer():\n",
    "    a=2\n",
    "    def inner():\n",
    "        nonlocal a\n",
    "        a=3\n",
    "        print(\"Inner\",a)\n",
    "        return\n",
    "    inner()\n",
    "    print(\"Outer\",a)\n",
    "    return\n",
    "outer()\n",
    "print(\"global\",a)"
   ]
  },
  {
   "cell_type": "code",
   "execution_count": null,
   "id": "458cd74d-259f-4961-a39d-3c55978f9490",
   "metadata": {},
   "outputs": [],
   "source": []
  }
 ],
 "metadata": {
  "kernelspec": {
   "display_name": "Python 3 (ipykernel)",
   "language": "python",
   "name": "python3"
  },
  "language_info": {
   "codemirror_mode": {
    "name": "ipython",
    "version": 3
   },
   "file_extension": ".py",
   "mimetype": "text/x-python",
   "name": "python",
   "nbconvert_exporter": "python",
   "pygments_lexer": "ipython3",
   "version": "3.12.4"
  }
 },
 "nbformat": 4,
 "nbformat_minor": 5
}
