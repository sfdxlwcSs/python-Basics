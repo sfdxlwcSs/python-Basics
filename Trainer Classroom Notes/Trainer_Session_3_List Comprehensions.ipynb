{
 "cells": [
  {
   "cell_type": "code",
   "execution_count": 1,
   "id": "0753adc0-4b86-4088-a4b7-3aac510c4952",
   "metadata": {},
   "outputs": [],
   "source": [
    "num=[1,2,3]"
   ]
  },
  {
   "cell_type": "markdown",
   "id": "12e377ac-ab06-492e-9eab-4a20ca2d04e4",
   "metadata": {},
   "source": [
    "How do we multiply each element in the above list. Easiest way is to use list comprehension"
   ]
  },
  {
   "cell_type": "code",
   "execution_count": 4,
   "id": "5ec5128c-bd49-40b4-b584-f2ebfc9ced7f",
   "metadata": {},
   "outputs": [
    {
     "data": {
      "text/plain": [
       "[2, 4, 6]"
      ]
     },
     "execution_count": 4,
     "metadata": {},
     "output_type": "execute_result"
    }
   ],
   "source": [
    "[i*2 for i in num]"
   ]
  },
  {
   "cell_type": "markdown",
   "id": "a116311f-8398-4e3e-9f21-06de0f7369e4",
   "metadata": {},
   "source": [
    "Above is a basic list comprehension"
   ]
  },
  {
   "cell_type": "markdown",
   "id": "f2185110-512e-4025-8182-3e372f701d77",
   "metadata": {},
   "source": [
    "**When do we use a Python list comprehension???**"
   ]
  },
  {
   "cell_type": "markdown",
   "id": "d8f63d28-e8e9-4bdf-be93-033a86172c5b",
   "metadata": {},
   "source": [
    "Consider a python for loop, a traditional for loop."
   ]
  },
  {
   "cell_type": "markdown",
   "id": "ce0d8e18-85df-4cc8-93bb-431b51d49fe0",
   "metadata": {},
   "source": [
    "**Multiple each number in a list by 2**"
   ]
  },
  {
   "cell_type": "code",
   "execution_count": 18,
   "id": "a4a38e89-993c-4351-9dd9-8e547eb68dea",
   "metadata": {},
   "outputs": [
    {
     "name": "stdout",
     "output_type": "stream",
     "text": [
      "i 2\n",
      "i 4\n",
      "i 6\n"
     ]
    },
    {
     "data": {
      "text/plain": [
       "[2, 4, 6]"
      ]
     },
     "execution_count": 18,
     "metadata": {},
     "output_type": "execute_result"
    }
   ],
   "source": [
    "res=[] ##Initialize an empty list\n",
    "for i in num: # loop over the values\n",
    "    i = i*2 # multiply the value by 2\n",
    "    print('i',i)\n",
    "    res.append(i) # append the values to the result\n",
    "res"
   ]
  },
  {
   "cell_type": "markdown",
   "id": "718313ee-3990-4c18-9528-b7407534b26d",
   "metadata": {},
   "source": [
    "The above is a traditional approach"
   ]
  },
  {
   "cell_type": "code",
   "execution_count": 21,
   "id": "afeb2f9b-9637-432b-9715-68e6a3023d4c",
   "metadata": {},
   "outputs": [
    {
     "data": {
      "text/plain": [
       "[2, 4, 6]"
      ]
     },
     "execution_count": 21,
     "metadata": {},
     "output_type": "execute_result"
    }
   ],
   "source": [
    "#let us run the above same scenario using list comprehension\n",
    "[i*2 for i in num]"
   ]
  },
  {
   "cell_type": "code",
   "execution_count": 27,
   "id": "3a287f5f-524e-4247-9ebf-555688fac649",
   "metadata": {},
   "outputs": [
    {
     "data": {
      "text/plain": [
       "[3, 6, 9]"
      ]
     },
     "execution_count": 27,
     "metadata": {},
     "output_type": "execute_result"
    }
   ],
   "source": [
    "[i*3 for i in num]\n",
    "#in this we have reduced multiple lines of code to one line, faster and more performing"
   ]
  },
  {
   "cell_type": "markdown",
   "id": "36f48562-6bab-4b53-88a2-f35e7bc3ddb1",
   "metadata": {},
   "source": [
    "**Syntax**\n",
    "\n",
    "\n",
    "[expression for item in iterable if condition]\n",
    "- expression: The operation or transformation to apply to each item.\n",
    "- item: The variable representing each element in the iterable.\n",
    "- iterable: The data source you are looping through (e.g., list, range).\n",
    "- condition (optional): A filter to include only specific elements."
   ]
  },
  {
   "cell_type": "markdown",
   "id": "180ac7b7-3036-4fc7-a677-18740a76f092",
   "metadata": {},
   "source": [
    "**Convert the string to upper case**"
   ]
  },
  {
   "cell_type": "code",
   "execution_count": 33,
   "id": "a459d5a9-83b8-4ae0-b41d-9bafe756f08c",
   "metadata": {},
   "outputs": [
    {
     "data": {
      "text/plain": [
       "['WELCOME', 'TO', 'PYTHON', 'FOR', 'DATA', 'SCIENCES']"
      ]
     },
     "execution_count": 33,
     "metadata": {},
     "output_type": "execute_result"
    }
   ],
   "source": [
    "strings=[\"Welcome\",\"to\",\"python\",\"for\",\"data\",\"sciences\"]\n",
    "res=[]\n",
    "for i in strings:\n",
    "    i=i.upper()\n",
    "    #print(i)\n",
    "    res.append(i)\n",
    "res"
   ]
  },
  {
   "cell_type": "code",
   "execution_count": 35,
   "id": "e57c7249-a793-4b9e-9bb2-9ea55a42ccb2",
   "metadata": {},
   "outputs": [
    {
     "data": {
      "text/plain": [
       "['WELCOME', 'TO', 'PYTHON', 'FOR', 'DATA', 'SCIENCES']"
      ]
     },
     "execution_count": 35,
     "metadata": {},
     "output_type": "execute_result"
    }
   ],
   "source": [
    "[i.upper() for i in strings]"
   ]
  },
  {
   "cell_type": "code",
   "execution_count": 44,
   "id": "b6af210a-384f-4bc9-a262-3be5cbe29555",
   "metadata": {},
   "outputs": [
    {
     "data": {
      "text/plain": [
       "['WELCOME List Comp',\n",
       " 'TO List Comp',\n",
       " 'PYTHON List Comp',\n",
       " 'FOR List Comp',\n",
       " 'DATA List Comp',\n",
       " 'SCIENCES List Comp']"
      ]
     },
     "execution_count": 44,
     "metadata": {},
     "output_type": "execute_result"
    }
   ],
   "source": [
    "[i.upper()+\" List Comp\"  for i  in strings]"
   ]
  },
  {
   "cell_type": "markdown",
   "id": "fd94292a-6918-4016-be1b-083007413b47",
   "metadata": {},
   "source": [
    "**Key Features of List Comprehension**"
   ]
  },
  {
   "cell_type": "raw",
   "id": "78d7e2d7-9709-46de-b2b9-ddd59384b2fa",
   "metadata": {},
   "source": [
    "1. It returns a list\n",
    "[]\n",
    "2. In the list comprehension, there are some key elements as below\n",
    "[expression for i in iterable]\n",
    "a. Expression - i*2, i.upper()\n",
    "b. Iterable - We need something to iterate over / loop over, ex: lists and strings\n",
    "[i*2 for i in [1,2,3]]\n",
    "c. i in - member/value\n",
    "d. will always have for and in"
   ]
  },
  {
   "cell_type": "code",
   "execution_count": 59,
   "id": "28129aa4-a05a-46b5-995a-ef86ce80865c",
   "metadata": {},
   "outputs": [
    {
     "data": {
      "text/plain": [
       "[2, 4, 6]"
      ]
     },
     "execution_count": 59,
     "metadata": {},
     "output_type": "execute_result"
    }
   ],
   "source": [
    "[i*2 for i in [1,2,3]]"
   ]
  },
  {
   "cell_type": "code",
   "execution_count": 49,
   "id": "1d9c4123-513d-4d47-ad27-2bafdfa9047b",
   "metadata": {},
   "outputs": [
    {
     "data": {
      "text/plain": [
       "[1, 2, 3]"
      ]
     },
     "execution_count": 49,
     "metadata": {},
     "output_type": "execute_result"
    }
   ],
   "source": [
    "[i for i in [1,2,3]]"
   ]
  },
  {
   "cell_type": "markdown",
   "id": "9ece6682-5a55-4200-949b-85f95a33c7d4",
   "metadata": {},
   "source": [
    "**Create a function and multiply**"
   ]
  },
  {
   "cell_type": "code",
   "execution_count": 53,
   "id": "c655d067-8384-43f9-85ff-1670466d1b39",
   "metadata": {},
   "outputs": [],
   "source": [
    "def timesSeven(n):\n",
    "    return n*7"
   ]
  },
  {
   "cell_type": "code",
   "execution_count": 65,
   "id": "ee571d97-ccb7-4704-b118-ffbfcfe5733a",
   "metadata": {},
   "outputs": [
    {
     "name": "stdout",
     "output_type": "stream",
     "text": [
      "i 7\n",
      "i 14\n",
      "i 21\n",
      "i 28\n",
      "i 35\n",
      "Results with Function [7, 14, 21, 28, 35]\n"
     ]
    }
   ],
   "source": [
    "#Traditional for loop\n",
    "n=[1,2,3,4,5]\n",
    "res=[]\n",
    "for i in n:\n",
    "    i=timesSeven(i)\n",
    "    print(\"i\",i)\n",
    "    res.append(i)\n",
    "print(\"Results with Function\",res)"
   ]
  },
  {
   "cell_type": "markdown",
   "id": "210d1ab0-f701-4b57-b111-257c687b35c6",
   "metadata": {},
   "source": [
    "We can do the above by using function in list comprehension"
   ]
  },
  {
   "cell_type": "code",
   "execution_count": 70,
   "id": "5b18d536-62bf-4a8b-bcc6-61f1f88299a4",
   "metadata": {},
   "outputs": [
    {
     "data": {
      "text/plain": [
       "[7, 14, 21, 28, 35]"
      ]
     },
     "execution_count": 70,
     "metadata": {},
     "output_type": "execute_result"
    }
   ],
   "source": [
    "[timesSeven(i) for i in n]"
   ]
  },
  {
   "cell_type": "code",
   "execution_count": 76,
   "id": "42f864bd-7eac-441d-b9ec-f7f27a19f075",
   "metadata": {},
   "outputs": [
    {
     "data": {
      "text/plain": [
       "[7, 14, 21, 28, 35]"
      ]
     },
     "execution_count": 76,
     "metadata": {},
     "output_type": "execute_result"
    }
   ],
   "source": [
    "res=[timesSeven(i) for i in n]\n",
    "res"
   ]
  },
  {
   "cell_type": "markdown",
   "id": "928fa540-8353-42aa-8903-3e94670f3a0d",
   "metadata": {},
   "source": [
    "**use condition in the iterable**"
   ]
  },
  {
   "cell_type": "code",
   "execution_count": 81,
   "id": "96bba1d9-82ec-4fa4-98fd-847a4a7f5e66",
   "metadata": {},
   "outputs": [
    {
     "data": {
      "text/plain": [
       "[21, 28, 35]"
      ]
     },
     "execution_count": 81,
     "metadata": {},
     "output_type": "execute_result"
    }
   ],
   "source": [
    "[timesSeven(i) for i in n if i > 2]"
   ]
  },
  {
   "cell_type": "code",
   "execution_count": 83,
   "id": "ff1a56d6-d68c-4131-8e07-0ae06aa11dcf",
   "metadata": {},
   "outputs": [
    {
     "data": {
      "text/plain": [
       "[14, 21, 28, 35]"
      ]
     },
     "execution_count": 83,
     "metadata": {},
     "output_type": "execute_result"
    }
   ],
   "source": [
    "[timesSeven(i) for i in n if i >= 2]"
   ]
  },
  {
   "cell_type": "code",
   "execution_count": 89,
   "id": "941b960c-778c-4525-bb41-4b7c373fb147",
   "metadata": {},
   "outputs": [
    {
     "data": {
      "text/plain": [
       "[7, 14]"
      ]
     },
     "execution_count": 89,
     "metadata": {},
     "output_type": "execute_result"
    }
   ],
   "source": [
    "[timesSeven(i) for i in n if i < 3]"
   ]
  },
  {
   "cell_type": "markdown",
   "id": "9a0f0309-4c36-48ac-86c1-f4bdbcdf2497",
   "metadata": {},
   "source": [
    "**Lets use dicts in list comprehension**"
   ]
  },
  {
   "cell_type": "code",
   "execution_count": 92,
   "id": "fe78a679-2954-43ac-b524-9125f9ef2d3d",
   "metadata": {},
   "outputs": [],
   "source": [
    "dicts=[{\"name\":'Ram'},{\"name\":'Laxman'},{\"name\":'Mohan'}]"
   ]
  },
  {
   "cell_type": "code",
   "execution_count": 94,
   "id": "1aa5a8c7-92c2-42ae-8b0d-f542808f236c",
   "metadata": {},
   "outputs": [
    {
     "data": {
      "text/plain": [
       "[{'name': 'Ram'}, {'name': 'Laxman'}, {'name': 'Mohan'}]"
      ]
     },
     "execution_count": 94,
     "metadata": {},
     "output_type": "execute_result"
    }
   ],
   "source": [
    "dicts"
   ]
  },
  {
   "cell_type": "markdown",
   "id": "21558f9e-48e7-4507-8cb1-de5abc5d4101",
   "metadata": {},
   "source": [
    "Get name from the dictionary"
   ]
  },
  {
   "cell_type": "code",
   "execution_count": 99,
   "id": "47b39ffa-819a-4dca-96b3-d2ebc6b832fd",
   "metadata": {},
   "outputs": [
    {
     "name": "stdout",
     "output_type": "stream",
     "text": [
      "Names ['Ram', 'Laxman', 'Mohan']\n"
     ]
    }
   ],
   "source": [
    "res=[]\n",
    "for i in dicts:\n",
    "    res.append(i['name'])\n",
    "print(\"Names\",res)"
   ]
  },
  {
   "cell_type": "markdown",
   "id": "914a7d60-dcb0-4759-914d-92a58d373e7c",
   "metadata": {},
   "source": [
    "Do the above using List comprehension"
   ]
  },
  {
   "cell_type": "code",
   "execution_count": 106,
   "id": "db5c2bf2-ecf8-45e2-99eb-9e71d654eef8",
   "metadata": {},
   "outputs": [
    {
     "data": {
      "text/plain": [
       "['Ram', 'Laxman', 'Mohan']"
      ]
     },
     "execution_count": 106,
     "metadata": {},
     "output_type": "execute_result"
    }
   ],
   "source": [
    "res=[i['name'] for i in dicts]\n",
    "res"
   ]
  },
  {
   "cell_type": "code",
   "execution_count": 110,
   "id": "bdf43415-20c5-4b11-a095-08f69019a81b",
   "metadata": {},
   "outputs": [
    {
     "data": {
      "text/plain": [
       "['Ram Hi', 'Laxman Hi', 'Mohan Hi']"
      ]
     },
     "execution_count": 110,
     "metadata": {},
     "output_type": "execute_result"
    }
   ],
   "source": [
    "res=[i['name'] + ' Hi' for i in dicts]\n",
    "res"
   ]
  },
  {
   "cell_type": "markdown",
   "id": "8b1c2c3f-98ca-46b4-861e-1f071e90691e",
   "metadata": {},
   "source": [
    "**If Else Statements in List Comprehensions**"
   ]
  },
  {
   "cell_type": "code",
   "execution_count": 113,
   "id": "ee7663ac-593f-41d1-9988-7c0f4361ebb4",
   "metadata": {},
   "outputs": [],
   "source": [
    "l1=[1,2,3,4,5]"
   ]
  },
  {
   "cell_type": "markdown",
   "id": "e75a44a2-4d9b-4eea-8594-4dfc21654b96",
   "metadata": {},
   "source": [
    "foundational list comprehension"
   ]
  },
  {
   "cell_type": "code",
   "execution_count": 116,
   "id": "03305a42-c253-44ea-9a47-838c2d1357fe",
   "metadata": {},
   "outputs": [
    {
     "data": {
      "text/plain": [
       "[1, 2, 3, 4, 5]"
      ]
     },
     "execution_count": 116,
     "metadata": {},
     "output_type": "execute_result"
    }
   ],
   "source": [
    "[i for i in l1]"
   ]
  },
  {
   "cell_type": "markdown",
   "id": "c7ec5cef-7bc8-4ae5-858a-451a7a557462",
   "metadata": {},
   "source": [
    "How do we put if else statements on top of the above to have conditional statements"
   ]
  },
  {
   "cell_type": "markdown",
   "id": "9fa9c5e8-ef1b-4322-a76b-ef6689653140",
   "metadata": {},
   "source": [
    "1. Check all the numbers are positive numbers\n",
    "2. Any integer 3 multiply by 5"
   ]
  },
  {
   "cell_type": "code",
   "execution_count": 120,
   "id": "92df2e17-e82f-4204-bca0-40dde34c98d2",
   "metadata": {},
   "outputs": [
    {
     "data": {
      "text/plain": [
       "[1, 2, 3, 4, 5]"
      ]
     },
     "execution_count": 120,
     "metadata": {},
     "output_type": "execute_result"
    }
   ],
   "source": [
    "[i for i in l1]"
   ]
  },
  {
   "cell_type": "code",
   "execution_count": 126,
   "id": "405577dc-173d-4e69-b8b2-7844c9173e9f",
   "metadata": {},
   "outputs": [
    {
     "data": {
      "text/plain": [
       "[1, 2, 15, 4, 5]"
      ]
     },
     "execution_count": 126,
     "metadata": {},
     "output_type": "execute_result"
    }
   ],
   "source": [
    "[i*5 if i==3 else i for i in l1]\n",
    "#Note: if else is right at the middle to the left of for loop"
   ]
  },
  {
   "cell_type": "code",
   "execution_count": 132,
   "id": "62e5888b-732b-4fd0-a1fb-834dce7ad71f",
   "metadata": {},
   "outputs": [
    {
     "data": {
      "text/plain": [
       "[4, 5]"
      ]
     },
     "execution_count": 132,
     "metadata": {},
     "output_type": "execute_result"
    }
   ],
   "source": [
    "[i for i in l1 if i > 0]\n",
    "#Note: if is to the right of for loop"
   ]
  },
  {
   "cell_type": "code",
   "execution_count": 134,
   "id": "f66e56ad-2e2a-4e31-b400-528d6f73adbb",
   "metadata": {},
   "outputs": [
    {
     "data": {
      "text/plain": [
       "[3, 4, 5]"
      ]
     },
     "execution_count": 134,
     "metadata": {},
     "output_type": "execute_result"
    }
   ],
   "source": [
    "[i for i in l1 if i > 2]"
   ]
  },
  {
   "cell_type": "code",
   "execution_count": 136,
   "id": "e8555044-f05a-4554-86b3-eb4aab81cf97",
   "metadata": {},
   "outputs": [
    {
     "data": {
      "text/plain": [
       "[15]"
      ]
     },
     "execution_count": 136,
     "metadata": {},
     "output_type": "execute_result"
    }
   ],
   "source": [
    "[i*5 for i in l1 if i == 3]"
   ]
  },
  {
   "cell_type": "markdown",
   "id": "1c334668-6d56-4879-bcb5-f2804bad56bd",
   "metadata": {},
   "source": [
    "**note: in above examples, the if statement on the left and right take on different behaviors**\n",
    "\n",
    "If statements to the right of the for loop are like Filters"
   ]
  },
  {
   "cell_type": "code",
   "execution_count": 140,
   "id": "3c66c7a7-d594-469b-bc4d-f6ea480574ff",
   "metadata": {},
   "outputs": [
    {
     "data": {
      "text/plain": [
       "[15]"
      ]
     },
     "execution_count": 140,
     "metadata": {},
     "output_type": "execute_result"
    }
   ],
   "source": [
    "[i*5 if i==3 else i for i in l1 if i == 3]"
   ]
  },
  {
   "cell_type": "code",
   "execution_count": 142,
   "id": "c24c89a1-a980-4b68-be87-d758ff05738d",
   "metadata": {},
   "outputs": [
    {
     "data": {
      "text/plain": [
       "[4, 5]"
      ]
     },
     "execution_count": 142,
     "metadata": {},
     "output_type": "execute_result"
    }
   ],
   "source": [
    "[i*5 if i==3 else i for i in l1 if i > 3]"
   ]
  },
  {
   "cell_type": "code",
   "execution_count": 144,
   "id": "268d2827-a1ed-4333-924d-79c35a2b60be",
   "metadata": {},
   "outputs": [
    {
     "data": {
      "text/plain": [
       "[5, 10, 15, 20, 25]"
      ]
     },
     "execution_count": 144,
     "metadata": {},
     "output_type": "execute_result"
    }
   ],
   "source": [
    "[i*5  for i in l1 if i>0]"
   ]
  },
  {
   "cell_type": "code",
   "execution_count": 146,
   "id": "29b6b4f4-9cc7-4696-be43-0b432178e456",
   "metadata": {},
   "outputs": [
    {
     "ename": "SyntaxError",
     "evalue": "invalid syntax (4002481082.py, line 1)",
     "output_type": "error",
     "traceback": [
      "\u001b[1;36m  Cell \u001b[1;32mIn[146], line 1\u001b[1;36m\u001b[0m\n\u001b[1;33m    [i*5  for i in l1 if i>0 else i]\u001b[0m\n\u001b[1;37m                             ^\u001b[0m\n\u001b[1;31mSyntaxError\u001b[0m\u001b[1;31m:\u001b[0m invalid syntax\n"
     ]
    }
   ],
   "source": [
    "[i*5  for i in l1 if i>0 else i]"
   ]
  },
  {
   "cell_type": "markdown",
   "id": "d37f7d39-07f7-448d-b230-8f67eac607f7",
   "metadata": {},
   "source": [
    "**Note:We cannot have else to the right of the for loop**\n",
    "\n",
    "This is because, there is no else on a filter"
   ]
  },
  {
   "cell_type": "code",
   "execution_count": 152,
   "id": "e34b7446-1706-42ea-8518-89e528ce6297",
   "metadata": {},
   "outputs": [
    {
     "ename": "SyntaxError",
     "evalue": "expected 'else' after 'if' expression (3314806258.py, line 1)",
     "output_type": "error",
     "traceback": [
      "\u001b[1;36m  Cell \u001b[1;32mIn[152], line 1\u001b[1;36m\u001b[0m\n\u001b[1;33m    [i*5 if i==3  for i in l1 if i > 3]\u001b[0m\n\u001b[1;37m     ^\u001b[0m\n\u001b[1;31mSyntaxError\u001b[0m\u001b[1;31m:\u001b[0m expected 'else' after 'if' expression\n"
     ]
    }
   ],
   "source": [
    "[i*5 if i==3  for i in l1 if i > 3]"
   ]
  },
  {
   "cell_type": "markdown",
   "id": "fd4b8075-ddda-406a-af98-be34594869f4",
   "metadata": {},
   "source": [
    "**Note: We need to have else statement to the left of for loop if we are using if**"
   ]
  },
  {
   "cell_type": "code",
   "execution_count": 174,
   "id": "cc2f44cc-17f6-47f2-87e1-bfb292681cbe",
   "metadata": {},
   "outputs": [],
   "source": [
    "a=[1,2,3,4,5]"
   ]
  },
  {
   "cell_type": "code",
   "execution_count": 176,
   "id": "3314badc-2f9b-48f9-8983-017153d3ab70",
   "metadata": {},
   "outputs": [
    {
     "data": {
      "text/plain": [
       "<map at 0x25e7ddcf8e0>"
      ]
     },
     "execution_count": 176,
     "metadata": {},
     "output_type": "execute_result"
    }
   ],
   "source": [
    "map(lambda i:i*5,a)"
   ]
  },
  {
   "cell_type": "code",
   "execution_count": 178,
   "id": "41f57e56-4429-48bb-a58b-ac2428dcc6bb",
   "metadata": {},
   "outputs": [
    {
     "data": {
      "text/plain": [
       "[5, 10, 15, 20, 25]"
      ]
     },
     "execution_count": 178,
     "metadata": {},
     "output_type": "execute_result"
    }
   ],
   "source": [
    "list(map(lambda i: i*5, a))"
   ]
  },
  {
   "cell_type": "code",
   "execution_count": 180,
   "id": "6e028036-eec9-4b54-a55c-a53e6f529d76",
   "metadata": {},
   "outputs": [
    {
     "data": {
      "text/plain": [
       "[1, 2, 15, 4, 5]"
      ]
     },
     "execution_count": 180,
     "metadata": {},
     "output_type": "execute_result"
    }
   ],
   "source": [
    "list(map(lambda i: i*5 if i==3 else i, a))"
   ]
  },
  {
   "cell_type": "code",
   "execution_count": 182,
   "id": "e3a0d578-417e-4a2d-a896-e6a9e78c1d71",
   "metadata": {},
   "outputs": [
    {
     "data": {
      "text/plain": [
       "[1, 2, 15, 4, 5]"
      ]
     },
     "execution_count": 182,
     "metadata": {},
     "output_type": "execute_result"
    }
   ],
   "source": [
    "[i*5 if i==3 else i for i in a]"
   ]
  },
  {
   "cell_type": "markdown",
   "id": "89cbb070-2c53-4449-9c21-2cad79c501ab",
   "metadata": {},
   "source": [
    "Above two are exact same thing"
   ]
  },
  {
   "cell_type": "code",
   "execution_count": 185,
   "id": "833b9136-5d24-4e31-a272-75f78d805def",
   "metadata": {},
   "outputs": [
    {
     "data": {
      "text/plain": [
       "[2, 15, 4, 5]"
      ]
     },
     "execution_count": 185,
     "metadata": {},
     "output_type": "execute_result"
    }
   ],
   "source": [
    "[i*5 if i==3 else i for i in l1 if i > 1]"
   ]
  },
  {
   "cell_type": "code",
   "execution_count": 191,
   "id": "0bcda455-5cbe-4e15-a90a-b8a3799ca7af",
   "metadata": {},
   "outputs": [
    {
     "data": {
      "text/plain": [
       "[2, 15, 4, 5]"
      ]
     },
     "execution_count": 191,
     "metadata": {},
     "output_type": "execute_result"
    }
   ],
   "source": [
    "list(map(lambda i: i*5 if i==3 else i, filter(lambda i:i>1,a)))"
   ]
  },
  {
   "cell_type": "code",
   "execution_count": 193,
   "id": "7ac481a3-eddc-4c07-bd79-a4a802d16835",
   "metadata": {},
   "outputs": [
    {
     "data": {
      "text/plain": [
       "[1, 2, 15, 4, 5]"
      ]
     },
     "execution_count": 193,
     "metadata": {},
     "output_type": "execute_result"
    }
   ],
   "source": [
    "list(map(lambda i: i*5 if i==3 else i, a))"
   ]
  },
  {
   "cell_type": "code",
   "execution_count": null,
   "id": "48d82ebd-3ada-4bb9-9b24-984ce8e943fc",
   "metadata": {},
   "outputs": [],
   "source": []
  },
  {
   "cell_type": "code",
   "execution_count": 195,
   "id": "3b0a0321-5b47-425b-8cc6-ae10532eec42",
   "metadata": {},
   "outputs": [
    {
     "data": {
      "text/plain": [
       "[2, 15, 4, 5]"
      ]
     },
     "execution_count": 195,
     "metadata": {},
     "output_type": "execute_result"
    }
   ],
   "source": [
    "[i*5 if i==3 else i for i in l1 if i > 1]"
   ]
  },
  {
   "cell_type": "code",
   "execution_count": 223,
   "id": "aa9ba751-aa95-49bd-86cd-4e46410af9f2",
   "metadata": {},
   "outputs": [],
   "source": [
    "res=[]"
   ]
  },
  {
   "cell_type": "code",
   "execution_count": 211,
   "id": "6222db8a-38a4-4490-b7ae-2040de101a52",
   "metadata": {},
   "outputs": [
    {
     "name": "stdout",
     "output_type": "stream",
     "text": [
      "[2, 3, 4, 5]\n"
     ]
    }
   ],
   "source": [
    "for i in a:\n",
    "    if(i>1):\n",
    "        res.append(i)\n",
    "print(res)"
   ]
  },
  {
   "cell_type": "markdown",
   "id": "72cb1c85-3b32-4b9a-a098-e3b281c4257b",
   "metadata": {},
   "source": [
    "for i in a:\n",
    "    if i>1:\n",
    "        i=i*5\n",
    "        res.append(i)\n",
    "res"
   ]
  },
  {
   "cell_type": "code",
   "execution_count": 227,
   "id": "ddd92b57-e301-4703-98cc-e6d7f26f725f",
   "metadata": {},
   "outputs": [],
   "source": [
    "res=[]\n",
    "for i in a:\n",
    "    if i>1:\n",
    "        if i == 3:\n",
    "            i=i*5\n",
    "        else:\n",
    "            i\n",
    "        res.append(i)"
   ]
  },
  {
   "cell_type": "code",
   "execution_count": 229,
   "id": "9265237c-5e2f-42b5-b980-13e9bb6931f2",
   "metadata": {},
   "outputs": [
    {
     "data": {
      "text/plain": [
       "[2, 15, 4, 5]"
      ]
     },
     "execution_count": 229,
     "metadata": {},
     "output_type": "execute_result"
    }
   ],
   "source": [
    "res"
   ]
  },
  {
   "cell_type": "code",
   "execution_count": 231,
   "id": "647ac0dc-97ac-47d4-835b-6942500d2387",
   "metadata": {},
   "outputs": [
    {
     "data": {
      "text/plain": [
       "[2, 15, 4, 5]"
      ]
     },
     "execution_count": 231,
     "metadata": {},
     "output_type": "execute_result"
    }
   ],
   "source": [
    "[i*5 if i==3 else i for i in a if i > 1]"
   ]
  },
  {
   "cell_type": "markdown",
   "id": "dd89e0ca-1749-43a7-aa49-7978e87ea100",
   "metadata": {},
   "source": [
    "if else on the left of the for loop happens after the filter conditions are applied"
   ]
  },
  {
   "cell_type": "markdown",
   "id": "223d84be-4962-43cf-8eba-26883aa2f5e2",
   "metadata": {},
   "source": [
    "**List Comprehensions with Multiple ifs statements**"
   ]
  },
  {
   "cell_type": "code",
   "execution_count": 239,
   "id": "dda61f4c-80dd-4edf-b335-d37fea91fbbe",
   "metadata": {},
   "outputs": [],
   "source": [
    "a=[1,2,3,4,5,6]"
   ]
  },
  {
   "cell_type": "code",
   "execution_count": 241,
   "id": "242ca540-64a4-4e44-a9c8-0055bef9ad83",
   "metadata": {},
   "outputs": [
    {
     "data": {
      "text/plain": [
       "[1, 2, 3, 4, 5, 6]"
      ]
     },
     "execution_count": 241,
     "metadata": {},
     "output_type": "execute_result"
    }
   ],
   "source": [
    "[i for i in a]"
   ]
  },
  {
   "cell_type": "code",
   "execution_count": 243,
   "id": "3514869d-b512-4e38-82fd-cf37013eb8d6",
   "metadata": {},
   "outputs": [
    {
     "data": {
      "text/plain": [
       "[2, 3, 4, 5, 6]"
      ]
     },
     "execution_count": 243,
     "metadata": {},
     "output_type": "execute_result"
    }
   ],
   "source": [
    "[i for i in a if i>1]"
   ]
  },
  {
   "cell_type": "code",
   "execution_count": 245,
   "id": "94ee4d0b-d0da-42bf-b2d1-f1235e620c0d",
   "metadata": {},
   "outputs": [
    {
     "data": {
      "text/plain": [
       "[3, 4, 5, 6]"
      ]
     },
     "execution_count": 245,
     "metadata": {},
     "output_type": "execute_result"
    }
   ],
   "source": [
    "[i for i in a if i > 2]"
   ]
  },
  {
   "cell_type": "code",
   "execution_count": 247,
   "id": "e9a18500-aa5d-415f-90f0-b961fe014118",
   "metadata": {},
   "outputs": [
    {
     "data": {
      "text/plain": [
       "[1, 2, 4, 5, 6]"
      ]
     },
     "execution_count": 247,
     "metadata": {},
     "output_type": "execute_result"
    }
   ],
   "source": [
    "[i for i in a if i != 3]"
   ]
  },
  {
   "cell_type": "code",
   "execution_count": 249,
   "id": "3c32957d-2b68-48e2-8d58-fa5469a5a75e",
   "metadata": {},
   "outputs": [
    {
     "data": {
      "text/plain": [
       "[1, 2, 5, 6]"
      ]
     },
     "execution_count": 249,
     "metadata": {},
     "output_type": "execute_result"
    }
   ],
   "source": [
    "[i for i in a if i not in (3,4)]"
   ]
  },
  {
   "cell_type": "code",
   "execution_count": 251,
   "id": "8a537458-0ca4-432b-91ab-48be80381252",
   "metadata": {},
   "outputs": [
    {
     "data": {
      "text/plain": [
       "[2, 3, 4]"
      ]
     },
     "execution_count": 251,
     "metadata": {},
     "output_type": "execute_result"
    }
   ],
   "source": [
    "[i for i in a if i >1 and i<5]"
   ]
  },
  {
   "cell_type": "markdown",
   "id": "69295f8a-0a8f-48da-9dc4-5ac95bfc6dad",
   "metadata": {},
   "source": [
    "**Note: List Comprehensions were first added into Python in Jul 2000**\n",
    "\n",
    "You can have multiple ifs and multiple for loops in one statement"
   ]
  },
  {
   "cell_type": "code",
   "execution_count": 257,
   "id": "2179f2e8-30c8-4371-ac06-f0c871f1974f",
   "metadata": {},
   "outputs": [
    {
     "data": {
      "text/plain": [
       "[3, 4, 5, 6]"
      ]
     },
     "execution_count": 257,
     "metadata": {},
     "output_type": "execute_result"
    }
   ],
   "source": [
    "[i for i in a if i>2]"
   ]
  },
  {
   "cell_type": "code",
   "execution_count": 259,
   "id": "e550880d-5954-4f85-a2e4-7fb528d40f40",
   "metadata": {},
   "outputs": [
    {
     "name": "stdout",
     "output_type": "stream",
     "text": [
      "1\n",
      "2\n",
      "3\n",
      "4\n",
      "5\n",
      "6\n"
     ]
    }
   ],
   "source": [
    "for i in a:\n",
    "    print(i)"
   ]
  },
  {
   "cell_type": "code",
   "execution_count": 263,
   "id": "f1858d77-516a-4e40-8db9-69421af98610",
   "metadata": {},
   "outputs": [
    {
     "name": "stdout",
     "output_type": "stream",
     "text": [
      "3\n",
      "4\n",
      "5\n",
      "6\n"
     ]
    }
   ],
   "source": [
    "for i in a:\n",
    "    if i>2:\n",
    "        print(i)"
   ]
  },
  {
   "cell_type": "code",
   "execution_count": 265,
   "id": "ed7abf9e-915f-4fd9-a6bc-295d164e5855",
   "metadata": {},
   "outputs": [
    {
     "data": {
      "text/plain": [
       "[2, 4, 5, 6]"
      ]
     },
     "execution_count": 265,
     "metadata": {},
     "output_type": "execute_result"
    }
   ],
   "source": [
    "[i for i in a if i>1 if i!=3]"
   ]
  },
  {
   "cell_type": "markdown",
   "id": "56b83b48-62ee-443e-a51c-cf89f251b9e8",
   "metadata": {},
   "source": [
    "**Note: if we are doing two if side by side, it is equivalent to two nested ifs**"
   ]
  },
  {
   "cell_type": "code",
   "execution_count": 271,
   "id": "7e3b3881-91ad-4797-8547-b3d214ad41fd",
   "metadata": {},
   "outputs": [
    {
     "name": "stdout",
     "output_type": "stream",
     "text": [
      "2\n",
      "4\n",
      "5\n",
      "6\n"
     ]
    }
   ],
   "source": [
    "for i in a:\n",
    "    if i>1:\n",
    "        if i!=3:\n",
    "            print(i)"
   ]
  },
  {
   "cell_type": "code",
   "execution_count": 269,
   "id": "c97d1ffa-577d-43f3-814c-9ab07b58d802",
   "metadata": {},
   "outputs": [
    {
     "data": {
      "text/plain": [
       "[2, 4, 5, 6]"
      ]
     },
     "execution_count": 269,
     "metadata": {},
     "output_type": "execute_result"
    }
   ],
   "source": [
    "[i for i in a if i>1 and  i!=3]"
   ]
  },
  {
   "cell_type": "code",
   "execution_count": 276,
   "id": "0c9c6873-91e8-48ed-95ed-0c35bb8c0bff",
   "metadata": {},
   "outputs": [
    {
     "name": "stdout",
     "output_type": "stream",
     "text": [
      "2\n",
      "4\n",
      "5\n",
      "6\n"
     ]
    }
   ],
   "source": [
    "for i in a:\n",
    "    if i>1 and i!=3:\n",
    "        print(i)"
   ]
  },
  {
   "cell_type": "code",
   "execution_count": null,
   "id": "697338cd-a3c2-4ff2-bbec-3de6ad55da90",
   "metadata": {},
   "outputs": [],
   "source": []
  },
  {
   "cell_type": "code",
   "execution_count": 282,
   "id": "55433fc3-4584-432d-bc29-4b0230bd760d",
   "metadata": {},
   "outputs": [
    {
     "data": {
      "text/plain": [
       "['Apples', 'Oranges', 'Pears', 'Grapes']"
      ]
     },
     "execution_count": 282,
     "metadata": {},
     "output_type": "execute_result"
    }
   ],
   "source": [
    "fruit=['Apples','Oranges','Pears','Grapes']\n",
    "fruit"
   ]
  },
  {
   "cell_type": "code",
   "execution_count": 284,
   "id": "34ab8dc2-d6cf-48ab-94e9-11fcc8c89382",
   "metadata": {},
   "outputs": [
    {
     "data": {
      "text/plain": [
       "[1, 2, 3, 4, 5, 6]"
      ]
     },
     "execution_count": 284,
     "metadata": {},
     "output_type": "execute_result"
    }
   ],
   "source": [
    "a"
   ]
  },
  {
   "cell_type": "code",
   "execution_count": 286,
   "id": "3550b5da-8163-459b-ab61-6a00ade4c94b",
   "metadata": {},
   "outputs": [
    {
     "data": {
      "text/plain": [
       "[2, 4, 5, 6]"
      ]
     },
     "execution_count": 286,
     "metadata": {},
     "output_type": "execute_result"
    }
   ],
   "source": [
    "[i for i in a if i>1 if i!=3]"
   ]
  },
  {
   "cell_type": "code",
   "execution_count": 290,
   "id": "3699184f-4b47-4fbd-8147-908a2958b586",
   "metadata": {},
   "outputs": [
    {
     "data": {
      "text/plain": [
       "[3, 4, 5, 6]"
      ]
     },
     "execution_count": 290,
     "metadata": {},
     "output_type": "execute_result"
    }
   ],
   "source": [
    "[i for i in a if i>2]"
   ]
  },
  {
   "cell_type": "code",
   "execution_count": 292,
   "id": "3c3f858e-6524-4ba2-9e67-5752f59b890b",
   "metadata": {},
   "outputs": [
    {
     "data": {
      "text/plain": [
       "[(3, 'Apples'),\n",
       " (3, 'Oranges'),\n",
       " (3, 'Pears'),\n",
       " (3, 'Grapes'),\n",
       " (4, 'Apples'),\n",
       " (4, 'Oranges'),\n",
       " (4, 'Pears'),\n",
       " (4, 'Grapes'),\n",
       " (5, 'Apples'),\n",
       " (5, 'Oranges'),\n",
       " (5, 'Pears'),\n",
       " (5, 'Grapes'),\n",
       " (6, 'Apples'),\n",
       " (6, 'Oranges'),\n",
       " (6, 'Pears'),\n",
       " (6, 'Grapes')]"
      ]
     },
     "execution_count": 292,
     "metadata": {},
     "output_type": "execute_result"
    }
   ],
   "source": [
    "[(i,j) for i in a if i>2 for j in fruit]"
   ]
  },
  {
   "cell_type": "code",
   "execution_count": 298,
   "id": "6089a5e0-88c4-4c64-a5e7-5f2ba6a5bc0e",
   "metadata": {},
   "outputs": [
    {
     "name": "stdout",
     "output_type": "stream",
     "text": [
      "3 Apples\n",
      "3 Oranges\n",
      "3 Pears\n",
      "3 Grapes\n",
      "4 Apples\n",
      "4 Oranges\n",
      "4 Pears\n",
      "4 Grapes\n",
      "5 Apples\n",
      "5 Oranges\n",
      "5 Pears\n",
      "5 Grapes\n",
      "6 Apples\n",
      "6 Oranges\n",
      "6 Pears\n",
      "6 Grapes\n"
     ]
    }
   ],
   "source": [
    "for i in a:\n",
    "    if i>2:\n",
    "        for j in fruit:\n",
    "            print(i,j)"
   ]
  },
  {
   "cell_type": "code",
   "execution_count": 300,
   "id": "2dfc8d47-a954-4064-bc0a-79e10dfd4b64",
   "metadata": {},
   "outputs": [
    {
     "data": {
      "text/plain": [
       "[(4, 'Apples'),\n",
       " (4, 'Oranges'),\n",
       " (4, 'Pears'),\n",
       " (4, 'Grapes'),\n",
       " (5, 'Apples'),\n",
       " (5, 'Oranges'),\n",
       " (5, 'Pears'),\n",
       " (5, 'Grapes'),\n",
       " (6, 'Apples'),\n",
       " (6, 'Oranges'),\n",
       " (6, 'Pears'),\n",
       " (6, 'Grapes')]"
      ]
     },
     "execution_count": 300,
     "metadata": {},
     "output_type": "execute_result"
    }
   ],
   "source": [
    "[(i,j) for i in a if i>2 if i!=3 for j in fruit]"
   ]
  },
  {
   "cell_type": "code",
   "execution_count": 302,
   "id": "3ec0e4d4-3d11-42dc-9b2e-e4d80b000ea0",
   "metadata": {},
   "outputs": [
    {
     "name": "stdout",
     "output_type": "stream",
     "text": [
      "4 Apples\n",
      "4 Oranges\n",
      "4 Pears\n",
      "4 Grapes\n",
      "5 Apples\n",
      "5 Oranges\n",
      "5 Pears\n",
      "5 Grapes\n",
      "6 Apples\n",
      "6 Oranges\n",
      "6 Pears\n",
      "6 Grapes\n"
     ]
    }
   ],
   "source": [
    "for i in a:\n",
    "    if i>2:\n",
    "        if i!=3:\n",
    "            for j in fruit:\n",
    "                print(i,j)"
   ]
  },
  {
   "cell_type": "code",
   "execution_count": 304,
   "id": "fdb0a9c3-3901-4cde-9b18-bb8b76b17fbc",
   "metadata": {},
   "outputs": [
    {
     "data": {
      "text/plain": [
       "[(4, 'Apples'),\n",
       " (4, 'Pears'),\n",
       " (4, 'Grapes'),\n",
       " (5, 'Apples'),\n",
       " (5, 'Pears'),\n",
       " (5, 'Grapes'),\n",
       " (6, 'Apples'),\n",
       " (6, 'Pears'),\n",
       " (6, 'Grapes')]"
      ]
     },
     "execution_count": 304,
     "metadata": {},
     "output_type": "execute_result"
    }
   ],
   "source": [
    "[(i,j) for i in a if i>2 if i!=3 for j in fruit if j!='Oranges']"
   ]
  },
  {
   "cell_type": "code",
   "execution_count": 308,
   "id": "cc529afa-794c-430c-97c5-7db801a9ccac",
   "metadata": {},
   "outputs": [
    {
     "name": "stdout",
     "output_type": "stream",
     "text": [
      "4 Apples\n",
      "4 Pears\n",
      "4 Grapes\n",
      "5 Apples\n",
      "5 Pears\n",
      "5 Grapes\n",
      "6 Apples\n",
      "6 Pears\n",
      "6 Grapes\n"
     ]
    }
   ],
   "source": [
    "for i in a:\n",
    "    if i>2:\n",
    "        if i!=3:\n",
    "            for j in fruit:\n",
    "                if j !='Oranges':\n",
    "                    print(i,j)"
   ]
  },
  {
   "cell_type": "code",
   "execution_count": 310,
   "id": "a2f1df47-5edc-4fae-bb97-7402b400ee27",
   "metadata": {},
   "outputs": [
    {
     "data": {
      "text/plain": [
       "[(4, 'Pears'),\n",
       " (4, 'Grapes'),\n",
       " (5, 'Pears'),\n",
       " (5, 'Grapes'),\n",
       " (6, 'Pears'),\n",
       " (6, 'Grapes')]"
      ]
     },
     "execution_count": 310,
     "metadata": {},
     "output_type": "execute_result"
    }
   ],
   "source": [
    "[(i,j) for i in a if i>2 if i!=3 for j in fruit if j!='Oranges'and j!='Apples']"
   ]
  },
  {
   "cell_type": "code",
   "execution_count": 312,
   "id": "6081e8ba-22a4-4a24-9586-7c62dac97311",
   "metadata": {},
   "outputs": [
    {
     "name": "stdout",
     "output_type": "stream",
     "text": [
      "4 Pears\n",
      "4 Grapes\n",
      "5 Pears\n",
      "5 Grapes\n",
      "6 Pears\n",
      "6 Grapes\n"
     ]
    }
   ],
   "source": [
    "for i in a:\n",
    "    if i>2:\n",
    "        if i!=3:\n",
    "            for j in fruit:\n",
    "                if j !='Oranges' and j!='Apples':\n",
    "                    print(i,j)"
   ]
  },
  {
   "cell_type": "markdown",
   "id": "0ce8d8e6-5f52-404d-b2b0-c6fb946889f1",
   "metadata": {},
   "source": [
    "**List Comprehension vs map()**"
   ]
  },
  {
   "cell_type": "code",
   "execution_count": 315,
   "id": "11804fa6-f386-4023-b7bc-4972ee744e03",
   "metadata": {},
   "outputs": [],
   "source": [
    "a=[1,2,3,4]"
   ]
  },
  {
   "cell_type": "markdown",
   "id": "2c6cb7d7-9d7a-432f-92b3-7f5c6eaf7042",
   "metadata": {},
   "source": [
    "**Multiply each number by 2 and return the result**"
   ]
  },
  {
   "cell_type": "code",
   "execution_count": 325,
   "id": "9cc97b8d-f20b-4cca-a056-fa0840f2eec7",
   "metadata": {},
   "outputs": [
    {
     "data": {
      "text/plain": [
       "[2, 4, 6, 8]"
      ]
     },
     "execution_count": 325,
     "metadata": {},
     "output_type": "execute_result"
    }
   ],
   "source": [
    "[i*2 for i in a] # preferred way is this"
   ]
  },
  {
   "cell_type": "markdown",
   "id": "78565021-76aa-4758-8e98-dea7fc6c00dc",
   "metadata": {},
   "source": [
    "map(function,list)"
   ]
  },
  {
   "cell_type": "code",
   "execution_count": 328,
   "id": "20e2b7cb-32f8-4aa3-9cc6-db0df9cd3ee8",
   "metadata": {},
   "outputs": [
    {
     "data": {
      "text/plain": [
       "<map at 0x25e7ddd99f0>"
      ]
     },
     "execution_count": 328,
     "metadata": {},
     "output_type": "execute_result"
    }
   ],
   "source": [
    "map(lambda i: i*2,a)"
   ]
  },
  {
   "cell_type": "code",
   "execution_count": 330,
   "id": "000d88d6-c163-4768-af7c-712c0caf8d42",
   "metadata": {},
   "outputs": [
    {
     "data": {
      "text/plain": [
       "[2, 4, 6, 8]"
      ]
     },
     "execution_count": 330,
     "metadata": {},
     "output_type": "execute_result"
    }
   ],
   "source": [
    "list(map(lambda i:i*2,a))"
   ]
  },
  {
   "cell_type": "code",
   "execution_count": 333,
   "id": "a938b227-d1a9-4c1b-b609-639309b1fdb9",
   "metadata": {},
   "outputs": [
    {
     "data": {
      "text/plain": [
       "<map at 0x25e7cb92320>"
      ]
     },
     "execution_count": 333,
     "metadata": {},
     "output_type": "execute_result"
    }
   ],
   "source": [
    "map(str,[1,2,3,4])"
   ]
  },
  {
   "cell_type": "code",
   "execution_count": 335,
   "id": "f1fb84bd-8688-4a73-979b-5b22ff6652ae",
   "metadata": {},
   "outputs": [
    {
     "data": {
      "text/plain": [
       "['1', '2', '3', '4']"
      ]
     },
     "execution_count": 335,
     "metadata": {},
     "output_type": "execute_result"
    }
   ],
   "source": [
    "list(map(str,[1,2,3,4]))"
   ]
  },
  {
   "cell_type": "markdown",
   "id": "6075742e-59b0-4c40-9f85-ae96950dd164",
   "metadata": {},
   "source": [
    "**using filters**"
   ]
  },
  {
   "cell_type": "code",
   "execution_count": 338,
   "id": "9c2f2c0e-ffd5-46a2-addb-685aabd1ced8",
   "metadata": {},
   "outputs": [
    {
     "data": {
      "text/plain": [
       "[4, 6, 8]"
      ]
     },
     "execution_count": 338,
     "metadata": {},
     "output_type": "execute_result"
    }
   ],
   "source": [
    "[i*2 for i in a if i > 1]"
   ]
  },
  {
   "cell_type": "code",
   "execution_count": 348,
   "id": "2336f57a-e953-4779-b45d-7b402aee8ddf",
   "metadata": {},
   "outputs": [
    {
     "data": {
      "text/plain": [
       "[2, 3, 4]"
      ]
     },
     "execution_count": 348,
     "metadata": {},
     "output_type": "execute_result"
    }
   ],
   "source": [
    "list(filter(lambda i:i>1,map(int,[1,2,3,4])))"
   ]
  },
  {
   "cell_type": "markdown",
   "id": "21c41728-1bb7-443f-9f74-8745c2ac6f90",
   "metadata": {},
   "source": [
    "if we are filtering using map, we need to use filter and lambda"
   ]
  },
  {
   "cell_type": "code",
   "execution_count": 351,
   "id": "0eb29fb7-13ec-4903-87bd-75fe8ff91dc4",
   "metadata": {},
   "outputs": [
    {
     "data": {
      "text/plain": [
       "[2, 4, 6, 8]"
      ]
     },
     "execution_count": 351,
     "metadata": {},
     "output_type": "execute_result"
    }
   ],
   "source": [
    "[i*2 for i in a]"
   ]
  },
  {
   "cell_type": "code",
   "execution_count": 359,
   "id": "fbc527ba-33ee-415a-9970-37a6b4df3e86",
   "metadata": {},
   "outputs": [
    {
     "data": {
      "text/plain": [
       "[1, 2, 3, 4]"
      ]
     },
     "execution_count": 359,
     "metadata": {},
     "output_type": "execute_result"
    }
   ],
   "source": [
    "a"
   ]
  },
  {
   "cell_type": "code",
   "execution_count": 367,
   "id": "fa788a9a-4db4-4e89-bfdf-630cc4327444",
   "metadata": {},
   "outputs": [],
   "source": [
    "def timestwo(i):\n",
    "    return i*2"
   ]
  },
  {
   "cell_type": "code",
   "execution_count": 369,
   "id": "d3d86035-09ae-423d-b295-b8e7de86b0be",
   "metadata": {},
   "outputs": [
    {
     "data": {
      "text/plain": [
       "[2, 4, 6, 8]"
      ]
     },
     "execution_count": 369,
     "metadata": {},
     "output_type": "execute_result"
    }
   ],
   "source": [
    "[timestwo(i) for i in a]"
   ]
  },
  {
   "cell_type": "code",
   "execution_count": 373,
   "id": "965f44c3-adc1-4bf6-a06d-6363f33da864",
   "metadata": {},
   "outputs": [
    {
     "data": {
      "text/plain": [
       "[2, 4, 6, 8]"
      ]
     },
     "execution_count": 373,
     "metadata": {},
     "output_type": "execute_result"
    }
   ],
   "source": [
    "list(map(timestwo,a))"
   ]
  },
  {
   "cell_type": "code",
   "execution_count": 375,
   "id": "401502c7-694f-42ed-b09a-7723de7cef19",
   "metadata": {},
   "outputs": [],
   "source": [
    "from timeit import timeit"
   ]
  },
  {
   "cell_type": "code",
   "execution_count": 379,
   "id": "d0b72b2a-d9c4-4d19-aeb7-8cafc13be991",
   "metadata": {},
   "outputs": [
    {
     "data": {
      "text/plain": [
       "0.1709229999978561"
      ]
     },
     "execution_count": 379,
     "metadata": {},
     "output_type": "execute_result"
    }
   ],
   "source": [
    "timeit(\"map(timestwo,[1,2,3,4])\",\"from __main__ import timestwo\")"
   ]
  },
  {
   "cell_type": "code",
   "execution_count": 381,
   "id": "a8278857-a6ca-49d8-8fbe-f817935e3051",
   "metadata": {},
   "outputs": [
    {
     "data": {
      "text/plain": [
       "0.25953509999089874"
      ]
     },
     "execution_count": 381,
     "metadata": {},
     "output_type": "execute_result"
    }
   ],
   "source": [
    "timeit(\"map(lambda i:i*2,[1,2,3,4])\",\"from __main__ import timestwo\")"
   ]
  },
  {
   "cell_type": "markdown",
   "id": "a6081ee7-caff-4d6b-95e9-655b85351a7e",
   "metadata": {},
   "source": [
    "lambda takes more time, its better to avoid map and lambda"
   ]
  },
  {
   "cell_type": "code",
   "execution_count": 385,
   "id": "5599b6b5-e7c5-47a6-8ad3-be8a1fa365a8",
   "metadata": {},
   "outputs": [
    {
     "data": {
      "text/plain": [
       "0.561424999992596"
      ]
     },
     "execution_count": 385,
     "metadata": {},
     "output_type": "execute_result"
    }
   ],
   "source": [
    "timeit(\"list(map(timestwo,[1,2,3,4]))\",\"from __main__ import timestwo\")"
   ]
  },
  {
   "cell_type": "code",
   "execution_count": 389,
   "id": "9c6842f3-94b8-4c15-8cdc-7ade3209b143",
   "metadata": {},
   "outputs": [
    {
     "data": {
      "text/plain": [
       "0.1641916999942623"
      ]
     },
     "execution_count": 389,
     "metadata": {},
     "output_type": "execute_result"
    }
   ],
   "source": [
    "timeit(\"[i*2 for i in [1,2,3,4]]\",\"from __main__ import timestwo\")"
   ]
  },
  {
   "cell_type": "code",
   "execution_count": 393,
   "id": "56ffeba3-2639-4673-ac2e-55fe855ca08b",
   "metadata": {},
   "outputs": [
    {
     "data": {
      "text/plain": [
       "0.32551909997710027"
      ]
     },
     "execution_count": 393,
     "metadata": {},
     "output_type": "execute_result"
    }
   ],
   "source": [
    "timeit(\"[timestwo(i) for i in [1,2,3,4]]\",\"from __main__ import timestwo\")"
   ]
  },
  {
   "cell_type": "markdown",
   "id": "cdc8adf8-6f84-444c-ab4d-b5ee2452e395",
   "metadata": {},
   "source": [
    "map() function would be useful in using multiple iterables as arguments"
   ]
  },
  {
   "cell_type": "code",
   "execution_count": 405,
   "id": "c8c045d5-278f-4a30-929d-6ca94ed75314",
   "metadata": {},
   "outputs": [
    {
     "data": {
      "text/plain": [
       "[1, 0, 1, 0]"
      ]
     },
     "execution_count": 405,
     "metadata": {},
     "output_type": "execute_result"
    }
   ],
   "source": [
    "list(map(min, [1,2,3,4],[9,0,23,22],[3,2,1,0]))"
   ]
  },
  {
   "cell_type": "markdown",
   "id": "b8bf097b-b0ff-45d9-acd3-6a9dc1ce16f5",
   "metadata": {},
   "source": [
    "**List Comprehension vs filter() function**"
   ]
  },
  {
   "cell_type": "code",
   "execution_count": 408,
   "id": "8369d135-86af-45e1-b86e-3eccfe2e5b5d",
   "metadata": {},
   "outputs": [],
   "source": [
    "a=[1,2,3,4,5]"
   ]
  },
  {
   "cell_type": "code",
   "execution_count": 410,
   "id": "d47769fb-8921-4590-ac86-88b89bbe1317",
   "metadata": {},
   "outputs": [
    {
     "data": {
      "text/plain": [
       "[3, 4, 5]"
      ]
     },
     "execution_count": 410,
     "metadata": {},
     "output_type": "execute_result"
    }
   ],
   "source": [
    "[i for i in a if i>2] # if acts as a  filter in list comprehension"
   ]
  },
  {
   "cell_type": "code",
   "execution_count": 418,
   "id": "09db122a-3081-420f-b29a-9bcabea656dd",
   "metadata": {},
   "outputs": [
    {
     "data": {
      "text/plain": [
       "<filter at 0x25e7e96a380>"
      ]
     },
     "execution_count": 418,
     "metadata": {},
     "output_type": "execute_result"
    }
   ],
   "source": [
    "filter(lambda i:i>2,a) # two arguments - filter(function, iterable) \n",
    "#filtering using a filter function"
   ]
  },
  {
   "cell_type": "code",
   "execution_count": 416,
   "id": "b114ab40-7883-4b59-ad3b-1959daf15cd2",
   "metadata": {},
   "outputs": [
    {
     "data": {
      "text/plain": [
       "[3, 4, 5]"
      ]
     },
     "execution_count": 416,
     "metadata": {},
     "output_type": "execute_result"
    }
   ],
   "source": [
    "list(filter(lambda i:i>2,a))"
   ]
  },
  {
   "cell_type": "code",
   "execution_count": 434,
   "id": "c7d837bb-7a3b-4348-918b-d2f857282820",
   "metadata": {},
   "outputs": [],
   "source": [
    "def grettwo(i):\n",
    "    return i>2"
   ]
  },
  {
   "cell_type": "code",
   "execution_count": 436,
   "id": "43036b17-da0b-48f6-849d-71901990157a",
   "metadata": {},
   "outputs": [
    {
     "data": {
      "text/plain": [
       "[3, 4, 5]"
      ]
     },
     "execution_count": 436,
     "metadata": {},
     "output_type": "execute_result"
    }
   ],
   "source": [
    "[i for i in a if grettwo(i)]"
   ]
  },
  {
   "cell_type": "code",
   "execution_count": 438,
   "id": "ef543533-09a2-484c-999b-3dfaedef2b1f",
   "metadata": {},
   "outputs": [
    {
     "data": {
      "text/plain": [
       "[3, 4, 5]"
      ]
     },
     "execution_count": 438,
     "metadata": {},
     "output_type": "execute_result"
    }
   ],
   "source": [
    "list(filter(grettwo,a))"
   ]
  },
  {
   "cell_type": "code",
   "execution_count": 440,
   "id": "c09f74c3-b99d-4f80-9a1b-b22b8a32ede1",
   "metadata": {},
   "outputs": [
    {
     "data": {
      "text/plain": [
       "[True, True, True]"
      ]
     },
     "execution_count": 440,
     "metadata": {},
     "output_type": "execute_result"
    }
   ],
   "source": [
    "[grettwo(i) for i in a if i>2]"
   ]
  },
  {
   "cell_type": "code",
   "execution_count": 442,
   "id": "4a4c67f2-06f7-4d74-8c5f-70ea95061358",
   "metadata": {},
   "outputs": [
    {
     "data": {
      "text/plain": [
       "<filter at 0x25e7ddcf1c0>"
      ]
     },
     "execution_count": 442,
     "metadata": {},
     "output_type": "execute_result"
    }
   ],
   "source": [
    "filter(None,[0,1,2,3])"
   ]
  },
  {
   "cell_type": "code",
   "execution_count": 450,
   "id": "02ed98ca-ff4f-42d9-8e24-c81e19a678d7",
   "metadata": {},
   "outputs": [
    {
     "data": {
      "text/plain": [
       "[1, 2, 3]"
      ]
     },
     "execution_count": 450,
     "metadata": {},
     "output_type": "execute_result"
    }
   ],
   "source": [
    "list(filter(None,[0,1,2,3]))\n",
    "#None remove anything that is false"
   ]
  },
  {
   "cell_type": "code",
   "execution_count": 452,
   "id": "3b517241-d0a3-4039-8ff9-c94c4484589e",
   "metadata": {},
   "outputs": [
    {
     "data": {
      "text/plain": [
       "[1, 2, 3, True]"
      ]
     },
     "execution_count": 452,
     "metadata": {},
     "output_type": "execute_result"
    }
   ],
   "source": [
    "list(filter(None,[0,1,2,3, True, False]))\n",
    "#None remove anything that is false"
   ]
  },
  {
   "cell_type": "code",
   "execution_count": 454,
   "id": "a2b6f7fa-988e-46e8-8540-72475982e1d7",
   "metadata": {},
   "outputs": [
    {
     "data": {
      "text/plain": [
       "[1, 2, 3, True, '  ', 'Hey']"
      ]
     },
     "execution_count": 454,
     "metadata": {},
     "output_type": "execute_result"
    }
   ],
   "source": [
    "list(filter(None,[0,1,2,3, True, False, \"\", \"  \", \"Hey\"]))\n",
    "#None remove anything that is false"
   ]
  },
  {
   "cell_type": "code",
   "execution_count": 456,
   "id": "a4d4b6b7-2dcd-405e-ba62-62594686c645",
   "metadata": {},
   "outputs": [
    {
     "data": {
      "text/plain": [
       "False"
      ]
     },
     "execution_count": 456,
     "metadata": {},
     "output_type": "execute_result"
    }
   ],
   "source": [
    "bool(None)"
   ]
  },
  {
   "cell_type": "code",
   "execution_count": 458,
   "id": "c47c1a04-c7a3-4697-a2e3-d48084197d97",
   "metadata": {},
   "outputs": [
    {
     "data": {
      "text/plain": [
       "[1, 2, True, ' ']"
      ]
     },
     "execution_count": 458,
     "metadata": {},
     "output_type": "execute_result"
    }
   ],
   "source": [
    "[i for i in [0,1,2,True, False,\"\",\" \"] if bool(i) != bool(None)]"
   ]
  },
  {
   "cell_type": "code",
   "execution_count": 462,
   "id": "3090fb55-6e24-4f2d-9cdc-5ae907a3f02e",
   "metadata": {},
   "outputs": [
    {
     "data": {
      "text/plain": [
       "<filter at 0x25e7cb931c0>"
      ]
     },
     "execution_count": 462,
     "metadata": {},
     "output_type": "execute_result"
    }
   ],
   "source": [
    "filter(None,[0,1,2,3])\n",
    "# returns a filter object"
   ]
  },
  {
   "cell_type": "code",
   "execution_count": 466,
   "id": "b8e4eb30-d6a8-4e24-9cad-e39560812398",
   "metadata": {},
   "outputs": [
    {
     "data": {
      "text/plain": [
       "0.201209499995457"
      ]
     },
     "execution_count": 466,
     "metadata": {},
     "output_type": "execute_result"
    }
   ],
   "source": [
    "timeit(\"[i for i in [1,2,3,4,5] if i>2]\")"
   ]
  },
  {
   "cell_type": "code",
   "execution_count": 470,
   "id": "2593aa58-c920-4e18-a1ca-cdbc653bf07a",
   "metadata": {},
   "outputs": [
    {
     "data": {
      "text/plain": [
       "0.7281565000012051"
      ]
     },
     "execution_count": 470,
     "metadata": {},
     "output_type": "execute_result"
    }
   ],
   "source": [
    "timeit(\"list(filter(lambda i:i>2,[1,2,3,4,5]))\")"
   ]
  },
  {
   "cell_type": "markdown",
   "id": "de0d5127-3c66-4dd9-9dff-ed1a5b0d3e3a",
   "metadata": {},
   "source": [
    "**list comprehensions vs reduce**"
   ]
  },
  {
   "cell_type": "code",
   "execution_count": 475,
   "id": "8b8fa37f-0206-4bd4-a28f-d1e6428feaeb",
   "metadata": {},
   "outputs": [
    {
     "ename": "NameError",
     "evalue": "name 'reduce' is not defined",
     "output_type": "error",
     "traceback": [
      "\u001b[1;31m---------------------------------------------------------------------------\u001b[0m",
      "\u001b[1;31mNameError\u001b[0m                                 Traceback (most recent call last)",
      "Cell \u001b[1;32mIn[475], line 1\u001b[0m\n\u001b[1;32m----> 1\u001b[0m reduce(\u001b[38;5;28;01mlambda\u001b[39;00m x,y:x\u001b[38;5;241m+\u001b[39my,[\u001b[38;5;241m1\u001b[39m,\u001b[38;5;241m2\u001b[39m,\u001b[38;5;241m3\u001b[39m,\u001b[38;5;241m4\u001b[39m])\n",
      "\u001b[1;31mNameError\u001b[0m: name 'reduce' is not defined"
     ]
    }
   ],
   "source": [
    "reduce(lambda x,y:x+y,[1,2,3,4]) # this would have worked in python 2"
   ]
  },
  {
   "cell_type": "code",
   "execution_count": 479,
   "id": "7209e7f2-539d-4980-a8a4-344b643b0fe7",
   "metadata": {},
   "outputs": [],
   "source": [
    "from functools import reduce"
   ]
  },
  {
   "cell_type": "code",
   "execution_count": 481,
   "id": "44c03a0c-f1da-43f3-a9ef-24bc51ceba3b",
   "metadata": {},
   "outputs": [
    {
     "data": {
      "text/plain": [
       "10"
      ]
     },
     "execution_count": 481,
     "metadata": {},
     "output_type": "execute_result"
    }
   ],
   "source": [
    "reduce(lambda x,y:x+y,[1,2,3,4]) # this would have worked in python 2"
   ]
  },
  {
   "cell_type": "code",
   "execution_count": 483,
   "id": "c0d08f7b-b220-47cc-9c1b-01cf661778d6",
   "metadata": {},
   "outputs": [
    {
     "data": {
      "text/plain": [
       "24"
      ]
     },
     "execution_count": 483,
     "metadata": {},
     "output_type": "execute_result"
    }
   ],
   "source": [
    "from functools import reduce\n",
    "reduce(lambda x,y:x*y,[1,2,3,4])"
   ]
  },
  {
   "cell_type": "code",
   "execution_count": 489,
   "id": "ff5a58af-8433-4fb9-9c4b-2c44eecbd726",
   "metadata": {},
   "outputs": [
    {
     "data": {
      "text/plain": [
       "10"
      ]
     },
     "execution_count": 489,
     "metadata": {},
     "output_type": "execute_result"
    }
   ],
   "source": [
    "sum([i for i in [1,2,3,4]])"
   ]
  },
  {
   "cell_type": "code",
   "execution_count": 491,
   "id": "91d7252c-225a-44cc-b726-0f4c141587e4",
   "metadata": {},
   "outputs": [
    {
     "data": {
      "text/plain": [
       "24"
      ]
     },
     "execution_count": 491,
     "metadata": {},
     "output_type": "execute_result"
    }
   ],
   "source": [
    "reduce(lambda x,y:x*y,[1,2,3,4])"
   ]
  },
  {
   "cell_type": "markdown",
   "id": "ed0d3eb0-7c17-4992-889b-bc336b4708e7",
   "metadata": {},
   "source": [
    "Somethings you can do in reduce, you cannot do in list comprehensions. ex: mul"
   ]
  },
  {
   "cell_type": "markdown",
   "id": "32532667-8478-434a-a952-e92e505ed576",
   "metadata": {},
   "source": [
    "Flatten the list"
   ]
  },
  {
   "cell_type": "code",
   "execution_count": 501,
   "id": "cd596002-dc30-4e5e-876d-178befb5e256",
   "metadata": {},
   "outputs": [
    {
     "data": {
      "text/plain": [
       "[[1, 2], [1, 2], [1, 2]]"
      ]
     },
     "execution_count": 501,
     "metadata": {},
     "output_type": "execute_result"
    }
   ],
   "source": [
    "b=[[1,2],[1,2],[1,2]]\n",
    "b"
   ]
  },
  {
   "cell_type": "code",
   "execution_count": 503,
   "id": "79ff3fb4-c498-4b85-919f-dee2c61e3f79",
   "metadata": {},
   "outputs": [
    {
     "data": {
      "text/plain": [
       "[1, 2, 1, 2, 1, 2]"
      ]
     },
     "execution_count": 503,
     "metadata": {},
     "output_type": "execute_result"
    }
   ],
   "source": [
    "[i for sublist in b for i in sublist]"
   ]
  },
  {
   "cell_type": "code",
   "execution_count": 505,
   "id": "dc18e363-9f84-458b-841c-495ebbe6c2cf",
   "metadata": {},
   "outputs": [
    {
     "data": {
      "text/plain": [
       "[1, 2, 1, 2, 1, 2]"
      ]
     },
     "execution_count": 505,
     "metadata": {},
     "output_type": "execute_result"
    }
   ],
   "source": [
    "reduce(lambda x,y:x+y,b)"
   ]
  },
  {
   "cell_type": "code",
   "execution_count": 507,
   "id": "dc3c62a9-b668-4ac4-ba9d-3ad18e151aba",
   "metadata": {},
   "outputs": [
    {
     "data": {
      "text/plain": [
       "10"
      ]
     },
     "execution_count": 507,
     "metadata": {},
     "output_type": "execute_result"
    }
   ],
   "source": [
    "reduce(lambda x,y:x+y,[1,2,3,4])"
   ]
  },
  {
   "cell_type": "code",
   "execution_count": 513,
   "id": "fa84f64c-4c6d-4f35-8289-83abc6a02766",
   "metadata": {},
   "outputs": [
    {
     "data": {
      "text/plain": [
       "7"
      ]
     },
     "execution_count": 513,
     "metadata": {},
     "output_type": "execute_result"
    }
   ],
   "source": [
    "reduce(lambda x,y:x if x>y else y,[1,2,7,3,4]) # can't be done in list comprehension"
   ]
  },
  {
   "cell_type": "markdown",
   "id": "99cea99d-b921-4578-83da-277ecb0a4613",
   "metadata": {},
   "source": [
    "reduce(function, iterable) # function needs to take two arguments"
   ]
  },
  {
   "cell_type": "code",
   "execution_count": 518,
   "id": "06aa193b-d25b-498a-bec5-a2038c2974bb",
   "metadata": {},
   "outputs": [],
   "source": [
    "def grttwo(i):\n",
    "    return i>2"
   ]
  },
  {
   "cell_type": "code",
   "execution_count": 520,
   "id": "c7bd2183-343c-4e3a-88a5-7f34177bebb5",
   "metadata": {},
   "outputs": [
    {
     "ename": "TypeError",
     "evalue": "grttwo() takes 1 positional argument but 2 were given",
     "output_type": "error",
     "traceback": [
      "\u001b[1;31m---------------------------------------------------------------------------\u001b[0m",
      "\u001b[1;31mTypeError\u001b[0m                                 Traceback (most recent call last)",
      "Cell \u001b[1;32mIn[520], line 1\u001b[0m\n\u001b[1;32m----> 1\u001b[0m reduce(grttwo,[\u001b[38;5;241m1\u001b[39m,\u001b[38;5;241m2\u001b[39m])\n",
      "\u001b[1;31mTypeError\u001b[0m: grttwo() takes 1 positional argument but 2 were given"
     ]
    }
   ],
   "source": [
    "reduce(grttwo,[1,2])"
   ]
  },
  {
   "cell_type": "code",
   "execution_count": 522,
   "id": "f69d72dd-f001-4424-b1e4-7fcd469049dd",
   "metadata": {},
   "outputs": [],
   "source": [
    "def addtwo(i,j):\n",
    "    return i+j"
   ]
  },
  {
   "cell_type": "code",
   "execution_count": 524,
   "id": "d2a33f24-c105-4740-879b-6c9cfa35c9ab",
   "metadata": {},
   "outputs": [
    {
     "data": {
      "text/plain": [
       "3"
      ]
     },
     "execution_count": 524,
     "metadata": {},
     "output_type": "execute_result"
    }
   ],
   "source": [
    "reduce(addtwo,[1,2])"
   ]
  },
  {
   "cell_type": "markdown",
   "id": "31382cf5-a101-430d-b521-b50a549f9025",
   "metadata": {},
   "source": [
    "**List comprehensions with multiple for loops**"
   ]
  },
  {
   "cell_type": "code",
   "execution_count": 564,
   "id": "1857ad57-4948-473d-9afe-b6b8a1b37b1a",
   "metadata": {},
   "outputs": [],
   "source": [
    "a=[1,2,3,4,5]\n",
    "fruit=['Apple','Banana','Orange','Pears']"
   ]
  },
  {
   "cell_type": "code",
   "execution_count": 533,
   "id": "36f2e074-48c1-4b69-b593-657553dd3be6",
   "metadata": {},
   "outputs": [
    {
     "data": {
      "text/plain": [
       "[(1, 'Apple'),\n",
       " (1, 'Banana'),\n",
       " (1, 'Orange'),\n",
       " (1, 'Pears'),\n",
       " (2, 'Apple'),\n",
       " (2, 'Banana'),\n",
       " (2, 'Orange'),\n",
       " (2, 'Pears'),\n",
       " (3, 'Apple'),\n",
       " (3, 'Banana'),\n",
       " (3, 'Orange'),\n",
       " (3, 'Pears'),\n",
       " (4, 'Apple'),\n",
       " (4, 'Banana'),\n",
       " (4, 'Orange'),\n",
       " (4, 'Pears'),\n",
       " (5, 'Apple'),\n",
       " (5, 'Banana'),\n",
       " (5, 'Orange'),\n",
       " (5, 'Pears')]"
      ]
     },
     "execution_count": 533,
     "metadata": {},
     "output_type": "execute_result"
    }
   ],
   "source": [
    "[(i,j) for i in a for j in fruit]\n",
    "# highest level for loop is on the left"
   ]
  },
  {
   "cell_type": "code",
   "execution_count": 531,
   "id": "90840957-dfc7-41b8-89e2-211b8a1eb810",
   "metadata": {},
   "outputs": [
    {
     "name": "stdout",
     "output_type": "stream",
     "text": [
      "1 Apple\n",
      "1 Banana\n",
      "1 Orange\n",
      "1 Pears\n",
      "2 Apple\n",
      "2 Banana\n",
      "2 Orange\n",
      "2 Pears\n",
      "3 Apple\n",
      "3 Banana\n",
      "3 Orange\n",
      "3 Pears\n",
      "4 Apple\n",
      "4 Banana\n",
      "4 Orange\n",
      "4 Pears\n",
      "5 Apple\n",
      "5 Banana\n",
      "5 Orange\n",
      "5 Pears\n"
     ]
    }
   ],
   "source": [
    "for i in a:\n",
    "    for j in fruit:\n",
    "        print(i,j)"
   ]
  },
  {
   "cell_type": "code",
   "execution_count": 539,
   "id": "a45bc9e4-7dfa-4d5b-80e6-f37484b9a820",
   "metadata": {},
   "outputs": [
    {
     "data": {
      "text/plain": [
       "[(1, 'Apple', 'x'),\n",
       " (1, 'Apple', 'y'),\n",
       " (1, 'Apple', 'z'),\n",
       " (1, 'Banana', 'x'),\n",
       " (1, 'Banana', 'y'),\n",
       " (1, 'Banana', 'z'),\n",
       " (1, 'Orange', 'x'),\n",
       " (1, 'Orange', 'y'),\n",
       " (1, 'Orange', 'z'),\n",
       " (1, 'Pears', 'x'),\n",
       " (1, 'Pears', 'y'),\n",
       " (1, 'Pears', 'z'),\n",
       " (2, 'Apple', 'x'),\n",
       " (2, 'Apple', 'y'),\n",
       " (2, 'Apple', 'z'),\n",
       " (2, 'Banana', 'x'),\n",
       " (2, 'Banana', 'y'),\n",
       " (2, 'Banana', 'z'),\n",
       " (2, 'Orange', 'x'),\n",
       " (2, 'Orange', 'y'),\n",
       " (2, 'Orange', 'z'),\n",
       " (2, 'Pears', 'x'),\n",
       " (2, 'Pears', 'y'),\n",
       " (2, 'Pears', 'z'),\n",
       " (3, 'Apple', 'x'),\n",
       " (3, 'Apple', 'y'),\n",
       " (3, 'Apple', 'z'),\n",
       " (3, 'Banana', 'x'),\n",
       " (3, 'Banana', 'y'),\n",
       " (3, 'Banana', 'z'),\n",
       " (3, 'Orange', 'x'),\n",
       " (3, 'Orange', 'y'),\n",
       " (3, 'Orange', 'z'),\n",
       " (3, 'Pears', 'x'),\n",
       " (3, 'Pears', 'y'),\n",
       " (3, 'Pears', 'z'),\n",
       " (4, 'Apple', 'x'),\n",
       " (4, 'Apple', 'y'),\n",
       " (4, 'Apple', 'z'),\n",
       " (4, 'Banana', 'x'),\n",
       " (4, 'Banana', 'y'),\n",
       " (4, 'Banana', 'z'),\n",
       " (4, 'Orange', 'x'),\n",
       " (4, 'Orange', 'y'),\n",
       " (4, 'Orange', 'z'),\n",
       " (4, 'Pears', 'x'),\n",
       " (4, 'Pears', 'y'),\n",
       " (4, 'Pears', 'z'),\n",
       " (5, 'Apple', 'x'),\n",
       " (5, 'Apple', 'y'),\n",
       " (5, 'Apple', 'z'),\n",
       " (5, 'Banana', 'x'),\n",
       " (5, 'Banana', 'y'),\n",
       " (5, 'Banana', 'z'),\n",
       " (5, 'Orange', 'x'),\n",
       " (5, 'Orange', 'y'),\n",
       " (5, 'Orange', 'z'),\n",
       " (5, 'Pears', 'x'),\n",
       " (5, 'Pears', 'y'),\n",
       " (5, 'Pears', 'z')]"
      ]
     },
     "execution_count": 539,
     "metadata": {},
     "output_type": "execute_result"
    }
   ],
   "source": [
    "[(i,j,k) for i in a for j in fruit for k in ('x','y','z')]"
   ]
  },
  {
   "cell_type": "code",
   "execution_count": 543,
   "id": "da04055e-ab58-42e9-848b-0d7c9954bb14",
   "metadata": {},
   "outputs": [
    {
     "name": "stdout",
     "output_type": "stream",
     "text": [
      "1 Apple x\n",
      "1 Apple y\n",
      "1 Apple z\n",
      "1 Banana x\n",
      "1 Banana y\n",
      "1 Banana z\n",
      "1 Orange x\n",
      "1 Orange y\n",
      "1 Orange z\n",
      "1 Pears x\n",
      "1 Pears y\n",
      "1 Pears z\n",
      "2 Apple x\n",
      "2 Apple y\n",
      "2 Apple z\n",
      "2 Banana x\n",
      "2 Banana y\n",
      "2 Banana z\n",
      "2 Orange x\n",
      "2 Orange y\n",
      "2 Orange z\n",
      "2 Pears x\n",
      "2 Pears y\n",
      "2 Pears z\n",
      "3 Apple x\n",
      "3 Apple y\n",
      "3 Apple z\n",
      "3 Banana x\n",
      "3 Banana y\n",
      "3 Banana z\n",
      "3 Orange x\n",
      "3 Orange y\n",
      "3 Orange z\n",
      "3 Pears x\n",
      "3 Pears y\n",
      "3 Pears z\n",
      "4 Apple x\n",
      "4 Apple y\n",
      "4 Apple z\n",
      "4 Banana x\n",
      "4 Banana y\n",
      "4 Banana z\n",
      "4 Orange x\n",
      "4 Orange y\n",
      "4 Orange z\n",
      "4 Pears x\n",
      "4 Pears y\n",
      "4 Pears z\n",
      "5 Apple x\n",
      "5 Apple y\n",
      "5 Apple z\n",
      "5 Banana x\n",
      "5 Banana y\n",
      "5 Banana z\n",
      "5 Orange x\n",
      "5 Orange y\n",
      "5 Orange z\n",
      "5 Pears x\n",
      "5 Pears y\n",
      "5 Pears z\n"
     ]
    }
   ],
   "source": [
    "for i in a:\n",
    "    for j in fruit:\n",
    "        for k in ['x','y','z']:\n",
    "            print(i,j,k)"
   ]
  },
  {
   "cell_type": "markdown",
   "id": "2ab80fd5-a077-4509-9413-adceb9391037",
   "metadata": {},
   "source": [
    "** Flattening list**"
   ]
  },
  {
   "cell_type": "code",
   "execution_count": 546,
   "id": "c46034b1-2f69-43bb-8590-b06dab41c24a",
   "metadata": {},
   "outputs": [],
   "source": [
    "a=[[12,3,4,55,], [44,],[3,5,8,9]]"
   ]
  },
  {
   "cell_type": "code",
   "execution_count": 548,
   "id": "ce224012-ee5c-4a4e-8d8e-c99a78b96fa8",
   "metadata": {},
   "outputs": [
    {
     "data": {
      "text/plain": [
       "[[12, 3, 4, 55], [44], [3, 5, 8, 9]]"
      ]
     },
     "execution_count": 548,
     "metadata": {},
     "output_type": "execute_result"
    }
   ],
   "source": [
    "a"
   ]
  },
  {
   "cell_type": "code",
   "execution_count": 552,
   "id": "5448b00c-85c7-4739-a776-1534a30a6f9d",
   "metadata": {},
   "outputs": [
    {
     "data": {
      "text/plain": [
       "[12, 3, 4, 55, 44, 3, 5, 8, 9]"
      ]
     },
     "execution_count": 552,
     "metadata": {},
     "output_type": "execute_result"
    }
   ],
   "source": [
    "[item for sublist in a for item in sublist ]"
   ]
  },
  {
   "cell_type": "code",
   "execution_count": 554,
   "id": "366977b0-0213-44bd-8dff-62c7fa323290",
   "metadata": {},
   "outputs": [],
   "source": [
    "#data types"
   ]
  },
  {
   "cell_type": "code",
   "execution_count": 566,
   "id": "bd1475b7-cd56-4f3b-9e41-209bc5d300f8",
   "metadata": {},
   "outputs": [],
   "source": [
    "a=[1,2,3,4,5]\n",
    "fruit=['Apple','Banana','Orange','Pears']"
   ]
  },
  {
   "cell_type": "code",
   "execution_count": 568,
   "id": "c26729ba-dbbb-4e3f-96ab-ab3efe0b7a15",
   "metadata": {},
   "outputs": [
    {
     "data": {
      "text/plain": [
       "[{1, 'Apple'},\n",
       " {1, 'Banana'},\n",
       " {1, 'Orange'},\n",
       " {1, 'Pears'},\n",
       " {2, 'Apple'},\n",
       " {2, 'Banana'},\n",
       " {2, 'Orange'},\n",
       " {2, 'Pears'},\n",
       " {3, 'Apple'},\n",
       " {3, 'Banana'},\n",
       " {3, 'Orange'},\n",
       " {3, 'Pears'},\n",
       " {4, 'Apple'},\n",
       " {4, 'Banana'},\n",
       " {4, 'Orange'},\n",
       " {4, 'Pears'},\n",
       " {5, 'Apple'},\n",
       " {5, 'Banana'},\n",
       " {5, 'Orange'},\n",
       " {5, 'Pears'}]"
      ]
     },
     "execution_count": 568,
     "metadata": {},
     "output_type": "execute_result"
    }
   ],
   "source": [
    "[{i,j} for i in a for j in fruit]"
   ]
  },
  {
   "cell_type": "code",
   "execution_count": 570,
   "id": "fafa1bfd-fb79-49c1-b8da-809ec457660a",
   "metadata": {},
   "outputs": [
    {
     "data": {
      "text/plain": [
       "[[1, 'Apple'],\n",
       " [1, 'Banana'],\n",
       " [1, 'Orange'],\n",
       " [1, 'Pears'],\n",
       " [2, 'Apple'],\n",
       " [2, 'Banana'],\n",
       " [2, 'Orange'],\n",
       " [2, 'Pears'],\n",
       " [3, 'Apple'],\n",
       " [3, 'Banana'],\n",
       " [3, 'Orange'],\n",
       " [3, 'Pears'],\n",
       " [4, 'Apple'],\n",
       " [4, 'Banana'],\n",
       " [4, 'Orange'],\n",
       " [4, 'Pears'],\n",
       " [5, 'Apple'],\n",
       " [5, 'Banana'],\n",
       " [5, 'Orange'],\n",
       " [5, 'Pears']]"
      ]
     },
     "execution_count": 570,
     "metadata": {},
     "output_type": "execute_result"
    }
   ],
   "source": [
    "[[i,j] for i in a for j in fruit]"
   ]
  },
  {
   "cell_type": "code",
   "execution_count": 574,
   "id": "66bf0062-961d-4b10-99f3-5d9eac73a21a",
   "metadata": {},
   "outputs": [
    {
     "data": {
      "text/plain": [
       "[{1, 'Apple'},\n",
       " {1, 'Banana'},\n",
       " {1, 'Orange'},\n",
       " {1, 'Pears'},\n",
       " {2, 'Apple'},\n",
       " {2, 'Banana'},\n",
       " {2, 'Orange'},\n",
       " {2, 'Pears'},\n",
       " {3, 'Apple'},\n",
       " {3, 'Banana'},\n",
       " {3, 'Orange'},\n",
       " {3, 'Pears'},\n",
       " {4, 'Apple'},\n",
       " {4, 'Banana'},\n",
       " {4, 'Orange'},\n",
       " {4, 'Pears'},\n",
       " {5, 'Apple'},\n",
       " {5, 'Banana'},\n",
       " {5, 'Orange'},\n",
       " {5, 'Pears'}]"
      ]
     },
     "execution_count": 574,
     "metadata": {},
     "output_type": "execute_result"
    }
   ],
   "source": [
    "[set([i,j]) for i in a for j in fruit]"
   ]
  },
  {
   "cell_type": "markdown",
   "id": "49c90d8c-8825-4006-afd9-35d87c8d7658",
   "metadata": {},
   "source": [
    "** list of different sizes**"
   ]
  },
  {
   "cell_type": "code",
   "execution_count": 577,
   "id": "a7f24810-85ae-4964-a90a-b920b74949c0",
   "metadata": {},
   "outputs": [
    {
     "data": {
      "text/plain": [
       "[1, 2, 3, 4, 5]"
      ]
     },
     "execution_count": 577,
     "metadata": {},
     "output_type": "execute_result"
    }
   ],
   "source": [
    "a"
   ]
  },
  {
   "cell_type": "code",
   "execution_count": 579,
   "id": "d497a93f-9155-4c23-9547-d8bcc1933ab2",
   "metadata": {},
   "outputs": [
    {
     "data": {
      "text/plain": [
       "['Apple', 'Banana', 'Orange', 'Pears']"
      ]
     },
     "execution_count": 579,
     "metadata": {},
     "output_type": "execute_result"
    }
   ],
   "source": [
    "fruit"
   ]
  },
  {
   "cell_type": "code",
   "execution_count": 581,
   "id": "783174ab-ac8b-4ac1-b014-d1036bd5f45e",
   "metadata": {},
   "outputs": [
    {
     "data": {
      "text/plain": [
       "[(1, 'Apple'), (2, 'Banana'), (3, 'Orange'), (4, 'Pears')]"
      ]
     },
     "execution_count": 581,
     "metadata": {},
     "output_type": "execute_result"
    }
   ],
   "source": [
    "list(zip(a,fruit))"
   ]
  },
  {
   "cell_type": "code",
   "execution_count": 583,
   "id": "5d9d1a2a-bcde-4cbc-844a-c56302b59fd8",
   "metadata": {},
   "outputs": [],
   "source": [
    "#Zips upto shortest of the two lists"
   ]
  },
  {
   "cell_type": "code",
   "execution_count": 585,
   "id": "01bf0baf-463e-4750-91f8-22e31ef24691",
   "metadata": {},
   "outputs": [],
   "source": [
    "# unused values"
   ]
  },
  {
   "cell_type": "code",
   "execution_count": 587,
   "id": "d5f87845-3b5b-482e-8ffa-66a408d1770b",
   "metadata": {},
   "outputs": [
    {
     "data": {
      "text/plain": [
       "[1, 1, 1, 1, 2, 2, 2, 2, 3, 3, 3, 3, 4, 4, 4, 4, 5, 5, 5, 5]"
      ]
     },
     "execution_count": 587,
     "metadata": {},
     "output_type": "execute_result"
    }
   ],
   "source": [
    "[(i) for i in a for j in fruit]"
   ]
  },
  {
   "cell_type": "code",
   "execution_count": 589,
   "id": "81aa1fbb-d1be-476e-b431-f5f606088c84",
   "metadata": {},
   "outputs": [],
   "source": [
    "#loop is happening, u r not grabbing"
   ]
  },
  {
   "cell_type": "code",
   "execution_count": 591,
   "id": "69892a94-f994-4871-8a3b-6035af010fbf",
   "metadata": {},
   "outputs": [
    {
     "data": {
      "text/plain": [
       "['T', 'i', 'a', 'g', 'D']"
      ]
     },
     "execution_count": 591,
     "metadata": {},
     "output_type": "execute_result"
    }
   ],
   "source": [
    "words=[\"This\",\"is\",\"a\",\"great\",\"Day\"]\n",
    "items=[word[0] for word in words]\n",
    "items"
   ]
  },
  {
   "cell_type": "code",
   "execution_count": 593,
   "id": "db21c66a-09bf-419c-9433-2f95527132e3",
   "metadata": {},
   "outputs": [
    {
     "data": {
      "text/plain": [
       "[(1, 'a'),\n",
       " (1, 'b'),\n",
       " (1, 'c'),\n",
       " (2, 'a'),\n",
       " (2, 'b'),\n",
       " (2, 'c'),\n",
       " (3, 'a'),\n",
       " (3, 'b'),\n",
       " (3, 'c')]"
      ]
     },
     "execution_count": 593,
     "metadata": {},
     "output_type": "execute_result"
    }
   ],
   "source": [
    "a=[1,2,3]\n",
    "b=['a','b','c']\n",
    "[(i,j) for i in a for j in b]"
   ]
  },
  {
   "cell_type": "code",
   "execution_count": 597,
   "id": "591f702c-f5c8-417b-9fba-4c368caa21db",
   "metadata": {},
   "outputs": [
    {
     "data": {
      "text/plain": [
       "['orange']"
      ]
     },
     "execution_count": 597,
     "metadata": {},
     "output_type": "execute_result"
    }
   ],
   "source": [
    "colors=['red','green','blue','orange','yellow']\n",
    "col=[color for color in colors if color=='orange']\n",
    "col"
   ]
  },
  {
   "cell_type": "code",
   "execution_count": 607,
   "id": "d03dff4f-7916-46cf-84b1-99f42843fba2",
   "metadata": {},
   "outputs": [
    {
     "name": "stdout",
     "output_type": "stream",
     "text": [
      "['1', '7', '2', '0', '2', '4']\n"
     ]
    }
   ],
   "source": [
    "x=\"Good Day 17 oct 2024\"\n",
    "num=[i for i in x if i.isdigit()]\n",
    "print(num)"
   ]
  },
  {
   "cell_type": "code",
   "execution_count": 613,
   "id": "0edf85c0-8ab5-4335-b48f-2a3c9598234a",
   "metadata": {},
   "outputs": [
    {
     "data": {
      "text/plain": [
       "['O', 'U', 'A', 'a', 'a', 'o', 'e', 'i', 'E', 'I', 'u']"
      ]
     },
     "execution_count": 613,
     "metadata": {},
     "output_type": "execute_result"
    }
   ],
   "source": [
    "sen='4O3U5dfdsfdsfgAsaaojkeiEIu'\n",
    "vom=[i for i in sen if i in 'AEIOUaeiou']\n",
    "vom"
   ]
  },
  {
   "cell_type": "code",
   "execution_count": 615,
   "id": "b8771817-62f7-43e8-b596-7c0c20b0b464",
   "metadata": {},
   "outputs": [
    {
     "data": {
      "text/plain": [
       "['green', 'orange', 'yellow']"
      ]
     },
     "execution_count": 615,
     "metadata": {},
     "output_type": "execute_result"
    }
   ],
   "source": [
    "colors=['red','green','blue','orange','yellow']\n",
    "col=[color for color in colors if len(color)>4]\n",
    "col"
   ]
  },
  {
   "cell_type": "markdown",
   "id": "c61966be-fab5-4e5b-9dd9-c115a4f51724",
   "metadata": {},
   "source": [
    "**Extra Hands On**"
   ]
  },
  {
   "cell_type": "markdown",
   "id": "953bf27f-2e80-4b1d-afb8-2407bd2502e5",
   "metadata": {},
   "source": [
    "- List comprehension is a very powerful alternative used to create data in a list / append a list\n",
    "- Merger between list and for loop is called list comprehension"
   ]
  },
  {
   "cell_type": "code",
   "execution_count": 637,
   "id": "ba877936-eba7-49c8-803e-60ac7b166ad3",
   "metadata": {},
   "outputs": [],
   "source": [
    "value = [x for x in range(1,6)]"
   ]
  },
  {
   "cell_type": "code",
   "execution_count": 639,
   "id": "764ed675-0aad-4f07-a626-7bc31b03ef35",
   "metadata": {},
   "outputs": [
    {
     "data": {
      "text/plain": [
       "[1, 2, 3, 4, 5]"
      ]
     },
     "execution_count": 639,
     "metadata": {},
     "output_type": "execute_result"
    }
   ],
   "source": [
    "value"
   ]
  },
  {
   "cell_type": "markdown",
   "id": "2f979fbc-09af-42ae-8d67-1e9827bfad9b",
   "metadata": {},
   "source": [
    "- it is basically creating a list\n",
    "- x is value, what is going to get appended"
   ]
  },
  {
   "cell_type": "code",
   "execution_count": 642,
   "id": "0bab8530-552d-4b7a-ac32-262428cffbbf",
   "metadata": {},
   "outputs": [],
   "source": [
    "power = [x**2 for x in range(1,6)]"
   ]
  },
  {
   "cell_type": "code",
   "execution_count": 644,
   "id": "c8345a6e-bb05-44db-9cf9-3ecb2d2b883f",
   "metadata": {},
   "outputs": [
    {
     "data": {
      "text/plain": [
       "[1, 4, 9, 16, 25]"
      ]
     },
     "execution_count": 644,
     "metadata": {},
     "output_type": "execute_result"
    }
   ],
   "source": [
    "power"
   ]
  },
  {
   "cell_type": "code",
   "execution_count": 654,
   "id": "68f7033c-f522-4538-9464-b260aba0eb11",
   "metadata": {},
   "outputs": [],
   "source": [
    "#exercise\n",
    "cities=['Mumbai', 'Jaipur', 'Bangalore','Pune','Delhi;']"
   ]
  },
  {
   "cell_type": "code",
   "execution_count": 658,
   "id": "6ee4086d-adcc-4c5b-9541-adb8947c630c",
   "metadata": {},
   "outputs": [
    {
     "name": "stdout",
     "output_type": "stream",
     "text": [
      "['MUMBAI', 'JAIPUR', 'BANGALORE', 'PUNE', 'DELHI;']\n"
     ]
    }
   ],
   "source": [
    "c=[]\n",
    "for city in cities:\n",
    "    c.append(city.upper())\n",
    "print(c)"
   ]
  },
  {
   "cell_type": "code",
   "execution_count": 662,
   "id": "562d3781-2388-4fb7-9162-2dde74a7faac",
   "metadata": {},
   "outputs": [
    {
     "data": {
      "text/plain": [
       "['MUMBAI', 'JAIPUR', 'BANGALORE', 'PUNE', 'DELHI;']"
      ]
     },
     "execution_count": 662,
     "metadata": {},
     "output_type": "execute_result"
    }
   ],
   "source": [
    "c=[city.upper() for city in cities]\n",
    "c"
   ]
  },
  {
   "cell_type": "markdown",
   "id": "0d0f6374-b594-4358-a7ba-201c8aa006b4",
   "metadata": {},
   "source": [
    "We don't have tuple comprehension as it does not allow to append"
   ]
  },
  {
   "cell_type": "code",
   "execution_count": 667,
   "id": "7e389110-b06e-4135-93b3-b7bd2f09e7ba",
   "metadata": {},
   "outputs": [
    {
     "data": {
      "text/plain": [
       "<generator object <genexpr> at 0x0000025E7EAF2670>"
      ]
     },
     "execution_count": 667,
     "metadata": {},
     "output_type": "execute_result"
    }
   ],
   "source": [
    "(i**2 for i in range(1,6))"
   ]
  },
  {
   "cell_type": "code",
   "execution_count": 669,
   "id": "f7c7c46f-aea2-45a9-a4ee-59b37838b834",
   "metadata": {},
   "outputs": [
    {
     "data": {
      "text/plain": [
       "(1, 4, 9, 16, 25)"
      ]
     },
     "execution_count": 669,
     "metadata": {},
     "output_type": "execute_result"
    }
   ],
   "source": [
    "tuple((i**2 for i in range(1,6)))"
   ]
  },
  {
   "cell_type": "code",
   "execution_count": 671,
   "id": "74d93c5d-50fc-442e-9fc5-aa964988597d",
   "metadata": {},
   "outputs": [],
   "source": [
    "data=[10,22,32,41,66,56,88,77,53,56,97,54,31]"
   ]
  },
  {
   "cell_type": "code",
   "execution_count": 673,
   "id": "fb218557-abdb-4c73-8459-815f22217885",
   "metadata": {},
   "outputs": [
    {
     "data": {
      "text/plain": [
       "[10, 22, 32, 66, 56, 88, 56, 54]"
      ]
     },
     "execution_count": 673,
     "metadata": {},
     "output_type": "execute_result"
    }
   ],
   "source": [
    "[x for x in data if x%2==0] #to get even"
   ]
  },
  {
   "cell_type": "code",
   "execution_count": 677,
   "id": "aed1b8ae-b9ea-45fe-8634-69e91443f88d",
   "metadata": {},
   "outputs": [
    {
     "data": {
      "text/plain": [
       "[41, 77, 53, 97, 31]"
      ]
     },
     "execution_count": 677,
     "metadata": {},
     "output_type": "execute_result"
    }
   ],
   "source": [
    "[x for x in data if x%2!=0] #to get odd"
   ]
  },
  {
   "cell_type": "code",
   "execution_count": 679,
   "id": "8a950a52-3e06-4dc4-b064-aa872df6c185",
   "metadata": {},
   "outputs": [
    {
     "data": {
      "text/plain": [
       "[22, 32, 66, 56, 88, 56, 54]"
      ]
     },
     "execution_count": 679,
     "metadata": {},
     "output_type": "execute_result"
    }
   ],
   "source": [
    "[x for x in data if x%2==0 and x>20]"
   ]
  },
  {
   "cell_type": "code",
   "execution_count": 681,
   "id": "e8e1c53c-5bdc-4a05-ae52-04a5bac08fa1",
   "metadata": {},
   "outputs": [
    {
     "data": {
      "text/plain": [
       "['Even',\n",
       " 'Even',\n",
       " 'Even',\n",
       " 'Odd',\n",
       " 'Even',\n",
       " 'Even',\n",
       " 'Even',\n",
       " 'Odd',\n",
       " 'Odd',\n",
       " 'Even',\n",
       " 'Odd',\n",
       " 'Even',\n",
       " 'Odd']"
      ]
     },
     "execution_count": 681,
     "metadata": {},
     "output_type": "execute_result"
    }
   ],
   "source": [
    "['Even' if x%2==0 else 'Odd' for x in data]"
   ]
  },
  {
   "cell_type": "code",
   "execution_count": 685,
   "id": "0181a041-ecfa-4ac0-9c04-c8e06417969f",
   "metadata": {},
   "outputs": [
    {
     "data": {
      "text/plain": [
       "[66, 54]"
      ]
     },
     "execution_count": 685,
     "metadata": {},
     "output_type": "execute_result"
    }
   ],
   "source": [
    "[x for x in data if x%3==0 and x%2==0]"
   ]
  },
  {
   "cell_type": "markdown",
   "id": "9850648d-b27d-434b-bb8d-a3ee059d0199",
   "metadata": {},
   "source": [
    "**Flattening a nested list**"
   ]
  },
  {
   "cell_type": "code",
   "execution_count": 1,
   "id": "da95ebf7-a35f-4f27-aa61-98156577f1bf",
   "metadata": {},
   "outputs": [],
   "source": [
    "nested_list = [[1, 2], [3, 4], [5, 6]]"
   ]
  },
  {
   "cell_type": "code",
   "execution_count": 3,
   "id": "0cb15834-ccdf-417d-9d72-3be116f236c4",
   "metadata": {},
   "outputs": [
    {
     "data": {
      "text/plain": [
       "[1, 2, 3, 4, 5, 6]"
      ]
     },
     "execution_count": 3,
     "metadata": {},
     "output_type": "execute_result"
    }
   ],
   "source": [
    "[item for sublist in nested_list for item in sublist]"
   ]
  },
  {
   "cell_type": "markdown",
   "id": "7296c7c4-8a4a-414d-a26c-ef5bf2e69946",
   "metadata": {},
   "source": [
    "**Examples**"
   ]
  },
  {
   "cell_type": "markdown",
   "id": "b5035610-a767-4980-b1ee-f35010b72679",
   "metadata": {},
   "source": [
    "1. Filtering Even Numbers from a List"
   ]
  },
  {
   "cell_type": "code",
   "execution_count": 9,
   "id": "7d56af7f-f1c2-459e-bb55-bff0ed63c830",
   "metadata": {},
   "outputs": [
    {
     "name": "stdout",
     "output_type": "stream",
     "text": [
      "[2, 4, 6, 8, 10]\n"
     ]
    }
   ],
   "source": [
    "numbers = [1, 2, 3, 4, 5, 6, 7, 8, 9, 10]\n",
    "even_numbers = [x for x in numbers if x % 2 == 0]\n",
    "print(even_numbers)"
   ]
  },
  {
   "cell_type": "markdown",
   "id": "a436aa3c-f470-4103-bc26-67ad421e8a9e",
   "metadata": {},
   "source": [
    "2. Creating a List of Squares"
   ]
  },
  {
   "cell_type": "code",
   "execution_count": 14,
   "id": "fe1ad05e-07bb-4508-9c95-fa54b23b541f",
   "metadata": {},
   "outputs": [
    {
     "name": "stdout",
     "output_type": "stream",
     "text": [
      "[1, 4, 9, 16, 25]\n"
     ]
    }
   ],
   "source": [
    "numbers = [1, 2, 3, 4, 5]\n",
    "squares = [x**2 for x in numbers]\n",
    "print(squares)"
   ]
  },
  {
   "cell_type": "markdown",
   "id": "6e924a67-2133-47d7-9d2d-e83dbef48453",
   "metadata": {},
   "source": [
    "3. Converting All Strings to Lowercase"
   ]
  },
  {
   "cell_type": "code",
   "execution_count": 17,
   "id": "d4906712-c8b5-4825-9fa3-1683c38d1e9f",
   "metadata": {},
   "outputs": [
    {
     "name": "stdout",
     "output_type": "stream",
     "text": [
      "['alice', 'bob', 'charlie']\n"
     ]
    }
   ],
   "source": [
    "names = ['Alice', 'BOB', 'ChArLiE']\n",
    "lowercase_names = [name.lower() for name in names]\n",
    "print(lowercase_names) "
   ]
  },
  {
   "cell_type": "markdown",
   "id": "1c2a7de9-e4e0-4930-816d-6e0274d51d18",
   "metadata": {},
   "source": [
    "4. Flattening a Nested List"
   ]
  },
  {
   "cell_type": "code",
   "execution_count": 20,
   "id": "b912e42a-b97a-4485-b92c-32f83f455786",
   "metadata": {},
   "outputs": [
    {
     "name": "stdout",
     "output_type": "stream",
     "text": [
      "[1, 2, 3, 4, 5, 6]\n"
     ]
    }
   ],
   "source": [
    "nested_list = [[1, 2], [3, 4], [5, 6]]\n",
    "flat_list = [item for sublist in nested_list for item in sublist]\n",
    "print(flat_list) "
   ]
  },
  {
   "cell_type": "markdown",
   "id": "44488c75-3870-47bb-9dd1-eef30fe40492",
   "metadata": {},
   "source": [
    "5. Creating a List of Tuples (Combinations)"
   ]
  },
  {
   "cell_type": "code",
   "execution_count": 23,
   "id": "61664dca-634c-4e26-b073-97acc605de76",
   "metadata": {},
   "outputs": [
    {
     "name": "stdout",
     "output_type": "stream",
     "text": [
      "[('A', 1), ('A', 2), ('A', 3), ('B', 1), ('B', 2), ('B', 3), ('C', 1), ('C', 2), ('C', 3)]\n"
     ]
    }
   ],
   "source": [
    "list1 = ['A', 'B', 'C']\n",
    "list2 = [1, 2, 3]\n",
    "combinations = [(x, y) for x in list1 for y in list2]\n",
    "print(combinations)"
   ]
  },
  {
   "cell_type": "markdown",
   "id": "7c8fc48a-ee6f-45af-a1b1-1efef5a6217b",
   "metadata": {},
   "source": [
    "6. Conditional Value Assignment"
   ]
  },
  {
   "cell_type": "code",
   "execution_count": 26,
   "id": "fdc49b04-165b-4e8b-8696-028262779ef5",
   "metadata": {},
   "outputs": [
    {
     "name": "stdout",
     "output_type": "stream",
     "text": [
      "['Pass', 'Pass', 'Fail', 'Pass', 'Pass']\n"
     ]
    }
   ],
   "source": [
    "scores = [65, 85, 42, 77, 90]\n",
    "results = [\"Pass\" if score >= 50 else \"Fail\" for score in scores]\n",
    "print(results)"
   ]
  },
  {
   "cell_type": "markdown",
   "id": "0017c514-ca03-49f9-91d7-c14448658a3a",
   "metadata": {},
   "source": [
    "7. Extracting the First Letter from Each Word"
   ]
  },
  {
   "cell_type": "code",
   "execution_count": 29,
   "id": "c5d8091c-942b-4dc1-aeed-95e7265e75b4",
   "metadata": {},
   "outputs": [
    {
     "name": "stdout",
     "output_type": "stream",
     "text": [
      "['a', 'b', 'c', 'd']\n"
     ]
    }
   ],
   "source": [
    "words = ['apple', 'banana', 'cherry', 'date']\n",
    "first_letters = [word[0] for word in words]\n",
    "print(first_letters)"
   ]
  },
  {
   "cell_type": "markdown",
   "id": "6646edf8-8e9a-4748-8204-901ccc70287f",
   "metadata": {},
   "source": [
    "8. Removing Vowels from a String"
   ]
  },
  {
   "cell_type": "code",
   "execution_count": 32,
   "id": "a7c341d2-e252-45c3-9ed9-1fa92bee1e3a",
   "metadata": {},
   "outputs": [
    {
     "name": "stdout",
     "output_type": "stream",
     "text": [
      "Hll Wrld\n"
     ]
    }
   ],
   "source": [
    "string = \"Hello World\"\n",
    "no_vowels = ''.join([char for char in string if char.lower() not in 'aeiou'])\n",
    "print(no_vowels)"
   ]
  },
  {
   "cell_type": "markdown",
   "id": "db9b2ee5-9eff-4a4c-85c4-ddd03731b6f8",
   "metadata": {},
   "source": [
    "9. List of Factorials"
   ]
  },
  {
   "cell_type": "code",
   "execution_count": 44,
   "id": "860cc2da-82e8-4ef0-a16e-e0e852cf8db8",
   "metadata": {},
   "outputs": [
    {
     "name": "stdout",
     "output_type": "stream",
     "text": [
      "[1, 2, 6, 24, 120]\n"
     ]
    }
   ],
   "source": [
    "import math\n",
    "numbers = range(1, 6)\n",
    "factorials = [math.factorial(x) for x in numbers]\n",
    "print(factorials)"
   ]
  },
  {
   "cell_type": "markdown",
   "id": "6c045aaa-94f1-4d3c-9a17-0dbd59711413",
   "metadata": {},
   "source": [
    "10. Reversing Each Word in a Sentence"
   ]
  },
  {
   "cell_type": "code",
   "execution_count": 48,
   "id": "1e1bc928-c374-4752-af98-6c652e942982",
   "metadata": {},
   "outputs": [
    {
     "name": "stdout",
     "output_type": "stream",
     "text": [
      "['ataD', 'ecneicS', 'si', 'gnizama']\n"
     ]
    }
   ],
   "source": [
    "sentence = \"Data Science is amazing\"\n",
    "reversed_words = [word[::-1] for word in sentence.split()]\n",
    "print(reversed_words)"
   ]
  },
  {
   "cell_type": "code",
   "execution_count": null,
   "id": "a7d3f930-172f-4dcb-9e47-c2605e09c436",
   "metadata": {},
   "outputs": [],
   "source": []
  }
 ],
 "metadata": {
  "kernelspec": {
   "display_name": "Python 3 (ipykernel)",
   "language": "python",
   "name": "python3"
  },
  "language_info": {
   "codemirror_mode": {
    "name": "ipython",
    "version": 3
   },
   "file_extension": ".py",
   "mimetype": "text/x-python",
   "name": "python",
   "nbconvert_exporter": "python",
   "pygments_lexer": "ipython3",
   "version": "3.12.4"
  }
 },
 "nbformat": 4,
 "nbformat_minor": 5
}
