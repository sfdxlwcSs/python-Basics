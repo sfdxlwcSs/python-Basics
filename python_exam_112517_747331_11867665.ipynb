{
 "cells": [
  {
   "cell_type": "markdown",
   "metadata": {
    "id": "7bFX4eN0o9Ma"
   },
   "source": [
    "<span style=\"font-family: Arial; font-weight:bold;font-size:1em;color:#f0f0f0;\">           \n",
    "    <span style=\"font-family: Arial; font-weight:bold;font-size:3em;color:#0a7a78;\">             Python for Data Science \n",
    "       -- Graded Assessment "
   ]
  },
  {
   "cell_type": "markdown",
   "metadata": {
    "id": "hEaO0m08o9Mh"
   },
   "source": [
    "   <span style=\"font-family: Arial; font-weight:bold;font-size:1.5em;color:#0a7a78;\">Time:3hrs                                                                                            &emsp;$\\;\\;\\;\\;\\;\\;$$\\;\\;\\;\\;\\;\\;$$\\;\\;\\;\\;\\;\\;$$\\;\\;\\;\\;\\;\\;$$\\;\\;\\;\\;\\;\\;$$\\;\\;\\;\\;\\;\\;$$\\;\\;\\;\\;\\;\\;$$\\;\\;\\;\\;\\;\\;$$\\;\\;\\;\\;\\;\\;$$\\;\\;\\;\\;\\;\\;$$\\;\\;\\;\\;\\;\\;$ $\\;\\;\\;\\;\\;\\;$$\\;\\;\\;\\;\\;\\;$$\\;\\;\\;\\;\\;\\;$Total Marks:  40 "
   ]
  },
  {
   "cell_type": "markdown",
   "metadata": {
    "id": "tbVOYseII9dY"
   },
   "source": [
    "<span style=\"font-family: Arial; font-weight:bold;font-size:1.5em;color:#0a7a78;\"> Section -A"
   ]
  },
  {
   "cell_type": "markdown",
   "metadata": {
    "id": "Y8qJbCgpI9dZ"
   },
   "source": [
    "<span style=\"font-family: Arial; font-weight:bold;font-size:1.5em;color:#0a7a78;\">1. (A) Write python program to reverse a given string using slicing.(1 mark)"
   ]
  },
  {
   "cell_type": "markdown",
   "metadata": {
    "id": "REFkXvh_I9da"
   },
   "source": [
    "**Sample:**     \n",
    "\n",
    "             INPUT:'Welcome'\n",
    "\n",
    "             OUTPUT:'emocleW'"
   ]
  },
  {
   "cell_type": "code",
   "execution_count": 1,
   "metadata": {},
   "outputs": [
    {
     "name": "stdout",
     "output_type": "stream",
     "text": [
      "Enter a String-Welcome\n",
      "emocleW\n"
     ]
    }
   ],
   "source": [
    "data=input('Enter a String-')\n",
    "revData=data[::-1]\n",
    "print(revData)"
   ]
  },
  {
   "cell_type": "markdown",
   "metadata": {
    "id": "EMIYohXhI9di"
   },
   "source": [
    "<span style=\"font-family: Arial; font-weight:bold;font-size:1.5em;color:#0a7a78;\">1. B) Write a python program to find the sum of the Series: 1 + 1/2 + 1/3 + ….. + 1/N.          (2 marks)"
   ]
  },
  {
   "cell_type": "markdown",
   "metadata": {
    "id": "0iYrPCoHI9dk"
   },
   "source": [
    "#### Python Code:\n"
   ]
  },
  {
   "cell_type": "code",
   "execution_count": 2,
   "metadata": {
    "id": "EwqXRPP3I9dk",
    "outputId": "98b375aa-fa5f-4b4a-fa12-b96e35bf5f06"
   },
   "outputs": [
    {
     "name": "stdout",
     "output_type": "stream",
     "text": [
      "Enter a range-3\n"
     ]
    },
    {
     "data": {
      "text/plain": [
       "1.8333333333333333"
      ]
     },
     "execution_count": 2,
     "metadata": {},
     "output_type": "execute_result"
    }
   ],
   "source": [
    "n=int(input('Enter a range-'))\n",
    "sumofNum=sum([1/x for x in range(1,(1+n)) ])\n",
    "sumofNum"
   ]
  },
  {
   "cell_type": "markdown",
   "metadata": {
    "id": "MlSk-3uaI9dn"
   },
   "source": [
    "<span style=\"font-family: Arial; font-weight:bold;font-size:1.5em;color:#0a7a78;\">1. C)Write a program to divide 5 by 2 so that the output is \t\t(2 mark)\n",
    "\n",
    "\ta) 2\n",
    "\n",
    "\tb) 2.5\n"
   ]
  },
  {
   "cell_type": "code",
   "execution_count": 3,
   "metadata": {
    "id": "kFc4bY9TI9dn",
    "outputId": "b372056e-b32b-4cd9-8482-55332e3be0f8"
   },
   "outputs": [
    {
     "name": "stdout",
     "output_type": "stream",
     "text": [
      "2.5\n",
      "2\n"
     ]
    }
   ],
   "source": [
    "n1=5\n",
    "n2=2\n",
    "op1=n1/n2\n",
    "print(op1)\n",
    "op2=round(n1/n2)\n",
    "print(op2)"
   ]
  },
  {
   "cell_type": "markdown",
   "metadata": {
    "id": "TFZhLpFjI9dq"
   },
   "source": [
    "<span style=\"font-family: Arial; font-weight:bold;font-size:1.5em;color:#0a7a78;\">2. A) Write a program to print the following number pattern.( 3 marks)\n",
    "  ##  1 \n",
    "  ##  1 2 \n",
    "  ##  1 2 3 \n",
    "  ##  1 2 3 4 \n",
    "  ##  1 2 3 4 5\n"
   ]
  },
  {
   "cell_type": "code",
   "execution_count": 4,
   "metadata": {
    "id": "zWLgMZmCI9dq",
    "outputId": "9170223c-e5b6-4bd6-e1f1-cdbbac45db16"
   },
   "outputs": [
    {
     "name": "stdout",
     "output_type": "stream",
     "text": [
      "Enter a range-5\n",
      "1\n",
      "1 2\n",
      "1 2 3\n",
      "1 2 3 4\n",
      "1 2 3 4 5\n"
     ]
    }
   ],
   "source": [
    "n=int(input('Enter a range-'))\n",
    "def printPattern(n):\n",
    "    for i in range(1,(n+1)):\n",
    "        print(' '.join(str(num) for num in range(1,i+1)))\n",
    "\n",
    "printPattern(n)\n"
   ]
  },
  {
   "cell_type": "markdown",
   "metadata": {
    "id": "J4f2bBJrI9dv"
   },
   "source": [
    "<span style=\"font-family: Arial; font-weight:bold;font-size:1.5em;color:#0a7a78;\"> 2. B) Write a python program to print all letters except 'e' and 'l' in the string 'greatlearning' using while loop. (2 marks)"
   ]
  },
  {
   "cell_type": "code",
   "execution_count": 9,
   "metadata": {
    "id": "Rh2bA7m0I9dw",
    "outputId": "e0b4517d-b362-4d6f-cbdf-fa74edc37c7f"
   },
   "outputs": [
    {
     "name": "stdout",
     "output_type": "stream",
     "text": [
      "result gratarning\n"
     ]
    }
   ],
   "source": [
    "inp='greatlearning'\n",
    "\n",
    "out=''\n",
    "i=0\n",
    "while i< len(inp):\n",
    "    if (inp[i]!='e' and inp[i]!='l'):\n",
    "        out+=inp[i]\n",
    "    i=i+1\n",
    "    \n",
    "print('result',out)\n",
    "\n",
    "    "
   ]
  },
  {
   "cell_type": "markdown",
   "metadata": {
    "id": "sK7fBj9lI9d0"
   },
   "source": [
    "<span style=\"font-family: Arial; font-weight:bold;font-size:1.5em;color:#0a7a78;\"> 3. (A) Given two lists of integers, create a third list by user defined function such that it should contain only odd numbers from the first list and even numbers from the second list? \t\t\t\t\t\t\t\t(3 marks)\n",
    "\n",
    "\t* list1 = [10, 20, 23, 11, 17]\n",
    "\t* list2 = [13, 43, 24, 36, 12]\n",
    "    \n",
    "Sample Output:\n",
    "\n",
    "Merged List :\n",
    "[23, 11, 17, 24, 36, 12]\n",
    "\n"
   ]
  },
  {
   "cell_type": "code",
   "execution_count": 19,
   "metadata": {
    "id": "xrVw2oXzI9d1",
    "outputId": "4d86b42f-36bc-49e8-e6b4-9004e7a68ca1"
   },
   "outputs": [
    {
     "data": {
      "text/plain": [
       "[23, 11, 17, 24, 36, 12]"
      ]
     },
     "execution_count": 19,
     "metadata": {},
     "output_type": "execute_result"
    }
   ],
   "source": [
    "combinedList=[]\n",
    "def oddEven(list1,list2):\n",
    "    combinedList=[x for x in list1 if x%2!=0] + [y for y in list2  if y%2==0]\n",
    "    return combinedList\n",
    "\n",
    "list1 = [10, 20, 23, 11, 17]\n",
    "list2 = [13, 43, 24, 36, 12]\n",
    "\n",
    "mergedList=oddEven(list1,list2)\n",
    "mergedList\n",
    "    "
   ]
  },
  {
   "cell_type": "markdown",
   "metadata": {
    "id": "ecmvzWp-o9NH"
   },
   "source": [
    "<span style=\"font-family: Arial; font-weight:bold;font-size:1.5em;color:#0a7a78;\">3. B) Create a dictionary with the keys 1,2 and 3 with values 'Learning', 'For' and {A: Life, B:To , C: Great} respectively and update the value of 2 to 'Great Learning'. (2 marks)\n"
   ]
  },
  {
   "cell_type": "code",
   "execution_count": 35,
   "metadata": {
    "id": "8OwGbJM_I9d7",
    "outputId": "8e52e0c2-ca1e-4c66-e1f1-9371c09686b3"
   },
   "outputs": [
    {
     "name": "stdout",
     "output_type": "stream",
     "text": [
      "dict_values(['Learning', 'For', {'A: Life, B:To , C: Great'}])\n"
     ]
    }
   ],
   "source": [
    "inputDic={'1':'Learning' ,'2':'For','3':{'A: Life, B:To , C: Great'} }\n",
    "print(inputDic.values())\n",
    "\n"
   ]
  },
  {
   "cell_type": "code",
   "execution_count": 36,
   "metadata": {
    "id": "w0qimsYCI9eB",
    "outputId": "ee3ff90c-64f8-4c5a-b262-03a94cb7f669"
   },
   "outputs": [],
   "source": [
    "inputDic['2']='Great Learning'"
   ]
  },
  {
   "cell_type": "code",
   "execution_count": 37,
   "metadata": {
    "id": "loZoKWHaJgna"
   },
   "outputs": [
    {
     "name": "stdout",
     "output_type": "stream",
     "text": [
      "🚀Output dict_values(['Learning', 'Great Learning', {'A: Life, B:To , C: Great'}])\n"
     ]
    }
   ],
   "source": [
    "print('🚀Output',inputDic.values())"
   ]
  },
  {
   "cell_type": "markdown",
   "metadata": {
    "id": "QRqXT1rAI9eH"
   },
   "source": [
    "<span style=\"font-family: Arial; font-weight:bold;font-size:1.5em;color:#0a7a78;\">4. (A) Create a scientific calculator using user defined function in python. The calculator should give a menu to the user asking the type of mathematical operation to be performed (1. Addition  2. Subtraction 3. Mulitiplication and 4. Division.  According to the choice of the user, operations are performed on the numbers entered. Any innovation in this basic calculator model will be given marks. \t\t(3 marks)\n",
    "\n",
    "SAMPLE INPUT:\n",
    "SCIENTIFIC CALCULATOR\n",
    "1.\tADDITION \t2. SUBTRATION\t3. MULTIPLICATION\t4. DIVISION\n",
    "Please select an option of your choice4\n",
    "Enter the first number23\n",
    "Enter the second number56\n",
    "SAMPLE OUTPUT:\n",
    "The division of the first number with the second number is 0.4107142857142857\n"
   ]
  },
  {
   "cell_type": "code",
   "execution_count": 1,
   "metadata": {
    "id": "4f3VC4brI9eI",
    "outputId": "16403b9e-7b51-4035-bfad-f9494d1c6966"
   },
   "outputs": [
    {
     "name": "stdout",
     "output_type": "stream",
     "text": [
      "Below are the available Operation🧮🧮\n",
      "Operations ['Press 1  Addition', 'Press 2  Subtraction', 'Press 3  Mulitiplication', 'Press 4  Division']\n",
      "Please select an option of your choice.\n",
      "The multiplication of the first number with the second number is  16\n"
     ]
    }
   ],
   "source": [
    "\n",
    "def customCalculator():\n",
    "    operations=['Press 1  Addition','Press 2  Subtraction','Press 3  Mulitiplication','Press 4  Division']\n",
    "    print('Below are the available Operation🧮🧮')\n",
    "    print('Operations',operations)\n",
    "    print('Please select an option of your choice.')\n",
    "    userInput=int(input('mathematical operation to be performed'))\n",
    "    n1=int(input('Enter the first number'))\n",
    "    n2=int(input('Enter the second number'))\n",
    "    if userInput==1:\n",
    "         return print('The addition of the first number with the second number is ',n1+n2)\n",
    "    elif userInput==2:\n",
    "         return print('The substraction of the first number with the second number is ',n1-n2)\n",
    "    elif userInput==3:\n",
    "         return print('The multiplication of the first number with the second number is ',n1*n2)    \n",
    "    elif userInput==4:\n",
    "         return print('The division of the first number with the second number is ',n1/n2)\n",
    "    else:\n",
    "         return print('Not a valid operation')\n",
    "\n",
    "\n",
    "\n",
    "customCalculator()\n",
    "    \n"
   ]
  },
  {
   "cell_type": "markdown",
   "metadata": {
    "id": "RzwOCKspI9eE"
   },
   "source": [
    "<span style=\"font-family: Arial; font-weight:bold;font-size:1.5em;color:#0a7a78;\">4. B) Write a program to print the sum of squares of first 10 natural numbers using lambda, map and reduce.(2 marks)\n",
    "\n"
   ]
  },
  {
   "cell_type": "code",
   "execution_count": 54,
   "metadata": {
    "id": "8_ggZtm0I9eE",
    "outputId": "644ae855-7252-47d3-acc1-296ccb24b0ae"
   },
   "outputs": [
    {
     "name": "stdout",
     "output_type": "stream",
     "text": [
      "[1, 2, 3, 4, 5, 6, 7, 8, 9, 10]\n"
     ]
    },
    {
     "data": {
      "text/plain": [
       "385"
      ]
     },
     "execution_count": 54,
     "metadata": {},
     "output_type": "execute_result"
    }
   ],
   "source": [
    "numbers=list(range(1,11))\n",
    "print(numbers)\n",
    "squaresOfNumber=list(map(lambda x:x**2,numbers))\n",
    "from functools import reduce\n",
    "result=reduce(lambda x,y:x+y,squaresOfNumber)\n",
    "result"
   ]
  },
  {
   "cell_type": "markdown",
   "metadata": {
    "id": "7lvi7llrI9eK"
   },
   "source": [
    "<span style=\"font-family: Arial; font-weight:bold;font-size:1.5em;color:#0a7a78;\"> Section -B"
   ]
  },
  {
   "cell_type": "code",
   "execution_count": null,
   "metadata": {
    "id": "8gPGpCv-3Nzs"
   },
   "outputs": [],
   "source": [
    "import numpy as np \n",
    "import pandas as pd\n",
    "%matplotlib inline\n",
    "import matplotlib.pyplot as plt\n",
    "import math\n",
    "import seaborn as sns"
   ]
  },
  {
   "cell_type": "markdown",
   "metadata": {
    "id": "UNkViNblI9eN"
   },
   "source": [
    "###     5.   Do the following:  (5 Marks)\n",
    "        (i)  Create an array of 12 random integers using step size of 1.\n",
    "        (ii) Use the array created above to increase all the elements in the array by 1.\n",
    "        (iii)Sort the elements in the array using in-built function.\n",
    "        (iv) Reshape the array to 3 rows and 4 columns.\n",
    "        (v)  Display the element in the 2nd row 3rd column."
   ]
  },
  {
   "cell_type": "code",
   "execution_count": 71,
   "metadata": {
    "id": "UX6Gz085I9eO",
    "outputId": "0d4b4f7f-58b9-480f-9dfc-f1133a9bfa15"
   },
   "outputs": [
    {
     "data": {
      "application/javascript": "\n        if (window._pyforest_update_imports_cell) { window._pyforest_update_imports_cell('import numpy as np'); }\n    ",
      "text/plain": [
       "<IPython.core.display.Javascript object>"
      ]
     },
     "metadata": {},
     "output_type": "display_data"
    },
    {
     "data": {
      "text/plain": [
       "array([ 1, 11,  3,  1,  8,  0,  0,  4,  0,  4,  3,  3])"
      ]
     },
     "execution_count": 71,
     "metadata": {},
     "output_type": "execute_result"
    }
   ],
   "source": [
    "randomArr=np.random.randint(0,12,size=12)\n",
    "randomArr\n"
   ]
  },
  {
   "cell_type": "code",
   "execution_count": 72,
   "metadata": {
    "id": "1jCAcSt6I9eR"
   },
   "outputs": [
    {
     "data": {
      "text/plain": [
       "array([ 2, 12,  4,  2,  9,  1,  1,  5,  1,  5,  4,  4])"
      ]
     },
     "execution_count": 72,
     "metadata": {},
     "output_type": "execute_result"
    }
   ],
   "source": [
    "randomArrIncremented=randomArr+1\n",
    "randomArrIncremented\n"
   ]
  },
  {
   "cell_type": "code",
   "execution_count": 76,
   "metadata": {
    "id": "06Sqw46YI9eU",
    "outputId": "3a83d24e-cb15-4f54-8afe-acb5dd69418d"
   },
   "outputs": [
    {
     "data": {
      "application/javascript": "\n        if (window._pyforest_update_imports_cell) { window._pyforest_update_imports_cell('import numpy as np'); }\n    ",
      "text/plain": [
       "<IPython.core.display.Javascript object>"
      ]
     },
     "metadata": {},
     "output_type": "display_data"
    },
    {
     "name": "stdout",
     "output_type": "stream",
     "text": [
      "[ 1  1  1  2  2  4  4  4  5  5  9 12]\n",
      "[[ 1  1  1  2]\n",
      " [ 2  4  4  4]\n",
      " [ 5  5  9 12]]\n",
      "Display the element in the 2nd row 3rd column. 4\n"
     ]
    }
   ],
   "source": [
    "randomArrSorted=np.sort(randomArrIncremented)\n",
    "print(randomArrSorted)\n",
    "randomArrReshaped=randomArrSorted.reshape(3,4)\n",
    "print(randomArrReshaped)\n",
    "print('Display the element in the 2nd row 3rd column.',randomArrReshaped[1,2])\n"
   ]
  },
  {
   "cell_type": "markdown",
   "metadata": {
    "id": "MOuJBVKpI9eZ"
   },
   "source": [
    "#### <span style=\"font-family: Arial; font-weight:bold;font-size:1.5em;color:#0a7a78;\">6.) Use the following data for answering the question:<br>\n",
    "raw_data = {'Name': ['Carly','Rachel','Nicky','Wendy','Judith','Christin','Roy'],<br>\n",
    "'Birth_Month':['January','September','September','November','February','June','March'],<br>\n",
    "'Origin':['UK','Spain','Jamaica','Italy','France','UK','US'],<br>\n",
    "'Age':[27,28,28,22,19,20,19],<br>\n",
    "'Gender':['F','F','F','F','M','M','M']}"
   ]
  },
  {
   "cell_type": "markdown",
   "metadata": {
    "id": "3pC_UDL73Nz1"
   },
   "source": [
    "#### <span style=\"font-family: Arial; font-weight:bold;font-size:1.5em;color:#0a7a78;\"> 6.A) Create a data frame and assign it to a variable called the person. Don't forget to include the names of the columns in the order presented in the dictionary('Name', 'Birth_Month', 'Origin'...) and also keep 'Name' as index for dataframe   (2 marks)\n",
    "    \n"
   ]
  },
  {
   "cell_type": "code",
   "execution_count": 85,
   "metadata": {
    "colab": {
     "base_uri": "https://localhost:8080/",
     "height": 266
    },
    "id": "LJh-RvSc3Nz5",
    "outputId": "8ddba0d5-2019-482f-ceed-105358523912"
   },
   "outputs": [
    {
     "name": "stdout",
     "output_type": "stream",
     "text": [
      "['Carly', 'Rachel', 'Nicky', 'Wendy', 'Judith', 'Christin', 'Roy']\n"
     ]
    },
    {
     "data": {
      "application/javascript": "\n        if (window._pyforest_update_imports_cell) { window._pyforest_update_imports_cell('import pandas as pd\\nimport numpy as np'); }\n    ",
      "text/plain": [
       "<IPython.core.display.Javascript object>"
      ]
     },
     "metadata": {},
     "output_type": "display_data"
    },
    {
     "data": {
      "text/html": [
       "<div>\n",
       "<style scoped>\n",
       "    .dataframe tbody tr th:only-of-type {\n",
       "        vertical-align: middle;\n",
       "    }\n",
       "\n",
       "    .dataframe tbody tr th {\n",
       "        vertical-align: top;\n",
       "    }\n",
       "\n",
       "    .dataframe thead th {\n",
       "        text-align: right;\n",
       "    }\n",
       "</style>\n",
       "<table border=\"1\" class=\"dataframe\">\n",
       "  <thead>\n",
       "    <tr style=\"text-align: right;\">\n",
       "      <th></th>\n",
       "      <th>Name</th>\n",
       "      <th>Birth_Month</th>\n",
       "      <th>Origin</th>\n",
       "      <th>Age</th>\n",
       "      <th>Gender</th>\n",
       "    </tr>\n",
       "  </thead>\n",
       "  <tbody>\n",
       "    <tr>\n",
       "      <th>Carly</th>\n",
       "      <td>Carly</td>\n",
       "      <td>January</td>\n",
       "      <td>UK</td>\n",
       "      <td>27</td>\n",
       "      <td>F</td>\n",
       "    </tr>\n",
       "    <tr>\n",
       "      <th>Rachel</th>\n",
       "      <td>Rachel</td>\n",
       "      <td>September</td>\n",
       "      <td>Spain</td>\n",
       "      <td>28</td>\n",
       "      <td>F</td>\n",
       "    </tr>\n",
       "    <tr>\n",
       "      <th>Nicky</th>\n",
       "      <td>Nicky</td>\n",
       "      <td>September</td>\n",
       "      <td>Jamaica</td>\n",
       "      <td>28</td>\n",
       "      <td>F</td>\n",
       "    </tr>\n",
       "    <tr>\n",
       "      <th>Wendy</th>\n",
       "      <td>Wendy</td>\n",
       "      <td>November</td>\n",
       "      <td>Italy</td>\n",
       "      <td>22</td>\n",
       "      <td>F</td>\n",
       "    </tr>\n",
       "    <tr>\n",
       "      <th>Judith</th>\n",
       "      <td>Judith</td>\n",
       "      <td>February</td>\n",
       "      <td>France</td>\n",
       "      <td>19</td>\n",
       "      <td>M</td>\n",
       "    </tr>\n",
       "    <tr>\n",
       "      <th>Christin</th>\n",
       "      <td>Christin</td>\n",
       "      <td>June</td>\n",
       "      <td>UK</td>\n",
       "      <td>20</td>\n",
       "      <td>M</td>\n",
       "    </tr>\n",
       "    <tr>\n",
       "      <th>Roy</th>\n",
       "      <td>Roy</td>\n",
       "      <td>March</td>\n",
       "      <td>US</td>\n",
       "      <td>19</td>\n",
       "      <td>M</td>\n",
       "    </tr>\n",
       "  </tbody>\n",
       "</table>\n",
       "</div>"
      ],
      "text/plain": [
       "              Name Birth_Month   Origin  Age Gender\n",
       "Carly        Carly     January       UK   27      F\n",
       "Rachel      Rachel   September    Spain   28      F\n",
       "Nicky        Nicky   September  Jamaica   28      F\n",
       "Wendy        Wendy    November    Italy   22      F\n",
       "Judith      Judith    February   France   19      M\n",
       "Christin  Christin        June       UK   20      M\n",
       "Roy            Roy       March       US   19      M"
      ]
     },
     "execution_count": 85,
     "metadata": {},
     "output_type": "execute_result"
    }
   ],
   "source": [
    "raw_data = {'Name': ['Carly','Rachel','Nicky','Wendy','Judith','Christin','Roy'],\n",
    "'Birth_Month':['January','September','September','November','February','June','March'],\n",
    "'Origin':['UK','Spain','Jamaica','Italy','France','UK','US'],\n",
    "'Age':[27,28,28,22,19,20,19],\n",
    "'Gender':['F','F','F','F','M','M','M']}\n",
    "print(raw_data['Name'])\n",
    "person=pd.DataFrame(raw_data,columns=['Name','Birth_Month','Origin','Age','Gender'],index=raw_data['Name'])\n",
    "\n",
    "person"
   ]
  },
  {
   "cell_type": "markdown",
   "metadata": {
    "id": "rT9v5-YNI9ed"
   },
   "source": [
    "---------"
   ]
  },
  {
   "cell_type": "code",
   "execution_count": null,
   "metadata": {
    "colab": {
     "base_uri": "https://localhost:8080/",
     "height": 297
    },
    "id": "RhMPLNwW3Nz-",
    "outputId": "8cb41c76-d341-42b5-8660-a5353889e2e4"
   },
   "outputs": [],
   "source": []
  },
  {
   "cell_type": "markdown",
   "metadata": {
    "id": "1oN4toPe3N0B"
   },
   "source": [
    "<span style=\"font-family: Arial; font-weight:bold;font-size:1.5em;color:#0a7a78;\"> 6. B. Select and display the information of people born before September (1 mark)\n"
   ]
  },
  {
   "cell_type": "code",
   "execution_count": 92,
   "metadata": {
    "colab": {
     "base_uri": "https://localhost:8080/",
     "height": 204
    },
    "id": "xcxKpMST3N0C",
    "outputId": "3278fcec-be5e-4f77-ecba-3c224a5b0f1b"
   },
   "outputs": [
    {
     "data": {
      "text/html": [
       "<div>\n",
       "<style scoped>\n",
       "    .dataframe tbody tr th:only-of-type {\n",
       "        vertical-align: middle;\n",
       "    }\n",
       "\n",
       "    .dataframe tbody tr th {\n",
       "        vertical-align: top;\n",
       "    }\n",
       "\n",
       "    .dataframe thead th {\n",
       "        text-align: right;\n",
       "    }\n",
       "</style>\n",
       "<table border=\"1\" class=\"dataframe\">\n",
       "  <thead>\n",
       "    <tr style=\"text-align: right;\">\n",
       "      <th></th>\n",
       "      <th>Name</th>\n",
       "      <th>Birth_Month</th>\n",
       "      <th>Origin</th>\n",
       "      <th>Age</th>\n",
       "      <th>Gender</th>\n",
       "    </tr>\n",
       "  </thead>\n",
       "  <tbody>\n",
       "    <tr>\n",
       "      <th>Carly</th>\n",
       "      <td>Carly</td>\n",
       "      <td>January</td>\n",
       "      <td>UK</td>\n",
       "      <td>27</td>\n",
       "      <td>F</td>\n",
       "    </tr>\n",
       "    <tr>\n",
       "      <th>Judith</th>\n",
       "      <td>Judith</td>\n",
       "      <td>February</td>\n",
       "      <td>France</td>\n",
       "      <td>19</td>\n",
       "      <td>M</td>\n",
       "    </tr>\n",
       "    <tr>\n",
       "      <th>Christin</th>\n",
       "      <td>Christin</td>\n",
       "      <td>June</td>\n",
       "      <td>UK</td>\n",
       "      <td>20</td>\n",
       "      <td>M</td>\n",
       "    </tr>\n",
       "    <tr>\n",
       "      <th>Roy</th>\n",
       "      <td>Roy</td>\n",
       "      <td>March</td>\n",
       "      <td>US</td>\n",
       "      <td>19</td>\n",
       "      <td>M</td>\n",
       "    </tr>\n",
       "  </tbody>\n",
       "</table>\n",
       "</div>"
      ],
      "text/plain": [
       "              Name Birth_Month  Origin  Age Gender\n",
       "Carly        Carly     January      UK   27      F\n",
       "Judith      Judith    February  France   19      M\n",
       "Christin  Christin        June      UK   20      M\n",
       "Roy            Roy       March      US   19      M"
      ]
     },
     "execution_count": 92,
     "metadata": {},
     "output_type": "execute_result"
    }
   ],
   "source": [
    "include=['January','February','June','March']\n",
    "person[person['Birth_Month'].isin(include)]"
   ]
  },
  {
   "cell_type": "markdown",
   "metadata": {
    "id": "IFFfytqC3N0F"
   },
   "source": [
    "<span style=\"font-family: Arial; font-weight:bold;font-size:1.5em;color:#0a7a78;\"> 6.C. Display the records of people born in September and are in Age group 20 to 30 (Both numbers are included) (2 mark)"
   ]
  },
  {
   "cell_type": "code",
   "execution_count": 94,
   "metadata": {
    "colab": {
     "base_uri": "https://localhost:8080/",
     "height": 142
    },
    "id": "0CDzb1XB3N0G",
    "outputId": "258e883f-1f96-488f-d8e8-a676c97e0db4"
   },
   "outputs": [
    {
     "data": {
      "text/html": [
       "<div>\n",
       "<style scoped>\n",
       "    .dataframe tbody tr th:only-of-type {\n",
       "        vertical-align: middle;\n",
       "    }\n",
       "\n",
       "    .dataframe tbody tr th {\n",
       "        vertical-align: top;\n",
       "    }\n",
       "\n",
       "    .dataframe thead th {\n",
       "        text-align: right;\n",
       "    }\n",
       "</style>\n",
       "<table border=\"1\" class=\"dataframe\">\n",
       "  <thead>\n",
       "    <tr style=\"text-align: right;\">\n",
       "      <th></th>\n",
       "      <th>Name</th>\n",
       "      <th>Birth_Month</th>\n",
       "      <th>Origin</th>\n",
       "      <th>Age</th>\n",
       "      <th>Gender</th>\n",
       "    </tr>\n",
       "  </thead>\n",
       "  <tbody>\n",
       "    <tr>\n",
       "      <th>Rachel</th>\n",
       "      <td>Rachel</td>\n",
       "      <td>September</td>\n",
       "      <td>Spain</td>\n",
       "      <td>28</td>\n",
       "      <td>F</td>\n",
       "    </tr>\n",
       "    <tr>\n",
       "      <th>Nicky</th>\n",
       "      <td>Nicky</td>\n",
       "      <td>September</td>\n",
       "      <td>Jamaica</td>\n",
       "      <td>28</td>\n",
       "      <td>F</td>\n",
       "    </tr>\n",
       "  </tbody>\n",
       "</table>\n",
       "</div>"
      ],
      "text/plain": [
       "          Name Birth_Month   Origin  Age Gender\n",
       "Rachel  Rachel   September    Spain   28      F\n",
       "Nicky    Nicky   September  Jamaica   28      F"
      ]
     },
     "execution_count": 94,
     "metadata": {},
     "output_type": "execute_result"
    }
   ],
   "source": [
    "person[(person['Birth_Month']=='September') & (person['Age']>=20) & (person['Age']<=30)]"
   ]
  },
  {
   "cell_type": "markdown",
   "metadata": {
    "id": "eOFp3tmq3N0h"
   },
   "source": [
    "<span style=\"font-family: Arial; font-weight:bold;font-size:1.5em;color:#0a7a78;\"> 7.)Use the dataset Data.csv for the following questions."
   ]
  },
  {
   "cell_type": "code",
   "execution_count": null,
   "metadata": {
    "colab": {
     "base_uri": "https://localhost:8080/",
     "height": 391
    },
    "id": "zK_3SCye3N0i",
    "outputId": "5a3d3ed1-8d35-4c05-df60-64af60bda04b"
   },
   "outputs": [],
   "source": []
  },
  {
   "cell_type": "markdown",
   "metadata": {
    "id": "vlYBuCH0I9ep"
   },
   "source": [
    "<span style=\"font-family: Arial; font-weight:bold;font-size:1.5em;color:#0a7a78;\"> 7.A. Write a block of code to display the average annual income and average credit score for both males and females under each age group in tabular form.(3 Marks)"
   ]
  },
  {
   "cell_type": "code",
   "execution_count": 23,
   "metadata": {
    "colab": {
     "base_uri": "https://localhost:8080/",
     "height": 180
    },
    "id": "V0X50kaN3N0l",
    "outputId": "c83738e3-c4bd-4e13-b741-de6355b39843"
   },
   "outputs": [
    {
     "name": "stdout",
     "output_type": "stream",
     "text": [
      "  AgeGroup  Gender  AnnualIncome  CreditScore  Id          City  CityId  \\\n",
      "0    18-24    Male         30000          700   1      New York       1   \n",
      "1    18-24  Female         25000          680   2   Los Angeles       2   \n",
      "2    25-34    Male         40000          750   3       Chicago       3   \n",
      "3    25-34  Female         35000          720   4       Houston       4   \n",
      "4    35-44    Male         50000          800   5       Phoenix       5   \n",
      "5    35-44  Female         45000          780   6  Philadelphia       6   \n",
      "6    18-24    Male         28000          690   7   San Antonio       7   \n",
      "\n",
      "   Spending Score  \n",
      "0              75  \n",
      "1              80  \n",
      "2              85  \n",
      "3              90  \n",
      "4              95  \n",
      "5             100  \n",
      "6              70  \n",
      "                 AvgIncome  AvgCreditScore\n",
      "AgeGroup Gender                           \n",
      "18-24    Female    25000.0           680.0\n",
      "         Male      29000.0           695.0\n",
      "25-34    Female    35000.0           720.0\n",
      "         Male      40000.0           750.0\n",
      "35-44    Female    45000.0           780.0\n",
      "         Male      50000.0           800.0\n"
     ]
    }
   ],
   "source": [
    "import pandas as pd ## Exam dataset not available\n",
    "\n",
    "\n",
    "# Sample DataFrame\n",
    "data = {'AgeGroup': ['18-24', '18-24', '25-34', '25-34', '35-44', '35-44', '18-24'],\n",
    "        'Gender': ['Male', 'Female', 'Male', 'Female', 'Male', 'Female', 'Male'],\n",
    "        'AnnualIncome': [30000, 25000, 40000, 35000, 50000, 45000, 28000],\n",
    "        'CreditScore': [700, 680, 750, 720, 800, 780, 690],\n",
    "        'Id': [1, 2, 3, 4, 5, 6, 7],\n",
    "        'City': ['New York', 'Los Angeles', 'Chicago', 'Houston', 'Phoenix', 'Philadelphia', 'San Antonio'],\n",
    "        'CityId': [1, 2, 3, 4, 5, 6, 7],\n",
    "        'Spending Score': [75, 80, 85, 90, 95, 100, 70]\n",
    "        }\n",
    "df = pd.DataFrame(data)\n",
    "print(df)\n",
    "\n",
    "# Group by 'AgeGroup' and 'Gender', and calculate multiple aggregations\n",
    "grouped_df = df.groupby(['AgeGroup', 'Gender']).agg(\n",
    "    AvgIncome=('AnnualIncome', 'mean'),\n",
    "    AvgCreditScore=('CreditScore', 'mean')\n",
    ")\n",
    "\n",
    "print(grouped_df)\n"
   ]
  },
  {
   "cell_type": "markdown",
   "metadata": {
    "id": "fA-BvcoG3N0z"
   },
   "source": [
    "<span style=\"font-family: Arial; font-weight:bold;font-size:1.5em;color:#0a7a78;\">  7.B. Write a code snippet to display id, gender, age annual income, credit and spending score for all the customers who are residing in the cities with ids 1 and 5. (2 Marks) "
   ]
  },
  {
   "cell_type": "code",
   "execution_count": 31,
   "metadata": {
    "id": "KPUt5YfT3N00",
    "outputId": "8339ea09-0838-4709-d3e4-b54e0cf349d5"
   },
   "outputs": [
    {
     "name": "stdout",
     "output_type": "stream",
     "text": [
      "   Id Gender AgeGroup  AnnualIncome  CreditScore  Spending Score\n",
      "0   1   Male    18-24         30000          700              75\n",
      "4   5   Male    35-44         50000          800              95\n"
     ]
    }
   ],
   "source": [
    "import pandas as pd\n",
    "# Filter the DataFrame to include only customers residing in cities with Ids 1 and 5\n",
    "filtered_df = df[(df['CityId'] == 1) | (df['CityId'] == 5)] \n",
    "\n",
    "# Select the desired columns\n",
    "selected_columns = ['Id', 'Gender', 'AgeGroup', 'AnnualIncome', 'CreditScore', 'Spending Score']\n",
    "\n",
    "# Display the filtered and selected data\n",
    "print(filtered_df[selected_columns]) \n"
   ]
  },
  {
   "cell_type": "code",
   "execution_count": 32,
   "metadata": {},
   "outputs": [
    {
     "name": "stdout",
     "output_type": "stream",
     "text": [
      "   Id Gender AgeGroup  AnnualIncome  CreditScore  Spending Score\n",
      "0   1   Male    18-24         30000          700              75\n",
      "4   5   Male    35-44         50000          800              95\n"
     ]
    }
   ],
   "source": [
    "import pandas as pd\n",
    "\n",
    "# Create a Pandas DataFrame from the given data\n",
    "df = pd.DataFrame(data)\n",
    "\n",
    "# Filter the DataFrame to include only customers residing in cities with Ids 1 and 5\n",
    "filtered_df = df[df['CityId'].isin([1, 5])]\n",
    "\n",
    "# Select the desired columns using loc\n",
    "selected_df = filtered_df.loc[:, ['Id', 'Gender', 'AgeGroup', 'AnnualIncome', 'CreditScore', 'Spending Score']] \n",
    "\n",
    "# Display the filtered and selected data\n",
    "print(selected_df)"
   ]
  },
  {
   "cell_type": "markdown",
   "metadata": {
    "id": "9fyl2n5l3N03"
   },
   "source": [
    "<span style=\"font-family: Arial; font-weight:bold;font-size:1.5em;color:#0a7a78;\">8.A. Write a code to show the boxplot of CustomerGender against SpendingScore and wirte your inferences on the difference in gender. [use seaborn](3 marks)"
   ]
  },
  {
   "cell_type": "code",
   "execution_count": null,
   "metadata": {
    "id": "N15zSj-n3N04",
    "outputId": "ca7f5d42-d31d-40d0-852f-f773d7728086"
   },
   "outputs": [],
   "source": []
  },
  {
   "cell_type": "markdown",
   "metadata": {
    "id": "BExOw_nj3N1A"
   },
   "source": [
    "<span style=\"font-family: Arial; font-weight:bold;font-size:1.5em;color:#0a7a78;\">8. B. Plot the correlation heatmap of the dataset and write the inferences. (2 Marks)"
   ]
  },
  {
   "cell_type": "code",
   "execution_count": null,
   "metadata": {
    "id": "vZE-qSz73N1A",
    "outputId": "8ba23838-2d72-4446-b79d-8eaf2f5affdd"
   },
   "outputs": [],
   "source": []
  },
  {
   "cell_type": "code",
   "execution_count": null,
   "metadata": {
    "id": "XZT9QHHbI9fF"
   },
   "outputs": [],
   "source": []
  }
 ],
 "metadata": {
  "colab": {
   "collapsed_sections": [],
   "name": "Solutions_Python for Data Science - Assessment 1_FT Feb 20 (1).ipynb",
   "provenance": []
  },
  "kernelspec": {
   "display_name": "Python 3",
   "language": "python",
   "name": "python3"
  },
  "language_info": {
   "codemirror_mode": {
    "name": "ipython",
    "version": 3
   },
   "file_extension": ".py",
   "mimetype": "text/x-python",
   "name": "python",
   "nbconvert_exporter": "python",
   "pygments_lexer": "ipython3",
   "version": "3.12.6"
  }
 },
 "nbformat": 4,
 "nbformat_minor": 1
}
